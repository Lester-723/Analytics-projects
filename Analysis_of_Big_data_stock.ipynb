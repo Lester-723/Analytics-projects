{
 "cells": [
  {
   "cell_type": "code",
   "execution_count": 46,
   "metadata": {},
   "outputs": [],
   "source": [
    "import pandas as pd\n",
    "import gspread as gs\n",
    "import warnings\n",
    "import sys\n",
    "warnings.filterwarnings('ignore')"
   ]
  },
  {
   "cell_type": "code",
   "execution_count": 47,
   "metadata": {},
   "outputs": [],
   "source": [
    "gc = gs.service_account(filename=\"C:/Users/leste/OneDrive/Desktop/Python files/mypythonprogrammes/Mydatafiles/service_account.json\")"
   ]
  },
  {
   "cell_type": "code",
   "execution_count": 48,
   "metadata": {},
   "outputs": [],
   "source": [
    "google_spreadsheet = gc.open_by_url(\"https://docs.google.com/spreadsheets/d/1cM1pMxHZof65AeVIUJphyYZze3Ew0myrzqlmg9tvQdg/edit#gid=1044390699\")"
   ]
  },
  {
   "cell_type": "markdown",
   "metadata": {},
   "source": [
    "<font face = \"Times New Roman\" size = 5 color = \"orange\"> Creating DataFrames </font>"
   ]
  },
  {
   "cell_type": "code",
   "execution_count": 49,
   "metadata": {},
   "outputs": [
    {
     "data": {
      "text/plain": [
       "[<Worksheet 'AAPL' id:0>,\n",
       " <Worksheet 'MSFT' id:177394609>,\n",
       " <Worksheet 'GOOG' id:1261668908>,\n",
       " <Worksheet 'AMZN' id:1631741944>,\n",
       " <Worksheet 'TSLA' id:1799150376>,\n",
       " <Worksheet 'NVDA' id:669265052>,\n",
       " <Worksheet 'META' id:1044390699>]"
      ]
     },
     "execution_count": 49,
     "metadata": {},
     "output_type": "execute_result"
    }
   ],
   "source": [
    "token_ids = []\n",
    "def extract_sheets():\n",
    "    sheets = google_spreadsheet.worksheets()\n",
    "    for sheet in sheets:\n",
    "        token_ids.append(sheet)\n",
    "    return token_ids\n",
    "    \n",
    "extract_sheets()\n",
    "    "
   ]
  },
  {
   "cell_type": "code",
   "execution_count": 50,
   "metadata": {},
   "outputs": [],
   "source": [
    "df_dict = {}\n",
    "\n",
    "def declare_dataframes(tokens):\n",
    "    for i in token_ids:\n",
    "        df = pd.DataFrame(i.get_all_records())\n",
    "        df_dict.update({f\"{i.title}_stock\" : df})\n",
    "      \n",
    "        \n",
    "   \n",
    "declare_dataframes(token_ids)"
   ]
  },
  {
   "cell_type": "markdown",
   "metadata": {},
   "source": [
    "<font face = \"Times New Roman\" size = 5 color = \"yellow\">Parsing dates</font>"
   ]
  },
  {
   "cell_type": "code",
   "execution_count": 51,
   "metadata": {},
   "outputs": [],
   "source": [
    "\n",
    "\n",
    "def to_datetime(dataframes):\n",
    "    try:\n",
    "        \n",
    "        for data_frame in dataframes:\n",
    "            if len(df_dict) != len(token_ids):\n",
    "                sys.exit(\"The no. of google sheets does not match the count of dataframe objects\")\n",
    "            else:\n",
    "                data_frame.set_index(\"Date\",inplace = True)\n",
    "                data_frame.index = pd.to_datetime(data_frame.index , infer_datetime_format= True)\n",
    "                warnings.filterwarnings('ignore')\n",
    "                \n",
    "    \n",
    "    except KeyError:\n",
    "        print(\"FUNCTION EXECUTED SUCCESSFULLY\")\n",
    "        print(type(data_frame.index))\n",
    "\n",
    "to_datetime(df_dict.values())"
   ]
  },
  {
   "cell_type": "code",
   "execution_count": 52,
   "metadata": {},
   "outputs": [],
   "source": [
    "for i in df_dict.keys():\n",
    "    df_dict[i][\"Shift\"] = df_dict[i][\"Close\"] - df_dict[i][\"Close\"].shift(1)\n",
    "   "
   ]
  },
  {
   "cell_type": "code",
   "execution_count": 54,
   "metadata": {},
   "outputs": [
    {
     "data": {
      "text/plain": [
       "Date\n",
       "2017-03-01 16:00:00    None\n",
       "2017-04-01 16:00:00    None\n",
       "2017-05-01 16:00:00    None\n",
       "2017-06-01 16:00:00    None\n",
       "2017-09-01 16:00:00    None\n",
       "                       ... \n",
       "2022-11-17 16:00:00    None\n",
       "2022-11-18 16:00:00    None\n",
       "2022-11-21 16:00:00    None\n",
       "2022-11-22 16:00:00    None\n",
       "2022-11-23 16:00:00    None\n",
       "Name: Shift, Length: 1485, dtype: object"
      ]
     },
     "execution_count": 54,
     "metadata": {},
     "output_type": "execute_result"
    }
   ],
   "source": [
    "df_change[\"AAPL_stock\"]"
   ]
  },
  {
   "cell_type": "code",
   "execution_count": null,
   "metadata": {},
   "outputs": [],
   "source": []
  }
 ],
 "metadata": {
  "kernelspec": {
   "display_name": "Python 3.9.12 ('base')",
   "language": "python",
   "name": "python3"
  },
  "language_info": {
   "codemirror_mode": {
    "name": "ipython",
    "version": 3
   },
   "file_extension": ".py",
   "mimetype": "text/x-python",
   "name": "python",
   "nbconvert_exporter": "python",
   "pygments_lexer": "ipython3",
   "version": "3.9.12"
  },
  "orig_nbformat": 4,
  "vscode": {
   "interpreter": {
    "hash": "4195ac55b1039ea2cba7172c0e5d96a7cf0ce118c8fecb7e1bc9c7c887f2d96f"
   }
  }
 },
 "nbformat": 4,
 "nbformat_minor": 2
}
