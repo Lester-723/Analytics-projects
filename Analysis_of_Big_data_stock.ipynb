{
 "cells": [
  {
   "cell_type": "code",
   "execution_count": 37,
   "metadata": {},
   "outputs": [],
   "source": [
    "import pandas as pd\n",
    "import gspread as gs\n",
    "import warnings\n",
    "import sys\n",
    "warnings.filterwarnings('ignore')"
   ]
  },
  {
   "cell_type": "code",
   "execution_count": 38,
   "metadata": {},
   "outputs": [],
   "source": [
    "gc = gs.service_account(filename=\"C:/Users/leste/OneDrive/Desktop/Python files/mypythonprogrammes/Mydatafiles/service_account.json\")"
   ]
  },
  {
   "cell_type": "code",
   "execution_count": 39,
   "metadata": {},
   "outputs": [],
   "source": [
    "google_spreadsheet = gc.open_by_url(\"https://docs.google.com/spreadsheets/d/1cM1pMxHZof65AeVIUJphyYZze3Ew0myrzqlmg9tvQdg/edit#gid=1044390699\")"
   ]
  },
  {
   "cell_type": "markdown",
   "metadata": {},
   "source": [
    "<font face = \"Times New Roman\" size = 5 color = \"orange\"> Creating DataFrames </font>"
   ]
  },
  {
   "cell_type": "code",
   "execution_count": 40,
   "metadata": {},
   "outputs": [
    {
     "data": {
      "text/plain": [
       "[<Worksheet 'AAPL' id:0>,\n",
       " <Worksheet 'MSFT' id:177394609>,\n",
       " <Worksheet 'GOOG' id:1261668908>,\n",
       " <Worksheet 'AMZN' id:1631741944>,\n",
       " <Worksheet 'TSLA' id:1799150376>,\n",
       " <Worksheet 'NVDA' id:669265052>,\n",
       " <Worksheet 'META' id:1044390699>]"
      ]
     },
     "execution_count": 40,
     "metadata": {},
     "output_type": "execute_result"
    }
   ],
   "source": [
    "\n",
    "def extract_sheets():\n",
    "    token_ids = []\n",
    "    sheets = google_spreadsheet.worksheets()\n",
    "    for sheet in sheets:\n",
    "        token_ids.append(sheet)\n",
    "    return token_ids\n",
    "    \n",
    "extract_sheets()\n",
    "    "
   ]
  },
  {
   "cell_type": "code",
   "execution_count": 41,
   "metadata": {},
   "outputs": [],
   "source": [
    "df_dict = {}\n",
    "\n",
    "def declare_dataframes():\n",
    "    \n",
    "    for i in extract_sheets():\n",
    "        df = pd.DataFrame(i.get_all_records())\n",
    "        df_dict.update({f\"{i.title}_stock\" : df})\n",
    "      \n",
    "        \n",
    "   \n",
    "declare_dataframes()"
   ]
  },
  {
   "cell_type": "markdown",
   "metadata": {},
   "source": [
    "<font face = \"Times New Roman\" size = 5 color = \"yellow\">Parsing dates</font>"
   ]
  },
  {
   "cell_type": "code",
   "execution_count": 42,
   "metadata": {},
   "outputs": [],
   "source": [
    "\n",
    "\n",
    "def to_datetime(dataframes):\n",
    "    try:\n",
    "        \n",
    "        for data_frame in dataframes:\n",
    "            if len(df_dict) != len(extract_sheets()):\n",
    "                sys.exit(\"The no. of google sheets does not match the count of dataframe objects\")\n",
    "            else:\n",
    "                data_frame.set_index(\"Date\",inplace = True)\n",
    "                data_frame.index = pd.to_datetime(data_frame.index , infer_datetime_format= True)\n",
    "                warnings.filterwarnings('ignore')\n",
    "                \n",
    "    \n",
    "    except KeyError:\n",
    "        print(\"FUNCTION EXECUTED SUCCESSFULLY\")\n",
    "        print(type(data_frame.index))\n",
    "\n",
    "to_datetime(df_dict.values())"
   ]
  },
  {
   "cell_type": "code",
   "execution_count": 43,
   "metadata": {},
   "outputs": [
    {
     "data": {
      "text/html": [
       "<div>\n",
       "<style scoped>\n",
       "    .dataframe tbody tr th:only-of-type {\n",
       "        vertical-align: middle;\n",
       "    }\n",
       "\n",
       "    .dataframe tbody tr th {\n",
       "        vertical-align: top;\n",
       "    }\n",
       "\n",
       "    .dataframe thead th {\n",
       "        text-align: right;\n",
       "    }\n",
       "</style>\n",
       "<table border=\"1\" class=\"dataframe\">\n",
       "  <thead>\n",
       "    <tr style=\"text-align: right;\">\n",
       "      <th></th>\n",
       "      <th>Open</th>\n",
       "      <th>High</th>\n",
       "      <th>Low</th>\n",
       "      <th>Close</th>\n",
       "      <th>Volume</th>\n",
       "    </tr>\n",
       "    <tr>\n",
       "      <th>Date</th>\n",
       "      <th></th>\n",
       "      <th></th>\n",
       "      <th></th>\n",
       "      <th></th>\n",
       "      <th></th>\n",
       "    </tr>\n",
       "  </thead>\n",
       "  <tbody>\n",
       "    <tr>\n",
       "      <th>2017-03-01 16:00:00</th>\n",
       "      <td>28.95</td>\n",
       "      <td>29.08</td>\n",
       "      <td>28.69</td>\n",
       "      <td>29.04</td>\n",
       "      <td>28781865</td>\n",
       "    </tr>\n",
       "    <tr>\n",
       "      <th>2017-04-01 16:00:00</th>\n",
       "      <td>28.96</td>\n",
       "      <td>29.13</td>\n",
       "      <td>28.94</td>\n",
       "      <td>29.01</td>\n",
       "      <td>21118116</td>\n",
       "    </tr>\n",
       "    <tr>\n",
       "      <th>2017-05-01 16:00:00</th>\n",
       "      <td>28.98</td>\n",
       "      <td>29.22</td>\n",
       "      <td>28.95</td>\n",
       "      <td>29.15</td>\n",
       "      <td>22193587</td>\n",
       "    </tr>\n",
       "    <tr>\n",
       "      <th>2017-06-01 16:00:00</th>\n",
       "      <td>29.20</td>\n",
       "      <td>29.54</td>\n",
       "      <td>29.12</td>\n",
       "      <td>29.48</td>\n",
       "      <td>31751900</td>\n",
       "    </tr>\n",
       "    <tr>\n",
       "      <th>2017-09-01 16:00:00</th>\n",
       "      <td>29.49</td>\n",
       "      <td>29.86</td>\n",
       "      <td>29.49</td>\n",
       "      <td>29.75</td>\n",
       "      <td>33561948</td>\n",
       "    </tr>\n",
       "    <tr>\n",
       "      <th>...</th>\n",
       "      <td>...</td>\n",
       "      <td>...</td>\n",
       "      <td>...</td>\n",
       "      <td>...</td>\n",
       "      <td>...</td>\n",
       "    </tr>\n",
       "    <tr>\n",
       "      <th>2022-12-20 16:00:00</th>\n",
       "      <td>131.39</td>\n",
       "      <td>133.25</td>\n",
       "      <td>129.89</td>\n",
       "      <td>132.30</td>\n",
       "      <td>77432819</td>\n",
       "    </tr>\n",
       "    <tr>\n",
       "      <th>2022-12-21 16:00:00</th>\n",
       "      <td>132.98</td>\n",
       "      <td>136.81</td>\n",
       "      <td>132.75</td>\n",
       "      <td>135.45</td>\n",
       "      <td>85927993</td>\n",
       "    </tr>\n",
       "    <tr>\n",
       "      <th>2022-12-22 16:00:00</th>\n",
       "      <td>134.35</td>\n",
       "      <td>134.56</td>\n",
       "      <td>130.30</td>\n",
       "      <td>132.23</td>\n",
       "      <td>77852108</td>\n",
       "    </tr>\n",
       "    <tr>\n",
       "      <th>2022-12-23 16:00:00</th>\n",
       "      <td>130.92</td>\n",
       "      <td>132.42</td>\n",
       "      <td>129.64</td>\n",
       "      <td>131.86</td>\n",
       "      <td>63814893</td>\n",
       "    </tr>\n",
       "    <tr>\n",
       "      <th>2022-12-27 16:00:00</th>\n",
       "      <td>131.38</td>\n",
       "      <td>131.41</td>\n",
       "      <td>128.72</td>\n",
       "      <td>130.03</td>\n",
       "      <td>69007830</td>\n",
       "    </tr>\n",
       "  </tbody>\n",
       "</table>\n",
       "<p>1507 rows × 5 columns</p>\n",
       "</div>"
      ],
      "text/plain": [
       "                       Open    High     Low   Close    Volume\n",
       "Date                                                         \n",
       "2017-03-01 16:00:00   28.95   29.08   28.69   29.04  28781865\n",
       "2017-04-01 16:00:00   28.96   29.13   28.94   29.01  21118116\n",
       "2017-05-01 16:00:00   28.98   29.22   28.95   29.15  22193587\n",
       "2017-06-01 16:00:00   29.20   29.54   29.12   29.48  31751900\n",
       "2017-09-01 16:00:00   29.49   29.86   29.49   29.75  33561948\n",
       "...                     ...     ...     ...     ...       ...\n",
       "2022-12-20 16:00:00  131.39  133.25  129.89  132.30  77432819\n",
       "2022-12-21 16:00:00  132.98  136.81  132.75  135.45  85927993\n",
       "2022-12-22 16:00:00  134.35  134.56  130.30  132.23  77852108\n",
       "2022-12-23 16:00:00  130.92  132.42  129.64  131.86  63814893\n",
       "2022-12-27 16:00:00  131.38  131.41  128.72  130.03  69007830\n",
       "\n",
       "[1507 rows x 5 columns]"
      ]
     },
     "execution_count": 43,
     "metadata": {},
     "output_type": "execute_result"
    }
   ],
   "source": [
    "df_dict[\"AAPL_stock\"]"
   ]
  }
 ],
 "metadata": {
  "kernelspec": {
   "display_name": "Python 3.9.12 ('base')",
   "language": "python",
   "name": "python3"
  },
  "language_info": {
   "codemirror_mode": {
    "name": "ipython",
    "version": 3
   },
   "file_extension": ".py",
   "mimetype": "text/x-python",
   "name": "python",
   "nbconvert_exporter": "python",
   "pygments_lexer": "ipython3",
   "version": "3.9.15 (main, Nov 24 2022, 14:39:17) [MSC v.1916 64 bit (AMD64)]"
  },
  "orig_nbformat": 4,
  "vscode": {
   "interpreter": {
    "hash": "4195ac55b1039ea2cba7172c0e5d96a7cf0ce118c8fecb7e1bc9c7c887f2d96f"
   }
  }
 },
 "nbformat": 4,
 "nbformat_minor": 2
}
