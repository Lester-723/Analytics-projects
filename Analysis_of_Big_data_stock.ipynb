{
 "cells": [
  {
   "cell_type": "code",
   "execution_count": 1,
   "metadata": {},
   "outputs": [],
   "source": [
    "import pandas as pd\n",
    "import gspread as gs\n",
    "import warnings\n",
    "import sys\n",
    "warnings.filterwarnings('ignore')"
   ]
  },
  {
   "cell_type": "code",
   "execution_count": 2,
   "metadata": {},
   "outputs": [],
   "source": [
    "gc = gs.service_account(filename=\"C:/Users/leste/OneDrive/Desktop/Python files/mypythonprogrammes/Mydatafiles/service_account.json\")"
   ]
  },
  {
   "cell_type": "code",
   "execution_count": 3,
   "metadata": {},
   "outputs": [],
   "source": [
    "google_spreadsheet = gc.open_by_url(\"https://docs.google.com/spreadsheets/d/1cM1pMxHZof65AeVIUJphyYZze3Ew0myrzqlmg9tvQdg/edit#gid=1044390699\")"
   ]
  },
  {
   "cell_type": "markdown",
   "metadata": {},
   "source": [
    "<font face = \"Times New Roman\" size = 5 color = \"orange\"> Creating DataFrames </font>"
   ]
  },
  {
   "cell_type": "code",
   "execution_count": 4,
   "metadata": {},
   "outputs": [
    {
     "data": {
      "text/plain": [
       "[<Worksheet 'AAPL' id:0>,\n",
       " <Worksheet 'MSFT' id:177394609>,\n",
       " <Worksheet 'GOOG' id:1261668908>,\n",
       " <Worksheet 'AMZN' id:1631741944>,\n",
       " <Worksheet 'TSLA' id:1799150376>,\n",
       " <Worksheet 'NVDA' id:669265052>,\n",
       " <Worksheet 'META' id:1044390699>]"
      ]
     },
     "execution_count": 4,
     "metadata": {},
     "output_type": "execute_result"
    }
   ],
   "source": [
    "\n",
    "def extract_sheets():\n",
    "    token_ids = []\n",
    "    sheets = google_spreadsheet.worksheets()\n",
    "    for sheet in sheets:\n",
    "        token_ids.append(sheet)\n",
    "    return token_ids\n",
    "    \n",
    "extract_sheets()\n",
    "    "
   ]
  },
  {
   "cell_type": "code",
   "execution_count": 5,
   "metadata": {},
   "outputs": [],
   "source": [
    "df_dict = {}\n",
    "\n",
    "def declare_dataframes():\n",
    "    \n",
    "    for i in extract_sheets():\n",
    "        df = pd.DataFrame(i.get_all_records())\n",
    "        df_dict.update({f\"{i.title}_stock\" : df})\n",
    "      \n",
    "        \n",
    "   \n",
    "declare_dataframes()"
   ]
  },
  {
   "cell_type": "markdown",
   "metadata": {},
   "source": [
    "<font face = \"Times New Roman\" size = 5 color = \"yellow\">Parsing dates</font>"
   ]
  },
  {
   "cell_type": "code",
   "execution_count": 6,
   "metadata": {},
   "outputs": [],
   "source": [
    "\n",
    "\n",
    "def to_datetime(dataframes):\n",
    "    try:\n",
    "        \n",
    "        for data_frame in dataframes:\n",
    "            if len(df_dict) != len(token_ids):\n",
    "                sys.exit(\"The no. of google sheets does not match the count of dataframe objects\")\n",
    "            else:\n",
    "                data_frame.set_index(\"Date\",inplace = True)\n",
    "                data_frame.index = pd.to_datetime(data_frame.index , infer_datetime_format= True)\n",
    "                warnings.filterwarnings('ignore')\n",
    "                \n",
    "    \n",
    "    except KeyError:\n",
    "        print(\"FUNCTION EXECUTED SUCCESSFULLY\")\n",
    "        print(type(data_frame.index))\n",
    "\n",
    "to_datetime(df_dict.values())"
   ]
  },
  {
   "cell_type": "code",
   "execution_count": null,
   "metadata": {},
   "outputs": [],
   "source": []
  }
 ],
 "metadata": {
  "kernelspec": {
   "display_name": "Python 3.9.12 ('base')",
   "language": "python",
   "name": "python3"
  },
  "language_info": {
   "codemirror_mode": {
    "name": "ipython",
    "version": 3
   },
   "file_extension": ".py",
   "mimetype": "text/x-python",
   "name": "python",
   "nbconvert_exporter": "python",
   "pygments_lexer": "ipython3",
   "version": "3.9.15 (main, Nov 24 2022, 14:39:17) [MSC v.1916 64 bit (AMD64)]"
  },
  "orig_nbformat": 4,
  "vscode": {
   "interpreter": {
    "hash": "4195ac55b1039ea2cba7172c0e5d96a7cf0ce118c8fecb7e1bc9c7c887f2d96f"
   }
  }
 },
 "nbformat": 4,
 "nbformat_minor": 2
}
