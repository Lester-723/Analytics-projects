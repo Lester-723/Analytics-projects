{
 "cells": [
  {
   "cell_type": "code",
   "execution_count": 23,
   "metadata": {},
   "outputs": [],
   "source": [
    "import numpy as np\n",
    "import pandas as pd\n",
    "import matplotlib.pyplot\n",
    "from pandas_datareader import data as pdr\n",
    "from Securities import Stock_analysis\n",
    "import yfinance as yf\n",
    "import gspread as gs\n",
    "import warnings\n",
    "import sys\n",
    "warnings.filterwarnings('ignore')"
   ]
  },
  {
   "attachments": {},
   "cell_type": "markdown",
   "metadata": {},
   "source": [
    "<font face = \"Times New Roman\" size = 5>Parsing dates</font>"
   ]
  },
  {
   "cell_type": "code",
   "execution_count": 24,
   "metadata": {},
   "outputs": [],
   "source": [
    "securities = Stock_analysis(tickers = token_ids_title, start_date = \"2015-1-1\")"
   ]
  },
  {
   "cell_type": "markdown",
   "metadata": {},
   "source": [
    "So considering all the years (even leap years) there are approximately 250 trading days in a year"
   ]
  },
  {
   "attachments": {},
   "cell_type": "markdown",
   "metadata": {},
   "source": [
    "Applying Normalization\n",
    "\n",
    "We use Normalization to visualize the data because we want to facilitate a comparison between the stock prices as if they were starting from a common point\n",
    "\n",
    "if we don't use normalization we'll encounter variations at the beginning of the plot which won't help in analysis"
   ]
  }
 ],
 "metadata": {
  "kernelspec": {
   "display_name": "Python 3.9.12 ('base')",
   "language": "python",
   "name": "python3"
  },
  "language_info": {
   "codemirror_mode": {
    "name": "ipython",
    "version": 3
   },
   "file_extension": ".py",
   "mimetype": "text/x-python",
   "name": "python",
   "nbconvert_exporter": "python",
   "pygments_lexer": "ipython3",
   "version": "3.9.15"
  },
  "orig_nbformat": 4,
  "vscode": {
   "interpreter": {
    "hash": "4195ac55b1039ea2cba7172c0e5d96a7cf0ce118c8fecb7e1bc9c7c887f2d96f"
   }
  }
 },
 "nbformat": 4,
 "nbformat_minor": 2
}
