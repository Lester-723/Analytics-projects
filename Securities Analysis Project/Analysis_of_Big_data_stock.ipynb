{
 "cells": [
  {
   "cell_type": "code",
   "execution_count": 28,
   "metadata": {},
   "outputs": [],
   "source": [
    "import numpy as np\n",
    "import pandas as pd\n",
    "import matplotlib.pyplot\n",
    "from pandas_datareader import data as pdr\n",
    "from Securities import Stock_analysis\n",
    "import yfinance as yf\n",
    "import gspread as gs\n",
    "import warnings\n",
    "import sys\n",
    "yf.pdr_override()\n",
    "warnings.filterwarnings('ignore')"
   ]
  },
  {
   "cell_type": "code",
   "execution_count": 29,
   "metadata": {},
   "outputs": [],
   "source": [
    "gc = gs.service_account(filename=\"C:/Users/leste/OneDrive/Desktop/Python files/mypythonprogrammes/Mydatafiles/service_account.json\")"
   ]
  },
  {
   "cell_type": "code",
   "execution_count": 30,
   "metadata": {},
   "outputs": [],
   "source": [
    "google_spreadsheet = gc.open_by_url(\"https://docs.google.com/spreadsheets/d/1cM1pMxHZof65AeVIUJphyYZze3Ew0myrzqlmg9tvQdg/edit#gid=1044390699\")"
   ]
  },
  {
   "attachments": {},
   "cell_type": "markdown",
   "metadata": {},
   "source": [
    "<font face = \"Times New Roman\" size = 5> Creating DataFrames </font>"
   ]
  },
  {
   "cell_type": "code",
   "execution_count": 31,
   "metadata": {},
   "outputs": [
    {
     "data": {
      "text/plain": [
       "[<Worksheet 'AAPL' id:0>,\n",
       " <Worksheet 'MSFT' id:177394609>,\n",
       " <Worksheet 'GOOG' id:1261668908>,\n",
       " <Worksheet 'AMZN' id:1631741944>,\n",
       " <Worksheet 'TSLA' id:1799150376>,\n",
       " <Worksheet 'NVDA' id:669265052>,\n",
       " <Worksheet 'META' id:1044390699>,\n",
       " <Worksheet 'INTC' id:1466750836>,\n",
       " <Worksheet 'CSCO' id:443690156>,\n",
       " <Worksheet 'AMD' id:850053490>]"
      ]
     },
     "execution_count": 31,
     "metadata": {},
     "output_type": "execute_result"
    }
   ],
   "source": [
    "\n",
    "def extract_sheets():\n",
    "    token_ids = []\n",
    "    sheets = google_spreadsheet.worksheets()\n",
    "    for sheet in sheets:\n",
    "        token_ids.append(sheet)\n",
    "    return token_ids\n",
    "    \n",
    "extract_sheets()\n",
    "    "
   ]
  },
  {
   "cell_type": "code",
   "execution_count": 32,
   "metadata": {},
   "outputs": [],
   "source": [
    "stock_dict = {}\n",
    "token_ids_title = [tickers.title for tickers in extract_sheets()]\n",
    "def declare_dataframes():\n",
    "    \n",
    "    for tickers in extract_sheets():\n",
    "        df = pd.DataFrame(tickers.get_all_records())\n",
    "        stock_dict.update({f\"{tickers.title}_stock\" : df})\n",
    "      \n",
    "        \n",
    "   \n",
    "declare_dataframes()"
   ]
  },
  {
   "attachments": {},
   "cell_type": "markdown",
   "metadata": {},
   "source": [
    "<font face = \"Times New Roman\" size = 5>Parsing dates</font>"
   ]
  },
  {
   "cell_type": "code",
   "execution_count": 33,
   "metadata": {},
   "outputs": [],
   "source": [
    "\n",
    "\n",
    "def to_datetime(dataframes):\n",
    "    try:\n",
    "        \n",
    "        for data_frame in dataframes:\n",
    "            if len(stock_dict) != len(extract_sheets()):\n",
    "                sys.exit(\"The no. of google sheets does not match the count of dataframe objects\")\n",
    "            else:\n",
    "                data_frame.set_index(\"Date\",inplace = True)\n",
    "                data_frame.index = pd.to_datetime(data_frame.index , infer_datetime_format= True)\n",
    "                warnings.filterwarnings('ignore')\n",
    "                \n",
    "    \n",
    "    except KeyError:\n",
    "        print(\"FUNCTION EXECUTED SUCCESSFULLY\")\n",
    "        print(type(data_frame.index))\n",
    "\n",
    "to_datetime(stock_dict.values())"
   ]
  },
  {
   "cell_type": "code",
   "execution_count": 34,
   "metadata": {},
   "outputs": [],
   "source": [
    "securities = Stock_analysis(tickers = token_ids_title, start_date = \"2015-1-1\")"
   ]
  },
  {
   "cell_type": "markdown",
   "metadata": {},
   "source": [
    "So considering all the years (even leap years) there are approximately 250 trading days in a year"
   ]
  },
  {
   "attachments": {},
   "cell_type": "markdown",
   "metadata": {},
   "source": [
    "Applying Normalization\n",
    "\n",
    "We use Normalization to visualize the data because we want to facilitate a comparison between the stock prices as if they were starting from a common point\n",
    "\n",
    "if we don't use normalization we'll encounter variations at the beginning of the plot which won't help in analysis"
   ]
  },
  {
   "cell_type": "code",
   "execution_count": 43,
   "metadata": {},
   "outputs": [
    {
     "ename": "NameError",
     "evalue": "name 'yf' is not defined",
     "output_type": "error",
     "traceback": [
      "\u001b[1;31m---------------------------------------------------------------------------\u001b[0m",
      "\u001b[1;31mNameError\u001b[0m                                 Traceback (most recent call last)",
      "\u001b[1;32m<ipython-input-43-2b35fbba547e>\u001b[0m in \u001b[0;36m<module>\u001b[1;34m\u001b[0m\n\u001b[1;32m----> 1\u001b[1;33m \u001b[0msecurities\u001b[0m\u001b[1;33m.\u001b[0m\u001b[0mdownload_stocks\u001b[0m\u001b[1;33m(\u001b[0m\u001b[0mcolumn_name\u001b[0m\u001b[1;33m=\u001b[0m \u001b[1;34m\"Adj Close\"\u001b[0m\u001b[1;33m)\u001b[0m\u001b[1;33m\u001b[0m\u001b[1;33m\u001b[0m\u001b[0m\n\u001b[0m",
      "\u001b[1;32mc:\\Users\\leste\\OneDrive\\Documents\\GitHub\\Data-Analytics-Projects-\\Securities Analysis Project\\Securities.py\u001b[0m in \u001b[0;36mdownload_stocks\u001b[1;34m(self, column_name)\u001b[0m\n\u001b[0;32m     26\u001b[0m \u001b[1;33m\u001b[0m\u001b[0m\n\u001b[0;32m     27\u001b[0m \u001b[1;33m\u001b[0m\u001b[0m\n\u001b[1;32m---> 28\u001b[1;33m     \u001b[1;32mdef\u001b[0m \u001b[0mdownload_stocks\u001b[0m\u001b[1;33m(\u001b[0m\u001b[0mself\u001b[0m\u001b[1;33m,\u001b[0m \u001b[0mcolumn_name\u001b[0m \u001b[1;33m:\u001b[0m \u001b[0mstr\u001b[0m\u001b[1;33m)\u001b[0m\u001b[1;33m:\u001b[0m\u001b[1;33m\u001b[0m\u001b[1;33m\u001b[0m\u001b[0m\n\u001b[0m\u001b[0;32m     29\u001b[0m             \u001b[0mself\u001b[0m\u001b[1;33m.\u001b[0m\u001b[0mcolumn_name\u001b[0m \u001b[1;33m=\u001b[0m \u001b[0mcolumn_name\u001b[0m\u001b[1;33m\u001b[0m\u001b[1;33m\u001b[0m\u001b[0m\n\u001b[0;32m     30\u001b[0m             \u001b[0myf\u001b[0m\u001b[1;33m.\u001b[0m\u001b[0mpdr_override\u001b[0m\u001b[1;33m(\u001b[0m\u001b[1;33m)\u001b[0m\u001b[1;33m\u001b[0m\u001b[1;33m\u001b[0m\u001b[0m\n",
      "\u001b[1;31mNameError\u001b[0m: name 'yf' is not defined"
     ]
    }
   ],
   "source": [
    "securities.download_stocks(column_name= \"Adj Close\")"
   ]
  }
 ],
 "metadata": {
  "kernelspec": {
   "display_name": "Python 3.9.12 ('base')",
   "language": "python",
   "name": "python3"
  },
  "language_info": {
   "codemirror_mode": {
    "name": "ipython",
    "version": 3
   },
   "file_extension": ".py",
   "mimetype": "text/x-python",
   "name": "python",
   "nbconvert_exporter": "python",
   "pygments_lexer": "ipython3",
   "version": "3.9.15"
  },
  "orig_nbformat": 4,
  "vscode": {
   "interpreter": {
    "hash": "4195ac55b1039ea2cba7172c0e5d96a7cf0ce118c8fecb7e1bc9c7c887f2d96f"
   }
  }
 },
 "nbformat": 4,
 "nbformat_minor": 2
}
