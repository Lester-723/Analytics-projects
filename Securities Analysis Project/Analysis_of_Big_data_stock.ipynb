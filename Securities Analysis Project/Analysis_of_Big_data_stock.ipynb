{
 "cells": [
  {
   "cell_type": "code",
   "execution_count": 4,
   "metadata": {},
   "outputs": [],
   "source": [
    "\n",
    "import numpy as np\n",
    "import pandas as pd\n",
    "import matplotlib.pyplot as plt\n",
    "from pandas_datareader import data as pdr\n",
    "import yfinance as yf\n",
    "import gspread as gs\n",
    "import warnings\n",
    "import sys\n",
    "warnings.filterwarnings('ignore')"
   ]
  },
  {
   "cell_type": "code",
   "execution_count": 5,
   "metadata": {},
   "outputs": [],
   "source": [
    "\n",
    "class Returns_analysis():\n",
    "    individual_stock_data = pd.DataFrame()\n",
    "    Stock_Data = pd.DataFrame()\n",
    "    stock_dict = {}\n",
    "   \n",
    "    def __init__(self,tickers : list,start_date):\n",
    "            self.tickers = tickers\n",
    "            self.start_date = start_date\n",
    "           \n",
    "    \n",
    "    def individual_data(self):\n",
    "         yf.pdr_override()\n",
    "         for ticks in self.tickers:\n",
    "                individual_stock_data = pdr.DataReader(ticks.title, self.start_date)\n",
    "                Returns_Analysis.stock_dict.update({f\"{ticks.title}_stock\" : individual_stock_data})\n",
    "                \n",
    "    def download_stocks(self, column_name : str):\n",
    "            self.column_name = column_name\n",
    "            yf.pdr_override()\n",
    "            for ticks in self.tickers:\n",
    "               Returns_analysis.Stock_Data[ticks] = pdr.DataReader(ticks, self.start_date)[column_name]\n",
    "            return Returns_analysis.Stock_Data\n",
    "\n",
    "\n",
    "    def calculate_returns(self,return_type):\n",
    "           self.return_type = return_type\n",
    "           if return_type == \"Log\":\n",
    "                returns_data = np.log(Returns_analysis.Stock_Data/Returns_analysis.Stock_Data.shift(1))\n",
    "           else: \n",
    "                returns_data = (Returns_analysis.Stock_Data/Returns_analysis.Stock_Data.shift(1))-1\n",
    "           return returns_data\n",
    "\n",
    "    def normalization(self):\n",
    "            normalized_data = (Returns_analysis.Stock_Data/Returns_analysis.Stock_Data.iloc[0]*100)\n",
    "            normalized_figure = normalized_data.plot(figsize = (19,6))\n",
    "            plt.title(\"Growth Comparison of Stocks\")\n",
    "            return normalized_figure\n",
    "    \n",
    "    def individual_return(self):\n",
    "            individual_return = self.calculate_returns(self.return_type).mean()*250*100\n",
    "\n",
    "            print(f\"The {self.return_type} return of the stocks are {round(individual_return,2)}\")\n",
    "        \n",
    "\n",
    "    def portfolio_return(self,weights = list):\n",
    "            import sys\n",
    "            weights = np.array(weights)\n",
    "            if round(sum(weights),2)!= 1 :\n",
    "                raise ValueError(f\"Sum of the weight of the porfolio should be 1,The sum of your weights are {sum(weights)}\")\n",
    "                if len(weights) != Returns_Analysis.Stock_Data.shape[1]:\n",
    "                    sys.exit(\"The weights of individual security does not match the no. of securities\")\n",
    "            annual_returns = np.dot(self.calculate_returns(self.return_type).mean()*250, weights)\n",
    "\n",
    "            print(f\"The annual returns of the portfolio is {round(annual_returns, 2)}% \")\n",
    "\n",
    "\n",
    "    def individual_risk_factor(self):\n",
    "                risk_factor = pd.DataFrame(np.sqrt(self.calculate_returns(self.return_type).var()*250))\n",
    "                print(risk_factor)\n",
    "\n",
    "                print(f\"The lowest risk factor is{risk_factor.min()}\")"
   ]
  },
  {
   "attachments": {},
   "cell_type": "markdown",
   "metadata": {},
   "source": [
    "<font face = \"Times New Roman\" size = 5>Parsing dates</font>"
   ]
  },
  {
   "attachments": {},
   "cell_type": "markdown",
   "metadata": {},
   "source": [
    "Applying Normalization\n",
    "\n",
    "We use Normalization to visualize the data because we want to facilitate a comparison between the stock prices as if they were starting from a common point\n",
    "\n",
    "if we don't use normalization we'll encounter variations at the beginning of the plot which won't help in analysis"
   ]
  }
 ],
 "metadata": {
  "kernelspec": {
   "display_name": "Python 3.9.12 ('base')",
   "language": "python",
   "name": "python3"
  },
  "language_info": {
   "codemirror_mode": {
    "name": "ipython",
    "version": 3
   },
   "file_extension": ".py",
   "mimetype": "text/x-python",
   "name": "python",
   "nbconvert_exporter": "python",
   "pygments_lexer": "ipython3",
   "version": "3.9.15"
  },
  "orig_nbformat": 4,
  "vscode": {
   "interpreter": {
    "hash": "4195ac55b1039ea2cba7172c0e5d96a7cf0ce118c8fecb7e1bc9c7c887f2d96f"
   }
  }
 },
 "nbformat": 4,
 "nbformat_minor": 2
}
