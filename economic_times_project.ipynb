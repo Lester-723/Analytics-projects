{
 "cells": [
  {
   "cell_type": "markdown",
   "metadata": {},
   "source": [
    "# **<font face = \"Times New Roman\" color = \"cyan\">Objectives of the Project</font>**"
   ]
  },
  {
   "cell_type": "markdown",
   "metadata": {},
   "source": [
    "**1. Comparing the status of the Companies pre-covid and post-covid**\n",
    "\n",
    "**2. Pulling out key figures from the data set**\n",
    "\n",
    "**3. Segregating companies based on the market capitalisation**\n",
    "\n",
    "**4. Comparing the top 10 companies overall by visual representation**"
   ]
  },
  {
   "cell_type": "code",
   "execution_count": 2,
   "metadata": {},
   "outputs": [],
   "source": [
    "import pandas as pd \n",
    "import numpy as np\n",
    "import matplotlib as plt\n",
    "import seaborn as sns\n",
    "import fuzzywuzzy\n",
    "import fuzzymatcher\n",
    "import warnings\n",
    "warnings.filterwarnings(\"ignore\")\n",
    "%matplotlib inline\n",
    "\n"
   ]
  },
  {
   "cell_type": "markdown",
   "metadata": {},
   "source": [
    "<font color = \"orange\" size = 7 face = \"Times New Roman\">Reading the data and parsing it.</font>\n",
    "\n",
    "> **[Source of the Data](https://www.kaggle.com/datasets/ramjasmaurya/et-top-500-indian-companies-since-2009?resource=download)**"
   ]
  },
  {
   "cell_type": "code",
   "execution_count": 3,
   "metadata": {},
   "outputs": [],
   "source": [
    "economic_times = pd.read_csv(\"C:/Users/leste/OneDrive/Desktop/Python files/mypythonprogrammes/Mydatafiles/Economic times Top 500 companies since 2009 - 2009-2021 - Copy.csv\",header= None ,thousands= \",\", names =  [\"RANK\",\"PREVIOUS YEAR RANK\",\"COMPANY NAME\",\"REVENUE(₹ Cr)\",\"REVENUE CHANGE\",\"PAT IN CRORES\",\"PAT CHANGE\",\"MARKET CAP(₹ Cr)\", \"YEAR\"], skiprows= 1)\n"
   ]
  },
  {
   "cell_type": "code",
   "execution_count": 4,
   "metadata": {},
   "outputs": [],
   "source": [
    "economic_times = economic_times[economic_times[\"YEAR\"] > 2017]"
   ]
  },
  {
   "cell_type": "code",
   "execution_count": 5,
   "metadata": {},
   "outputs": [],
   "source": [
    "economic_times_industries = pd.read_excel(\"C:/Users/leste/OneDrive/Desktop/Python files/mypythonprogrammes/Mydatafiles/Companies and Industries.xlsx\", names= [\"COMPANY NAME\", \"INDUSTRY\"])\n"
   ]
  },
  {
   "cell_type": "markdown",
   "metadata": {},
   "source": [
    "<font size = \"5\" color = \"Pink\" face = \"Times New Roman\">**Statistical description of the data**</font>"
   ]
  },
  {
   "cell_type": "code",
   "execution_count": 6,
   "metadata": {},
   "outputs": [
    {
     "data": {
      "text/html": [
       "<div>\n",
       "<style scoped>\n",
       "    .dataframe tbody tr th:only-of-type {\n",
       "        vertical-align: middle;\n",
       "    }\n",
       "\n",
       "    .dataframe tbody tr th {\n",
       "        vertical-align: top;\n",
       "    }\n",
       "\n",
       "    .dataframe thead th {\n",
       "        text-align: right;\n",
       "    }\n",
       "</style>\n",
       "<table border=\"1\" class=\"dataframe\">\n",
       "  <thead>\n",
       "    <tr style=\"text-align: right;\">\n",
       "      <th></th>\n",
       "      <th>RANK</th>\n",
       "      <th>REVENUE(₹ Cr)</th>\n",
       "      <th>REVENUE CHANGE</th>\n",
       "      <th>PAT IN CRORES</th>\n",
       "      <th>PAT CHANGE</th>\n",
       "      <th>MARKET CAP(₹ Cr)</th>\n",
       "      <th>YEAR</th>\n",
       "    </tr>\n",
       "  </thead>\n",
       "  <tbody>\n",
       "    <tr>\n",
       "      <th>count</th>\n",
       "      <td>2000.000000</td>\n",
       "      <td>2000.000000</td>\n",
       "      <td>1521.000000</td>\n",
       "      <td>2000.000000</td>\n",
       "      <td>1157.000000</td>\n",
       "      <td>2.000000e+03</td>\n",
       "      <td>2000.000000</td>\n",
       "    </tr>\n",
       "    <tr>\n",
       "      <th>mean</th>\n",
       "      <td>250.500000</td>\n",
       "      <td>18594.475500</td>\n",
       "      <td>32.296252</td>\n",
       "      <td>954.345000</td>\n",
       "      <td>72.192982</td>\n",
       "      <td>3.269156e+04</td>\n",
       "      <td>2019.500000</td>\n",
       "    </tr>\n",
       "    <tr>\n",
       "      <th>std</th>\n",
       "      <td>144.373376</td>\n",
       "      <td>48583.402204</td>\n",
       "      <td>369.963131</td>\n",
       "      <td>4626.374386</td>\n",
       "      <td>540.477432</td>\n",
       "      <td>9.388895e+04</td>\n",
       "      <td>1.118314</td>\n",
       "    </tr>\n",
       "    <tr>\n",
       "      <th>min</th>\n",
       "      <td>1.000000</td>\n",
       "      <td>1994.000000</td>\n",
       "      <td>-97.630000</td>\n",
       "      <td>-73878.000000</td>\n",
       "      <td>-115.600000</td>\n",
       "      <td>1.020000e+02</td>\n",
       "      <td>2018.000000</td>\n",
       "    </tr>\n",
       "    <tr>\n",
       "      <th>25%</th>\n",
       "      <td>125.750000</td>\n",
       "      <td>3102.500000</td>\n",
       "      <td>2.710000</td>\n",
       "      <td>92.750000</td>\n",
       "      <td>0.130000</td>\n",
       "      <td>2.496500e+03</td>\n",
       "      <td>2018.750000</td>\n",
       "    </tr>\n",
       "    <tr>\n",
       "      <th>50%</th>\n",
       "      <td>250.500000</td>\n",
       "      <td>5562.000000</td>\n",
       "      <td>11.220000</td>\n",
       "      <td>335.000000</td>\n",
       "      <td>12.200000</td>\n",
       "      <td>8.034000e+03</td>\n",
       "      <td>2019.500000</td>\n",
       "    </tr>\n",
       "    <tr>\n",
       "      <th>75%</th>\n",
       "      <td>375.250000</td>\n",
       "      <td>12348.750000</td>\n",
       "      <td>21.600000</td>\n",
       "      <td>919.750000</td>\n",
       "      <td>33.710000</td>\n",
       "      <td>2.534150e+04</td>\n",
       "      <td>2020.250000</td>\n",
       "    </tr>\n",
       "    <tr>\n",
       "      <th>max</th>\n",
       "      <td>500.000000</td>\n",
       "      <td>610806.000000</td>\n",
       "      <td>13513.110000</td>\n",
       "      <td>53739.000000</td>\n",
       "      <td>13644.840000</td>\n",
       "      <td>1.573893e+06</td>\n",
       "      <td>2021.000000</td>\n",
       "    </tr>\n",
       "  </tbody>\n",
       "</table>\n",
       "</div>"
      ],
      "text/plain": [
       "              RANK  REVENUE(₹ Cr)  REVENUE CHANGE  PAT IN CRORES  \\\n",
       "count  2000.000000    2000.000000     1521.000000    2000.000000   \n",
       "mean    250.500000   18594.475500       32.296252     954.345000   \n",
       "std     144.373376   48583.402204      369.963131    4626.374386   \n",
       "min       1.000000    1994.000000      -97.630000  -73878.000000   \n",
       "25%     125.750000    3102.500000        2.710000      92.750000   \n",
       "50%     250.500000    5562.000000       11.220000     335.000000   \n",
       "75%     375.250000   12348.750000       21.600000     919.750000   \n",
       "max     500.000000  610806.000000    13513.110000   53739.000000   \n",
       "\n",
       "         PAT CHANGE  MARKET CAP(₹ Cr)         YEAR  \n",
       "count   1157.000000      2.000000e+03  2000.000000  \n",
       "mean      72.192982      3.269156e+04  2019.500000  \n",
       "std      540.477432      9.388895e+04     1.118314  \n",
       "min     -115.600000      1.020000e+02  2018.000000  \n",
       "25%        0.130000      2.496500e+03  2018.750000  \n",
       "50%       12.200000      8.034000e+03  2019.500000  \n",
       "75%       33.710000      2.534150e+04  2020.250000  \n",
       "max    13644.840000      1.573893e+06  2021.000000  "
      ]
     },
     "execution_count": 6,
     "metadata": {},
     "output_type": "execute_result"
    }
   ],
   "source": [
    "economic_times.describe()"
   ]
  },
  {
   "cell_type": "code",
   "execution_count": 7,
   "metadata": {},
   "outputs": [
    {
     "data": {
      "text/html": [
       "<div>\n",
       "<style scoped>\n",
       "    .dataframe tbody tr th:only-of-type {\n",
       "        vertical-align: middle;\n",
       "    }\n",
       "\n",
       "    .dataframe tbody tr th {\n",
       "        vertical-align: top;\n",
       "    }\n",
       "\n",
       "    .dataframe thead th {\n",
       "        text-align: right;\n",
       "    }\n",
       "</style>\n",
       "<table border=\"1\" class=\"dataframe\">\n",
       "  <thead>\n",
       "    <tr style=\"text-align: right;\">\n",
       "      <th></th>\n",
       "      <th>RANK</th>\n",
       "      <th>PREVIOUS YEAR RANK</th>\n",
       "      <th>COMPANY NAME</th>\n",
       "      <th>REVENUE(₹ Cr)</th>\n",
       "      <th>REVENUE CHANGE</th>\n",
       "      <th>PAT IN CRORES</th>\n",
       "      <th>PAT CHANGE</th>\n",
       "      <th>MARKET CAP(₹ Cr)</th>\n",
       "      <th>YEAR</th>\n",
       "    </tr>\n",
       "  </thead>\n",
       "  <tbody>\n",
       "    <tr>\n",
       "      <th>0</th>\n",
       "      <td>1</td>\n",
       "      <td>1</td>\n",
       "      <td>Reliance Industries Ltd.</td>\n",
       "      <td>505153</td>\n",
       "      <td>-17.30</td>\n",
       "      <td>53739</td>\n",
       "      <td>34.75</td>\n",
       "      <td>1573893.0</td>\n",
       "      <td>2021</td>\n",
       "    </tr>\n",
       "    <tr>\n",
       "      <th>1</th>\n",
       "      <td>2</td>\n",
       "      <td>4</td>\n",
       "      <td>State Bank of India</td>\n",
       "      <td>385337</td>\n",
       "      <td>NaN</td>\n",
       "      <td>24279</td>\n",
       "      <td>4.71</td>\n",
       "      <td>448717.0</td>\n",
       "      <td>2021</td>\n",
       "    </tr>\n",
       "    <tr>\n",
       "      <th>2</th>\n",
       "      <td>3</td>\n",
       "      <td>2</td>\n",
       "      <td>Indian Oil Corporation Ltd.</td>\n",
       "      <td>368645</td>\n",
       "      <td>-24.44</td>\n",
       "      <td>21762</td>\n",
       "      <td>NaN</td>\n",
       "      <td>122384.0</td>\n",
       "      <td>2021</td>\n",
       "    </tr>\n",
       "    <tr>\n",
       "      <th>3</th>\n",
       "      <td>4</td>\n",
       "      <td>3</td>\n",
       "      <td>Oil And Natural Gas Corporation Ltd.</td>\n",
       "      <td>315262</td>\n",
       "      <td>-22.50</td>\n",
       "      <td>21343</td>\n",
       "      <td>86.30</td>\n",
       "      <td>191776.0</td>\n",
       "      <td>2021</td>\n",
       "    </tr>\n",
       "    <tr>\n",
       "      <th>4</th>\n",
       "      <td>5</td>\n",
       "      <td>8</td>\n",
       "      <td>Rajesh Exports Ltd.</td>\n",
       "      <td>258315</td>\n",
       "      <td>-29.88</td>\n",
       "      <td>845</td>\n",
       "      <td>32.06</td>\n",
       "      <td>20169.0</td>\n",
       "      <td>2021</td>\n",
       "    </tr>\n",
       "  </tbody>\n",
       "</table>\n",
       "</div>"
      ],
      "text/plain": [
       "   RANK PREVIOUS YEAR RANK                          COMPANY NAME  \\\n",
       "0     1                  1              Reliance Industries Ltd.   \n",
       "1     2                  4                   State Bank of India   \n",
       "2     3                  2           Indian Oil Corporation Ltd.   \n",
       "3     4                  3  Oil And Natural Gas Corporation Ltd.   \n",
       "4     5                  8                   Rajesh Exports Ltd.   \n",
       "\n",
       "   REVENUE(₹ Cr)  REVENUE CHANGE  PAT IN CRORES  PAT CHANGE  MARKET CAP(₹ Cr)  \\\n",
       "0         505153          -17.30          53739       34.75         1573893.0   \n",
       "1         385337             NaN          24279        4.71          448717.0   \n",
       "2         368645          -24.44          21762         NaN          122384.0   \n",
       "3         315262          -22.50          21343       86.30          191776.0   \n",
       "4         258315          -29.88            845       32.06           20169.0   \n",
       "\n",
       "   YEAR  \n",
       "0  2021  \n",
       "1  2021  \n",
       "2  2021  \n",
       "3  2021  \n",
       "4  2021  "
      ]
     },
     "execution_count": 7,
     "metadata": {},
     "output_type": "execute_result"
    }
   ],
   "source": [
    "economic_times.head(5)"
   ]
  },
  {
   "cell_type": "markdown",
   "metadata": {},
   "source": [
    "<font size = \"5\" color = \"Pink\" face = \"Times New Roman\">**Info on the data**</font>"
   ]
  },
  {
   "cell_type": "code",
   "execution_count": 8,
   "metadata": {},
   "outputs": [
    {
     "name": "stdout",
     "output_type": "stream",
     "text": [
      "<class 'pandas.core.frame.DataFrame'>\n",
      "Int64Index: 2000 entries, 0 to 1999\n",
      "Data columns (total 9 columns):\n",
      " #   Column              Non-Null Count  Dtype  \n",
      "---  ------              --------------  -----  \n",
      " 0   RANK                2000 non-null   int64  \n",
      " 1   PREVIOUS YEAR RANK  2000 non-null   object \n",
      " 2   COMPANY NAME        2000 non-null   object \n",
      " 3   REVENUE(₹ Cr)       2000 non-null   int64  \n",
      " 4   REVENUE CHANGE      1521 non-null   float64\n",
      " 5   PAT IN CRORES       2000 non-null   int64  \n",
      " 6   PAT CHANGE          1157 non-null   float64\n",
      " 7   MARKET CAP(₹ Cr)    2000 non-null   float64\n",
      " 8   YEAR                2000 non-null   int64  \n",
      "dtypes: float64(3), int64(4), object(2)\n",
      "memory usage: 156.2+ KB\n"
     ]
    }
   ],
   "source": [
    "economic_times.info()"
   ]
  },
  {
   "cell_type": "markdown",
   "metadata": {},
   "source": [
    "<font size = \"5\" color = \"Pink\" face = \"Times New Roman\">**Revealing any missing values in the dataset**</font>"
   ]
  },
  {
   "cell_type": "code",
   "execution_count": 9,
   "metadata": {},
   "outputs": [
    {
     "data": {
      "text/plain": [
       "RANK                    0\n",
       "PREVIOUS YEAR RANK      0\n",
       "COMPANY NAME            0\n",
       "REVENUE(₹ Cr)           0\n",
       "REVENUE CHANGE        479\n",
       "PAT IN CRORES           0\n",
       "PAT CHANGE            843\n",
       "MARKET CAP(₹ Cr)        0\n",
       "YEAR                    0\n",
       "dtype: int64"
      ]
     },
     "execution_count": 9,
     "metadata": {},
     "output_type": "execute_result"
    }
   ],
   "source": [
    "economic_times.isnull().sum()"
   ]
  },
  {
   "cell_type": "markdown",
   "metadata": {},
   "source": [
    "<font size = \"5\" color = \"Pink\" face = \"Times New Roman\">**Dropping columns which have missing values**</font>"
   ]
  },
  {
   "cell_type": "code",
   "execution_count": 10,
   "metadata": {},
   "outputs": [],
   "source": [
    "economic_times.drop([\"REVENUE CHANGE\", \"PAT CHANGE\",\"PREVIOUS YEAR RANK\"], axis= 1, inplace= True)"
   ]
  },
  {
   "cell_type": "markdown",
   "metadata": {},
   "source": [
    "<font size = \"5\" color = \"Pink\" face = \"Times New Roman\">**Sorting Data in terms of rank**</font>"
   ]
  },
  {
   "cell_type": "code",
   "execution_count": 11,
   "metadata": {},
   "outputs": [],
   "source": [
    "economic_times = economic_times.sort_values(by= \"RANK\")"
   ]
  },
  {
   "cell_type": "markdown",
   "metadata": {},
   "source": [
    "<font size = \"5\" color = \"Pink\" face = \"Times New Roman\">**Segregation by Marketing Capitalisation**</font>"
   ]
  },
  {
   "cell_type": "code",
   "execution_count": 12,
   "metadata": {},
   "outputs": [
    {
     "data": {
      "text/html": [
       "<div>\n",
       "<style scoped>\n",
       "    .dataframe tbody tr th:only-of-type {\n",
       "        vertical-align: middle;\n",
       "    }\n",
       "\n",
       "    .dataframe tbody tr th {\n",
       "        vertical-align: top;\n",
       "    }\n",
       "\n",
       "    .dataframe thead th {\n",
       "        text-align: right;\n",
       "    }\n",
       "</style>\n",
       "<table border=\"1\" class=\"dataframe\">\n",
       "  <thead>\n",
       "    <tr style=\"text-align: right;\">\n",
       "      <th></th>\n",
       "      <th>RANK</th>\n",
       "      <th>COMPANY NAME</th>\n",
       "      <th>REVENUE(₹ Cr)</th>\n",
       "      <th>PAT IN CRORES</th>\n",
       "      <th>MARKET CAP(₹ Cr)</th>\n",
       "      <th>YEAR</th>\n",
       "    </tr>\n",
       "  </thead>\n",
       "  <tbody>\n",
       "    <tr>\n",
       "      <th>0</th>\n",
       "      <td>1</td>\n",
       "      <td>Reliance Industries Ltd.</td>\n",
       "      <td>505153</td>\n",
       "      <td>53739</td>\n",
       "      <td>1573893.0</td>\n",
       "      <td>2021</td>\n",
       "    </tr>\n",
       "    <tr>\n",
       "      <th>1500</th>\n",
       "      <td>1</td>\n",
       "      <td>Indian Oil Corporation Ltd.</td>\n",
       "      <td>424321</td>\n",
       "      <td>22189</td>\n",
       "      <td>130903.0</td>\n",
       "      <td>2018</td>\n",
       "    </tr>\n",
       "    <tr>\n",
       "      <th>1000</th>\n",
       "      <td>1</td>\n",
       "      <td>Reliance Industries Ltd.</td>\n",
       "      <td>575873</td>\n",
       "      <td>39588</td>\n",
       "      <td>949280.0</td>\n",
       "      <td>2019</td>\n",
       "    </tr>\n",
       "    <tr>\n",
       "      <th>500</th>\n",
       "      <td>1</td>\n",
       "      <td>Reliance Industries Ltd.</td>\n",
       "      <td>610806</td>\n",
       "      <td>39354</td>\n",
       "      <td>1246740.0</td>\n",
       "      <td>2020</td>\n",
       "    </tr>\n",
       "    <tr>\n",
       "      <th>1001</th>\n",
       "      <td>2</td>\n",
       "      <td>Indian Oil Corporation Ltd.</td>\n",
       "      <td>532247</td>\n",
       "      <td>17376</td>\n",
       "      <td>125768.0</td>\n",
       "      <td>2019</td>\n",
       "    </tr>\n",
       "    <tr>\n",
       "      <th>...</th>\n",
       "      <td>...</td>\n",
       "      <td>...</td>\n",
       "      <td>...</td>\n",
       "      <td>...</td>\n",
       "      <td>...</td>\n",
       "      <td>...</td>\n",
       "    </tr>\n",
       "    <tr>\n",
       "      <th>498</th>\n",
       "      <td>499</td>\n",
       "      <td>Ahluwalia Contracts (India) Ltd.</td>\n",
       "      <td>2004</td>\n",
       "      <td>77</td>\n",
       "      <td>2771.0</td>\n",
       "      <td>2021</td>\n",
       "    </tr>\n",
       "    <tr>\n",
       "      <th>999</th>\n",
       "      <td>500</td>\n",
       "      <td>VRL Logistics Ltd.</td>\n",
       "      <td>2128</td>\n",
       "      <td>90</td>\n",
       "      <td>1502.0</td>\n",
       "      <td>2020</td>\n",
       "    </tr>\n",
       "    <tr>\n",
       "      <th>499</th>\n",
       "      <td>500</td>\n",
       "      <td>JBM Auto Ltd.</td>\n",
       "      <td>1994</td>\n",
       "      <td>49</td>\n",
       "      <td>3758.0</td>\n",
       "      <td>2021</td>\n",
       "    </tr>\n",
       "    <tr>\n",
       "      <th>1499</th>\n",
       "      <td>500</td>\n",
       "      <td>Pennar Industries Ltd.</td>\n",
       "      <td>2159</td>\n",
       "      <td>66</td>\n",
       "      <td>433.0</td>\n",
       "      <td>2019</td>\n",
       "    </tr>\n",
       "    <tr>\n",
       "      <th>1999</th>\n",
       "      <td>500</td>\n",
       "      <td>Pfizer Ltd.</td>\n",
       "      <td>2055</td>\n",
       "      <td>360</td>\n",
       "      <td>12860.0</td>\n",
       "      <td>2018</td>\n",
       "    </tr>\n",
       "  </tbody>\n",
       "</table>\n",
       "<p>2000 rows × 6 columns</p>\n",
       "</div>"
      ],
      "text/plain": [
       "      RANK                      COMPANY NAME  REVENUE(₹ Cr)  PAT IN CRORES  \\\n",
       "0        1          Reliance Industries Ltd.         505153          53739   \n",
       "1500     1       Indian Oil Corporation Ltd.         424321          22189   \n",
       "1000     1          Reliance Industries Ltd.         575873          39588   \n",
       "500      1          Reliance Industries Ltd.         610806          39354   \n",
       "1001     2       Indian Oil Corporation Ltd.         532247          17376   \n",
       "...    ...                               ...            ...            ...   \n",
       "498    499  Ahluwalia Contracts (India) Ltd.           2004             77   \n",
       "999    500                VRL Logistics Ltd.           2128             90   \n",
       "499    500                     JBM Auto Ltd.           1994             49   \n",
       "1499   500            Pennar Industries Ltd.           2159             66   \n",
       "1999   500                       Pfizer Ltd.           2055            360   \n",
       "\n",
       "      MARKET CAP(₹ Cr)  YEAR  \n",
       "0            1573893.0  2021  \n",
       "1500          130903.0  2018  \n",
       "1000          949280.0  2019  \n",
       "500          1246740.0  2020  \n",
       "1001          125768.0  2019  \n",
       "...                ...   ...  \n",
       "498             2771.0  2021  \n",
       "999             1502.0  2020  \n",
       "499             3758.0  2021  \n",
       "1499             433.0  2019  \n",
       "1999           12860.0  2018  \n",
       "\n",
       "[2000 rows x 6 columns]"
      ]
     },
     "execution_count": 12,
     "metadata": {},
     "output_type": "execute_result"
    }
   ],
   "source": [
    "economic_times"
   ]
  },
  {
   "cell_type": "code",
   "execution_count": 13,
   "metadata": {},
   "outputs": [],
   "source": [
    "economic_times[\"COMPANY TYPE\"] = pd.cut(economic_times[\"MARKET CAP(₹ Cr)\"],bins = [0,5000,20000,2000000], labels=[\"Small-Cap\",\"Mid-Cap\",\"Large-Cap\"])"
   ]
  },
  {
   "cell_type": "code",
   "execution_count": 14,
   "metadata": {},
   "outputs": [
    {
     "data": {
      "text/html": [
       "<div>\n",
       "<style scoped>\n",
       "    .dataframe tbody tr th:only-of-type {\n",
       "        vertical-align: middle;\n",
       "    }\n",
       "\n",
       "    .dataframe tbody tr th {\n",
       "        vertical-align: top;\n",
       "    }\n",
       "\n",
       "    .dataframe thead th {\n",
       "        text-align: right;\n",
       "    }\n",
       "</style>\n",
       "<table border=\"1\" class=\"dataframe\">\n",
       "  <thead>\n",
       "    <tr style=\"text-align: right;\">\n",
       "      <th></th>\n",
       "      <th>RANK</th>\n",
       "      <th>COMPANY NAME</th>\n",
       "      <th>REVENUE(₹ Cr)</th>\n",
       "      <th>PAT IN CRORES</th>\n",
       "      <th>MARKET CAP(₹ Cr)</th>\n",
       "      <th>YEAR</th>\n",
       "      <th>COMPANY TYPE</th>\n",
       "    </tr>\n",
       "  </thead>\n",
       "  <tbody>\n",
       "    <tr>\n",
       "      <th>0</th>\n",
       "      <td>1</td>\n",
       "      <td>Reliance Industries Ltd.</td>\n",
       "      <td>505153</td>\n",
       "      <td>53739</td>\n",
       "      <td>1573893.0</td>\n",
       "      <td>2021</td>\n",
       "      <td>Large-Cap</td>\n",
       "    </tr>\n",
       "    <tr>\n",
       "      <th>1500</th>\n",
       "      <td>1</td>\n",
       "      <td>Indian Oil Corporation Ltd.</td>\n",
       "      <td>424321</td>\n",
       "      <td>22189</td>\n",
       "      <td>130903.0</td>\n",
       "      <td>2018</td>\n",
       "      <td>Large-Cap</td>\n",
       "    </tr>\n",
       "    <tr>\n",
       "      <th>1000</th>\n",
       "      <td>1</td>\n",
       "      <td>Reliance Industries Ltd.</td>\n",
       "      <td>575873</td>\n",
       "      <td>39588</td>\n",
       "      <td>949280.0</td>\n",
       "      <td>2019</td>\n",
       "      <td>Large-Cap</td>\n",
       "    </tr>\n",
       "    <tr>\n",
       "      <th>500</th>\n",
       "      <td>1</td>\n",
       "      <td>Reliance Industries Ltd.</td>\n",
       "      <td>610806</td>\n",
       "      <td>39354</td>\n",
       "      <td>1246740.0</td>\n",
       "      <td>2020</td>\n",
       "      <td>Large-Cap</td>\n",
       "    </tr>\n",
       "    <tr>\n",
       "      <th>1001</th>\n",
       "      <td>2</td>\n",
       "      <td>Indian Oil Corporation Ltd.</td>\n",
       "      <td>532247</td>\n",
       "      <td>17376</td>\n",
       "      <td>125768.0</td>\n",
       "      <td>2019</td>\n",
       "      <td>Large-Cap</td>\n",
       "    </tr>\n",
       "    <tr>\n",
       "      <th>...</th>\n",
       "      <td>...</td>\n",
       "      <td>...</td>\n",
       "      <td>...</td>\n",
       "      <td>...</td>\n",
       "      <td>...</td>\n",
       "      <td>...</td>\n",
       "      <td>...</td>\n",
       "    </tr>\n",
       "    <tr>\n",
       "      <th>498</th>\n",
       "      <td>499</td>\n",
       "      <td>Ahluwalia Contracts (India) Ltd.</td>\n",
       "      <td>2004</td>\n",
       "      <td>77</td>\n",
       "      <td>2771.0</td>\n",
       "      <td>2021</td>\n",
       "      <td>Small-Cap</td>\n",
       "    </tr>\n",
       "    <tr>\n",
       "      <th>999</th>\n",
       "      <td>500</td>\n",
       "      <td>VRL Logistics Ltd.</td>\n",
       "      <td>2128</td>\n",
       "      <td>90</td>\n",
       "      <td>1502.0</td>\n",
       "      <td>2020</td>\n",
       "      <td>Small-Cap</td>\n",
       "    </tr>\n",
       "    <tr>\n",
       "      <th>499</th>\n",
       "      <td>500</td>\n",
       "      <td>JBM Auto Ltd.</td>\n",
       "      <td>1994</td>\n",
       "      <td>49</td>\n",
       "      <td>3758.0</td>\n",
       "      <td>2021</td>\n",
       "      <td>Small-Cap</td>\n",
       "    </tr>\n",
       "    <tr>\n",
       "      <th>1499</th>\n",
       "      <td>500</td>\n",
       "      <td>Pennar Industries Ltd.</td>\n",
       "      <td>2159</td>\n",
       "      <td>66</td>\n",
       "      <td>433.0</td>\n",
       "      <td>2019</td>\n",
       "      <td>Small-Cap</td>\n",
       "    </tr>\n",
       "    <tr>\n",
       "      <th>1999</th>\n",
       "      <td>500</td>\n",
       "      <td>Pfizer Ltd.</td>\n",
       "      <td>2055</td>\n",
       "      <td>360</td>\n",
       "      <td>12860.0</td>\n",
       "      <td>2018</td>\n",
       "      <td>Mid-Cap</td>\n",
       "    </tr>\n",
       "  </tbody>\n",
       "</table>\n",
       "<p>2000 rows × 7 columns</p>\n",
       "</div>"
      ],
      "text/plain": [
       "      RANK                      COMPANY NAME  REVENUE(₹ Cr)  PAT IN CRORES  \\\n",
       "0        1          Reliance Industries Ltd.         505153          53739   \n",
       "1500     1       Indian Oil Corporation Ltd.         424321          22189   \n",
       "1000     1          Reliance Industries Ltd.         575873          39588   \n",
       "500      1          Reliance Industries Ltd.         610806          39354   \n",
       "1001     2       Indian Oil Corporation Ltd.         532247          17376   \n",
       "...    ...                               ...            ...            ...   \n",
       "498    499  Ahluwalia Contracts (India) Ltd.           2004             77   \n",
       "999    500                VRL Logistics Ltd.           2128             90   \n",
       "499    500                     JBM Auto Ltd.           1994             49   \n",
       "1499   500            Pennar Industries Ltd.           2159             66   \n",
       "1999   500                       Pfizer Ltd.           2055            360   \n",
       "\n",
       "      MARKET CAP(₹ Cr)  YEAR COMPANY TYPE  \n",
       "0            1573893.0  2021    Large-Cap  \n",
       "1500          130903.0  2018    Large-Cap  \n",
       "1000          949280.0  2019    Large-Cap  \n",
       "500          1246740.0  2020    Large-Cap  \n",
       "1001          125768.0  2019    Large-Cap  \n",
       "...                ...   ...          ...  \n",
       "498             2771.0  2021    Small-Cap  \n",
       "999             1502.0  2020    Small-Cap  \n",
       "499             3758.0  2021    Small-Cap  \n",
       "1499             433.0  2019    Small-Cap  \n",
       "1999           12860.0  2018      Mid-Cap  \n",
       "\n",
       "[2000 rows x 7 columns]"
      ]
     },
     "execution_count": 14,
     "metadata": {},
     "output_type": "execute_result"
    }
   ],
   "source": [
    "economic_times"
   ]
  },
  {
   "cell_type": "markdown",
   "metadata": {},
   "source": [
    "### <font size = \"5\" color = \"Pink\" face = \"Times New Roman\">**Filtering the data in terms of the years**</font>\n",
    "\n",
    "> <u>**Filtering the data only for 4 years (2018 -2021)**</u>\n",
    "\n",
    "> **The reason for only taking 4 years to compare the companies pre-covid and post covid**"
   ]
  },
  {
   "cell_type": "code",
   "execution_count": 15,
   "metadata": {},
   "outputs": [],
   "source": [
    "\n",
    "df_dict = {}\n",
    "year_objects = economic_times[\"YEAR\"].unique()\n",
    "def filtering_by_year(years,dfs):\n",
    "    '''\n",
    "    Segregating the data by years and resetting the  index\n",
    "    \n",
    "\n",
    "    Returns : Dictionary\n",
    "        keys : Dataframe objects\n",
    "        Values : Dataframe\n",
    " \n",
    "    Parameters\n",
    "    ----------\n",
    "\n",
    "    years : int or array\n",
    "    Advisable to take unique values for years by passing\n",
    "    DataFrame[column_name].unique()\n",
    "\n",
    "    dfs : DataFrame obeject\n",
    "    The DataFrame name on which the operation should be performed\n",
    "    ----------\n",
    "    \n",
    "    '''\n",
    "    \n",
    "    \n",
    "\n",
    "    for i in dfs[years].unique():\n",
    "\n",
    "            df = dfs.loc[dfs[\"YEAR\"] == i].reset_index().drop(\"index\", axis = 1)\n",
    "            df_dict.update({f\"economic_times_{i}\" : df})\n",
    "            \n",
    "         \n",
    "        \n",
    "filtering_by_year(\"YEAR\", economic_times)\n",
    "        "
   ]
  },
  {
   "cell_type": "code",
   "execution_count": null,
   "metadata": {},
   "outputs": [],
   "source": [
    "def renaming_columns(years = list):\n",
    "    \"\"\"\n",
    "    Renaming columns for easier identification.\n",
    "    looping throug years, renaming columns by year\n",
    "    \n",
    "    Returns : no return value\n",
    "    Updates the data frame \n",
    "\n",
    "    Parameter\n",
    "    ---------\n",
    "    years : list or array\n",
    "\n",
    "    ---------\n",
    "\n",
    "    \"\"\"\n",
    "    for i in years:\n",
    "        if i > 2017:\n",
    "            df_dict[f\"economic_times_{i}\"] = df_dict[f\"economic_times_{i}\"].rename(columns = {\n",
    "                \"RANK\" : f\"RANK {i}\",\n",
    "                \"REVENUE(₹ Cr)\" : f\"{i} REVENUE(₹ Cr)\",\n",
    "                \"PAT IN CRORES\" : f\"{i} PAT IN CRORES\",\n",
    "                \"MARKET CAP(₹ Cr)\" : f\"{i} MARKET CAP(₹ Cr)\",\n",
    "                \"COMPANY TYPE\" : f\"{i} COMPANY TYPE\",\n",
    "                \"YEAR\"  : f\"YEAR {i}\"\n",
    "          \n",
    "            })\n",
    "renaming_columns(year_objects)"
   ]
  },
  {
   "cell_type": "code",
   "execution_count": null,
   "metadata": {},
   "outputs": [],
   "source": [
    "df_2021_2020 = df_dict[\"economic_times_2021\"].merge(df_dict[\"economic_times_2020\"], on = \"COMPANY NAME\", how = \"inner\")\n",
    "df_2019_2018 = df_dict[\"economic_times_2019\"].merge(df_dict[\"economic_times_2018\"], on = \"COMPANY NAME\", how = \"inner\")\n",
    "df_merged = df_2021_2020.merge(df_2019_2018, on = \"COMPANY NAME\", how= \"inner\")\n",
    "\n",
    "reports = {}\n",
    "reports.update({\"Merged_reports\" : df_merged})"
   ]
  },
  {
   "cell_type": "markdown",
   "metadata": {},
   "source": [
    "### <font size = \"5\" color = \"Pink\" face = \"Times New Roman\">**Details after merging the dataset**</font>\n",
    "\n",
    "<u>**Only 400 companies have been consistent in making it to ranking system for 4 years with all records available**</u>\n",
    "\n",
    "<u>**More than 200 companies  have been inconsistent with their performance in some years which effected their ranking which is why  their records haven't been entered in the dataset**</u>\n",
    "\n",
    "<u>The following datasets will have companies who have made it to the ET 500 list</u>"
   ]
  },
  {
   "cell_type": "code",
   "execution_count": null,
   "metadata": {},
   "outputs": [
    {
     "name": "stdout",
     "output_type": "stream",
     "text": [
      "['RANK', 'COMPANY NAME', 'REVENUE(₹ Cr)', 'PAT IN CRORES', 'MARKET CAP(₹ Cr)', 'YEAR', 'COMPANY TYPE']\n"
     ]
    }
   ],
   "source": [
    "column_names = list(economic_times.columns)\n",
    "'''\n",
    "Returns percentage change between two values\n",
    "Specifically percentage change between two years\n",
    "This function takes user input on coloumns and the year to perform the operation\n",
    "\n",
    "Return : Dataframe[column]\n",
    "\n",
    "Parameters\n",
    "----------\n",
    "dict_key : str only\n",
    "\n",
    "'''\n",
    "def percentage_change(dict_key = str):\n",
    "    for timeline in year_objects:\n",
    "       if  timeline > 2017: \n",
    "        try:\n",
    "            print(column_names)\n",
    "            for i in range(1,4):\n",
    "                column_index = int(input(\"Enter the column index no.\"))\n",
    "                print(column_index)\n",
    "                column = column_names[column_index]\n",
    "                year = int(input(\"Enter the year\"))\n",
    "                print(f\"The column you entered : {year} {column}\")\n",
    "                if year < 2018:\n",
    "                    sys.exit(\"The least value for year parameter is 2019\")\n",
    "\n",
    "                else:\n",
    "                    reports[dict_key][f\"{year} {column}_%CHANGE\"] = (reports[dict_key][f\"{year} {column}\"] - reports[dict_key][f\"{year-1} {column}\"])/reports[dict_key][f\"{year-1} {column}\"]*100\n",
    "        except ValueError:\n",
    "            pass\n",
    "\n",
    "percentage_change(dict_key= \"Merged_reports\")"
   ]
  },
  {
   "cell_type": "code",
   "execution_count": null,
   "metadata": {},
   "outputs": [
    {
     "name": "stdout",
     "output_type": "stream",
     "text": [
      "Report is created for the year 2021\n",
      "Report is created for the year 2020\n",
      "Report is created for the year 2019\n"
     ]
    }
   ],
   "source": [
    "reporting_years = [2021,2020,2019]\n",
    "def creating_reports(year_objects,dict_key):\n",
    "    \n",
    "    '''\n",
    "    Segregates the merged report into respective years by Dataframe columns\n",
    "    The user can give his input based on the given years in the list\n",
    "     \n",
    "    returns : Dictionary\n",
    "        dictionary key  = Dataframe object\n",
    "        dictionary values = Dataframe \n",
    "\n",
    "    Parameters\n",
    "    ----------\n",
    "    year_objects : list or array\n",
    "\n",
    "    dict_key : str\n",
    "\n",
    "    ----------\n",
    "\n",
    "    '''\n",
    "    global yearly_reports_list\n",
    "    yearly_reports_list = []\n",
    "    columns_list = list(reports[dict_key].columns)\n",
    "    try:  \n",
    "        year_name = int(input(\"Give the year in which you want to create the report\"))\n",
    "    \n",
    "        if year_name not in reporting_years:\n",
    "            sys.exit(\"Invalid\")\n",
    "        for columns in columns_list:\n",
    "            if \"COMPANY NAME\" in columns:\n",
    "                yearly_reports_list.append(columns)\n",
    "            if f\"{year_name}\" in columns:\n",
    "                yearly_reports_list.append(columns)\n",
    "            if f\"YEAR {year_name}\" in yearly_reports_list:\n",
    "                yearly_reports_list.remove(columns)\n",
    "\n",
    "        \n",
    "        df = reports[dict_key][yearly_reports_list]\n",
    "        reports.update({f\"ET_REPORT_{year_name}\" : df}) \n",
    "\n",
    "        print(f\"Report is created for the year {year_name}\")\n",
    "    \n",
    "    except ValueError:\n",
    "        print(\"No input entered\")\n",
    "          \n",
    "           \n",
    "               \n",
    "    \n",
    "    \n",
    "\n",
    "creating_reports(reporting_years,\"Merged_reports\")\n",
    "for i in range(2):\n",
    "    creating_reports(reporting_years,\"Merged_reports\")\n"
   ]
  },
  {
   "cell_type": "code",
   "execution_count": null,
   "metadata": {},
   "outputs": [
    {
     "data": {
      "text/html": [
       "<div>\n",
       "<style scoped>\n",
       "    .dataframe tbody tr th:only-of-type {\n",
       "        vertical-align: middle;\n",
       "    }\n",
       "\n",
       "    .dataframe tbody tr th {\n",
       "        vertical-align: top;\n",
       "    }\n",
       "\n",
       "    .dataframe thead th {\n",
       "        text-align: right;\n",
       "    }\n",
       "</style>\n",
       "<table border=\"1\" class=\"dataframe\">\n",
       "  <thead>\n",
       "    <tr style=\"text-align: right;\">\n",
       "      <th></th>\n",
       "      <th>COMPANY NAME</th>\n",
       "      <th>RANK 2019</th>\n",
       "      <th>2019 REVENUE(₹ Cr)</th>\n",
       "      <th>2019 PAT IN CRORES</th>\n",
       "      <th>2019 MARKET CAP(₹ Cr)</th>\n",
       "      <th>2019 COMPANY TYPE</th>\n",
       "      <th>2019 REVENUE(₹ Cr)_%CHANGE</th>\n",
       "      <th>2019 PAT IN CRORES_%CHANGE</th>\n",
       "      <th>2019 MARKET CAP(₹ Cr)_%CHANGE</th>\n",
       "    </tr>\n",
       "  </thead>\n",
       "  <tbody>\n",
       "    <tr>\n",
       "      <th>0</th>\n",
       "      <td>Reliance Industries Ltd.</td>\n",
       "      <td>1</td>\n",
       "      <td>575873</td>\n",
       "      <td>39588</td>\n",
       "      <td>949280.0</td>\n",
       "      <td>Large-Cap</td>\n",
       "      <td>40.355842</td>\n",
       "      <td>9.738046</td>\n",
       "      <td>36.028843</td>\n",
       "    </tr>\n",
       "    <tr>\n",
       "      <th>1</th>\n",
       "      <td>State Bank of India</td>\n",
       "      <td>4</td>\n",
       "      <td>330687</td>\n",
       "      <td>2299</td>\n",
       "      <td>290140.0</td>\n",
       "      <td>Large-Cap</td>\n",
       "      <td>7.881851</td>\n",
       "      <td>-150.460931</td>\n",
       "      <td>23.007394</td>\n",
       "    </tr>\n",
       "    <tr>\n",
       "      <th>2</th>\n",
       "      <td>Indian Oil Corporation Ltd.</td>\n",
       "      <td>2</td>\n",
       "      <td>532247</td>\n",
       "      <td>17376</td>\n",
       "      <td>125768.0</td>\n",
       "      <td>Large-Cap</td>\n",
       "      <td>25.434989</td>\n",
       "      <td>-21.690928</td>\n",
       "      <td>-3.922752</td>\n",
       "    </tr>\n",
       "    <tr>\n",
       "      <th>3</th>\n",
       "      <td>Oil And Natural Gas Corporation Ltd.</td>\n",
       "      <td>3</td>\n",
       "      <td>432962</td>\n",
       "      <td>30494</td>\n",
       "      <td>172135.0</td>\n",
       "      <td>Large-Cap</td>\n",
       "      <td>29.962809</td>\n",
       "      <td>37.950690</td>\n",
       "      <td>-15.265793</td>\n",
       "    </tr>\n",
       "    <tr>\n",
       "      <th>4</th>\n",
       "      <td>Rajesh Exports Ltd.</td>\n",
       "      <td>8</td>\n",
       "      <td>175830</td>\n",
       "      <td>1292</td>\n",
       "      <td>20200.0</td>\n",
       "      <td>Large-Cap</td>\n",
       "      <td>-6.347871</td>\n",
       "      <td>2.134387</td>\n",
       "      <td>12.918553</td>\n",
       "    </tr>\n",
       "  </tbody>\n",
       "</table>\n",
       "</div>"
      ],
      "text/plain": [
       "                           COMPANY NAME  RANK 2019  2019 REVENUE(₹ Cr)  \\\n",
       "0              Reliance Industries Ltd.          1              575873   \n",
       "1                   State Bank of India          4              330687   \n",
       "2           Indian Oil Corporation Ltd.          2              532247   \n",
       "3  Oil And Natural Gas Corporation Ltd.          3              432962   \n",
       "4                   Rajesh Exports Ltd.          8              175830   \n",
       "\n",
       "   2019 PAT IN CRORES  2019 MARKET CAP(₹ Cr) 2019 COMPANY TYPE  \\\n",
       "0               39588               949280.0         Large-Cap   \n",
       "1                2299               290140.0         Large-Cap   \n",
       "2               17376               125768.0         Large-Cap   \n",
       "3               30494               172135.0         Large-Cap   \n",
       "4                1292                20200.0         Large-Cap   \n",
       "\n",
       "   2019 REVENUE(₹ Cr)_%CHANGE  2019 PAT IN CRORES_%CHANGE  \\\n",
       "0                   40.355842                    9.738046   \n",
       "1                    7.881851                 -150.460931   \n",
       "2                   25.434989                  -21.690928   \n",
       "3                   29.962809                   37.950690   \n",
       "4                   -6.347871                    2.134387   \n",
       "\n",
       "   2019 MARKET CAP(₹ Cr)_%CHANGE  \n",
       "0                      36.028843  \n",
       "1                      23.007394  \n",
       "2                      -3.922752  \n",
       "3                     -15.265793  \n",
       "4                      12.918553  "
      ]
     },
     "execution_count": 73,
     "metadata": {},
     "output_type": "execute_result"
    }
   ],
   "source": [
    "reports[\"ET_REPORT_2019\"].head(5)"
   ]
  },
  {
   "cell_type": "code",
   "execution_count": null,
   "metadata": {},
   "outputs": [
    {
     "data": {
      "text/html": [
       "<div>\n",
       "<style scoped>\n",
       "    .dataframe tbody tr th:only-of-type {\n",
       "        vertical-align: middle;\n",
       "    }\n",
       "\n",
       "    .dataframe tbody tr th {\n",
       "        vertical-align: top;\n",
       "    }\n",
       "\n",
       "    .dataframe thead th {\n",
       "        text-align: right;\n",
       "    }\n",
       "</style>\n",
       "<table border=\"1\" class=\"dataframe\">\n",
       "  <thead>\n",
       "    <tr style=\"text-align: right;\">\n",
       "      <th></th>\n",
       "      <th>COMPANY NAME</th>\n",
       "      <th>RANK 2020</th>\n",
       "      <th>2020 REVENUE(₹ Cr)</th>\n",
       "      <th>2020 PAT IN CRORES</th>\n",
       "      <th>2020 MARKET CAP(₹ Cr)</th>\n",
       "      <th>2020 COMPANY TYPE</th>\n",
       "      <th>2020 REVENUE(₹ Cr)_%CHANGE</th>\n",
       "      <th>2020 PAT IN CRORES_%CHANGE</th>\n",
       "      <th>2020 MARKET CAP(₹ Cr)_%CHANGE</th>\n",
       "    </tr>\n",
       "  </thead>\n",
       "  <tbody>\n",
       "    <tr>\n",
       "      <th>0</th>\n",
       "      <td>Reliance Industries Ltd.</td>\n",
       "      <td>1</td>\n",
       "      <td>610806</td>\n",
       "      <td>39354</td>\n",
       "      <td>1246740.0</td>\n",
       "      <td>Large-Cap</td>\n",
       "      <td>6.066094</td>\n",
       "      <td>-0.591088</td>\n",
       "      <td>31.335328</td>\n",
       "    </tr>\n",
       "    <tr>\n",
       "      <th>1</th>\n",
       "      <td>State Bank of India</td>\n",
       "      <td>4</td>\n",
       "      <td>368010</td>\n",
       "      <td>19767</td>\n",
       "      <td>205587.0</td>\n",
       "      <td>Large-Cap</td>\n",
       "      <td>11.286504</td>\n",
       "      <td>759.808612</td>\n",
       "      <td>-29.142138</td>\n",
       "    </tr>\n",
       "    <tr>\n",
       "      <th>2</th>\n",
       "      <td>Indian Oil Corporation Ltd.</td>\n",
       "      <td>2</td>\n",
       "      <td>488518</td>\n",
       "      <td>-893</td>\n",
       "      <td>78565.0</td>\n",
       "      <td>Large-Cap</td>\n",
       "      <td>-8.215922</td>\n",
       "      <td>-105.139273</td>\n",
       "      <td>-37.531805</td>\n",
       "    </tr>\n",
       "    <tr>\n",
       "      <th>3</th>\n",
       "      <td>Oil And Natural Gas Corporation Ltd.</td>\n",
       "      <td>3</td>\n",
       "      <td>406388</td>\n",
       "      <td>10907</td>\n",
       "      <td>90615.0</td>\n",
       "      <td>Large-Cap</td>\n",
       "      <td>-6.137721</td>\n",
       "      <td>-64.232308</td>\n",
       "      <td>-47.358178</td>\n",
       "    </tr>\n",
       "    <tr>\n",
       "      <th>4</th>\n",
       "      <td>Rajesh Exports Ltd.</td>\n",
       "      <td>8</td>\n",
       "      <td>195607</td>\n",
       "      <td>1205</td>\n",
       "      <td>13368.0</td>\n",
       "      <td>Mid-Cap</td>\n",
       "      <td>11.247796</td>\n",
       "      <td>-6.733746</td>\n",
       "      <td>-33.821782</td>\n",
       "    </tr>\n",
       "  </tbody>\n",
       "</table>\n",
       "</div>"
      ],
      "text/plain": [
       "                           COMPANY NAME  RANK 2020  2020 REVENUE(₹ Cr)  \\\n",
       "0              Reliance Industries Ltd.          1              610806   \n",
       "1                   State Bank of India          4              368010   \n",
       "2           Indian Oil Corporation Ltd.          2              488518   \n",
       "3  Oil And Natural Gas Corporation Ltd.          3              406388   \n",
       "4                   Rajesh Exports Ltd.          8              195607   \n",
       "\n",
       "   2020 PAT IN CRORES  2020 MARKET CAP(₹ Cr) 2020 COMPANY TYPE  \\\n",
       "0               39354              1246740.0         Large-Cap   \n",
       "1               19767               205587.0         Large-Cap   \n",
       "2                -893                78565.0         Large-Cap   \n",
       "3               10907                90615.0         Large-Cap   \n",
       "4                1205                13368.0           Mid-Cap   \n",
       "\n",
       "   2020 REVENUE(₹ Cr)_%CHANGE  2020 PAT IN CRORES_%CHANGE  \\\n",
       "0                    6.066094                   -0.591088   \n",
       "1                   11.286504                  759.808612   \n",
       "2                   -8.215922                 -105.139273   \n",
       "3                   -6.137721                  -64.232308   \n",
       "4                   11.247796                   -6.733746   \n",
       "\n",
       "   2020 MARKET CAP(₹ Cr)_%CHANGE  \n",
       "0                      31.335328  \n",
       "1                     -29.142138  \n",
       "2                     -37.531805  \n",
       "3                     -47.358178  \n",
       "4                     -33.821782  "
      ]
     },
     "execution_count": 74,
     "metadata": {},
     "output_type": "execute_result"
    }
   ],
   "source": [
    "reports[\"ET_REPORT_2020\"].head(5)"
   ]
  },
  {
   "cell_type": "code",
   "execution_count": null,
   "metadata": {},
   "outputs": [
    {
     "data": {
      "text/html": [
       "<div>\n",
       "<style scoped>\n",
       "    .dataframe tbody tr th:only-of-type {\n",
       "        vertical-align: middle;\n",
       "    }\n",
       "\n",
       "    .dataframe tbody tr th {\n",
       "        vertical-align: top;\n",
       "    }\n",
       "\n",
       "    .dataframe thead th {\n",
       "        text-align: right;\n",
       "    }\n",
       "</style>\n",
       "<table border=\"1\" class=\"dataframe\">\n",
       "  <thead>\n",
       "    <tr style=\"text-align: right;\">\n",
       "      <th></th>\n",
       "      <th>RANK 2021</th>\n",
       "      <th>COMPANY NAME</th>\n",
       "      <th>2021 REVENUE(₹ Cr)</th>\n",
       "      <th>2021 PAT IN CRORES</th>\n",
       "      <th>2021 MARKET CAP(₹ Cr)</th>\n",
       "      <th>2021 COMPANY TYPE</th>\n",
       "      <th>2021 REVENUE(₹ Cr)_%CHANGE</th>\n",
       "      <th>2021 PAT IN CRORES_%CHANGE</th>\n",
       "      <th>2021 MARKET CAP(₹ Cr)_%CHANGE</th>\n",
       "    </tr>\n",
       "  </thead>\n",
       "  <tbody>\n",
       "    <tr>\n",
       "      <th>0</th>\n",
       "      <td>1</td>\n",
       "      <td>Reliance Industries Ltd.</td>\n",
       "      <td>505153</td>\n",
       "      <td>53739</td>\n",
       "      <td>1573893.0</td>\n",
       "      <td>Large-Cap</td>\n",
       "      <td>-17.297309</td>\n",
       "      <td>36.552828</td>\n",
       "      <td>26.240676</td>\n",
       "    </tr>\n",
       "    <tr>\n",
       "      <th>1</th>\n",
       "      <td>2</td>\n",
       "      <td>State Bank of India</td>\n",
       "      <td>385337</td>\n",
       "      <td>24279</td>\n",
       "      <td>448717.0</td>\n",
       "      <td>Large-Cap</td>\n",
       "      <td>4.708296</td>\n",
       "      <td>22.825922</td>\n",
       "      <td>118.261369</td>\n",
       "    </tr>\n",
       "    <tr>\n",
       "      <th>2</th>\n",
       "      <td>3</td>\n",
       "      <td>Indian Oil Corporation Ltd.</td>\n",
       "      <td>368645</td>\n",
       "      <td>21762</td>\n",
       "      <td>122384.0</td>\n",
       "      <td>Large-Cap</td>\n",
       "      <td>-24.538093</td>\n",
       "      <td>-2536.954087</td>\n",
       "      <td>55.774200</td>\n",
       "    </tr>\n",
       "    <tr>\n",
       "      <th>3</th>\n",
       "      <td>4</td>\n",
       "      <td>Oil And Natural Gas Corporation Ltd.</td>\n",
       "      <td>315262</td>\n",
       "      <td>21343</td>\n",
       "      <td>191776.0</td>\n",
       "      <td>Large-Cap</td>\n",
       "      <td>-22.423398</td>\n",
       "      <td>95.681672</td>\n",
       "      <td>111.638250</td>\n",
       "    </tr>\n",
       "    <tr>\n",
       "      <th>4</th>\n",
       "      <td>5</td>\n",
       "      <td>Rajesh Exports Ltd.</td>\n",
       "      <td>258315</td>\n",
       "      <td>845</td>\n",
       "      <td>20169.0</td>\n",
       "      <td>Large-Cap</td>\n",
       "      <td>32.058157</td>\n",
       "      <td>-29.875519</td>\n",
       "      <td>50.875224</td>\n",
       "    </tr>\n",
       "  </tbody>\n",
       "</table>\n",
       "</div>"
      ],
      "text/plain": [
       "   RANK 2021                          COMPANY NAME  2021 REVENUE(₹ Cr)  \\\n",
       "0          1              Reliance Industries Ltd.              505153   \n",
       "1          2                   State Bank of India              385337   \n",
       "2          3           Indian Oil Corporation Ltd.              368645   \n",
       "3          4  Oil And Natural Gas Corporation Ltd.              315262   \n",
       "4          5                   Rajesh Exports Ltd.              258315   \n",
       "\n",
       "   2021 PAT IN CRORES  2021 MARKET CAP(₹ Cr) 2021 COMPANY TYPE  \\\n",
       "0               53739              1573893.0         Large-Cap   \n",
       "1               24279               448717.0         Large-Cap   \n",
       "2               21762               122384.0         Large-Cap   \n",
       "3               21343               191776.0         Large-Cap   \n",
       "4                 845                20169.0         Large-Cap   \n",
       "\n",
       "   2021 REVENUE(₹ Cr)_%CHANGE  2021 PAT IN CRORES_%CHANGE  \\\n",
       "0                  -17.297309                   36.552828   \n",
       "1                    4.708296                   22.825922   \n",
       "2                  -24.538093                -2536.954087   \n",
       "3                  -22.423398                   95.681672   \n",
       "4                   32.058157                  -29.875519   \n",
       "\n",
       "   2021 MARKET CAP(₹ Cr)_%CHANGE  \n",
       "0                      26.240676  \n",
       "1                     118.261369  \n",
       "2                      55.774200  \n",
       "3                     111.638250  \n",
       "4                      50.875224  "
      ]
     },
     "execution_count": 75,
     "metadata": {},
     "output_type": "execute_result"
    }
   ],
   "source": [
    "reports[\"ET_REPORT_2021\"].head(5)"
   ]
  },
  {
   "cell_type": "markdown",
   "metadata": {},
   "source": [
    " <font size = \"7\" color = \"Orange\" face = \"Times New Roman\">**Data Visualization**</font>"
   ]
  },
  {
   "cell_type": "markdown",
   "metadata": {},
   "source": [
    "<font size = \"5\" color = \"Pink\" face = \"Times New Roman\">**Companies by Market Capitalisation**</font>"
   ]
  },
  {
   "cell_type": "code",
   "execution_count": null,
   "metadata": {},
   "outputs": [
    {
     "data": {
      "application/vnd.plotly.v1+json": {
       "config": {
        "plotlyServerURL": "https://plot.ly"
       },
       "data": [
        {
         "hovertemplate": "<b>%{hovertext}</b><br><br>2020 COMPANY TYPE=%{x}<br>2020 MARKET CAP(₹ Cr)=%{marker.size}<extra></extra>",
         "hovertext": [
          "Reliance Industries Ltd.",
          "State Bank of India",
          "Indian Oil Corporation Ltd.",
          "Oil And Natural Gas Corporation Ltd.",
          "Tata Motors Ltd.",
          "Bharat Petroleum Corporation Ltd.",
          "Hindustan Petroleum Corporation Ltd.",
          "Tata Consultancy Services Ltd.",
          "ICICI Bank Ltd.",
          "Tata Steel Ltd.",
          "HDFC Bank Ltd.",
          "Larsen & Toubro Ltd.",
          "Housing Development Finance Corporation Ltd.",
          "Hindalco Industries Ltd.",
          "NTPC Ltd.",
          "Bharti Airtel Ltd.",
          "Infosys Ltd.",
          "Punjab National Bank",
          "Coal India Ltd.",
          "Vedanta Ltd.",
          "Bank of Baroda",
          "ICICI Prudential Life Insurance Company Ltd.",
          "SBI Life Insurance Company Ltd.",
          "Axis Bank Ltd.",
          "JSW Steel Ltd.",
          "Grasim Industries Ltd.",
          "Mahindra & Mahindra Ltd.",
          "HCL Technologies Ltd.",
          "Maruti Suzuki India Ltd.",
          "HDFC Life Insurance Company Ltd.",
          "Power Finance Corporation Ltd.",
          "Wipro Ltd.",
          "Bajaj Finserv Ltd.",
          "GAIL (India) Ltd.",
          "Motherson Sumi Systems Ltd.",
          "Kotak Mahindra Bank Ltd.",
          "ITC Ltd.",
          "Jindal Steel & Power Ltd.",
          "General Insurance Corporation of India",
          "Hindustan Unilever Ltd.",
          "UltraTech Cement Ltd.",
          "Vodafone Idea Ltd.",
          "Power Grid Corporation of India Ltd.",
          "Adani Enterprises Ltd.",
          "UPL Ltd.",
          "Tech Mahindra Ltd.",
          "REC Ltd.",
          "IndusInd Bank Ltd.",
          "Sun Pharmaceutical Industries Ltd.",
          "Hero MotoCorp Ltd.",
          "Bajaj Auto Ltd.",
          "Aurobindo Pharma Ltd.",
          "Bajaj Finance Ltd.",
          "Petronet LNG Ltd.",
          "Ambuja Cements Ltd.",
          "IDBI Bank Ltd.",
          "Hindustan Zinc Ltd.",
          "Avenue Supermarts Ltd.",
          "YES Bank Ltd.",
          "Hindustan Aeronautics Ltd.",
          "Asian Paints Ltd.",
          "Titan Company Ltd.",
          "Ashok Leyland Ltd.",
          "TVS Motor Company Ltd.",
          "Cipla Ltd.",
          "Dr. Reddy's Laboratories Ltd.",
          "Shriram Transport Finance Company Ltd.",
          "Tata Communications Ltd.",
          "MRF Ltd.",
          "NMDC Ltd.",
          "InterGlobe Aviation Ltd.",
          "Lupin Ltd.",
          "Adani Ports & Special Economic Zone Ltd.",
          "Indus Towers Ltd.",
          "Cadila Healthcare Ltd.",
          "Bandhan Bank Ltd.",
          "Coromandel International Ltd.",
          "Bharat Electronics Ltd.",
          "ACC Ltd.",
          "Shree Cements Ltd.",
          "Piramal Enterprises Ltd.",
          "Nestle India Ltd.",
          "Britannia Industries Ltd.",
          "ICICI Lombard General Insurance Company Ltd.",
          "Larsen & Toubro Infotech Ltd.",
          "Tata Consumer Products Ltd.",
          "Muthoot Finance Ltd.",
          "Godrej Consumer Products Ltd.",
          "NHPC Ltd.",
          "Adani Transmission Ltd.",
          "Apollo Hospitals Enterprise Ltd.",
          "Havells India Ltd.",
          "Siemens Ltd.",
          "Bosch Ltd.",
          "Gujarat Gas Ltd.",
          "Dabur India Ltd.",
          "MphasiS Ltd.",
          "Cholamandalam Investment & Finance Company Ltd.",
          "Eicher Motors Ltd.",
          "Alkem Laboratories Ltd.",
          "Marico Ltd.",
          "SRF Ltd.",
          "United Spirits Ltd.",
          "MindTree Ltd.",
          "Torrent Pharmaceuticals Ltd.",
          "Voltas Ltd.",
          "Varun Beverages Ltd.",
          "Whirlpool of India Ltd.",
          "Pidilite Industries Ltd.",
          "Biocon Ltd.",
          "Divi's Laboratories Ltd.",
          "Berger Paints (India) Ltd.",
          "Container Corporation of India Ltd.",
          "Bharat Forge Ltd.",
          "Au Small Finance Bank Ltd.",
          "ABB India Ltd.",
          "Balkrishna Industries Ltd.",
          "DLF Ltd.",
          "Kansai Nerolac Paints Ltd.",
          "Ipca Laboratories Ltd.",
          "The Ramco Cements Ltd.",
          "Indraprastha Gas Ltd.",
          "Oracle Financial Services Software Ltd.",
          "Colgate-Palmolive (India) Ltd.",
          "PI Industries Ltd.",
          "Abbott India Ltd.",
          "United Breweries Ltd.",
          "Bayer Cropscience Ltd.",
          "Procter & Gamble Hygiene & Healthcare Ltd.",
          "Jubilant Foodworks Ltd.",
          "GlaxoSmithKline Pharmaceuticals Ltd.",
          "Honeywell Automation India Ltd.",
          "Page Industries Ltd.",
          "Trent Ltd.",
          "3M India Ltd.",
          "Pfizer Ltd."
         ],
         "legendgroup": "Large-Cap",
         "marker": {
          "color": "#636efa",
          "size": [
           1246740,
           205587,
           78565,
           90615,
           47878,
           82333,
           31814,
           1003464,
           323211,
           54896,
           749216,
           148023,
           401874,
           46131,
           89555,
           256068,
           473092,
           27846,
           75716,
           39243,
           21834,
           62215,
           82849,
           179904,
           81051,
           54415,
           81632,
           224430,
           209840,
           127501,
           26578,
           198066,
           116617,
           41957,
           41017,
           352280,
           226073,
           22713,
           22315,
           500830,
           137576,
           26256,
           97897,
           41268,
           32418,
           81587,
           22395,
           59067,
           121430,
           60121,
           87433,
           48229,
           258529,
           36812,
           51283,
           38587,
           93622,
           151715,
           34536,
           25032,
           209672,
           114073,
           26155,
           22636,
           60498,
           80385,
           22744,
           28790,
           30858,
           28275,
           59926,
           40877,
           76544,
           35512,
           43893,
           55188,
           22340,
           23980,
           31542,
           83888,
           31252,
           165267,
           84706,
           59424,
           53749,
           47123,
           47400,
           70082,
           20823,
           37315,
           30799,
           51193,
           49285,
           35481,
           21751,
           90527,
           24823,
           26617,
           65451,
           32546,
           48197,
           29484,
           40013,
           22294,
           44093,
           25137,
           21278,
           26801,
           79610,
           50407,
           89663,
           62532,
           24442,
           22847,
           25644,
           20981,
           29773,
           44413,
           28260,
           27524,
           20061,
           30577,
           26380,
           41127,
           35108,
           32849,
           26878,
           23542,
           34286,
           31686,
           24681,
           26660,
           24282,
           25585,
           23494,
           23060
          ],
          "sizemode": "area",
          "sizeref": 124.674,
          "symbol": "circle"
         },
         "mode": "markers",
         "name": "Large-Cap",
         "orientation": "v",
         "showlegend": true,
         "type": "scatter",
         "x": [
          "Large-Cap",
          "Large-Cap",
          "Large-Cap",
          "Large-Cap",
          "Large-Cap",
          "Large-Cap",
          "Large-Cap",
          "Large-Cap",
          "Large-Cap",
          "Large-Cap",
          "Large-Cap",
          "Large-Cap",
          "Large-Cap",
          "Large-Cap",
          "Large-Cap",
          "Large-Cap",
          "Large-Cap",
          "Large-Cap",
          "Large-Cap",
          "Large-Cap",
          "Large-Cap",
          "Large-Cap",
          "Large-Cap",
          "Large-Cap",
          "Large-Cap",
          "Large-Cap",
          "Large-Cap",
          "Large-Cap",
          "Large-Cap",
          "Large-Cap",
          "Large-Cap",
          "Large-Cap",
          "Large-Cap",
          "Large-Cap",
          "Large-Cap",
          "Large-Cap",
          "Large-Cap",
          "Large-Cap",
          "Large-Cap",
          "Large-Cap",
          "Large-Cap",
          "Large-Cap",
          "Large-Cap",
          "Large-Cap",
          "Large-Cap",
          "Large-Cap",
          "Large-Cap",
          "Large-Cap",
          "Large-Cap",
          "Large-Cap",
          "Large-Cap",
          "Large-Cap",
          "Large-Cap",
          "Large-Cap",
          "Large-Cap",
          "Large-Cap",
          "Large-Cap",
          "Large-Cap",
          "Large-Cap",
          "Large-Cap",
          "Large-Cap",
          "Large-Cap",
          "Large-Cap",
          "Large-Cap",
          "Large-Cap",
          "Large-Cap",
          "Large-Cap",
          "Large-Cap",
          "Large-Cap",
          "Large-Cap",
          "Large-Cap",
          "Large-Cap",
          "Large-Cap",
          "Large-Cap",
          "Large-Cap",
          "Large-Cap",
          "Large-Cap",
          "Large-Cap",
          "Large-Cap",
          "Large-Cap",
          "Large-Cap",
          "Large-Cap",
          "Large-Cap",
          "Large-Cap",
          "Large-Cap",
          "Large-Cap",
          "Large-Cap",
          "Large-Cap",
          "Large-Cap",
          "Large-Cap",
          "Large-Cap",
          "Large-Cap",
          "Large-Cap",
          "Large-Cap",
          "Large-Cap",
          "Large-Cap",
          "Large-Cap",
          "Large-Cap",
          "Large-Cap",
          "Large-Cap",
          "Large-Cap",
          "Large-Cap",
          "Large-Cap",
          "Large-Cap",
          "Large-Cap",
          "Large-Cap",
          "Large-Cap",
          "Large-Cap",
          "Large-Cap",
          "Large-Cap",
          "Large-Cap",
          "Large-Cap",
          "Large-Cap",
          "Large-Cap",
          "Large-Cap",
          "Large-Cap",
          "Large-Cap",
          "Large-Cap",
          "Large-Cap",
          "Large-Cap",
          "Large-Cap",
          "Large-Cap",
          "Large-Cap",
          "Large-Cap",
          "Large-Cap",
          "Large-Cap",
          "Large-Cap",
          "Large-Cap",
          "Large-Cap",
          "Large-Cap",
          "Large-Cap",
          "Large-Cap",
          "Large-Cap",
          "Large-Cap",
          "Large-Cap",
          "Large-Cap"
         ],
         "xaxis": "x",
         "y": [
          1246740,
          205587,
          78565,
          90615,
          47878,
          82333,
          31814,
          1003464,
          323211,
          54896,
          749216,
          148023,
          401874,
          46131,
          89555,
          256068,
          473092,
          27846,
          75716,
          39243,
          21834,
          62215,
          82849,
          179904,
          81051,
          54415,
          81632,
          224430,
          209840,
          127501,
          26578,
          198066,
          116617,
          41957,
          41017,
          352280,
          226073,
          22713,
          22315,
          500830,
          137576,
          26256,
          97897,
          41268,
          32418,
          81587,
          22395,
          59067,
          121430,
          60121,
          87433,
          48229,
          258529,
          36812,
          51283,
          38587,
          93622,
          151715,
          34536,
          25032,
          209672,
          114073,
          26155,
          22636,
          60498,
          80385,
          22744,
          28790,
          30858,
          28275,
          59926,
          40877,
          76544,
          35512,
          43893,
          55188,
          22340,
          23980,
          31542,
          83888,
          31252,
          165267,
          84706,
          59424,
          53749,
          47123,
          47400,
          70082,
          20823,
          37315,
          30799,
          51193,
          49285,
          35481,
          21751,
          90527,
          24823,
          26617,
          65451,
          32546,
          48197,
          29484,
          40013,
          22294,
          44093,
          25137,
          21278,
          26801,
          79610,
          50407,
          89663,
          62532,
          24442,
          22847,
          25644,
          20981,
          29773,
          44413,
          28260,
          27524,
          20061,
          30577,
          26380,
          41127,
          35108,
          32849,
          26878,
          23542,
          34286,
          31686,
          24681,
          26660,
          24282,
          25585,
          23494,
          23060
         ],
         "yaxis": "y"
        },
        {
         "hovertemplate": "<b>%{hovertext}</b><br><br>2020 COMPANY TYPE=%{x}<br>2020 MARKET CAP(₹ Cr)=%{marker.size}<extra></extra>",
         "hovertext": [
          "Rajesh Exports Ltd.",
          "Canara Bank",
          "Union Bank of India",
          "Steel Authority of India (SAIL) Ltd.",
          "Redington (India) Ltd.",
          "Bank of India",
          "Indian Bank",
          "Tata Power Company Ltd.",
          "The New India Assurance Company Ltd.",
          "Max Financial Services Ltd.",
          "Adani Power Ltd.",
          "Central Bank of India",
          "Indian Overseas Bank",
          "LIC Housing Finance Ltd.",
          "Aditya Birla Capital Ltd.",
          "Oil India Ltd.",
          "EID Parry (India) Ltd.",
          "IDFC First Bank Ltd.",
          "UCO Bank",
          "Bharat Heavy Electricals Ltd.",
          "Apollo Tyres Ltd.",
          "Federal Bank Ltd.",
          "Exide Industries Ltd.",
          "Bank of Maharashtra",
          "L&T Finance Holdings Ltd.",
          "Cholamandalam Financial Holdings Ltd.",
          "Bombay Burmah Trading Corporation Ltd.",
          "Chambal Fertilisers & Chemicals Ltd.",
          "KEC International Ltd.",
          "NLC India Ltd.",
          "Mahindra & Mahindra Financial Services Ltd.",
          "Torrent Power Ltd.",
          "CESC Ltd.",
          "Gujarat State Petronet Ltd.",
          "Glenmark Pharmaceuticals Ltd.",
          "Quess Corp Ltd.",
          "Edelweiss Financial Services Ltd.",
          "Tata Chemicals Ltd.",
          "RBL Bank Ltd.",
          "Godrej Industries Ltd.",
          "BASF India Ltd.",
          "Indiabulls Housing Finance Ltd.",
          "SIS Ltd.",
          "National Aluminium Company Ltd.",
          "Prestige Estates Projects Ltd.",
          "Alok Industries Ltd.",
          "DCM Shriram Ltd.",
          "Aster DM Healthcare Ltd.",
          "APL Apollo Tubes Ltd.",
          "Zee Entertainment Enterprises Ltd.",
          "PNB Housing Finance Ltd.",
          "Welspun India Ltd.",
          "Housing and Urban Development Corporation Ltd.",
          "Amara Raja Batteries Ltd.",
          "JSW Energy Ltd.",
          "Escorts Ltd.",
          "Birla Corporation Ltd.",
          "GMR Infrastructure Ltd.",
          "JK Cement Ltd.",
          "Endurance Technologies Ltd.",
          "Supreme Industries Ltd.",
          "Dixon Technologies (India) Ltd.",
          "Minda Industries Ltd.",
          "Jubilant Pharmova Ltd.",
          "Manappuram Finance Ltd.",
          "Godrej Agrovet Ltd.",
          "Tube Investments of India Ltd.",
          "Shriram City Union Finance Ltd.",
          "Mahindra CIE Automotive Ltd.",
          "L&T Technology Services Ltd.",
          "Hatsun Agro Products Ltd.",
          "Alembic Pharmaceuticals Ltd.",
          "Aditya Birla Fashion and Retail Ltd.",
          "Sundaram Finance Ltd.",
          "Firstsource Solutions Ltd.",
          "Thermax Ltd.",
          "Sterlite Technologies Ltd.",
          "Crompton Greaves Consumer Electricals Ltd.",
          "City Union Bank Ltd.",
          "Laurus Labs Ltd.",
          "Cummins India Ltd.",
          "Coforge Ltd.",
          "Bajaj Electricals Ltd.",
          "Aarti Industries Ltd.",
          "Blue Star Ltd.",
          "Persistent Systems Ltd.",
          "Fortis Healthcare Ltd.",
          "Avanti Feeds Ltd.",
          "KRBL Ltd.",
          "Aegis Logistics Ltd.",
          "Atul Ltd.",
          "Sundram Fasteners Ltd.",
          "SJVN Ltd.",
          "Motilal Oswal Financial Services Ltd.",
          "Birlasoft Ltd.",
          "KPR Mill Ltd.",
          "Finolex Industries Ltd.",
          "Strides Pharma Science Ltd.",
          "Sun TV Network Ltd.",
          "Blue Dart Express Ltd.",
          "JM Financial Ltd.",
          "Astral Ltd.",
          "EPL Ltd.",
          "Amber Enterprises India Ltd.",
          "Castrol India Ltd.",
          "AIA Engineering Ltd.",
          "Sanofi India Ltd.",
          "Emami Ltd.",
          "Kajaria Ceramics Ltd.",
          "Galaxy Surfactants Ltd.",
          "V-Guard Industries Ltd.",
          "SKF India Ltd.",
          "Carborundum Universal Ltd.",
          "Narayana Hrudayalaya Ltd.",
          "Asahi India Glass Ltd.",
          "Akzo Nobel India Ltd.",
          "Mahanagar Gas Ltd.",
          "Bharat Dynamics Ltd."
         ],
         "legendgroup": "Mid-Cap",
         "marker": {
          "color": "#EF553B",
          "size": [
           13368,
           13579,
           16151,
           16512,
           5008,
           13657,
           7094,
           18346,
           18009,
           16680,
           14390,
           6856,
           16024,
           15969,
           18497,
           9839,
           5301,
           19030,
           11826,
           10111,
           9411,
           11407,
           14320,
           7460,
           14237,
           8480,
           8793,
           7391,
           8729,
           6920,
           18100,
           14902,
           7720,
           10977,
           13637,
           6305,
           5410,
           8549,
           10989,
           13142,
           6511,
           7767,
           5691,
           6693,
           10548,
           11432,
           5409,
           7679,
           8094,
           18214,
           6324,
           6684,
           6572,
           14303,
           9982,
           18305,
           5448,
           14928,
           14630,
           15111,
           19134,
           12000,
           9648,
           11210,
           13782,
           9759,
           13992,
           6305,
           5583,
           17695,
           14092,
           19226,
           12075,
           18074,
           5173,
           9604,
           5895,
           18938,
           13146,
           15204,
           13494,
           13963,
           6060,
           19135,
           6725,
           8825,
           10358,
           6744,
           5993,
           7559,
           18595,
           10096,
           8879,
           8538,
           5093,
           5398,
           7375,
           6112,
           16884,
           9387,
           7386,
           19734,
           8095,
           7543,
           11617,
           16727,
           18861,
           17233,
           9556,
           6483,
           7411,
           7540,
           5966,
           7273,
           5685,
           9234,
           8758,
           5604
          ],
          "sizemode": "area",
          "sizeref": 124.674,
          "symbol": "circle"
         },
         "mode": "markers",
         "name": "Mid-Cap",
         "orientation": "v",
         "showlegend": true,
         "type": "scatter",
         "x": [
          "Mid-Cap",
          "Mid-Cap",
          "Mid-Cap",
          "Mid-Cap",
          "Mid-Cap",
          "Mid-Cap",
          "Mid-Cap",
          "Mid-Cap",
          "Mid-Cap",
          "Mid-Cap",
          "Mid-Cap",
          "Mid-Cap",
          "Mid-Cap",
          "Mid-Cap",
          "Mid-Cap",
          "Mid-Cap",
          "Mid-Cap",
          "Mid-Cap",
          "Mid-Cap",
          "Mid-Cap",
          "Mid-Cap",
          "Mid-Cap",
          "Mid-Cap",
          "Mid-Cap",
          "Mid-Cap",
          "Mid-Cap",
          "Mid-Cap",
          "Mid-Cap",
          "Mid-Cap",
          "Mid-Cap",
          "Mid-Cap",
          "Mid-Cap",
          "Mid-Cap",
          "Mid-Cap",
          "Mid-Cap",
          "Mid-Cap",
          "Mid-Cap",
          "Mid-Cap",
          "Mid-Cap",
          "Mid-Cap",
          "Mid-Cap",
          "Mid-Cap",
          "Mid-Cap",
          "Mid-Cap",
          "Mid-Cap",
          "Mid-Cap",
          "Mid-Cap",
          "Mid-Cap",
          "Mid-Cap",
          "Mid-Cap",
          "Mid-Cap",
          "Mid-Cap",
          "Mid-Cap",
          "Mid-Cap",
          "Mid-Cap",
          "Mid-Cap",
          "Mid-Cap",
          "Mid-Cap",
          "Mid-Cap",
          "Mid-Cap",
          "Mid-Cap",
          "Mid-Cap",
          "Mid-Cap",
          "Mid-Cap",
          "Mid-Cap",
          "Mid-Cap",
          "Mid-Cap",
          "Mid-Cap",
          "Mid-Cap",
          "Mid-Cap",
          "Mid-Cap",
          "Mid-Cap",
          "Mid-Cap",
          "Mid-Cap",
          "Mid-Cap",
          "Mid-Cap",
          "Mid-Cap",
          "Mid-Cap",
          "Mid-Cap",
          "Mid-Cap",
          "Mid-Cap",
          "Mid-Cap",
          "Mid-Cap",
          "Mid-Cap",
          "Mid-Cap",
          "Mid-Cap",
          "Mid-Cap",
          "Mid-Cap",
          "Mid-Cap",
          "Mid-Cap",
          "Mid-Cap",
          "Mid-Cap",
          "Mid-Cap",
          "Mid-Cap",
          "Mid-Cap",
          "Mid-Cap",
          "Mid-Cap",
          "Mid-Cap",
          "Mid-Cap",
          "Mid-Cap",
          "Mid-Cap",
          "Mid-Cap",
          "Mid-Cap",
          "Mid-Cap",
          "Mid-Cap",
          "Mid-Cap",
          "Mid-Cap",
          "Mid-Cap",
          "Mid-Cap",
          "Mid-Cap",
          "Mid-Cap",
          "Mid-Cap",
          "Mid-Cap",
          "Mid-Cap",
          "Mid-Cap",
          "Mid-Cap",
          "Mid-Cap",
          "Mid-Cap"
         ],
         "xaxis": "x",
         "y": [
          13368,
          13579,
          16151,
          16512,
          5008,
          13657,
          7094,
          18346,
          18009,
          16680,
          14390,
          6856,
          16024,
          15969,
          18497,
          9839,
          5301,
          19030,
          11826,
          10111,
          9411,
          11407,
          14320,
          7460,
          14237,
          8480,
          8793,
          7391,
          8729,
          6920,
          18100,
          14902,
          7720,
          10977,
          13637,
          6305,
          5410,
          8549,
          10989,
          13142,
          6511,
          7767,
          5691,
          6693,
          10548,
          11432,
          5409,
          7679,
          8094,
          18214,
          6324,
          6684,
          6572,
          14303,
          9982,
          18305,
          5448,
          14928,
          14630,
          15111,
          19134,
          12000,
          9648,
          11210,
          13782,
          9759,
          13992,
          6305,
          5583,
          17695,
          14092,
          19226,
          12075,
          18074,
          5173,
          9604,
          5895,
          18938,
          13146,
          15204,
          13494,
          13963,
          6060,
          19135,
          6725,
          8825,
          10358,
          6744,
          5993,
          7559,
          18595,
          10096,
          8879,
          8538,
          5093,
          5398,
          7375,
          6112,
          16884,
          9387,
          7386,
          19734,
          8095,
          7543,
          11617,
          16727,
          18861,
          17233,
          9556,
          6483,
          7411,
          7540,
          5966,
          7273,
          5685,
          9234,
          8758,
          5604
         ],
         "yaxis": "y"
        },
        {
         "hovertemplate": "<b>%{hovertext}</b><br><br>2020 COMPANY TYPE=%{x}<br>2020 MARKET CAP(₹ Cr)=%{marker.size}<extra></extra>",
         "hovertext": [
          "Mangalore Refinery And Petrochemicals Ltd.",
          "MMTC Ltd.",
          "Chennai Petroleum Corporation Ltd.",
          "Tata Steel BSL Ltd.",
          "Sundaram Clayton Ltd.",
          "Reliance Infrastructure Ltd.",
          "Reliance Capital Ltd.",
          "PTC India Ltd.",
          "Kalpataru Power Transmissions Ltd.",
          "Jindal Stainless Ltd.",
          "National Fertilizers Ltd.",
          "Rain Industries Ltd.",
          "Jindal Saw Ltd.",
          "Allcargo Logistics Ltd.",
          "Dilip Buildcon Ltd.",
          "Jindal Stainless (Hisar) Ltd.",
          "JK Tyre & Industries Ltd.",
          "Uflex Ltd.",
          "Jammu & Kashmir Bank Ltd.",
          "Kama Holdings Ltd.",
          "South Indian Bank Ltd.",
          "Rashtriya Chemicals & Fertilizers Ltd.",
          "Reliance Power Ltd.",
          "Gokul Agro Resources Ltd.",
          "Hindustan Construction Company Ltd.",
          "NCC Ltd.",
          "Punjab & Sind Bank",
          "Gujarat State Fertilizer & Chemicals Ltd.",
          "Karnataka Bank Ltd.",
          "Ceat Ltd.",
          "NBCC (India) Ltd.",
          "Welspun Corp Ltd.",
          "Bajaj Hindusthan Sugar Ltd.",
          "Jaiprakash Associates Ltd.",
          "Future Retail Ltd.",
          "Karur Vysya Bank Ltd.",
          "Apar Industries Ltd.",
          "Vardhman Textiles Ltd.",
          "PDS Multinational Fashions Ltd.",
          "Jain Irrigation Systems Ltd.",
          "Spicejet Ltd.",
          "IIFL Finance Ltd.",
          "Shree Renuka Sugars Ltd.",
          "PNC Infratech Ltd.",
          "Deepak Fertilisers & Petrochemicals Corporation Ltd.",
          "Hinduja Global Solutions Ltd.",
          "Prism Johnson Ltd.",
          "Surya Roshni Ltd.",
          "IRB Infrastructure Developers Ltd.",
          "ISGEC Heavy Engineering Ltd.",
          "Gujarat Narmada Valley Fertilizers & Chemicals Ltd.",
          "Ashoka Buildcon Ltd.",
          "Arvind Ltd.",
          "Polyplex Corporation Ltd.",
          "TeamLease Services Ltd.",
          "Balrampur Chini Mills Ltd.",
          "JK Lakshmi Cement Ltd.",
          "Gujarat Ambuja Exports Ltd.",
          "Triveni Engineering & Industries Ltd.",
          "LT Foods Ltd.",
          "India Cements Ltd.",
          "Trident Ltd.",
          "HFCL Ltd.",
          "Cyient Ltd.",
          "Sonata Software Ltd.",
          "Jindal Poly Films Ltd.",
          "KEI Industries Ltd.",
          "Suzlon Energy Ltd.",
          "Dhampur Sugar Mills Ltd.",
          "Godawari Power & Ispat Ltd.",
          "DCB Bank Ltd.",
          "Gayatri Projects Ltd.",
          "Shipping Corporation of India Ltd.",
          "JMC Projects (India) Ltd.",
          "Wockhardt Ltd.",
          "Zensar Technologies Ltd.",
          "Jayaswal Neco Industries Ltd.",
          "Raymond Ltd.",
          "BEML Ltd.",
          "Jaiprakash Power Ventures Ltd.",
          "Great Eastern Shipping Company Ltd.",
          "Electrosteel Castings Ltd.",
          "IFB Industries Ltd.",
          "GE T&D India Ltd.",
          "SREI Infrastructure Finance Ltd.",
          "Mukand Ltd.",
          "Prakash Industries Ltd.",
          "The Fertilisers and Chemicals Travancore Ltd.",
          "Kirloskar Oil Engines Ltd.",
          "Mahindra Logistics Ltd.",
          "Dish TV India Ltd.",
          "Tamil Nadu Newsprint And Papers Ltd.",
          "Supreme Petrochem Ltd.",
          "Kothari Products Ltd.",
          "Venky's (India) Ltd.",
          "JK Paper Ltd.",
          "CG Power and Industrial Solutions Ltd.",
          "Finolex Cables Ltd.",
          "KNR Constructions Ltd.",
          "Paul Merchants Ltd.",
          "Cochin Shipyard Ltd.",
          "Time Technoplast Ltd.",
          "Kesoram Industries Ltd.",
          "Forbes & Company Ltd.",
          "GHCL Ltd.",
          "Brightcom Group Ltd.",
          "PC Jeweller Ltd.",
          "Va Tech Wabag Ltd.",
          "Transport Corporation of India Ltd.",
          "Nava Bharat Ventures Ltd.",
          "Jai Balaji Industries Ltd.",
          "ITD Cementation India Ltd.",
          "Kirloskar Brothers Ltd.",
          "Century Textiles & Industries Ltd.",
          "Phillips Carbon Black Ltd.",
          "Godfrey Phillips India Ltd.",
          "Sadbhav Engineering Ltd.",
          "Prime Focus Ltd.",
          "J Kumar Infraprojects Ltd.",
          "Orient Cement Ltd.",
          "Zuari Agro Chemicals Ltd.",
          "Religare Enterprises Ltd.",
          "Electrotherm (India) Ltd.",
          "Gujarat Alkalies & Chemicals Ltd.",
          "Heritage Foods Ltd.",
          "Huhtamaki India Ltd.",
          "Wheels India Ltd.",
          "Minda Corporation Ltd.",
          "Maharashtra Seamless Ltd.",
          "RSWM Ltd.",
          "Poonawalla Fincorp Ltd.",
          "India Glycols Ltd.",
          "Future Lifestyle Fashions Ltd.",
          "Graphite India Ltd.",
          "Himatsingka Seide Ltd.",
          "Simplex Infrastructures Ltd.",
          "Sobha Ltd.",
          "Mangalore Chemicals & Fertilizers Ltd.",
          "Patel Engineering Ltd.",
          "Century Plyboards (India) Ltd.",
          "Usha Martin Ltd.",
          "Nilkamal Ltd.",
          "IFCI Ltd.",
          "Rane Holdings Ltd.",
          "Shankara Building Products Ltd.",
          "Force Motors Ltd."
         ],
         "legendgroup": "Small-Cap",
         "marker": {
          "color": "#00cc96",
          "size": [
           4919,
           2587,
           1189,
           3240,
           3445,
           529,
           223,
           1539,
           4299,
           3007,
           1622,
           3615,
           2057,
           3013,
           4780,
           2653,
           1873,
           2426,
           1263,
           3327,
           1243,
           2491,
           874,
           179,
           799,
           2361,
           812,
           2627,
           1385,
           4540,
           4372,
           2772,
           533,
           952,
           3965,
           2854,
           1211,
           4807,
           1025,
           815,
           3578,
           3725,
           2118,
           4300,
           1464,
           1665,
           3968,
           1372,
           4011,
           1879,
           3091,
           1916,
           991,
           2389,
           4021,
           3199,
           3761,
           2660,
           1660,
           1620,
           4133,
           3898,
           2244,
           4808,
           3548,
           2080,
           3219,
           2803,
           964,
           1338,
           2827,
           508,
           2444,
           835,
           3703,
           4475,
           212,
           1952,
           2680,
           1638,
           3495,
           915,
           3053,
           2351,
           320,
           702,
           750,
           3161,
           1515,
           2752,
           1983,
           731,
           2722,
           180,
           2220,
           1606,
           2188,
           4325,
           3752,
           125,
           4503,
           935,
           614,
           1940,
           1576,
           266,
           624,
           1168,
           1850,
           889,
           160,
           909,
           937,
           3605,
           2663,
           4636,
           830,
           1158,
           844,
           1378,
           351,
           1368,
           119,
           2331,
           1295,
           2189,
           990,
           1627,
           1613,
           215,
           1185,
           867,
           1635,
           3943,
           1188,
           173,
           2848,
           391,
           450,
           4247,
           741,
           2005,
           1151,
           618,
           713,
           1441
          ],
          "sizemode": "area",
          "sizeref": 124.674,
          "symbol": "circle"
         },
         "mode": "markers",
         "name": "Small-Cap",
         "orientation": "v",
         "showlegend": true,
         "type": "scatter",
         "x": [
          "Small-Cap",
          "Small-Cap",
          "Small-Cap",
          "Small-Cap",
          "Small-Cap",
          "Small-Cap",
          "Small-Cap",
          "Small-Cap",
          "Small-Cap",
          "Small-Cap",
          "Small-Cap",
          "Small-Cap",
          "Small-Cap",
          "Small-Cap",
          "Small-Cap",
          "Small-Cap",
          "Small-Cap",
          "Small-Cap",
          "Small-Cap",
          "Small-Cap",
          "Small-Cap",
          "Small-Cap",
          "Small-Cap",
          "Small-Cap",
          "Small-Cap",
          "Small-Cap",
          "Small-Cap",
          "Small-Cap",
          "Small-Cap",
          "Small-Cap",
          "Small-Cap",
          "Small-Cap",
          "Small-Cap",
          "Small-Cap",
          "Small-Cap",
          "Small-Cap",
          "Small-Cap",
          "Small-Cap",
          "Small-Cap",
          "Small-Cap",
          "Small-Cap",
          "Small-Cap",
          "Small-Cap",
          "Small-Cap",
          "Small-Cap",
          "Small-Cap",
          "Small-Cap",
          "Small-Cap",
          "Small-Cap",
          "Small-Cap",
          "Small-Cap",
          "Small-Cap",
          "Small-Cap",
          "Small-Cap",
          "Small-Cap",
          "Small-Cap",
          "Small-Cap",
          "Small-Cap",
          "Small-Cap",
          "Small-Cap",
          "Small-Cap",
          "Small-Cap",
          "Small-Cap",
          "Small-Cap",
          "Small-Cap",
          "Small-Cap",
          "Small-Cap",
          "Small-Cap",
          "Small-Cap",
          "Small-Cap",
          "Small-Cap",
          "Small-Cap",
          "Small-Cap",
          "Small-Cap",
          "Small-Cap",
          "Small-Cap",
          "Small-Cap",
          "Small-Cap",
          "Small-Cap",
          "Small-Cap",
          "Small-Cap",
          "Small-Cap",
          "Small-Cap",
          "Small-Cap",
          "Small-Cap",
          "Small-Cap",
          "Small-Cap",
          "Small-Cap",
          "Small-Cap",
          "Small-Cap",
          "Small-Cap",
          "Small-Cap",
          "Small-Cap",
          "Small-Cap",
          "Small-Cap",
          "Small-Cap",
          "Small-Cap",
          "Small-Cap",
          "Small-Cap",
          "Small-Cap",
          "Small-Cap",
          "Small-Cap",
          "Small-Cap",
          "Small-Cap",
          "Small-Cap",
          "Small-Cap",
          "Small-Cap",
          "Small-Cap",
          "Small-Cap",
          "Small-Cap",
          "Small-Cap",
          "Small-Cap",
          "Small-Cap",
          "Small-Cap",
          "Small-Cap",
          "Small-Cap",
          "Small-Cap",
          "Small-Cap",
          "Small-Cap",
          "Small-Cap",
          "Small-Cap",
          "Small-Cap",
          "Small-Cap",
          "Small-Cap",
          "Small-Cap",
          "Small-Cap",
          "Small-Cap",
          "Small-Cap",
          "Small-Cap",
          "Small-Cap",
          "Small-Cap",
          "Small-Cap",
          "Small-Cap",
          "Small-Cap",
          "Small-Cap",
          "Small-Cap",
          "Small-Cap",
          "Small-Cap",
          "Small-Cap",
          "Small-Cap",
          "Small-Cap",
          "Small-Cap",
          "Small-Cap",
          "Small-Cap",
          "Small-Cap",
          "Small-Cap"
         ],
         "xaxis": "x",
         "y": [
          4919,
          2587,
          1189,
          3240,
          3445,
          529,
          223,
          1539,
          4299,
          3007,
          1622,
          3615,
          2057,
          3013,
          4780,
          2653,
          1873,
          2426,
          1263,
          3327,
          1243,
          2491,
          874,
          179,
          799,
          2361,
          812,
          2627,
          1385,
          4540,
          4372,
          2772,
          533,
          952,
          3965,
          2854,
          1211,
          4807,
          1025,
          815,
          3578,
          3725,
          2118,
          4300,
          1464,
          1665,
          3968,
          1372,
          4011,
          1879,
          3091,
          1916,
          991,
          2389,
          4021,
          3199,
          3761,
          2660,
          1660,
          1620,
          4133,
          3898,
          2244,
          4808,
          3548,
          2080,
          3219,
          2803,
          964,
          1338,
          2827,
          508,
          2444,
          835,
          3703,
          4475,
          212,
          1952,
          2680,
          1638,
          3495,
          915,
          3053,
          2351,
          320,
          702,
          750,
          3161,
          1515,
          2752,
          1983,
          731,
          2722,
          180,
          2220,
          1606,
          2188,
          4325,
          3752,
          125,
          4503,
          935,
          614,
          1940,
          1576,
          266,
          624,
          1168,
          1850,
          889,
          160,
          909,
          937,
          3605,
          2663,
          4636,
          830,
          1158,
          844,
          1378,
          351,
          1368,
          119,
          2331,
          1295,
          2189,
          990,
          1627,
          1613,
          215,
          1185,
          867,
          1635,
          3943,
          1188,
          173,
          2848,
          391,
          450,
          4247,
          741,
          2005,
          1151,
          618,
          713,
          1441
         ],
         "yaxis": "y"
        }
       ],
       "layout": {
        "legend": {
         "itemsizing": "constant",
         "title": {
          "text": "2020 COMPANY TYPE"
         },
         "tracegroupgap": 0
        },
        "margin": {
         "t": 60
        },
        "template": {
         "data": {
          "bar": [
           {
            "error_x": {
             "color": "#2a3f5f"
            },
            "error_y": {
             "color": "#2a3f5f"
            },
            "marker": {
             "line": {
              "color": "#E5ECF6",
              "width": 0.5
             },
             "pattern": {
              "fillmode": "overlay",
              "size": 10,
              "solidity": 0.2
             }
            },
            "type": "bar"
           }
          ],
          "barpolar": [
           {
            "marker": {
             "line": {
              "color": "#E5ECF6",
              "width": 0.5
             },
             "pattern": {
              "fillmode": "overlay",
              "size": 10,
              "solidity": 0.2
             }
            },
            "type": "barpolar"
           }
          ],
          "carpet": [
           {
            "aaxis": {
             "endlinecolor": "#2a3f5f",
             "gridcolor": "white",
             "linecolor": "white",
             "minorgridcolor": "white",
             "startlinecolor": "#2a3f5f"
            },
            "baxis": {
             "endlinecolor": "#2a3f5f",
             "gridcolor": "white",
             "linecolor": "white",
             "minorgridcolor": "white",
             "startlinecolor": "#2a3f5f"
            },
            "type": "carpet"
           }
          ],
          "choropleth": [
           {
            "colorbar": {
             "outlinewidth": 0,
             "ticks": ""
            },
            "type": "choropleth"
           }
          ],
          "contour": [
           {
            "colorbar": {
             "outlinewidth": 0,
             "ticks": ""
            },
            "colorscale": [
             [
              0,
              "#0d0887"
             ],
             [
              0.1111111111111111,
              "#46039f"
             ],
             [
              0.2222222222222222,
              "#7201a8"
             ],
             [
              0.3333333333333333,
              "#9c179e"
             ],
             [
              0.4444444444444444,
              "#bd3786"
             ],
             [
              0.5555555555555556,
              "#d8576b"
             ],
             [
              0.6666666666666666,
              "#ed7953"
             ],
             [
              0.7777777777777778,
              "#fb9f3a"
             ],
             [
              0.8888888888888888,
              "#fdca26"
             ],
             [
              1,
              "#f0f921"
             ]
            ],
            "type": "contour"
           }
          ],
          "contourcarpet": [
           {
            "colorbar": {
             "outlinewidth": 0,
             "ticks": ""
            },
            "type": "contourcarpet"
           }
          ],
          "heatmap": [
           {
            "colorbar": {
             "outlinewidth": 0,
             "ticks": ""
            },
            "colorscale": [
             [
              0,
              "#0d0887"
             ],
             [
              0.1111111111111111,
              "#46039f"
             ],
             [
              0.2222222222222222,
              "#7201a8"
             ],
             [
              0.3333333333333333,
              "#9c179e"
             ],
             [
              0.4444444444444444,
              "#bd3786"
             ],
             [
              0.5555555555555556,
              "#d8576b"
             ],
             [
              0.6666666666666666,
              "#ed7953"
             ],
             [
              0.7777777777777778,
              "#fb9f3a"
             ],
             [
              0.8888888888888888,
              "#fdca26"
             ],
             [
              1,
              "#f0f921"
             ]
            ],
            "type": "heatmap"
           }
          ],
          "heatmapgl": [
           {
            "colorbar": {
             "outlinewidth": 0,
             "ticks": ""
            },
            "colorscale": [
             [
              0,
              "#0d0887"
             ],
             [
              0.1111111111111111,
              "#46039f"
             ],
             [
              0.2222222222222222,
              "#7201a8"
             ],
             [
              0.3333333333333333,
              "#9c179e"
             ],
             [
              0.4444444444444444,
              "#bd3786"
             ],
             [
              0.5555555555555556,
              "#d8576b"
             ],
             [
              0.6666666666666666,
              "#ed7953"
             ],
             [
              0.7777777777777778,
              "#fb9f3a"
             ],
             [
              0.8888888888888888,
              "#fdca26"
             ],
             [
              1,
              "#f0f921"
             ]
            ],
            "type": "heatmapgl"
           }
          ],
          "histogram": [
           {
            "marker": {
             "pattern": {
              "fillmode": "overlay",
              "size": 10,
              "solidity": 0.2
             }
            },
            "type": "histogram"
           }
          ],
          "histogram2d": [
           {
            "colorbar": {
             "outlinewidth": 0,
             "ticks": ""
            },
            "colorscale": [
             [
              0,
              "#0d0887"
             ],
             [
              0.1111111111111111,
              "#46039f"
             ],
             [
              0.2222222222222222,
              "#7201a8"
             ],
             [
              0.3333333333333333,
              "#9c179e"
             ],
             [
              0.4444444444444444,
              "#bd3786"
             ],
             [
              0.5555555555555556,
              "#d8576b"
             ],
             [
              0.6666666666666666,
              "#ed7953"
             ],
             [
              0.7777777777777778,
              "#fb9f3a"
             ],
             [
              0.8888888888888888,
              "#fdca26"
             ],
             [
              1,
              "#f0f921"
             ]
            ],
            "type": "histogram2d"
           }
          ],
          "histogram2dcontour": [
           {
            "colorbar": {
             "outlinewidth": 0,
             "ticks": ""
            },
            "colorscale": [
             [
              0,
              "#0d0887"
             ],
             [
              0.1111111111111111,
              "#46039f"
             ],
             [
              0.2222222222222222,
              "#7201a8"
             ],
             [
              0.3333333333333333,
              "#9c179e"
             ],
             [
              0.4444444444444444,
              "#bd3786"
             ],
             [
              0.5555555555555556,
              "#d8576b"
             ],
             [
              0.6666666666666666,
              "#ed7953"
             ],
             [
              0.7777777777777778,
              "#fb9f3a"
             ],
             [
              0.8888888888888888,
              "#fdca26"
             ],
             [
              1,
              "#f0f921"
             ]
            ],
            "type": "histogram2dcontour"
           }
          ],
          "mesh3d": [
           {
            "colorbar": {
             "outlinewidth": 0,
             "ticks": ""
            },
            "type": "mesh3d"
           }
          ],
          "parcoords": [
           {
            "line": {
             "colorbar": {
              "outlinewidth": 0,
              "ticks": ""
             }
            },
            "type": "parcoords"
           }
          ],
          "pie": [
           {
            "automargin": true,
            "type": "pie"
           }
          ],
          "scatter": [
           {
            "marker": {
             "colorbar": {
              "outlinewidth": 0,
              "ticks": ""
             }
            },
            "type": "scatter"
           }
          ],
          "scatter3d": [
           {
            "line": {
             "colorbar": {
              "outlinewidth": 0,
              "ticks": ""
             }
            },
            "marker": {
             "colorbar": {
              "outlinewidth": 0,
              "ticks": ""
             }
            },
            "type": "scatter3d"
           }
          ],
          "scattercarpet": [
           {
            "marker": {
             "colorbar": {
              "outlinewidth": 0,
              "ticks": ""
             }
            },
            "type": "scattercarpet"
           }
          ],
          "scattergeo": [
           {
            "marker": {
             "colorbar": {
              "outlinewidth": 0,
              "ticks": ""
             }
            },
            "type": "scattergeo"
           }
          ],
          "scattergl": [
           {
            "marker": {
             "colorbar": {
              "outlinewidth": 0,
              "ticks": ""
             }
            },
            "type": "scattergl"
           }
          ],
          "scattermapbox": [
           {
            "marker": {
             "colorbar": {
              "outlinewidth": 0,
              "ticks": ""
             }
            },
            "type": "scattermapbox"
           }
          ],
          "scatterpolar": [
           {
            "marker": {
             "colorbar": {
              "outlinewidth": 0,
              "ticks": ""
             }
            },
            "type": "scatterpolar"
           }
          ],
          "scatterpolargl": [
           {
            "marker": {
             "colorbar": {
              "outlinewidth": 0,
              "ticks": ""
             }
            },
            "type": "scatterpolargl"
           }
          ],
          "scatterternary": [
           {
            "marker": {
             "colorbar": {
              "outlinewidth": 0,
              "ticks": ""
             }
            },
            "type": "scatterternary"
           }
          ],
          "surface": [
           {
            "colorbar": {
             "outlinewidth": 0,
             "ticks": ""
            },
            "colorscale": [
             [
              0,
              "#0d0887"
             ],
             [
              0.1111111111111111,
              "#46039f"
             ],
             [
              0.2222222222222222,
              "#7201a8"
             ],
             [
              0.3333333333333333,
              "#9c179e"
             ],
             [
              0.4444444444444444,
              "#bd3786"
             ],
             [
              0.5555555555555556,
              "#d8576b"
             ],
             [
              0.6666666666666666,
              "#ed7953"
             ],
             [
              0.7777777777777778,
              "#fb9f3a"
             ],
             [
              0.8888888888888888,
              "#fdca26"
             ],
             [
              1,
              "#f0f921"
             ]
            ],
            "type": "surface"
           }
          ],
          "table": [
           {
            "cells": {
             "fill": {
              "color": "#EBF0F8"
             },
             "line": {
              "color": "white"
             }
            },
            "header": {
             "fill": {
              "color": "#C8D4E3"
             },
             "line": {
              "color": "white"
             }
            },
            "type": "table"
           }
          ]
         },
         "layout": {
          "annotationdefaults": {
           "arrowcolor": "#2a3f5f",
           "arrowhead": 0,
           "arrowwidth": 1
          },
          "autotypenumbers": "strict",
          "coloraxis": {
           "colorbar": {
            "outlinewidth": 0,
            "ticks": ""
           }
          },
          "colorscale": {
           "diverging": [
            [
             0,
             "#8e0152"
            ],
            [
             0.1,
             "#c51b7d"
            ],
            [
             0.2,
             "#de77ae"
            ],
            [
             0.3,
             "#f1b6da"
            ],
            [
             0.4,
             "#fde0ef"
            ],
            [
             0.5,
             "#f7f7f7"
            ],
            [
             0.6,
             "#e6f5d0"
            ],
            [
             0.7,
             "#b8e186"
            ],
            [
             0.8,
             "#7fbc41"
            ],
            [
             0.9,
             "#4d9221"
            ],
            [
             1,
             "#276419"
            ]
           ],
           "sequential": [
            [
             0,
             "#0d0887"
            ],
            [
             0.1111111111111111,
             "#46039f"
            ],
            [
             0.2222222222222222,
             "#7201a8"
            ],
            [
             0.3333333333333333,
             "#9c179e"
            ],
            [
             0.4444444444444444,
             "#bd3786"
            ],
            [
             0.5555555555555556,
             "#d8576b"
            ],
            [
             0.6666666666666666,
             "#ed7953"
            ],
            [
             0.7777777777777778,
             "#fb9f3a"
            ],
            [
             0.8888888888888888,
             "#fdca26"
            ],
            [
             1,
             "#f0f921"
            ]
           ],
           "sequentialminus": [
            [
             0,
             "#0d0887"
            ],
            [
             0.1111111111111111,
             "#46039f"
            ],
            [
             0.2222222222222222,
             "#7201a8"
            ],
            [
             0.3333333333333333,
             "#9c179e"
            ],
            [
             0.4444444444444444,
             "#bd3786"
            ],
            [
             0.5555555555555556,
             "#d8576b"
            ],
            [
             0.6666666666666666,
             "#ed7953"
            ],
            [
             0.7777777777777778,
             "#fb9f3a"
            ],
            [
             0.8888888888888888,
             "#fdca26"
            ],
            [
             1,
             "#f0f921"
            ]
           ]
          },
          "colorway": [
           "#636efa",
           "#EF553B",
           "#00cc96",
           "#ab63fa",
           "#FFA15A",
           "#19d3f3",
           "#FF6692",
           "#B6E880",
           "#FF97FF",
           "#FECB52"
          ],
          "font": {
           "color": "#2a3f5f"
          },
          "geo": {
           "bgcolor": "white",
           "lakecolor": "white",
           "landcolor": "#E5ECF6",
           "showlakes": true,
           "showland": true,
           "subunitcolor": "white"
          },
          "hoverlabel": {
           "align": "left"
          },
          "hovermode": "closest",
          "mapbox": {
           "style": "light"
          },
          "paper_bgcolor": "white",
          "plot_bgcolor": "#E5ECF6",
          "polar": {
           "angularaxis": {
            "gridcolor": "white",
            "linecolor": "white",
            "ticks": ""
           },
           "bgcolor": "#E5ECF6",
           "radialaxis": {
            "gridcolor": "white",
            "linecolor": "white",
            "ticks": ""
           }
          },
          "scene": {
           "xaxis": {
            "backgroundcolor": "#E5ECF6",
            "gridcolor": "white",
            "gridwidth": 2,
            "linecolor": "white",
            "showbackground": true,
            "ticks": "",
            "zerolinecolor": "white"
           },
           "yaxis": {
            "backgroundcolor": "#E5ECF6",
            "gridcolor": "white",
            "gridwidth": 2,
            "linecolor": "white",
            "showbackground": true,
            "ticks": "",
            "zerolinecolor": "white"
           },
           "zaxis": {
            "backgroundcolor": "#E5ECF6",
            "gridcolor": "white",
            "gridwidth": 2,
            "linecolor": "white",
            "showbackground": true,
            "ticks": "",
            "zerolinecolor": "white"
           }
          },
          "shapedefaults": {
           "line": {
            "color": "#2a3f5f"
           }
          },
          "ternary": {
           "aaxis": {
            "gridcolor": "white",
            "linecolor": "white",
            "ticks": ""
           },
           "baxis": {
            "gridcolor": "white",
            "linecolor": "white",
            "ticks": ""
           },
           "bgcolor": "#E5ECF6",
           "caxis": {
            "gridcolor": "white",
            "linecolor": "white",
            "ticks": ""
           }
          },
          "title": {
           "x": 0.05
          },
          "xaxis": {
           "automargin": true,
           "gridcolor": "white",
           "linecolor": "white",
           "ticks": "",
           "title": {
            "standoff": 15
           },
           "zerolinecolor": "white",
           "zerolinewidth": 2
          },
          "yaxis": {
           "automargin": true,
           "gridcolor": "white",
           "linecolor": "white",
           "ticks": "",
           "title": {
            "standoff": 15
           },
           "zerolinecolor": "white",
           "zerolinewidth": 2
          }
         }
        },
        "xaxis": {
         "anchor": "y",
         "categoryarray": [
          "Large-Cap",
          "Mid-Cap",
          "Small-Cap"
         ],
         "categoryorder": "array",
         "domain": [
          0,
          1
         ],
         "title": {
          "text": "2020 COMPANY TYPE"
         }
        },
        "yaxis": {
         "anchor": "x",
         "domain": [
          0,
          1
         ],
         "title": {
          "text": "2020 MARKET CAP(₹ Cr)"
         }
        }
       }
      },
      "text/html": [
       "<div>                            <div id=\"f6b3e328-46ed-4d24-8347-12992a1f5d63\" class=\"plotly-graph-div\" style=\"height:525px; width:100%;\"></div>            <script type=\"text/javascript\">                require([\"plotly\"], function(Plotly) {                    window.PLOTLYENV=window.PLOTLYENV || {};                                    if (document.getElementById(\"f6b3e328-46ed-4d24-8347-12992a1f5d63\")) {                    Plotly.newPlot(                        \"f6b3e328-46ed-4d24-8347-12992a1f5d63\",                        [{\"hovertemplate\":\"<b>%{hovertext}</b><br><br>2020 COMPANY TYPE=%{x}<br>2020 MARKET CAP(\\u20b9 Cr)=%{marker.size}<extra></extra>\",\"hovertext\":[\"Reliance Industries Ltd.\",\"State Bank of India\",\"Indian Oil Corporation Ltd.\",\"Oil And Natural Gas Corporation Ltd.\",\"Tata Motors Ltd.\",\"Bharat Petroleum Corporation Ltd.\",\"Hindustan Petroleum Corporation Ltd.\",\"Tata Consultancy Services Ltd.\",\"ICICI Bank Ltd.\",\"Tata Steel Ltd.\",\"HDFC Bank Ltd.\",\"Larsen & Toubro Ltd.\",\"Housing Development Finance Corporation Ltd.\",\"Hindalco Industries Ltd.\",\"NTPC Ltd.\",\"Bharti Airtel Ltd.\",\"Infosys Ltd.\",\"Punjab National Bank\",\"Coal India Ltd.\",\"Vedanta Ltd.\",\"Bank of Baroda\",\"ICICI Prudential Life Insurance Company Ltd.\",\"SBI Life Insurance Company Ltd.\",\"Axis Bank Ltd.\",\"JSW Steel Ltd.\",\"Grasim Industries Ltd.\",\"Mahindra & Mahindra Ltd.\",\"HCL Technologies Ltd.\",\"Maruti Suzuki India Ltd.\",\"HDFC Life Insurance Company Ltd.\",\"Power Finance Corporation Ltd.\",\"Wipro Ltd.\",\"Bajaj Finserv Ltd.\",\"GAIL (India) Ltd.\",\"Motherson Sumi Systems Ltd.\",\"Kotak Mahindra Bank Ltd.\",\"ITC Ltd.\",\"Jindal Steel & Power Ltd.\",\"General Insurance Corporation of India\",\"Hindustan Unilever Ltd.\",\"UltraTech Cement Ltd.\",\"Vodafone Idea Ltd.\",\"Power Grid Corporation of India Ltd.\",\"Adani Enterprises Ltd.\",\"UPL Ltd.\",\"Tech Mahindra Ltd.\",\"REC Ltd.\",\"IndusInd Bank Ltd.\",\"Sun Pharmaceutical Industries Ltd.\",\"Hero MotoCorp Ltd.\",\"Bajaj Auto Ltd.\",\"Aurobindo Pharma Ltd.\",\"Bajaj Finance Ltd.\",\"Petronet LNG Ltd.\",\"Ambuja Cements Ltd.\",\"IDBI Bank Ltd.\",\"Hindustan Zinc Ltd.\",\"Avenue Supermarts Ltd.\",\"YES Bank Ltd.\",\"Hindustan Aeronautics Ltd.\",\"Asian Paints Ltd.\",\"Titan Company Ltd.\",\"Ashok Leyland Ltd.\",\"TVS Motor Company Ltd.\",\"Cipla Ltd.\",\"Dr. Reddy's Laboratories Ltd.\",\"Shriram Transport Finance Company Ltd.\",\"Tata Communications Ltd.\",\"MRF Ltd.\",\"NMDC Ltd.\",\"InterGlobe Aviation Ltd.\",\"Lupin Ltd.\",\"Adani Ports & Special Economic Zone Ltd.\",\"Indus Towers Ltd.\",\"Cadila Healthcare Ltd.\",\"Bandhan Bank Ltd.\",\"Coromandel International Ltd.\",\"Bharat Electronics Ltd.\",\"ACC Ltd.\",\"Shree Cements Ltd.\",\"Piramal Enterprises Ltd.\",\"Nestle India Ltd.\",\"Britannia Industries Ltd.\",\"ICICI Lombard General Insurance Company Ltd.\",\"Larsen & Toubro Infotech Ltd.\",\"Tata Consumer Products Ltd.\",\"Muthoot Finance Ltd.\",\"Godrej Consumer Products Ltd.\",\"NHPC Ltd.\",\"Adani Transmission Ltd.\",\"Apollo Hospitals Enterprise Ltd.\",\"Havells India Ltd.\",\"Siemens Ltd.\",\"Bosch Ltd.\",\"Gujarat Gas Ltd.\",\"Dabur India Ltd.\",\"MphasiS Ltd.\",\"Cholamandalam Investment & Finance Company Ltd.\",\"Eicher Motors Ltd.\",\"Alkem Laboratories Ltd.\",\"Marico Ltd.\",\"SRF Ltd.\",\"United Spirits Ltd.\",\"MindTree Ltd.\",\"Torrent Pharmaceuticals Ltd.\",\"Voltas Ltd.\",\"Varun Beverages Ltd.\",\"Whirlpool of India Ltd.\",\"Pidilite Industries Ltd.\",\"Biocon Ltd.\",\"Divi's Laboratories Ltd.\",\"Berger Paints (India) Ltd.\",\"Container Corporation of India Ltd.\",\"Bharat Forge Ltd.\",\"Au Small Finance Bank Ltd.\",\"ABB India Ltd.\",\"Balkrishna Industries Ltd.\",\"DLF Ltd.\",\"Kansai Nerolac Paints Ltd.\",\"Ipca Laboratories Ltd.\",\"The Ramco Cements Ltd.\",\"Indraprastha Gas Ltd.\",\"Oracle Financial Services Software Ltd.\",\"Colgate-Palmolive (India) Ltd.\",\"PI Industries Ltd.\",\"Abbott India Ltd.\",\"United Breweries Ltd.\",\"Bayer Cropscience Ltd.\",\"Procter & Gamble Hygiene & Healthcare Ltd.\",\"Jubilant Foodworks Ltd.\",\"GlaxoSmithKline Pharmaceuticals Ltd.\",\"Honeywell Automation India Ltd.\",\"Page Industries Ltd.\",\"Trent Ltd.\",\"3M India Ltd.\",\"Pfizer Ltd.\"],\"legendgroup\":\"Large-Cap\",\"marker\":{\"color\":\"#636efa\",\"size\":[1246740.0,205587.0,78565.0,90615.0,47878.0,82333.0,31814.0,1003464.0,323211.0,54896.0,749216.0,148023.0,401874.0,46131.0,89555.0,256068.0,473092.0,27846.0,75716.0,39243.0,21834.0,62215.0,82849.0,179904.0,81051.0,54415.0,81632.0,224430.0,209840.0,127501.0,26578.0,198066.0,116617.0,41957.0,41017.0,352280.0,226073.0,22713.0,22315.0,500830.0,137576.0,26256.0,97897.0,41268.0,32418.0,81587.0,22395.0,59067.0,121430.0,60121.0,87433.0,48229.0,258529.0,36812.0,51283.0,38587.0,93622.0,151715.0,34536.0,25032.0,209672.0,114073.0,26155.0,22636.0,60498.0,80385.0,22744.0,28790.0,30858.0,28275.0,59926.0,40877.0,76544.0,35512.0,43893.0,55188.0,22340.0,23980.0,31542.0,83888.0,31252.0,165267.0,84706.0,59424.0,53749.0,47123.0,47400.0,70082.0,20823.0,37315.0,30799.0,51193.0,49285.0,35481.0,21751.0,90527.0,24823.0,26617.0,65451.0,32546.0,48197.0,29484.0,40013.0,22294.0,44093.0,25137.0,21278.0,26801.0,79610.0,50407.0,89663.0,62532.0,24442.0,22847.0,25644.0,20981.0,29773.0,44413.0,28260.0,27524.0,20061.0,30577.0,26380.0,41127.0,35108.0,32849.0,26878.0,23542.0,34286.0,31686.0,24681.0,26660.0,24282.0,25585.0,23494.0,23060.0],\"sizemode\":\"area\",\"sizeref\":124.674,\"symbol\":\"circle\"},\"mode\":\"markers\",\"name\":\"Large-Cap\",\"orientation\":\"v\",\"showlegend\":true,\"x\":[\"Large-Cap\",\"Large-Cap\",\"Large-Cap\",\"Large-Cap\",\"Large-Cap\",\"Large-Cap\",\"Large-Cap\",\"Large-Cap\",\"Large-Cap\",\"Large-Cap\",\"Large-Cap\",\"Large-Cap\",\"Large-Cap\",\"Large-Cap\",\"Large-Cap\",\"Large-Cap\",\"Large-Cap\",\"Large-Cap\",\"Large-Cap\",\"Large-Cap\",\"Large-Cap\",\"Large-Cap\",\"Large-Cap\",\"Large-Cap\",\"Large-Cap\",\"Large-Cap\",\"Large-Cap\",\"Large-Cap\",\"Large-Cap\",\"Large-Cap\",\"Large-Cap\",\"Large-Cap\",\"Large-Cap\",\"Large-Cap\",\"Large-Cap\",\"Large-Cap\",\"Large-Cap\",\"Large-Cap\",\"Large-Cap\",\"Large-Cap\",\"Large-Cap\",\"Large-Cap\",\"Large-Cap\",\"Large-Cap\",\"Large-Cap\",\"Large-Cap\",\"Large-Cap\",\"Large-Cap\",\"Large-Cap\",\"Large-Cap\",\"Large-Cap\",\"Large-Cap\",\"Large-Cap\",\"Large-Cap\",\"Large-Cap\",\"Large-Cap\",\"Large-Cap\",\"Large-Cap\",\"Large-Cap\",\"Large-Cap\",\"Large-Cap\",\"Large-Cap\",\"Large-Cap\",\"Large-Cap\",\"Large-Cap\",\"Large-Cap\",\"Large-Cap\",\"Large-Cap\",\"Large-Cap\",\"Large-Cap\",\"Large-Cap\",\"Large-Cap\",\"Large-Cap\",\"Large-Cap\",\"Large-Cap\",\"Large-Cap\",\"Large-Cap\",\"Large-Cap\",\"Large-Cap\",\"Large-Cap\",\"Large-Cap\",\"Large-Cap\",\"Large-Cap\",\"Large-Cap\",\"Large-Cap\",\"Large-Cap\",\"Large-Cap\",\"Large-Cap\",\"Large-Cap\",\"Large-Cap\",\"Large-Cap\",\"Large-Cap\",\"Large-Cap\",\"Large-Cap\",\"Large-Cap\",\"Large-Cap\",\"Large-Cap\",\"Large-Cap\",\"Large-Cap\",\"Large-Cap\",\"Large-Cap\",\"Large-Cap\",\"Large-Cap\",\"Large-Cap\",\"Large-Cap\",\"Large-Cap\",\"Large-Cap\",\"Large-Cap\",\"Large-Cap\",\"Large-Cap\",\"Large-Cap\",\"Large-Cap\",\"Large-Cap\",\"Large-Cap\",\"Large-Cap\",\"Large-Cap\",\"Large-Cap\",\"Large-Cap\",\"Large-Cap\",\"Large-Cap\",\"Large-Cap\",\"Large-Cap\",\"Large-Cap\",\"Large-Cap\",\"Large-Cap\",\"Large-Cap\",\"Large-Cap\",\"Large-Cap\",\"Large-Cap\",\"Large-Cap\",\"Large-Cap\",\"Large-Cap\",\"Large-Cap\",\"Large-Cap\",\"Large-Cap\",\"Large-Cap\"],\"xaxis\":\"x\",\"y\":[1246740.0,205587.0,78565.0,90615.0,47878.0,82333.0,31814.0,1003464.0,323211.0,54896.0,749216.0,148023.0,401874.0,46131.0,89555.0,256068.0,473092.0,27846.0,75716.0,39243.0,21834.0,62215.0,82849.0,179904.0,81051.0,54415.0,81632.0,224430.0,209840.0,127501.0,26578.0,198066.0,116617.0,41957.0,41017.0,352280.0,226073.0,22713.0,22315.0,500830.0,137576.0,26256.0,97897.0,41268.0,32418.0,81587.0,22395.0,59067.0,121430.0,60121.0,87433.0,48229.0,258529.0,36812.0,51283.0,38587.0,93622.0,151715.0,34536.0,25032.0,209672.0,114073.0,26155.0,22636.0,60498.0,80385.0,22744.0,28790.0,30858.0,28275.0,59926.0,40877.0,76544.0,35512.0,43893.0,55188.0,22340.0,23980.0,31542.0,83888.0,31252.0,165267.0,84706.0,59424.0,53749.0,47123.0,47400.0,70082.0,20823.0,37315.0,30799.0,51193.0,49285.0,35481.0,21751.0,90527.0,24823.0,26617.0,65451.0,32546.0,48197.0,29484.0,40013.0,22294.0,44093.0,25137.0,21278.0,26801.0,79610.0,50407.0,89663.0,62532.0,24442.0,22847.0,25644.0,20981.0,29773.0,44413.0,28260.0,27524.0,20061.0,30577.0,26380.0,41127.0,35108.0,32849.0,26878.0,23542.0,34286.0,31686.0,24681.0,26660.0,24282.0,25585.0,23494.0,23060.0],\"yaxis\":\"y\",\"type\":\"scatter\"},{\"hovertemplate\":\"<b>%{hovertext}</b><br><br>2020 COMPANY TYPE=%{x}<br>2020 MARKET CAP(\\u20b9 Cr)=%{marker.size}<extra></extra>\",\"hovertext\":[\"Rajesh Exports Ltd.\",\"Canara Bank\",\"Union Bank of India\",\"Steel Authority of India (SAIL) Ltd.\",\"Redington (India) Ltd.\",\"Bank of India\",\"Indian Bank\",\"Tata Power Company Ltd.\",\"The New India Assurance Company Ltd.\",\"Max Financial Services Ltd.\",\"Adani Power Ltd.\",\"Central Bank of India\",\"Indian Overseas Bank\",\"LIC Housing Finance Ltd.\",\"Aditya Birla Capital Ltd.\",\"Oil India Ltd.\",\"EID Parry (India) Ltd.\",\"IDFC First Bank Ltd.\",\"UCO Bank\",\"Bharat Heavy Electricals Ltd.\",\"Apollo Tyres Ltd.\",\"Federal Bank Ltd.\",\"Exide Industries Ltd.\",\"Bank of Maharashtra\",\"L&T Finance Holdings Ltd.\",\"Cholamandalam Financial Holdings Ltd.\",\"Bombay Burmah Trading Corporation Ltd.\",\"Chambal Fertilisers & Chemicals Ltd.\",\"KEC International Ltd.\",\"NLC India Ltd.\",\"Mahindra & Mahindra Financial Services Ltd.\",\"Torrent Power Ltd.\",\"CESC Ltd.\",\"Gujarat State Petronet Ltd.\",\"Glenmark Pharmaceuticals Ltd.\",\"Quess Corp Ltd.\",\"Edelweiss Financial Services Ltd.\",\"Tata Chemicals Ltd.\",\"RBL Bank Ltd.\",\"Godrej Industries Ltd.\",\"BASF India Ltd.\",\"Indiabulls Housing Finance Ltd.\",\"SIS Ltd.\",\"National Aluminium Company Ltd.\",\"Prestige Estates Projects Ltd.\",\"Alok Industries Ltd.\",\"DCM Shriram Ltd.\",\"Aster DM Healthcare Ltd.\",\"APL Apollo Tubes Ltd.\",\"Zee Entertainment Enterprises Ltd.\",\"PNB Housing Finance Ltd.\",\"Welspun India Ltd.\",\"Housing and Urban Development Corporation Ltd.\",\"Amara Raja Batteries Ltd.\",\"JSW Energy Ltd.\",\"Escorts Ltd.\",\"Birla Corporation Ltd.\",\"GMR Infrastructure Ltd.\",\"JK Cement Ltd.\",\"Endurance Technologies Ltd.\",\"Supreme Industries Ltd.\",\"Dixon Technologies (India) Ltd.\",\"Minda Industries Ltd.\",\"Jubilant Pharmova Ltd.\",\"Manappuram Finance Ltd.\",\"Godrej Agrovet Ltd.\",\"Tube Investments of India Ltd.\",\"Shriram City Union Finance Ltd.\",\"Mahindra CIE Automotive Ltd.\",\"L&T Technology Services Ltd.\",\"Hatsun Agro Products Ltd.\",\"Alembic Pharmaceuticals Ltd.\",\"Aditya Birla Fashion and Retail Ltd.\",\"Sundaram Finance Ltd.\",\"Firstsource Solutions Ltd.\",\"Thermax Ltd.\",\"Sterlite Technologies Ltd.\",\"Crompton Greaves Consumer Electricals Ltd.\",\"City Union Bank Ltd.\",\"Laurus Labs Ltd.\",\"Cummins India Ltd.\",\"Coforge Ltd.\",\"Bajaj Electricals Ltd.\",\"Aarti Industries Ltd.\",\"Blue Star Ltd.\",\"Persistent Systems Ltd.\",\"Fortis Healthcare Ltd.\",\"Avanti Feeds Ltd.\",\"KRBL Ltd.\",\"Aegis Logistics Ltd.\",\"Atul Ltd.\",\"Sundram Fasteners Ltd.\",\"SJVN Ltd.\",\"Motilal Oswal Financial Services Ltd.\",\"Birlasoft Ltd.\",\"KPR Mill Ltd.\",\"Finolex Industries Ltd.\",\"Strides Pharma Science Ltd.\",\"Sun TV Network Ltd.\",\"Blue Dart Express Ltd.\",\"JM Financial Ltd.\",\"Astral Ltd.\",\"EPL Ltd.\",\"Amber Enterprises India Ltd.\",\"Castrol India Ltd.\",\"AIA Engineering Ltd.\",\"Sanofi India Ltd.\",\"Emami Ltd.\",\"Kajaria Ceramics Ltd.\",\"Galaxy Surfactants Ltd.\",\"V-Guard Industries Ltd.\",\"SKF India Ltd.\",\"Carborundum Universal Ltd.\",\"Narayana Hrudayalaya Ltd.\",\"Asahi India Glass Ltd.\",\"Akzo Nobel India Ltd.\",\"Mahanagar Gas Ltd.\",\"Bharat Dynamics Ltd.\"],\"legendgroup\":\"Mid-Cap\",\"marker\":{\"color\":\"#EF553B\",\"size\":[13368.0,13579.0,16151.0,16512.0,5008.0,13657.0,7094.0,18346.0,18009.0,16680.0,14390.0,6856.0,16024.0,15969.0,18497.0,9839.0,5301.0,19030.0,11826.0,10111.0,9411.0,11407.0,14320.0,7460.0,14237.0,8480.0,8793.0,7391.0,8729.0,6920.0,18100.0,14902.0,7720.0,10977.0,13637.0,6305.0,5410.0,8549.0,10989.0,13142.0,6511.0,7767.0,5691.0,6693.0,10548.0,11432.0,5409.0,7679.0,8094.0,18214.0,6324.0,6684.0,6572.0,14303.0,9982.0,18305.0,5448.0,14928.0,14630.0,15111.0,19134.0,12000.0,9648.0,11210.0,13782.0,9759.0,13992.0,6305.0,5583.0,17695.0,14092.0,19226.0,12075.0,18074.0,5173.0,9604.0,5895.0,18938.0,13146.0,15204.0,13494.0,13963.0,6060.0,19135.0,6725.0,8825.0,10358.0,6744.0,5993.0,7559.0,18595.0,10096.0,8879.0,8538.0,5093.0,5398.0,7375.0,6112.0,16884.0,9387.0,7386.0,19734.0,8095.0,7543.0,11617.0,16727.0,18861.0,17233.0,9556.0,6483.0,7411.0,7540.0,5966.0,7273.0,5685.0,9234.0,8758.0,5604.0],\"sizemode\":\"area\",\"sizeref\":124.674,\"symbol\":\"circle\"},\"mode\":\"markers\",\"name\":\"Mid-Cap\",\"orientation\":\"v\",\"showlegend\":true,\"x\":[\"Mid-Cap\",\"Mid-Cap\",\"Mid-Cap\",\"Mid-Cap\",\"Mid-Cap\",\"Mid-Cap\",\"Mid-Cap\",\"Mid-Cap\",\"Mid-Cap\",\"Mid-Cap\",\"Mid-Cap\",\"Mid-Cap\",\"Mid-Cap\",\"Mid-Cap\",\"Mid-Cap\",\"Mid-Cap\",\"Mid-Cap\",\"Mid-Cap\",\"Mid-Cap\",\"Mid-Cap\",\"Mid-Cap\",\"Mid-Cap\",\"Mid-Cap\",\"Mid-Cap\",\"Mid-Cap\",\"Mid-Cap\",\"Mid-Cap\",\"Mid-Cap\",\"Mid-Cap\",\"Mid-Cap\",\"Mid-Cap\",\"Mid-Cap\",\"Mid-Cap\",\"Mid-Cap\",\"Mid-Cap\",\"Mid-Cap\",\"Mid-Cap\",\"Mid-Cap\",\"Mid-Cap\",\"Mid-Cap\",\"Mid-Cap\",\"Mid-Cap\",\"Mid-Cap\",\"Mid-Cap\",\"Mid-Cap\",\"Mid-Cap\",\"Mid-Cap\",\"Mid-Cap\",\"Mid-Cap\",\"Mid-Cap\",\"Mid-Cap\",\"Mid-Cap\",\"Mid-Cap\",\"Mid-Cap\",\"Mid-Cap\",\"Mid-Cap\",\"Mid-Cap\",\"Mid-Cap\",\"Mid-Cap\",\"Mid-Cap\",\"Mid-Cap\",\"Mid-Cap\",\"Mid-Cap\",\"Mid-Cap\",\"Mid-Cap\",\"Mid-Cap\",\"Mid-Cap\",\"Mid-Cap\",\"Mid-Cap\",\"Mid-Cap\",\"Mid-Cap\",\"Mid-Cap\",\"Mid-Cap\",\"Mid-Cap\",\"Mid-Cap\",\"Mid-Cap\",\"Mid-Cap\",\"Mid-Cap\",\"Mid-Cap\",\"Mid-Cap\",\"Mid-Cap\",\"Mid-Cap\",\"Mid-Cap\",\"Mid-Cap\",\"Mid-Cap\",\"Mid-Cap\",\"Mid-Cap\",\"Mid-Cap\",\"Mid-Cap\",\"Mid-Cap\",\"Mid-Cap\",\"Mid-Cap\",\"Mid-Cap\",\"Mid-Cap\",\"Mid-Cap\",\"Mid-Cap\",\"Mid-Cap\",\"Mid-Cap\",\"Mid-Cap\",\"Mid-Cap\",\"Mid-Cap\",\"Mid-Cap\",\"Mid-Cap\",\"Mid-Cap\",\"Mid-Cap\",\"Mid-Cap\",\"Mid-Cap\",\"Mid-Cap\",\"Mid-Cap\",\"Mid-Cap\",\"Mid-Cap\",\"Mid-Cap\",\"Mid-Cap\",\"Mid-Cap\",\"Mid-Cap\",\"Mid-Cap\",\"Mid-Cap\",\"Mid-Cap\"],\"xaxis\":\"x\",\"y\":[13368.0,13579.0,16151.0,16512.0,5008.0,13657.0,7094.0,18346.0,18009.0,16680.0,14390.0,6856.0,16024.0,15969.0,18497.0,9839.0,5301.0,19030.0,11826.0,10111.0,9411.0,11407.0,14320.0,7460.0,14237.0,8480.0,8793.0,7391.0,8729.0,6920.0,18100.0,14902.0,7720.0,10977.0,13637.0,6305.0,5410.0,8549.0,10989.0,13142.0,6511.0,7767.0,5691.0,6693.0,10548.0,11432.0,5409.0,7679.0,8094.0,18214.0,6324.0,6684.0,6572.0,14303.0,9982.0,18305.0,5448.0,14928.0,14630.0,15111.0,19134.0,12000.0,9648.0,11210.0,13782.0,9759.0,13992.0,6305.0,5583.0,17695.0,14092.0,19226.0,12075.0,18074.0,5173.0,9604.0,5895.0,18938.0,13146.0,15204.0,13494.0,13963.0,6060.0,19135.0,6725.0,8825.0,10358.0,6744.0,5993.0,7559.0,18595.0,10096.0,8879.0,8538.0,5093.0,5398.0,7375.0,6112.0,16884.0,9387.0,7386.0,19734.0,8095.0,7543.0,11617.0,16727.0,18861.0,17233.0,9556.0,6483.0,7411.0,7540.0,5966.0,7273.0,5685.0,9234.0,8758.0,5604.0],\"yaxis\":\"y\",\"type\":\"scatter\"},{\"hovertemplate\":\"<b>%{hovertext}</b><br><br>2020 COMPANY TYPE=%{x}<br>2020 MARKET CAP(\\u20b9 Cr)=%{marker.size}<extra></extra>\",\"hovertext\":[\"Mangalore Refinery And Petrochemicals Ltd.\",\"MMTC Ltd.\",\"Chennai Petroleum Corporation Ltd.\",\"Tata Steel BSL Ltd.\",\"Sundaram Clayton Ltd.\",\"Reliance Infrastructure Ltd.\",\"Reliance Capital Ltd.\",\"PTC India Ltd.\",\"Kalpataru Power Transmissions Ltd.\",\"Jindal Stainless Ltd.\",\"National Fertilizers Ltd.\",\"Rain Industries Ltd.\",\"Jindal Saw Ltd.\",\"Allcargo Logistics Ltd.\",\"Dilip Buildcon Ltd.\",\"Jindal Stainless (Hisar) Ltd.\",\"JK Tyre & Industries Ltd.\",\"Uflex Ltd.\",\"Jammu & Kashmir Bank Ltd.\",\"Kama Holdings Ltd.\",\"South Indian Bank Ltd.\",\"Rashtriya Chemicals & Fertilizers Ltd.\",\"Reliance Power Ltd.\",\"Gokul Agro Resources Ltd.\",\"Hindustan Construction Company Ltd.\",\"NCC Ltd.\",\"Punjab & Sind Bank\",\"Gujarat State Fertilizer & Chemicals Ltd.\",\"Karnataka Bank Ltd.\",\"Ceat Ltd.\",\"NBCC (India) Ltd.\",\"Welspun Corp Ltd.\",\"Bajaj Hindusthan Sugar Ltd.\",\"Jaiprakash Associates Ltd.\",\"Future Retail Ltd.\",\"Karur Vysya Bank Ltd.\",\"Apar Industries Ltd.\",\"Vardhman Textiles Ltd.\",\"PDS Multinational Fashions Ltd.\",\"Jain Irrigation Systems Ltd.\",\"Spicejet Ltd.\",\"IIFL Finance Ltd.\",\"Shree Renuka Sugars Ltd.\",\"PNC Infratech Ltd.\",\"Deepak Fertilisers & Petrochemicals Corporation Ltd.\",\"Hinduja Global Solutions Ltd.\",\"Prism Johnson Ltd.\",\"Surya Roshni Ltd.\",\"IRB Infrastructure Developers Ltd.\",\"ISGEC Heavy Engineering Ltd.\",\"Gujarat Narmada Valley Fertilizers & Chemicals Ltd.\",\"Ashoka Buildcon Ltd.\",\"Arvind Ltd.\",\"Polyplex Corporation Ltd.\",\"TeamLease Services Ltd.\",\"Balrampur Chini Mills Ltd.\",\"JK Lakshmi Cement Ltd.\",\"Gujarat Ambuja Exports Ltd.\",\"Triveni Engineering & Industries Ltd.\",\"LT Foods Ltd.\",\"India Cements Ltd.\",\"Trident Ltd.\",\"HFCL Ltd.\",\"Cyient Ltd.\",\"Sonata Software Ltd.\",\"Jindal Poly Films Ltd.\",\"KEI Industries Ltd.\",\"Suzlon Energy Ltd.\",\"Dhampur Sugar Mills Ltd.\",\"Godawari Power & Ispat Ltd.\",\"DCB Bank Ltd.\",\"Gayatri Projects Ltd.\",\"Shipping Corporation of India Ltd.\",\"JMC Projects (India) Ltd.\",\"Wockhardt Ltd.\",\"Zensar Technologies Ltd.\",\"Jayaswal Neco Industries Ltd.\",\"Raymond Ltd.\",\"BEML Ltd.\",\"Jaiprakash Power Ventures Ltd.\",\"Great Eastern Shipping Company Ltd.\",\"Electrosteel Castings Ltd.\",\"IFB Industries Ltd.\",\"GE T&D India Ltd.\",\"SREI Infrastructure Finance Ltd.\",\"Mukand Ltd.\",\"Prakash Industries Ltd.\",\"The Fertilisers and Chemicals Travancore Ltd.\",\"Kirloskar Oil Engines Ltd.\",\"Mahindra Logistics Ltd.\",\"Dish TV India Ltd.\",\"Tamil Nadu Newsprint And Papers Ltd.\",\"Supreme Petrochem Ltd.\",\"Kothari Products Ltd.\",\"Venky's (India) Ltd.\",\"JK Paper Ltd.\",\"CG Power and Industrial Solutions Ltd.\",\"Finolex Cables Ltd.\",\"KNR Constructions Ltd.\",\"Paul Merchants Ltd.\",\"Cochin Shipyard Ltd.\",\"Time Technoplast Ltd.\",\"Kesoram Industries Ltd.\",\"Forbes & Company Ltd.\",\"GHCL Ltd.\",\"Brightcom Group Ltd.\",\"PC Jeweller Ltd.\",\"Va Tech Wabag Ltd.\",\"Transport Corporation of India Ltd.\",\"Nava Bharat Ventures Ltd.\",\"Jai Balaji Industries Ltd.\",\"ITD Cementation India Ltd.\",\"Kirloskar Brothers Ltd.\",\"Century Textiles & Industries Ltd.\",\"Phillips Carbon Black Ltd.\",\"Godfrey Phillips India Ltd.\",\"Sadbhav Engineering Ltd.\",\"Prime Focus Ltd.\",\"J Kumar Infraprojects Ltd.\",\"Orient Cement Ltd.\",\"Zuari Agro Chemicals Ltd.\",\"Religare Enterprises Ltd.\",\"Electrotherm (India) Ltd.\",\"Gujarat Alkalies & Chemicals Ltd.\",\"Heritage Foods Ltd.\",\"Huhtamaki India Ltd.\",\"Wheels India Ltd.\",\"Minda Corporation Ltd.\",\"Maharashtra Seamless Ltd.\",\"RSWM Ltd.\",\"Poonawalla Fincorp Ltd.\",\"India Glycols Ltd.\",\"Future Lifestyle Fashions Ltd.\",\"Graphite India Ltd.\",\"Himatsingka Seide Ltd.\",\"Simplex Infrastructures Ltd.\",\"Sobha Ltd.\",\"Mangalore Chemicals & Fertilizers Ltd.\",\"Patel Engineering Ltd.\",\"Century Plyboards (India) Ltd.\",\"Usha Martin Ltd.\",\"Nilkamal Ltd.\",\"IFCI Ltd.\",\"Rane Holdings Ltd.\",\"Shankara Building Products Ltd.\",\"Force Motors Ltd.\"],\"legendgroup\":\"Small-Cap\",\"marker\":{\"color\":\"#00cc96\",\"size\":[4919.0,2587.0,1189.0,3240.0,3445.0,529.0,223.0,1539.0,4299.0,3007.0,1622.0,3615.0,2057.0,3013.0,4780.0,2653.0,1873.0,2426.0,1263.0,3327.0,1243.0,2491.0,874.0,179.0,799.0,2361.0,812.0,2627.0,1385.0,4540.0,4372.0,2772.0,533.0,952.0,3965.0,2854.0,1211.0,4807.0,1025.0,815.0,3578.0,3725.0,2118.0,4300.0,1464.0,1665.0,3968.0,1372.0,4011.0,1879.0,3091.0,1916.0,991.0,2389.0,4021.0,3199.0,3761.0,2660.0,1660.0,1620.0,4133.0,3898.0,2244.0,4808.0,3548.0,2080.0,3219.0,2803.0,964.0,1338.0,2827.0,508.0,2444.0,835.0,3703.0,4475.0,212.0,1952.0,2680.0,1638.0,3495.0,915.0,3053.0,2351.0,320.0,702.0,750.0,3161.0,1515.0,2752.0,1983.0,731.0,2722.0,180.0,2220.0,1606.0,2188.0,4325.0,3752.0,125.0,4503.0,935.0,614.0,1940.0,1576.0,266.0,624.0,1168.0,1850.0,889.0,160.0,909.0,937.0,3605.0,2663.0,4636.0,830.0,1158.0,844.0,1378.0,351.0,1368.0,119.0,2331.0,1295.0,2189.0,990.0,1627.0,1613.0,215.0,1185.0,867.0,1635.0,3943.0,1188.0,173.0,2848.0,391.0,450.0,4247.0,741.0,2005.0,1151.0,618.0,713.0,1441.0],\"sizemode\":\"area\",\"sizeref\":124.674,\"symbol\":\"circle\"},\"mode\":\"markers\",\"name\":\"Small-Cap\",\"orientation\":\"v\",\"showlegend\":true,\"x\":[\"Small-Cap\",\"Small-Cap\",\"Small-Cap\",\"Small-Cap\",\"Small-Cap\",\"Small-Cap\",\"Small-Cap\",\"Small-Cap\",\"Small-Cap\",\"Small-Cap\",\"Small-Cap\",\"Small-Cap\",\"Small-Cap\",\"Small-Cap\",\"Small-Cap\",\"Small-Cap\",\"Small-Cap\",\"Small-Cap\",\"Small-Cap\",\"Small-Cap\",\"Small-Cap\",\"Small-Cap\",\"Small-Cap\",\"Small-Cap\",\"Small-Cap\",\"Small-Cap\",\"Small-Cap\",\"Small-Cap\",\"Small-Cap\",\"Small-Cap\",\"Small-Cap\",\"Small-Cap\",\"Small-Cap\",\"Small-Cap\",\"Small-Cap\",\"Small-Cap\",\"Small-Cap\",\"Small-Cap\",\"Small-Cap\",\"Small-Cap\",\"Small-Cap\",\"Small-Cap\",\"Small-Cap\",\"Small-Cap\",\"Small-Cap\",\"Small-Cap\",\"Small-Cap\",\"Small-Cap\",\"Small-Cap\",\"Small-Cap\",\"Small-Cap\",\"Small-Cap\",\"Small-Cap\",\"Small-Cap\",\"Small-Cap\",\"Small-Cap\",\"Small-Cap\",\"Small-Cap\",\"Small-Cap\",\"Small-Cap\",\"Small-Cap\",\"Small-Cap\",\"Small-Cap\",\"Small-Cap\",\"Small-Cap\",\"Small-Cap\",\"Small-Cap\",\"Small-Cap\",\"Small-Cap\",\"Small-Cap\",\"Small-Cap\",\"Small-Cap\",\"Small-Cap\",\"Small-Cap\",\"Small-Cap\",\"Small-Cap\",\"Small-Cap\",\"Small-Cap\",\"Small-Cap\",\"Small-Cap\",\"Small-Cap\",\"Small-Cap\",\"Small-Cap\",\"Small-Cap\",\"Small-Cap\",\"Small-Cap\",\"Small-Cap\",\"Small-Cap\",\"Small-Cap\",\"Small-Cap\",\"Small-Cap\",\"Small-Cap\",\"Small-Cap\",\"Small-Cap\",\"Small-Cap\",\"Small-Cap\",\"Small-Cap\",\"Small-Cap\",\"Small-Cap\",\"Small-Cap\",\"Small-Cap\",\"Small-Cap\",\"Small-Cap\",\"Small-Cap\",\"Small-Cap\",\"Small-Cap\",\"Small-Cap\",\"Small-Cap\",\"Small-Cap\",\"Small-Cap\",\"Small-Cap\",\"Small-Cap\",\"Small-Cap\",\"Small-Cap\",\"Small-Cap\",\"Small-Cap\",\"Small-Cap\",\"Small-Cap\",\"Small-Cap\",\"Small-Cap\",\"Small-Cap\",\"Small-Cap\",\"Small-Cap\",\"Small-Cap\",\"Small-Cap\",\"Small-Cap\",\"Small-Cap\",\"Small-Cap\",\"Small-Cap\",\"Small-Cap\",\"Small-Cap\",\"Small-Cap\",\"Small-Cap\",\"Small-Cap\",\"Small-Cap\",\"Small-Cap\",\"Small-Cap\",\"Small-Cap\",\"Small-Cap\",\"Small-Cap\",\"Small-Cap\",\"Small-Cap\",\"Small-Cap\",\"Small-Cap\",\"Small-Cap\",\"Small-Cap\"],\"xaxis\":\"x\",\"y\":[4919.0,2587.0,1189.0,3240.0,3445.0,529.0,223.0,1539.0,4299.0,3007.0,1622.0,3615.0,2057.0,3013.0,4780.0,2653.0,1873.0,2426.0,1263.0,3327.0,1243.0,2491.0,874.0,179.0,799.0,2361.0,812.0,2627.0,1385.0,4540.0,4372.0,2772.0,533.0,952.0,3965.0,2854.0,1211.0,4807.0,1025.0,815.0,3578.0,3725.0,2118.0,4300.0,1464.0,1665.0,3968.0,1372.0,4011.0,1879.0,3091.0,1916.0,991.0,2389.0,4021.0,3199.0,3761.0,2660.0,1660.0,1620.0,4133.0,3898.0,2244.0,4808.0,3548.0,2080.0,3219.0,2803.0,964.0,1338.0,2827.0,508.0,2444.0,835.0,3703.0,4475.0,212.0,1952.0,2680.0,1638.0,3495.0,915.0,3053.0,2351.0,320.0,702.0,750.0,3161.0,1515.0,2752.0,1983.0,731.0,2722.0,180.0,2220.0,1606.0,2188.0,4325.0,3752.0,125.0,4503.0,935.0,614.0,1940.0,1576.0,266.0,624.0,1168.0,1850.0,889.0,160.0,909.0,937.0,3605.0,2663.0,4636.0,830.0,1158.0,844.0,1378.0,351.0,1368.0,119.0,2331.0,1295.0,2189.0,990.0,1627.0,1613.0,215.0,1185.0,867.0,1635.0,3943.0,1188.0,173.0,2848.0,391.0,450.0,4247.0,741.0,2005.0,1151.0,618.0,713.0,1441.0],\"yaxis\":\"y\",\"type\":\"scatter\"}],                        {\"template\":{\"data\":{\"bar\":[{\"error_x\":{\"color\":\"#2a3f5f\"},\"error_y\":{\"color\":\"#2a3f5f\"},\"marker\":{\"line\":{\"color\":\"#E5ECF6\",\"width\":0.5},\"pattern\":{\"fillmode\":\"overlay\",\"size\":10,\"solidity\":0.2}},\"type\":\"bar\"}],\"barpolar\":[{\"marker\":{\"line\":{\"color\":\"#E5ECF6\",\"width\":0.5},\"pattern\":{\"fillmode\":\"overlay\",\"size\":10,\"solidity\":0.2}},\"type\":\"barpolar\"}],\"carpet\":[{\"aaxis\":{\"endlinecolor\":\"#2a3f5f\",\"gridcolor\":\"white\",\"linecolor\":\"white\",\"minorgridcolor\":\"white\",\"startlinecolor\":\"#2a3f5f\"},\"baxis\":{\"endlinecolor\":\"#2a3f5f\",\"gridcolor\":\"white\",\"linecolor\":\"white\",\"minorgridcolor\":\"white\",\"startlinecolor\":\"#2a3f5f\"},\"type\":\"carpet\"}],\"choropleth\":[{\"colorbar\":{\"outlinewidth\":0,\"ticks\":\"\"},\"type\":\"choropleth\"}],\"contour\":[{\"colorbar\":{\"outlinewidth\":0,\"ticks\":\"\"},\"colorscale\":[[0.0,\"#0d0887\"],[0.1111111111111111,\"#46039f\"],[0.2222222222222222,\"#7201a8\"],[0.3333333333333333,\"#9c179e\"],[0.4444444444444444,\"#bd3786\"],[0.5555555555555556,\"#d8576b\"],[0.6666666666666666,\"#ed7953\"],[0.7777777777777778,\"#fb9f3a\"],[0.8888888888888888,\"#fdca26\"],[1.0,\"#f0f921\"]],\"type\":\"contour\"}],\"contourcarpet\":[{\"colorbar\":{\"outlinewidth\":0,\"ticks\":\"\"},\"type\":\"contourcarpet\"}],\"heatmap\":[{\"colorbar\":{\"outlinewidth\":0,\"ticks\":\"\"},\"colorscale\":[[0.0,\"#0d0887\"],[0.1111111111111111,\"#46039f\"],[0.2222222222222222,\"#7201a8\"],[0.3333333333333333,\"#9c179e\"],[0.4444444444444444,\"#bd3786\"],[0.5555555555555556,\"#d8576b\"],[0.6666666666666666,\"#ed7953\"],[0.7777777777777778,\"#fb9f3a\"],[0.8888888888888888,\"#fdca26\"],[1.0,\"#f0f921\"]],\"type\":\"heatmap\"}],\"heatmapgl\":[{\"colorbar\":{\"outlinewidth\":0,\"ticks\":\"\"},\"colorscale\":[[0.0,\"#0d0887\"],[0.1111111111111111,\"#46039f\"],[0.2222222222222222,\"#7201a8\"],[0.3333333333333333,\"#9c179e\"],[0.4444444444444444,\"#bd3786\"],[0.5555555555555556,\"#d8576b\"],[0.6666666666666666,\"#ed7953\"],[0.7777777777777778,\"#fb9f3a\"],[0.8888888888888888,\"#fdca26\"],[1.0,\"#f0f921\"]],\"type\":\"heatmapgl\"}],\"histogram\":[{\"marker\":{\"pattern\":{\"fillmode\":\"overlay\",\"size\":10,\"solidity\":0.2}},\"type\":\"histogram\"}],\"histogram2d\":[{\"colorbar\":{\"outlinewidth\":0,\"ticks\":\"\"},\"colorscale\":[[0.0,\"#0d0887\"],[0.1111111111111111,\"#46039f\"],[0.2222222222222222,\"#7201a8\"],[0.3333333333333333,\"#9c179e\"],[0.4444444444444444,\"#bd3786\"],[0.5555555555555556,\"#d8576b\"],[0.6666666666666666,\"#ed7953\"],[0.7777777777777778,\"#fb9f3a\"],[0.8888888888888888,\"#fdca26\"],[1.0,\"#f0f921\"]],\"type\":\"histogram2d\"}],\"histogram2dcontour\":[{\"colorbar\":{\"outlinewidth\":0,\"ticks\":\"\"},\"colorscale\":[[0.0,\"#0d0887\"],[0.1111111111111111,\"#46039f\"],[0.2222222222222222,\"#7201a8\"],[0.3333333333333333,\"#9c179e\"],[0.4444444444444444,\"#bd3786\"],[0.5555555555555556,\"#d8576b\"],[0.6666666666666666,\"#ed7953\"],[0.7777777777777778,\"#fb9f3a\"],[0.8888888888888888,\"#fdca26\"],[1.0,\"#f0f921\"]],\"type\":\"histogram2dcontour\"}],\"mesh3d\":[{\"colorbar\":{\"outlinewidth\":0,\"ticks\":\"\"},\"type\":\"mesh3d\"}],\"parcoords\":[{\"line\":{\"colorbar\":{\"outlinewidth\":0,\"ticks\":\"\"}},\"type\":\"parcoords\"}],\"pie\":[{\"automargin\":true,\"type\":\"pie\"}],\"scatter\":[{\"marker\":{\"colorbar\":{\"outlinewidth\":0,\"ticks\":\"\"}},\"type\":\"scatter\"}],\"scatter3d\":[{\"line\":{\"colorbar\":{\"outlinewidth\":0,\"ticks\":\"\"}},\"marker\":{\"colorbar\":{\"outlinewidth\":0,\"ticks\":\"\"}},\"type\":\"scatter3d\"}],\"scattercarpet\":[{\"marker\":{\"colorbar\":{\"outlinewidth\":0,\"ticks\":\"\"}},\"type\":\"scattercarpet\"}],\"scattergeo\":[{\"marker\":{\"colorbar\":{\"outlinewidth\":0,\"ticks\":\"\"}},\"type\":\"scattergeo\"}],\"scattergl\":[{\"marker\":{\"colorbar\":{\"outlinewidth\":0,\"ticks\":\"\"}},\"type\":\"scattergl\"}],\"scattermapbox\":[{\"marker\":{\"colorbar\":{\"outlinewidth\":0,\"ticks\":\"\"}},\"type\":\"scattermapbox\"}],\"scatterpolar\":[{\"marker\":{\"colorbar\":{\"outlinewidth\":0,\"ticks\":\"\"}},\"type\":\"scatterpolar\"}],\"scatterpolargl\":[{\"marker\":{\"colorbar\":{\"outlinewidth\":0,\"ticks\":\"\"}},\"type\":\"scatterpolargl\"}],\"scatterternary\":[{\"marker\":{\"colorbar\":{\"outlinewidth\":0,\"ticks\":\"\"}},\"type\":\"scatterternary\"}],\"surface\":[{\"colorbar\":{\"outlinewidth\":0,\"ticks\":\"\"},\"colorscale\":[[0.0,\"#0d0887\"],[0.1111111111111111,\"#46039f\"],[0.2222222222222222,\"#7201a8\"],[0.3333333333333333,\"#9c179e\"],[0.4444444444444444,\"#bd3786\"],[0.5555555555555556,\"#d8576b\"],[0.6666666666666666,\"#ed7953\"],[0.7777777777777778,\"#fb9f3a\"],[0.8888888888888888,\"#fdca26\"],[1.0,\"#f0f921\"]],\"type\":\"surface\"}],\"table\":[{\"cells\":{\"fill\":{\"color\":\"#EBF0F8\"},\"line\":{\"color\":\"white\"}},\"header\":{\"fill\":{\"color\":\"#C8D4E3\"},\"line\":{\"color\":\"white\"}},\"type\":\"table\"}]},\"layout\":{\"annotationdefaults\":{\"arrowcolor\":\"#2a3f5f\",\"arrowhead\":0,\"arrowwidth\":1},\"autotypenumbers\":\"strict\",\"coloraxis\":{\"colorbar\":{\"outlinewidth\":0,\"ticks\":\"\"}},\"colorscale\":{\"diverging\":[[0,\"#8e0152\"],[0.1,\"#c51b7d\"],[0.2,\"#de77ae\"],[0.3,\"#f1b6da\"],[0.4,\"#fde0ef\"],[0.5,\"#f7f7f7\"],[0.6,\"#e6f5d0\"],[0.7,\"#b8e186\"],[0.8,\"#7fbc41\"],[0.9,\"#4d9221\"],[1,\"#276419\"]],\"sequential\":[[0.0,\"#0d0887\"],[0.1111111111111111,\"#46039f\"],[0.2222222222222222,\"#7201a8\"],[0.3333333333333333,\"#9c179e\"],[0.4444444444444444,\"#bd3786\"],[0.5555555555555556,\"#d8576b\"],[0.6666666666666666,\"#ed7953\"],[0.7777777777777778,\"#fb9f3a\"],[0.8888888888888888,\"#fdca26\"],[1.0,\"#f0f921\"]],\"sequentialminus\":[[0.0,\"#0d0887\"],[0.1111111111111111,\"#46039f\"],[0.2222222222222222,\"#7201a8\"],[0.3333333333333333,\"#9c179e\"],[0.4444444444444444,\"#bd3786\"],[0.5555555555555556,\"#d8576b\"],[0.6666666666666666,\"#ed7953\"],[0.7777777777777778,\"#fb9f3a\"],[0.8888888888888888,\"#fdca26\"],[1.0,\"#f0f921\"]]},\"colorway\":[\"#636efa\",\"#EF553B\",\"#00cc96\",\"#ab63fa\",\"#FFA15A\",\"#19d3f3\",\"#FF6692\",\"#B6E880\",\"#FF97FF\",\"#FECB52\"],\"font\":{\"color\":\"#2a3f5f\"},\"geo\":{\"bgcolor\":\"white\",\"lakecolor\":\"white\",\"landcolor\":\"#E5ECF6\",\"showlakes\":true,\"showland\":true,\"subunitcolor\":\"white\"},\"hoverlabel\":{\"align\":\"left\"},\"hovermode\":\"closest\",\"mapbox\":{\"style\":\"light\"},\"paper_bgcolor\":\"white\",\"plot_bgcolor\":\"#E5ECF6\",\"polar\":{\"angularaxis\":{\"gridcolor\":\"white\",\"linecolor\":\"white\",\"ticks\":\"\"},\"bgcolor\":\"#E5ECF6\",\"radialaxis\":{\"gridcolor\":\"white\",\"linecolor\":\"white\",\"ticks\":\"\"}},\"scene\":{\"xaxis\":{\"backgroundcolor\":\"#E5ECF6\",\"gridcolor\":\"white\",\"gridwidth\":2,\"linecolor\":\"white\",\"showbackground\":true,\"ticks\":\"\",\"zerolinecolor\":\"white\"},\"yaxis\":{\"backgroundcolor\":\"#E5ECF6\",\"gridcolor\":\"white\",\"gridwidth\":2,\"linecolor\":\"white\",\"showbackground\":true,\"ticks\":\"\",\"zerolinecolor\":\"white\"},\"zaxis\":{\"backgroundcolor\":\"#E5ECF6\",\"gridcolor\":\"white\",\"gridwidth\":2,\"linecolor\":\"white\",\"showbackground\":true,\"ticks\":\"\",\"zerolinecolor\":\"white\"}},\"shapedefaults\":{\"line\":{\"color\":\"#2a3f5f\"}},\"ternary\":{\"aaxis\":{\"gridcolor\":\"white\",\"linecolor\":\"white\",\"ticks\":\"\"},\"baxis\":{\"gridcolor\":\"white\",\"linecolor\":\"white\",\"ticks\":\"\"},\"bgcolor\":\"#E5ECF6\",\"caxis\":{\"gridcolor\":\"white\",\"linecolor\":\"white\",\"ticks\":\"\"}},\"title\":{\"x\":0.05},\"xaxis\":{\"automargin\":true,\"gridcolor\":\"white\",\"linecolor\":\"white\",\"ticks\":\"\",\"title\":{\"standoff\":15},\"zerolinecolor\":\"white\",\"zerolinewidth\":2},\"yaxis\":{\"automargin\":true,\"gridcolor\":\"white\",\"linecolor\":\"white\",\"ticks\":\"\",\"title\":{\"standoff\":15},\"zerolinecolor\":\"white\",\"zerolinewidth\":2}}},\"xaxis\":{\"anchor\":\"y\",\"domain\":[0.0,1.0],\"title\":{\"text\":\"2020 COMPANY TYPE\"},\"categoryorder\":\"array\",\"categoryarray\":[\"Large-Cap\",\"Mid-Cap\",\"Small-Cap\"]},\"yaxis\":{\"anchor\":\"x\",\"domain\":[0.0,1.0],\"title\":{\"text\":\"2020 MARKET CAP(\\u20b9 Cr)\"}},\"legend\":{\"title\":{\"text\":\"2020 COMPANY TYPE\"},\"tracegroupgap\":0,\"itemsizing\":\"constant\"},\"margin\":{\"t\":60}},                        {\"responsive\": true}                    ).then(function(){\n",
       "                            \n",
       "var gd = document.getElementById('f6b3e328-46ed-4d24-8347-12992a1f5d63');\n",
       "var x = new MutationObserver(function (mutations, observer) {{\n",
       "        var display = window.getComputedStyle(gd).display;\n",
       "        if (!display || display === 'none') {{\n",
       "            console.log([gd, 'removed!']);\n",
       "            Plotly.purge(gd);\n",
       "            observer.disconnect();\n",
       "        }}\n",
       "}});\n",
       "\n",
       "// Listen for the removal of the full notebook cells\n",
       "var notebookContainer = gd.closest('#notebook-container');\n",
       "if (notebookContainer) {{\n",
       "    x.observe(notebookContainer, {childList: true});\n",
       "}}\n",
       "\n",
       "// Listen for the clearing of the current output cell\n",
       "var outputEl = gd.closest('.output');\n",
       "if (outputEl) {{\n",
       "    x.observe(outputEl, {childList: true});\n",
       "}}\n",
       "\n",
       "                        })                };                });            </script>        </div>"
      ]
     },
     "metadata": {},
     "output_type": "display_data"
    }
   ],
   "source": [
    "import plotly.express as px\n",
    "fig = px.scatter(reports[\"ET_REPORT_2020\"],y = reports[\"ET_REPORT_2020\"][\"2020 MARKET CAP(₹ Cr)\"], x = reports[\"ET_REPORT_2020\"][\"2020 COMPANY TYPE\"],\n",
    "hover_name = reports[\"ET_REPORT_2020\"][\"COMPANY NAME\"],labels = reports[\"ET_REPORT_2020\"][\"COMPANY NAME\"],color =reports[\"ET_REPORT_2020\"][\"2020 COMPANY TYPE\"] ,size = reports[\"ET_REPORT_2020\"][\"2020 MARKET CAP(₹ Cr)\"], size_max = 100)\n",
    "fig.show()"
   ]
  },
  {
   "cell_type": "code",
   "execution_count": null,
   "metadata": {},
   "outputs": [
    {
     "data": {
      "application/vnd.plotly.v1+json": {
       "config": {
        "plotlyServerURL": "https://plot.ly"
       },
       "data": [
        {
         "branchvalues": "total",
         "customdata": [
          [
           null
          ],
          [
           "Large-Cap"
          ],
          [
           null
          ],
          [
           "Mid-Cap"
          ],
          [
           null
          ],
          [
           null
          ],
          [
           null
          ],
          [
           null
          ],
          [
           "Mid-Cap"
          ],
          [
           null
          ],
          [
           null
          ],
          [
           null
          ],
          [
           "Large-Cap"
          ],
          [
           null
          ],
          [
           "Large-Cap"
          ],
          [
           "Mid-Cap"
          ],
          [
           null
          ],
          [
           "Mid-Cap"
          ],
          [
           null
          ],
          [
           "Mid-Cap"
          ],
          [
           null
          ],
          [
           null
          ],
          [
           null
          ],
          [
           null
          ],
          [
           null
          ],
          [
           null
          ],
          [
           null
          ],
          [
           "Large-Cap"
          ],
          [
           null
          ],
          [
           "Mid-Cap"
          ],
          [
           null
          ],
          [
           null
          ],
          [
           "Large-Cap"
          ],
          [
           null
          ],
          [
           null
          ],
          [
           "Mid-Cap"
          ],
          [
           null
          ],
          [
           null
          ],
          [
           null
          ],
          [
           "Large-Cap"
          ],
          [
           "Mid-Cap"
          ],
          [
           null
          ],
          [
           null
          ],
          [
           "Large-Cap"
          ],
          [
           "Small-Cap"
          ],
          [
           null
          ],
          [
           null
          ],
          [
           null
          ],
          [
           null
          ],
          [
           null
          ],
          [
           null
          ],
          [
           null
          ],
          [
           "Large-Cap"
          ],
          [
           null
          ],
          [
           "Large-Cap"
          ],
          [
           null
          ],
          [
           null
          ],
          [
           null
          ],
          [
           null
          ],
          [
           null
          ],
          [
           null
          ],
          [
           null
          ],
          [
           null
          ],
          [
           null
          ],
          [
           null
          ],
          [
           null
          ],
          [
           null
          ],
          [
           null
          ],
          [
           "Mid-Cap"
          ],
          [
           null
          ],
          [
           "Small-Cap"
          ],
          [
           "Small-Cap"
          ],
          [
           null
          ],
          [
           null
          ],
          [
           null
          ],
          [
           null
          ],
          [
           "Large-Cap"
          ],
          [
           null
          ],
          [
           "Large-Cap"
          ],
          [
           null
          ],
          [
           null
          ],
          [
           "Large-Cap"
          ],
          [
           null
          ],
          [
           "Mid-Cap"
          ],
          [
           "Mid-Cap"
          ],
          [
           null
          ],
          [
           "Mid-Cap"
          ],
          [
           "Mid-Cap"
          ],
          [
           "Mid-Cap"
          ],
          [
           null
          ],
          [
           null
          ],
          [
           null
          ],
          [
           null
          ],
          [
           "Large-Cap"
          ],
          [
           null
          ],
          [
           null
          ],
          [
           "Small-Cap"
          ],
          [
           null
          ],
          [
           null
          ],
          [
           "Mid-Cap"
          ],
          [
           "Large-Cap"
          ],
          [
           "Large-Cap"
          ],
          [
           null
          ],
          [
           null
          ],
          [
           "Large-Cap"
          ],
          [
           null
          ],
          [
           null
          ],
          [
           "Large-Cap"
          ],
          [
           "Mid-Cap"
          ],
          [
           null
          ],
          [
           null
          ],
          [
           "Mid-Cap"
          ],
          [
           null
          ],
          [
           null
          ],
          [
           "Mid-Cap"
          ],
          [
           null
          ],
          [
           null
          ],
          [
           null
          ],
          [
           "Large-Cap"
          ],
          [
           null
          ],
          [
           "Mid-Cap"
          ],
          [
           null
          ],
          [
           null
          ],
          [
           "Mid-Cap"
          ],
          [
           null
          ],
          [
           null
          ],
          [
           null
          ],
          [
           null
          ],
          [
           null
          ],
          [
           null
          ],
          [
           null
          ],
          [
           null
          ],
          [
           null
          ],
          [
           "Large-Cap"
          ],
          [
           null
          ],
          [
           null
          ],
          [
           "Large-Cap"
          ],
          [
           null
          ],
          [
           null
          ],
          [
           "Large-Cap"
          ],
          [
           null
          ],
          [
           "Mid-Cap"
          ],
          [
           null
          ],
          [
           null
          ],
          [
           null
          ],
          [
           "Large-Cap"
          ],
          [
           null
          ],
          [
           null
          ],
          [
           "Large-Cap"
          ],
          [
           null
          ],
          [
           null
          ],
          [
           "Large-Cap"
          ],
          [
           null
          ],
          [
           null
          ],
          [
           "Large-Cap"
          ],
          [
           null
          ],
          [
           null
          ],
          [
           "Large-Cap"
          ],
          [
           null
          ],
          [
           "Large-Cap"
          ],
          [
           null
          ],
          [
           null
          ],
          [
           null
          ],
          [
           null
          ],
          [
           null
          ],
          [
           null
          ],
          [
           null
          ],
          [
           "Large-Cap"
          ],
          [
           "Large-Cap"
          ],
          [
           null
          ],
          [
           null
          ],
          [
           null
          ],
          [
           "Small-Cap"
          ],
          [
           null
          ],
          [
           "Large-Cap"
          ],
          [
           null
          ],
          [
           null
          ],
          [
           null
          ],
          [
           "Small-Cap"
          ],
          [
           "Mid-Cap"
          ],
          [
           null
          ],
          [
           "Mid-Cap"
          ],
          [
           "Small-Cap"
          ],
          [
           "Large-Cap"
          ],
          [
           null
          ],
          [
           null
          ],
          [
           "Small-Cap"
          ],
          [
           null
          ],
          [
           null
          ],
          [
           "Large-Cap"
          ],
          [
           null
          ],
          [
           "Small-Cap"
          ],
          [
           "Mid-Cap"
          ],
          [
           null
          ],
          [
           "Large-Cap"
          ],
          [
           "Small-Cap"
          ],
          [
           "Mid-Cap"
          ],
          [
           null
          ],
          [
           null
          ],
          [
           "Large-Cap"
          ],
          [
           null
          ],
          [
           null
          ],
          [
           null
          ],
          [
           null
          ],
          [
           null
          ],
          [
           null
          ],
          [
           "Mid-Cap"
          ],
          [
           "Large-Cap"
          ],
          [
           "Mid-Cap"
          ],
          [
           null
          ],
          [
           null
          ],
          [
           null
          ],
          [
           null
          ],
          [
           null
          ],
          [
           null
          ],
          [
           null
          ],
          [
           "Large-Cap"
          ],
          [
           "Small-Cap"
          ],
          [
           null
          ],
          [
           null
          ],
          [
           null
          ],
          [
           "Large-Cap"
          ],
          [
           null
          ],
          [
           null
          ],
          [
           null
          ],
          [
           "Small-Cap"
          ],
          [
           null
          ],
          [
           null
          ],
          [
           "Large-Cap"
          ],
          [
           null
          ],
          [
           null
          ],
          [
           "Large-Cap"
          ],
          [
           "Large-Cap"
          ],
          [
           "Small-Cap"
          ],
          [
           "Large-Cap"
          ],
          [
           null
          ],
          [
           null
          ],
          [
           null
          ],
          [
           null
          ],
          [
           null
          ],
          [
           "Large-Cap"
          ],
          [
           "Small-Cap"
          ],
          [
           null
          ],
          [
           null
          ],
          [
           "Mid-Cap"
          ],
          [
           null
          ],
          [
           null
          ],
          [
           null
          ],
          [
           "Large-Cap"
          ],
          [
           null
          ],
          [
           null
          ],
          [
           null
          ],
          [
           null
          ],
          [
           "Large-Cap"
          ],
          [
           "Mid-Cap"
          ],
          [
           null
          ],
          [
           null
          ],
          [
           null
          ],
          [
           null
          ],
          [
           null
          ],
          [
           null
          ],
          [
           null
          ],
          [
           null
          ],
          [
           null
          ],
          [
           "Mid-Cap"
          ],
          [
           null
          ],
          [
           "Large-Cap"
          ],
          [
           "Mid-Cap"
          ],
          [
           "Mid-Cap"
          ],
          [
           "Large-Cap"
          ],
          [
           null
          ],
          [
           "Mid-Cap"
          ],
          [
           null
          ],
          [
           "Large-Cap"
          ],
          [
           null
          ],
          [
           "Large-Cap"
          ],
          [
           null
          ],
          [
           "Large-Cap"
          ],
          [
           "Large-Cap"
          ],
          [
           null
          ],
          [
           "Mid-Cap"
          ],
          [
           null
          ],
          [
           null
          ],
          [
           null
          ],
          [
           "Large-Cap"
          ],
          [
           "Large-Cap"
          ],
          [
           null
          ],
          [
           null
          ],
          [
           "Mid-Cap"
          ],
          [
           null
          ],
          [
           "Mid-Cap"
          ],
          [
           null
          ],
          [
           null
          ],
          [
           null
          ],
          [
           null
          ],
          [
           null
          ],
          [
           null
          ],
          [
           null
          ],
          [
           "Large-Cap"
          ],
          [
           null
          ],
          [
           null
          ],
          [
           null
          ],
          [
           null
          ],
          [
           "Mid-Cap"
          ],
          [
           null
          ],
          [
           null
          ],
          [
           "Mid-Cap"
          ],
          [
           null
          ],
          [
           null
          ],
          [
           null
          ],
          [
           "Mid-Cap"
          ],
          [
           null
          ],
          [
           null
          ],
          [
           "Mid-Cap"
          ],
          [
           null
          ],
          [
           "Small-Cap"
          ],
          [
           null
          ],
          [
           null
          ],
          [
           null
          ],
          [
           "Mid-Cap"
          ],
          [
           null
          ],
          [
           null
          ],
          [
           null
          ],
          [
           null
          ],
          [
           null
          ],
          [
           "Mid-Cap"
          ],
          [
           "Large-Cap"
          ],
          [
           null
          ],
          [
           null
          ],
          [
           null
          ],
          [
           null
          ],
          [
           "Large-Cap"
          ],
          [
           null
          ],
          [
           null
          ],
          [
           null
          ],
          [
           null
          ],
          [
           "Large-Cap"
          ],
          [
           null
          ],
          [
           null
          ],
          [
           null
          ],
          [
           null
          ],
          [
           "Small-Cap"
          ],
          [
           "Large-Cap"
          ],
          [
           null
          ],
          [
           null
          ],
          [
           "Large-Cap"
          ],
          [
           null
          ],
          [
           "Small-Cap"
          ],
          [
           "Large-Cap"
          ],
          [
           null
          ],
          [
           "Small-Cap"
          ],
          [
           null
          ],
          [
           null
          ],
          [
           null
          ],
          [
           "Small-Cap"
          ],
          [
           null
          ],
          [
           null
          ],
          [
           "Large-Cap"
          ],
          [
           null
          ],
          [
           null
          ],
          [
           null
          ],
          [
           null
          ],
          [
           "Small-Cap"
          ],
          [
           null
          ],
          [
           null
          ],
          [
           "Large-Cap"
          ],
          [
           "Large-Cap"
          ],
          [
           null
          ],
          [
           "Large-Cap"
          ],
          [
           null
          ],
          [
           "Large-Cap"
          ],
          [
           null
          ],
          [
           null
          ],
          [
           "Large-Cap"
          ],
          [
           null
          ],
          [
           "Mid-Cap"
          ],
          [
           null
          ],
          [
           "Large-Cap"
          ],
          [
           null
          ],
          [
           null
          ],
          [
           null
          ],
          [
           null
          ],
          [
           null
          ],
          [
           null
          ],
          [
           "Mid-Cap"
          ],
          [
           null
          ],
          [
           null
          ],
          [
           null
          ],
          [
           null
          ],
          [
           null
          ],
          [
           "Mid-Cap"
          ],
          [
           null
          ],
          [
           null
          ],
          [
           "Mid-Cap"
          ],
          [
           null
          ],
          [
           "Large-Cap"
          ],
          [
           null
          ],
          [
           null
          ],
          [
           null
          ],
          [
           null
          ],
          [
           "Mid-Cap"
          ],
          [
           null
          ],
          [
           null
          ],
          [
           "Mid-Cap"
          ],
          [
           null
          ],
          [
           null
          ],
          [
           null
          ],
          [
           "Large-Cap"
          ],
          [
           null
          ],
          [
           null
          ],
          [
           "Large-Cap"
          ],
          [
           "Small-Cap"
          ],
          [
           null
          ],
          [
           null
          ],
          [
           null
          ],
          [
           "Mid-Cap"
          ],
          [
           null
          ],
          [
           null
          ],
          [
           null
          ],
          [
           "Large-Cap"
          ],
          [
           "Small-Cap"
          ],
          [
           null
          ],
          [
           null
          ],
          [
           null
          ],
          [
           "Mid-Cap"
          ],
          [
           null
          ],
          [
           "Small-Cap"
          ],
          [
           null
          ],
          [
           null
          ],
          [
           null
          ],
          [
           null
          ],
          [
           "Large-Cap"
          ],
          [
           null
          ],
          [
           "Mid-Cap"
          ],
          [
           null
          ],
          [
           "Small-Cap"
          ],
          [
           null
          ],
          [
           null
          ],
          [
           null
          ],
          [
           "Mid-Cap"
          ],
          [
           null
          ],
          [
           null
          ],
          [
           null
          ],
          [
           "Large-Cap"
          ],
          [
           null
          ],
          [
           null
          ],
          [
           "Large-Cap"
          ],
          [
           null
          ],
          [
           null
          ],
          [
           "Large-Cap"
          ],
          [
           null
          ],
          [
           "Mid-Cap"
          ],
          [
           null
          ],
          [
           null
          ],
          [
           null
          ],
          [
           "Large-Cap"
          ],
          [
           null
          ],
          [
           null
          ],
          [
           "Large-Cap"
          ],
          [
           "Small-Cap"
          ],
          [
           null
          ],
          [
           null
          ],
          [
           null
          ],
          [
           null
          ],
          [
           "Large-Cap"
          ],
          [
           "Small-Cap"
          ],
          [
           null
          ],
          [
           null
          ],
          [
           null
          ],
          [
           null
          ],
          [
           "Large-Cap"
          ],
          [
           null
          ],
          [
           "Mid-Cap"
          ],
          [
           null
          ],
          [
           null
          ],
          [
           null
          ],
          [
           "Large-Cap"
          ],
          [
           "Small-Cap"
          ],
          [
           null
          ],
          [
           null
          ],
          [
           null
          ],
          [
           null
          ],
          [
           "Large-Cap"
          ],
          [
           null
          ],
          [
           null
          ],
          [
           "Large-Cap"
          ],
          [
           null
          ],
          [
           null
          ],
          [
           "Large-Cap"
          ],
          [
           null
          ],
          [
           null
          ],
          [
           "Large-Cap"
          ],
          [
           null
          ],
          [
           null
          ],
          [
           "Large-Cap"
          ],
          [
           null
          ],
          [
           "Mid-Cap"
          ],
          [
           null
          ],
          [
           "Small-Cap"
          ],
          [
           null
          ],
          [
           null
          ],
          [
           null
          ],
          [
           null
          ],
          [
           "Large-Cap"
          ],
          [
           null
          ],
          [
           null
          ],
          [
           "Large-Cap"
          ],
          [
           null
          ],
          [
           null
          ],
          [
           "Large-Cap"
          ],
          [
           null
          ],
          [
           null
          ],
          [
           "Large-Cap"
          ],
          [
           null
          ],
          [
           null
          ],
          [
           "Large-Cap"
          ],
          [
           null
          ],
          [
           "Mid-Cap"
          ],
          [
           null
          ],
          [
           "Small-Cap"
          ],
          [
           null
          ],
          [
           null
          ],
          [
           null
          ],
          [
           "Mid-Cap"
          ],
          [
           null
          ],
          [
           null
          ],
          [
           "Mid-Cap"
          ],
          [
           null
          ],
          [
           "Small-Cap"
          ],
          [
           null
          ],
          [
           null
          ],
          [
           null
          ],
          [
           null
          ],
          [
           "Large-Cap"
          ],
          [
           "Small-Cap"
          ],
          [
           null
          ],
          [
           null
          ],
          [
           null
          ],
          [
           "Mid-Cap"
          ],
          [
           null
          ],
          [
           "Small-Cap"
          ],
          [
           null
          ],
          [
           null
          ],
          [
           null
          ],
          [
           "Mid-Cap"
          ],
          [
           null
          ],
          [
           null
          ],
          [
           null
          ],
          [
           "Large-Cap"
          ],
          [
           null
          ],
          [
           null
          ],
          [
           "Large-Cap"
          ],
          [
           null
          ],
          [
           null
          ],
          [
           "Large-Cap"
          ],
          [
           null
          ],
          [
           null
          ],
          [
           "Large-Cap"
          ],
          [
           null
          ],
          [
           null
          ],
          [
           "Large-Cap"
          ],
          [
           null
          ],
          [
           null
          ],
          [
           "Large-Cap"
          ],
          [
           null
          ],
          [
           null
          ],
          [
           "Large-Cap"
          ],
          [
           null
          ],
          [
           null
          ],
          [
           "Large-Cap"
          ],
          [
           null
          ],
          [
           null
          ],
          [
           "Large-Cap"
          ],
          [
           "Small-Cap"
          ],
          [
           null
          ],
          [
           null
          ],
          [
           null
          ],
          [
           null
          ],
          [
           "Large-Cap"
          ],
          [
           null
          ],
          [
           "Mid-Cap"
          ],
          [
           null
          ],
          [
           "Small-Cap"
          ],
          [
           null
          ],
          [
           null
          ],
          [
           "Small-Cap"
          ],
          [
           null
          ],
          [
           null
          ],
          [
           null
          ],
          [
           "Mid-Cap"
          ],
          [
           null
          ],
          [
           "Small-Cap"
          ],
          [
           null
          ],
          [
           null
          ],
          [
           null
          ],
          [
           null
          ],
          [
           "Large-Cap"
          ],
          [
           null
          ],
          [
           null
          ],
          [
           "Large-Cap"
          ],
          [
           "Small-Cap"
          ],
          [
           null
          ],
          [
           null
          ],
          [
           "Small-Cap"
          ],
          [
           null
          ],
          [
           null
          ],
          [
           "Small-Cap"
          ],
          [
           null
          ],
          [
           null
          ],
          [
           "Small-Cap"
          ],
          [
           null
          ],
          [
           null
          ],
          [
           "Small-Cap"
          ],
          [
           null
          ],
          [
           null
          ],
          [
           "Small-Cap"
          ],
          [
           null
          ],
          [
           null
          ],
          [
           "Small-Cap"
          ],
          [
           null
          ],
          [
           null
          ],
          [
           "Small-Cap"
          ],
          [
           null
          ],
          [
           null
          ],
          [
           null
          ],
          [
           "Mid-Cap"
          ],
          [
           null
          ],
          [
           null
          ],
          [
           "Mid-Cap"
          ],
          [
           null
          ],
          [
           null
          ],
          [
           null
          ],
          [
           "Large-Cap"
          ],
          [
           null
          ],
          [
           null
          ],
          [
           "Large-Cap"
          ],
          [
           null
          ],
          [
           "Mid-Cap"
          ],
          [
           null
          ],
          [
           null
          ],
          [
           "Mid-Cap"
          ],
          [
           null
          ],
          [
           null
          ],
          [
           "Mid-Cap"
          ],
          [
           null
          ],
          [
           null
          ],
          [
           "Mid-Cap"
          ],
          [
           null
          ],
          [
           null
          ],
          [
           "Mid-Cap"
          ],
          [
           null
          ],
          [
           null
          ],
          [
           "Mid-Cap"
          ],
          [
           null
          ],
          [
           null
          ],
          [
           "Mid-Cap"
          ],
          [
           null
          ],
          [
           null
          ],
          [
           "Mid-Cap"
          ],
          [
           null
          ],
          [
           null
          ],
          [
           "Mid-Cap"
          ],
          [
           null
          ],
          [
           null
          ],
          [
           null
          ],
          [
           "Large-Cap"
          ],
          [
           "Small-Cap"
          ],
          [
           null
          ],
          [
           null
          ],
          [
           "Small-Cap"
          ],
          [
           null
          ],
          [
           null
          ],
          [
           "Small-Cap"
          ],
          [
           null
          ],
          [
           null
          ],
          [
           "Small-Cap"
          ],
          [
           null
          ],
          [
           null
          ],
          [
           "Small-Cap"
          ],
          [
           null
          ],
          [
           null
          ],
          [
           null
          ],
          [
           null
          ],
          [
           "Large-Cap"
          ],
          [
           "Small-Cap"
          ],
          [
           null
          ],
          [
           null
          ],
          [
           null
          ],
          [
           null
          ],
          [
           "Large-Cap"
          ],
          [
           null
          ],
          [
           null
          ],
          [
           "Large-Cap"
          ],
          [
           null
          ],
          [
           null
          ],
          [
           "Large-Cap"
          ],
          [
           "Small-Cap"
          ],
          [
           null
          ],
          [
           null
          ],
          [
           null
          ],
          [
           null
          ],
          [
           "Large-Cap"
          ],
          [
           null
          ],
          [
           null
          ],
          [
           "Large-Cap"
          ],
          [
           null
          ],
          [
           null
          ],
          [
           "Large-Cap"
          ],
          [
           null
          ],
          [
           null
          ],
          [
           "Large-Cap"
          ],
          [
           null
          ],
          [
           "Mid-Cap"
          ],
          [
           null
          ],
          [
           null
          ],
          [
           null
          ],
          [
           "Large-Cap"
          ],
          [
           null
          ],
          [
           "Mid-Cap"
          ],
          [
           null
          ],
          [
           "Small-Cap"
          ],
          [
           null
          ],
          [
           null
          ],
          [
           null
          ],
          [
           null
          ],
          [
           "Large-Cap"
          ],
          [
           null
          ],
          [
           null
          ],
          [
           "Large-Cap"
          ],
          [
           null
          ],
          [
           "Mid-Cap"
          ],
          [
           null
          ],
          [
           null
          ],
          [
           "Mid-Cap"
          ],
          [
           null
          ],
          [
           null
          ],
          [
           "Mid-Cap"
          ],
          [
           null
          ],
          [
           "Small-Cap"
          ],
          [
           null
          ],
          [
           null
          ],
          [
           null
          ],
          [
           "Mid-Cap"
          ],
          [
           null
          ],
          [
           null
          ],
          [
           null
          ],
          [
           "Large-Cap"
          ],
          [
           null
          ],
          [
           null
          ],
          [
           "Large-Cap"
          ],
          [
           null
          ],
          [
           null
          ],
          [
           "Large-Cap"
          ],
          [
           null
          ],
          [
           null
          ],
          [
           "Large-Cap"
          ],
          [
           "Small-Cap"
          ],
          [
           null
          ],
          [
           null
          ],
          [
           null
          ],
          [
           null
          ],
          [
           "Large-Cap"
          ],
          [
           null
          ],
          [
           null
          ],
          [
           "Large-Cap"
          ],
          [
           null
          ],
          [
           "Mid-Cap"
          ],
          [
           null
          ],
          [
           null
          ],
          [
           null
          ],
          [
           "Large-Cap"
          ],
          [
           "Small-Cap"
          ],
          [
           null
          ],
          [
           null
          ],
          [
           null
          ],
          [
           null
          ],
          [
           "Large-Cap"
          ],
          [
           null
          ],
          [
           "Mid-Cap"
          ],
          [
           null
          ],
          [
           "Small-Cap"
          ],
          [
           null
          ],
          [
           null
          ],
          [
           null
          ],
          [
           null
          ],
          [
           "Large-Cap"
          ],
          [
           null
          ],
          [
           "Mid-Cap"
          ],
          [
           null
          ],
          [
           null
          ],
          [
           null
          ],
          [
           "Large-Cap"
          ],
          [
           null
          ],
          [
           null
          ],
          [
           "Large-Cap"
          ],
          [
           null
          ],
          [
           "Mid-Cap"
          ],
          [
           null
          ],
          [
           null
          ],
          [
           "Mid-Cap"
          ],
          [
           null
          ],
          [
           "Small-Cap"
          ],
          [
           null
          ],
          [
           null
          ],
          [
           "Small-Cap"
          ],
          [
           null
          ],
          [
           null
          ],
          [
           null
          ],
          [
           null
          ],
          [
           "Large-Cap"
          ],
          [
           "Small-Cap"
          ],
          [
           null
          ],
          [
           null
          ],
          [
           null
          ],
          [
           null
          ],
          [
           "Large-Cap"
          ],
          [
           null
          ],
          [
           null
          ],
          [
           "Large-Cap"
          ],
          [
           null
          ],
          [
           null
          ],
          [
           "Large-Cap"
          ],
          [
           "Small-Cap"
          ],
          [
           null
          ],
          [
           null
          ],
          [
           "Small-Cap"
          ],
          [
           null
          ],
          [
           null
          ],
          [
           "Small-Cap"
          ],
          [
           null
          ],
          [
           null
          ],
          [
           null
          ],
          [
           null
          ],
          [
           "Large-Cap"
          ],
          [
           null
          ],
          [
           "Mid-Cap"
          ],
          [
           null
          ],
          [
           null
          ],
          [
           "Mid-Cap"
          ],
          [
           null
          ],
          [
           "Small-Cap"
          ],
          [
           null
          ],
          [
           null
          ],
          [
           null
          ],
          [
           null
          ],
          [
           "Large-Cap"
          ],
          [
           "Small-Cap"
          ],
          [
           null
          ],
          [
           null
          ],
          [
           "Small-Cap"
          ],
          [
           null
          ],
          [
           null
          ],
          [
           null
          ],
          [
           null
          ],
          [
           "Large-Cap"
          ],
          [
           null
          ],
          [
           null
          ],
          [
           "Large-Cap"
          ],
          [
           null
          ],
          [
           null
          ],
          [
           "Large-Cap"
          ],
          [
           "Small-Cap"
          ],
          [
           null
          ],
          [
           null
          ],
          [
           null
          ],
          [
           null
          ],
          [
           "Large-Cap"
          ],
          [
           null
          ],
          [
           null
          ],
          [
           "Large-Cap"
          ],
          [
           null
          ],
          [
           "Mid-Cap"
          ],
          [
           null
          ],
          [
           null
          ],
          [
           "Mid-Cap"
          ],
          [
           null
          ],
          [
           null
          ],
          [
           null
          ],
          [
           "Large-Cap"
          ],
          [
           null
          ],
          [
           null
          ],
          [
           "Large-Cap"
          ],
          [
           "Small-Cap"
          ],
          [
           null
          ],
          [
           null
          ],
          [
           null
          ],
          [
           "Mid-Cap"
          ],
          [
           null
          ],
          [
           "Small-Cap"
          ],
          [
           null
          ],
          [
           null
          ],
          [
           null
          ],
          [
           "Mid-Cap"
          ],
          [
           null
          ],
          [
           null
          ],
          [
           null
          ],
          [
           "Large-Cap"
          ],
          [
           null
          ],
          [
           "Mid-Cap"
          ],
          [
           null
          ],
          [
           null
          ],
          [
           null
          ],
          [
           "Large-Cap"
          ],
          [
           null
          ],
          [
           "Mid-Cap"
          ],
          [
           null
          ],
          [
           null
          ],
          [
           "Mid-Cap"
          ],
          [
           null
          ],
          [
           null
          ],
          [
           null
          ],
          [
           "Large-Cap"
          ],
          [
           "Small-Cap"
          ],
          [
           null
          ],
          [
           null
          ],
          [
           null
          ],
          [
           "Mid-Cap"
          ],
          [
           null
          ],
          [
           null
          ],
          [
           null
          ],
          [
           "Large-Cap"
          ],
          [
           "Small-Cap"
          ],
          [
           null
          ],
          [
           null
          ],
          [
           "Small-Cap"
          ],
          [
           null
          ],
          [
           null
          ],
          [
           "Small-Cap"
          ],
          [
           null
          ],
          [
           null
          ],
          [
           null
          ],
          [
           "Mid-Cap"
          ],
          [
           null
          ],
          [
           "Small-Cap"
          ],
          [
           null
          ],
          [
           null
          ],
          [
           null
          ],
          [
           null
          ],
          [
           "Large-Cap"
          ],
          [
           "Small-Cap"
          ],
          [
           null
          ],
          [
           null
          ],
          [
           "Small-Cap"
          ],
          [
           null
          ],
          [
           null
          ],
          [
           null
          ],
          [
           "Mid-Cap"
          ],
          [
           null
          ],
          [
           null
          ],
          [
           null
          ],
          [
           "Large-Cap"
          ],
          [
           null
          ],
          [
           "Mid-Cap"
          ],
          [
           null
          ],
          [
           null
          ],
          [
           "Mid-Cap"
          ],
          [
           null
          ],
          [
           null
          ],
          [
           "Mid-Cap"
          ],
          [
           null
          ],
          [
           "Small-Cap"
          ],
          [
           null
          ],
          [
           null
          ],
          [
           null
          ],
          [
           null
          ],
          [
           "Large-Cap"
          ],
          [
           "Small-Cap"
          ],
          [
           null
          ],
          [
           null
          ],
          [
           null
          ],
          [
           "Mid-Cap"
          ],
          [
           null
          ],
          [
           "Small-Cap"
          ],
          [
           null
          ],
          [
           null
          ],
          [
           null
          ],
          [
           "Mid-Cap"
          ],
          [
           null
          ],
          [
           null
          ],
          [
           null
          ],
          [
           "Large-Cap"
          ],
          [
           null
          ],
          [
           "Mid-Cap"
          ],
          [
           null
          ],
          [
           null
          ],
          [
           "Mid-Cap"
          ],
          [
           null
          ],
          [
           null
          ],
          [
           null
          ],
          [
           "Large-Cap"
          ],
          [
           null
          ],
          [
           null
          ],
          [
           "Large-Cap"
          ],
          [
           "Small-Cap"
          ],
          [
           null
          ],
          [
           null
          ],
          [
           null
          ],
          [
           "Mid-Cap"
          ],
          [
           null
          ],
          [
           null
          ],
          [
           "Mid-Cap"
          ],
          [
           null
          ],
          [
           "Small-Cap"
          ],
          [
           null
          ],
          [
           null
          ],
          [
           "Small-Cap"
          ],
          [
           null
          ],
          [
           null
          ],
          [
           null
          ],
          [
           null
          ],
          [
           "Large-Cap"
          ],
          [
           null
          ],
          [
           null
          ],
          [
           "Large-Cap"
          ],
          [
           null
          ],
          [
           "Mid-Cap"
          ],
          [
           null
          ],
          [
           "Small-Cap"
          ],
          [
           null
          ],
          [
           null
          ],
          [
           null
          ],
          [
           null
          ],
          [
           "Large-Cap"
          ],
          [
           null
          ],
          [
           null
          ],
          [
           "Large-Cap"
          ],
          [
           null
          ],
          [
           "Mid-Cap"
          ],
          [
           null
          ],
          [
           null
          ],
          [
           null
          ],
          [
           "Large-Cap"
          ],
          [
           null
          ],
          [
           "Mid-Cap"
          ],
          [
           null
          ],
          [
           null
          ],
          [
           null
          ],
          [
           "Large-Cap"
          ],
          [
           null
          ],
          [
           "Mid-Cap"
          ],
          [
           null
          ],
          [
           "Small-Cap"
          ],
          [
           null
          ],
          [
           null
          ],
          [
           null
          ],
          [
           "Mid-Cap"
          ],
          [
           null
          ],
          [
           null
          ],
          [
           null
          ],
          [
           "Large-Cap"
          ],
          [
           "Small-Cap"
          ],
          [
           null
          ],
          [
           null
          ],
          [
           null
          ],
          [
           null
          ],
          [
           "Large-Cap"
          ],
          [
           null
          ],
          [
           null
          ],
          [
           "Large-Cap"
          ],
          [
           null
          ],
          [
           null
          ],
          [
           "Large-Cap"
          ],
          [
           null
          ],
          [
           null
          ],
          [
           "Large-Cap"
          ],
          [
           null
          ],
          [
           null
          ],
          [
           "Large-Cap"
          ],
          [
           null
          ],
          [
           null
          ],
          [
           "Large-Cap"
          ],
          [
           null
          ],
          [
           "Mid-Cap"
          ],
          [
           null
          ],
          [
           null
          ],
          [
           null
          ],
          [
           "Large-Cap"
          ],
          [
           null
          ],
          [
           "Mid-Cap"
          ],
          [
           null
          ],
          [
           null
          ],
          [
           null
          ],
          [
           "Large-Cap"
          ],
          [
           null
          ],
          [
           "Mid-Cap"
          ],
          [
           null
          ],
          [
           null
          ],
          [
           null
          ],
          [
           "Large-Cap"
          ],
          [
           null
          ],
          [
           null
          ],
          [
           "Large-Cap"
          ],
          [
           null
          ],
          [
           "Mid-Cap"
          ],
          [
           null
          ],
          [
           "Small-Cap"
          ],
          [
           null
          ],
          [
           null
          ],
          [
           null
          ],
          [
           null
          ],
          [
           "Large-Cap"
          ],
          [
           null
          ],
          [
           null
          ],
          [
           "Large-Cap"
          ],
          [
           null
          ],
          [
           null
          ],
          [
           "Large-Cap"
          ],
          [
           null
          ],
          [
           "Mid-Cap"
          ],
          [
           null
          ],
          [
           null
          ],
          [
           null
          ],
          [
           "Large-Cap"
          ],
          [
           null
          ],
          [
           null
          ],
          [
           "Large-Cap"
          ],
          [
           "Small-Cap"
          ],
          [
           null
          ],
          [
           null
          ],
          [
           null
          ],
          [
           null
          ],
          [
           "Large-Cap"
          ],
          [
           null
          ],
          [
           "Mid-Cap"
          ],
          [
           null
          ],
          [
           null
          ],
          [
           null
          ],
          [
           "Large-Cap"
          ],
          [
           "Small-Cap"
          ],
          [
           null
          ],
          [
           null
          ],
          [
           null
          ],
          [
           null
          ],
          [
           "Large-Cap"
          ],
          [
           null
          ],
          [
           null
          ],
          [
           "Large-Cap"
          ],
          [
           null
          ],
          [
           null
          ],
          [
           "Large-Cap"
          ],
          [
           null
          ],
          [
           null
          ],
          [
           "Large-Cap"
          ],
          [
           "Small-Cap"
          ],
          [
           null
          ],
          [
           null
          ],
          [
           null
          ],
          [
           "Mid-Cap"
          ],
          [
           null
          ],
          [
           "Small-Cap"
          ],
          [
           null
          ],
          [
           null
          ],
          [
           null
          ],
          [
           "Mid-Cap"
          ],
          [
           null
          ],
          [
           null
          ],
          [
           null
          ],
          [
           "Large-Cap"
          ],
          [
           null
          ],
          [
           null
          ],
          [
           "Large-Cap"
          ],
          [
           "Small-Cap"
          ],
          [
           null
          ],
          [
           null
          ],
          [
           null
          ],
          [
           null
          ],
          [
           "Large-Cap"
          ],
          [
           null
          ],
          [
           null
          ],
          [
           "Large-Cap"
          ],
          [
           "Small-Cap"
          ],
          [
           null
          ],
          [
           null
          ],
          [
           null
          ],
          [
           "Mid-Cap"
          ],
          [
           null
          ],
          [
           "Small-Cap"
          ],
          [
           null
          ],
          [
           null
          ],
          [
           null
          ],
          [
           null
          ],
          [
           "Large-Cap"
          ],
          [
           null
          ],
          [
           null
          ],
          [
           "Large-Cap"
          ],
          [
           "Small-Cap"
          ],
          [
           null
          ],
          [
           null
          ],
          [
           null
          ],
          [
           null
          ],
          [
           "Large-Cap"
          ],
          [
           null
          ],
          [
           null
          ],
          [
           "Large-Cap"
          ],
          [
           null
          ],
          [
           "Mid-Cap"
          ],
          [
           null
          ],
          [
           "Small-Cap"
          ],
          [
           null
          ],
          [
           null
          ],
          [
           "Small-Cap"
          ],
          [
           "Mid-Cap"
          ],
          [
           "Large-Cap"
          ],
          [
           "(?)"
          ]
         ],
         "domain": {
          "x": [
           0,
           1
          ],
          "y": [
           0,
           1
          ]
         },
         "hovertemplate": "<b>%{hovertext}</b><br><br>labels=%{label}<br>2021 MARKET CAP(₹ Cr)=%{value}<br>parent=%{parent}<br>id=%{id}<br>2021 COMPANY TYPE=%{customdata[0]}<extra></extra>",
         "hovertext": [
          null,
          129.85710359989008,
          null,
          84.41018766756032,
          null,
          null,
          null,
          null,
          35.831548893647394,
          null,
          null,
          null,
          67.61055657091084,
          null,
          -15.021723173368779,
          105.80029368575623,
          null,
          73.76158517098115,
          null,
          45.353159851301115,
          null,
          null,
          null,
          null,
          null,
          null,
          null,
          -18.12187687905617,
          null,
          11.298932384341636,
          null,
          null,
          107.2003427479155,
          null,
          null,
          95.8070956842267,
          null,
          null,
          null,
          18.42668100145254,
          106.03960396039605,
          null,
          null,
          141.32330620749974,
          226.26641651031895,
          null,
          null,
          null,
          null,
          null,
          null,
          null,
          1.8442256042972247,
          null,
          52.19136128419052,
          null,
          null,
          null,
          null,
          null,
          null,
          null,
          null,
          null,
          null,
          null,
          null,
          null,
          89.68786127167631,
          null,
          -33.02752293577982,
          34.645669291338585,
          null,
          null,
          null,
          null,
          3.3586758907279295,
          null,
          860.4204753199269,
          null,
          null,
          11.985965871551272,
          null,
          14.590686063527588,
          175.39381563593932,
          null,
          237.74429008712033,
          159.1123439667129,
          104.16723041537004,
          null,
          null,
          null,
          null,
          88.13540218657249,
          null,
          null,
          5.152120808349989,
          null,
          null,
          3888.345864661654,
          39.05350900779779,
          455.1440439501541,
          null,
          null,
          38.26025842028437,
          null,
          null,
          118.93167701863354,
          -2.1431406270670723,
          null,
          null,
          4.927442061944986,
          null,
          null,
          -20.217413918651825,
          null,
          null,
          null,
          29.739445707613836,
          null,
          185.99402588781945,
          null,
          null,
          -2.737928621413576,
          null,
          null,
          null,
          null,
          null,
          null,
          null,
          null,
          null,
          24.929769302800715,
          null,
          null,
          113.43119965683238,
          null,
          null,
          45.18736922198973,
          null,
          6.343038201709811,
          null,
          null,
          null,
          175.8586607363479,
          null,
          null,
          80.12542461458061,
          null,
          null,
          27.891260007915005,
          null,
          null,
          338.1797034021518,
          null,
          null,
          94.0739966555184,
          null,
          180.7157748436414,
          null,
          null,
          null,
          null,
          null,
          null,
          null,
          128.52944157291984,
          135.29010682165006,
          null,
          null,
          null,
          117.42361684558216,
          null,
          56.80634908254197,
          null,
          null,
          null,
          244.19778002018165,
          28.376090636801663,
          null,
          50.89788545319307,
          51.93110647181628,
          57.23188682852227,
          null,
          null,
          59.95965708522441,
          null,
          null,
          22.042867307008184,
          null,
          106.84647302904564,
          75,
          null,
          18.005677864062655,
          6.897771489211178,
          189.92420040672954,
          null,
          null,
          133.29513714817733,
          null,
          null,
          null,
          null,
          null,
          null,
          154.1044776119403,
          85.95672150585445,
          153.53577371048252,
          null,
          null,
          null,
          null,
          null,
          null,
          null,
          44.30825289022855,
          37.12699514226232,
          null,
          null,
          null,
          96.50511681791852,
          null,
          null,
          null,
          35.133985538068906,
          null,
          null,
          46.8725627827172,
          null,
          null,
          11.534842034505937,
          12.868198209148737,
          144.28934010152284,
          163.29166666666666,
          null,
          null,
          null,
          null,
          null,
          8.594215520007333,
          61.63934426229508,
          null,
          null,
          83.79661016949153,
          null,
          null,
          null,
          65.80636622328106,
          null,
          null,
          null,
          null,
          39.377937677711365,
          34.121996303142325,
          null,
          null,
          null,
          null,
          null,
          null,
          null,
          null,
          null,
          184.61280590010057,
          null,
          195.60350541276972,
          48.74718281850722,
          108.47139731165989,
          -12.049720953830542,
          null,
          -20.128644340348178,
          null,
          31.78588409319034,
          null,
          -9.570129980460454,
          null,
          46.940616104393904,
          80.61067584388958,
          null,
          -13.874673035369042,
          null,
          null,
          null,
          56.68577931457084,
          52.779363853155544,
          null,
          null,
          100.38698328935796,
          null,
          54.58726415094339,
          null,
          null,
          null,
          null,
          null,
          null,
          null,
          113.39032527105921,
          null,
          null,
          null,
          null,
          -9.934580861098432,
          null,
          null,
          143.4321617906931,
          null,
          null,
          null,
          257.21649484536084,
          null,
          null,
          6.783016792549682,
          null,
          213.45291479820628,
          null,
          null,
          null,
          144.3456408273729,
          null,
          null,
          null,
          null,
          null,
          62.25512879839581,
          63.22347266881029,
          null,
          null,
          null,
          null,
          125.21016714469391,
          null,
          null,
          null,
          null,
          52.69919202993542,
          null,
          null,
          null,
          null,
          -31.853720050441364,
          7.966429013882648,
          null,
          null,
          19.63154864709269,
          null,
          28.57142857142857,
          77.52257385815727,
          null,
          9.625550660792952,
          null,
          null,
          null,
          216.39344262295083,
          null,
          null,
          130.80629545403372,
          null,
          null,
          null,
          null,
          44.65937762825904,
          null,
          null,
          64.3114311431143,
          71.74939755307915,
          null,
          -0.7367422860894303,
          null,
          22.359416840226125,
          null,
          null,
          45.32861938592285,
          null,
          4.455307262569833,
          null,
          22.85167986888828,
          null,
          null,
          null,
          null,
          null,
          null,
          53.665803108808284,
          null,
          null,
          null,
          null,
          null,
          -17.961704756022236,
          null,
          null,
          61.55442369364271,
          null,
          -1.8461155688250297,
          null,
          null,
          null,
          null,
          37.57549611734254,
          null,
          null,
          15.708576698432216,
          null,
          null,
          null,
          36.70271967124226,
          null,
          null,
          55.66884796834576,
          393.85474860335194,
          null,
          null,
          null,
          142.68323611463353,
          null,
          null,
          null,
          116.24735826518425,
          36.99570815450644,
          null,
          null,
          null,
          114.88631488631489,
          null,
          46.42857142857143,
          null,
          null,
          null,
          null,
          105.99972415061376,
          null,
          122.25816887738597,
          null,
          88.69432813094785,
          null,
          null,
          null,
          61.55598068689078,
          null,
          null,
          null,
          39.27371563516464,
          null,
          null,
          14.42467859736044,
          null,
          null,
          10.659524239025577,
          null,
          326.4705882352941,
          null,
          null,
          null,
          105.44990065285269,
          null,
          null,
          64.989354013244,
          74.5945945945946,
          null,
          null,
          null,
          null,
          -11.909316212305185,
          96.88552188552188,
          null,
          null,
          null,
          null,
          120.01257289024734,
          null,
          255.79579579579578,
          null,
          null,
          null,
          81.67945030361138,
          86.85857321652065,
          null,
          null,
          null,
          null,
          44.58414534481675,
          null,
          null,
          12.177984545654214,
          null,
          null,
          46.109888701373606,
          null,
          null,
          37.216804201050266,
          null,
          null,
          30.265954005484307,
          null,
          28.36275106512477,
          null,
          -17.77067153951576,
          null,
          null,
          null,
          null,
          64.25740460566008,
          null,
          null,
          23.716007000538504,
          null,
          null,
          45.40705617616331,
          null,
          null,
          37.91173193044289,
          null,
          null,
          61.80241723594325,
          null,
          65.54208974778905,
          null,
          119.11381407471764,
          null,
          null,
          null,
          238.71140939597316,
          null,
          null,
          94.81426078284717,
          null,
          143.16125598722724,
          null,
          null,
          null,
          null,
          25.163995700503822,
          45.76457645764577,
          null,
          null,
          null,
          52.26227921606581,
          null,
          221.10726643598616,
          null,
          null,
          null,
          35.04570619286726,
          null,
          null,
          null,
          185.28333803213982,
          null,
          null,
          55.77419970724877,
          null,
          null,
          150.0811283075387,
          null,
          null,
          12.05154200869935,
          null,
          null,
          119.30896598332959,
          null,
          null,
          35.93207713274756,
          null,
          null,
          54.22264591242295,
          null,
          null,
          38.62597203217301,
          null,
          null,
          -2.6631303589594535,
          54.976303317535546,
          null,
          null,
          null,
          null,
          83.56117566643883,
          null,
          99.41504918904546,
          null,
          132.68991282689913,
          null,
          null,
          83.76935397757607,
          null,
          null,
          null,
          3.3577037638776064,
          null,
          103.8323353293413,
          null,
          null,
          null,
          null,
          419.5952714886796,
          null,
          null,
          98.15054718633947,
          246.25,
          null,
          null,
          161.840490797546,
          null,
          null,
          135.29411764705884,
          null,
          null,
          92.4908424908425,
          null,
          null,
          212.58907363420428,
          null,
          null,
          741.5094339622642,
          null,
          null,
          110.24038461538461,
          null,
          null,
          66.94214876033058,
          null,
          null,
          null,
          189.10667169242367,
          null,
          null,
          193.78117725307615,
          null,
          null,
          null,
          75.71875137586404,
          null,
          null,
          58.95663700056808,
          null,
          -13.818019625334523,
          null,
          null,
          36.37300950853477,
          null,
          null,
          185.52345448897174,
          null,
          null,
          112.95309168443497,
          null,
          null,
          224.15709522045205,
          null,
          null,
          2.6197230101785416,
          null,
          null,
          95.89786521557137,
          null,
          null,
          41.73063503140265,
          null,
          null,
          98.13645927261797,
          null,
          null,
          null,
          12.338995046001415,
          60.144404332129966,
          null,
          null,
          48.458304134548,
          null,
          null,
          149.185667752443,
          null,
          null,
          213.55389541088581,
          null,
          null,
          85.01650165016503,
          null,
          null,
          null,
          null,
          15.011922334506641,
          57.22222222222222,
          null,
          null,
          null,
          null,
          42.89527288052258,
          null,
          null,
          211.77168691720826,
          null,
          null,
          41.78095059177156,
          34.135802469135804,
          null,
          null,
          null,
          null,
          125.47396230627545,
          null,
          null,
          78.61683657269478,
          null,
          null,
          73.85556432517758,
          null,
          null,
          2.0035716906818015,
          null,
          139.27328952454582,
          null,
          null,
          null,
          6.332231512087628,
          null,
          10.60744462205983,
          null,
          110.84934903905766,
          null,
          null,
          null,
          null,
          24.375690607734807,
          null,
          null,
          36.13656409251274,
          null,
          83.50349274583557,
          null,
          null,
          85.90116279069767,
          null,
          null,
          18.553185314177913,
          null,
          108.43989769820972,
          null,
          null,
          null,
          69.87192518804635,
          null,
          null,
          null,
          47.8681245720688,
          null,
          null,
          10.038600838734274,
          null,
          null,
          99.29856115107913,
          null,
          null,
          250.93747196555128,
          149.17025199754147,
          null,
          null,
          null,
          null,
          155.41044776119404,
          null,
          null,
          78.77709242509204,
          null,
          60.93933005387678,
          null,
          null,
          null,
          148.07235225395803,
          166.09686609686608,
          null,
          null,
          null,
          null,
          32.65822784810127,
          null,
          84.26349496797805,
          null,
          97.712833545108,
          null,
          null,
          null,
          null,
          53.16236853479326,
          null,
          29.91329479768786,
          null,
          null,
          null,
          46.0866489832007,
          null,
          null,
          45.81988722014405,
          null,
          58.06407259727761,
          null,
          null,
          167.4286568056178,
          null,
          61.52897657213317,
          null,
          null,
          88.9763779527559,
          null,
          null,
          null,
          null,
          11.397314648417408,
          76.10972568578553,
          null,
          null,
          null,
          null,
          111.6382497379021,
          null,
          null,
          135.81664803333672,
          null,
          null,
          42.498104624715694,
          149.12917271407838,
          null,
          null,
          90.06410256410257,
          null,
          null,
          268.1951219512195,
          null,
          null,
          null,
          null,
          23.419163723367895,
          null,
          27.862112586970273,
          null,
          null,
          90.18604651162791,
          null,
          130.34437946718649,
          null,
          null,
          null,
          null,
          82.09373198253851,
          150.2222222222222,
          null,
          null,
          33.6,
          null,
          null,
          null,
          null,
          256.657223796034,
          null,
          null,
          -6.611974356188199,
          null,
          null,
          1.1708586296617518,
          58.73075478783327,
          null,
          null,
          null,
          null,
          50.32910438387137,
          null,
          null,
          100.79994880327658,
          null,
          127.41732942653829,
          null,
          null,
          1096.2869198312235,
          null,
          null,
          null,
          30.231770637369255,
          null,
          null,
          36.72124784211978,
          58.13333333333334,
          null,
          null,
          null,
          77.25635191505499,
          null,
          93.60967184801382,
          null,
          null,
          null,
          62.19758064516129,
          null,
          null,
          null,
          40.46549612086566,
          null,
          766.256157635468,
          null,
          null,
          null,
          61.78625296272355,
          null,
          111.54639175257732,
          null,
          null,
          9.80980980980981,
          null,
          null,
          null,
          25.80933244027685,
          391.6279069767442,
          null,
          null,
          null,
          94.93775933609957,
          null,
          null,
          null,
          50.87522441651705,
          39.64401294498382,
          null,
          null,
          70.2127659574468,
          null,
          null,
          83.35040983606558,
          null,
          null,
          null,
          128.09504792332268,
          null,
          110.76233183856503,
          null,
          null,
          null,
          null,
          26.24067568217912,
          316.6351606805293,
          null,
          null,
          436.1556064073227,
          null,
          null,
          null,
          287.8654970760234,
          null,
          null,
          null,
          40.885224927277335,
          null,
          23.985239852398525,
          null,
          null,
          27.863498141682623,
          null,
          null,
          146.48541114058355,
          null,
          -20.9375,
          null,
          null,
          null,
          null,
          114.2958892958893,
          -7.1084337349397595,
          null,
          null,
          null,
          -0.5726101479242882,
          null,
          80.92566619915848,
          null,
          null,
          null,
          161.3747954173486,
          null,
          null,
          null,
          20.267499523173754,
          null,
          171.52974504249292,
          null,
          null,
          120.91990483743061,
          null,
          null,
          null,
          85.85121350685895,
          null,
          null,
          65.45805011666836,
          33.52601156069364,
          null,
          null,
          null,
          189.7120786516854,
          null,
          null,
          152.56482525366403,
          null,
          54.30410297666934,
          null,
          null,
          25.852431525992177,
          null,
          null,
          null,
          null,
          118.26136866630672,
          null,
          null,
          186.8640988372093,
          null,
          87.0568278201866,
          null,
          -24.476439790575917,
          null,
          null,
          null,
          null,
          56.059458124022065,
          null,
          null,
          30.16465292584696,
          null,
          159.27431059506532,
          null,
          null,
          null,
          48.51720703773376,
          null,
          73.43502377179081,
          null,
          null,
          null,
          50.90937597993101,
          null,
          127.73695811903012,
          null,
          147.8862973760933,
          null,
          null,
          null,
          121.6553692472351,
          null,
          null,
          null,
          49.74377098427284,
          25.3077975376197,
          null,
          null,
          null,
          null,
          171.56392560533396,
          null,
          null,
          24.72733588051407,
          null,
          null,
          28.777713998708478,
          null,
          null,
          60.51821827982089,
          null,
          null,
          242.8651990475793,
          null,
          null,
          308.13801373596425,
          null,
          195.80246913580245,
          null,
          null,
          null,
          171.68464004663363,
          null,
          85.42651081820442,
          null,
          null,
          null,
          84.09795678233051,
          null,
          137.77285669092058,
          null,
          null,
          null,
          40.28541284913099,
          null,
          null,
          21.339913264543142,
          null,
          94.2628071636818,
          null,
          82.7807486631016,
          null,
          null,
          null,
          null,
          90.29218132248647,
          null,
          null,
          9.81788492504479,
          null,
          null,
          71.84270567709032,
          null,
          198.43243243243242,
          null,
          null,
          null,
          53.07015829587649,
          null,
          null,
          484.633145202668,
          199.93975903614458,
          null,
          null,
          null,
          null,
          130.04574042309892,
          null,
          39.95433789954338,
          null,
          null,
          null,
          73.73681288173238,
          55.23495465787304,
          null,
          null,
          null,
          null,
          63.807640867593186,
          null,
          null,
          102.13609064454215,
          null,
          null,
          61.93913237592083,
          null,
          null,
          71.44677979656612,
          272.0647773279352,
          null,
          null,
          null,
          45.445958710025636,
          null,
          83.04794520547945,
          null,
          null,
          null,
          141.64759725400458,
          null,
          null,
          null,
          88.85233574584078,
          null,
          null,
          212.2697041510588,
          69.41441441441441,
          null,
          null,
          null,
          null,
          13.753046922608167,
          null,
          null,
          60.93010303536619,
          37.8066378066378,
          null,
          null,
          null,
          108.58767205266308,
          null,
          70.1010101010101,
          null,
          null,
          null,
          null,
          4.384164769971269,
          null,
          null,
          79.37303727040481,
          32.568187955711586,
          null,
          null,
          null,
          null,
          -6.668403984248321,
          null,
          null,
          68.6010760953113,
          null,
          132.268156424581,
          null,
          32.47863247863248,
          null,
          null,
          "(?)",
          "(?)",
          "(?)",
          "(?)"
         ],
         "ids": [
          "2021 COMPANIES/Small-Cap/3M India Ltd.",
          "2021 COMPANIES/Large-Cap/Bank of Baroda",
          "2021 COMPANIES/Mid-Cap/Bank of India",
          "2021 COMPANIES/Mid-Cap/Bank of Maharashtra",
          "2021 COMPANIES/Large-Cap/Bank of Maharashtra",
          "2021 COMPANIES/Small-Cap/Bayer Cropscience Ltd.",
          "2021 COMPANIES/Small-Cap/Berger Paints (India) Ltd.",
          "2021 COMPANIES/Mid-Cap/Berger Paints (India) Ltd.",
          "2021 COMPANIES/Mid-Cap/Bharat Dynamics Ltd.",
          "2021 COMPANIES/Large-Cap/Bharat Dynamics Ltd.",
          "2021 COMPANIES/Small-Cap/Bharat Heavy Electricals Ltd.",
          "2021 COMPANIES/Small-Cap/Bharat Petroleum Corporation Ltd.",
          "2021 COMPANIES/Large-Cap/Bharti Airtel Ltd.",
          "2021 COMPANIES/Small-Cap/Biocon Ltd.",
          "2021 COMPANIES/Large-Cap/Biocon Ltd.",
          "2021 COMPANIES/Mid-Cap/Birla Corporation Ltd.",
          "2021 COMPANIES/Small-Cap/Birlasoft Ltd.",
          "2021 COMPANIES/Mid-Cap/Blue Dart Express Ltd.",
          "2021 COMPANIES/Large-Cap/Blue Dart Express Ltd.",
          "2021 COMPANIES/Mid-Cap/Blue Star Ltd.",
          "2021 COMPANIES/Large-Cap/Blue Star Ltd.",
          "2021 COMPANIES/Large-Cap/Bombay Burmah Trading Corporation Ltd.",
          "2021 COMPANIES/Mid-Cap/Bank of Baroda",
          "2021 COMPANIES/Small-Cap/Bosch Ltd.",
          "2021 COMPANIES/Mid-Cap/Bandhan Bank Ltd.",
          "2021 COMPANIES/Large-Cap/Balrampur Chini Mills Ltd.",
          "2021 COMPANIES/Mid-Cap/Aurobindo Pharma Ltd.",
          "2021 COMPANIES/Large-Cap/Aurobindo Pharma Ltd.",
          "2021 COMPANIES/Small-Cap/Avanti Feeds Ltd.",
          "2021 COMPANIES/Mid-Cap/Avanti Feeds Ltd.",
          "2021 COMPANIES/Small-Cap/Avenue Supermarts Ltd.",
          "2021 COMPANIES/Mid-Cap/Avenue Supermarts Ltd.",
          "2021 COMPANIES/Large-Cap/Avenue Supermarts Ltd.",
          "2021 COMPANIES/Small-Cap/Axis Bank Ltd.",
          "2021 COMPANIES/Mid-Cap/Axis Bank Ltd.",
          "2021 COMPANIES/Mid-Cap/BASF India Ltd.",
          "2021 COMPANIES/Large-Cap/BASF India Ltd.",
          "2021 COMPANIES/Small-Cap/BEML Ltd.",
          "2021 COMPANIES/Mid-Cap/Bajaj Auto Ltd.",
          "2021 COMPANIES/Large-Cap/Bajaj Auto Ltd.",
          "2021 COMPANIES/Mid-Cap/Bajaj Electricals Ltd.",
          "2021 COMPANIES/Small-Cap/Bajaj Finance Ltd.",
          "2021 COMPANIES/Small-Cap/Bajaj Finserv Ltd.",
          "2021 COMPANIES/Large-Cap/Bajaj Finserv Ltd.",
          "2021 COMPANIES/Small-Cap/Bajaj Hindusthan Sugar Ltd.",
          "2021 COMPANIES/Mid-Cap/Bajaj Hindusthan Sugar Ltd.",
          "2021 COMPANIES/Large-Cap/Bajaj Hindusthan Sugar Ltd.",
          "2021 COMPANIES/Small-Cap/Bandhan Bank Ltd.",
          "2021 COMPANIES/Small-Cap/Aurobindo Pharma Ltd.",
          "2021 COMPANIES/Mid-Cap/Bosch Ltd.",
          "2021 COMPANIES/Small-Cap/Britannia Industries Ltd.",
          "2021 COMPANIES/Mid-Cap/Container Corporation of India Ltd.",
          "2021 COMPANIES/Large-Cap/Coromandel International Ltd.",
          "2021 COMPANIES/Small-Cap/Crompton Greaves Consumer Electricals Ltd.",
          "2021 COMPANIES/Large-Cap/Crompton Greaves Consumer Electricals Ltd.",
          "2021 COMPANIES/Small-Cap/Cummins India Ltd.",
          "2021 COMPANIES/Mid-Cap/Cummins India Ltd.",
          "2021 COMPANIES/Small-Cap/Cyient Ltd.",
          "2021 COMPANIES/Large-Cap/Cyient Ltd.",
          "2021 COMPANIES/Mid-Cap/Deepak Fertilisers & Petrochemicals Corporation Ltd.",
          "2021 COMPANIES/Mid-Cap/Dish TV India Ltd.",
          "2021 COMPANIES/Small-Cap/EID Parry (India) Ltd.",
          "2021 COMPANIES/Large-Cap/EID Parry (India) Ltd.",
          "2021 COMPANIES/Small-Cap/EPL Ltd.",
          "2021 COMPANIES/Mid-Cap/Electrosteel Castings Ltd.",
          "2021 COMPANIES/Mid-Cap/Electrotherm (India) Ltd.",
          "2021 COMPANIES/Mid-Cap/Emami Ltd.",
          "2021 COMPANIES/Small-Cap/Federal Bank Ltd.",
          "2021 COMPANIES/Mid-Cap/Finolex Cables Ltd.",
          "2021 COMPANIES/Small-Cap/Forbes & Company Ltd.",
          "2021 COMPANIES/Small-Cap/Future Lifestyle Fashions Ltd.",
          "2021 COMPANIES/Small-Cap/Gayatri Projects Ltd.",
          "2021 COMPANIES/Small-Cap/Container Corporation of India Ltd.",
          "2021 COMPANIES/Large-Cap/Brightcom Group Ltd.",
          "2021 COMPANIES/Small-Cap/Colgate-Palmolive (India) Ltd.",
          "2021 COMPANIES/Mid-Cap/Cochin Shipyard Ltd.",
          "2021 COMPANIES/Large-Cap/Britannia Industries Ltd.",
          "2021 COMPANIES/Large-Cap/CESC Ltd.",
          "2021 COMPANIES/Large-Cap/CG Power and Industrial Solutions Ltd.",
          "2021 COMPANIES/Small-Cap/Cadila Healthcare Ltd.",
          "2021 COMPANIES/Mid-Cap/Cadila Healthcare Ltd.",
          "2021 COMPANIES/Large-Cap/Cadila Healthcare Ltd.",
          "2021 COMPANIES/Mid-Cap/Canara Bank",
          "2021 COMPANIES/Mid-Cap/Castrol India Ltd.",
          "2021 COMPANIES/Mid-Cap/Central Bank of India",
          "2021 COMPANIES/Large-Cap/Central Bank of India",
          "2021 COMPANIES/Mid-Cap/Century Plyboards (India) Ltd.",
          "2021 COMPANIES/Mid-Cap/Century Textiles & Industries Ltd.",
          "2021 COMPANIES/Mid-Cap/Chambal Fertilisers & Chemicals Ltd.",
          "2021 COMPANIES/Large-Cap/Chambal Fertilisers & Chemicals Ltd.",
          "2021 COMPANIES/Small-Cap/Cholamandalam Financial Holdings Ltd.",
          "2021 COMPANIES/Small-Cap/Cholamandalam Investment & Finance Company Ltd.",
          "2021 COMPANIES/Mid-Cap/Cholamandalam Investment & Finance Company Ltd.",
          "2021 COMPANIES/Large-Cap/Cholamandalam Investment & Finance Company Ltd.",
          "2021 COMPANIES/Small-Cap/Cipla Ltd.",
          "2021 COMPANIES/Small-Cap/City Union Bank Ltd.",
          "2021 COMPANIES/Small-Cap/Cochin Shipyard Ltd.",
          "2021 COMPANIES/Mid-Cap/Coforge Ltd.",
          "2021 COMPANIES/Mid-Cap/Au Small Finance Bank Ltd.",
          "2021 COMPANIES/Mid-Cap/Brightcom Group Ltd.",
          "2021 COMPANIES/Large-Cap/Atul Ltd.",
          "2021 COMPANIES/Large-Cap/Adani Transmission Ltd.",
          "2021 COMPANIES/Small-Cap/Aditya Birla Capital Ltd.",
          "2021 COMPANIES/Mid-Cap/Aditya Birla Capital Ltd.",
          "2021 COMPANIES/Large-Cap/Aditya Birla Capital Ltd.",
          "2021 COMPANIES/Small-Cap/Aditya Birla Fashion and Retail Ltd.",
          "2021 COMPANIES/Mid-Cap/Aditya Birla Fashion and Retail Ltd.",
          "2021 COMPANIES/Large-Cap/Aditya Birla Fashion and Retail Ltd.",
          "2021 COMPANIES/Mid-Cap/Aegis Logistics Ltd.",
          "2021 COMPANIES/Large-Cap/Aegis Logistics Ltd.",
          "2021 COMPANIES/Small-Cap/Akzo Nobel India Ltd.",
          "2021 COMPANIES/Mid-Cap/Akzo Nobel India Ltd.",
          "2021 COMPANIES/Large-Cap/Akzo Nobel India Ltd.",
          "2021 COMPANIES/Small-Cap/Alembic Pharmaceuticals Ltd.",
          "2021 COMPANIES/Mid-Cap/Alembic Pharmaceuticals Ltd.",
          "2021 COMPANIES/Large-Cap/Alembic Pharmaceuticals Ltd.",
          "2021 COMPANIES/Small-Cap/Alkem Laboratories Ltd.",
          "2021 COMPANIES/Mid-Cap/Alkem Laboratories Ltd.",
          "2021 COMPANIES/Large-Cap/Alkem Laboratories Ltd.",
          "2021 COMPANIES/Small-Cap/Allcargo Logistics Ltd.",
          "2021 COMPANIES/Mid-Cap/Allcargo Logistics Ltd.",
          "2021 COMPANIES/Large-Cap/Allcargo Logistics Ltd.",
          "2021 COMPANIES/Small-Cap/Alok Industries Ltd.",
          "2021 COMPANIES/Mid-Cap/Alok Industries Ltd.",
          "2021 COMPANIES/Large-Cap/Alok Industries Ltd.",
          "2021 COMPANIES/Small-Cap/Amara Raja Batteries Ltd.",
          "2021 COMPANIES/Large-Cap/Amara Raja Batteries Ltd.",
          "2021 COMPANIES/Small-Cap/Amber Enterprises India Ltd.",
          "2021 COMPANIES/Mid-Cap/Adani Transmission Ltd.",
          "2021 COMPANIES/Large-Cap/Amber Enterprises India Ltd.",
          "2021 COMPANIES/Small-Cap/Adani Transmission Ltd.",
          "2021 COMPANIES/Mid-Cap/Adani Power Ltd.",
          "2021 COMPANIES/Mid-Cap/3M India Ltd.",
          "2021 COMPANIES/Large-Cap/3M India Ltd.",
          "2021 COMPANIES/Small-Cap/ABB India Ltd.",
          "2021 COMPANIES/Mid-Cap/ABB India Ltd.",
          "2021 COMPANIES/Large-Cap/ABB India Ltd.",
          "2021 COMPANIES/Small-Cap/ACC Ltd.",
          "2021 COMPANIES/Mid-Cap/ACC Ltd.",
          "2021 COMPANIES/Large-Cap/ACC Ltd.",
          "2021 COMPANIES/Small-Cap/AIA Engineering Ltd.",
          "2021 COMPANIES/Mid-Cap/AIA Engineering Ltd.",
          "2021 COMPANIES/Large-Cap/AIA Engineering Ltd.",
          "2021 COMPANIES/Small-Cap/APL Apollo Tubes Ltd.",
          "2021 COMPANIES/Mid-Cap/APL Apollo Tubes Ltd.",
          "2021 COMPANIES/Large-Cap/APL Apollo Tubes Ltd.",
          "2021 COMPANIES/Small-Cap/Aarti Industries Ltd.",
          "2021 COMPANIES/Mid-Cap/Aarti Industries Ltd.",
          "2021 COMPANIES/Large-Cap/Aarti Industries Ltd.",
          "2021 COMPANIES/Small-Cap/Abbott India Ltd.",
          "2021 COMPANIES/Mid-Cap/Abbott India Ltd.",
          "2021 COMPANIES/Large-Cap/Abbott India Ltd.",
          "2021 COMPANIES/Small-Cap/Adani Enterprises Ltd.",
          "2021 COMPANIES/Mid-Cap/Adani Enterprises Ltd.",
          "2021 COMPANIES/Large-Cap/Adani Enterprises Ltd.",
          "2021 COMPANIES/Small-Cap/Adani Ports & Special Economic Zone Ltd.",
          "2021 COMPANIES/Mid-Cap/Adani Ports & Special Economic Zone Ltd.",
          "2021 COMPANIES/Large-Cap/Adani Ports & Special Economic Zone Ltd.",
          "2021 COMPANIES/Small-Cap/Au Small Finance Bank Ltd.",
          "2021 COMPANIES/Large-Cap/Adani Power Ltd.",
          "2021 COMPANIES/Small-Cap/Ambuja Cements Ltd.",
          "2021 COMPANIES/Small-Cap/Adani Power Ltd.",
          "2021 COMPANIES/Small-Cap/Ashok Leyland Ltd.",
          "2021 COMPANIES/Small-Cap/Apollo Hospitals Enterprise Ltd.",
          "2021 COMPANIES/Large-Cap/Apar Industries Ltd.",
          "2021 COMPANIES/Mid-Cap/Ambuja Cements Ltd.",
          "2021 COMPANIES/Small-Cap/Astral Ltd.",
          "2021 COMPANIES/Large-Cap/Astral Ltd.",
          "2021 COMPANIES/Large-Cap/Apollo Hospitals Enterprise Ltd.",
          "2021 COMPANIES/Mid-Cap/Arvind Ltd.",
          "2021 COMPANIES/Large-Cap/Arvind Ltd.",
          "2021 COMPANIES/Small-Cap/Atul Ltd.",
          "2021 COMPANIES/Small-Cap/Apar Industries Ltd.",
          "2021 COMPANIES/Large-Cap/Ashoka Buildcon Ltd.",
          "2021 COMPANIES/Large-Cap/Ambuja Cements Ltd.",
          "2021 COMPANIES/Small-Cap/Apollo Tyres Ltd.",
          "2021 COMPANIES/Mid-Cap/Ashoka Buildcon Ltd.",
          "2021 COMPANIES/Mid-Cap/Atul Ltd.",
          "2021 COMPANIES/Small-Cap/Arvind Ltd.",
          "2021 COMPANIES/Mid-Cap/Aster DM Healthcare Ltd.",
          "2021 COMPANIES/Mid-Cap/Ashok Leyland Ltd.",
          "2021 COMPANIES/Mid-Cap/Apollo Tyres Ltd.",
          "2021 COMPANIES/Small-Cap/Ashoka Buildcon Ltd.",
          "2021 COMPANIES/Large-Cap/Ashok Leyland Ltd.",
          "2021 COMPANIES/Mid-Cap/Asian Paints Ltd.",
          "2021 COMPANIES/Mid-Cap/Apollo Hospitals Enterprise Ltd.",
          "2021 COMPANIES/Small-Cap/Dish TV India Ltd.",
          "2021 COMPANIES/Large-Cap/Dhampur Sugar Mills Ltd.",
          "2021 COMPANIES/Small-Cap/Divi's Laboratories Ltd.",
          "2021 COMPANIES/Large-Cap/Axis Bank Ltd.",
          "2021 COMPANIES/Large-Cap/Dilip Buildcon Ltd.",
          "2021 COMPANIES/Small-Cap/Dhampur Sugar Mills Ltd.",
          "2021 COMPANIES/Mid-Cap/Dilip Buildcon Ltd.",
          "2021 COMPANIES/Mid-Cap/Dabur India Ltd.",
          "2021 COMPANIES/Large-Cap/Dabur India Ltd.",
          "2021 COMPANIES/Small-Cap/DCB Bank Ltd.",
          "2021 COMPANIES/Mid-Cap/DCM Shriram Ltd.",
          "2021 COMPANIES/Large-Cap/Cochin Shipyard Ltd.",
          "2021 COMPANIES/Small-Cap/Coforge Ltd.",
          "2021 COMPANIES/Large-Cap/Coforge Ltd.",
          "2021 COMPANIES/Small-Cap/Bajaj Electricals Ltd.",
          "2021 COMPANIES/Small-Cap/Coromandel International Ltd.",
          "2021 COMPANIES/Mid-Cap/Coromandel International Ltd.",
          "2021 COMPANIES/Small-Cap/Bajaj Auto Ltd.",
          "2021 COMPANIES/Mid-Cap/DLF Ltd.",
          "2021 COMPANIES/Large-Cap/BEML Ltd.",
          "2021 COMPANIES/Mid-Cap/BEML Ltd.",
          "2021 COMPANIES/Large-Cap/Cummins India Ltd.",
          "2021 COMPANIES/Mid-Cap/Cyient Ltd.",
          "2021 COMPANIES/Small-Cap/BASF India Ltd.",
          "2021 COMPANIES/Mid-Cap/Divi's Laboratories Ltd.",
          "2021 COMPANIES/Large-Cap/DCB Bank Ltd.",
          "2021 COMPANIES/Small-Cap/DCM Shriram Ltd.",
          "2021 COMPANIES/Mid-Cap/Crompton Greaves Consumer Electricals Ltd.",
          "2021 COMPANIES/Small-Cap/Dixon Technologies (India) Ltd.",
          "2021 COMPANIES/Small-Cap/Bharat Electronics Ltd.",
          "2021 COMPANIES/Large-Cap/Asian Paints Ltd.",
          "2021 COMPANIES/Small-Cap/Force Motors Ltd.",
          "2021 COMPANIES/Mid-Cap/Force Motors Ltd.",
          "2021 COMPANIES/Large-Cap/Force Motors Ltd.",
          "2021 COMPANIES/Small-Cap/Fortis Healthcare Ltd.",
          "2021 COMPANIES/Large-Cap/Fortis Healthcare Ltd.",
          "2021 COMPANIES/Large-Cap/Future Lifestyle Fashions Ltd.",
          "2021 COMPANIES/Mid-Cap/GAIL (India) Ltd.",
          "2021 COMPANIES/Large-Cap/Firstsource Solutions Ltd.",
          "2021 COMPANIES/Small-Cap/GE T&D India Ltd.",
          "2021 COMPANIES/Mid-Cap/GHCL Ltd.",
          "2021 COMPANIES/Small-Cap/Galaxy Surfactants Ltd.",
          "2021 COMPANIES/Large-Cap/Au Small Finance Bank Ltd.",
          "2021 COMPANIES/Mid-Cap/Gayatri Projects Ltd.",
          "2021 COMPANIES/Mid-Cap/General Insurance Corporation of India",
          "2021 COMPANIES/Large-Cap/General Insurance Corporation of India",
          "2021 COMPANIES/Large-Cap/GlaxoSmithKline Pharmaceuticals Ltd.",
          "2021 COMPANIES/Small-Cap/GHCL Ltd.",
          "2021 COMPANIES/Large-Cap/Dixon Technologies (India) Ltd.",
          "2021 COMPANIES/Small-Cap/Firstsource Solutions Ltd.",
          "2021 COMPANIES/Small-Cap/Finolex Cables Ltd.",
          "2021 COMPANIES/Large-Cap/EPL Ltd.",
          "2021 COMPANIES/Large-Cap/Bajaj Electricals Ltd.",
          "2021 COMPANIES/Large-Cap/Edelweiss Financial Services Ltd.",
          "2021 COMPANIES/Large-Cap/Eicher Motors Ltd.",
          "2021 COMPANIES/Small-Cap/Electrosteel Castings Ltd.",
          "2021 COMPANIES/Large-Cap/Aster DM Healthcare Ltd.",
          "2021 COMPANIES/Large-Cap/Avanti Feeds Ltd.",
          "2021 COMPANIES/Mid-Cap/Finolex Industries Ltd.",
          "2021 COMPANIES/Small-Cap/Emami Ltd.",
          "2021 COMPANIES/Small-Cap/Endurance Technologies Ltd.",
          "2021 COMPANIES/Mid-Cap/Endurance Technologies Ltd.",
          "2021 COMPANIES/Large-Cap/Endurance Technologies Ltd.",
          "2021 COMPANIES/Small-Cap/Escorts Ltd.",
          "2021 COMPANIES/Large-Cap/Exide Industries Ltd.",
          "2021 COMPANIES/Mid-Cap/Astral Ltd.",
          "2021 COMPANIES/Mid-Cap/Federal Bank Ltd.",
          "2021 COMPANIES/Large-Cap/Emami Ltd.",
          "2021 COMPANIES/Mid-Cap/Edelweiss Financial Services Ltd.",
          "2021 COMPANIES/Small-Cap/Godfrey Phillips India Ltd.",
          "2021 COMPANIES/Mid-Cap/Coal India Ltd.",
          "2021 COMPANIES/Small-Cap/Central Bank of India",
          "2021 COMPANIES/Small-Cap/Bharat Dynamics Ltd.",
          "2021 COMPANIES/Mid-Cap/Ceat Ltd.",
          "2021 COMPANIES/Mid-Cap/Bharat Heavy Electricals Ltd.",
          "2021 COMPANIES/Large-Cap/Castrol India Ltd.",
          "2021 COMPANIES/Small-Cap/Aegis Logistics Ltd.",
          "2021 COMPANIES/Mid-Cap/Bayer Cropscience Ltd.",
          "2021 COMPANIES/Mid-Cap/Carborundum Universal Ltd.",
          "2021 COMPANIES/Small-Cap/Carborundum Universal Ltd.",
          "2021 COMPANIES/Large-Cap/Canara Bank",
          "2021 COMPANIES/Mid-Cap/Amber Enterprises India Ltd.",
          "2021 COMPANIES/Mid-Cap/Balrampur Chini Mills Ltd.",
          "2021 COMPANIES/Large-Cap/Bandhan Bank Ltd.",
          "2021 COMPANIES/Small-Cap/Bank of Baroda",
          "2021 COMPANIES/Mid-Cap/Amara Raja Batteries Ltd.",
          "2021 COMPANIES/Small-Cap/Birla Corporation Ltd.",
          "2021 COMPANIES/Large-Cap/Coal India Ltd.",
          "2021 COMPANIES/Small-Cap/Bank of India",
          "2021 COMPANIES/Large-Cap/Bayer Cropscience Ltd.",
          "2021 COMPANIES/Small-Cap/Brightcom Group Ltd.",
          "2021 COMPANIES/Large-Cap/Bosch Ltd.",
          "2021 COMPANIES/Large-Cap/Bank of India",
          "2021 COMPANIES/Small-Cap/Bank of Maharashtra",
          "2021 COMPANIES/Mid-Cap/Bombay Burmah Trading Corporation Ltd.",
          "2021 COMPANIES/Small-Cap/Bombay Burmah Trading Corporation Ltd.",
          "2021 COMPANIES/Small-Cap/Blue Star Ltd.",
          "2021 COMPANIES/Mid-Cap/Apar Industries Ltd.",
          "2021 COMPANIES/Large-Cap/Bharat Forge Ltd.",
          "2021 COMPANIES/Large-Cap/Balkrishna Industries Ltd.",
          "2021 COMPANIES/Large-Cap/Carborundum Universal Ltd.",
          "2021 COMPANIES/Small-Cap/Blue Dart Express Ltd.",
          "2021 COMPANIES/Mid-Cap/Asahi India Glass Ltd.",
          "2021 COMPANIES/Mid-Cap/Bajaj Finserv Ltd.",
          "2021 COMPANIES/Mid-Cap/Cholamandalam Financial Holdings Ltd.",
          "2021 COMPANIES/Mid-Cap/Bharat Forge Ltd.",
          "2021 COMPANIES/Small-Cap/Asahi India Glass Ltd.",
          "2021 COMPANIES/Mid-Cap/Chennai Petroleum Corporation Ltd.",
          "2021 COMPANIES/Large-Cap/Cholamandalam Financial Holdings Ltd.",
          "2021 COMPANIES/Mid-Cap/Bajaj Finance Ltd.",
          "2021 COMPANIES/Small-Cap/Chambal Fertilisers & Chemicals Ltd.",
          "2021 COMPANIES/Large-Cap/Century Textiles & Industries Ltd.",
          "2021 COMPANIES/Large-Cap/Bharat Electronics Ltd.",
          "2021 COMPANIES/Small-Cap/Coal India Ltd.",
          "2021 COMPANIES/Small-Cap/Century Plyboards (India) Ltd.",
          "2021 COMPANIES/Mid-Cap/Balkrishna Industries Ltd.",
          "2021 COMPANIES/Large-Cap/Century Plyboards (India) Ltd.",
          "2021 COMPANIES/Mid-Cap/City Union Bank Ltd.",
          "2021 COMPANIES/Large-Cap/City Union Bank Ltd.",
          "2021 COMPANIES/Small-Cap/Balkrishna Industries Ltd.",
          "2021 COMPANIES/Mid-Cap/Birlasoft Ltd.",
          "2021 COMPANIES/Small-Cap/Finolex Industries Ltd.",
          "2021 COMPANIES/Large-Cap/Forbes & Company Ltd.",
          "2021 COMPANIES/Mid-Cap/GlaxoSmithKline Pharmaceuticals Ltd.",
          "2021 COMPANIES/Mid-Cap/Forbes & Company Ltd.",
          "2021 COMPANIES/Large-Cap/Birla Corporation Ltd.",
          "2021 COMPANIES/Small-Cap/Glenmark Pharmaceuticals Ltd.",
          "2021 COMPANIES/Mid-Cap/Glenmark Pharmaceuticals Ltd.",
          "2021 COMPANIES/Large-Cap/Glenmark Pharmaceuticals Ltd.",
          "2021 COMPANIES/Small-Cap/Godawari Power & Ispat Ltd.",
          "2021 COMPANIES/Mid-Cap/Godawari Power & Ispat Ltd.",
          "2021 COMPANIES/Large-Cap/Birlasoft Ltd.",
          "2021 COMPANIES/Large-Cap/Finolex Industries Ltd.",
          "2021 COMPANIES/Mid-Cap/Firstsource Solutions Ltd.",
          "2021 COMPANIES/Mid-Cap/Bharat Electronics Ltd.",
          "2021 COMPANIES/Mid-Cap/Biocon Ltd.",
          "2021 COMPANIES/Large-Cap/Gayatri Projects Ltd.",
          "2021 COMPANIES/Mid-Cap/Fortis Healthcare Ltd.",
          "2021 COMPANIES/Large-Cap/Galaxy Surfactants Ltd.",
          "2021 COMPANIES/Mid-Cap/Galaxy Surfactants Ltd.",
          "2021 COMPANIES/Large-Cap/GMR Infrastructure Ltd.",
          "2021 COMPANIES/Mid-Cap/GMR Infrastructure Ltd.",
          "2021 COMPANIES/Small-Cap/GMR Infrastructure Ltd.",
          "2021 COMPANIES/Large-Cap/GHCL Ltd.",
          "2021 COMPANIES/Small-Cap/General Insurance Corporation of India",
          "2021 COMPANIES/Large-Cap/Bharat Heavy Electricals Ltd.",
          "2021 COMPANIES/Large-Cap/GE T&D India Ltd.",
          "2021 COMPANIES/Small-Cap/Bharat Forge Ltd.",
          "2021 COMPANIES/Mid-Cap/GE T&D India Ltd.",
          "2021 COMPANIES/Small-Cap/GlaxoSmithKline Pharmaceuticals Ltd.",
          "2021 COMPANIES/Large-Cap/GAIL (India) Ltd.",
          "2021 COMPANIES/Mid-Cap/Bharat Petroleum Corporation Ltd.",
          "2021 COMPANIES/Small-Cap/GAIL (India) Ltd.",
          "2021 COMPANIES/Large-Cap/Future Retail Ltd.",
          "2021 COMPANIES/Mid-Cap/Future Retail Ltd.",
          "2021 COMPANIES/Small-Cap/Future Retail Ltd.",
          "2021 COMPANIES/Large-Cap/Bharat Petroleum Corporation Ltd.",
          "2021 COMPANIES/Small-Cap/Bharti Airtel Ltd.",
          "2021 COMPANIES/Mid-Cap/Bharti Airtel Ltd.",
          "2021 COMPANIES/Large-Cap/Berger Paints (India) Ltd.",
          "2021 COMPANIES/Mid-Cap/Future Lifestyle Fashions Ltd.",
          "2021 COMPANIES/Small-Cap/Electrotherm (India) Ltd.",
          "2021 COMPANIES/Large-Cap/Federal Bank Ltd.",
          "2021 COMPANIES/Small-Cap/Dilip Buildcon Ltd.",
          "2021 COMPANIES/Small-Cap/Ceat Ltd.",
          "2021 COMPANIES/Mid-Cap/Dhampur Sugar Mills Ltd.",
          "2021 COMPANIES/Large-Cap/Deepak Fertilisers & Petrochemicals Corporation Ltd.",
          "2021 COMPANIES/Large-Cap/Ceat Ltd.",
          "2021 COMPANIES/Small-Cap/Deepak Fertilisers & Petrochemicals Corporation Ltd.",
          "2021 COMPANIES/Small-Cap/Balrampur Chini Mills Ltd.",
          "2021 COMPANIES/Small-Cap/Dabur India Ltd.",
          "2021 COMPANIES/Large-Cap/DLF Ltd.",
          "2021 COMPANIES/Small-Cap/DLF Ltd.",
          "2021 COMPANIES/Small-Cap/Castrol India Ltd.",
          "2021 COMPANIES/Large-Cap/DCM Shriram Ltd.",
          "2021 COMPANIES/Small-Cap/Asian Paints Ltd.",
          "2021 COMPANIES/Small-Cap/Chennai Petroleum Corporation Ltd.",
          "2021 COMPANIES/Large-Cap/Chennai Petroleum Corporation Ltd.",
          "2021 COMPANIES/Large-Cap/Asahi India Glass Ltd.",
          "2021 COMPANIES/Large-Cap/Container Corporation of India Ltd.",
          "2021 COMPANIES/Large-Cap/Bajaj Finance Ltd.",
          "2021 COMPANIES/Mid-Cap/Cipla Ltd.",
          "2021 COMPANIES/Large-Cap/Colgate-Palmolive (India) Ltd.",
          "2021 COMPANIES/Mid-Cap/Colgate-Palmolive (India) Ltd.",
          "2021 COMPANIES/Large-Cap/Cipla Ltd.",
          "2021 COMPANIES/Small-Cap/Century Textiles & Industries Ltd.",
          "2021 COMPANIES/Large-Cap/Dish TV India Ltd.",
          "2021 COMPANIES/Large-Cap/Divi's Laboratories Ltd.",
          "2021 COMPANIES/Mid-Cap/Dixon Technologies (India) Ltd.",
          "2021 COMPANIES/Mid-Cap/Exide Industries Ltd.",
          "2021 COMPANIES/Small-Cap/Exide Industries Ltd.",
          "2021 COMPANIES/Large-Cap/Escorts Ltd.",
          "2021 COMPANIES/Mid-Cap/Escorts Ltd.",
          "2021 COMPANIES/Large-Cap/Godawari Power & Ispat Ltd.",
          "2021 COMPANIES/Large-Cap/Electrotherm (India) Ltd.",
          "2021 COMPANIES/Mid-Cap/Britannia Industries Ltd.",
          "2021 COMPANIES/Large-Cap/Electrosteel Castings Ltd.",
          "2021 COMPANIES/Small-Cap/CESC Ltd.",
          "2021 COMPANIES/Mid-Cap/CESC Ltd.",
          "2021 COMPANIES/Mid-Cap/Eicher Motors Ltd.",
          "2021 COMPANIES/Small-Cap/Eicher Motors Ltd.",
          "2021 COMPANIES/Small-Cap/CG Power and Industrial Solutions Ltd.",
          "2021 COMPANIES/Mid-Cap/CG Power and Industrial Solutions Ltd.",
          "2021 COMPANIES/Small-Cap/Edelweiss Financial Services Ltd.",
          "2021 COMPANIES/Mid-Cap/EPL Ltd.",
          "2021 COMPANIES/Large-Cap/Apollo Tyres Ltd.",
          "2021 COMPANIES/Small-Cap/Aster DM Healthcare Ltd.",
          "2021 COMPANIES/Mid-Cap/EID Parry (India) Ltd.",
          "2021 COMPANIES/Small-Cap/Canara Bank",
          "2021 COMPANIES/Large-Cap/Dr. Reddy's Laboratories Ltd.",
          "2021 COMPANIES/Mid-Cap/Dr. Reddy's Laboratories Ltd.",
          "2021 COMPANIES/Small-Cap/Dr. Reddy's Laboratories Ltd.",
          "2021 COMPANIES/Large-Cap/Finolex Cables Ltd.",
          "2021 COMPANIES/Mid-Cap/DCB Bank Ltd.",
          "2021 COMPANIES/Mid-Cap/Godfrey Phillips India Ltd.",
          "2021 COMPANIES/Large-Cap/Godfrey Phillips India Ltd.",
          "2021 COMPANIES/Small-Cap/Godrej Agrovet Ltd.",
          "2021 COMPANIES/Mid-Cap/Godrej Agrovet Ltd.",
          "2021 COMPANIES/Large-Cap/Godrej Agrovet Ltd.",
          "2021 COMPANIES/Small-Cap/Godrej Consumer Products Ltd.",
          "2021 COMPANIES/Mid-Cap/Godrej Consumer Products Ltd.",
          "2021 COMPANIES/Large-Cap/Godrej Consumer Products Ltd.",
          "2021 COMPANIES/Small-Cap/Godrej Industries Ltd.",
          "2021 COMPANIES/Mid-Cap/Godrej Industries Ltd.",
          "2021 COMPANIES/Large-Cap/Godrej Industries Ltd.",
          "2021 COMPANIES/Small-Cap/Gokul Agro Resources Ltd.",
          "2021 COMPANIES/Mid-Cap/Gokul Agro Resources Ltd.",
          "2021 COMPANIES/Large-Cap/Gokul Agro Resources Ltd.",
          "2021 COMPANIES/Small-Cap/Graphite India Ltd.",
          "2021 COMPANIES/Mid-Cap/Graphite India Ltd.",
          "2021 COMPANIES/Large-Cap/Graphite India Ltd.",
          "2021 COMPANIES/Small-Cap/Grasim Industries Ltd.",
          "2021 COMPANIES/Mid-Cap/Grasim Industries Ltd.",
          "2021 COMPANIES/Large-Cap/Grasim Industries Ltd.",
          "2021 COMPANIES/Small-Cap/Great Eastern Shipping Company Ltd.",
          "2021 COMPANIES/Mid-Cap/Great Eastern Shipping Company Ltd.",
          "2021 COMPANIES/Large-Cap/Great Eastern Shipping Company Ltd.",
          "2021 COMPANIES/Small-Cap/Gujarat Alkalies & Chemicals Ltd.",
          "2021 COMPANIES/Mid-Cap/Gujarat Alkalies & Chemicals Ltd.",
          "2021 COMPANIES/Large-Cap/Gujarat Alkalies & Chemicals Ltd.",
          "2021 COMPANIES/Small-Cap/Gujarat Ambuja Exports Ltd.",
          "2021 COMPANIES/Mid-Cap/Gujarat Ambuja Exports Ltd.",
          "2021 COMPANIES/Large-Cap/Gujarat Ambuja Exports Ltd.",
          "2021 COMPANIES/Small-Cap/Gujarat Gas Ltd.",
          "2021 COMPANIES/Mid-Cap/Gujarat Gas Ltd.",
          "2021 COMPANIES/Large-Cap/Gujarat Gas Ltd.",
          "2021 COMPANIES/Small-Cap/Gujarat Narmada Valley Fertilizers & Chemicals Ltd.",
          "2021 COMPANIES/Mid-Cap/Gujarat Narmada Valley Fertilizers & Chemicals Ltd.",
          "2021 COMPANIES/Large-Cap/Gujarat Narmada Valley Fertilizers & Chemicals Ltd.",
          "2021 COMPANIES/Small-Cap/Gujarat State Fertilizer & Chemicals Ltd.",
          "2021 COMPANIES/Mid-Cap/Gujarat State Fertilizer & Chemicals Ltd.",
          "2021 COMPANIES/Large-Cap/Gujarat State Fertilizer & Chemicals Ltd.",
          "2021 COMPANIES/Small-Cap/Gujarat State Petronet Ltd.",
          "2021 COMPANIES/Mid-Cap/Gujarat State Petronet Ltd.",
          "2021 COMPANIES/Large-Cap/Gujarat State Petronet Ltd.",
          "2021 COMPANIES/Small-Cap/HCL Technologies Ltd.",
          "2021 COMPANIES/Mid-Cap/HCL Technologies Ltd.",
          "2021 COMPANIES/Large-Cap/HCL Technologies Ltd.",
          "2021 COMPANIES/Small-Cap/HDFC Bank Ltd.",
          "2021 COMPANIES/Mid-Cap/HDFC Bank Ltd.",
          "2021 COMPANIES/Large-Cap/HDFC Bank Ltd.",
          "2021 COMPANIES/Small-Cap/HDFC Life Insurance Company Ltd.",
          "2021 COMPANIES/Mid-Cap/HDFC Life Insurance Company Ltd.",
          "2021 COMPANIES/Large-Cap/HDFC Life Insurance Company Ltd.",
          "2021 COMPANIES/Small-Cap/HFCL Ltd.",
          "2021 COMPANIES/Mid-Cap/HFCL Ltd.",
          "2021 COMPANIES/Large-Cap/HFCL Ltd.",
          "2021 COMPANIES/Small-Cap/Hatsun Agro Products Ltd.",
          "2021 COMPANIES/Mid-Cap/Hatsun Agro Products Ltd.",
          "2021 COMPANIES/Large-Cap/Hatsun Agro Products Ltd.",
          "2021 COMPANIES/Small-Cap/Havells India Ltd.",
          "2021 COMPANIES/Mid-Cap/Havells India Ltd.",
          "2021 COMPANIES/Large-Cap/Havells India Ltd.",
          "2021 COMPANIES/Small-Cap/Heritage Foods Ltd.",
          "2021 COMPANIES/Mid-Cap/Heritage Foods Ltd.",
          "2021 COMPANIES/Large-Cap/Heritage Foods Ltd.",
          "2021 COMPANIES/Small-Cap/Hero MotoCorp Ltd.",
          "2021 COMPANIES/Mid-Cap/Hero MotoCorp Ltd.",
          "2021 COMPANIES/Large-Cap/Hero MotoCorp Ltd.",
          "2021 COMPANIES/Small-Cap/Himatsingka Seide Ltd.",
          "2021 COMPANIES/Mid-Cap/Himatsingka Seide Ltd.",
          "2021 COMPANIES/Large-Cap/Himatsingka Seide Ltd.",
          "2021 COMPANIES/Small-Cap/Hindalco Industries Ltd.",
          "2021 COMPANIES/Mid-Cap/Hindalco Industries Ltd.",
          "2021 COMPANIES/Large-Cap/Hindalco Industries Ltd.",
          "2021 COMPANIES/Small-Cap/Hinduja Global Solutions Ltd.",
          "2021 COMPANIES/Mid-Cap/Hinduja Global Solutions Ltd.",
          "2021 COMPANIES/Large-Cap/Hinduja Global Solutions Ltd.",
          "2021 COMPANIES/Small-Cap/Hindustan Aeronautics Ltd.",
          "2021 COMPANIES/Mid-Cap/Hindustan Aeronautics Ltd.",
          "2021 COMPANIES/Large-Cap/Hindustan Aeronautics Ltd.",
          "2021 COMPANIES/Small-Cap/Hindustan Construction Company Ltd.",
          "2021 COMPANIES/Mid-Cap/Hindustan Construction Company Ltd.",
          "2021 COMPANIES/Large-Cap/Hindustan Construction Company Ltd.",
          "2021 COMPANIES/Small-Cap/Hindustan Petroleum Corporation Ltd.",
          "2021 COMPANIES/Mid-Cap/Hindustan Petroleum Corporation Ltd.",
          "2021 COMPANIES/Large-Cap/Hindustan Petroleum Corporation Ltd.",
          "2021 COMPANIES/Small-Cap/Hindustan Unilever Ltd.",
          "2021 COMPANIES/Mid-Cap/Hindustan Unilever Ltd.",
          "2021 COMPANIES/Large-Cap/Hindustan Unilever Ltd.",
          "2021 COMPANIES/Small-Cap/Hindustan Zinc Ltd.",
          "2021 COMPANIES/Mid-Cap/Hindustan Zinc Ltd.",
          "2021 COMPANIES/Large-Cap/Hindustan Zinc Ltd.",
          "2021 COMPANIES/Small-Cap/Honeywell Automation India Ltd.",
          "2021 COMPANIES/Mid-Cap/Honeywell Automation India Ltd.",
          "2021 COMPANIES/Large-Cap/Honeywell Automation India Ltd.",
          "2021 COMPANIES/Small-Cap/Housing Development Finance Corporation Ltd.",
          "2021 COMPANIES/Mid-Cap/Housing Development Finance Corporation Ltd.",
          "2021 COMPANIES/Large-Cap/Housing Development Finance Corporation Ltd.",
          "2021 COMPANIES/Small-Cap/Housing and Urban Development Corporation Ltd.",
          "2021 COMPANIES/Mid-Cap/Housing and Urban Development Corporation Ltd.",
          "2021 COMPANIES/Large-Cap/Housing and Urban Development Corporation Ltd.",
          "2021 COMPANIES/Small-Cap/Huhtamaki India Ltd.",
          "2021 COMPANIES/Mid-Cap/Huhtamaki India Ltd.",
          "2021 COMPANIES/Large-Cap/Huhtamaki India Ltd.",
          "2021 COMPANIES/Small-Cap/ICICI Bank Ltd.",
          "2021 COMPANIES/Mid-Cap/ICICI Bank Ltd.",
          "2021 COMPANIES/Large-Cap/ICICI Bank Ltd.",
          "2021 COMPANIES/Small-Cap/ICICI Lombard General Insurance Company Ltd.",
          "2021 COMPANIES/Mid-Cap/ICICI Lombard General Insurance Company Ltd.",
          "2021 COMPANIES/Large-Cap/ICICI Lombard General Insurance Company Ltd.",
          "2021 COMPANIES/Small-Cap/ICICI Prudential Life Insurance Company Ltd.",
          "2021 COMPANIES/Mid-Cap/ICICI Prudential Life Insurance Company Ltd.",
          "2021 COMPANIES/Large-Cap/ICICI Prudential Life Insurance Company Ltd.",
          "2021 COMPANIES/Small-Cap/IDBI Bank Ltd.",
          "2021 COMPANIES/Mid-Cap/IDBI Bank Ltd.",
          "2021 COMPANIES/Large-Cap/IDBI Bank Ltd.",
          "2021 COMPANIES/Small-Cap/IDFC First Bank Ltd.",
          "2021 COMPANIES/Mid-Cap/IDFC First Bank Ltd.",
          "2021 COMPANIES/Large-Cap/IDFC First Bank Ltd.",
          "2021 COMPANIES/Small-Cap/IFB Industries Ltd.",
          "2021 COMPANIES/Mid-Cap/IFB Industries Ltd.",
          "2021 COMPANIES/Large-Cap/IFB Industries Ltd.",
          "2021 COMPANIES/Small-Cap/IFCI Ltd.",
          "2021 COMPANIES/Mid-Cap/IFCI Ltd.",
          "2021 COMPANIES/Large-Cap/IFCI Ltd.",
          "2021 COMPANIES/Small-Cap/IIFL Finance Ltd.",
          "2021 COMPANIES/Mid-Cap/IIFL Finance Ltd.",
          "2021 COMPANIES/Large-Cap/IIFL Finance Ltd.",
          "2021 COMPANIES/Small-Cap/IRB Infrastructure Developers Ltd.",
          "2021 COMPANIES/Mid-Cap/IRB Infrastructure Developers Ltd.",
          "2021 COMPANIES/Large-Cap/IRB Infrastructure Developers Ltd.",
          "2021 COMPANIES/Small-Cap/ISGEC Heavy Engineering Ltd.",
          "2021 COMPANIES/Mid-Cap/ISGEC Heavy Engineering Ltd.",
          "2021 COMPANIES/Large-Cap/ISGEC Heavy Engineering Ltd.",
          "2021 COMPANIES/Small-Cap/ITC Ltd.",
          "2021 COMPANIES/Mid-Cap/ITC Ltd.",
          "2021 COMPANIES/Large-Cap/ITC Ltd.",
          "2021 COMPANIES/Small-Cap/ITD Cementation India Ltd.",
          "2021 COMPANIES/Mid-Cap/ITD Cementation India Ltd.",
          "2021 COMPANIES/Large-Cap/ITD Cementation India Ltd.",
          "2021 COMPANIES/Small-Cap/India Cements Ltd.",
          "2021 COMPANIES/Mid-Cap/India Cements Ltd.",
          "2021 COMPANIES/Large-Cap/India Cements Ltd.",
          "2021 COMPANIES/Small-Cap/India Glycols Ltd.",
          "2021 COMPANIES/Mid-Cap/India Glycols Ltd.",
          "2021 COMPANIES/Large-Cap/India Glycols Ltd.",
          "2021 COMPANIES/Small-Cap/Indiabulls Housing Finance Ltd.",
          "2021 COMPANIES/Mid-Cap/Indiabulls Housing Finance Ltd.",
          "2021 COMPANIES/Large-Cap/Indiabulls Housing Finance Ltd.",
          "2021 COMPANIES/Small-Cap/Indian Bank",
          "2021 COMPANIES/Mid-Cap/Indian Bank",
          "2021 COMPANIES/Large-Cap/Indian Bank",
          "2021 COMPANIES/Small-Cap/Indian Oil Corporation Ltd.",
          "2021 COMPANIES/Mid-Cap/Indian Oil Corporation Ltd.",
          "2021 COMPANIES/Large-Cap/Indian Oil Corporation Ltd.",
          "2021 COMPANIES/Small-Cap/Indian Overseas Bank",
          "2021 COMPANIES/Mid-Cap/Indian Overseas Bank",
          "2021 COMPANIES/Large-Cap/Indian Overseas Bank",
          "2021 COMPANIES/Small-Cap/Indraprastha Gas Ltd.",
          "2021 COMPANIES/Mid-Cap/Indraprastha Gas Ltd.",
          "2021 COMPANIES/Large-Cap/Indraprastha Gas Ltd.",
          "2021 COMPANIES/Small-Cap/Indus Towers Ltd.",
          "2021 COMPANIES/Mid-Cap/Indus Towers Ltd.",
          "2021 COMPANIES/Large-Cap/Indus Towers Ltd.",
          "2021 COMPANIES/Small-Cap/IndusInd Bank Ltd.",
          "2021 COMPANIES/Mid-Cap/IndusInd Bank Ltd.",
          "2021 COMPANIES/Large-Cap/IndusInd Bank Ltd.",
          "2021 COMPANIES/Small-Cap/Infosys Ltd.",
          "2021 COMPANIES/Mid-Cap/Infosys Ltd.",
          "2021 COMPANIES/Large-Cap/Infosys Ltd.",
          "2021 COMPANIES/Small-Cap/InterGlobe Aviation Ltd.",
          "2021 COMPANIES/Mid-Cap/InterGlobe Aviation Ltd.",
          "2021 COMPANIES/Large-Cap/InterGlobe Aviation Ltd.",
          "2021 COMPANIES/Small-Cap/Ipca Laboratories Ltd.",
          "2021 COMPANIES/Mid-Cap/Ipca Laboratories Ltd.",
          "2021 COMPANIES/Large-Cap/Ipca Laboratories Ltd.",
          "2021 COMPANIES/Small-Cap/J Kumar Infraprojects Ltd.",
          "2021 COMPANIES/Mid-Cap/J Kumar Infraprojects Ltd.",
          "2021 COMPANIES/Large-Cap/J Kumar Infraprojects Ltd.",
          "2021 COMPANIES/Small-Cap/JK Cement Ltd.",
          "2021 COMPANIES/Mid-Cap/JK Cement Ltd.",
          "2021 COMPANIES/Large-Cap/JK Cement Ltd.",
          "2021 COMPANIES/Small-Cap/JK Lakshmi Cement Ltd.",
          "2021 COMPANIES/Mid-Cap/JK Lakshmi Cement Ltd.",
          "2021 COMPANIES/Large-Cap/JK Lakshmi Cement Ltd.",
          "2021 COMPANIES/Small-Cap/JK Paper Ltd.",
          "2021 COMPANIES/Mid-Cap/JK Paper Ltd.",
          "2021 COMPANIES/Large-Cap/JK Paper Ltd.",
          "2021 COMPANIES/Small-Cap/JK Tyre & Industries Ltd.",
          "2021 COMPANIES/Mid-Cap/JK Tyre & Industries Ltd.",
          "2021 COMPANIES/Large-Cap/JK Tyre & Industries Ltd.",
          "2021 COMPANIES/Small-Cap/JM Financial Ltd.",
          "2021 COMPANIES/Mid-Cap/JM Financial Ltd.",
          "2021 COMPANIES/Large-Cap/JM Financial Ltd.",
          "2021 COMPANIES/Small-Cap/JMC Projects (India) Ltd.",
          "2021 COMPANIES/Mid-Cap/JMC Projects (India) Ltd.",
          "2021 COMPANIES/Large-Cap/JMC Projects (India) Ltd.",
          "2021 COMPANIES/Small-Cap/JSW Energy Ltd.",
          "2021 COMPANIES/Mid-Cap/JSW Energy Ltd.",
          "2021 COMPANIES/Large-Cap/JSW Energy Ltd.",
          "2021 COMPANIES/Small-Cap/JSW Steel Ltd.",
          "2021 COMPANIES/Mid-Cap/JSW Steel Ltd.",
          "2021 COMPANIES/Large-Cap/JSW Steel Ltd.",
          "2021 COMPANIES/Small-Cap/Jai Balaji Industries Ltd.",
          "2021 COMPANIES/Mid-Cap/Jai Balaji Industries Ltd.",
          "2021 COMPANIES/Large-Cap/Jai Balaji Industries Ltd.",
          "2021 COMPANIES/Small-Cap/Jain Irrigation Systems Ltd.",
          "2021 COMPANIES/Mid-Cap/Jain Irrigation Systems Ltd.",
          "2021 COMPANIES/Large-Cap/Jain Irrigation Systems Ltd.",
          "2021 COMPANIES/Small-Cap/Jaiprakash Associates Ltd.",
          "2021 COMPANIES/Mid-Cap/Jaiprakash Associates Ltd.",
          "2021 COMPANIES/Large-Cap/Jaiprakash Associates Ltd.",
          "2021 COMPANIES/Small-Cap/Jaiprakash Power Ventures Ltd.",
          "2021 COMPANIES/Mid-Cap/Jaiprakash Power Ventures Ltd.",
          "2021 COMPANIES/Large-Cap/Jaiprakash Power Ventures Ltd.",
          "2021 COMPANIES/Small-Cap/Jammu & Kashmir Bank Ltd.",
          "2021 COMPANIES/Mid-Cap/Jammu & Kashmir Bank Ltd.",
          "2021 COMPANIES/Large-Cap/Jammu & Kashmir Bank Ltd.",
          "2021 COMPANIES/Small-Cap/Jayaswal Neco Industries Ltd.",
          "2021 COMPANIES/Mid-Cap/Jayaswal Neco Industries Ltd.",
          "2021 COMPANIES/Large-Cap/Jayaswal Neco Industries Ltd.",
          "2021 COMPANIES/Small-Cap/Jindal Poly Films Ltd.",
          "2021 COMPANIES/Mid-Cap/Jindal Poly Films Ltd.",
          "2021 COMPANIES/Large-Cap/Jindal Poly Films Ltd.",
          "2021 COMPANIES/Small-Cap/Jindal Saw Ltd.",
          "2021 COMPANIES/Mid-Cap/Jindal Saw Ltd.",
          "2021 COMPANIES/Large-Cap/Jindal Saw Ltd.",
          "2021 COMPANIES/Small-Cap/Jindal Stainless (Hisar) Ltd.",
          "2021 COMPANIES/Mid-Cap/Jindal Stainless (Hisar) Ltd.",
          "2021 COMPANIES/Large-Cap/Jindal Stainless (Hisar) Ltd.",
          "2021 COMPANIES/Small-Cap/Jindal Stainless Ltd.",
          "2021 COMPANIES/Mid-Cap/Jindal Stainless Ltd.",
          "2021 COMPANIES/Large-Cap/Jindal Stainless Ltd.",
          "2021 COMPANIES/Small-Cap/Jindal Steel & Power Ltd.",
          "2021 COMPANIES/Mid-Cap/Jindal Steel & Power Ltd.",
          "2021 COMPANIES/Large-Cap/Jindal Steel & Power Ltd.",
          "2021 COMPANIES/Small-Cap/Jubilant Foodworks Ltd.",
          "2021 COMPANIES/Mid-Cap/Jubilant Foodworks Ltd.",
          "2021 COMPANIES/Large-Cap/Jubilant Foodworks Ltd.",
          "2021 COMPANIES/Small-Cap/Jubilant Pharmova Ltd.",
          "2021 COMPANIES/Mid-Cap/Jubilant Pharmova Ltd.",
          "2021 COMPANIES/Large-Cap/Jubilant Pharmova Ltd.",
          "2021 COMPANIES/Small-Cap/KEC International Ltd.",
          "2021 COMPANIES/Mid-Cap/KEC International Ltd.",
          "2021 COMPANIES/Large-Cap/KEC International Ltd.",
          "2021 COMPANIES/Small-Cap/KEI Industries Ltd.",
          "2021 COMPANIES/Mid-Cap/KEI Industries Ltd.",
          "2021 COMPANIES/Large-Cap/KEI Industries Ltd.",
          "2021 COMPANIES/Small-Cap/KNR Constructions Ltd.",
          "2021 COMPANIES/Mid-Cap/KNR Constructions Ltd.",
          "2021 COMPANIES/Large-Cap/KNR Constructions Ltd.",
          "2021 COMPANIES/Small-Cap/KPR Mill Ltd.",
          "2021 COMPANIES/Mid-Cap/KPR Mill Ltd.",
          "2021 COMPANIES/Large-Cap/KPR Mill Ltd.",
          "2021 COMPANIES/Small-Cap/KRBL Ltd.",
          "2021 COMPANIES/Mid-Cap/KRBL Ltd.",
          "2021 COMPANIES/Large-Cap/KRBL Ltd.",
          "2021 COMPANIES/Small-Cap/Kajaria Ceramics Ltd.",
          "2021 COMPANIES/Mid-Cap/Kajaria Ceramics Ltd.",
          "2021 COMPANIES/Large-Cap/Kajaria Ceramics Ltd.",
          "2021 COMPANIES/Small-Cap/Kalpataru Power Transmissions Ltd.",
          "2021 COMPANIES/Mid-Cap/Kalpataru Power Transmissions Ltd.",
          "2021 COMPANIES/Large-Cap/Kalpataru Power Transmissions Ltd.",
          "2021 COMPANIES/Small-Cap/Kama Holdings Ltd.",
          "2021 COMPANIES/Mid-Cap/Kama Holdings Ltd.",
          "2021 COMPANIES/Large-Cap/Kama Holdings Ltd.",
          "2021 COMPANIES/Small-Cap/Kansai Nerolac Paints Ltd.",
          "2021 COMPANIES/Mid-Cap/Kansai Nerolac Paints Ltd.",
          "2021 COMPANIES/Large-Cap/Kansai Nerolac Paints Ltd.",
          "2021 COMPANIES/Small-Cap/Karnataka Bank Ltd.",
          "2021 COMPANIES/Mid-Cap/Karnataka Bank Ltd.",
          "2021 COMPANIES/Large-Cap/Karnataka Bank Ltd.",
          "2021 COMPANIES/Small-Cap/Karur Vysya Bank Ltd.",
          "2021 COMPANIES/Mid-Cap/Karur Vysya Bank Ltd.",
          "2021 COMPANIES/Large-Cap/Karur Vysya Bank Ltd.",
          "2021 COMPANIES/Small-Cap/Kesoram Industries Ltd.",
          "2021 COMPANIES/Mid-Cap/Kesoram Industries Ltd.",
          "2021 COMPANIES/Large-Cap/Kesoram Industries Ltd.",
          "2021 COMPANIES/Small-Cap/Kirloskar Brothers Ltd.",
          "2021 COMPANIES/Mid-Cap/Kirloskar Brothers Ltd.",
          "2021 COMPANIES/Large-Cap/Kirloskar Brothers Ltd.",
          "2021 COMPANIES/Small-Cap/Kirloskar Oil Engines Ltd.",
          "2021 COMPANIES/Mid-Cap/Kirloskar Oil Engines Ltd.",
          "2021 COMPANIES/Large-Cap/Kirloskar Oil Engines Ltd.",
          "2021 COMPANIES/Small-Cap/Kotak Mahindra Bank Ltd.",
          "2021 COMPANIES/Mid-Cap/Kotak Mahindra Bank Ltd.",
          "2021 COMPANIES/Large-Cap/Kotak Mahindra Bank Ltd.",
          "2021 COMPANIES/Small-Cap/Kothari Products Ltd.",
          "2021 COMPANIES/Mid-Cap/Kothari Products Ltd.",
          "2021 COMPANIES/Large-Cap/Kothari Products Ltd.",
          "2021 COMPANIES/Small-Cap/L&T Finance Holdings Ltd.",
          "2021 COMPANIES/Mid-Cap/L&T Finance Holdings Ltd.",
          "2021 COMPANIES/Large-Cap/L&T Finance Holdings Ltd.",
          "2021 COMPANIES/Small-Cap/L&T Technology Services Ltd.",
          "2021 COMPANIES/Mid-Cap/L&T Technology Services Ltd.",
          "2021 COMPANIES/Large-Cap/L&T Technology Services Ltd.",
          "2021 COMPANIES/Small-Cap/LIC Housing Finance Ltd.",
          "2021 COMPANIES/Mid-Cap/LIC Housing Finance Ltd.",
          "2021 COMPANIES/Large-Cap/LIC Housing Finance Ltd.",
          "2021 COMPANIES/Small-Cap/LT Foods Ltd.",
          "2021 COMPANIES/Mid-Cap/LT Foods Ltd.",
          "2021 COMPANIES/Large-Cap/LT Foods Ltd.",
          "2021 COMPANIES/Small-Cap/Larsen & Toubro Infotech Ltd.",
          "2021 COMPANIES/Mid-Cap/Larsen & Toubro Infotech Ltd.",
          "2021 COMPANIES/Large-Cap/Larsen & Toubro Infotech Ltd.",
          "2021 COMPANIES/Small-Cap/Larsen & Toubro Ltd.",
          "2021 COMPANIES/Mid-Cap/Larsen & Toubro Ltd.",
          "2021 COMPANIES/Large-Cap/Larsen & Toubro Ltd.",
          "2021 COMPANIES/Small-Cap/Laurus Labs Ltd.",
          "2021 COMPANIES/Mid-Cap/Laurus Labs Ltd.",
          "2021 COMPANIES/Large-Cap/Laurus Labs Ltd.",
          "2021 COMPANIES/Small-Cap/Lupin Ltd.",
          "2021 COMPANIES/Mid-Cap/Lupin Ltd.",
          "2021 COMPANIES/Large-Cap/Lupin Ltd.",
          "2021 COMPANIES/Small-Cap/MMTC Ltd.",
          "2021 COMPANIES/Mid-Cap/MMTC Ltd.",
          "2021 COMPANIES/Large-Cap/MMTC Ltd.",
          "2021 COMPANIES/Small-Cap/MRF Ltd.",
          "2021 COMPANIES/Mid-Cap/MRF Ltd.",
          "2021 COMPANIES/Large-Cap/MRF Ltd.",
          "2021 COMPANIES/Small-Cap/Mahanagar Gas Ltd.",
          "2021 COMPANIES/Mid-Cap/Mahanagar Gas Ltd.",
          "2021 COMPANIES/Large-Cap/Mahanagar Gas Ltd.",
          "2021 COMPANIES/Small-Cap/Maharashtra Seamless Ltd.",
          "2021 COMPANIES/Mid-Cap/Maharashtra Seamless Ltd.",
          "2021 COMPANIES/Large-Cap/Maharashtra Seamless Ltd.",
          "2021 COMPANIES/Small-Cap/Mahindra & Mahindra Financial Services Ltd.",
          "2021 COMPANIES/Mid-Cap/Mahindra & Mahindra Financial Services Ltd.",
          "2021 COMPANIES/Large-Cap/Mahindra & Mahindra Financial Services Ltd.",
          "2021 COMPANIES/Small-Cap/Mahindra & Mahindra Ltd.",
          "2021 COMPANIES/Mid-Cap/Mahindra & Mahindra Ltd.",
          "2021 COMPANIES/Large-Cap/Mahindra & Mahindra Ltd.",
          "2021 COMPANIES/Small-Cap/Mahindra CIE Automotive Ltd.",
          "2021 COMPANIES/Mid-Cap/Mahindra CIE Automotive Ltd.",
          "2021 COMPANIES/Large-Cap/Mahindra CIE Automotive Ltd.",
          "2021 COMPANIES/Small-Cap/Mahindra Logistics Ltd.",
          "2021 COMPANIES/Mid-Cap/Mahindra Logistics Ltd.",
          "2021 COMPANIES/Large-Cap/Mahindra Logistics Ltd.",
          "2021 COMPANIES/Small-Cap/Manappuram Finance Ltd.",
          "2021 COMPANIES/Mid-Cap/Manappuram Finance Ltd.",
          "2021 COMPANIES/Large-Cap/Manappuram Finance Ltd.",
          "2021 COMPANIES/Small-Cap/Mangalore Chemicals & Fertilizers Ltd.",
          "2021 COMPANIES/Mid-Cap/Mangalore Chemicals & Fertilizers Ltd.",
          "2021 COMPANIES/Large-Cap/Mangalore Chemicals & Fertilizers Ltd.",
          "2021 COMPANIES/Small-Cap/Mangalore Refinery And Petrochemicals Ltd.",
          "2021 COMPANIES/Mid-Cap/Mangalore Refinery And Petrochemicals Ltd.",
          "2021 COMPANIES/Large-Cap/Mangalore Refinery And Petrochemicals Ltd.",
          "2021 COMPANIES/Small-Cap/Marico Ltd.",
          "2021 COMPANIES/Mid-Cap/Marico Ltd.",
          "2021 COMPANIES/Large-Cap/Marico Ltd.",
          "2021 COMPANIES/Small-Cap/Maruti Suzuki India Ltd.",
          "2021 COMPANIES/Mid-Cap/Maruti Suzuki India Ltd.",
          "2021 COMPANIES/Large-Cap/Maruti Suzuki India Ltd.",
          "2021 COMPANIES/Small-Cap/Max Financial Services Ltd.",
          "2021 COMPANIES/Mid-Cap/Max Financial Services Ltd.",
          "2021 COMPANIES/Large-Cap/Max Financial Services Ltd.",
          "2021 COMPANIES/Small-Cap/MindTree Ltd.",
          "2021 COMPANIES/Mid-Cap/MindTree Ltd.",
          "2021 COMPANIES/Large-Cap/MindTree Ltd.",
          "2021 COMPANIES/Small-Cap/Minda Corporation Ltd.",
          "2021 COMPANIES/Mid-Cap/Minda Corporation Ltd.",
          "2021 COMPANIES/Large-Cap/Minda Corporation Ltd.",
          "2021 COMPANIES/Small-Cap/Minda Industries Ltd.",
          "2021 COMPANIES/Mid-Cap/Minda Industries Ltd.",
          "2021 COMPANIES/Large-Cap/Minda Industries Ltd.",
          "2021 COMPANIES/Small-Cap/Motherson Sumi Systems Ltd.",
          "2021 COMPANIES/Mid-Cap/Motherson Sumi Systems Ltd.",
          "2021 COMPANIES/Large-Cap/Motherson Sumi Systems Ltd.",
          "2021 COMPANIES/Small-Cap/Motilal Oswal Financial Services Ltd.",
          "2021 COMPANIES/Mid-Cap/Motilal Oswal Financial Services Ltd.",
          "2021 COMPANIES/Large-Cap/Motilal Oswal Financial Services Ltd.",
          "2021 COMPANIES/Small-Cap/MphasiS Ltd.",
          "2021 COMPANIES/Mid-Cap/MphasiS Ltd.",
          "2021 COMPANIES/Large-Cap/MphasiS Ltd.",
          "2021 COMPANIES/Small-Cap/Mukand Ltd.",
          "2021 COMPANIES/Mid-Cap/Mukand Ltd.",
          "2021 COMPANIES/Large-Cap/Mukand Ltd.",
          "2021 COMPANIES/Small-Cap/Muthoot Finance Ltd.",
          "2021 COMPANIES/Mid-Cap/Muthoot Finance Ltd.",
          "2021 COMPANIES/Large-Cap/Muthoot Finance Ltd.",
          "2021 COMPANIES/Small-Cap/NBCC (India) Ltd.",
          "2021 COMPANIES/Mid-Cap/NBCC (India) Ltd.",
          "2021 COMPANIES/Large-Cap/NBCC (India) Ltd.",
          "2021 COMPANIES/Small-Cap/NCC Ltd.",
          "2021 COMPANIES/Mid-Cap/NCC Ltd.",
          "2021 COMPANIES/Large-Cap/NCC Ltd.",
          "2021 COMPANIES/Small-Cap/NHPC Ltd.",
          "2021 COMPANIES/Mid-Cap/NHPC Ltd.",
          "2021 COMPANIES/Large-Cap/NHPC Ltd.",
          "2021 COMPANIES/Small-Cap/NLC India Ltd.",
          "2021 COMPANIES/Mid-Cap/NLC India Ltd.",
          "2021 COMPANIES/Large-Cap/NLC India Ltd.",
          "2021 COMPANIES/Small-Cap/NMDC Ltd.",
          "2021 COMPANIES/Mid-Cap/NMDC Ltd.",
          "2021 COMPANIES/Large-Cap/NMDC Ltd.",
          "2021 COMPANIES/Small-Cap/NTPC Ltd.",
          "2021 COMPANIES/Mid-Cap/NTPC Ltd.",
          "2021 COMPANIES/Large-Cap/NTPC Ltd.",
          "2021 COMPANIES/Small-Cap/Narayana Hrudayalaya Ltd.",
          "2021 COMPANIES/Mid-Cap/Narayana Hrudayalaya Ltd.",
          "2021 COMPANIES/Large-Cap/Narayana Hrudayalaya Ltd.",
          "2021 COMPANIES/Small-Cap/National Aluminium Company Ltd.",
          "2021 COMPANIES/Mid-Cap/National Aluminium Company Ltd.",
          "2021 COMPANIES/Large-Cap/National Aluminium Company Ltd.",
          "2021 COMPANIES/Small-Cap/National Fertilizers Ltd.",
          "2021 COMPANIES/Mid-Cap/National Fertilizers Ltd.",
          "2021 COMPANIES/Large-Cap/National Fertilizers Ltd.",
          "2021 COMPANIES/Small-Cap/Nava Bharat Ventures Ltd.",
          "2021 COMPANIES/Mid-Cap/Nava Bharat Ventures Ltd.",
          "2021 COMPANIES/Large-Cap/Nava Bharat Ventures Ltd.",
          "2021 COMPANIES/Small-Cap/Nestle India Ltd.",
          "2021 COMPANIES/Mid-Cap/Nestle India Ltd.",
          "2021 COMPANIES/Large-Cap/Nestle India Ltd.",
          "2021 COMPANIES/Small-Cap/Nilkamal Ltd.",
          "2021 COMPANIES/Mid-Cap/Nilkamal Ltd.",
          "2021 COMPANIES/Large-Cap/Nilkamal Ltd.",
          "2021 COMPANIES/Small-Cap/Oil And Natural Gas Corporation Ltd.",
          "2021 COMPANIES/Mid-Cap/Oil And Natural Gas Corporation Ltd.",
          "2021 COMPANIES/Large-Cap/Oil And Natural Gas Corporation Ltd.",
          "2021 COMPANIES/Small-Cap/Oil India Ltd.",
          "2021 COMPANIES/Mid-Cap/Oil India Ltd.",
          "2021 COMPANIES/Large-Cap/Oil India Ltd.",
          "2021 COMPANIES/Small-Cap/Oracle Financial Services Software Ltd.",
          "2021 COMPANIES/Mid-Cap/Oracle Financial Services Software Ltd.",
          "2021 COMPANIES/Large-Cap/Oracle Financial Services Software Ltd.",
          "2021 COMPANIES/Small-Cap/Orient Cement Ltd.",
          "2021 COMPANIES/Mid-Cap/Orient Cement Ltd.",
          "2021 COMPANIES/Large-Cap/Orient Cement Ltd.",
          "2021 COMPANIES/Small-Cap/PC Jeweller Ltd.",
          "2021 COMPANIES/Mid-Cap/PC Jeweller Ltd.",
          "2021 COMPANIES/Large-Cap/PC Jeweller Ltd.",
          "2021 COMPANIES/Small-Cap/PDS Multinational Fashions Ltd.",
          "2021 COMPANIES/Mid-Cap/PDS Multinational Fashions Ltd.",
          "2021 COMPANIES/Large-Cap/PDS Multinational Fashions Ltd.",
          "2021 COMPANIES/Small-Cap/PI Industries Ltd.",
          "2021 COMPANIES/Mid-Cap/PI Industries Ltd.",
          "2021 COMPANIES/Large-Cap/PI Industries Ltd.",
          "2021 COMPANIES/Small-Cap/PNB Housing Finance Ltd.",
          "2021 COMPANIES/Mid-Cap/PNB Housing Finance Ltd.",
          "2021 COMPANIES/Large-Cap/PNB Housing Finance Ltd.",
          "2021 COMPANIES/Small-Cap/PNC Infratech Ltd.",
          "2021 COMPANIES/Mid-Cap/PNC Infratech Ltd.",
          "2021 COMPANIES/Large-Cap/PNC Infratech Ltd.",
          "2021 COMPANIES/Small-Cap/PTC India Ltd.",
          "2021 COMPANIES/Mid-Cap/PTC India Ltd.",
          "2021 COMPANIES/Large-Cap/PTC India Ltd.",
          "2021 COMPANIES/Small-Cap/Page Industries Ltd.",
          "2021 COMPANIES/Mid-Cap/Page Industries Ltd.",
          "2021 COMPANIES/Large-Cap/Page Industries Ltd.",
          "2021 COMPANIES/Small-Cap/Patel Engineering Ltd.",
          "2021 COMPANIES/Mid-Cap/Patel Engineering Ltd.",
          "2021 COMPANIES/Large-Cap/Patel Engineering Ltd.",
          "2021 COMPANIES/Small-Cap/Paul Merchants Ltd.",
          "2021 COMPANIES/Mid-Cap/Paul Merchants Ltd.",
          "2021 COMPANIES/Large-Cap/Paul Merchants Ltd.",
          "2021 COMPANIES/Small-Cap/Persistent Systems Ltd.",
          "2021 COMPANIES/Mid-Cap/Persistent Systems Ltd.",
          "2021 COMPANIES/Large-Cap/Persistent Systems Ltd.",
          "2021 COMPANIES/Small-Cap/Petronet LNG Ltd.",
          "2021 COMPANIES/Mid-Cap/Petronet LNG Ltd.",
          "2021 COMPANIES/Large-Cap/Petronet LNG Ltd.",
          "2021 COMPANIES/Small-Cap/Pfizer Ltd.",
          "2021 COMPANIES/Mid-Cap/Pfizer Ltd.",
          "2021 COMPANIES/Large-Cap/Pfizer Ltd.",
          "2021 COMPANIES/Small-Cap/Phillips Carbon Black Ltd.",
          "2021 COMPANIES/Mid-Cap/Phillips Carbon Black Ltd.",
          "2021 COMPANIES/Large-Cap/Phillips Carbon Black Ltd.",
          "2021 COMPANIES/Small-Cap/Pidilite Industries Ltd.",
          "2021 COMPANIES/Mid-Cap/Pidilite Industries Ltd.",
          "2021 COMPANIES/Large-Cap/Pidilite Industries Ltd.",
          "2021 COMPANIES/Small-Cap/Piramal Enterprises Ltd.",
          "2021 COMPANIES/Mid-Cap/Piramal Enterprises Ltd.",
          "2021 COMPANIES/Large-Cap/Piramal Enterprises Ltd.",
          "2021 COMPANIES/Small-Cap/Polyplex Corporation Ltd.",
          "2021 COMPANIES/Mid-Cap/Polyplex Corporation Ltd.",
          "2021 COMPANIES/Large-Cap/Polyplex Corporation Ltd.",
          "2021 COMPANIES/Small-Cap/Poonawalla Fincorp Ltd.",
          "2021 COMPANIES/Mid-Cap/Poonawalla Fincorp Ltd.",
          "2021 COMPANIES/Large-Cap/Poonawalla Fincorp Ltd.",
          "2021 COMPANIES/Small-Cap/Power Finance Corporation Ltd.",
          "2021 COMPANIES/Mid-Cap/Power Finance Corporation Ltd.",
          "2021 COMPANIES/Large-Cap/Power Finance Corporation Ltd.",
          "2021 COMPANIES/Small-Cap/Power Grid Corporation of India Ltd.",
          "2021 COMPANIES/Mid-Cap/Power Grid Corporation of India Ltd.",
          "2021 COMPANIES/Large-Cap/Power Grid Corporation of India Ltd.",
          "2021 COMPANIES/Small-Cap/Prakash Industries Ltd.",
          "2021 COMPANIES/Mid-Cap/Prakash Industries Ltd.",
          "2021 COMPANIES/Large-Cap/Prakash Industries Ltd.",
          "2021 COMPANIES/Small-Cap/Prestige Estates Projects Ltd.",
          "2021 COMPANIES/Mid-Cap/Prestige Estates Projects Ltd.",
          "2021 COMPANIES/Large-Cap/Prestige Estates Projects Ltd.",
          "2021 COMPANIES/Small-Cap/Prime Focus Ltd.",
          "2021 COMPANIES/Mid-Cap/Prime Focus Ltd.",
          "2021 COMPANIES/Large-Cap/Prime Focus Ltd.",
          "2021 COMPANIES/Small-Cap/Prism Johnson Ltd.",
          "2021 COMPANIES/Mid-Cap/Prism Johnson Ltd.",
          "2021 COMPANIES/Large-Cap/Prism Johnson Ltd.",
          "2021 COMPANIES/Small-Cap/Procter & Gamble Hygiene & Healthcare Ltd.",
          "2021 COMPANIES/Mid-Cap/Procter & Gamble Hygiene & Healthcare Ltd.",
          "2021 COMPANIES/Large-Cap/Procter & Gamble Hygiene & Healthcare Ltd.",
          "2021 COMPANIES/Small-Cap/Punjab & Sind Bank",
          "2021 COMPANIES/Mid-Cap/Punjab & Sind Bank",
          "2021 COMPANIES/Large-Cap/Punjab & Sind Bank",
          "2021 COMPANIES/Small-Cap/Punjab National Bank",
          "2021 COMPANIES/Mid-Cap/Punjab National Bank",
          "2021 COMPANIES/Large-Cap/Punjab National Bank",
          "2021 COMPANIES/Small-Cap/Quess Corp Ltd.",
          "2021 COMPANIES/Mid-Cap/Quess Corp Ltd.",
          "2021 COMPANIES/Large-Cap/Quess Corp Ltd.",
          "2021 COMPANIES/Small-Cap/RBL Bank Ltd.",
          "2021 COMPANIES/Mid-Cap/RBL Bank Ltd.",
          "2021 COMPANIES/Large-Cap/RBL Bank Ltd.",
          "2021 COMPANIES/Small-Cap/REC Ltd.",
          "2021 COMPANIES/Mid-Cap/REC Ltd.",
          "2021 COMPANIES/Large-Cap/REC Ltd.",
          "2021 COMPANIES/Small-Cap/RSWM Ltd.",
          "2021 COMPANIES/Mid-Cap/RSWM Ltd.",
          "2021 COMPANIES/Large-Cap/RSWM Ltd.",
          "2021 COMPANIES/Small-Cap/Rain Industries Ltd.",
          "2021 COMPANIES/Mid-Cap/Rain Industries Ltd.",
          "2021 COMPANIES/Large-Cap/Rain Industries Ltd.",
          "2021 COMPANIES/Small-Cap/Rajesh Exports Ltd.",
          "2021 COMPANIES/Mid-Cap/Rajesh Exports Ltd.",
          "2021 COMPANIES/Large-Cap/Rajesh Exports Ltd.",
          "2021 COMPANIES/Small-Cap/Rane Holdings Ltd.",
          "2021 COMPANIES/Mid-Cap/Rane Holdings Ltd.",
          "2021 COMPANIES/Large-Cap/Rane Holdings Ltd.",
          "2021 COMPANIES/Small-Cap/Rashtriya Chemicals & Fertilizers Ltd.",
          "2021 COMPANIES/Mid-Cap/Rashtriya Chemicals & Fertilizers Ltd.",
          "2021 COMPANIES/Large-Cap/Rashtriya Chemicals & Fertilizers Ltd.",
          "2021 COMPANIES/Small-Cap/Raymond Ltd.",
          "2021 COMPANIES/Mid-Cap/Raymond Ltd.",
          "2021 COMPANIES/Large-Cap/Raymond Ltd.",
          "2021 COMPANIES/Small-Cap/Redington (India) Ltd.",
          "2021 COMPANIES/Mid-Cap/Redington (India) Ltd.",
          "2021 COMPANIES/Large-Cap/Redington (India) Ltd.",
          "2021 COMPANIES/Small-Cap/Reliance Capital Ltd.",
          "2021 COMPANIES/Mid-Cap/Reliance Capital Ltd.",
          "2021 COMPANIES/Large-Cap/Reliance Capital Ltd.",
          "2021 COMPANIES/Small-Cap/Reliance Industries Ltd.",
          "2021 COMPANIES/Mid-Cap/Reliance Industries Ltd.",
          "2021 COMPANIES/Large-Cap/Reliance Industries Ltd.",
          "2021 COMPANIES/Small-Cap/Reliance Infrastructure Ltd.",
          "2021 COMPANIES/Mid-Cap/Reliance Infrastructure Ltd.",
          "2021 COMPANIES/Large-Cap/Reliance Infrastructure Ltd.",
          "2021 COMPANIES/Small-Cap/Reliance Power Ltd.",
          "2021 COMPANIES/Mid-Cap/Reliance Power Ltd.",
          "2021 COMPANIES/Large-Cap/Reliance Power Ltd.",
          "2021 COMPANIES/Small-Cap/Religare Enterprises Ltd.",
          "2021 COMPANIES/Mid-Cap/Religare Enterprises Ltd.",
          "2021 COMPANIES/Large-Cap/Religare Enterprises Ltd.",
          "2021 COMPANIES/Small-Cap/SBI Life Insurance Company Ltd.",
          "2021 COMPANIES/Mid-Cap/SBI Life Insurance Company Ltd.",
          "2021 COMPANIES/Large-Cap/SBI Life Insurance Company Ltd.",
          "2021 COMPANIES/Small-Cap/SIS Ltd.",
          "2021 COMPANIES/Mid-Cap/SIS Ltd.",
          "2021 COMPANIES/Large-Cap/SIS Ltd.",
          "2021 COMPANIES/Small-Cap/SJVN Ltd.",
          "2021 COMPANIES/Mid-Cap/SJVN Ltd.",
          "2021 COMPANIES/Large-Cap/SJVN Ltd.",
          "2021 COMPANIES/Small-Cap/SKF India Ltd.",
          "2021 COMPANIES/Mid-Cap/SKF India Ltd.",
          "2021 COMPANIES/Large-Cap/SKF India Ltd.",
          "2021 COMPANIES/Small-Cap/SREI Infrastructure Finance Ltd.",
          "2021 COMPANIES/Mid-Cap/SREI Infrastructure Finance Ltd.",
          "2021 COMPANIES/Large-Cap/SREI Infrastructure Finance Ltd.",
          "2021 COMPANIES/Small-Cap/SRF Ltd.",
          "2021 COMPANIES/Mid-Cap/SRF Ltd.",
          "2021 COMPANIES/Large-Cap/SRF Ltd.",
          "2021 COMPANIES/Small-Cap/Sadbhav Engineering Ltd.",
          "2021 COMPANIES/Mid-Cap/Sadbhav Engineering Ltd.",
          "2021 COMPANIES/Large-Cap/Sadbhav Engineering Ltd.",
          "2021 COMPANIES/Small-Cap/Sanofi India Ltd.",
          "2021 COMPANIES/Mid-Cap/Sanofi India Ltd.",
          "2021 COMPANIES/Large-Cap/Sanofi India Ltd.",
          "2021 COMPANIES/Small-Cap/Shankara Building Products Ltd.",
          "2021 COMPANIES/Mid-Cap/Shankara Building Products Ltd.",
          "2021 COMPANIES/Large-Cap/Shankara Building Products Ltd.",
          "2021 COMPANIES/Small-Cap/Shipping Corporation of India Ltd.",
          "2021 COMPANIES/Mid-Cap/Shipping Corporation of India Ltd.",
          "2021 COMPANIES/Large-Cap/Shipping Corporation of India Ltd.",
          "2021 COMPANIES/Small-Cap/Shree Cements Ltd.",
          "2021 COMPANIES/Mid-Cap/Shree Cements Ltd.",
          "2021 COMPANIES/Large-Cap/Shree Cements Ltd.",
          "2021 COMPANIES/Small-Cap/Shree Renuka Sugars Ltd.",
          "2021 COMPANIES/Mid-Cap/Shree Renuka Sugars Ltd.",
          "2021 COMPANIES/Large-Cap/Shree Renuka Sugars Ltd.",
          "2021 COMPANIES/Small-Cap/Shriram City Union Finance Ltd.",
          "2021 COMPANIES/Mid-Cap/Shriram City Union Finance Ltd.",
          "2021 COMPANIES/Large-Cap/Shriram City Union Finance Ltd.",
          "2021 COMPANIES/Small-Cap/Shriram Transport Finance Company Ltd.",
          "2021 COMPANIES/Mid-Cap/Shriram Transport Finance Company Ltd.",
          "2021 COMPANIES/Large-Cap/Shriram Transport Finance Company Ltd.",
          "2021 COMPANIES/Small-Cap/Siemens Ltd.",
          "2021 COMPANIES/Mid-Cap/Siemens Ltd.",
          "2021 COMPANIES/Large-Cap/Siemens Ltd.",
          "2021 COMPANIES/Small-Cap/Simplex Infrastructures Ltd.",
          "2021 COMPANIES/Mid-Cap/Simplex Infrastructures Ltd.",
          "2021 COMPANIES/Large-Cap/Simplex Infrastructures Ltd.",
          "2021 COMPANIES/Small-Cap/Sobha Ltd.",
          "2021 COMPANIES/Mid-Cap/Sobha Ltd.",
          "2021 COMPANIES/Large-Cap/Sobha Ltd.",
          "2021 COMPANIES/Small-Cap/Sonata Software Ltd.",
          "2021 COMPANIES/Mid-Cap/Sonata Software Ltd.",
          "2021 COMPANIES/Large-Cap/Sonata Software Ltd.",
          "2021 COMPANIES/Small-Cap/South Indian Bank Ltd.",
          "2021 COMPANIES/Mid-Cap/South Indian Bank Ltd.",
          "2021 COMPANIES/Large-Cap/South Indian Bank Ltd.",
          "2021 COMPANIES/Small-Cap/Spicejet Ltd.",
          "2021 COMPANIES/Mid-Cap/Spicejet Ltd.",
          "2021 COMPANIES/Large-Cap/Spicejet Ltd.",
          "2021 COMPANIES/Small-Cap/State Bank of India",
          "2021 COMPANIES/Mid-Cap/State Bank of India",
          "2021 COMPANIES/Large-Cap/State Bank of India",
          "2021 COMPANIES/Small-Cap/Steel Authority of India (SAIL) Ltd.",
          "2021 COMPANIES/Mid-Cap/Steel Authority of India (SAIL) Ltd.",
          "2021 COMPANIES/Large-Cap/Steel Authority of India (SAIL) Ltd.",
          "2021 COMPANIES/Small-Cap/Sterlite Technologies Ltd.",
          "2021 COMPANIES/Mid-Cap/Sterlite Technologies Ltd.",
          "2021 COMPANIES/Large-Cap/Sterlite Technologies Ltd.",
          "2021 COMPANIES/Small-Cap/Strides Pharma Science Ltd.",
          "2021 COMPANIES/Mid-Cap/Strides Pharma Science Ltd.",
          "2021 COMPANIES/Large-Cap/Strides Pharma Science Ltd.",
          "2021 COMPANIES/Small-Cap/Sun Pharmaceutical Industries Ltd.",
          "2021 COMPANIES/Mid-Cap/Sun Pharmaceutical Industries Ltd.",
          "2021 COMPANIES/Large-Cap/Sun Pharmaceutical Industries Ltd.",
          "2021 COMPANIES/Small-Cap/Sun TV Network Ltd.",
          "2021 COMPANIES/Mid-Cap/Sun TV Network Ltd.",
          "2021 COMPANIES/Large-Cap/Sun TV Network Ltd.",
          "2021 COMPANIES/Small-Cap/Sundaram Clayton Ltd.",
          "2021 COMPANIES/Mid-Cap/Sundaram Clayton Ltd.",
          "2021 COMPANIES/Large-Cap/Sundaram Clayton Ltd.",
          "2021 COMPANIES/Small-Cap/Sundaram Finance Ltd.",
          "2021 COMPANIES/Mid-Cap/Sundaram Finance Ltd.",
          "2021 COMPANIES/Large-Cap/Sundaram Finance Ltd.",
          "2021 COMPANIES/Small-Cap/Sundram Fasteners Ltd.",
          "2021 COMPANIES/Mid-Cap/Sundram Fasteners Ltd.",
          "2021 COMPANIES/Large-Cap/Sundram Fasteners Ltd.",
          "2021 COMPANIES/Small-Cap/Supreme Industries Ltd.",
          "2021 COMPANIES/Mid-Cap/Supreme Industries Ltd.",
          "2021 COMPANIES/Large-Cap/Supreme Industries Ltd.",
          "2021 COMPANIES/Small-Cap/Supreme Petrochem Ltd.",
          "2021 COMPANIES/Mid-Cap/Supreme Petrochem Ltd.",
          "2021 COMPANIES/Large-Cap/Supreme Petrochem Ltd.",
          "2021 COMPANIES/Small-Cap/Surya Roshni Ltd.",
          "2021 COMPANIES/Mid-Cap/Surya Roshni Ltd.",
          "2021 COMPANIES/Large-Cap/Surya Roshni Ltd.",
          "2021 COMPANIES/Small-Cap/Suzlon Energy Ltd.",
          "2021 COMPANIES/Mid-Cap/Suzlon Energy Ltd.",
          "2021 COMPANIES/Large-Cap/Suzlon Energy Ltd.",
          "2021 COMPANIES/Small-Cap/TVS Motor Company Ltd.",
          "2021 COMPANIES/Mid-Cap/TVS Motor Company Ltd.",
          "2021 COMPANIES/Large-Cap/TVS Motor Company Ltd.",
          "2021 COMPANIES/Small-Cap/Tamil Nadu Newsprint And Papers Ltd.",
          "2021 COMPANIES/Mid-Cap/Tamil Nadu Newsprint And Papers Ltd.",
          "2021 COMPANIES/Large-Cap/Tamil Nadu Newsprint And Papers Ltd.",
          "2021 COMPANIES/Small-Cap/Tata Chemicals Ltd.",
          "2021 COMPANIES/Mid-Cap/Tata Chemicals Ltd.",
          "2021 COMPANIES/Large-Cap/Tata Chemicals Ltd.",
          "2021 COMPANIES/Small-Cap/Tata Communications Ltd.",
          "2021 COMPANIES/Mid-Cap/Tata Communications Ltd.",
          "2021 COMPANIES/Large-Cap/Tata Communications Ltd.",
          "2021 COMPANIES/Small-Cap/Tata Consultancy Services Ltd.",
          "2021 COMPANIES/Mid-Cap/Tata Consultancy Services Ltd.",
          "2021 COMPANIES/Large-Cap/Tata Consultancy Services Ltd.",
          "2021 COMPANIES/Small-Cap/Tata Consumer Products Ltd.",
          "2021 COMPANIES/Mid-Cap/Tata Consumer Products Ltd.",
          "2021 COMPANIES/Large-Cap/Tata Consumer Products Ltd.",
          "2021 COMPANIES/Small-Cap/Tata Motors Ltd.",
          "2021 COMPANIES/Mid-Cap/Tata Motors Ltd.",
          "2021 COMPANIES/Large-Cap/Tata Motors Ltd.",
          "2021 COMPANIES/Small-Cap/Tata Power Company Ltd.",
          "2021 COMPANIES/Mid-Cap/Tata Power Company Ltd.",
          "2021 COMPANIES/Large-Cap/Tata Power Company Ltd.",
          "2021 COMPANIES/Small-Cap/Tata Steel BSL Ltd.",
          "2021 COMPANIES/Mid-Cap/Tata Steel BSL Ltd.",
          "2021 COMPANIES/Large-Cap/Tata Steel BSL Ltd.",
          "2021 COMPANIES/Small-Cap/Tata Steel Ltd.",
          "2021 COMPANIES/Mid-Cap/Tata Steel Ltd.",
          "2021 COMPANIES/Large-Cap/Tata Steel Ltd.",
          "2021 COMPANIES/Small-Cap/TeamLease Services Ltd.",
          "2021 COMPANIES/Mid-Cap/TeamLease Services Ltd.",
          "2021 COMPANIES/Large-Cap/TeamLease Services Ltd.",
          "2021 COMPANIES/Small-Cap/Tech Mahindra Ltd.",
          "2021 COMPANIES/Mid-Cap/Tech Mahindra Ltd.",
          "2021 COMPANIES/Large-Cap/Tech Mahindra Ltd.",
          "2021 COMPANIES/Small-Cap/The Fertilisers and Chemicals Travancore Ltd.",
          "2021 COMPANIES/Mid-Cap/The Fertilisers and Chemicals Travancore Ltd.",
          "2021 COMPANIES/Large-Cap/The Fertilisers and Chemicals Travancore Ltd.",
          "2021 COMPANIES/Small-Cap/The New India Assurance Company Ltd.",
          "2021 COMPANIES/Mid-Cap/The New India Assurance Company Ltd.",
          "2021 COMPANIES/Large-Cap/The New India Assurance Company Ltd.",
          "2021 COMPANIES/Small-Cap/The Ramco Cements Ltd.",
          "2021 COMPANIES/Mid-Cap/The Ramco Cements Ltd.",
          "2021 COMPANIES/Large-Cap/The Ramco Cements Ltd.",
          "2021 COMPANIES/Small-Cap/Thermax Ltd.",
          "2021 COMPANIES/Mid-Cap/Thermax Ltd.",
          "2021 COMPANIES/Large-Cap/Thermax Ltd.",
          "2021 COMPANIES/Small-Cap/Time Technoplast Ltd.",
          "2021 COMPANIES/Mid-Cap/Time Technoplast Ltd.",
          "2021 COMPANIES/Large-Cap/Time Technoplast Ltd.",
          "2021 COMPANIES/Small-Cap/Titan Company Ltd.",
          "2021 COMPANIES/Mid-Cap/Titan Company Ltd.",
          "2021 COMPANIES/Large-Cap/Titan Company Ltd.",
          "2021 COMPANIES/Small-Cap/Torrent Pharmaceuticals Ltd.",
          "2021 COMPANIES/Mid-Cap/Torrent Pharmaceuticals Ltd.",
          "2021 COMPANIES/Large-Cap/Torrent Pharmaceuticals Ltd.",
          "2021 COMPANIES/Small-Cap/Torrent Power Ltd.",
          "2021 COMPANIES/Mid-Cap/Torrent Power Ltd.",
          "2021 COMPANIES/Large-Cap/Torrent Power Ltd.",
          "2021 COMPANIES/Small-Cap/Transport Corporation of India Ltd.",
          "2021 COMPANIES/Mid-Cap/Transport Corporation of India Ltd.",
          "2021 COMPANIES/Large-Cap/Transport Corporation of India Ltd.",
          "2021 COMPANIES/Small-Cap/Trent Ltd.",
          "2021 COMPANIES/Mid-Cap/Trent Ltd.",
          "2021 COMPANIES/Large-Cap/Trent Ltd.",
          "2021 COMPANIES/Small-Cap/Trident Ltd.",
          "2021 COMPANIES/Mid-Cap/Trident Ltd.",
          "2021 COMPANIES/Large-Cap/Trident Ltd.",
          "2021 COMPANIES/Small-Cap/Triveni Engineering & Industries Ltd.",
          "2021 COMPANIES/Mid-Cap/Triveni Engineering & Industries Ltd.",
          "2021 COMPANIES/Large-Cap/Triveni Engineering & Industries Ltd.",
          "2021 COMPANIES/Small-Cap/Tube Investments of India Ltd.",
          "2021 COMPANIES/Mid-Cap/Tube Investments of India Ltd.",
          "2021 COMPANIES/Large-Cap/Tube Investments of India Ltd.",
          "2021 COMPANIES/Small-Cap/UCO Bank",
          "2021 COMPANIES/Mid-Cap/UCO Bank",
          "2021 COMPANIES/Large-Cap/UCO Bank",
          "2021 COMPANIES/Small-Cap/UPL Ltd.",
          "2021 COMPANIES/Mid-Cap/UPL Ltd.",
          "2021 COMPANIES/Large-Cap/UPL Ltd.",
          "2021 COMPANIES/Small-Cap/Uflex Ltd.",
          "2021 COMPANIES/Mid-Cap/Uflex Ltd.",
          "2021 COMPANIES/Large-Cap/Uflex Ltd.",
          "2021 COMPANIES/Small-Cap/UltraTech Cement Ltd.",
          "2021 COMPANIES/Mid-Cap/UltraTech Cement Ltd.",
          "2021 COMPANIES/Large-Cap/UltraTech Cement Ltd.",
          "2021 COMPANIES/Small-Cap/Union Bank of India",
          "2021 COMPANIES/Mid-Cap/Union Bank of India",
          "2021 COMPANIES/Large-Cap/Union Bank of India",
          "2021 COMPANIES/Small-Cap/United Breweries Ltd.",
          "2021 COMPANIES/Mid-Cap/United Breweries Ltd.",
          "2021 COMPANIES/Large-Cap/United Breweries Ltd.",
          "2021 COMPANIES/Small-Cap/United Spirits Ltd.",
          "2021 COMPANIES/Mid-Cap/United Spirits Ltd.",
          "2021 COMPANIES/Large-Cap/United Spirits Ltd.",
          "2021 COMPANIES/Small-Cap/Usha Martin Ltd.",
          "2021 COMPANIES/Mid-Cap/Usha Martin Ltd.",
          "2021 COMPANIES/Large-Cap/Usha Martin Ltd.",
          "2021 COMPANIES/Small-Cap/V-Guard Industries Ltd.",
          "2021 COMPANIES/Mid-Cap/V-Guard Industries Ltd.",
          "2021 COMPANIES/Large-Cap/V-Guard Industries Ltd.",
          "2021 COMPANIES/Small-Cap/Va Tech Wabag Ltd.",
          "2021 COMPANIES/Mid-Cap/Va Tech Wabag Ltd.",
          "2021 COMPANIES/Large-Cap/Va Tech Wabag Ltd.",
          "2021 COMPANIES/Small-Cap/Vardhman Textiles Ltd.",
          "2021 COMPANIES/Mid-Cap/Vardhman Textiles Ltd.",
          "2021 COMPANIES/Large-Cap/Vardhman Textiles Ltd.",
          "2021 COMPANIES/Small-Cap/Varun Beverages Ltd.",
          "2021 COMPANIES/Mid-Cap/Varun Beverages Ltd.",
          "2021 COMPANIES/Large-Cap/Varun Beverages Ltd.",
          "2021 COMPANIES/Small-Cap/Vedanta Ltd.",
          "2021 COMPANIES/Mid-Cap/Vedanta Ltd.",
          "2021 COMPANIES/Large-Cap/Vedanta Ltd.",
          "2021 COMPANIES/Small-Cap/Venky's (India) Ltd.",
          "2021 COMPANIES/Mid-Cap/Venky's (India) Ltd.",
          "2021 COMPANIES/Large-Cap/Venky's (India) Ltd.",
          "2021 COMPANIES/Small-Cap/Vodafone Idea Ltd.",
          "2021 COMPANIES/Mid-Cap/Vodafone Idea Ltd.",
          "2021 COMPANIES/Large-Cap/Vodafone Idea Ltd.",
          "2021 COMPANIES/Small-Cap/Voltas Ltd.",
          "2021 COMPANIES/Mid-Cap/Voltas Ltd.",
          "2021 COMPANIES/Large-Cap/Voltas Ltd.",
          "2021 COMPANIES/Small-Cap/Welspun Corp Ltd.",
          "2021 COMPANIES/Mid-Cap/Welspun Corp Ltd.",
          "2021 COMPANIES/Large-Cap/Welspun Corp Ltd.",
          "2021 COMPANIES/Small-Cap/Welspun India Ltd.",
          "2021 COMPANIES/Mid-Cap/Welspun India Ltd.",
          "2021 COMPANIES/Large-Cap/Welspun India Ltd.",
          "2021 COMPANIES/Small-Cap/Wheels India Ltd.",
          "2021 COMPANIES/Mid-Cap/Wheels India Ltd.",
          "2021 COMPANIES/Large-Cap/Wheels India Ltd.",
          "2021 COMPANIES/Small-Cap/Whirlpool of India Ltd.",
          "2021 COMPANIES/Mid-Cap/Whirlpool of India Ltd.",
          "2021 COMPANIES/Large-Cap/Whirlpool of India Ltd.",
          "2021 COMPANIES/Small-Cap/Wipro Ltd.",
          "2021 COMPANIES/Mid-Cap/Wipro Ltd.",
          "2021 COMPANIES/Large-Cap/Wipro Ltd.",
          "2021 COMPANIES/Small-Cap/Wockhardt Ltd.",
          "2021 COMPANIES/Mid-Cap/Wockhardt Ltd.",
          "2021 COMPANIES/Large-Cap/Wockhardt Ltd.",
          "2021 COMPANIES/Small-Cap/YES Bank Ltd.",
          "2021 COMPANIES/Mid-Cap/YES Bank Ltd.",
          "2021 COMPANIES/Large-Cap/YES Bank Ltd.",
          "2021 COMPANIES/Small-Cap/Zee Entertainment Enterprises Ltd.",
          "2021 COMPANIES/Mid-Cap/Zee Entertainment Enterprises Ltd.",
          "2021 COMPANIES/Large-Cap/Zee Entertainment Enterprises Ltd.",
          "2021 COMPANIES/Small-Cap/Zensar Technologies Ltd.",
          "2021 COMPANIES/Mid-Cap/Zensar Technologies Ltd.",
          "2021 COMPANIES/Large-Cap/Zensar Technologies Ltd.",
          "2021 COMPANIES/Small-Cap/Zuari Agro Chemicals Ltd.",
          "2021 COMPANIES/Mid-Cap/Zuari Agro Chemicals Ltd.",
          "2021 COMPANIES/Large-Cap/Zuari Agro Chemicals Ltd.",
          "2021 COMPANIES/Small-Cap",
          "2021 COMPANIES/Mid-Cap",
          "2021 COMPANIES/Large-Cap",
          "2021 COMPANIES"
         ],
         "labels": [
          "3M India Ltd.",
          "Bank of Baroda",
          "Bank of India",
          "Bank of Maharashtra",
          "Bank of Maharashtra",
          "Bayer Cropscience Ltd.",
          "Berger Paints (India) Ltd.",
          "Berger Paints (India) Ltd.",
          "Bharat Dynamics Ltd.",
          "Bharat Dynamics Ltd.",
          "Bharat Heavy Electricals Ltd.",
          "Bharat Petroleum Corporation Ltd.",
          "Bharti Airtel Ltd.",
          "Biocon Ltd.",
          "Biocon Ltd.",
          "Birla Corporation Ltd.",
          "Birlasoft Ltd.",
          "Blue Dart Express Ltd.",
          "Blue Dart Express Ltd.",
          "Blue Star Ltd.",
          "Blue Star Ltd.",
          "Bombay Burmah Trading Corporation Ltd.",
          "Bank of Baroda",
          "Bosch Ltd.",
          "Bandhan Bank Ltd.",
          "Balrampur Chini Mills Ltd.",
          "Aurobindo Pharma Ltd.",
          "Aurobindo Pharma Ltd.",
          "Avanti Feeds Ltd.",
          "Avanti Feeds Ltd.",
          "Avenue Supermarts Ltd.",
          "Avenue Supermarts Ltd.",
          "Avenue Supermarts Ltd.",
          "Axis Bank Ltd.",
          "Axis Bank Ltd.",
          "BASF India Ltd.",
          "BASF India Ltd.",
          "BEML Ltd.",
          "Bajaj Auto Ltd.",
          "Bajaj Auto Ltd.",
          "Bajaj Electricals Ltd.",
          "Bajaj Finance Ltd.",
          "Bajaj Finserv Ltd.",
          "Bajaj Finserv Ltd.",
          "Bajaj Hindusthan Sugar Ltd.",
          "Bajaj Hindusthan Sugar Ltd.",
          "Bajaj Hindusthan Sugar Ltd.",
          "Bandhan Bank Ltd.",
          "Aurobindo Pharma Ltd.",
          "Bosch Ltd.",
          "Britannia Industries Ltd.",
          "Container Corporation of India Ltd.",
          "Coromandel International Ltd.",
          "Crompton Greaves Consumer Electricals Ltd.",
          "Crompton Greaves Consumer Electricals Ltd.",
          "Cummins India Ltd.",
          "Cummins India Ltd.",
          "Cyient Ltd.",
          "Cyient Ltd.",
          "Deepak Fertilisers & Petrochemicals Corporation Ltd.",
          "Dish TV India Ltd.",
          "EID Parry (India) Ltd.",
          "EID Parry (India) Ltd.",
          "EPL Ltd.",
          "Electrosteel Castings Ltd.",
          "Electrotherm (India) Ltd.",
          "Emami Ltd.",
          "Federal Bank Ltd.",
          "Finolex Cables Ltd.",
          "Forbes & Company Ltd.",
          "Future Lifestyle Fashions Ltd.",
          "Gayatri Projects Ltd.",
          "Container Corporation of India Ltd.",
          "Brightcom Group Ltd.",
          "Colgate-Palmolive (India) Ltd.",
          "Cochin Shipyard Ltd.",
          "Britannia Industries Ltd.",
          "CESC Ltd.",
          "CG Power and Industrial Solutions Ltd.",
          "Cadila Healthcare Ltd.",
          "Cadila Healthcare Ltd.",
          "Cadila Healthcare Ltd.",
          "Canara Bank",
          "Castrol India Ltd.",
          "Central Bank of India",
          "Central Bank of India",
          "Century Plyboards (India) Ltd.",
          "Century Textiles & Industries Ltd.",
          "Chambal Fertilisers & Chemicals Ltd.",
          "Chambal Fertilisers & Chemicals Ltd.",
          "Cholamandalam Financial Holdings Ltd.",
          "Cholamandalam Investment & Finance Company Ltd.",
          "Cholamandalam Investment & Finance Company Ltd.",
          "Cholamandalam Investment & Finance Company Ltd.",
          "Cipla Ltd.",
          "City Union Bank Ltd.",
          "Cochin Shipyard Ltd.",
          "Coforge Ltd.",
          "Au Small Finance Bank Ltd.",
          "Brightcom Group Ltd.",
          "Atul Ltd.",
          "Adani Transmission Ltd.",
          "Aditya Birla Capital Ltd.",
          "Aditya Birla Capital Ltd.",
          "Aditya Birla Capital Ltd.",
          "Aditya Birla Fashion and Retail Ltd.",
          "Aditya Birla Fashion and Retail Ltd.",
          "Aditya Birla Fashion and Retail Ltd.",
          "Aegis Logistics Ltd.",
          "Aegis Logistics Ltd.",
          "Akzo Nobel India Ltd.",
          "Akzo Nobel India Ltd.",
          "Akzo Nobel India Ltd.",
          "Alembic Pharmaceuticals Ltd.",
          "Alembic Pharmaceuticals Ltd.",
          "Alembic Pharmaceuticals Ltd.",
          "Alkem Laboratories Ltd.",
          "Alkem Laboratories Ltd.",
          "Alkem Laboratories Ltd.",
          "Allcargo Logistics Ltd.",
          "Allcargo Logistics Ltd.",
          "Allcargo Logistics Ltd.",
          "Alok Industries Ltd.",
          "Alok Industries Ltd.",
          "Alok Industries Ltd.",
          "Amara Raja Batteries Ltd.",
          "Amara Raja Batteries Ltd.",
          "Amber Enterprises India Ltd.",
          "Adani Transmission Ltd.",
          "Amber Enterprises India Ltd.",
          "Adani Transmission Ltd.",
          "Adani Power Ltd.",
          "3M India Ltd.",
          "3M India Ltd.",
          "ABB India Ltd.",
          "ABB India Ltd.",
          "ABB India Ltd.",
          "ACC Ltd.",
          "ACC Ltd.",
          "ACC Ltd.",
          "AIA Engineering Ltd.",
          "AIA Engineering Ltd.",
          "AIA Engineering Ltd.",
          "APL Apollo Tubes Ltd.",
          "APL Apollo Tubes Ltd.",
          "APL Apollo Tubes Ltd.",
          "Aarti Industries Ltd.",
          "Aarti Industries Ltd.",
          "Aarti Industries Ltd.",
          "Abbott India Ltd.",
          "Abbott India Ltd.",
          "Abbott India Ltd.",
          "Adani Enterprises Ltd.",
          "Adani Enterprises Ltd.",
          "Adani Enterprises Ltd.",
          "Adani Ports & Special Economic Zone Ltd.",
          "Adani Ports & Special Economic Zone Ltd.",
          "Adani Ports & Special Economic Zone Ltd.",
          "Au Small Finance Bank Ltd.",
          "Adani Power Ltd.",
          "Ambuja Cements Ltd.",
          "Adani Power Ltd.",
          "Ashok Leyland Ltd.",
          "Apollo Hospitals Enterprise Ltd.",
          "Apar Industries Ltd.",
          "Ambuja Cements Ltd.",
          "Astral Ltd.",
          "Astral Ltd.",
          "Apollo Hospitals Enterprise Ltd.",
          "Arvind Ltd.",
          "Arvind Ltd.",
          "Atul Ltd.",
          "Apar Industries Ltd.",
          "Ashoka Buildcon Ltd.",
          "Ambuja Cements Ltd.",
          "Apollo Tyres Ltd.",
          "Ashoka Buildcon Ltd.",
          "Atul Ltd.",
          "Arvind Ltd.",
          "Aster DM Healthcare Ltd.",
          "Ashok Leyland Ltd.",
          "Apollo Tyres Ltd.",
          "Ashoka Buildcon Ltd.",
          "Ashok Leyland Ltd.",
          "Asian Paints Ltd.",
          "Apollo Hospitals Enterprise Ltd.",
          "Dish TV India Ltd.",
          "Dhampur Sugar Mills Ltd.",
          "Divi's Laboratories Ltd.",
          "Axis Bank Ltd.",
          "Dilip Buildcon Ltd.",
          "Dhampur Sugar Mills Ltd.",
          "Dilip Buildcon Ltd.",
          "Dabur India Ltd.",
          "Dabur India Ltd.",
          "DCB Bank Ltd.",
          "DCM Shriram Ltd.",
          "Cochin Shipyard Ltd.",
          "Coforge Ltd.",
          "Coforge Ltd.",
          "Bajaj Electricals Ltd.",
          "Coromandel International Ltd.",
          "Coromandel International Ltd.",
          "Bajaj Auto Ltd.",
          "DLF Ltd.",
          "BEML Ltd.",
          "BEML Ltd.",
          "Cummins India Ltd.",
          "Cyient Ltd.",
          "BASF India Ltd.",
          "Divi's Laboratories Ltd.",
          "DCB Bank Ltd.",
          "DCM Shriram Ltd.",
          "Crompton Greaves Consumer Electricals Ltd.",
          "Dixon Technologies (India) Ltd.",
          "Bharat Electronics Ltd.",
          "Asian Paints Ltd.",
          "Force Motors Ltd.",
          "Force Motors Ltd.",
          "Force Motors Ltd.",
          "Fortis Healthcare Ltd.",
          "Fortis Healthcare Ltd.",
          "Future Lifestyle Fashions Ltd.",
          "GAIL (India) Ltd.",
          "Firstsource Solutions Ltd.",
          "GE T&D India Ltd.",
          "GHCL Ltd.",
          "Galaxy Surfactants Ltd.",
          "Au Small Finance Bank Ltd.",
          "Gayatri Projects Ltd.",
          "General Insurance Corporation of India",
          "General Insurance Corporation of India",
          "GlaxoSmithKline Pharmaceuticals Ltd.",
          "GHCL Ltd.",
          "Dixon Technologies (India) Ltd.",
          "Firstsource Solutions Ltd.",
          "Finolex Cables Ltd.",
          "EPL Ltd.",
          "Bajaj Electricals Ltd.",
          "Edelweiss Financial Services Ltd.",
          "Eicher Motors Ltd.",
          "Electrosteel Castings Ltd.",
          "Aster DM Healthcare Ltd.",
          "Avanti Feeds Ltd.",
          "Finolex Industries Ltd.",
          "Emami Ltd.",
          "Endurance Technologies Ltd.",
          "Endurance Technologies Ltd.",
          "Endurance Technologies Ltd.",
          "Escorts Ltd.",
          "Exide Industries Ltd.",
          "Astral Ltd.",
          "Federal Bank Ltd.",
          "Emami Ltd.",
          "Edelweiss Financial Services Ltd.",
          "Godfrey Phillips India Ltd.",
          "Coal India Ltd.",
          "Central Bank of India",
          "Bharat Dynamics Ltd.",
          "Ceat Ltd.",
          "Bharat Heavy Electricals Ltd.",
          "Castrol India Ltd.",
          "Aegis Logistics Ltd.",
          "Bayer Cropscience Ltd.",
          "Carborundum Universal Ltd.",
          "Carborundum Universal Ltd.",
          "Canara Bank",
          "Amber Enterprises India Ltd.",
          "Balrampur Chini Mills Ltd.",
          "Bandhan Bank Ltd.",
          "Bank of Baroda",
          "Amara Raja Batteries Ltd.",
          "Birla Corporation Ltd.",
          "Coal India Ltd.",
          "Bank of India",
          "Bayer Cropscience Ltd.",
          "Brightcom Group Ltd.",
          "Bosch Ltd.",
          "Bank of India",
          "Bank of Maharashtra",
          "Bombay Burmah Trading Corporation Ltd.",
          "Bombay Burmah Trading Corporation Ltd.",
          "Blue Star Ltd.",
          "Apar Industries Ltd.",
          "Bharat Forge Ltd.",
          "Balkrishna Industries Ltd.",
          "Carborundum Universal Ltd.",
          "Blue Dart Express Ltd.",
          "Asahi India Glass Ltd.",
          "Bajaj Finserv Ltd.",
          "Cholamandalam Financial Holdings Ltd.",
          "Bharat Forge Ltd.",
          "Asahi India Glass Ltd.",
          "Chennai Petroleum Corporation Ltd.",
          "Cholamandalam Financial Holdings Ltd.",
          "Bajaj Finance Ltd.",
          "Chambal Fertilisers & Chemicals Ltd.",
          "Century Textiles & Industries Ltd.",
          "Bharat Electronics Ltd.",
          "Coal India Ltd.",
          "Century Plyboards (India) Ltd.",
          "Balkrishna Industries Ltd.",
          "Century Plyboards (India) Ltd.",
          "City Union Bank Ltd.",
          "City Union Bank Ltd.",
          "Balkrishna Industries Ltd.",
          "Birlasoft Ltd.",
          "Finolex Industries Ltd.",
          "Forbes & Company Ltd.",
          "GlaxoSmithKline Pharmaceuticals Ltd.",
          "Forbes & Company Ltd.",
          "Birla Corporation Ltd.",
          "Glenmark Pharmaceuticals Ltd.",
          "Glenmark Pharmaceuticals Ltd.",
          "Glenmark Pharmaceuticals Ltd.",
          "Godawari Power & Ispat Ltd.",
          "Godawari Power & Ispat Ltd.",
          "Birlasoft Ltd.",
          "Finolex Industries Ltd.",
          "Firstsource Solutions Ltd.",
          "Bharat Electronics Ltd.",
          "Biocon Ltd.",
          "Gayatri Projects Ltd.",
          "Fortis Healthcare Ltd.",
          "Galaxy Surfactants Ltd.",
          "Galaxy Surfactants Ltd.",
          "GMR Infrastructure Ltd.",
          "GMR Infrastructure Ltd.",
          "GMR Infrastructure Ltd.",
          "GHCL Ltd.",
          "General Insurance Corporation of India",
          "Bharat Heavy Electricals Ltd.",
          "GE T&D India Ltd.",
          "Bharat Forge Ltd.",
          "GE T&D India Ltd.",
          "GlaxoSmithKline Pharmaceuticals Ltd.",
          "GAIL (India) Ltd.",
          "Bharat Petroleum Corporation Ltd.",
          "GAIL (India) Ltd.",
          "Future Retail Ltd.",
          "Future Retail Ltd.",
          "Future Retail Ltd.",
          "Bharat Petroleum Corporation Ltd.",
          "Bharti Airtel Ltd.",
          "Bharti Airtel Ltd.",
          "Berger Paints (India) Ltd.",
          "Future Lifestyle Fashions Ltd.",
          "Electrotherm (India) Ltd.",
          "Federal Bank Ltd.",
          "Dilip Buildcon Ltd.",
          "Ceat Ltd.",
          "Dhampur Sugar Mills Ltd.",
          "Deepak Fertilisers & Petrochemicals Corporation Ltd.",
          "Ceat Ltd.",
          "Deepak Fertilisers & Petrochemicals Corporation Ltd.",
          "Balrampur Chini Mills Ltd.",
          "Dabur India Ltd.",
          "DLF Ltd.",
          "DLF Ltd.",
          "Castrol India Ltd.",
          "DCM Shriram Ltd.",
          "Asian Paints Ltd.",
          "Chennai Petroleum Corporation Ltd.",
          "Chennai Petroleum Corporation Ltd.",
          "Asahi India Glass Ltd.",
          "Container Corporation of India Ltd.",
          "Bajaj Finance Ltd.",
          "Cipla Ltd.",
          "Colgate-Palmolive (India) Ltd.",
          "Colgate-Palmolive (India) Ltd.",
          "Cipla Ltd.",
          "Century Textiles & Industries Ltd.",
          "Dish TV India Ltd.",
          "Divi's Laboratories Ltd.",
          "Dixon Technologies (India) Ltd.",
          "Exide Industries Ltd.",
          "Exide Industries Ltd.",
          "Escorts Ltd.",
          "Escorts Ltd.",
          "Godawari Power & Ispat Ltd.",
          "Electrotherm (India) Ltd.",
          "Britannia Industries Ltd.",
          "Electrosteel Castings Ltd.",
          "CESC Ltd.",
          "CESC Ltd.",
          "Eicher Motors Ltd.",
          "Eicher Motors Ltd.",
          "CG Power and Industrial Solutions Ltd.",
          "CG Power and Industrial Solutions Ltd.",
          "Edelweiss Financial Services Ltd.",
          "EPL Ltd.",
          "Apollo Tyres Ltd.",
          "Aster DM Healthcare Ltd.",
          "EID Parry (India) Ltd.",
          "Canara Bank",
          "Dr. Reddy's Laboratories Ltd.",
          "Dr. Reddy's Laboratories Ltd.",
          "Dr. Reddy's Laboratories Ltd.",
          "Finolex Cables Ltd.",
          "DCB Bank Ltd.",
          "Godfrey Phillips India Ltd.",
          "Godfrey Phillips India Ltd.",
          "Godrej Agrovet Ltd.",
          "Godrej Agrovet Ltd.",
          "Godrej Agrovet Ltd.",
          "Godrej Consumer Products Ltd.",
          "Godrej Consumer Products Ltd.",
          "Godrej Consumer Products Ltd.",
          "Godrej Industries Ltd.",
          "Godrej Industries Ltd.",
          "Godrej Industries Ltd.",
          "Gokul Agro Resources Ltd.",
          "Gokul Agro Resources Ltd.",
          "Gokul Agro Resources Ltd.",
          "Graphite India Ltd.",
          "Graphite India Ltd.",
          "Graphite India Ltd.",
          "Grasim Industries Ltd.",
          "Grasim Industries Ltd.",
          "Grasim Industries Ltd.",
          "Great Eastern Shipping Company Ltd.",
          "Great Eastern Shipping Company Ltd.",
          "Great Eastern Shipping Company Ltd.",
          "Gujarat Alkalies & Chemicals Ltd.",
          "Gujarat Alkalies & Chemicals Ltd.",
          "Gujarat Alkalies & Chemicals Ltd.",
          "Gujarat Ambuja Exports Ltd.",
          "Gujarat Ambuja Exports Ltd.",
          "Gujarat Ambuja Exports Ltd.",
          "Gujarat Gas Ltd.",
          "Gujarat Gas Ltd.",
          "Gujarat Gas Ltd.",
          "Gujarat Narmada Valley Fertilizers & Chemicals Ltd.",
          "Gujarat Narmada Valley Fertilizers & Chemicals Ltd.",
          "Gujarat Narmada Valley Fertilizers & Chemicals Ltd.",
          "Gujarat State Fertilizer & Chemicals Ltd.",
          "Gujarat State Fertilizer & Chemicals Ltd.",
          "Gujarat State Fertilizer & Chemicals Ltd.",
          "Gujarat State Petronet Ltd.",
          "Gujarat State Petronet Ltd.",
          "Gujarat State Petronet Ltd.",
          "HCL Technologies Ltd.",
          "HCL Technologies Ltd.",
          "HCL Technologies Ltd.",
          "HDFC Bank Ltd.",
          "HDFC Bank Ltd.",
          "HDFC Bank Ltd.",
          "HDFC Life Insurance Company Ltd.",
          "HDFC Life Insurance Company Ltd.",
          "HDFC Life Insurance Company Ltd.",
          "HFCL Ltd.",
          "HFCL Ltd.",
          "HFCL Ltd.",
          "Hatsun Agro Products Ltd.",
          "Hatsun Agro Products Ltd.",
          "Hatsun Agro Products Ltd.",
          "Havells India Ltd.",
          "Havells India Ltd.",
          "Havells India Ltd.",
          "Heritage Foods Ltd.",
          "Heritage Foods Ltd.",
          "Heritage Foods Ltd.",
          "Hero MotoCorp Ltd.",
          "Hero MotoCorp Ltd.",
          "Hero MotoCorp Ltd.",
          "Himatsingka Seide Ltd.",
          "Himatsingka Seide Ltd.",
          "Himatsingka Seide Ltd.",
          "Hindalco Industries Ltd.",
          "Hindalco Industries Ltd.",
          "Hindalco Industries Ltd.",
          "Hinduja Global Solutions Ltd.",
          "Hinduja Global Solutions Ltd.",
          "Hinduja Global Solutions Ltd.",
          "Hindustan Aeronautics Ltd.",
          "Hindustan Aeronautics Ltd.",
          "Hindustan Aeronautics Ltd.",
          "Hindustan Construction Company Ltd.",
          "Hindustan Construction Company Ltd.",
          "Hindustan Construction Company Ltd.",
          "Hindustan Petroleum Corporation Ltd.",
          "Hindustan Petroleum Corporation Ltd.",
          "Hindustan Petroleum Corporation Ltd.",
          "Hindustan Unilever Ltd.",
          "Hindustan Unilever Ltd.",
          "Hindustan Unilever Ltd.",
          "Hindustan Zinc Ltd.",
          "Hindustan Zinc Ltd.",
          "Hindustan Zinc Ltd.",
          "Honeywell Automation India Ltd.",
          "Honeywell Automation India Ltd.",
          "Honeywell Automation India Ltd.",
          "Housing Development Finance Corporation Ltd.",
          "Housing Development Finance Corporation Ltd.",
          "Housing Development Finance Corporation Ltd.",
          "Housing and Urban Development Corporation Ltd.",
          "Housing and Urban Development Corporation Ltd.",
          "Housing and Urban Development Corporation Ltd.",
          "Huhtamaki India Ltd.",
          "Huhtamaki India Ltd.",
          "Huhtamaki India Ltd.",
          "ICICI Bank Ltd.",
          "ICICI Bank Ltd.",
          "ICICI Bank Ltd.",
          "ICICI Lombard General Insurance Company Ltd.",
          "ICICI Lombard General Insurance Company Ltd.",
          "ICICI Lombard General Insurance Company Ltd.",
          "ICICI Prudential Life Insurance Company Ltd.",
          "ICICI Prudential Life Insurance Company Ltd.",
          "ICICI Prudential Life Insurance Company Ltd.",
          "IDBI Bank Ltd.",
          "IDBI Bank Ltd.",
          "IDBI Bank Ltd.",
          "IDFC First Bank Ltd.",
          "IDFC First Bank Ltd.",
          "IDFC First Bank Ltd.",
          "IFB Industries Ltd.",
          "IFB Industries Ltd.",
          "IFB Industries Ltd.",
          "IFCI Ltd.",
          "IFCI Ltd.",
          "IFCI Ltd.",
          "IIFL Finance Ltd.",
          "IIFL Finance Ltd.",
          "IIFL Finance Ltd.",
          "IRB Infrastructure Developers Ltd.",
          "IRB Infrastructure Developers Ltd.",
          "IRB Infrastructure Developers Ltd.",
          "ISGEC Heavy Engineering Ltd.",
          "ISGEC Heavy Engineering Ltd.",
          "ISGEC Heavy Engineering Ltd.",
          "ITC Ltd.",
          "ITC Ltd.",
          "ITC Ltd.",
          "ITD Cementation India Ltd.",
          "ITD Cementation India Ltd.",
          "ITD Cementation India Ltd.",
          "India Cements Ltd.",
          "India Cements Ltd.",
          "India Cements Ltd.",
          "India Glycols Ltd.",
          "India Glycols Ltd.",
          "India Glycols Ltd.",
          "Indiabulls Housing Finance Ltd.",
          "Indiabulls Housing Finance Ltd.",
          "Indiabulls Housing Finance Ltd.",
          "Indian Bank",
          "Indian Bank",
          "Indian Bank",
          "Indian Oil Corporation Ltd.",
          "Indian Oil Corporation Ltd.",
          "Indian Oil Corporation Ltd.",
          "Indian Overseas Bank",
          "Indian Overseas Bank",
          "Indian Overseas Bank",
          "Indraprastha Gas Ltd.",
          "Indraprastha Gas Ltd.",
          "Indraprastha Gas Ltd.",
          "Indus Towers Ltd.",
          "Indus Towers Ltd.",
          "Indus Towers Ltd.",
          "IndusInd Bank Ltd.",
          "IndusInd Bank Ltd.",
          "IndusInd Bank Ltd.",
          "Infosys Ltd.",
          "Infosys Ltd.",
          "Infosys Ltd.",
          "InterGlobe Aviation Ltd.",
          "InterGlobe Aviation Ltd.",
          "InterGlobe Aviation Ltd.",
          "Ipca Laboratories Ltd.",
          "Ipca Laboratories Ltd.",
          "Ipca Laboratories Ltd.",
          "J Kumar Infraprojects Ltd.",
          "J Kumar Infraprojects Ltd.",
          "J Kumar Infraprojects Ltd.",
          "JK Cement Ltd.",
          "JK Cement Ltd.",
          "JK Cement Ltd.",
          "JK Lakshmi Cement Ltd.",
          "JK Lakshmi Cement Ltd.",
          "JK Lakshmi Cement Ltd.",
          "JK Paper Ltd.",
          "JK Paper Ltd.",
          "JK Paper Ltd.",
          "JK Tyre & Industries Ltd.",
          "JK Tyre & Industries Ltd.",
          "JK Tyre & Industries Ltd.",
          "JM Financial Ltd.",
          "JM Financial Ltd.",
          "JM Financial Ltd.",
          "JMC Projects (India) Ltd.",
          "JMC Projects (India) Ltd.",
          "JMC Projects (India) Ltd.",
          "JSW Energy Ltd.",
          "JSW Energy Ltd.",
          "JSW Energy Ltd.",
          "JSW Steel Ltd.",
          "JSW Steel Ltd.",
          "JSW Steel Ltd.",
          "Jai Balaji Industries Ltd.",
          "Jai Balaji Industries Ltd.",
          "Jai Balaji Industries Ltd.",
          "Jain Irrigation Systems Ltd.",
          "Jain Irrigation Systems Ltd.",
          "Jain Irrigation Systems Ltd.",
          "Jaiprakash Associates Ltd.",
          "Jaiprakash Associates Ltd.",
          "Jaiprakash Associates Ltd.",
          "Jaiprakash Power Ventures Ltd.",
          "Jaiprakash Power Ventures Ltd.",
          "Jaiprakash Power Ventures Ltd.",
          "Jammu & Kashmir Bank Ltd.",
          "Jammu & Kashmir Bank Ltd.",
          "Jammu & Kashmir Bank Ltd.",
          "Jayaswal Neco Industries Ltd.",
          "Jayaswal Neco Industries Ltd.",
          "Jayaswal Neco Industries Ltd.",
          "Jindal Poly Films Ltd.",
          "Jindal Poly Films Ltd.",
          "Jindal Poly Films Ltd.",
          "Jindal Saw Ltd.",
          "Jindal Saw Ltd.",
          "Jindal Saw Ltd.",
          "Jindal Stainless (Hisar) Ltd.",
          "Jindal Stainless (Hisar) Ltd.",
          "Jindal Stainless (Hisar) Ltd.",
          "Jindal Stainless Ltd.",
          "Jindal Stainless Ltd.",
          "Jindal Stainless Ltd.",
          "Jindal Steel & Power Ltd.",
          "Jindal Steel & Power Ltd.",
          "Jindal Steel & Power Ltd.",
          "Jubilant Foodworks Ltd.",
          "Jubilant Foodworks Ltd.",
          "Jubilant Foodworks Ltd.",
          "Jubilant Pharmova Ltd.",
          "Jubilant Pharmova Ltd.",
          "Jubilant Pharmova Ltd.",
          "KEC International Ltd.",
          "KEC International Ltd.",
          "KEC International Ltd.",
          "KEI Industries Ltd.",
          "KEI Industries Ltd.",
          "KEI Industries Ltd.",
          "KNR Constructions Ltd.",
          "KNR Constructions Ltd.",
          "KNR Constructions Ltd.",
          "KPR Mill Ltd.",
          "KPR Mill Ltd.",
          "KPR Mill Ltd.",
          "KRBL Ltd.",
          "KRBL Ltd.",
          "KRBL Ltd.",
          "Kajaria Ceramics Ltd.",
          "Kajaria Ceramics Ltd.",
          "Kajaria Ceramics Ltd.",
          "Kalpataru Power Transmissions Ltd.",
          "Kalpataru Power Transmissions Ltd.",
          "Kalpataru Power Transmissions Ltd.",
          "Kama Holdings Ltd.",
          "Kama Holdings Ltd.",
          "Kama Holdings Ltd.",
          "Kansai Nerolac Paints Ltd.",
          "Kansai Nerolac Paints Ltd.",
          "Kansai Nerolac Paints Ltd.",
          "Karnataka Bank Ltd.",
          "Karnataka Bank Ltd.",
          "Karnataka Bank Ltd.",
          "Karur Vysya Bank Ltd.",
          "Karur Vysya Bank Ltd.",
          "Karur Vysya Bank Ltd.",
          "Kesoram Industries Ltd.",
          "Kesoram Industries Ltd.",
          "Kesoram Industries Ltd.",
          "Kirloskar Brothers Ltd.",
          "Kirloskar Brothers Ltd.",
          "Kirloskar Brothers Ltd.",
          "Kirloskar Oil Engines Ltd.",
          "Kirloskar Oil Engines Ltd.",
          "Kirloskar Oil Engines Ltd.",
          "Kotak Mahindra Bank Ltd.",
          "Kotak Mahindra Bank Ltd.",
          "Kotak Mahindra Bank Ltd.",
          "Kothari Products Ltd.",
          "Kothari Products Ltd.",
          "Kothari Products Ltd.",
          "L&T Finance Holdings Ltd.",
          "L&T Finance Holdings Ltd.",
          "L&T Finance Holdings Ltd.",
          "L&T Technology Services Ltd.",
          "L&T Technology Services Ltd.",
          "L&T Technology Services Ltd.",
          "LIC Housing Finance Ltd.",
          "LIC Housing Finance Ltd.",
          "LIC Housing Finance Ltd.",
          "LT Foods Ltd.",
          "LT Foods Ltd.",
          "LT Foods Ltd.",
          "Larsen & Toubro Infotech Ltd.",
          "Larsen & Toubro Infotech Ltd.",
          "Larsen & Toubro Infotech Ltd.",
          "Larsen & Toubro Ltd.",
          "Larsen & Toubro Ltd.",
          "Larsen & Toubro Ltd.",
          "Laurus Labs Ltd.",
          "Laurus Labs Ltd.",
          "Laurus Labs Ltd.",
          "Lupin Ltd.",
          "Lupin Ltd.",
          "Lupin Ltd.",
          "MMTC Ltd.",
          "MMTC Ltd.",
          "MMTC Ltd.",
          "MRF Ltd.",
          "MRF Ltd.",
          "MRF Ltd.",
          "Mahanagar Gas Ltd.",
          "Mahanagar Gas Ltd.",
          "Mahanagar Gas Ltd.",
          "Maharashtra Seamless Ltd.",
          "Maharashtra Seamless Ltd.",
          "Maharashtra Seamless Ltd.",
          "Mahindra & Mahindra Financial Services Ltd.",
          "Mahindra & Mahindra Financial Services Ltd.",
          "Mahindra & Mahindra Financial Services Ltd.",
          "Mahindra & Mahindra Ltd.",
          "Mahindra & Mahindra Ltd.",
          "Mahindra & Mahindra Ltd.",
          "Mahindra CIE Automotive Ltd.",
          "Mahindra CIE Automotive Ltd.",
          "Mahindra CIE Automotive Ltd.",
          "Mahindra Logistics Ltd.",
          "Mahindra Logistics Ltd.",
          "Mahindra Logistics Ltd.",
          "Manappuram Finance Ltd.",
          "Manappuram Finance Ltd.",
          "Manappuram Finance Ltd.",
          "Mangalore Chemicals & Fertilizers Ltd.",
          "Mangalore Chemicals & Fertilizers Ltd.",
          "Mangalore Chemicals & Fertilizers Ltd.",
          "Mangalore Refinery And Petrochemicals Ltd.",
          "Mangalore Refinery And Petrochemicals Ltd.",
          "Mangalore Refinery And Petrochemicals Ltd.",
          "Marico Ltd.",
          "Marico Ltd.",
          "Marico Ltd.",
          "Maruti Suzuki India Ltd.",
          "Maruti Suzuki India Ltd.",
          "Maruti Suzuki India Ltd.",
          "Max Financial Services Ltd.",
          "Max Financial Services Ltd.",
          "Max Financial Services Ltd.",
          "MindTree Ltd.",
          "MindTree Ltd.",
          "MindTree Ltd.",
          "Minda Corporation Ltd.",
          "Minda Corporation Ltd.",
          "Minda Corporation Ltd.",
          "Minda Industries Ltd.",
          "Minda Industries Ltd.",
          "Minda Industries Ltd.",
          "Motherson Sumi Systems Ltd.",
          "Motherson Sumi Systems Ltd.",
          "Motherson Sumi Systems Ltd.",
          "Motilal Oswal Financial Services Ltd.",
          "Motilal Oswal Financial Services Ltd.",
          "Motilal Oswal Financial Services Ltd.",
          "MphasiS Ltd.",
          "MphasiS Ltd.",
          "MphasiS Ltd.",
          "Mukand Ltd.",
          "Mukand Ltd.",
          "Mukand Ltd.",
          "Muthoot Finance Ltd.",
          "Muthoot Finance Ltd.",
          "Muthoot Finance Ltd.",
          "NBCC (India) Ltd.",
          "NBCC (India) Ltd.",
          "NBCC (India) Ltd.",
          "NCC Ltd.",
          "NCC Ltd.",
          "NCC Ltd.",
          "NHPC Ltd.",
          "NHPC Ltd.",
          "NHPC Ltd.",
          "NLC India Ltd.",
          "NLC India Ltd.",
          "NLC India Ltd.",
          "NMDC Ltd.",
          "NMDC Ltd.",
          "NMDC Ltd.",
          "NTPC Ltd.",
          "NTPC Ltd.",
          "NTPC Ltd.",
          "Narayana Hrudayalaya Ltd.",
          "Narayana Hrudayalaya Ltd.",
          "Narayana Hrudayalaya Ltd.",
          "National Aluminium Company Ltd.",
          "National Aluminium Company Ltd.",
          "National Aluminium Company Ltd.",
          "National Fertilizers Ltd.",
          "National Fertilizers Ltd.",
          "National Fertilizers Ltd.",
          "Nava Bharat Ventures Ltd.",
          "Nava Bharat Ventures Ltd.",
          "Nava Bharat Ventures Ltd.",
          "Nestle India Ltd.",
          "Nestle India Ltd.",
          "Nestle India Ltd.",
          "Nilkamal Ltd.",
          "Nilkamal Ltd.",
          "Nilkamal Ltd.",
          "Oil And Natural Gas Corporation Ltd.",
          "Oil And Natural Gas Corporation Ltd.",
          "Oil And Natural Gas Corporation Ltd.",
          "Oil India Ltd.",
          "Oil India Ltd.",
          "Oil India Ltd.",
          "Oracle Financial Services Software Ltd.",
          "Oracle Financial Services Software Ltd.",
          "Oracle Financial Services Software Ltd.",
          "Orient Cement Ltd.",
          "Orient Cement Ltd.",
          "Orient Cement Ltd.",
          "PC Jeweller Ltd.",
          "PC Jeweller Ltd.",
          "PC Jeweller Ltd.",
          "PDS Multinational Fashions Ltd.",
          "PDS Multinational Fashions Ltd.",
          "PDS Multinational Fashions Ltd.",
          "PI Industries Ltd.",
          "PI Industries Ltd.",
          "PI Industries Ltd.",
          "PNB Housing Finance Ltd.",
          "PNB Housing Finance Ltd.",
          "PNB Housing Finance Ltd.",
          "PNC Infratech Ltd.",
          "PNC Infratech Ltd.",
          "PNC Infratech Ltd.",
          "PTC India Ltd.",
          "PTC India Ltd.",
          "PTC India Ltd.",
          "Page Industries Ltd.",
          "Page Industries Ltd.",
          "Page Industries Ltd.",
          "Patel Engineering Ltd.",
          "Patel Engineering Ltd.",
          "Patel Engineering Ltd.",
          "Paul Merchants Ltd.",
          "Paul Merchants Ltd.",
          "Paul Merchants Ltd.",
          "Persistent Systems Ltd.",
          "Persistent Systems Ltd.",
          "Persistent Systems Ltd.",
          "Petronet LNG Ltd.",
          "Petronet LNG Ltd.",
          "Petronet LNG Ltd.",
          "Pfizer Ltd.",
          "Pfizer Ltd.",
          "Pfizer Ltd.",
          "Phillips Carbon Black Ltd.",
          "Phillips Carbon Black Ltd.",
          "Phillips Carbon Black Ltd.",
          "Pidilite Industries Ltd.",
          "Pidilite Industries Ltd.",
          "Pidilite Industries Ltd.",
          "Piramal Enterprises Ltd.",
          "Piramal Enterprises Ltd.",
          "Piramal Enterprises Ltd.",
          "Polyplex Corporation Ltd.",
          "Polyplex Corporation Ltd.",
          "Polyplex Corporation Ltd.",
          "Poonawalla Fincorp Ltd.",
          "Poonawalla Fincorp Ltd.",
          "Poonawalla Fincorp Ltd.",
          "Power Finance Corporation Ltd.",
          "Power Finance Corporation Ltd.",
          "Power Finance Corporation Ltd.",
          "Power Grid Corporation of India Ltd.",
          "Power Grid Corporation of India Ltd.",
          "Power Grid Corporation of India Ltd.",
          "Prakash Industries Ltd.",
          "Prakash Industries Ltd.",
          "Prakash Industries Ltd.",
          "Prestige Estates Projects Ltd.",
          "Prestige Estates Projects Ltd.",
          "Prestige Estates Projects Ltd.",
          "Prime Focus Ltd.",
          "Prime Focus Ltd.",
          "Prime Focus Ltd.",
          "Prism Johnson Ltd.",
          "Prism Johnson Ltd.",
          "Prism Johnson Ltd.",
          "Procter & Gamble Hygiene & Healthcare Ltd.",
          "Procter & Gamble Hygiene & Healthcare Ltd.",
          "Procter & Gamble Hygiene & Healthcare Ltd.",
          "Punjab & Sind Bank",
          "Punjab & Sind Bank",
          "Punjab & Sind Bank",
          "Punjab National Bank",
          "Punjab National Bank",
          "Punjab National Bank",
          "Quess Corp Ltd.",
          "Quess Corp Ltd.",
          "Quess Corp Ltd.",
          "RBL Bank Ltd.",
          "RBL Bank Ltd.",
          "RBL Bank Ltd.",
          "REC Ltd.",
          "REC Ltd.",
          "REC Ltd.",
          "RSWM Ltd.",
          "RSWM Ltd.",
          "RSWM Ltd.",
          "Rain Industries Ltd.",
          "Rain Industries Ltd.",
          "Rain Industries Ltd.",
          "Rajesh Exports Ltd.",
          "Rajesh Exports Ltd.",
          "Rajesh Exports Ltd.",
          "Rane Holdings Ltd.",
          "Rane Holdings Ltd.",
          "Rane Holdings Ltd.",
          "Rashtriya Chemicals & Fertilizers Ltd.",
          "Rashtriya Chemicals & Fertilizers Ltd.",
          "Rashtriya Chemicals & Fertilizers Ltd.",
          "Raymond Ltd.",
          "Raymond Ltd.",
          "Raymond Ltd.",
          "Redington (India) Ltd.",
          "Redington (India) Ltd.",
          "Redington (India) Ltd.",
          "Reliance Capital Ltd.",
          "Reliance Capital Ltd.",
          "Reliance Capital Ltd.",
          "Reliance Industries Ltd.",
          "Reliance Industries Ltd.",
          "Reliance Industries Ltd.",
          "Reliance Infrastructure Ltd.",
          "Reliance Infrastructure Ltd.",
          "Reliance Infrastructure Ltd.",
          "Reliance Power Ltd.",
          "Reliance Power Ltd.",
          "Reliance Power Ltd.",
          "Religare Enterprises Ltd.",
          "Religare Enterprises Ltd.",
          "Religare Enterprises Ltd.",
          "SBI Life Insurance Company Ltd.",
          "SBI Life Insurance Company Ltd.",
          "SBI Life Insurance Company Ltd.",
          "SIS Ltd.",
          "SIS Ltd.",
          "SIS Ltd.",
          "SJVN Ltd.",
          "SJVN Ltd.",
          "SJVN Ltd.",
          "SKF India Ltd.",
          "SKF India Ltd.",
          "SKF India Ltd.",
          "SREI Infrastructure Finance Ltd.",
          "SREI Infrastructure Finance Ltd.",
          "SREI Infrastructure Finance Ltd.",
          "SRF Ltd.",
          "SRF Ltd.",
          "SRF Ltd.",
          "Sadbhav Engineering Ltd.",
          "Sadbhav Engineering Ltd.",
          "Sadbhav Engineering Ltd.",
          "Sanofi India Ltd.",
          "Sanofi India Ltd.",
          "Sanofi India Ltd.",
          "Shankara Building Products Ltd.",
          "Shankara Building Products Ltd.",
          "Shankara Building Products Ltd.",
          "Shipping Corporation of India Ltd.",
          "Shipping Corporation of India Ltd.",
          "Shipping Corporation of India Ltd.",
          "Shree Cements Ltd.",
          "Shree Cements Ltd.",
          "Shree Cements Ltd.",
          "Shree Renuka Sugars Ltd.",
          "Shree Renuka Sugars Ltd.",
          "Shree Renuka Sugars Ltd.",
          "Shriram City Union Finance Ltd.",
          "Shriram City Union Finance Ltd.",
          "Shriram City Union Finance Ltd.",
          "Shriram Transport Finance Company Ltd.",
          "Shriram Transport Finance Company Ltd.",
          "Shriram Transport Finance Company Ltd.",
          "Siemens Ltd.",
          "Siemens Ltd.",
          "Siemens Ltd.",
          "Simplex Infrastructures Ltd.",
          "Simplex Infrastructures Ltd.",
          "Simplex Infrastructures Ltd.",
          "Sobha Ltd.",
          "Sobha Ltd.",
          "Sobha Ltd.",
          "Sonata Software Ltd.",
          "Sonata Software Ltd.",
          "Sonata Software Ltd.",
          "South Indian Bank Ltd.",
          "South Indian Bank Ltd.",
          "South Indian Bank Ltd.",
          "Spicejet Ltd.",
          "Spicejet Ltd.",
          "Spicejet Ltd.",
          "State Bank of India",
          "State Bank of India",
          "State Bank of India",
          "Steel Authority of India (SAIL) Ltd.",
          "Steel Authority of India (SAIL) Ltd.",
          "Steel Authority of India (SAIL) Ltd.",
          "Sterlite Technologies Ltd.",
          "Sterlite Technologies Ltd.",
          "Sterlite Technologies Ltd.",
          "Strides Pharma Science Ltd.",
          "Strides Pharma Science Ltd.",
          "Strides Pharma Science Ltd.",
          "Sun Pharmaceutical Industries Ltd.",
          "Sun Pharmaceutical Industries Ltd.",
          "Sun Pharmaceutical Industries Ltd.",
          "Sun TV Network Ltd.",
          "Sun TV Network Ltd.",
          "Sun TV Network Ltd.",
          "Sundaram Clayton Ltd.",
          "Sundaram Clayton Ltd.",
          "Sundaram Clayton Ltd.",
          "Sundaram Finance Ltd.",
          "Sundaram Finance Ltd.",
          "Sundaram Finance Ltd.",
          "Sundram Fasteners Ltd.",
          "Sundram Fasteners Ltd.",
          "Sundram Fasteners Ltd.",
          "Supreme Industries Ltd.",
          "Supreme Industries Ltd.",
          "Supreme Industries Ltd.",
          "Supreme Petrochem Ltd.",
          "Supreme Petrochem Ltd.",
          "Supreme Petrochem Ltd.",
          "Surya Roshni Ltd.",
          "Surya Roshni Ltd.",
          "Surya Roshni Ltd.",
          "Suzlon Energy Ltd.",
          "Suzlon Energy Ltd.",
          "Suzlon Energy Ltd.",
          "TVS Motor Company Ltd.",
          "TVS Motor Company Ltd.",
          "TVS Motor Company Ltd.",
          "Tamil Nadu Newsprint And Papers Ltd.",
          "Tamil Nadu Newsprint And Papers Ltd.",
          "Tamil Nadu Newsprint And Papers Ltd.",
          "Tata Chemicals Ltd.",
          "Tata Chemicals Ltd.",
          "Tata Chemicals Ltd.",
          "Tata Communications Ltd.",
          "Tata Communications Ltd.",
          "Tata Communications Ltd.",
          "Tata Consultancy Services Ltd.",
          "Tata Consultancy Services Ltd.",
          "Tata Consultancy Services Ltd.",
          "Tata Consumer Products Ltd.",
          "Tata Consumer Products Ltd.",
          "Tata Consumer Products Ltd.",
          "Tata Motors Ltd.",
          "Tata Motors Ltd.",
          "Tata Motors Ltd.",
          "Tata Power Company Ltd.",
          "Tata Power Company Ltd.",
          "Tata Power Company Ltd.",
          "Tata Steel BSL Ltd.",
          "Tata Steel BSL Ltd.",
          "Tata Steel BSL Ltd.",
          "Tata Steel Ltd.",
          "Tata Steel Ltd.",
          "Tata Steel Ltd.",
          "TeamLease Services Ltd.",
          "TeamLease Services Ltd.",
          "TeamLease Services Ltd.",
          "Tech Mahindra Ltd.",
          "Tech Mahindra Ltd.",
          "Tech Mahindra Ltd.",
          "The Fertilisers and Chemicals Travancore Ltd.",
          "The Fertilisers and Chemicals Travancore Ltd.",
          "The Fertilisers and Chemicals Travancore Ltd.",
          "The New India Assurance Company Ltd.",
          "The New India Assurance Company Ltd.",
          "The New India Assurance Company Ltd.",
          "The Ramco Cements Ltd.",
          "The Ramco Cements Ltd.",
          "The Ramco Cements Ltd.",
          "Thermax Ltd.",
          "Thermax Ltd.",
          "Thermax Ltd.",
          "Time Technoplast Ltd.",
          "Time Technoplast Ltd.",
          "Time Technoplast Ltd.",
          "Titan Company Ltd.",
          "Titan Company Ltd.",
          "Titan Company Ltd.",
          "Torrent Pharmaceuticals Ltd.",
          "Torrent Pharmaceuticals Ltd.",
          "Torrent Pharmaceuticals Ltd.",
          "Torrent Power Ltd.",
          "Torrent Power Ltd.",
          "Torrent Power Ltd.",
          "Transport Corporation of India Ltd.",
          "Transport Corporation of India Ltd.",
          "Transport Corporation of India Ltd.",
          "Trent Ltd.",
          "Trent Ltd.",
          "Trent Ltd.",
          "Trident Ltd.",
          "Trident Ltd.",
          "Trident Ltd.",
          "Triveni Engineering & Industries Ltd.",
          "Triveni Engineering & Industries Ltd.",
          "Triveni Engineering & Industries Ltd.",
          "Tube Investments of India Ltd.",
          "Tube Investments of India Ltd.",
          "Tube Investments of India Ltd.",
          "UCO Bank",
          "UCO Bank",
          "UCO Bank",
          "UPL Ltd.",
          "UPL Ltd.",
          "UPL Ltd.",
          "Uflex Ltd.",
          "Uflex Ltd.",
          "Uflex Ltd.",
          "UltraTech Cement Ltd.",
          "UltraTech Cement Ltd.",
          "UltraTech Cement Ltd.",
          "Union Bank of India",
          "Union Bank of India",
          "Union Bank of India",
          "United Breweries Ltd.",
          "United Breweries Ltd.",
          "United Breweries Ltd.",
          "United Spirits Ltd.",
          "United Spirits Ltd.",
          "United Spirits Ltd.",
          "Usha Martin Ltd.",
          "Usha Martin Ltd.",
          "Usha Martin Ltd.",
          "V-Guard Industries Ltd.",
          "V-Guard Industries Ltd.",
          "V-Guard Industries Ltd.",
          "Va Tech Wabag Ltd.",
          "Va Tech Wabag Ltd.",
          "Va Tech Wabag Ltd.",
          "Vardhman Textiles Ltd.",
          "Vardhman Textiles Ltd.",
          "Vardhman Textiles Ltd.",
          "Varun Beverages Ltd.",
          "Varun Beverages Ltd.",
          "Varun Beverages Ltd.",
          "Vedanta Ltd.",
          "Vedanta Ltd.",
          "Vedanta Ltd.",
          "Venky's (India) Ltd.",
          "Venky's (India) Ltd.",
          "Venky's (India) Ltd.",
          "Vodafone Idea Ltd.",
          "Vodafone Idea Ltd.",
          "Vodafone Idea Ltd.",
          "Voltas Ltd.",
          "Voltas Ltd.",
          "Voltas Ltd.",
          "Welspun Corp Ltd.",
          "Welspun Corp Ltd.",
          "Welspun Corp Ltd.",
          "Welspun India Ltd.",
          "Welspun India Ltd.",
          "Welspun India Ltd.",
          "Wheels India Ltd.",
          "Wheels India Ltd.",
          "Wheels India Ltd.",
          "Whirlpool of India Ltd.",
          "Whirlpool of India Ltd.",
          "Whirlpool of India Ltd.",
          "Wipro Ltd.",
          "Wipro Ltd.",
          "Wipro Ltd.",
          "Wockhardt Ltd.",
          "Wockhardt Ltd.",
          "Wockhardt Ltd.",
          "YES Bank Ltd.",
          "YES Bank Ltd.",
          "YES Bank Ltd.",
          "Zee Entertainment Enterprises Ltd.",
          "Zee Entertainment Enterprises Ltd.",
          "Zee Entertainment Enterprises Ltd.",
          "Zensar Technologies Ltd.",
          "Zensar Technologies Ltd.",
          "Zensar Technologies Ltd.",
          "Zuari Agro Chemicals Ltd.",
          "Zuari Agro Chemicals Ltd.",
          "Zuari Agro Chemicals Ltd.",
          "Small-Cap",
          "Mid-Cap",
          "Large-Cap",
          "2021 COMPANIES"
         ],
         "marker": {
          "colors": [
           "#636efa",
           "#EF553B",
           "#636efa",
           "#00cc96",
           "#636efa",
           "#636efa",
           "#636efa",
           "#636efa",
           "#00cc96",
           "#636efa",
           "#636efa",
           "#636efa",
           "#EF553B",
           "#636efa",
           "#EF553B",
           "#00cc96",
           "#636efa",
           "#00cc96",
           "#636efa",
           "#00cc96",
           "#636efa",
           "#636efa",
           "#636efa",
           "#636efa",
           "#636efa",
           "#636efa",
           "#636efa",
           "#EF553B",
           "#636efa",
           "#00cc96",
           "#636efa",
           "#636efa",
           "#EF553B",
           "#636efa",
           "#636efa",
           "#00cc96",
           "#636efa",
           "#636efa",
           "#636efa",
           "#EF553B",
           "#00cc96",
           "#636efa",
           "#636efa",
           "#EF553B",
           "#ab63fa",
           "#636efa",
           "#636efa",
           "#636efa",
           "#636efa",
           "#636efa",
           "#636efa",
           "#636efa",
           "#EF553B",
           "#636efa",
           "#EF553B",
           "#636efa",
           "#636efa",
           "#636efa",
           "#636efa",
           "#636efa",
           "#636efa",
           "#636efa",
           "#636efa",
           "#636efa",
           "#636efa",
           "#636efa",
           "#636efa",
           "#636efa",
           "#00cc96",
           "#636efa",
           "#ab63fa",
           "#ab63fa",
           "#636efa",
           "#636efa",
           "#636efa",
           "#636efa",
           "#EF553B",
           "#636efa",
           "#EF553B",
           "#636efa",
           "#636efa",
           "#EF553B",
           "#636efa",
           "#00cc96",
           "#00cc96",
           "#636efa",
           "#00cc96",
           "#00cc96",
           "#00cc96",
           "#636efa",
           "#636efa",
           "#636efa",
           "#636efa",
           "#EF553B",
           "#636efa",
           "#636efa",
           "#ab63fa",
           "#636efa",
           "#636efa",
           "#00cc96",
           "#EF553B",
           "#EF553B",
           "#636efa",
           "#636efa",
           "#EF553B",
           "#636efa",
           "#636efa",
           "#EF553B",
           "#00cc96",
           "#636efa",
           "#636efa",
           "#00cc96",
           "#636efa",
           "#636efa",
           "#00cc96",
           "#636efa",
           "#636efa",
           "#636efa",
           "#EF553B",
           "#636efa",
           "#00cc96",
           "#636efa",
           "#636efa",
           "#00cc96",
           "#636efa",
           "#636efa",
           "#636efa",
           "#636efa",
           "#636efa",
           "#636efa",
           "#636efa",
           "#636efa",
           "#636efa",
           "#EF553B",
           "#636efa",
           "#636efa",
           "#EF553B",
           "#636efa",
           "#636efa",
           "#EF553B",
           "#636efa",
           "#00cc96",
           "#636efa",
           "#636efa",
           "#636efa",
           "#EF553B",
           "#636efa",
           "#636efa",
           "#EF553B",
           "#636efa",
           "#636efa",
           "#EF553B",
           "#636efa",
           "#636efa",
           "#EF553B",
           "#636efa",
           "#636efa",
           "#EF553B",
           "#636efa",
           "#EF553B",
           "#636efa",
           "#636efa",
           "#636efa",
           "#636efa",
           "#636efa",
           "#636efa",
           "#636efa",
           "#EF553B",
           "#EF553B",
           "#636efa",
           "#636efa",
           "#636efa",
           "#ab63fa",
           "#636efa",
           "#EF553B",
           "#636efa",
           "#636efa",
           "#636efa",
           "#ab63fa",
           "#00cc96",
           "#636efa",
           "#00cc96",
           "#ab63fa",
           "#EF553B",
           "#636efa",
           "#636efa",
           "#ab63fa",
           "#636efa",
           "#636efa",
           "#EF553B",
           "#636efa",
           "#ab63fa",
           "#00cc96",
           "#636efa",
           "#EF553B",
           "#ab63fa",
           "#00cc96",
           "#636efa",
           "#636efa",
           "#EF553B",
           "#636efa",
           "#636efa",
           "#636efa",
           "#636efa",
           "#636efa",
           "#636efa",
           "#00cc96",
           "#EF553B",
           "#00cc96",
           "#636efa",
           "#636efa",
           "#636efa",
           "#636efa",
           "#636efa",
           "#636efa",
           "#636efa",
           "#EF553B",
           "#ab63fa",
           "#636efa",
           "#636efa",
           "#636efa",
           "#EF553B",
           "#636efa",
           "#636efa",
           "#636efa",
           "#ab63fa",
           "#636efa",
           "#636efa",
           "#EF553B",
           "#636efa",
           "#636efa",
           "#EF553B",
           "#EF553B",
           "#ab63fa",
           "#EF553B",
           "#636efa",
           "#636efa",
           "#636efa",
           "#636efa",
           "#636efa",
           "#EF553B",
           "#ab63fa",
           "#636efa",
           "#636efa",
           "#00cc96",
           "#636efa",
           "#636efa",
           "#636efa",
           "#EF553B",
           "#636efa",
           "#636efa",
           "#636efa",
           "#636efa",
           "#EF553B",
           "#00cc96",
           "#636efa",
           "#636efa",
           "#636efa",
           "#636efa",
           "#636efa",
           "#636efa",
           "#636efa",
           "#636efa",
           "#636efa",
           "#00cc96",
           "#636efa",
           "#EF553B",
           "#00cc96",
           "#00cc96",
           "#EF553B",
           "#636efa",
           "#00cc96",
           "#636efa",
           "#EF553B",
           "#636efa",
           "#EF553B",
           "#636efa",
           "#EF553B",
           "#EF553B",
           "#636efa",
           "#00cc96",
           "#636efa",
           "#636efa",
           "#636efa",
           "#EF553B",
           "#EF553B",
           "#636efa",
           "#636efa",
           "#00cc96",
           "#636efa",
           "#00cc96",
           "#636efa",
           "#636efa",
           "#636efa",
           "#636efa",
           "#636efa",
           "#636efa",
           "#636efa",
           "#EF553B",
           "#636efa",
           "#636efa",
           "#636efa",
           "#636efa",
           "#00cc96",
           "#636efa",
           "#636efa",
           "#00cc96",
           "#636efa",
           "#636efa",
           "#636efa",
           "#00cc96",
           "#636efa",
           "#636efa",
           "#00cc96",
           "#636efa",
           "#ab63fa",
           "#636efa",
           "#636efa",
           "#636efa",
           "#00cc96",
           "#636efa",
           "#636efa",
           "#636efa",
           "#636efa",
           "#636efa",
           "#00cc96",
           "#EF553B",
           "#636efa",
           "#636efa",
           "#636efa",
           "#636efa",
           "#EF553B",
           "#636efa",
           "#636efa",
           "#636efa",
           "#636efa",
           "#EF553B",
           "#636efa",
           "#636efa",
           "#636efa",
           "#636efa",
           "#ab63fa",
           "#EF553B",
           "#636efa",
           "#636efa",
           "#EF553B",
           "#636efa",
           "#ab63fa",
           "#EF553B",
           "#636efa",
           "#ab63fa",
           "#636efa",
           "#636efa",
           "#636efa",
           "#ab63fa",
           "#636efa",
           "#636efa",
           "#EF553B",
           "#636efa",
           "#636efa",
           "#636efa",
           "#636efa",
           "#ab63fa",
           "#636efa",
           "#636efa",
           "#EF553B",
           "#EF553B",
           "#636efa",
           "#EF553B",
           "#636efa",
           "#EF553B",
           "#636efa",
           "#636efa",
           "#EF553B",
           "#636efa",
           "#00cc96",
           "#636efa",
           "#EF553B",
           "#636efa",
           "#636efa",
           "#636efa",
           "#636efa",
           "#636efa",
           "#636efa",
           "#00cc96",
           "#636efa",
           "#636efa",
           "#636efa",
           "#636efa",
           "#636efa",
           "#00cc96",
           "#636efa",
           "#636efa",
           "#00cc96",
           "#636efa",
           "#EF553B",
           "#636efa",
           "#636efa",
           "#636efa",
           "#636efa",
           "#00cc96",
           "#636efa",
           "#636efa",
           "#00cc96",
           "#636efa",
           "#636efa",
           "#636efa",
           "#EF553B",
           "#636efa",
           "#636efa",
           "#EF553B",
           "#ab63fa",
           "#636efa",
           "#636efa",
           "#636efa",
           "#00cc96",
           "#636efa",
           "#636efa",
           "#636efa",
           "#EF553B",
           "#ab63fa",
           "#636efa",
           "#636efa",
           "#636efa",
           "#00cc96",
           "#636efa",
           "#ab63fa",
           "#636efa",
           "#636efa",
           "#636efa",
           "#636efa",
           "#EF553B",
           "#636efa",
           "#00cc96",
           "#636efa",
           "#ab63fa",
           "#636efa",
           "#636efa",
           "#636efa",
           "#00cc96",
           "#636efa",
           "#636efa",
           "#636efa",
           "#EF553B",
           "#636efa",
           "#636efa",
           "#EF553B",
           "#636efa",
           "#636efa",
           "#EF553B",
           "#636efa",
           "#00cc96",
           "#636efa",
           "#636efa",
           "#636efa",
           "#EF553B",
           "#636efa",
           "#636efa",
           "#EF553B",
           "#ab63fa",
           "#636efa",
           "#636efa",
           "#636efa",
           "#636efa",
           "#EF553B",
           "#ab63fa",
           "#636efa",
           "#636efa",
           "#636efa",
           "#636efa",
           "#EF553B",
           "#636efa",
           "#00cc96",
           "#636efa",
           "#636efa",
           "#636efa",
           "#EF553B",
           "#ab63fa",
           "#636efa",
           "#636efa",
           "#636efa",
           "#636efa",
           "#EF553B",
           "#636efa",
           "#636efa",
           "#EF553B",
           "#636efa",
           "#636efa",
           "#EF553B",
           "#636efa",
           "#636efa",
           "#EF553B",
           "#636efa",
           "#636efa",
           "#EF553B",
           "#636efa",
           "#00cc96",
           "#636efa",
           "#ab63fa",
           "#636efa",
           "#636efa",
           "#636efa",
           "#636efa",
           "#EF553B",
           "#636efa",
           "#636efa",
           "#EF553B",
           "#636efa",
           "#636efa",
           "#EF553B",
           "#636efa",
           "#636efa",
           "#EF553B",
           "#636efa",
           "#636efa",
           "#EF553B",
           "#636efa",
           "#00cc96",
           "#636efa",
           "#ab63fa",
           "#636efa",
           "#636efa",
           "#636efa",
           "#00cc96",
           "#636efa",
           "#636efa",
           "#00cc96",
           "#636efa",
           "#ab63fa",
           "#636efa",
           "#636efa",
           "#636efa",
           "#636efa",
           "#EF553B",
           "#ab63fa",
           "#636efa",
           "#636efa",
           "#636efa",
           "#00cc96",
           "#636efa",
           "#ab63fa",
           "#636efa",
           "#636efa",
           "#636efa",
           "#00cc96",
           "#636efa",
           "#636efa",
           "#636efa",
           "#EF553B",
           "#636efa",
           "#636efa",
           "#EF553B",
           "#636efa",
           "#636efa",
           "#EF553B",
           "#636efa",
           "#636efa",
           "#EF553B",
           "#636efa",
           "#636efa",
           "#EF553B",
           "#636efa",
           "#636efa",
           "#EF553B",
           "#636efa",
           "#636efa",
           "#EF553B",
           "#636efa",
           "#636efa",
           "#EF553B",
           "#636efa",
           "#636efa",
           "#EF553B",
           "#ab63fa",
           "#636efa",
           "#636efa",
           "#636efa",
           "#636efa",
           "#EF553B",
           "#636efa",
           "#00cc96",
           "#636efa",
           "#ab63fa",
           "#636efa",
           "#636efa",
           "#ab63fa",
           "#636efa",
           "#636efa",
           "#636efa",
           "#00cc96",
           "#636efa",
           "#ab63fa",
           "#636efa",
           "#636efa",
           "#636efa",
           "#636efa",
           "#EF553B",
           "#636efa",
           "#636efa",
           "#EF553B",
           "#ab63fa",
           "#636efa",
           "#636efa",
           "#ab63fa",
           "#636efa",
           "#636efa",
           "#ab63fa",
           "#636efa",
           "#636efa",
           "#ab63fa",
           "#636efa",
           "#636efa",
           "#ab63fa",
           "#636efa",
           "#636efa",
           "#ab63fa",
           "#636efa",
           "#636efa",
           "#ab63fa",
           "#636efa",
           "#636efa",
           "#ab63fa",
           "#636efa",
           "#636efa",
           "#636efa",
           "#00cc96",
           "#636efa",
           "#636efa",
           "#00cc96",
           "#636efa",
           "#636efa",
           "#636efa",
           "#EF553B",
           "#636efa",
           "#636efa",
           "#EF553B",
           "#636efa",
           "#00cc96",
           "#636efa",
           "#636efa",
           "#00cc96",
           "#636efa",
           "#636efa",
           "#00cc96",
           "#636efa",
           "#636efa",
           "#00cc96",
           "#636efa",
           "#636efa",
           "#00cc96",
           "#636efa",
           "#636efa",
           "#00cc96",
           "#636efa",
           "#636efa",
           "#00cc96",
           "#636efa",
           "#636efa",
           "#00cc96",
           "#636efa",
           "#636efa",
           "#00cc96",
           "#636efa",
           "#636efa",
           "#636efa",
           "#EF553B",
           "#ab63fa",
           "#636efa",
           "#636efa",
           "#ab63fa",
           "#636efa",
           "#636efa",
           "#ab63fa",
           "#636efa",
           "#636efa",
           "#ab63fa",
           "#636efa",
           "#636efa",
           "#ab63fa",
           "#636efa",
           "#636efa",
           "#636efa",
           "#636efa",
           "#EF553B",
           "#ab63fa",
           "#636efa",
           "#636efa",
           "#636efa",
           "#636efa",
           "#EF553B",
           "#636efa",
           "#636efa",
           "#EF553B",
           "#636efa",
           "#636efa",
           "#EF553B",
           "#ab63fa",
           "#636efa",
           "#636efa",
           "#636efa",
           "#636efa",
           "#EF553B",
           "#636efa",
           "#636efa",
           "#EF553B",
           "#636efa",
           "#636efa",
           "#EF553B",
           "#636efa",
           "#636efa",
           "#EF553B",
           "#636efa",
           "#00cc96",
           "#636efa",
           "#636efa",
           "#636efa",
           "#EF553B",
           "#636efa",
           "#00cc96",
           "#636efa",
           "#ab63fa",
           "#636efa",
           "#636efa",
           "#636efa",
           "#636efa",
           "#EF553B",
           "#636efa",
           "#636efa",
           "#EF553B",
           "#636efa",
           "#00cc96",
           "#636efa",
           "#636efa",
           "#00cc96",
           "#636efa",
           "#636efa",
           "#00cc96",
           "#636efa",
           "#ab63fa",
           "#636efa",
           "#636efa",
           "#636efa",
           "#00cc96",
           "#636efa",
           "#636efa",
           "#636efa",
           "#EF553B",
           "#636efa",
           "#636efa",
           "#EF553B",
           "#636efa",
           "#636efa",
           "#EF553B",
           "#636efa",
           "#636efa",
           "#EF553B",
           "#ab63fa",
           "#636efa",
           "#636efa",
           "#636efa",
           "#636efa",
           "#EF553B",
           "#636efa",
           "#636efa",
           "#EF553B",
           "#636efa",
           "#00cc96",
           "#636efa",
           "#636efa",
           "#636efa",
           "#EF553B",
           "#ab63fa",
           "#636efa",
           "#636efa",
           "#636efa",
           "#636efa",
           "#EF553B",
           "#636efa",
           "#00cc96",
           "#636efa",
           "#ab63fa",
           "#636efa",
           "#636efa",
           "#636efa",
           "#636efa",
           "#EF553B",
           "#636efa",
           "#00cc96",
           "#636efa",
           "#636efa",
           "#636efa",
           "#EF553B",
           "#636efa",
           "#636efa",
           "#EF553B",
           "#636efa",
           "#00cc96",
           "#636efa",
           "#636efa",
           "#00cc96",
           "#636efa",
           "#ab63fa",
           "#636efa",
           "#636efa",
           "#ab63fa",
           "#636efa",
           "#636efa",
           "#636efa",
           "#636efa",
           "#EF553B",
           "#ab63fa",
           "#636efa",
           "#636efa",
           "#636efa",
           "#636efa",
           "#EF553B",
           "#636efa",
           "#636efa",
           "#EF553B",
           "#636efa",
           "#636efa",
           "#EF553B",
           "#ab63fa",
           "#636efa",
           "#636efa",
           "#ab63fa",
           "#636efa",
           "#636efa",
           "#ab63fa",
           "#636efa",
           "#636efa",
           "#636efa",
           "#636efa",
           "#EF553B",
           "#636efa",
           "#00cc96",
           "#636efa",
           "#636efa",
           "#00cc96",
           "#636efa",
           "#ab63fa",
           "#636efa",
           "#636efa",
           "#636efa",
           "#636efa",
           "#EF553B",
           "#ab63fa",
           "#636efa",
           "#636efa",
           "#ab63fa",
           "#636efa",
           "#636efa",
           "#636efa",
           "#636efa",
           "#EF553B",
           "#636efa",
           "#636efa",
           "#EF553B",
           "#636efa",
           "#636efa",
           "#EF553B",
           "#ab63fa",
           "#636efa",
           "#636efa",
           "#636efa",
           "#636efa",
           "#EF553B",
           "#636efa",
           "#636efa",
           "#EF553B",
           "#636efa",
           "#00cc96",
           "#636efa",
           "#636efa",
           "#00cc96",
           "#636efa",
           "#636efa",
           "#636efa",
           "#EF553B",
           "#636efa",
           "#636efa",
           "#EF553B",
           "#ab63fa",
           "#636efa",
           "#636efa",
           "#636efa",
           "#00cc96",
           "#636efa",
           "#ab63fa",
           "#636efa",
           "#636efa",
           "#636efa",
           "#00cc96",
           "#636efa",
           "#636efa",
           "#636efa",
           "#EF553B",
           "#636efa",
           "#00cc96",
           "#636efa",
           "#636efa",
           "#636efa",
           "#EF553B",
           "#636efa",
           "#00cc96",
           "#636efa",
           "#636efa",
           "#00cc96",
           "#636efa",
           "#636efa",
           "#636efa",
           "#EF553B",
           "#ab63fa",
           "#636efa",
           "#636efa",
           "#636efa",
           "#00cc96",
           "#636efa",
           "#636efa",
           "#636efa",
           "#EF553B",
           "#ab63fa",
           "#636efa",
           "#636efa",
           "#ab63fa",
           "#636efa",
           "#636efa",
           "#ab63fa",
           "#636efa",
           "#636efa",
           "#636efa",
           "#00cc96",
           "#636efa",
           "#ab63fa",
           "#636efa",
           "#636efa",
           "#636efa",
           "#636efa",
           "#EF553B",
           "#ab63fa",
           "#636efa",
           "#636efa",
           "#ab63fa",
           "#636efa",
           "#636efa",
           "#636efa",
           "#00cc96",
           "#636efa",
           "#636efa",
           "#636efa",
           "#EF553B",
           "#636efa",
           "#00cc96",
           "#636efa",
           "#636efa",
           "#00cc96",
           "#636efa",
           "#636efa",
           "#00cc96",
           "#636efa",
           "#ab63fa",
           "#636efa",
           "#636efa",
           "#636efa",
           "#636efa",
           "#EF553B",
           "#ab63fa",
           "#636efa",
           "#636efa",
           "#636efa",
           "#00cc96",
           "#636efa",
           "#ab63fa",
           "#636efa",
           "#636efa",
           "#636efa",
           "#00cc96",
           "#636efa",
           "#636efa",
           "#636efa",
           "#EF553B",
           "#636efa",
           "#00cc96",
           "#636efa",
           "#636efa",
           "#00cc96",
           "#636efa",
           "#636efa",
           "#636efa",
           "#EF553B",
           "#636efa",
           "#636efa",
           "#EF553B",
           "#ab63fa",
           "#636efa",
           "#636efa",
           "#636efa",
           "#00cc96",
           "#636efa",
           "#636efa",
           "#00cc96",
           "#636efa",
           "#ab63fa",
           "#636efa",
           "#636efa",
           "#ab63fa",
           "#636efa",
           "#636efa",
           "#636efa",
           "#636efa",
           "#EF553B",
           "#636efa",
           "#636efa",
           "#EF553B",
           "#636efa",
           "#00cc96",
           "#636efa",
           "#ab63fa",
           "#636efa",
           "#636efa",
           "#636efa",
           "#636efa",
           "#EF553B",
           "#636efa",
           "#636efa",
           "#EF553B",
           "#636efa",
           "#00cc96",
           "#636efa",
           "#636efa",
           "#636efa",
           "#EF553B",
           "#636efa",
           "#00cc96",
           "#636efa",
           "#636efa",
           "#636efa",
           "#EF553B",
           "#636efa",
           "#00cc96",
           "#636efa",
           "#ab63fa",
           "#636efa",
           "#636efa",
           "#636efa",
           "#00cc96",
           "#636efa",
           "#636efa",
           "#636efa",
           "#EF553B",
           "#ab63fa",
           "#636efa",
           "#636efa",
           "#636efa",
           "#636efa",
           "#EF553B",
           "#636efa",
           "#636efa",
           "#EF553B",
           "#636efa",
           "#636efa",
           "#EF553B",
           "#636efa",
           "#636efa",
           "#EF553B",
           "#636efa",
           "#636efa",
           "#EF553B",
           "#636efa",
           "#636efa",
           "#EF553B",
           "#636efa",
           "#00cc96",
           "#636efa",
           "#636efa",
           "#636efa",
           "#EF553B",
           "#636efa",
           "#00cc96",
           "#636efa",
           "#636efa",
           "#636efa",
           "#EF553B",
           "#636efa",
           "#00cc96",
           "#636efa",
           "#636efa",
           "#636efa",
           "#EF553B",
           "#636efa",
           "#636efa",
           "#EF553B",
           "#636efa",
           "#00cc96",
           "#636efa",
           "#ab63fa",
           "#636efa",
           "#636efa",
           "#636efa",
           "#636efa",
           "#EF553B",
           "#636efa",
           "#636efa",
           "#EF553B",
           "#636efa",
           "#636efa",
           "#EF553B",
           "#636efa",
           "#00cc96",
           "#636efa",
           "#636efa",
           "#636efa",
           "#EF553B",
           "#636efa",
           "#636efa",
           "#EF553B",
           "#ab63fa",
           "#636efa",
           "#636efa",
           "#636efa",
           "#636efa",
           "#EF553B",
           "#636efa",
           "#00cc96",
           "#636efa",
           "#636efa",
           "#636efa",
           "#EF553B",
           "#ab63fa",
           "#636efa",
           "#636efa",
           "#636efa",
           "#636efa",
           "#EF553B",
           "#636efa",
           "#636efa",
           "#EF553B",
           "#636efa",
           "#636efa",
           "#EF553B",
           "#636efa",
           "#636efa",
           "#EF553B",
           "#ab63fa",
           "#636efa",
           "#636efa",
           "#636efa",
           "#00cc96",
           "#636efa",
           "#ab63fa",
           "#636efa",
           "#636efa",
           "#636efa",
           "#00cc96",
           "#636efa",
           "#636efa",
           "#636efa",
           "#EF553B",
           "#636efa",
           "#636efa",
           "#EF553B",
           "#ab63fa",
           "#636efa",
           "#636efa",
           "#636efa",
           "#636efa",
           "#EF553B",
           "#636efa",
           "#636efa",
           "#EF553B",
           "#ab63fa",
           "#636efa",
           "#636efa",
           "#636efa",
           "#00cc96",
           "#636efa",
           "#ab63fa",
           "#636efa",
           "#636efa",
           "#636efa",
           "#636efa",
           "#EF553B",
           "#636efa",
           "#636efa",
           "#EF553B",
           "#ab63fa",
           "#636efa",
           "#636efa",
           "#636efa",
           "#636efa",
           "#EF553B",
           "#636efa",
           "#636efa",
           "#EF553B",
           "#636efa",
           "#00cc96",
           "#636efa",
           "#ab63fa",
           "#636efa",
           "#636efa",
           "#ab63fa",
           "#00cc96",
           "#EF553B",
           "#FFA15A"
          ]
         },
         "name": "",
         "parents": [
          "2021 COMPANIES/Small-Cap",
          "2021 COMPANIES/Large-Cap",
          "2021 COMPANIES/Mid-Cap",
          "2021 COMPANIES/Mid-Cap",
          "2021 COMPANIES/Large-Cap",
          "2021 COMPANIES/Small-Cap",
          "2021 COMPANIES/Small-Cap",
          "2021 COMPANIES/Mid-Cap",
          "2021 COMPANIES/Mid-Cap",
          "2021 COMPANIES/Large-Cap",
          "2021 COMPANIES/Small-Cap",
          "2021 COMPANIES/Small-Cap",
          "2021 COMPANIES/Large-Cap",
          "2021 COMPANIES/Small-Cap",
          "2021 COMPANIES/Large-Cap",
          "2021 COMPANIES/Mid-Cap",
          "2021 COMPANIES/Small-Cap",
          "2021 COMPANIES/Mid-Cap",
          "2021 COMPANIES/Large-Cap",
          "2021 COMPANIES/Mid-Cap",
          "2021 COMPANIES/Large-Cap",
          "2021 COMPANIES/Large-Cap",
          "2021 COMPANIES/Mid-Cap",
          "2021 COMPANIES/Small-Cap",
          "2021 COMPANIES/Mid-Cap",
          "2021 COMPANIES/Large-Cap",
          "2021 COMPANIES/Mid-Cap",
          "2021 COMPANIES/Large-Cap",
          "2021 COMPANIES/Small-Cap",
          "2021 COMPANIES/Mid-Cap",
          "2021 COMPANIES/Small-Cap",
          "2021 COMPANIES/Mid-Cap",
          "2021 COMPANIES/Large-Cap",
          "2021 COMPANIES/Small-Cap",
          "2021 COMPANIES/Mid-Cap",
          "2021 COMPANIES/Mid-Cap",
          "2021 COMPANIES/Large-Cap",
          "2021 COMPANIES/Small-Cap",
          "2021 COMPANIES/Mid-Cap",
          "2021 COMPANIES/Large-Cap",
          "2021 COMPANIES/Mid-Cap",
          "2021 COMPANIES/Small-Cap",
          "2021 COMPANIES/Small-Cap",
          "2021 COMPANIES/Large-Cap",
          "2021 COMPANIES/Small-Cap",
          "2021 COMPANIES/Mid-Cap",
          "2021 COMPANIES/Large-Cap",
          "2021 COMPANIES/Small-Cap",
          "2021 COMPANIES/Small-Cap",
          "2021 COMPANIES/Mid-Cap",
          "2021 COMPANIES/Small-Cap",
          "2021 COMPANIES/Mid-Cap",
          "2021 COMPANIES/Large-Cap",
          "2021 COMPANIES/Small-Cap",
          "2021 COMPANIES/Large-Cap",
          "2021 COMPANIES/Small-Cap",
          "2021 COMPANIES/Mid-Cap",
          "2021 COMPANIES/Small-Cap",
          "2021 COMPANIES/Large-Cap",
          "2021 COMPANIES/Mid-Cap",
          "2021 COMPANIES/Mid-Cap",
          "2021 COMPANIES/Small-Cap",
          "2021 COMPANIES/Large-Cap",
          "2021 COMPANIES/Small-Cap",
          "2021 COMPANIES/Mid-Cap",
          "2021 COMPANIES/Mid-Cap",
          "2021 COMPANIES/Mid-Cap",
          "2021 COMPANIES/Small-Cap",
          "2021 COMPANIES/Mid-Cap",
          "2021 COMPANIES/Small-Cap",
          "2021 COMPANIES/Small-Cap",
          "2021 COMPANIES/Small-Cap",
          "2021 COMPANIES/Small-Cap",
          "2021 COMPANIES/Large-Cap",
          "2021 COMPANIES/Small-Cap",
          "2021 COMPANIES/Mid-Cap",
          "2021 COMPANIES/Large-Cap",
          "2021 COMPANIES/Large-Cap",
          "2021 COMPANIES/Large-Cap",
          "2021 COMPANIES/Small-Cap",
          "2021 COMPANIES/Mid-Cap",
          "2021 COMPANIES/Large-Cap",
          "2021 COMPANIES/Mid-Cap",
          "2021 COMPANIES/Mid-Cap",
          "2021 COMPANIES/Mid-Cap",
          "2021 COMPANIES/Large-Cap",
          "2021 COMPANIES/Mid-Cap",
          "2021 COMPANIES/Mid-Cap",
          "2021 COMPANIES/Mid-Cap",
          "2021 COMPANIES/Large-Cap",
          "2021 COMPANIES/Small-Cap",
          "2021 COMPANIES/Small-Cap",
          "2021 COMPANIES/Mid-Cap",
          "2021 COMPANIES/Large-Cap",
          "2021 COMPANIES/Small-Cap",
          "2021 COMPANIES/Small-Cap",
          "2021 COMPANIES/Small-Cap",
          "2021 COMPANIES/Mid-Cap",
          "2021 COMPANIES/Mid-Cap",
          "2021 COMPANIES/Mid-Cap",
          "2021 COMPANIES/Large-Cap",
          "2021 COMPANIES/Large-Cap",
          "2021 COMPANIES/Small-Cap",
          "2021 COMPANIES/Mid-Cap",
          "2021 COMPANIES/Large-Cap",
          "2021 COMPANIES/Small-Cap",
          "2021 COMPANIES/Mid-Cap",
          "2021 COMPANIES/Large-Cap",
          "2021 COMPANIES/Mid-Cap",
          "2021 COMPANIES/Large-Cap",
          "2021 COMPANIES/Small-Cap",
          "2021 COMPANIES/Mid-Cap",
          "2021 COMPANIES/Large-Cap",
          "2021 COMPANIES/Small-Cap",
          "2021 COMPANIES/Mid-Cap",
          "2021 COMPANIES/Large-Cap",
          "2021 COMPANIES/Small-Cap",
          "2021 COMPANIES/Mid-Cap",
          "2021 COMPANIES/Large-Cap",
          "2021 COMPANIES/Small-Cap",
          "2021 COMPANIES/Mid-Cap",
          "2021 COMPANIES/Large-Cap",
          "2021 COMPANIES/Small-Cap",
          "2021 COMPANIES/Mid-Cap",
          "2021 COMPANIES/Large-Cap",
          "2021 COMPANIES/Small-Cap",
          "2021 COMPANIES/Large-Cap",
          "2021 COMPANIES/Small-Cap",
          "2021 COMPANIES/Mid-Cap",
          "2021 COMPANIES/Large-Cap",
          "2021 COMPANIES/Small-Cap",
          "2021 COMPANIES/Mid-Cap",
          "2021 COMPANIES/Mid-Cap",
          "2021 COMPANIES/Large-Cap",
          "2021 COMPANIES/Small-Cap",
          "2021 COMPANIES/Mid-Cap",
          "2021 COMPANIES/Large-Cap",
          "2021 COMPANIES/Small-Cap",
          "2021 COMPANIES/Mid-Cap",
          "2021 COMPANIES/Large-Cap",
          "2021 COMPANIES/Small-Cap",
          "2021 COMPANIES/Mid-Cap",
          "2021 COMPANIES/Large-Cap",
          "2021 COMPANIES/Small-Cap",
          "2021 COMPANIES/Mid-Cap",
          "2021 COMPANIES/Large-Cap",
          "2021 COMPANIES/Small-Cap",
          "2021 COMPANIES/Mid-Cap",
          "2021 COMPANIES/Large-Cap",
          "2021 COMPANIES/Small-Cap",
          "2021 COMPANIES/Mid-Cap",
          "2021 COMPANIES/Large-Cap",
          "2021 COMPANIES/Small-Cap",
          "2021 COMPANIES/Mid-Cap",
          "2021 COMPANIES/Large-Cap",
          "2021 COMPANIES/Small-Cap",
          "2021 COMPANIES/Mid-Cap",
          "2021 COMPANIES/Large-Cap",
          "2021 COMPANIES/Small-Cap",
          "2021 COMPANIES/Large-Cap",
          "2021 COMPANIES/Small-Cap",
          "2021 COMPANIES/Small-Cap",
          "2021 COMPANIES/Small-Cap",
          "2021 COMPANIES/Small-Cap",
          "2021 COMPANIES/Large-Cap",
          "2021 COMPANIES/Mid-Cap",
          "2021 COMPANIES/Small-Cap",
          "2021 COMPANIES/Large-Cap",
          "2021 COMPANIES/Large-Cap",
          "2021 COMPANIES/Mid-Cap",
          "2021 COMPANIES/Large-Cap",
          "2021 COMPANIES/Small-Cap",
          "2021 COMPANIES/Small-Cap",
          "2021 COMPANIES/Large-Cap",
          "2021 COMPANIES/Large-Cap",
          "2021 COMPANIES/Small-Cap",
          "2021 COMPANIES/Mid-Cap",
          "2021 COMPANIES/Mid-Cap",
          "2021 COMPANIES/Small-Cap",
          "2021 COMPANIES/Mid-Cap",
          "2021 COMPANIES/Mid-Cap",
          "2021 COMPANIES/Mid-Cap",
          "2021 COMPANIES/Small-Cap",
          "2021 COMPANIES/Large-Cap",
          "2021 COMPANIES/Mid-Cap",
          "2021 COMPANIES/Mid-Cap",
          "2021 COMPANIES/Small-Cap",
          "2021 COMPANIES/Large-Cap",
          "2021 COMPANIES/Small-Cap",
          "2021 COMPANIES/Large-Cap",
          "2021 COMPANIES/Large-Cap",
          "2021 COMPANIES/Small-Cap",
          "2021 COMPANIES/Mid-Cap",
          "2021 COMPANIES/Mid-Cap",
          "2021 COMPANIES/Large-Cap",
          "2021 COMPANIES/Small-Cap",
          "2021 COMPANIES/Mid-Cap",
          "2021 COMPANIES/Large-Cap",
          "2021 COMPANIES/Small-Cap",
          "2021 COMPANIES/Large-Cap",
          "2021 COMPANIES/Small-Cap",
          "2021 COMPANIES/Small-Cap",
          "2021 COMPANIES/Mid-Cap",
          "2021 COMPANIES/Small-Cap",
          "2021 COMPANIES/Mid-Cap",
          "2021 COMPANIES/Large-Cap",
          "2021 COMPANIES/Mid-Cap",
          "2021 COMPANIES/Large-Cap",
          "2021 COMPANIES/Mid-Cap",
          "2021 COMPANIES/Small-Cap",
          "2021 COMPANIES/Mid-Cap",
          "2021 COMPANIES/Large-Cap",
          "2021 COMPANIES/Small-Cap",
          "2021 COMPANIES/Mid-Cap",
          "2021 COMPANIES/Small-Cap",
          "2021 COMPANIES/Small-Cap",
          "2021 COMPANIES/Large-Cap",
          "2021 COMPANIES/Small-Cap",
          "2021 COMPANIES/Mid-Cap",
          "2021 COMPANIES/Large-Cap",
          "2021 COMPANIES/Small-Cap",
          "2021 COMPANIES/Large-Cap",
          "2021 COMPANIES/Large-Cap",
          "2021 COMPANIES/Mid-Cap",
          "2021 COMPANIES/Large-Cap",
          "2021 COMPANIES/Small-Cap",
          "2021 COMPANIES/Mid-Cap",
          "2021 COMPANIES/Small-Cap",
          "2021 COMPANIES/Large-Cap",
          "2021 COMPANIES/Mid-Cap",
          "2021 COMPANIES/Mid-Cap",
          "2021 COMPANIES/Large-Cap",
          "2021 COMPANIES/Large-Cap",
          "2021 COMPANIES/Small-Cap",
          "2021 COMPANIES/Large-Cap",
          "2021 COMPANIES/Small-Cap",
          "2021 COMPANIES/Small-Cap",
          "2021 COMPANIES/Large-Cap",
          "2021 COMPANIES/Large-Cap",
          "2021 COMPANIES/Large-Cap",
          "2021 COMPANIES/Large-Cap",
          "2021 COMPANIES/Small-Cap",
          "2021 COMPANIES/Large-Cap",
          "2021 COMPANIES/Large-Cap",
          "2021 COMPANIES/Mid-Cap",
          "2021 COMPANIES/Small-Cap",
          "2021 COMPANIES/Small-Cap",
          "2021 COMPANIES/Mid-Cap",
          "2021 COMPANIES/Large-Cap",
          "2021 COMPANIES/Small-Cap",
          "2021 COMPANIES/Large-Cap",
          "2021 COMPANIES/Mid-Cap",
          "2021 COMPANIES/Mid-Cap",
          "2021 COMPANIES/Large-Cap",
          "2021 COMPANIES/Mid-Cap",
          "2021 COMPANIES/Small-Cap",
          "2021 COMPANIES/Mid-Cap",
          "2021 COMPANIES/Small-Cap",
          "2021 COMPANIES/Small-Cap",
          "2021 COMPANIES/Mid-Cap",
          "2021 COMPANIES/Mid-Cap",
          "2021 COMPANIES/Large-Cap",
          "2021 COMPANIES/Small-Cap",
          "2021 COMPANIES/Mid-Cap",
          "2021 COMPANIES/Mid-Cap",
          "2021 COMPANIES/Small-Cap",
          "2021 COMPANIES/Large-Cap",
          "2021 COMPANIES/Mid-Cap",
          "2021 COMPANIES/Mid-Cap",
          "2021 COMPANIES/Large-Cap",
          "2021 COMPANIES/Small-Cap",
          "2021 COMPANIES/Mid-Cap",
          "2021 COMPANIES/Small-Cap",
          "2021 COMPANIES/Large-Cap",
          "2021 COMPANIES/Small-Cap",
          "2021 COMPANIES/Large-Cap",
          "2021 COMPANIES/Small-Cap",
          "2021 COMPANIES/Large-Cap",
          "2021 COMPANIES/Large-Cap",
          "2021 COMPANIES/Small-Cap",
          "2021 COMPANIES/Mid-Cap",
          "2021 COMPANIES/Small-Cap",
          "2021 COMPANIES/Small-Cap",
          "2021 COMPANIES/Mid-Cap",
          "2021 COMPANIES/Large-Cap",
          "2021 COMPANIES/Large-Cap",
          "2021 COMPANIES/Large-Cap",
          "2021 COMPANIES/Small-Cap",
          "2021 COMPANIES/Mid-Cap",
          "2021 COMPANIES/Mid-Cap",
          "2021 COMPANIES/Mid-Cap",
          "2021 COMPANIES/Mid-Cap",
          "2021 COMPANIES/Small-Cap",
          "2021 COMPANIES/Mid-Cap",
          "2021 COMPANIES/Large-Cap",
          "2021 COMPANIES/Mid-Cap",
          "2021 COMPANIES/Small-Cap",
          "2021 COMPANIES/Large-Cap",
          "2021 COMPANIES/Large-Cap",
          "2021 COMPANIES/Small-Cap",
          "2021 COMPANIES/Small-Cap",
          "2021 COMPANIES/Mid-Cap",
          "2021 COMPANIES/Large-Cap",
          "2021 COMPANIES/Mid-Cap",
          "2021 COMPANIES/Large-Cap",
          "2021 COMPANIES/Small-Cap",
          "2021 COMPANIES/Mid-Cap",
          "2021 COMPANIES/Small-Cap",
          "2021 COMPANIES/Large-Cap",
          "2021 COMPANIES/Mid-Cap",
          "2021 COMPANIES/Mid-Cap",
          "2021 COMPANIES/Large-Cap",
          "2021 COMPANIES/Small-Cap",
          "2021 COMPANIES/Mid-Cap",
          "2021 COMPANIES/Large-Cap",
          "2021 COMPANIES/Small-Cap",
          "2021 COMPANIES/Mid-Cap",
          "2021 COMPANIES/Large-Cap",
          "2021 COMPANIES/Large-Cap",
          "2021 COMPANIES/Mid-Cap",
          "2021 COMPANIES/Mid-Cap",
          "2021 COMPANIES/Mid-Cap",
          "2021 COMPANIES/Large-Cap",
          "2021 COMPANIES/Mid-Cap",
          "2021 COMPANIES/Large-Cap",
          "2021 COMPANIES/Mid-Cap",
          "2021 COMPANIES/Large-Cap",
          "2021 COMPANIES/Mid-Cap",
          "2021 COMPANIES/Small-Cap",
          "2021 COMPANIES/Large-Cap",
          "2021 COMPANIES/Small-Cap",
          "2021 COMPANIES/Large-Cap",
          "2021 COMPANIES/Large-Cap",
          "2021 COMPANIES/Small-Cap",
          "2021 COMPANIES/Mid-Cap",
          "2021 COMPANIES/Small-Cap",
          "2021 COMPANIES/Large-Cap",
          "2021 COMPANIES/Mid-Cap",
          "2021 COMPANIES/Small-Cap",
          "2021 COMPANIES/Large-Cap",
          "2021 COMPANIES/Mid-Cap",
          "2021 COMPANIES/Small-Cap",
          "2021 COMPANIES/Large-Cap",
          "2021 COMPANIES/Small-Cap",
          "2021 COMPANIES/Mid-Cap",
          "2021 COMPANIES/Large-Cap",
          "2021 COMPANIES/Mid-Cap",
          "2021 COMPANIES/Small-Cap",
          "2021 COMPANIES/Large-Cap",
          "2021 COMPANIES/Small-Cap",
          "2021 COMPANIES/Small-Cap",
          "2021 COMPANIES/Mid-Cap",
          "2021 COMPANIES/Large-Cap",
          "2021 COMPANIES/Large-Cap",
          "2021 COMPANIES/Small-Cap",
          "2021 COMPANIES/Small-Cap",
          "2021 COMPANIES/Small-Cap",
          "2021 COMPANIES/Large-Cap",
          "2021 COMPANIES/Small-Cap",
          "2021 COMPANIES/Small-Cap",
          "2021 COMPANIES/Large-Cap",
          "2021 COMPANIES/Small-Cap",
          "2021 COMPANIES/Small-Cap",
          "2021 COMPANIES/Large-Cap",
          "2021 COMPANIES/Large-Cap",
          "2021 COMPANIES/Large-Cap",
          "2021 COMPANIES/Large-Cap",
          "2021 COMPANIES/Mid-Cap",
          "2021 COMPANIES/Large-Cap",
          "2021 COMPANIES/Mid-Cap",
          "2021 COMPANIES/Large-Cap",
          "2021 COMPANIES/Small-Cap",
          "2021 COMPANIES/Large-Cap",
          "2021 COMPANIES/Large-Cap",
          "2021 COMPANIES/Mid-Cap",
          "2021 COMPANIES/Mid-Cap",
          "2021 COMPANIES/Small-Cap",
          "2021 COMPANIES/Large-Cap",
          "2021 COMPANIES/Mid-Cap",
          "2021 COMPANIES/Large-Cap",
          "2021 COMPANIES/Large-Cap",
          "2021 COMPANIES/Mid-Cap",
          "2021 COMPANIES/Large-Cap",
          "2021 COMPANIES/Small-Cap",
          "2021 COMPANIES/Mid-Cap",
          "2021 COMPANIES/Mid-Cap",
          "2021 COMPANIES/Small-Cap",
          "2021 COMPANIES/Small-Cap",
          "2021 COMPANIES/Mid-Cap",
          "2021 COMPANIES/Small-Cap",
          "2021 COMPANIES/Mid-Cap",
          "2021 COMPANIES/Large-Cap",
          "2021 COMPANIES/Small-Cap",
          "2021 COMPANIES/Mid-Cap",
          "2021 COMPANIES/Small-Cap",
          "2021 COMPANIES/Large-Cap",
          "2021 COMPANIES/Mid-Cap",
          "2021 COMPANIES/Small-Cap",
          "2021 COMPANIES/Large-Cap",
          "2021 COMPANIES/Mid-Cap",
          "2021 COMPANIES/Mid-Cap",
          "2021 COMPANIES/Large-Cap",
          "2021 COMPANIES/Small-Cap",
          "2021 COMPANIES/Mid-Cap",
          "2021 COMPANIES/Large-Cap",
          "2021 COMPANIES/Small-Cap",
          "2021 COMPANIES/Mid-Cap",
          "2021 COMPANIES/Large-Cap",
          "2021 COMPANIES/Small-Cap",
          "2021 COMPANIES/Mid-Cap",
          "2021 COMPANIES/Large-Cap",
          "2021 COMPANIES/Small-Cap",
          "2021 COMPANIES/Mid-Cap",
          "2021 COMPANIES/Large-Cap",
          "2021 COMPANIES/Small-Cap",
          "2021 COMPANIES/Mid-Cap",
          "2021 COMPANIES/Large-Cap",
          "2021 COMPANIES/Small-Cap",
          "2021 COMPANIES/Mid-Cap",
          "2021 COMPANIES/Large-Cap",
          "2021 COMPANIES/Small-Cap",
          "2021 COMPANIES/Mid-Cap",
          "2021 COMPANIES/Large-Cap",
          "2021 COMPANIES/Small-Cap",
          "2021 COMPANIES/Mid-Cap",
          "2021 COMPANIES/Large-Cap",
          "2021 COMPANIES/Small-Cap",
          "2021 COMPANIES/Mid-Cap",
          "2021 COMPANIES/Large-Cap",
          "2021 COMPANIES/Small-Cap",
          "2021 COMPANIES/Mid-Cap",
          "2021 COMPANIES/Large-Cap",
          "2021 COMPANIES/Small-Cap",
          "2021 COMPANIES/Mid-Cap",
          "2021 COMPANIES/Large-Cap",
          "2021 COMPANIES/Small-Cap",
          "2021 COMPANIES/Mid-Cap",
          "2021 COMPANIES/Large-Cap",
          "2021 COMPANIES/Small-Cap",
          "2021 COMPANIES/Mid-Cap",
          "2021 COMPANIES/Large-Cap",
          "2021 COMPANIES/Small-Cap",
          "2021 COMPANIES/Mid-Cap",
          "2021 COMPANIES/Large-Cap",
          "2021 COMPANIES/Small-Cap",
          "2021 COMPANIES/Mid-Cap",
          "2021 COMPANIES/Large-Cap",
          "2021 COMPANIES/Small-Cap",
          "2021 COMPANIES/Mid-Cap",
          "2021 COMPANIES/Large-Cap",
          "2021 COMPANIES/Small-Cap",
          "2021 COMPANIES/Mid-Cap",
          "2021 COMPANIES/Large-Cap",
          "2021 COMPANIES/Small-Cap",
          "2021 COMPANIES/Mid-Cap",
          "2021 COMPANIES/Large-Cap",
          "2021 COMPANIES/Small-Cap",
          "2021 COMPANIES/Mid-Cap",
          "2021 COMPANIES/Large-Cap",
          "2021 COMPANIES/Small-Cap",
          "2021 COMPANIES/Mid-Cap",
          "2021 COMPANIES/Large-Cap",
          "2021 COMPANIES/Small-Cap",
          "2021 COMPANIES/Mid-Cap",
          "2021 COMPANIES/Large-Cap",
          "2021 COMPANIES/Small-Cap",
          "2021 COMPANIES/Mid-Cap",
          "2021 COMPANIES/Large-Cap",
          "2021 COMPANIES/Small-Cap",
          "2021 COMPANIES/Mid-Cap",
          "2021 COMPANIES/Large-Cap",
          "2021 COMPANIES/Small-Cap",
          "2021 COMPANIES/Mid-Cap",
          "2021 COMPANIES/Large-Cap",
          "2021 COMPANIES/Small-Cap",
          "2021 COMPANIES/Mid-Cap",
          "2021 COMPANIES/Large-Cap",
          "2021 COMPANIES/Small-Cap",
          "2021 COMPANIES/Mid-Cap",
          "2021 COMPANIES/Large-Cap",
          "2021 COMPANIES/Small-Cap",
          "2021 COMPANIES/Mid-Cap",
          "2021 COMPANIES/Large-Cap",
          "2021 COMPANIES/Small-Cap",
          "2021 COMPANIES/Mid-Cap",
          "2021 COMPANIES/Large-Cap",
          "2021 COMPANIES/Small-Cap",
          "2021 COMPANIES/Mid-Cap",
          "2021 COMPANIES/Large-Cap",
          "2021 COMPANIES/Small-Cap",
          "2021 COMPANIES/Mid-Cap",
          "2021 COMPANIES/Large-Cap",
          "2021 COMPANIES/Small-Cap",
          "2021 COMPANIES/Mid-Cap",
          "2021 COMPANIES/Large-Cap",
          "2021 COMPANIES/Small-Cap",
          "2021 COMPANIES/Mid-Cap",
          "2021 COMPANIES/Large-Cap",
          "2021 COMPANIES/Small-Cap",
          "2021 COMPANIES/Mid-Cap",
          "2021 COMPANIES/Large-Cap",
          "2021 COMPANIES/Small-Cap",
          "2021 COMPANIES/Mid-Cap",
          "2021 COMPANIES/Large-Cap",
          "2021 COMPANIES/Small-Cap",
          "2021 COMPANIES/Mid-Cap",
          "2021 COMPANIES/Large-Cap",
          "2021 COMPANIES/Small-Cap",
          "2021 COMPANIES/Mid-Cap",
          "2021 COMPANIES/Large-Cap",
          "2021 COMPANIES/Small-Cap",
          "2021 COMPANIES/Mid-Cap",
          "2021 COMPANIES/Large-Cap",
          "2021 COMPANIES/Small-Cap",
          "2021 COMPANIES/Mid-Cap",
          "2021 COMPANIES/Large-Cap",
          "2021 COMPANIES/Small-Cap",
          "2021 COMPANIES/Mid-Cap",
          "2021 COMPANIES/Large-Cap",
          "2021 COMPANIES/Small-Cap",
          "2021 COMPANIES/Mid-Cap",
          "2021 COMPANIES/Large-Cap",
          "2021 COMPANIES/Small-Cap",
          "2021 COMPANIES/Mid-Cap",
          "2021 COMPANIES/Large-Cap",
          "2021 COMPANIES/Small-Cap",
          "2021 COMPANIES/Mid-Cap",
          "2021 COMPANIES/Large-Cap",
          "2021 COMPANIES/Small-Cap",
          "2021 COMPANIES/Mid-Cap",
          "2021 COMPANIES/Large-Cap",
          "2021 COMPANIES/Small-Cap",
          "2021 COMPANIES/Mid-Cap",
          "2021 COMPANIES/Large-Cap",
          "2021 COMPANIES/Small-Cap",
          "2021 COMPANIES/Mid-Cap",
          "2021 COMPANIES/Large-Cap",
          "2021 COMPANIES/Small-Cap",
          "2021 COMPANIES/Mid-Cap",
          "2021 COMPANIES/Large-Cap",
          "2021 COMPANIES/Small-Cap",
          "2021 COMPANIES/Mid-Cap",
          "2021 COMPANIES/Large-Cap",
          "2021 COMPANIES/Small-Cap",
          "2021 COMPANIES/Mid-Cap",
          "2021 COMPANIES/Large-Cap",
          "2021 COMPANIES/Small-Cap",
          "2021 COMPANIES/Mid-Cap",
          "2021 COMPANIES/Large-Cap",
          "2021 COMPANIES/Small-Cap",
          "2021 COMPANIES/Mid-Cap",
          "2021 COMPANIES/Large-Cap",
          "2021 COMPANIES/Small-Cap",
          "2021 COMPANIES/Mid-Cap",
          "2021 COMPANIES/Large-Cap",
          "2021 COMPANIES/Small-Cap",
          "2021 COMPANIES/Mid-Cap",
          "2021 COMPANIES/Large-Cap",
          "2021 COMPANIES/Small-Cap",
          "2021 COMPANIES/Mid-Cap",
          "2021 COMPANIES/Large-Cap",
          "2021 COMPANIES/Small-Cap",
          "2021 COMPANIES/Mid-Cap",
          "2021 COMPANIES/Large-Cap",
          "2021 COMPANIES/Small-Cap",
          "2021 COMPANIES/Mid-Cap",
          "2021 COMPANIES/Large-Cap",
          "2021 COMPANIES/Small-Cap",
          "2021 COMPANIES/Mid-Cap",
          "2021 COMPANIES/Large-Cap",
          "2021 COMPANIES/Small-Cap",
          "2021 COMPANIES/Mid-Cap",
          "2021 COMPANIES/Large-Cap",
          "2021 COMPANIES/Small-Cap",
          "2021 COMPANIES/Mid-Cap",
          "2021 COMPANIES/Large-Cap",
          "2021 COMPANIES/Small-Cap",
          "2021 COMPANIES/Mid-Cap",
          "2021 COMPANIES/Large-Cap",
          "2021 COMPANIES/Small-Cap",
          "2021 COMPANIES/Mid-Cap",
          "2021 COMPANIES/Large-Cap",
          "2021 COMPANIES/Small-Cap",
          "2021 COMPANIES/Mid-Cap",
          "2021 COMPANIES/Large-Cap",
          "2021 COMPANIES/Small-Cap",
          "2021 COMPANIES/Mid-Cap",
          "2021 COMPANIES/Large-Cap",
          "2021 COMPANIES/Small-Cap",
          "2021 COMPANIES/Mid-Cap",
          "2021 COMPANIES/Large-Cap",
          "2021 COMPANIES/Small-Cap",
          "2021 COMPANIES/Mid-Cap",
          "2021 COMPANIES/Large-Cap",
          "2021 COMPANIES/Small-Cap",
          "2021 COMPANIES/Mid-Cap",
          "2021 COMPANIES/Large-Cap",
          "2021 COMPANIES/Small-Cap",
          "2021 COMPANIES/Mid-Cap",
          "2021 COMPANIES/Large-Cap",
          "2021 COMPANIES/Small-Cap",
          "2021 COMPANIES/Mid-Cap",
          "2021 COMPANIES/Large-Cap",
          "2021 COMPANIES/Small-Cap",
          "2021 COMPANIES/Mid-Cap",
          "2021 COMPANIES/Large-Cap",
          "2021 COMPANIES/Small-Cap",
          "2021 COMPANIES/Mid-Cap",
          "2021 COMPANIES/Large-Cap",
          "2021 COMPANIES/Small-Cap",
          "2021 COMPANIES/Mid-Cap",
          "2021 COMPANIES/Large-Cap",
          "2021 COMPANIES/Small-Cap",
          "2021 COMPANIES/Mid-Cap",
          "2021 COMPANIES/Large-Cap",
          "2021 COMPANIES/Small-Cap",
          "2021 COMPANIES/Mid-Cap",
          "2021 COMPANIES/Large-Cap",
          "2021 COMPANIES/Small-Cap",
          "2021 COMPANIES/Mid-Cap",
          "2021 COMPANIES/Large-Cap",
          "2021 COMPANIES/Small-Cap",
          "2021 COMPANIES/Mid-Cap",
          "2021 COMPANIES/Large-Cap",
          "2021 COMPANIES/Small-Cap",
          "2021 COMPANIES/Mid-Cap",
          "2021 COMPANIES/Large-Cap",
          "2021 COMPANIES/Small-Cap",
          "2021 COMPANIES/Mid-Cap",
          "2021 COMPANIES/Large-Cap",
          "2021 COMPANIES/Small-Cap",
          "2021 COMPANIES/Mid-Cap",
          "2021 COMPANIES/Large-Cap",
          "2021 COMPANIES/Small-Cap",
          "2021 COMPANIES/Mid-Cap",
          "2021 COMPANIES/Large-Cap",
          "2021 COMPANIES/Small-Cap",
          "2021 COMPANIES/Mid-Cap",
          "2021 COMPANIES/Large-Cap",
          "2021 COMPANIES/Small-Cap",
          "2021 COMPANIES/Mid-Cap",
          "2021 COMPANIES/Large-Cap",
          "2021 COMPANIES/Small-Cap",
          "2021 COMPANIES/Mid-Cap",
          "2021 COMPANIES/Large-Cap",
          "2021 COMPANIES/Small-Cap",
          "2021 COMPANIES/Mid-Cap",
          "2021 COMPANIES/Large-Cap",
          "2021 COMPANIES/Small-Cap",
          "2021 COMPANIES/Mid-Cap",
          "2021 COMPANIES/Large-Cap",
          "2021 COMPANIES/Small-Cap",
          "2021 COMPANIES/Mid-Cap",
          "2021 COMPANIES/Large-Cap",
          "2021 COMPANIES/Small-Cap",
          "2021 COMPANIES/Mid-Cap",
          "2021 COMPANIES/Large-Cap",
          "2021 COMPANIES/Small-Cap",
          "2021 COMPANIES/Mid-Cap",
          "2021 COMPANIES/Large-Cap",
          "2021 COMPANIES/Small-Cap",
          "2021 COMPANIES/Mid-Cap",
          "2021 COMPANIES/Large-Cap",
          "2021 COMPANIES/Small-Cap",
          "2021 COMPANIES/Mid-Cap",
          "2021 COMPANIES/Large-Cap",
          "2021 COMPANIES/Small-Cap",
          "2021 COMPANIES/Mid-Cap",
          "2021 COMPANIES/Large-Cap",
          "2021 COMPANIES/Small-Cap",
          "2021 COMPANIES/Mid-Cap",
          "2021 COMPANIES/Large-Cap",
          "2021 COMPANIES/Small-Cap",
          "2021 COMPANIES/Mid-Cap",
          "2021 COMPANIES/Large-Cap",
          "2021 COMPANIES/Small-Cap",
          "2021 COMPANIES/Mid-Cap",
          "2021 COMPANIES/Large-Cap",
          "2021 COMPANIES/Small-Cap",
          "2021 COMPANIES/Mid-Cap",
          "2021 COMPANIES/Large-Cap",
          "2021 COMPANIES/Small-Cap",
          "2021 COMPANIES/Mid-Cap",
          "2021 COMPANIES/Large-Cap",
          "2021 COMPANIES/Small-Cap",
          "2021 COMPANIES/Mid-Cap",
          "2021 COMPANIES/Large-Cap",
          "2021 COMPANIES/Small-Cap",
          "2021 COMPANIES/Mid-Cap",
          "2021 COMPANIES/Large-Cap",
          "2021 COMPANIES/Small-Cap",
          "2021 COMPANIES/Mid-Cap",
          "2021 COMPANIES/Large-Cap",
          "2021 COMPANIES/Small-Cap",
          "2021 COMPANIES/Mid-Cap",
          "2021 COMPANIES/Large-Cap",
          "2021 COMPANIES/Small-Cap",
          "2021 COMPANIES/Mid-Cap",
          "2021 COMPANIES/Large-Cap",
          "2021 COMPANIES/Small-Cap",
          "2021 COMPANIES/Mid-Cap",
          "2021 COMPANIES/Large-Cap",
          "2021 COMPANIES/Small-Cap",
          "2021 COMPANIES/Mid-Cap",
          "2021 COMPANIES/Large-Cap",
          "2021 COMPANIES/Small-Cap",
          "2021 COMPANIES/Mid-Cap",
          "2021 COMPANIES/Large-Cap",
          "2021 COMPANIES/Small-Cap",
          "2021 COMPANIES/Mid-Cap",
          "2021 COMPANIES/Large-Cap",
          "2021 COMPANIES/Small-Cap",
          "2021 COMPANIES/Mid-Cap",
          "2021 COMPANIES/Large-Cap",
          "2021 COMPANIES/Small-Cap",
          "2021 COMPANIES/Mid-Cap",
          "2021 COMPANIES/Large-Cap",
          "2021 COMPANIES/Small-Cap",
          "2021 COMPANIES/Mid-Cap",
          "2021 COMPANIES/Large-Cap",
          "2021 COMPANIES/Small-Cap",
          "2021 COMPANIES/Mid-Cap",
          "2021 COMPANIES/Large-Cap",
          "2021 COMPANIES/Small-Cap",
          "2021 COMPANIES/Mid-Cap",
          "2021 COMPANIES/Large-Cap",
          "2021 COMPANIES/Small-Cap",
          "2021 COMPANIES/Mid-Cap",
          "2021 COMPANIES/Large-Cap",
          "2021 COMPANIES/Small-Cap",
          "2021 COMPANIES/Mid-Cap",
          "2021 COMPANIES/Large-Cap",
          "2021 COMPANIES/Small-Cap",
          "2021 COMPANIES/Mid-Cap",
          "2021 COMPANIES/Large-Cap",
          "2021 COMPANIES/Small-Cap",
          "2021 COMPANIES/Mid-Cap",
          "2021 COMPANIES/Large-Cap",
          "2021 COMPANIES/Small-Cap",
          "2021 COMPANIES/Mid-Cap",
          "2021 COMPANIES/Large-Cap",
          "2021 COMPANIES/Small-Cap",
          "2021 COMPANIES/Mid-Cap",
          "2021 COMPANIES/Large-Cap",
          "2021 COMPANIES/Small-Cap",
          "2021 COMPANIES/Mid-Cap",
          "2021 COMPANIES/Large-Cap",
          "2021 COMPANIES/Small-Cap",
          "2021 COMPANIES/Mid-Cap",
          "2021 COMPANIES/Large-Cap",
          "2021 COMPANIES/Small-Cap",
          "2021 COMPANIES/Mid-Cap",
          "2021 COMPANIES/Large-Cap",
          "2021 COMPANIES/Small-Cap",
          "2021 COMPANIES/Mid-Cap",
          "2021 COMPANIES/Large-Cap",
          "2021 COMPANIES/Small-Cap",
          "2021 COMPANIES/Mid-Cap",
          "2021 COMPANIES/Large-Cap",
          "2021 COMPANIES/Small-Cap",
          "2021 COMPANIES/Mid-Cap",
          "2021 COMPANIES/Large-Cap",
          "2021 COMPANIES/Small-Cap",
          "2021 COMPANIES/Mid-Cap",
          "2021 COMPANIES/Large-Cap",
          "2021 COMPANIES/Small-Cap",
          "2021 COMPANIES/Mid-Cap",
          "2021 COMPANIES/Large-Cap",
          "2021 COMPANIES/Small-Cap",
          "2021 COMPANIES/Mid-Cap",
          "2021 COMPANIES/Large-Cap",
          "2021 COMPANIES/Small-Cap",
          "2021 COMPANIES/Mid-Cap",
          "2021 COMPANIES/Large-Cap",
          "2021 COMPANIES/Small-Cap",
          "2021 COMPANIES/Mid-Cap",
          "2021 COMPANIES/Large-Cap",
          "2021 COMPANIES/Small-Cap",
          "2021 COMPANIES/Mid-Cap",
          "2021 COMPANIES/Large-Cap",
          "2021 COMPANIES/Small-Cap",
          "2021 COMPANIES/Mid-Cap",
          "2021 COMPANIES/Large-Cap",
          "2021 COMPANIES/Small-Cap",
          "2021 COMPANIES/Mid-Cap",
          "2021 COMPANIES/Large-Cap",
          "2021 COMPANIES/Small-Cap",
          "2021 COMPANIES/Mid-Cap",
          "2021 COMPANIES/Large-Cap",
          "2021 COMPANIES/Small-Cap",
          "2021 COMPANIES/Mid-Cap",
          "2021 COMPANIES/Large-Cap",
          "2021 COMPANIES/Small-Cap",
          "2021 COMPANIES/Mid-Cap",
          "2021 COMPANIES/Large-Cap",
          "2021 COMPANIES/Small-Cap",
          "2021 COMPANIES/Mid-Cap",
          "2021 COMPANIES/Large-Cap",
          "2021 COMPANIES/Small-Cap",
          "2021 COMPANIES/Mid-Cap",
          "2021 COMPANIES/Large-Cap",
          "2021 COMPANIES/Small-Cap",
          "2021 COMPANIES/Mid-Cap",
          "2021 COMPANIES/Large-Cap",
          "2021 COMPANIES/Small-Cap",
          "2021 COMPANIES/Mid-Cap",
          "2021 COMPANIES/Large-Cap",
          "2021 COMPANIES/Small-Cap",
          "2021 COMPANIES/Mid-Cap",
          "2021 COMPANIES/Large-Cap",
          "2021 COMPANIES/Small-Cap",
          "2021 COMPANIES/Mid-Cap",
          "2021 COMPANIES/Large-Cap",
          "2021 COMPANIES/Small-Cap",
          "2021 COMPANIES/Mid-Cap",
          "2021 COMPANIES/Large-Cap",
          "2021 COMPANIES/Small-Cap",
          "2021 COMPANIES/Mid-Cap",
          "2021 COMPANIES/Large-Cap",
          "2021 COMPANIES/Small-Cap",
          "2021 COMPANIES/Mid-Cap",
          "2021 COMPANIES/Large-Cap",
          "2021 COMPANIES/Small-Cap",
          "2021 COMPANIES/Mid-Cap",
          "2021 COMPANIES/Large-Cap",
          "2021 COMPANIES/Small-Cap",
          "2021 COMPANIES/Mid-Cap",
          "2021 COMPANIES/Large-Cap",
          "2021 COMPANIES/Small-Cap",
          "2021 COMPANIES/Mid-Cap",
          "2021 COMPANIES/Large-Cap",
          "2021 COMPANIES/Small-Cap",
          "2021 COMPANIES/Mid-Cap",
          "2021 COMPANIES/Large-Cap",
          "2021 COMPANIES/Small-Cap",
          "2021 COMPANIES/Mid-Cap",
          "2021 COMPANIES/Large-Cap",
          "2021 COMPANIES/Small-Cap",
          "2021 COMPANIES/Mid-Cap",
          "2021 COMPANIES/Large-Cap",
          "2021 COMPANIES/Small-Cap",
          "2021 COMPANIES/Mid-Cap",
          "2021 COMPANIES/Large-Cap",
          "2021 COMPANIES/Small-Cap",
          "2021 COMPANIES/Mid-Cap",
          "2021 COMPANIES/Large-Cap",
          "2021 COMPANIES/Small-Cap",
          "2021 COMPANIES/Mid-Cap",
          "2021 COMPANIES/Large-Cap",
          "2021 COMPANIES/Small-Cap",
          "2021 COMPANIES/Mid-Cap",
          "2021 COMPANIES/Large-Cap",
          "2021 COMPANIES/Small-Cap",
          "2021 COMPANIES/Mid-Cap",
          "2021 COMPANIES/Large-Cap",
          "2021 COMPANIES/Small-Cap",
          "2021 COMPANIES/Mid-Cap",
          "2021 COMPANIES/Large-Cap",
          "2021 COMPANIES/Small-Cap",
          "2021 COMPANIES/Mid-Cap",
          "2021 COMPANIES/Large-Cap",
          "2021 COMPANIES/Small-Cap",
          "2021 COMPANIES/Mid-Cap",
          "2021 COMPANIES/Large-Cap",
          "2021 COMPANIES/Small-Cap",
          "2021 COMPANIES/Mid-Cap",
          "2021 COMPANIES/Large-Cap",
          "2021 COMPANIES/Small-Cap",
          "2021 COMPANIES/Mid-Cap",
          "2021 COMPANIES/Large-Cap",
          "2021 COMPANIES/Small-Cap",
          "2021 COMPANIES/Mid-Cap",
          "2021 COMPANIES/Large-Cap",
          "2021 COMPANIES/Small-Cap",
          "2021 COMPANIES/Mid-Cap",
          "2021 COMPANIES/Large-Cap",
          "2021 COMPANIES/Small-Cap",
          "2021 COMPANIES/Mid-Cap",
          "2021 COMPANIES/Large-Cap",
          "2021 COMPANIES/Small-Cap",
          "2021 COMPANIES/Mid-Cap",
          "2021 COMPANIES/Large-Cap",
          "2021 COMPANIES/Small-Cap",
          "2021 COMPANIES/Mid-Cap",
          "2021 COMPANIES/Large-Cap",
          "2021 COMPANIES/Small-Cap",
          "2021 COMPANIES/Mid-Cap",
          "2021 COMPANIES/Large-Cap",
          "2021 COMPANIES/Small-Cap",
          "2021 COMPANIES/Mid-Cap",
          "2021 COMPANIES/Large-Cap",
          "2021 COMPANIES/Small-Cap",
          "2021 COMPANIES/Mid-Cap",
          "2021 COMPANIES/Large-Cap",
          "2021 COMPANIES/Small-Cap",
          "2021 COMPANIES/Mid-Cap",
          "2021 COMPANIES/Large-Cap",
          "2021 COMPANIES/Small-Cap",
          "2021 COMPANIES/Mid-Cap",
          "2021 COMPANIES/Large-Cap",
          "2021 COMPANIES/Small-Cap",
          "2021 COMPANIES/Mid-Cap",
          "2021 COMPANIES/Large-Cap",
          "2021 COMPANIES/Small-Cap",
          "2021 COMPANIES/Mid-Cap",
          "2021 COMPANIES/Large-Cap",
          "2021 COMPANIES/Small-Cap",
          "2021 COMPANIES/Mid-Cap",
          "2021 COMPANIES/Large-Cap",
          "2021 COMPANIES/Small-Cap",
          "2021 COMPANIES/Mid-Cap",
          "2021 COMPANIES/Large-Cap",
          "2021 COMPANIES/Small-Cap",
          "2021 COMPANIES/Mid-Cap",
          "2021 COMPANIES/Large-Cap",
          "2021 COMPANIES/Small-Cap",
          "2021 COMPANIES/Mid-Cap",
          "2021 COMPANIES/Large-Cap",
          "2021 COMPANIES/Small-Cap",
          "2021 COMPANIES/Mid-Cap",
          "2021 COMPANIES/Large-Cap",
          "2021 COMPANIES/Small-Cap",
          "2021 COMPANIES/Mid-Cap",
          "2021 COMPANIES/Large-Cap",
          "2021 COMPANIES/Small-Cap",
          "2021 COMPANIES/Mid-Cap",
          "2021 COMPANIES/Large-Cap",
          "2021 COMPANIES/Small-Cap",
          "2021 COMPANIES/Mid-Cap",
          "2021 COMPANIES/Large-Cap",
          "2021 COMPANIES/Small-Cap",
          "2021 COMPANIES/Mid-Cap",
          "2021 COMPANIES/Large-Cap",
          "2021 COMPANIES/Small-Cap",
          "2021 COMPANIES/Mid-Cap",
          "2021 COMPANIES/Large-Cap",
          "2021 COMPANIES/Small-Cap",
          "2021 COMPANIES/Mid-Cap",
          "2021 COMPANIES/Large-Cap",
          "2021 COMPANIES/Small-Cap",
          "2021 COMPANIES/Mid-Cap",
          "2021 COMPANIES/Large-Cap",
          "2021 COMPANIES/Small-Cap",
          "2021 COMPANIES/Mid-Cap",
          "2021 COMPANIES/Large-Cap",
          "2021 COMPANIES/Small-Cap",
          "2021 COMPANIES/Mid-Cap",
          "2021 COMPANIES/Large-Cap",
          "2021 COMPANIES/Small-Cap",
          "2021 COMPANIES/Mid-Cap",
          "2021 COMPANIES/Large-Cap",
          "2021 COMPANIES/Small-Cap",
          "2021 COMPANIES/Mid-Cap",
          "2021 COMPANIES/Large-Cap",
          "2021 COMPANIES/Small-Cap",
          "2021 COMPANIES/Mid-Cap",
          "2021 COMPANIES/Large-Cap",
          "2021 COMPANIES/Small-Cap",
          "2021 COMPANIES/Mid-Cap",
          "2021 COMPANIES/Large-Cap",
          "2021 COMPANIES/Small-Cap",
          "2021 COMPANIES/Mid-Cap",
          "2021 COMPANIES/Large-Cap",
          "2021 COMPANIES/Small-Cap",
          "2021 COMPANIES/Mid-Cap",
          "2021 COMPANIES/Large-Cap",
          "2021 COMPANIES/Small-Cap",
          "2021 COMPANIES/Mid-Cap",
          "2021 COMPANIES/Large-Cap",
          "2021 COMPANIES/Small-Cap",
          "2021 COMPANIES/Mid-Cap",
          "2021 COMPANIES/Large-Cap",
          "2021 COMPANIES/Small-Cap",
          "2021 COMPANIES/Mid-Cap",
          "2021 COMPANIES/Large-Cap",
          "2021 COMPANIES/Small-Cap",
          "2021 COMPANIES/Mid-Cap",
          "2021 COMPANIES/Large-Cap",
          "2021 COMPANIES/Small-Cap",
          "2021 COMPANIES/Mid-Cap",
          "2021 COMPANIES/Large-Cap",
          "2021 COMPANIES/Small-Cap",
          "2021 COMPANIES/Mid-Cap",
          "2021 COMPANIES/Large-Cap",
          "2021 COMPANIES/Small-Cap",
          "2021 COMPANIES/Mid-Cap",
          "2021 COMPANIES/Large-Cap",
          "2021 COMPANIES/Small-Cap",
          "2021 COMPANIES/Mid-Cap",
          "2021 COMPANIES/Large-Cap",
          "2021 COMPANIES/Small-Cap",
          "2021 COMPANIES/Mid-Cap",
          "2021 COMPANIES/Large-Cap",
          "2021 COMPANIES/Small-Cap",
          "2021 COMPANIES/Mid-Cap",
          "2021 COMPANIES/Large-Cap",
          "2021 COMPANIES/Small-Cap",
          "2021 COMPANIES/Mid-Cap",
          "2021 COMPANIES/Large-Cap",
          "2021 COMPANIES/Small-Cap",
          "2021 COMPANIES/Mid-Cap",
          "2021 COMPANIES/Large-Cap",
          "2021 COMPANIES/Small-Cap",
          "2021 COMPANIES/Mid-Cap",
          "2021 COMPANIES/Large-Cap",
          "2021 COMPANIES/Small-Cap",
          "2021 COMPANIES/Mid-Cap",
          "2021 COMPANIES/Large-Cap",
          "2021 COMPANIES/Small-Cap",
          "2021 COMPANIES/Mid-Cap",
          "2021 COMPANIES/Large-Cap",
          "2021 COMPANIES/Small-Cap",
          "2021 COMPANIES/Mid-Cap",
          "2021 COMPANIES/Large-Cap",
          "2021 COMPANIES/Small-Cap",
          "2021 COMPANIES/Mid-Cap",
          "2021 COMPANIES/Large-Cap",
          "2021 COMPANIES/Small-Cap",
          "2021 COMPANIES/Mid-Cap",
          "2021 COMPANIES/Large-Cap",
          "2021 COMPANIES/Small-Cap",
          "2021 COMPANIES/Mid-Cap",
          "2021 COMPANIES/Large-Cap",
          "2021 COMPANIES/Small-Cap",
          "2021 COMPANIES/Mid-Cap",
          "2021 COMPANIES/Large-Cap",
          "2021 COMPANIES/Small-Cap",
          "2021 COMPANIES/Mid-Cap",
          "2021 COMPANIES/Large-Cap",
          "2021 COMPANIES/Small-Cap",
          "2021 COMPANIES/Mid-Cap",
          "2021 COMPANIES/Large-Cap",
          "2021 COMPANIES/Small-Cap",
          "2021 COMPANIES/Mid-Cap",
          "2021 COMPANIES/Large-Cap",
          "2021 COMPANIES/Small-Cap",
          "2021 COMPANIES/Mid-Cap",
          "2021 COMPANIES/Large-Cap",
          "2021 COMPANIES/Small-Cap",
          "2021 COMPANIES/Mid-Cap",
          "2021 COMPANIES/Large-Cap",
          "2021 COMPANIES/Small-Cap",
          "2021 COMPANIES/Mid-Cap",
          "2021 COMPANIES/Large-Cap",
          "2021 COMPANIES/Small-Cap",
          "2021 COMPANIES/Mid-Cap",
          "2021 COMPANIES/Large-Cap",
          "2021 COMPANIES/Small-Cap",
          "2021 COMPANIES/Mid-Cap",
          "2021 COMPANIES/Large-Cap",
          "2021 COMPANIES/Small-Cap",
          "2021 COMPANIES/Mid-Cap",
          "2021 COMPANIES/Large-Cap",
          "2021 COMPANIES/Small-Cap",
          "2021 COMPANIES/Mid-Cap",
          "2021 COMPANIES/Large-Cap",
          "2021 COMPANIES/Small-Cap",
          "2021 COMPANIES/Mid-Cap",
          "2021 COMPANIES/Large-Cap",
          "2021 COMPANIES/Small-Cap",
          "2021 COMPANIES/Mid-Cap",
          "2021 COMPANIES/Large-Cap",
          "2021 COMPANIES/Small-Cap",
          "2021 COMPANIES/Mid-Cap",
          "2021 COMPANIES/Large-Cap",
          "2021 COMPANIES/Small-Cap",
          "2021 COMPANIES/Mid-Cap",
          "2021 COMPANIES/Large-Cap",
          "2021 COMPANIES/Small-Cap",
          "2021 COMPANIES/Mid-Cap",
          "2021 COMPANIES/Large-Cap",
          "2021 COMPANIES/Small-Cap",
          "2021 COMPANIES/Mid-Cap",
          "2021 COMPANIES/Large-Cap",
          "2021 COMPANIES/Small-Cap",
          "2021 COMPANIES/Mid-Cap",
          "2021 COMPANIES/Large-Cap",
          "2021 COMPANIES/Small-Cap",
          "2021 COMPANIES/Mid-Cap",
          "2021 COMPANIES/Large-Cap",
          "2021 COMPANIES/Small-Cap",
          "2021 COMPANIES/Mid-Cap",
          "2021 COMPANIES/Large-Cap",
          "2021 COMPANIES/Small-Cap",
          "2021 COMPANIES/Mid-Cap",
          "2021 COMPANIES/Large-Cap",
          "2021 COMPANIES/Small-Cap",
          "2021 COMPANIES/Mid-Cap",
          "2021 COMPANIES/Large-Cap",
          "2021 COMPANIES/Small-Cap",
          "2021 COMPANIES/Mid-Cap",
          "2021 COMPANIES/Large-Cap",
          "2021 COMPANIES/Small-Cap",
          "2021 COMPANIES/Mid-Cap",
          "2021 COMPANIES/Large-Cap",
          "2021 COMPANIES/Small-Cap",
          "2021 COMPANIES/Mid-Cap",
          "2021 COMPANIES/Large-Cap",
          "2021 COMPANIES/Small-Cap",
          "2021 COMPANIES/Mid-Cap",
          "2021 COMPANIES/Large-Cap",
          "2021 COMPANIES/Small-Cap",
          "2021 COMPANIES/Mid-Cap",
          "2021 COMPANIES/Large-Cap",
          "2021 COMPANIES/Small-Cap",
          "2021 COMPANIES/Mid-Cap",
          "2021 COMPANIES/Large-Cap",
          "2021 COMPANIES/Small-Cap",
          "2021 COMPANIES/Mid-Cap",
          "2021 COMPANIES/Large-Cap",
          "2021 COMPANIES/Small-Cap",
          "2021 COMPANIES/Mid-Cap",
          "2021 COMPANIES/Large-Cap",
          "2021 COMPANIES/Small-Cap",
          "2021 COMPANIES/Mid-Cap",
          "2021 COMPANIES/Large-Cap",
          "2021 COMPANIES/Small-Cap",
          "2021 COMPANIES/Mid-Cap",
          "2021 COMPANIES/Large-Cap",
          "2021 COMPANIES/Small-Cap",
          "2021 COMPANIES/Mid-Cap",
          "2021 COMPANIES/Large-Cap",
          "2021 COMPANIES/Small-Cap",
          "2021 COMPANIES/Mid-Cap",
          "2021 COMPANIES/Large-Cap",
          "2021 COMPANIES/Small-Cap",
          "2021 COMPANIES/Mid-Cap",
          "2021 COMPANIES/Large-Cap",
          "2021 COMPANIES/Small-Cap",
          "2021 COMPANIES/Mid-Cap",
          "2021 COMPANIES/Large-Cap",
          "2021 COMPANIES/Small-Cap",
          "2021 COMPANIES/Mid-Cap",
          "2021 COMPANIES/Large-Cap",
          "2021 COMPANIES/Small-Cap",
          "2021 COMPANIES/Mid-Cap",
          "2021 COMPANIES/Large-Cap",
          "2021 COMPANIES/Small-Cap",
          "2021 COMPANIES/Mid-Cap",
          "2021 COMPANIES/Large-Cap",
          "2021 COMPANIES/Small-Cap",
          "2021 COMPANIES/Mid-Cap",
          "2021 COMPANIES/Large-Cap",
          "2021 COMPANIES/Small-Cap",
          "2021 COMPANIES/Mid-Cap",
          "2021 COMPANIES/Large-Cap",
          "2021 COMPANIES/Small-Cap",
          "2021 COMPANIES/Mid-Cap",
          "2021 COMPANIES/Large-Cap",
          "2021 COMPANIES/Small-Cap",
          "2021 COMPANIES/Mid-Cap",
          "2021 COMPANIES/Large-Cap",
          "2021 COMPANIES/Small-Cap",
          "2021 COMPANIES/Mid-Cap",
          "2021 COMPANIES/Large-Cap",
          "2021 COMPANIES/Small-Cap",
          "2021 COMPANIES/Mid-Cap",
          "2021 COMPANIES/Large-Cap",
          "2021 COMPANIES/Small-Cap",
          "2021 COMPANIES/Mid-Cap",
          "2021 COMPANIES/Large-Cap",
          "2021 COMPANIES/Small-Cap",
          "2021 COMPANIES/Mid-Cap",
          "2021 COMPANIES/Large-Cap",
          "2021 COMPANIES/Small-Cap",
          "2021 COMPANIES/Mid-Cap",
          "2021 COMPANIES/Large-Cap",
          "2021 COMPANIES/Small-Cap",
          "2021 COMPANIES/Mid-Cap",
          "2021 COMPANIES/Large-Cap",
          "2021 COMPANIES/Small-Cap",
          "2021 COMPANIES/Mid-Cap",
          "2021 COMPANIES/Large-Cap",
          "2021 COMPANIES/Small-Cap",
          "2021 COMPANIES/Mid-Cap",
          "2021 COMPANIES/Large-Cap",
          "2021 COMPANIES/Small-Cap",
          "2021 COMPANIES/Mid-Cap",
          "2021 COMPANIES/Large-Cap",
          "2021 COMPANIES/Small-Cap",
          "2021 COMPANIES/Mid-Cap",
          "2021 COMPANIES/Large-Cap",
          "2021 COMPANIES/Small-Cap",
          "2021 COMPANIES/Mid-Cap",
          "2021 COMPANIES/Large-Cap",
          "2021 COMPANIES/Small-Cap",
          "2021 COMPANIES/Mid-Cap",
          "2021 COMPANIES/Large-Cap",
          "2021 COMPANIES/Small-Cap",
          "2021 COMPANIES/Mid-Cap",
          "2021 COMPANIES/Large-Cap",
          "2021 COMPANIES/Small-Cap",
          "2021 COMPANIES/Mid-Cap",
          "2021 COMPANIES/Large-Cap",
          "2021 COMPANIES/Small-Cap",
          "2021 COMPANIES/Mid-Cap",
          "2021 COMPANIES/Large-Cap",
          "2021 COMPANIES/Small-Cap",
          "2021 COMPANIES/Mid-Cap",
          "2021 COMPANIES/Large-Cap",
          "2021 COMPANIES",
          "2021 COMPANIES",
          "2021 COMPANIES",
          ""
         ],
         "type": "treemap",
         "values": [
          0,
          50187,
          0,
          13757,
          0,
          0,
          0,
          0,
          7612,
          0,
          0,
          0,
          429197,
          0,
          42835,
          11212,
          0,
          16311,
          0,
          9775,
          0,
          0,
          0,
          0,
          0,
          0,
          0,
          39489,
          0,
          7506,
          0,
          0,
          314354,
          0,
          0,
          12749,
          0,
          0,
          0,
          103544,
          12486,
          0,
          0,
          281424,
          1739,
          0,
          0,
          0,
          0,
          0,
          0,
          0,
          22752,
          0,
          28822,
          0,
          0,
          0,
          0,
          0,
          0,
          0,
          0,
          0,
          0,
          0,
          0,
          0,
          8204,
          0,
          1095,
          684,
          0,
          0,
          0,
          0,
          87551,
          0,
          21014,
          0,
          0,
          49154,
          0,
          13312,
          18881,
          0,
          14344,
          9341,
          15090,
          0,
          0,
          0,
          0,
          50076,
          0,
          0,
          4735,
          0,
          0,
          10609,
          25857,
          207152,
          0,
          0,
          25574,
          0,
          0,
          26436,
          7397,
          0,
          0,
          9689,
          0,
          0,
          15339,
          0,
          0,
          0,
          42225,
          0,
          8617,
          0,
          0,
          11119,
          0,
          0,
          0,
          0,
          0,
          0,
          0,
          0,
          0,
          29351,
          0,
          0,
          44780,
          0,
          0,
          45795,
          0,
          17788,
          0,
          0,
          0,
          22328,
          0,
          0,
          34467,
          0,
          0,
          42011,
          0,
          0,
          180828,
          0,
          0,
          148552,
          0,
          40395,
          0,
          0,
          0,
          0,
          0,
          0,
          0,
          45098,
          72467,
          0,
          0,
          0,
          2633,
          0,
          80415,
          0,
          0,
          0,
          3411,
          9858,
          0,
          14201,
          2911,
          41124,
          0,
          0,
          3172,
          0,
          0,
          219560,
          0,
          1994,
          8365,
          0,
          106827,
          3022,
          15682,
          0,
          0,
          32575,
          0,
          0,
          0,
          0,
          0,
          0,
          6810,
          25093,
          12190,
          0,
          0,
          0,
          0,
          0,
          0,
          0,
          302574,
          1976,
          0,
          0,
          0,
          20354,
          0,
          0,
          0,
          3177,
          0,
          0,
          37664,
          0,
          0,
          24889,
          27857,
          3850,
          31595,
          0,
          0,
          0,
          0,
          0,
          71076,
          1479,
          0,
          0,
          13555,
          0,
          0,
          0,
          25055,
          0,
          0,
          0,
          0,
          24019,
          7256,
          0,
          0,
          0,
          0,
          0,
          0,
          0,
          0,
          0,
          16980,
          0,
          40140,
          11220,
          6669,
          48538,
          0,
          11424,
          0,
          99783,
          0,
          21289,
          0,
          52136,
          24666,
          0,
          7573,
          0,
          0,
          0,
          35798,
          45487,
          0,
          0,
          11392,
          0,
          13109,
          0,
          0,
          0,
          0,
          0,
          0,
          0,
          51171,
          0,
          0,
          0,
          0,
          11840,
          0,
          0,
          12398,
          0,
          0,
          0,
          6930,
          0,
          0,
          14562,
          0,
          4194,
          0,
          0,
          0,
          12640,
          0,
          0,
          0,
          0,
          0,
          10519,
          24366,
          0,
          0,
          0,
          0,
          22771,
          0,
          0,
          0,
          0,
          64068,
          0,
          0,
          0,
          0,
          2702,
          88892,
          0,
          0,
          74808,
          0,
          153,
          20250,
          0,
          4977,
          0,
          0,
          0,
          4632,
          0,
          0,
          102508,
          0,
          0,
          0,
          0,
          1720,
          0,
          0,
          40161,
          444022,
          0,
          40824,
          0,
          74025,
          0,
          0,
          130306,
          0,
          14958,
          0,
          22488,
          0,
          0,
          0,
          0,
          0,
          0,
          11863,
          0,
          0,
          0,
          0,
          0,
          6641,
          0,
          0,
          8564,
          0,
          78901,
          0,
          0,
          0,
          0,
          6378,
          0,
          0,
          11292,
          0,
          0,
          0,
          95804,
          0,
          0,
          20458,
          884,
          0,
          0,
          0,
          9569,
          0,
          0,
          0,
          117671,
          4788,
          0,
          0,
          0,
          5009,
          0,
          3895,
          0,
          0,
          0,
          0,
          44807,
          0,
          6870,
          0,
          4957,
          0,
          0,
          0,
          17734,
          0,
          0,
          0,
          312572,
          0,
          0,
          857288,
          0,
          0,
          141092,
          0,
          9570,
          0,
          0,
          0,
          28952,
          0,
          0,
          84463,
          2261,
          0,
          0,
          0,
          0,
          52961,
          2339,
          0,
          0,
          0,
          0,
          101494,
          0,
          5924,
          0,
          0,
          0,
          45478,
          1493,
          0,
          0,
          0,
          0,
          45998,
          0,
          0,
          561821,
          0,
          0,
          136791,
          0,
          0,
          36582,
          0,
          0,
          523505,
          0,
          8436,
          0,
          1800,
          0,
          0,
          0,
          0,
          530898,
          0,
          0,
          73517,
          0,
          0,
          90465,
          0,
          0,
          53216,
          0,
          0,
          30791,
          0,
          5054,
          0,
          2522,
          0,
          0,
          0,
          12617,
          0,
          0,
          7814,
          0,
          4569,
          0,
          0,
          0,
          0,
          282962,
          1325,
          0,
          0,
          0,
          6293,
          0,
          2784,
          0,
          0,
          0,
          10489,
          0,
          0,
          0,
          20238,
          0,
          0,
          122384,
          0,
          0,
          40073,
          0,
          0,
          34262,
          0,
          0,
          77881,
          0,
          0,
          80291,
          0,
          0,
          729615,
          0,
          0,
          83073,
          0,
          0,
          26791,
          1308,
          0,
          0,
          0,
          0,
          26855,
          0,
          7500,
          0,
          3737,
          0,
          0,
          3442,
          0,
          0,
          0,
          7634,
          0,
          1702,
          0,
          0,
          0,
          0,
          51866,
          0,
          0,
          160603,
          554,
          0,
          0,
          2134,
          0,
          0,
          2240,
          0,
          0,
          3153,
          0,
          0,
          3948,
          0,
          0,
          1784,
          0,
          0,
          4373,
          0,
          0,
          3434,
          0,
          0,
          0,
          7670,
          0,
          0,
          8834,
          0,
          0,
          0,
          39911,
          0,
          0,
          50367,
          0,
          9661,
          0,
          0,
          11904,
          0,
          0,
          9191,
          0,
          0,
          7990,
          0,
          0,
          17498,
          0,
          0,
          6150,
          0,
          0,
          18720,
          0,
          0,
          6093,
          0,
          0,
          6592,
          0,
          0,
          0,
          31747,
          2218,
          0,
          0,
          4237,
          0,
          0,
          1530,
          0,
          0,
          2938,
          0,
          0,
          2803,
          0,
          0,
          0,
          0,
          405164,
          283,
          0,
          0,
          0,
          0,
          20344,
          0,
          0,
          55168,
          0,
          0,
          22641,
          2173,
          0,
          0,
          0,
          0,
          121190,
          0,
          0,
          264394,
          0,
          0,
          26433,
          0,
          0,
          41696,
          0,
          6190,
          0,
          0,
          0,
          32812,
          0,
          9687,
          0,
          3401,
          0,
          0,
          0,
          0,
          22512,
          0,
          0,
          111131,
          0,
          10245,
          0,
          0,
          5116,
          0,
          0,
          16339,
          0,
          815,
          0,
          0,
          0,
          8356,
          0,
          0,
          0,
          71268,
          0,
          0,
          230905,
          0,
          0,
          33243,
          0,
          0,
          78238,
          4054,
          0,
          0,
          0,
          0,
          24642,
          0,
          0,
          73329,
          0,
          13741,
          0,
          0,
          0,
          61579,
          1868,
          0,
          0,
          0,
          0,
          62880,
          0,
          8056,
          0,
          4668,
          0,
          0,
          0,
          0,
          31893,
          0,
          8990,
          0,
          0,
          0,
          41306,
          0,
          0,
          130589,
          0,
          11496,
          0,
          0,
          17899,
          0,
          2620,
          0,
          0,
          1680,
          0,
          0,
          0,
          0,
          184103,
          3531,
          0,
          0,
          0,
          0,
          191776,
          0,
          0,
          23202,
          0,
          0,
          37591,
          3433,
          0,
          0,
          1186,
          0,
          0,
          3774,
          0,
          0,
          0,
          0,
          43330,
          0,
          8086,
          0,
          0,
          8178,
          0,
          3545,
          0,
          0,
          0,
          0,
          44216,
          1126,
          0,
          0,
          167,
          0,
          0,
          0,
          0,
          31475,
          0,
          0,
          34378,
          0,
          0,
          23330,
          4227,
          0,
          0,
          0,
          0,
          119677,
          0,
          0,
          62754,
          0,
          5433,
          0,
          0,
          14176,
          0,
          0,
          0,
          34613,
          0,
          0,
          133846,
          1186,
          0,
          0,
          0,
          18697,
          0,
          2242,
          0,
          0,
          0,
          6436,
          0,
          0,
          0,
          48160,
          0,
          7034,
          0,
          0,
          0,
          45051,
          0,
          13338,
          0,
          0,
          12067,
          0,
          0,
          0,
          28175,
          1057,
          0,
          0,
          0,
          7047,
          0,
          0,
          0,
          20169,
          863,
          0,
          0,
          4240,
          0,
          0,
          3579,
          0,
          0,
          0,
          11423,
          0,
          470,
          0,
          0,
          0,
          0,
          1573893,
          2204,
          0,
          0,
          4686,
          0,
          0,
          0,
          5306,
          0,
          0,
          0,
          116722,
          0,
          7056,
          0,
          0,
          11353,
          0,
          0,
          18585,
          0,
          253,
          0,
          0,
          0,
          0,
          63183,
          771,
          0,
          0,
          0,
          18753,
          0,
          1290,
          0,
          0,
          0,
          6388,
          0,
          0,
          0,
          100890,
          0,
          5751,
          0,
          0,
          13929,
          0,
          0,
          0,
          42270,
          0,
          0,
          81546,
          231,
          0,
          0,
          0,
          8251,
          0,
          0,
          8961,
          0,
          1918,
          0,
          0,
          4503,
          0,
          0,
          0,
          0,
          448717,
          0,
          0,
          47367,
          0,
          11027,
          0,
          4616,
          0,
          0,
          0,
          0,
          189503,
          0,
          0,
          21977,
          0,
          8932,
          0,
          0,
          0,
          26843,
          0,
          17510,
          0,
          0,
          0,
          28875,
          0,
          6199,
          0,
          3401,
          0,
          0,
          0,
          6213,
          0,
          0,
          0,
          33896,
          916,
          0,
          0,
          0,
          0,
          23216,
          0,
          0,
          35909,
          0,
          0,
          1292238,
          0,
          0,
          75641,
          0,
          0,
          164157,
          0,
          0,
          74877,
          0,
          9584,
          0,
          0,
          0,
          149144,
          0,
          7456,
          0,
          0,
          0,
          150200,
          0,
          7516,
          0,
          0,
          0,
          25264,
          0,
          0,
          24342,
          0,
          18657,
          0,
          1709,
          0,
          0,
          0,
          0,
          217072,
          0,
          0,
          48422,
          0,
          0,
          25608,
          0,
          5521,
          0,
          0,
          0,
          39163,
          0,
          0,
          22789,
          4979,
          0,
          0,
          0,
          0,
          32188,
          0,
          16551,
          0,
          0,
          0,
          56322,
          3766,
          0,
          0,
          0,
          0,
          225360,
          0,
          0,
          32647,
          0,
          0,
          43526,
          0,
          0,
          68601,
          2757,
          0,
          0,
          0,
          10779,
          0,
          2138,
          0,
          0,
          0,
          11616,
          0,
          0,
          0,
          40184,
          0,
          0,
          122544,
          3761,
          0,
          0,
          0,
          0,
          29867,
          0,
          0,
          40453,
          3820,
          0,
          0,
          0,
          13942,
          0,
          1684,
          0,
          0,
          0,
          0,
          27976,
          0,
          0,
          355277,
          4909,
          0,
          0,
          0,
          0,
          32233,
          0,
          0,
          30709,
          0,
          10394,
          0,
          465,
          0,
          0,
          244373,
          1271083,
          20468147,
          21983603
         ]
        }
       ],
       "layout": {
        "legend": {
         "tracegroupgap": 0
        },
        "margin": {
         "b": 10,
         "l": 10,
         "r": 10,
         "t": 10
        },
        "template": {
         "data": {
          "bar": [
           {
            "error_x": {
             "color": "#2a3f5f"
            },
            "error_y": {
             "color": "#2a3f5f"
            },
            "marker": {
             "line": {
              "color": "#E5ECF6",
              "width": 0.5
             },
             "pattern": {
              "fillmode": "overlay",
              "size": 10,
              "solidity": 0.2
             }
            },
            "type": "bar"
           }
          ],
          "barpolar": [
           {
            "marker": {
             "line": {
              "color": "#E5ECF6",
              "width": 0.5
             },
             "pattern": {
              "fillmode": "overlay",
              "size": 10,
              "solidity": 0.2
             }
            },
            "type": "barpolar"
           }
          ],
          "carpet": [
           {
            "aaxis": {
             "endlinecolor": "#2a3f5f",
             "gridcolor": "white",
             "linecolor": "white",
             "minorgridcolor": "white",
             "startlinecolor": "#2a3f5f"
            },
            "baxis": {
             "endlinecolor": "#2a3f5f",
             "gridcolor": "white",
             "linecolor": "white",
             "minorgridcolor": "white",
             "startlinecolor": "#2a3f5f"
            },
            "type": "carpet"
           }
          ],
          "choropleth": [
           {
            "colorbar": {
             "outlinewidth": 0,
             "ticks": ""
            },
            "type": "choropleth"
           }
          ],
          "contour": [
           {
            "colorbar": {
             "outlinewidth": 0,
             "ticks": ""
            },
            "colorscale": [
             [
              0,
              "#0d0887"
             ],
             [
              0.1111111111111111,
              "#46039f"
             ],
             [
              0.2222222222222222,
              "#7201a8"
             ],
             [
              0.3333333333333333,
              "#9c179e"
             ],
             [
              0.4444444444444444,
              "#bd3786"
             ],
             [
              0.5555555555555556,
              "#d8576b"
             ],
             [
              0.6666666666666666,
              "#ed7953"
             ],
             [
              0.7777777777777778,
              "#fb9f3a"
             ],
             [
              0.8888888888888888,
              "#fdca26"
             ],
             [
              1,
              "#f0f921"
             ]
            ],
            "type": "contour"
           }
          ],
          "contourcarpet": [
           {
            "colorbar": {
             "outlinewidth": 0,
             "ticks": ""
            },
            "type": "contourcarpet"
           }
          ],
          "heatmap": [
           {
            "colorbar": {
             "outlinewidth": 0,
             "ticks": ""
            },
            "colorscale": [
             [
              0,
              "#0d0887"
             ],
             [
              0.1111111111111111,
              "#46039f"
             ],
             [
              0.2222222222222222,
              "#7201a8"
             ],
             [
              0.3333333333333333,
              "#9c179e"
             ],
             [
              0.4444444444444444,
              "#bd3786"
             ],
             [
              0.5555555555555556,
              "#d8576b"
             ],
             [
              0.6666666666666666,
              "#ed7953"
             ],
             [
              0.7777777777777778,
              "#fb9f3a"
             ],
             [
              0.8888888888888888,
              "#fdca26"
             ],
             [
              1,
              "#f0f921"
             ]
            ],
            "type": "heatmap"
           }
          ],
          "heatmapgl": [
           {
            "colorbar": {
             "outlinewidth": 0,
             "ticks": ""
            },
            "colorscale": [
             [
              0,
              "#0d0887"
             ],
             [
              0.1111111111111111,
              "#46039f"
             ],
             [
              0.2222222222222222,
              "#7201a8"
             ],
             [
              0.3333333333333333,
              "#9c179e"
             ],
             [
              0.4444444444444444,
              "#bd3786"
             ],
             [
              0.5555555555555556,
              "#d8576b"
             ],
             [
              0.6666666666666666,
              "#ed7953"
             ],
             [
              0.7777777777777778,
              "#fb9f3a"
             ],
             [
              0.8888888888888888,
              "#fdca26"
             ],
             [
              1,
              "#f0f921"
             ]
            ],
            "type": "heatmapgl"
           }
          ],
          "histogram": [
           {
            "marker": {
             "pattern": {
              "fillmode": "overlay",
              "size": 10,
              "solidity": 0.2
             }
            },
            "type": "histogram"
           }
          ],
          "histogram2d": [
           {
            "colorbar": {
             "outlinewidth": 0,
             "ticks": ""
            },
            "colorscale": [
             [
              0,
              "#0d0887"
             ],
             [
              0.1111111111111111,
              "#46039f"
             ],
             [
              0.2222222222222222,
              "#7201a8"
             ],
             [
              0.3333333333333333,
              "#9c179e"
             ],
             [
              0.4444444444444444,
              "#bd3786"
             ],
             [
              0.5555555555555556,
              "#d8576b"
             ],
             [
              0.6666666666666666,
              "#ed7953"
             ],
             [
              0.7777777777777778,
              "#fb9f3a"
             ],
             [
              0.8888888888888888,
              "#fdca26"
             ],
             [
              1,
              "#f0f921"
             ]
            ],
            "type": "histogram2d"
           }
          ],
          "histogram2dcontour": [
           {
            "colorbar": {
             "outlinewidth": 0,
             "ticks": ""
            },
            "colorscale": [
             [
              0,
              "#0d0887"
             ],
             [
              0.1111111111111111,
              "#46039f"
             ],
             [
              0.2222222222222222,
              "#7201a8"
             ],
             [
              0.3333333333333333,
              "#9c179e"
             ],
             [
              0.4444444444444444,
              "#bd3786"
             ],
             [
              0.5555555555555556,
              "#d8576b"
             ],
             [
              0.6666666666666666,
              "#ed7953"
             ],
             [
              0.7777777777777778,
              "#fb9f3a"
             ],
             [
              0.8888888888888888,
              "#fdca26"
             ],
             [
              1,
              "#f0f921"
             ]
            ],
            "type": "histogram2dcontour"
           }
          ],
          "mesh3d": [
           {
            "colorbar": {
             "outlinewidth": 0,
             "ticks": ""
            },
            "type": "mesh3d"
           }
          ],
          "parcoords": [
           {
            "line": {
             "colorbar": {
              "outlinewidth": 0,
              "ticks": ""
             }
            },
            "type": "parcoords"
           }
          ],
          "pie": [
           {
            "automargin": true,
            "type": "pie"
           }
          ],
          "scatter": [
           {
            "marker": {
             "colorbar": {
              "outlinewidth": 0,
              "ticks": ""
             }
            },
            "type": "scatter"
           }
          ],
          "scatter3d": [
           {
            "line": {
             "colorbar": {
              "outlinewidth": 0,
              "ticks": ""
             }
            },
            "marker": {
             "colorbar": {
              "outlinewidth": 0,
              "ticks": ""
             }
            },
            "type": "scatter3d"
           }
          ],
          "scattercarpet": [
           {
            "marker": {
             "colorbar": {
              "outlinewidth": 0,
              "ticks": ""
             }
            },
            "type": "scattercarpet"
           }
          ],
          "scattergeo": [
           {
            "marker": {
             "colorbar": {
              "outlinewidth": 0,
              "ticks": ""
             }
            },
            "type": "scattergeo"
           }
          ],
          "scattergl": [
           {
            "marker": {
             "colorbar": {
              "outlinewidth": 0,
              "ticks": ""
             }
            },
            "type": "scattergl"
           }
          ],
          "scattermapbox": [
           {
            "marker": {
             "colorbar": {
              "outlinewidth": 0,
              "ticks": ""
             }
            },
            "type": "scattermapbox"
           }
          ],
          "scatterpolar": [
           {
            "marker": {
             "colorbar": {
              "outlinewidth": 0,
              "ticks": ""
             }
            },
            "type": "scatterpolar"
           }
          ],
          "scatterpolargl": [
           {
            "marker": {
             "colorbar": {
              "outlinewidth": 0,
              "ticks": ""
             }
            },
            "type": "scatterpolargl"
           }
          ],
          "scatterternary": [
           {
            "marker": {
             "colorbar": {
              "outlinewidth": 0,
              "ticks": ""
             }
            },
            "type": "scatterternary"
           }
          ],
          "surface": [
           {
            "colorbar": {
             "outlinewidth": 0,
             "ticks": ""
            },
            "colorscale": [
             [
              0,
              "#0d0887"
             ],
             [
              0.1111111111111111,
              "#46039f"
             ],
             [
              0.2222222222222222,
              "#7201a8"
             ],
             [
              0.3333333333333333,
              "#9c179e"
             ],
             [
              0.4444444444444444,
              "#bd3786"
             ],
             [
              0.5555555555555556,
              "#d8576b"
             ],
             [
              0.6666666666666666,
              "#ed7953"
             ],
             [
              0.7777777777777778,
              "#fb9f3a"
             ],
             [
              0.8888888888888888,
              "#fdca26"
             ],
             [
              1,
              "#f0f921"
             ]
            ],
            "type": "surface"
           }
          ],
          "table": [
           {
            "cells": {
             "fill": {
              "color": "#EBF0F8"
             },
             "line": {
              "color": "white"
             }
            },
            "header": {
             "fill": {
              "color": "#C8D4E3"
             },
             "line": {
              "color": "white"
             }
            },
            "type": "table"
           }
          ]
         },
         "layout": {
          "annotationdefaults": {
           "arrowcolor": "#2a3f5f",
           "arrowhead": 0,
           "arrowwidth": 1
          },
          "autotypenumbers": "strict",
          "coloraxis": {
           "colorbar": {
            "outlinewidth": 0,
            "ticks": ""
           }
          },
          "colorscale": {
           "diverging": [
            [
             0,
             "#8e0152"
            ],
            [
             0.1,
             "#c51b7d"
            ],
            [
             0.2,
             "#de77ae"
            ],
            [
             0.3,
             "#f1b6da"
            ],
            [
             0.4,
             "#fde0ef"
            ],
            [
             0.5,
             "#f7f7f7"
            ],
            [
             0.6,
             "#e6f5d0"
            ],
            [
             0.7,
             "#b8e186"
            ],
            [
             0.8,
             "#7fbc41"
            ],
            [
             0.9,
             "#4d9221"
            ],
            [
             1,
             "#276419"
            ]
           ],
           "sequential": [
            [
             0,
             "#0d0887"
            ],
            [
             0.1111111111111111,
             "#46039f"
            ],
            [
             0.2222222222222222,
             "#7201a8"
            ],
            [
             0.3333333333333333,
             "#9c179e"
            ],
            [
             0.4444444444444444,
             "#bd3786"
            ],
            [
             0.5555555555555556,
             "#d8576b"
            ],
            [
             0.6666666666666666,
             "#ed7953"
            ],
            [
             0.7777777777777778,
             "#fb9f3a"
            ],
            [
             0.8888888888888888,
             "#fdca26"
            ],
            [
             1,
             "#f0f921"
            ]
           ],
           "sequentialminus": [
            [
             0,
             "#0d0887"
            ],
            [
             0.1111111111111111,
             "#46039f"
            ],
            [
             0.2222222222222222,
             "#7201a8"
            ],
            [
             0.3333333333333333,
             "#9c179e"
            ],
            [
             0.4444444444444444,
             "#bd3786"
            ],
            [
             0.5555555555555556,
             "#d8576b"
            ],
            [
             0.6666666666666666,
             "#ed7953"
            ],
            [
             0.7777777777777778,
             "#fb9f3a"
            ],
            [
             0.8888888888888888,
             "#fdca26"
            ],
            [
             1,
             "#f0f921"
            ]
           ]
          },
          "colorway": [
           "#636efa",
           "#EF553B",
           "#00cc96",
           "#ab63fa",
           "#FFA15A",
           "#19d3f3",
           "#FF6692",
           "#B6E880",
           "#FF97FF",
           "#FECB52"
          ],
          "font": {
           "color": "#2a3f5f"
          },
          "geo": {
           "bgcolor": "white",
           "lakecolor": "white",
           "landcolor": "#E5ECF6",
           "showlakes": true,
           "showland": true,
           "subunitcolor": "white"
          },
          "hoverlabel": {
           "align": "left"
          },
          "hovermode": "closest",
          "mapbox": {
           "style": "light"
          },
          "paper_bgcolor": "white",
          "plot_bgcolor": "#E5ECF6",
          "polar": {
           "angularaxis": {
            "gridcolor": "white",
            "linecolor": "white",
            "ticks": ""
           },
           "bgcolor": "#E5ECF6",
           "radialaxis": {
            "gridcolor": "white",
            "linecolor": "white",
            "ticks": ""
           }
          },
          "scene": {
           "xaxis": {
            "backgroundcolor": "#E5ECF6",
            "gridcolor": "white",
            "gridwidth": 2,
            "linecolor": "white",
            "showbackground": true,
            "ticks": "",
            "zerolinecolor": "white"
           },
           "yaxis": {
            "backgroundcolor": "#E5ECF6",
            "gridcolor": "white",
            "gridwidth": 2,
            "linecolor": "white",
            "showbackground": true,
            "ticks": "",
            "zerolinecolor": "white"
           },
           "zaxis": {
            "backgroundcolor": "#E5ECF6",
            "gridcolor": "white",
            "gridwidth": 2,
            "linecolor": "white",
            "showbackground": true,
            "ticks": "",
            "zerolinecolor": "white"
           }
          },
          "shapedefaults": {
           "line": {
            "color": "#2a3f5f"
           }
          },
          "ternary": {
           "aaxis": {
            "gridcolor": "white",
            "linecolor": "white",
            "ticks": ""
           },
           "baxis": {
            "gridcolor": "white",
            "linecolor": "white",
            "ticks": ""
           },
           "bgcolor": "#E5ECF6",
           "caxis": {
            "gridcolor": "white",
            "linecolor": "white",
            "ticks": ""
           }
          },
          "title": {
           "x": 0.05
          },
          "xaxis": {
           "automargin": true,
           "gridcolor": "white",
           "linecolor": "white",
           "ticks": "",
           "title": {
            "standoff": 15
           },
           "zerolinecolor": "white",
           "zerolinewidth": 2
          },
          "yaxis": {
           "automargin": true,
           "gridcolor": "white",
           "linecolor": "white",
           "ticks": "",
           "title": {
            "standoff": 15
           },
           "zerolinecolor": "white",
           "zerolinewidth": 2
          }
         }
        }
       }
      },
      "text/html": [
       "<div>                            <div id=\"52f29d38-bf1c-49f0-90e4-bec20adf6b69\" class=\"plotly-graph-div\" style=\"height:525px; width:100%;\"></div>            <script type=\"text/javascript\">                require([\"plotly\"], function(Plotly) {                    window.PLOTLYENV=window.PLOTLYENV || {};                                    if (document.getElementById(\"52f29d38-bf1c-49f0-90e4-bec20adf6b69\")) {                    Plotly.newPlot(                        \"52f29d38-bf1c-49f0-90e4-bec20adf6b69\",                        [{\"branchvalues\":\"total\",\"customdata\":[[null],[\"Large-Cap\"],[null],[\"Mid-Cap\"],[null],[null],[null],[null],[\"Mid-Cap\"],[null],[null],[null],[\"Large-Cap\"],[null],[\"Large-Cap\"],[\"Mid-Cap\"],[null],[\"Mid-Cap\"],[null],[\"Mid-Cap\"],[null],[null],[null],[null],[null],[null],[null],[\"Large-Cap\"],[null],[\"Mid-Cap\"],[null],[null],[\"Large-Cap\"],[null],[null],[\"Mid-Cap\"],[null],[null],[null],[\"Large-Cap\"],[\"Mid-Cap\"],[null],[null],[\"Large-Cap\"],[\"Small-Cap\"],[null],[null],[null],[null],[null],[null],[null],[\"Large-Cap\"],[null],[\"Large-Cap\"],[null],[null],[null],[null],[null],[null],[null],[null],[null],[null],[null],[null],[null],[\"Mid-Cap\"],[null],[\"Small-Cap\"],[\"Small-Cap\"],[null],[null],[null],[null],[\"Large-Cap\"],[null],[\"Large-Cap\"],[null],[null],[\"Large-Cap\"],[null],[\"Mid-Cap\"],[\"Mid-Cap\"],[null],[\"Mid-Cap\"],[\"Mid-Cap\"],[\"Mid-Cap\"],[null],[null],[null],[null],[\"Large-Cap\"],[null],[null],[\"Small-Cap\"],[null],[null],[\"Mid-Cap\"],[\"Large-Cap\"],[\"Large-Cap\"],[null],[null],[\"Large-Cap\"],[null],[null],[\"Large-Cap\"],[\"Mid-Cap\"],[null],[null],[\"Mid-Cap\"],[null],[null],[\"Mid-Cap\"],[null],[null],[null],[\"Large-Cap\"],[null],[\"Mid-Cap\"],[null],[null],[\"Mid-Cap\"],[null],[null],[null],[null],[null],[null],[null],[null],[null],[\"Large-Cap\"],[null],[null],[\"Large-Cap\"],[null],[null],[\"Large-Cap\"],[null],[\"Mid-Cap\"],[null],[null],[null],[\"Large-Cap\"],[null],[null],[\"Large-Cap\"],[null],[null],[\"Large-Cap\"],[null],[null],[\"Large-Cap\"],[null],[null],[\"Large-Cap\"],[null],[\"Large-Cap\"],[null],[null],[null],[null],[null],[null],[null],[\"Large-Cap\"],[\"Large-Cap\"],[null],[null],[null],[\"Small-Cap\"],[null],[\"Large-Cap\"],[null],[null],[null],[\"Small-Cap\"],[\"Mid-Cap\"],[null],[\"Mid-Cap\"],[\"Small-Cap\"],[\"Large-Cap\"],[null],[null],[\"Small-Cap\"],[null],[null],[\"Large-Cap\"],[null],[\"Small-Cap\"],[\"Mid-Cap\"],[null],[\"Large-Cap\"],[\"Small-Cap\"],[\"Mid-Cap\"],[null],[null],[\"Large-Cap\"],[null],[null],[null],[null],[null],[null],[\"Mid-Cap\"],[\"Large-Cap\"],[\"Mid-Cap\"],[null],[null],[null],[null],[null],[null],[null],[\"Large-Cap\"],[\"Small-Cap\"],[null],[null],[null],[\"Large-Cap\"],[null],[null],[null],[\"Small-Cap\"],[null],[null],[\"Large-Cap\"],[null],[null],[\"Large-Cap\"],[\"Large-Cap\"],[\"Small-Cap\"],[\"Large-Cap\"],[null],[null],[null],[null],[null],[\"Large-Cap\"],[\"Small-Cap\"],[null],[null],[\"Mid-Cap\"],[null],[null],[null],[\"Large-Cap\"],[null],[null],[null],[null],[\"Large-Cap\"],[\"Mid-Cap\"],[null],[null],[null],[null],[null],[null],[null],[null],[null],[\"Mid-Cap\"],[null],[\"Large-Cap\"],[\"Mid-Cap\"],[\"Mid-Cap\"],[\"Large-Cap\"],[null],[\"Mid-Cap\"],[null],[\"Large-Cap\"],[null],[\"Large-Cap\"],[null],[\"Large-Cap\"],[\"Large-Cap\"],[null],[\"Mid-Cap\"],[null],[null],[null],[\"Large-Cap\"],[\"Large-Cap\"],[null],[null],[\"Mid-Cap\"],[null],[\"Mid-Cap\"],[null],[null],[null],[null],[null],[null],[null],[\"Large-Cap\"],[null],[null],[null],[null],[\"Mid-Cap\"],[null],[null],[\"Mid-Cap\"],[null],[null],[null],[\"Mid-Cap\"],[null],[null],[\"Mid-Cap\"],[null],[\"Small-Cap\"],[null],[null],[null],[\"Mid-Cap\"],[null],[null],[null],[null],[null],[\"Mid-Cap\"],[\"Large-Cap\"],[null],[null],[null],[null],[\"Large-Cap\"],[null],[null],[null],[null],[\"Large-Cap\"],[null],[null],[null],[null],[\"Small-Cap\"],[\"Large-Cap\"],[null],[null],[\"Large-Cap\"],[null],[\"Small-Cap\"],[\"Large-Cap\"],[null],[\"Small-Cap\"],[null],[null],[null],[\"Small-Cap\"],[null],[null],[\"Large-Cap\"],[null],[null],[null],[null],[\"Small-Cap\"],[null],[null],[\"Large-Cap\"],[\"Large-Cap\"],[null],[\"Large-Cap\"],[null],[\"Large-Cap\"],[null],[null],[\"Large-Cap\"],[null],[\"Mid-Cap\"],[null],[\"Large-Cap\"],[null],[null],[null],[null],[null],[null],[\"Mid-Cap\"],[null],[null],[null],[null],[null],[\"Mid-Cap\"],[null],[null],[\"Mid-Cap\"],[null],[\"Large-Cap\"],[null],[null],[null],[null],[\"Mid-Cap\"],[null],[null],[\"Mid-Cap\"],[null],[null],[null],[\"Large-Cap\"],[null],[null],[\"Large-Cap\"],[\"Small-Cap\"],[null],[null],[null],[\"Mid-Cap\"],[null],[null],[null],[\"Large-Cap\"],[\"Small-Cap\"],[null],[null],[null],[\"Mid-Cap\"],[null],[\"Small-Cap\"],[null],[null],[null],[null],[\"Large-Cap\"],[null],[\"Mid-Cap\"],[null],[\"Small-Cap\"],[null],[null],[null],[\"Mid-Cap\"],[null],[null],[null],[\"Large-Cap\"],[null],[null],[\"Large-Cap\"],[null],[null],[\"Large-Cap\"],[null],[\"Mid-Cap\"],[null],[null],[null],[\"Large-Cap\"],[null],[null],[\"Large-Cap\"],[\"Small-Cap\"],[null],[null],[null],[null],[\"Large-Cap\"],[\"Small-Cap\"],[null],[null],[null],[null],[\"Large-Cap\"],[null],[\"Mid-Cap\"],[null],[null],[null],[\"Large-Cap\"],[\"Small-Cap\"],[null],[null],[null],[null],[\"Large-Cap\"],[null],[null],[\"Large-Cap\"],[null],[null],[\"Large-Cap\"],[null],[null],[\"Large-Cap\"],[null],[null],[\"Large-Cap\"],[null],[\"Mid-Cap\"],[null],[\"Small-Cap\"],[null],[null],[null],[null],[\"Large-Cap\"],[null],[null],[\"Large-Cap\"],[null],[null],[\"Large-Cap\"],[null],[null],[\"Large-Cap\"],[null],[null],[\"Large-Cap\"],[null],[\"Mid-Cap\"],[null],[\"Small-Cap\"],[null],[null],[null],[\"Mid-Cap\"],[null],[null],[\"Mid-Cap\"],[null],[\"Small-Cap\"],[null],[null],[null],[null],[\"Large-Cap\"],[\"Small-Cap\"],[null],[null],[null],[\"Mid-Cap\"],[null],[\"Small-Cap\"],[null],[null],[null],[\"Mid-Cap\"],[null],[null],[null],[\"Large-Cap\"],[null],[null],[\"Large-Cap\"],[null],[null],[\"Large-Cap\"],[null],[null],[\"Large-Cap\"],[null],[null],[\"Large-Cap\"],[null],[null],[\"Large-Cap\"],[null],[null],[\"Large-Cap\"],[null],[null],[\"Large-Cap\"],[null],[null],[\"Large-Cap\"],[\"Small-Cap\"],[null],[null],[null],[null],[\"Large-Cap\"],[null],[\"Mid-Cap\"],[null],[\"Small-Cap\"],[null],[null],[\"Small-Cap\"],[null],[null],[null],[\"Mid-Cap\"],[null],[\"Small-Cap\"],[null],[null],[null],[null],[\"Large-Cap\"],[null],[null],[\"Large-Cap\"],[\"Small-Cap\"],[null],[null],[\"Small-Cap\"],[null],[null],[\"Small-Cap\"],[null],[null],[\"Small-Cap\"],[null],[null],[\"Small-Cap\"],[null],[null],[\"Small-Cap\"],[null],[null],[\"Small-Cap\"],[null],[null],[\"Small-Cap\"],[null],[null],[null],[\"Mid-Cap\"],[null],[null],[\"Mid-Cap\"],[null],[null],[null],[\"Large-Cap\"],[null],[null],[\"Large-Cap\"],[null],[\"Mid-Cap\"],[null],[null],[\"Mid-Cap\"],[null],[null],[\"Mid-Cap\"],[null],[null],[\"Mid-Cap\"],[null],[null],[\"Mid-Cap\"],[null],[null],[\"Mid-Cap\"],[null],[null],[\"Mid-Cap\"],[null],[null],[\"Mid-Cap\"],[null],[null],[\"Mid-Cap\"],[null],[null],[null],[\"Large-Cap\"],[\"Small-Cap\"],[null],[null],[\"Small-Cap\"],[null],[null],[\"Small-Cap\"],[null],[null],[\"Small-Cap\"],[null],[null],[\"Small-Cap\"],[null],[null],[null],[null],[\"Large-Cap\"],[\"Small-Cap\"],[null],[null],[null],[null],[\"Large-Cap\"],[null],[null],[\"Large-Cap\"],[null],[null],[\"Large-Cap\"],[\"Small-Cap\"],[null],[null],[null],[null],[\"Large-Cap\"],[null],[null],[\"Large-Cap\"],[null],[null],[\"Large-Cap\"],[null],[null],[\"Large-Cap\"],[null],[\"Mid-Cap\"],[null],[null],[null],[\"Large-Cap\"],[null],[\"Mid-Cap\"],[null],[\"Small-Cap\"],[null],[null],[null],[null],[\"Large-Cap\"],[null],[null],[\"Large-Cap\"],[null],[\"Mid-Cap\"],[null],[null],[\"Mid-Cap\"],[null],[null],[\"Mid-Cap\"],[null],[\"Small-Cap\"],[null],[null],[null],[\"Mid-Cap\"],[null],[null],[null],[\"Large-Cap\"],[null],[null],[\"Large-Cap\"],[null],[null],[\"Large-Cap\"],[null],[null],[\"Large-Cap\"],[\"Small-Cap\"],[null],[null],[null],[null],[\"Large-Cap\"],[null],[null],[\"Large-Cap\"],[null],[\"Mid-Cap\"],[null],[null],[null],[\"Large-Cap\"],[\"Small-Cap\"],[null],[null],[null],[null],[\"Large-Cap\"],[null],[\"Mid-Cap\"],[null],[\"Small-Cap\"],[null],[null],[null],[null],[\"Large-Cap\"],[null],[\"Mid-Cap\"],[null],[null],[null],[\"Large-Cap\"],[null],[null],[\"Large-Cap\"],[null],[\"Mid-Cap\"],[null],[null],[\"Mid-Cap\"],[null],[\"Small-Cap\"],[null],[null],[\"Small-Cap\"],[null],[null],[null],[null],[\"Large-Cap\"],[\"Small-Cap\"],[null],[null],[null],[null],[\"Large-Cap\"],[null],[null],[\"Large-Cap\"],[null],[null],[\"Large-Cap\"],[\"Small-Cap\"],[null],[null],[\"Small-Cap\"],[null],[null],[\"Small-Cap\"],[null],[null],[null],[null],[\"Large-Cap\"],[null],[\"Mid-Cap\"],[null],[null],[\"Mid-Cap\"],[null],[\"Small-Cap\"],[null],[null],[null],[null],[\"Large-Cap\"],[\"Small-Cap\"],[null],[null],[\"Small-Cap\"],[null],[null],[null],[null],[\"Large-Cap\"],[null],[null],[\"Large-Cap\"],[null],[null],[\"Large-Cap\"],[\"Small-Cap\"],[null],[null],[null],[null],[\"Large-Cap\"],[null],[null],[\"Large-Cap\"],[null],[\"Mid-Cap\"],[null],[null],[\"Mid-Cap\"],[null],[null],[null],[\"Large-Cap\"],[null],[null],[\"Large-Cap\"],[\"Small-Cap\"],[null],[null],[null],[\"Mid-Cap\"],[null],[\"Small-Cap\"],[null],[null],[null],[\"Mid-Cap\"],[null],[null],[null],[\"Large-Cap\"],[null],[\"Mid-Cap\"],[null],[null],[null],[\"Large-Cap\"],[null],[\"Mid-Cap\"],[null],[null],[\"Mid-Cap\"],[null],[null],[null],[\"Large-Cap\"],[\"Small-Cap\"],[null],[null],[null],[\"Mid-Cap\"],[null],[null],[null],[\"Large-Cap\"],[\"Small-Cap\"],[null],[null],[\"Small-Cap\"],[null],[null],[\"Small-Cap\"],[null],[null],[null],[\"Mid-Cap\"],[null],[\"Small-Cap\"],[null],[null],[null],[null],[\"Large-Cap\"],[\"Small-Cap\"],[null],[null],[\"Small-Cap\"],[null],[null],[null],[\"Mid-Cap\"],[null],[null],[null],[\"Large-Cap\"],[null],[\"Mid-Cap\"],[null],[null],[\"Mid-Cap\"],[null],[null],[\"Mid-Cap\"],[null],[\"Small-Cap\"],[null],[null],[null],[null],[\"Large-Cap\"],[\"Small-Cap\"],[null],[null],[null],[\"Mid-Cap\"],[null],[\"Small-Cap\"],[null],[null],[null],[\"Mid-Cap\"],[null],[null],[null],[\"Large-Cap\"],[null],[\"Mid-Cap\"],[null],[null],[\"Mid-Cap\"],[null],[null],[null],[\"Large-Cap\"],[null],[null],[\"Large-Cap\"],[\"Small-Cap\"],[null],[null],[null],[\"Mid-Cap\"],[null],[null],[\"Mid-Cap\"],[null],[\"Small-Cap\"],[null],[null],[\"Small-Cap\"],[null],[null],[null],[null],[\"Large-Cap\"],[null],[null],[\"Large-Cap\"],[null],[\"Mid-Cap\"],[null],[\"Small-Cap\"],[null],[null],[null],[null],[\"Large-Cap\"],[null],[null],[\"Large-Cap\"],[null],[\"Mid-Cap\"],[null],[null],[null],[\"Large-Cap\"],[null],[\"Mid-Cap\"],[null],[null],[null],[\"Large-Cap\"],[null],[\"Mid-Cap\"],[null],[\"Small-Cap\"],[null],[null],[null],[\"Mid-Cap\"],[null],[null],[null],[\"Large-Cap\"],[\"Small-Cap\"],[null],[null],[null],[null],[\"Large-Cap\"],[null],[null],[\"Large-Cap\"],[null],[null],[\"Large-Cap\"],[null],[null],[\"Large-Cap\"],[null],[null],[\"Large-Cap\"],[null],[null],[\"Large-Cap\"],[null],[\"Mid-Cap\"],[null],[null],[null],[\"Large-Cap\"],[null],[\"Mid-Cap\"],[null],[null],[null],[\"Large-Cap\"],[null],[\"Mid-Cap\"],[null],[null],[null],[\"Large-Cap\"],[null],[null],[\"Large-Cap\"],[null],[\"Mid-Cap\"],[null],[\"Small-Cap\"],[null],[null],[null],[null],[\"Large-Cap\"],[null],[null],[\"Large-Cap\"],[null],[null],[\"Large-Cap\"],[null],[\"Mid-Cap\"],[null],[null],[null],[\"Large-Cap\"],[null],[null],[\"Large-Cap\"],[\"Small-Cap\"],[null],[null],[null],[null],[\"Large-Cap\"],[null],[\"Mid-Cap\"],[null],[null],[null],[\"Large-Cap\"],[\"Small-Cap\"],[null],[null],[null],[null],[\"Large-Cap\"],[null],[null],[\"Large-Cap\"],[null],[null],[\"Large-Cap\"],[null],[null],[\"Large-Cap\"],[\"Small-Cap\"],[null],[null],[null],[\"Mid-Cap\"],[null],[\"Small-Cap\"],[null],[null],[null],[\"Mid-Cap\"],[null],[null],[null],[\"Large-Cap\"],[null],[null],[\"Large-Cap\"],[\"Small-Cap\"],[null],[null],[null],[null],[\"Large-Cap\"],[null],[null],[\"Large-Cap\"],[\"Small-Cap\"],[null],[null],[null],[\"Mid-Cap\"],[null],[\"Small-Cap\"],[null],[null],[null],[null],[\"Large-Cap\"],[null],[null],[\"Large-Cap\"],[\"Small-Cap\"],[null],[null],[null],[null],[\"Large-Cap\"],[null],[null],[\"Large-Cap\"],[null],[\"Mid-Cap\"],[null],[\"Small-Cap\"],[null],[null],[\"Small-Cap\"],[\"Mid-Cap\"],[\"Large-Cap\"],[\"(?)\"]],\"domain\":{\"x\":[0.0,1.0],\"y\":[0.0,1.0]},\"hovertemplate\":\"<b>%{hovertext}</b><br><br>labels=%{label}<br>2021 MARKET CAP(\\u20b9 Cr)=%{value}<br>parent=%{parent}<br>id=%{id}<br>2021 COMPANY TYPE=%{customdata[0]}<extra></extra>\",\"hovertext\":[null,129.85710359989008,null,84.41018766756032,null,null,null,null,35.831548893647394,null,null,null,67.61055657091084,null,-15.021723173368779,105.80029368575623,null,73.76158517098115,null,45.353159851301115,null,null,null,null,null,null,null,-18.12187687905617,null,11.298932384341636,null,null,107.2003427479155,null,null,95.8070956842267,null,null,null,18.42668100145254,106.03960396039605,null,null,141.32330620749974,226.26641651031895,null,null,null,null,null,null,null,1.8442256042972247,null,52.19136128419052,null,null,null,null,null,null,null,null,null,null,null,null,null,89.68786127167631,null,-33.02752293577982,34.645669291338585,null,null,null,null,3.3586758907279295,null,860.4204753199269,null,null,11.985965871551272,null,14.590686063527588,175.39381563593932,null,237.74429008712033,159.1123439667129,104.16723041537004,null,null,null,null,88.13540218657249,null,null,5.152120808349989,null,null,3888.345864661654,39.05350900779779,455.1440439501541,null,null,38.26025842028437,null,null,118.93167701863354,-2.1431406270670723,null,null,4.927442061944986,null,null,-20.217413918651825,null,null,null,29.739445707613836,null,185.99402588781945,null,null,-2.737928621413576,null,null,null,null,null,null,null,null,null,24.929769302800715,null,null,113.43119965683238,null,null,45.18736922198973,null,6.343038201709811,null,null,null,175.8586607363479,null,null,80.12542461458061,null,null,27.891260007915005,null,null,338.1797034021518,null,null,94.0739966555184,null,180.7157748436414,null,null,null,null,null,null,null,128.52944157291984,135.29010682165006,null,null,null,117.42361684558216,null,56.80634908254197,null,null,null,244.19778002018165,28.376090636801663,null,50.89788545319307,51.93110647181628,57.23188682852227,null,null,59.95965708522441,null,null,22.042867307008184,null,106.84647302904564,75.0,null,18.005677864062655,6.897771489211178,189.92420040672954,null,null,133.29513714817733,null,null,null,null,null,null,154.1044776119403,85.95672150585445,153.53577371048252,null,null,null,null,null,null,null,44.30825289022855,37.12699514226232,null,null,null,96.50511681791852,null,null,null,35.133985538068906,null,null,46.8725627827172,null,null,11.534842034505937,12.868198209148737,144.28934010152284,163.29166666666666,null,null,null,null,null,8.594215520007333,61.63934426229508,null,null,83.79661016949153,null,null,null,65.80636622328106,null,null,null,null,39.377937677711365,34.121996303142325,null,null,null,null,null,null,null,null,null,184.61280590010057,null,195.60350541276972,48.74718281850722,108.47139731165989,-12.049720953830542,null,-20.128644340348178,null,31.78588409319034,null,-9.570129980460454,null,46.940616104393904,80.61067584388958,null,-13.874673035369042,null,null,null,56.68577931457084,52.779363853155544,null,null,100.38698328935796,null,54.58726415094339,null,null,null,null,null,null,null,113.39032527105921,null,null,null,null,-9.934580861098432,null,null,143.4321617906931,null,null,null,257.21649484536084,null,null,6.783016792549682,null,213.45291479820628,null,null,null,144.3456408273729,null,null,null,null,null,62.25512879839581,63.22347266881029,null,null,null,null,125.21016714469391,null,null,null,null,52.69919202993542,null,null,null,null,-31.853720050441364,7.966429013882648,null,null,19.63154864709269,null,28.57142857142857,77.52257385815727,null,9.625550660792952,null,null,null,216.39344262295083,null,null,130.80629545403372,null,null,null,null,44.65937762825904,null,null,64.3114311431143,71.74939755307915,null,-0.7367422860894303,null,22.359416840226125,null,null,45.32861938592285,null,4.455307262569833,null,22.85167986888828,null,null,null,null,null,null,53.665803108808284,null,null,null,null,null,-17.961704756022236,null,null,61.55442369364271,null,-1.8461155688250297,null,null,null,null,37.57549611734254,null,null,15.708576698432216,null,null,null,36.70271967124226,null,null,55.66884796834576,393.85474860335194,null,null,null,142.68323611463353,null,null,null,116.24735826518425,36.99570815450644,null,null,null,114.88631488631489,null,46.42857142857143,null,null,null,null,105.99972415061376,null,122.25816887738597,null,88.69432813094785,null,null,null,61.55598068689078,null,null,null,39.27371563516464,null,null,14.42467859736044,null,null,10.659524239025577,null,326.4705882352941,null,null,null,105.44990065285269,null,null,64.989354013244,74.5945945945946,null,null,null,null,-11.909316212305185,96.88552188552188,null,null,null,null,120.01257289024734,null,255.79579579579578,null,null,null,81.67945030361138,86.85857321652065,null,null,null,null,44.58414534481675,null,null,12.177984545654214,null,null,46.109888701373606,null,null,37.216804201050266,null,null,30.265954005484307,null,28.36275106512477,null,-17.77067153951576,null,null,null,null,64.25740460566008,null,null,23.716007000538504,null,null,45.40705617616331,null,null,37.91173193044289,null,null,61.80241723594325,null,65.54208974778905,null,119.11381407471764,null,null,null,238.71140939597316,null,null,94.81426078284717,null,143.16125598722724,null,null,null,null,25.163995700503822,45.76457645764577,null,null,null,52.26227921606581,null,221.10726643598616,null,null,null,35.04570619286726,null,null,null,185.28333803213982,null,null,55.77419970724877,null,null,150.0811283075387,null,null,12.05154200869935,null,null,119.30896598332959,null,null,35.93207713274756,null,null,54.22264591242295,null,null,38.62597203217301,null,null,-2.6631303589594535,54.976303317535546,null,null,null,null,83.56117566643883,null,99.41504918904546,null,132.68991282689913,null,null,83.76935397757607,null,null,null,3.3577037638776064,null,103.8323353293413,null,null,null,null,419.5952714886796,null,null,98.15054718633947,246.25,null,null,161.840490797546,null,null,135.29411764705884,null,null,92.4908424908425,null,null,212.58907363420428,null,null,741.5094339622642,null,null,110.24038461538461,null,null,66.94214876033058,null,null,null,189.10667169242367,null,null,193.78117725307615,null,null,null,75.71875137586404,null,null,58.95663700056808,null,-13.818019625334523,null,null,36.37300950853477,null,null,185.52345448897174,null,null,112.95309168443497,null,null,224.15709522045205,null,null,2.6197230101785416,null,null,95.89786521557137,null,null,41.73063503140265,null,null,98.13645927261797,null,null,null,12.338995046001415,60.144404332129966,null,null,48.458304134548,null,null,149.185667752443,null,null,213.55389541088581,null,null,85.01650165016503,null,null,null,null,15.011922334506641,57.22222222222222,null,null,null,null,42.89527288052258,null,null,211.77168691720826,null,null,41.78095059177156,34.135802469135804,null,null,null,null,125.47396230627545,null,null,78.61683657269478,null,null,73.85556432517758,null,null,2.0035716906818015,null,139.27328952454582,null,null,null,6.332231512087628,null,10.60744462205983,null,110.84934903905766,null,null,null,null,24.375690607734807,null,null,36.13656409251274,null,83.50349274583557,null,null,85.90116279069767,null,null,18.553185314177913,null,108.43989769820972,null,null,null,69.87192518804635,null,null,null,47.8681245720688,null,null,10.038600838734274,null,null,99.29856115107913,null,null,250.93747196555128,149.17025199754147,null,null,null,null,155.41044776119404,null,null,78.77709242509204,null,60.93933005387678,null,null,null,148.07235225395803,166.09686609686608,null,null,null,null,32.65822784810127,null,84.26349496797805,null,97.712833545108,null,null,null,null,53.16236853479326,null,29.91329479768786,null,null,null,46.0866489832007,null,null,45.81988722014405,null,58.06407259727761,null,null,167.4286568056178,null,61.52897657213317,null,null,88.9763779527559,null,null,null,null,11.397314648417408,76.10972568578553,null,null,null,null,111.6382497379021,null,null,135.81664803333672,null,null,42.498104624715694,149.12917271407838,null,null,90.06410256410257,null,null,268.1951219512195,null,null,null,null,23.419163723367895,null,27.862112586970273,null,null,90.18604651162791,null,130.34437946718649,null,null,null,null,82.09373198253851,150.2222222222222,null,null,33.6,null,null,null,null,256.657223796034,null,null,-6.611974356188199,null,null,1.1708586296617518,58.73075478783327,null,null,null,null,50.32910438387137,null,null,100.79994880327658,null,127.41732942653829,null,null,1096.2869198312235,null,null,null,30.231770637369255,null,null,36.72124784211978,58.13333333333334,null,null,null,77.25635191505499,null,93.60967184801382,null,null,null,62.19758064516129,null,null,null,40.46549612086566,null,766.256157635468,null,null,null,61.78625296272355,null,111.54639175257732,null,null,9.80980980980981,null,null,null,25.80933244027685,391.6279069767442,null,null,null,94.93775933609957,null,null,null,50.87522441651705,39.64401294498382,null,null,70.2127659574468,null,null,83.35040983606558,null,null,null,128.09504792332268,null,110.76233183856503,null,null,null,null,26.24067568217912,316.6351606805293,null,null,436.1556064073227,null,null,null,287.8654970760234,null,null,null,40.885224927277335,null,23.985239852398525,null,null,27.863498141682623,null,null,146.48541114058355,null,-20.9375,null,null,null,null,114.2958892958893,-7.1084337349397595,null,null,null,-0.5726101479242882,null,80.92566619915848,null,null,null,161.3747954173486,null,null,null,20.267499523173754,null,171.52974504249292,null,null,120.91990483743061,null,null,null,85.85121350685895,null,null,65.45805011666836,33.52601156069364,null,null,null,189.7120786516854,null,null,152.56482525366403,null,54.30410297666934,null,null,25.852431525992177,null,null,null,null,118.26136866630672,null,null,186.8640988372093,null,87.0568278201866,null,-24.476439790575917,null,null,null,null,56.059458124022065,null,null,30.16465292584696,null,159.27431059506532,null,null,null,48.51720703773376,null,73.43502377179081,null,null,null,50.90937597993101,null,127.73695811903012,null,147.8862973760933,null,null,null,121.6553692472351,null,null,null,49.74377098427284,25.3077975376197,null,null,null,null,171.56392560533396,null,null,24.72733588051407,null,null,28.777713998708478,null,null,60.51821827982089,null,null,242.8651990475793,null,null,308.13801373596425,null,195.80246913580245,null,null,null,171.68464004663363,null,85.42651081820442,null,null,null,84.09795678233051,null,137.77285669092058,null,null,null,40.28541284913099,null,null,21.339913264543142,null,94.2628071636818,null,82.7807486631016,null,null,null,null,90.29218132248647,null,null,9.81788492504479,null,null,71.84270567709032,null,198.43243243243242,null,null,null,53.07015829587649,null,null,484.633145202668,199.93975903614458,null,null,null,null,130.04574042309892,null,39.95433789954338,null,null,null,73.73681288173238,55.23495465787304,null,null,null,null,63.807640867593186,null,null,102.13609064454215,null,null,61.93913237592083,null,null,71.44677979656612,272.0647773279352,null,null,null,45.445958710025636,null,83.04794520547945,null,null,null,141.64759725400458,null,null,null,88.85233574584078,null,null,212.2697041510588,69.41441441441441,null,null,null,null,13.753046922608167,null,null,60.93010303536619,37.8066378066378,null,null,null,108.58767205266308,null,70.1010101010101,null,null,null,null,4.384164769971269,null,null,79.37303727040481,32.568187955711586,null,null,null,null,-6.668403984248321,null,null,68.6010760953113,null,132.268156424581,null,32.47863247863248,null,null,\"(?)\",\"(?)\",\"(?)\",\"(?)\"],\"ids\":[\"2021 COMPANIES/Small-Cap/3M India Ltd.\",\"2021 COMPANIES/Large-Cap/Bank of Baroda\",\"2021 COMPANIES/Mid-Cap/Bank of India\",\"2021 COMPANIES/Mid-Cap/Bank of Maharashtra\",\"2021 COMPANIES/Large-Cap/Bank of Maharashtra\",\"2021 COMPANIES/Small-Cap/Bayer Cropscience Ltd.\",\"2021 COMPANIES/Small-Cap/Berger Paints (India) Ltd.\",\"2021 COMPANIES/Mid-Cap/Berger Paints (India) Ltd.\",\"2021 COMPANIES/Mid-Cap/Bharat Dynamics Ltd.\",\"2021 COMPANIES/Large-Cap/Bharat Dynamics Ltd.\",\"2021 COMPANIES/Small-Cap/Bharat Heavy Electricals Ltd.\",\"2021 COMPANIES/Small-Cap/Bharat Petroleum Corporation Ltd.\",\"2021 COMPANIES/Large-Cap/Bharti Airtel Ltd.\",\"2021 COMPANIES/Small-Cap/Biocon Ltd.\",\"2021 COMPANIES/Large-Cap/Biocon Ltd.\",\"2021 COMPANIES/Mid-Cap/Birla Corporation Ltd.\",\"2021 COMPANIES/Small-Cap/Birlasoft Ltd.\",\"2021 COMPANIES/Mid-Cap/Blue Dart Express Ltd.\",\"2021 COMPANIES/Large-Cap/Blue Dart Express Ltd.\",\"2021 COMPANIES/Mid-Cap/Blue Star Ltd.\",\"2021 COMPANIES/Large-Cap/Blue Star Ltd.\",\"2021 COMPANIES/Large-Cap/Bombay Burmah Trading Corporation Ltd.\",\"2021 COMPANIES/Mid-Cap/Bank of Baroda\",\"2021 COMPANIES/Small-Cap/Bosch Ltd.\",\"2021 COMPANIES/Mid-Cap/Bandhan Bank Ltd.\",\"2021 COMPANIES/Large-Cap/Balrampur Chini Mills Ltd.\",\"2021 COMPANIES/Mid-Cap/Aurobindo Pharma Ltd.\",\"2021 COMPANIES/Large-Cap/Aurobindo Pharma Ltd.\",\"2021 COMPANIES/Small-Cap/Avanti Feeds Ltd.\",\"2021 COMPANIES/Mid-Cap/Avanti Feeds Ltd.\",\"2021 COMPANIES/Small-Cap/Avenue Supermarts Ltd.\",\"2021 COMPANIES/Mid-Cap/Avenue Supermarts Ltd.\",\"2021 COMPANIES/Large-Cap/Avenue Supermarts Ltd.\",\"2021 COMPANIES/Small-Cap/Axis Bank Ltd.\",\"2021 COMPANIES/Mid-Cap/Axis Bank Ltd.\",\"2021 COMPANIES/Mid-Cap/BASF India Ltd.\",\"2021 COMPANIES/Large-Cap/BASF India Ltd.\",\"2021 COMPANIES/Small-Cap/BEML Ltd.\",\"2021 COMPANIES/Mid-Cap/Bajaj Auto Ltd.\",\"2021 COMPANIES/Large-Cap/Bajaj Auto Ltd.\",\"2021 COMPANIES/Mid-Cap/Bajaj Electricals Ltd.\",\"2021 COMPANIES/Small-Cap/Bajaj Finance Ltd.\",\"2021 COMPANIES/Small-Cap/Bajaj Finserv Ltd.\",\"2021 COMPANIES/Large-Cap/Bajaj Finserv Ltd.\",\"2021 COMPANIES/Small-Cap/Bajaj Hindusthan Sugar Ltd.\",\"2021 COMPANIES/Mid-Cap/Bajaj Hindusthan Sugar Ltd.\",\"2021 COMPANIES/Large-Cap/Bajaj Hindusthan Sugar Ltd.\",\"2021 COMPANIES/Small-Cap/Bandhan Bank Ltd.\",\"2021 COMPANIES/Small-Cap/Aurobindo Pharma Ltd.\",\"2021 COMPANIES/Mid-Cap/Bosch Ltd.\",\"2021 COMPANIES/Small-Cap/Britannia Industries Ltd.\",\"2021 COMPANIES/Mid-Cap/Container Corporation of India Ltd.\",\"2021 COMPANIES/Large-Cap/Coromandel International Ltd.\",\"2021 COMPANIES/Small-Cap/Crompton Greaves Consumer Electricals Ltd.\",\"2021 COMPANIES/Large-Cap/Crompton Greaves Consumer Electricals Ltd.\",\"2021 COMPANIES/Small-Cap/Cummins India Ltd.\",\"2021 COMPANIES/Mid-Cap/Cummins India Ltd.\",\"2021 COMPANIES/Small-Cap/Cyient Ltd.\",\"2021 COMPANIES/Large-Cap/Cyient Ltd.\",\"2021 COMPANIES/Mid-Cap/Deepak Fertilisers & Petrochemicals Corporation Ltd.\",\"2021 COMPANIES/Mid-Cap/Dish TV India Ltd.\",\"2021 COMPANIES/Small-Cap/EID Parry (India) Ltd.\",\"2021 COMPANIES/Large-Cap/EID Parry (India) Ltd.\",\"2021 COMPANIES/Small-Cap/EPL Ltd.\",\"2021 COMPANIES/Mid-Cap/Electrosteel Castings Ltd.\",\"2021 COMPANIES/Mid-Cap/Electrotherm (India) Ltd.\",\"2021 COMPANIES/Mid-Cap/Emami Ltd.\",\"2021 COMPANIES/Small-Cap/Federal Bank Ltd.\",\"2021 COMPANIES/Mid-Cap/Finolex Cables Ltd.\",\"2021 COMPANIES/Small-Cap/Forbes & Company Ltd.\",\"2021 COMPANIES/Small-Cap/Future Lifestyle Fashions Ltd.\",\"2021 COMPANIES/Small-Cap/Gayatri Projects Ltd.\",\"2021 COMPANIES/Small-Cap/Container Corporation of India Ltd.\",\"2021 COMPANIES/Large-Cap/Brightcom Group Ltd.\",\"2021 COMPANIES/Small-Cap/Colgate-Palmolive (India) Ltd.\",\"2021 COMPANIES/Mid-Cap/Cochin Shipyard Ltd.\",\"2021 COMPANIES/Large-Cap/Britannia Industries Ltd.\",\"2021 COMPANIES/Large-Cap/CESC Ltd.\",\"2021 COMPANIES/Large-Cap/CG Power and Industrial Solutions Ltd.\",\"2021 COMPANIES/Small-Cap/Cadila Healthcare Ltd.\",\"2021 COMPANIES/Mid-Cap/Cadila Healthcare Ltd.\",\"2021 COMPANIES/Large-Cap/Cadila Healthcare Ltd.\",\"2021 COMPANIES/Mid-Cap/Canara Bank\",\"2021 COMPANIES/Mid-Cap/Castrol India Ltd.\",\"2021 COMPANIES/Mid-Cap/Central Bank of India\",\"2021 COMPANIES/Large-Cap/Central Bank of India\",\"2021 COMPANIES/Mid-Cap/Century Plyboards (India) Ltd.\",\"2021 COMPANIES/Mid-Cap/Century Textiles & Industries Ltd.\",\"2021 COMPANIES/Mid-Cap/Chambal Fertilisers & Chemicals Ltd.\",\"2021 COMPANIES/Large-Cap/Chambal Fertilisers & Chemicals Ltd.\",\"2021 COMPANIES/Small-Cap/Cholamandalam Financial Holdings Ltd.\",\"2021 COMPANIES/Small-Cap/Cholamandalam Investment & Finance Company Ltd.\",\"2021 COMPANIES/Mid-Cap/Cholamandalam Investment & Finance Company Ltd.\",\"2021 COMPANIES/Large-Cap/Cholamandalam Investment & Finance Company Ltd.\",\"2021 COMPANIES/Small-Cap/Cipla Ltd.\",\"2021 COMPANIES/Small-Cap/City Union Bank Ltd.\",\"2021 COMPANIES/Small-Cap/Cochin Shipyard Ltd.\",\"2021 COMPANIES/Mid-Cap/Coforge Ltd.\",\"2021 COMPANIES/Mid-Cap/Au Small Finance Bank Ltd.\",\"2021 COMPANIES/Mid-Cap/Brightcom Group Ltd.\",\"2021 COMPANIES/Large-Cap/Atul Ltd.\",\"2021 COMPANIES/Large-Cap/Adani Transmission Ltd.\",\"2021 COMPANIES/Small-Cap/Aditya Birla Capital Ltd.\",\"2021 COMPANIES/Mid-Cap/Aditya Birla Capital Ltd.\",\"2021 COMPANIES/Large-Cap/Aditya Birla Capital Ltd.\",\"2021 COMPANIES/Small-Cap/Aditya Birla Fashion and Retail Ltd.\",\"2021 COMPANIES/Mid-Cap/Aditya Birla Fashion and Retail Ltd.\",\"2021 COMPANIES/Large-Cap/Aditya Birla Fashion and Retail Ltd.\",\"2021 COMPANIES/Mid-Cap/Aegis Logistics Ltd.\",\"2021 COMPANIES/Large-Cap/Aegis Logistics Ltd.\",\"2021 COMPANIES/Small-Cap/Akzo Nobel India Ltd.\",\"2021 COMPANIES/Mid-Cap/Akzo Nobel India Ltd.\",\"2021 COMPANIES/Large-Cap/Akzo Nobel India Ltd.\",\"2021 COMPANIES/Small-Cap/Alembic Pharmaceuticals Ltd.\",\"2021 COMPANIES/Mid-Cap/Alembic Pharmaceuticals Ltd.\",\"2021 COMPANIES/Large-Cap/Alembic Pharmaceuticals Ltd.\",\"2021 COMPANIES/Small-Cap/Alkem Laboratories Ltd.\",\"2021 COMPANIES/Mid-Cap/Alkem Laboratories Ltd.\",\"2021 COMPANIES/Large-Cap/Alkem Laboratories Ltd.\",\"2021 COMPANIES/Small-Cap/Allcargo Logistics Ltd.\",\"2021 COMPANIES/Mid-Cap/Allcargo Logistics Ltd.\",\"2021 COMPANIES/Large-Cap/Allcargo Logistics Ltd.\",\"2021 COMPANIES/Small-Cap/Alok Industries Ltd.\",\"2021 COMPANIES/Mid-Cap/Alok Industries Ltd.\",\"2021 COMPANIES/Large-Cap/Alok Industries Ltd.\",\"2021 COMPANIES/Small-Cap/Amara Raja Batteries Ltd.\",\"2021 COMPANIES/Large-Cap/Amara Raja Batteries Ltd.\",\"2021 COMPANIES/Small-Cap/Amber Enterprises India Ltd.\",\"2021 COMPANIES/Mid-Cap/Adani Transmission Ltd.\",\"2021 COMPANIES/Large-Cap/Amber Enterprises India Ltd.\",\"2021 COMPANIES/Small-Cap/Adani Transmission Ltd.\",\"2021 COMPANIES/Mid-Cap/Adani Power Ltd.\",\"2021 COMPANIES/Mid-Cap/3M India Ltd.\",\"2021 COMPANIES/Large-Cap/3M India Ltd.\",\"2021 COMPANIES/Small-Cap/ABB India Ltd.\",\"2021 COMPANIES/Mid-Cap/ABB India Ltd.\",\"2021 COMPANIES/Large-Cap/ABB India Ltd.\",\"2021 COMPANIES/Small-Cap/ACC Ltd.\",\"2021 COMPANIES/Mid-Cap/ACC Ltd.\",\"2021 COMPANIES/Large-Cap/ACC Ltd.\",\"2021 COMPANIES/Small-Cap/AIA Engineering Ltd.\",\"2021 COMPANIES/Mid-Cap/AIA Engineering Ltd.\",\"2021 COMPANIES/Large-Cap/AIA Engineering Ltd.\",\"2021 COMPANIES/Small-Cap/APL Apollo Tubes Ltd.\",\"2021 COMPANIES/Mid-Cap/APL Apollo Tubes Ltd.\",\"2021 COMPANIES/Large-Cap/APL Apollo Tubes Ltd.\",\"2021 COMPANIES/Small-Cap/Aarti Industries Ltd.\",\"2021 COMPANIES/Mid-Cap/Aarti Industries Ltd.\",\"2021 COMPANIES/Large-Cap/Aarti Industries Ltd.\",\"2021 COMPANIES/Small-Cap/Abbott India Ltd.\",\"2021 COMPANIES/Mid-Cap/Abbott India Ltd.\",\"2021 COMPANIES/Large-Cap/Abbott India Ltd.\",\"2021 COMPANIES/Small-Cap/Adani Enterprises Ltd.\",\"2021 COMPANIES/Mid-Cap/Adani Enterprises Ltd.\",\"2021 COMPANIES/Large-Cap/Adani Enterprises Ltd.\",\"2021 COMPANIES/Small-Cap/Adani Ports & Special Economic Zone Ltd.\",\"2021 COMPANIES/Mid-Cap/Adani Ports & Special Economic Zone Ltd.\",\"2021 COMPANIES/Large-Cap/Adani Ports & Special Economic Zone Ltd.\",\"2021 COMPANIES/Small-Cap/Au Small Finance Bank Ltd.\",\"2021 COMPANIES/Large-Cap/Adani Power Ltd.\",\"2021 COMPANIES/Small-Cap/Ambuja Cements Ltd.\",\"2021 COMPANIES/Small-Cap/Adani Power Ltd.\",\"2021 COMPANIES/Small-Cap/Ashok Leyland Ltd.\",\"2021 COMPANIES/Small-Cap/Apollo Hospitals Enterprise Ltd.\",\"2021 COMPANIES/Large-Cap/Apar Industries Ltd.\",\"2021 COMPANIES/Mid-Cap/Ambuja Cements Ltd.\",\"2021 COMPANIES/Small-Cap/Astral Ltd.\",\"2021 COMPANIES/Large-Cap/Astral Ltd.\",\"2021 COMPANIES/Large-Cap/Apollo Hospitals Enterprise Ltd.\",\"2021 COMPANIES/Mid-Cap/Arvind Ltd.\",\"2021 COMPANIES/Large-Cap/Arvind Ltd.\",\"2021 COMPANIES/Small-Cap/Atul Ltd.\",\"2021 COMPANIES/Small-Cap/Apar Industries Ltd.\",\"2021 COMPANIES/Large-Cap/Ashoka Buildcon Ltd.\",\"2021 COMPANIES/Large-Cap/Ambuja Cements Ltd.\",\"2021 COMPANIES/Small-Cap/Apollo Tyres Ltd.\",\"2021 COMPANIES/Mid-Cap/Ashoka Buildcon Ltd.\",\"2021 COMPANIES/Mid-Cap/Atul Ltd.\",\"2021 COMPANIES/Small-Cap/Arvind Ltd.\",\"2021 COMPANIES/Mid-Cap/Aster DM Healthcare Ltd.\",\"2021 COMPANIES/Mid-Cap/Ashok Leyland Ltd.\",\"2021 COMPANIES/Mid-Cap/Apollo Tyres Ltd.\",\"2021 COMPANIES/Small-Cap/Ashoka Buildcon Ltd.\",\"2021 COMPANIES/Large-Cap/Ashok Leyland Ltd.\",\"2021 COMPANIES/Mid-Cap/Asian Paints Ltd.\",\"2021 COMPANIES/Mid-Cap/Apollo Hospitals Enterprise Ltd.\",\"2021 COMPANIES/Small-Cap/Dish TV India Ltd.\",\"2021 COMPANIES/Large-Cap/Dhampur Sugar Mills Ltd.\",\"2021 COMPANIES/Small-Cap/Divi's Laboratories Ltd.\",\"2021 COMPANIES/Large-Cap/Axis Bank Ltd.\",\"2021 COMPANIES/Large-Cap/Dilip Buildcon Ltd.\",\"2021 COMPANIES/Small-Cap/Dhampur Sugar Mills Ltd.\",\"2021 COMPANIES/Mid-Cap/Dilip Buildcon Ltd.\",\"2021 COMPANIES/Mid-Cap/Dabur India Ltd.\",\"2021 COMPANIES/Large-Cap/Dabur India Ltd.\",\"2021 COMPANIES/Small-Cap/DCB Bank Ltd.\",\"2021 COMPANIES/Mid-Cap/DCM Shriram Ltd.\",\"2021 COMPANIES/Large-Cap/Cochin Shipyard Ltd.\",\"2021 COMPANIES/Small-Cap/Coforge Ltd.\",\"2021 COMPANIES/Large-Cap/Coforge Ltd.\",\"2021 COMPANIES/Small-Cap/Bajaj Electricals Ltd.\",\"2021 COMPANIES/Small-Cap/Coromandel International Ltd.\",\"2021 COMPANIES/Mid-Cap/Coromandel International Ltd.\",\"2021 COMPANIES/Small-Cap/Bajaj Auto Ltd.\",\"2021 COMPANIES/Mid-Cap/DLF Ltd.\",\"2021 COMPANIES/Large-Cap/BEML Ltd.\",\"2021 COMPANIES/Mid-Cap/BEML Ltd.\",\"2021 COMPANIES/Large-Cap/Cummins India Ltd.\",\"2021 COMPANIES/Mid-Cap/Cyient Ltd.\",\"2021 COMPANIES/Small-Cap/BASF India Ltd.\",\"2021 COMPANIES/Mid-Cap/Divi's Laboratories Ltd.\",\"2021 COMPANIES/Large-Cap/DCB Bank Ltd.\",\"2021 COMPANIES/Small-Cap/DCM Shriram Ltd.\",\"2021 COMPANIES/Mid-Cap/Crompton Greaves Consumer Electricals Ltd.\",\"2021 COMPANIES/Small-Cap/Dixon Technologies (India) Ltd.\",\"2021 COMPANIES/Small-Cap/Bharat Electronics Ltd.\",\"2021 COMPANIES/Large-Cap/Asian Paints Ltd.\",\"2021 COMPANIES/Small-Cap/Force Motors Ltd.\",\"2021 COMPANIES/Mid-Cap/Force Motors Ltd.\",\"2021 COMPANIES/Large-Cap/Force Motors Ltd.\",\"2021 COMPANIES/Small-Cap/Fortis Healthcare Ltd.\",\"2021 COMPANIES/Large-Cap/Fortis Healthcare Ltd.\",\"2021 COMPANIES/Large-Cap/Future Lifestyle Fashions Ltd.\",\"2021 COMPANIES/Mid-Cap/GAIL (India) Ltd.\",\"2021 COMPANIES/Large-Cap/Firstsource Solutions Ltd.\",\"2021 COMPANIES/Small-Cap/GE T&D India Ltd.\",\"2021 COMPANIES/Mid-Cap/GHCL Ltd.\",\"2021 COMPANIES/Small-Cap/Galaxy Surfactants Ltd.\",\"2021 COMPANIES/Large-Cap/Au Small Finance Bank Ltd.\",\"2021 COMPANIES/Mid-Cap/Gayatri Projects Ltd.\",\"2021 COMPANIES/Mid-Cap/General Insurance Corporation of India\",\"2021 COMPANIES/Large-Cap/General Insurance Corporation of India\",\"2021 COMPANIES/Large-Cap/GlaxoSmithKline Pharmaceuticals Ltd.\",\"2021 COMPANIES/Small-Cap/GHCL Ltd.\",\"2021 COMPANIES/Large-Cap/Dixon Technologies (India) Ltd.\",\"2021 COMPANIES/Small-Cap/Firstsource Solutions Ltd.\",\"2021 COMPANIES/Small-Cap/Finolex Cables Ltd.\",\"2021 COMPANIES/Large-Cap/EPL Ltd.\",\"2021 COMPANIES/Large-Cap/Bajaj Electricals Ltd.\",\"2021 COMPANIES/Large-Cap/Edelweiss Financial Services Ltd.\",\"2021 COMPANIES/Large-Cap/Eicher Motors Ltd.\",\"2021 COMPANIES/Small-Cap/Electrosteel Castings Ltd.\",\"2021 COMPANIES/Large-Cap/Aster DM Healthcare Ltd.\",\"2021 COMPANIES/Large-Cap/Avanti Feeds Ltd.\",\"2021 COMPANIES/Mid-Cap/Finolex Industries Ltd.\",\"2021 COMPANIES/Small-Cap/Emami Ltd.\",\"2021 COMPANIES/Small-Cap/Endurance Technologies Ltd.\",\"2021 COMPANIES/Mid-Cap/Endurance Technologies Ltd.\",\"2021 COMPANIES/Large-Cap/Endurance Technologies Ltd.\",\"2021 COMPANIES/Small-Cap/Escorts Ltd.\",\"2021 COMPANIES/Large-Cap/Exide Industries Ltd.\",\"2021 COMPANIES/Mid-Cap/Astral Ltd.\",\"2021 COMPANIES/Mid-Cap/Federal Bank Ltd.\",\"2021 COMPANIES/Large-Cap/Emami Ltd.\",\"2021 COMPANIES/Mid-Cap/Edelweiss Financial Services Ltd.\",\"2021 COMPANIES/Small-Cap/Godfrey Phillips India Ltd.\",\"2021 COMPANIES/Mid-Cap/Coal India Ltd.\",\"2021 COMPANIES/Small-Cap/Central Bank of India\",\"2021 COMPANIES/Small-Cap/Bharat Dynamics Ltd.\",\"2021 COMPANIES/Mid-Cap/Ceat Ltd.\",\"2021 COMPANIES/Mid-Cap/Bharat Heavy Electricals Ltd.\",\"2021 COMPANIES/Large-Cap/Castrol India Ltd.\",\"2021 COMPANIES/Small-Cap/Aegis Logistics Ltd.\",\"2021 COMPANIES/Mid-Cap/Bayer Cropscience Ltd.\",\"2021 COMPANIES/Mid-Cap/Carborundum Universal Ltd.\",\"2021 COMPANIES/Small-Cap/Carborundum Universal Ltd.\",\"2021 COMPANIES/Large-Cap/Canara Bank\",\"2021 COMPANIES/Mid-Cap/Amber Enterprises India Ltd.\",\"2021 COMPANIES/Mid-Cap/Balrampur Chini Mills Ltd.\",\"2021 COMPANIES/Large-Cap/Bandhan Bank Ltd.\",\"2021 COMPANIES/Small-Cap/Bank of Baroda\",\"2021 COMPANIES/Mid-Cap/Amara Raja Batteries Ltd.\",\"2021 COMPANIES/Small-Cap/Birla Corporation Ltd.\",\"2021 COMPANIES/Large-Cap/Coal India Ltd.\",\"2021 COMPANIES/Small-Cap/Bank of India\",\"2021 COMPANIES/Large-Cap/Bayer Cropscience Ltd.\",\"2021 COMPANIES/Small-Cap/Brightcom Group Ltd.\",\"2021 COMPANIES/Large-Cap/Bosch Ltd.\",\"2021 COMPANIES/Large-Cap/Bank of India\",\"2021 COMPANIES/Small-Cap/Bank of Maharashtra\",\"2021 COMPANIES/Mid-Cap/Bombay Burmah Trading Corporation Ltd.\",\"2021 COMPANIES/Small-Cap/Bombay Burmah Trading Corporation Ltd.\",\"2021 COMPANIES/Small-Cap/Blue Star Ltd.\",\"2021 COMPANIES/Mid-Cap/Apar Industries Ltd.\",\"2021 COMPANIES/Large-Cap/Bharat Forge Ltd.\",\"2021 COMPANIES/Large-Cap/Balkrishna Industries Ltd.\",\"2021 COMPANIES/Large-Cap/Carborundum Universal Ltd.\",\"2021 COMPANIES/Small-Cap/Blue Dart Express Ltd.\",\"2021 COMPANIES/Mid-Cap/Asahi India Glass Ltd.\",\"2021 COMPANIES/Mid-Cap/Bajaj Finserv Ltd.\",\"2021 COMPANIES/Mid-Cap/Cholamandalam Financial Holdings Ltd.\",\"2021 COMPANIES/Mid-Cap/Bharat Forge Ltd.\",\"2021 COMPANIES/Small-Cap/Asahi India Glass Ltd.\",\"2021 COMPANIES/Mid-Cap/Chennai Petroleum Corporation Ltd.\",\"2021 COMPANIES/Large-Cap/Cholamandalam Financial Holdings Ltd.\",\"2021 COMPANIES/Mid-Cap/Bajaj Finance Ltd.\",\"2021 COMPANIES/Small-Cap/Chambal Fertilisers & Chemicals Ltd.\",\"2021 COMPANIES/Large-Cap/Century Textiles & Industries Ltd.\",\"2021 COMPANIES/Large-Cap/Bharat Electronics Ltd.\",\"2021 COMPANIES/Small-Cap/Coal India Ltd.\",\"2021 COMPANIES/Small-Cap/Century Plyboards (India) Ltd.\",\"2021 COMPANIES/Mid-Cap/Balkrishna Industries Ltd.\",\"2021 COMPANIES/Large-Cap/Century Plyboards (India) Ltd.\",\"2021 COMPANIES/Mid-Cap/City Union Bank Ltd.\",\"2021 COMPANIES/Large-Cap/City Union Bank Ltd.\",\"2021 COMPANIES/Small-Cap/Balkrishna Industries Ltd.\",\"2021 COMPANIES/Mid-Cap/Birlasoft Ltd.\",\"2021 COMPANIES/Small-Cap/Finolex Industries Ltd.\",\"2021 COMPANIES/Large-Cap/Forbes & Company Ltd.\",\"2021 COMPANIES/Mid-Cap/GlaxoSmithKline Pharmaceuticals Ltd.\",\"2021 COMPANIES/Mid-Cap/Forbes & Company Ltd.\",\"2021 COMPANIES/Large-Cap/Birla Corporation Ltd.\",\"2021 COMPANIES/Small-Cap/Glenmark Pharmaceuticals Ltd.\",\"2021 COMPANIES/Mid-Cap/Glenmark Pharmaceuticals Ltd.\",\"2021 COMPANIES/Large-Cap/Glenmark Pharmaceuticals Ltd.\",\"2021 COMPANIES/Small-Cap/Godawari Power & Ispat Ltd.\",\"2021 COMPANIES/Mid-Cap/Godawari Power & Ispat Ltd.\",\"2021 COMPANIES/Large-Cap/Birlasoft Ltd.\",\"2021 COMPANIES/Large-Cap/Finolex Industries Ltd.\",\"2021 COMPANIES/Mid-Cap/Firstsource Solutions Ltd.\",\"2021 COMPANIES/Mid-Cap/Bharat Electronics Ltd.\",\"2021 COMPANIES/Mid-Cap/Biocon Ltd.\",\"2021 COMPANIES/Large-Cap/Gayatri Projects Ltd.\",\"2021 COMPANIES/Mid-Cap/Fortis Healthcare Ltd.\",\"2021 COMPANIES/Large-Cap/Galaxy Surfactants Ltd.\",\"2021 COMPANIES/Mid-Cap/Galaxy Surfactants Ltd.\",\"2021 COMPANIES/Large-Cap/GMR Infrastructure Ltd.\",\"2021 COMPANIES/Mid-Cap/GMR Infrastructure Ltd.\",\"2021 COMPANIES/Small-Cap/GMR Infrastructure Ltd.\",\"2021 COMPANIES/Large-Cap/GHCL Ltd.\",\"2021 COMPANIES/Small-Cap/General Insurance Corporation of India\",\"2021 COMPANIES/Large-Cap/Bharat Heavy Electricals Ltd.\",\"2021 COMPANIES/Large-Cap/GE T&D India Ltd.\",\"2021 COMPANIES/Small-Cap/Bharat Forge Ltd.\",\"2021 COMPANIES/Mid-Cap/GE T&D India Ltd.\",\"2021 COMPANIES/Small-Cap/GlaxoSmithKline Pharmaceuticals Ltd.\",\"2021 COMPANIES/Large-Cap/GAIL (India) Ltd.\",\"2021 COMPANIES/Mid-Cap/Bharat Petroleum Corporation Ltd.\",\"2021 COMPANIES/Small-Cap/GAIL (India) Ltd.\",\"2021 COMPANIES/Large-Cap/Future Retail Ltd.\",\"2021 COMPANIES/Mid-Cap/Future Retail Ltd.\",\"2021 COMPANIES/Small-Cap/Future Retail Ltd.\",\"2021 COMPANIES/Large-Cap/Bharat Petroleum Corporation Ltd.\",\"2021 COMPANIES/Small-Cap/Bharti Airtel Ltd.\",\"2021 COMPANIES/Mid-Cap/Bharti Airtel Ltd.\",\"2021 COMPANIES/Large-Cap/Berger Paints (India) Ltd.\",\"2021 COMPANIES/Mid-Cap/Future Lifestyle Fashions Ltd.\",\"2021 COMPANIES/Small-Cap/Electrotherm (India) Ltd.\",\"2021 COMPANIES/Large-Cap/Federal Bank Ltd.\",\"2021 COMPANIES/Small-Cap/Dilip Buildcon Ltd.\",\"2021 COMPANIES/Small-Cap/Ceat Ltd.\",\"2021 COMPANIES/Mid-Cap/Dhampur Sugar Mills Ltd.\",\"2021 COMPANIES/Large-Cap/Deepak Fertilisers & Petrochemicals Corporation Ltd.\",\"2021 COMPANIES/Large-Cap/Ceat Ltd.\",\"2021 COMPANIES/Small-Cap/Deepak Fertilisers & Petrochemicals Corporation Ltd.\",\"2021 COMPANIES/Small-Cap/Balrampur Chini Mills Ltd.\",\"2021 COMPANIES/Small-Cap/Dabur India Ltd.\",\"2021 COMPANIES/Large-Cap/DLF Ltd.\",\"2021 COMPANIES/Small-Cap/DLF Ltd.\",\"2021 COMPANIES/Small-Cap/Castrol India Ltd.\",\"2021 COMPANIES/Large-Cap/DCM Shriram Ltd.\",\"2021 COMPANIES/Small-Cap/Asian Paints Ltd.\",\"2021 COMPANIES/Small-Cap/Chennai Petroleum Corporation Ltd.\",\"2021 COMPANIES/Large-Cap/Chennai Petroleum Corporation Ltd.\",\"2021 COMPANIES/Large-Cap/Asahi India Glass Ltd.\",\"2021 COMPANIES/Large-Cap/Container Corporation of India Ltd.\",\"2021 COMPANIES/Large-Cap/Bajaj Finance Ltd.\",\"2021 COMPANIES/Mid-Cap/Cipla Ltd.\",\"2021 COMPANIES/Large-Cap/Colgate-Palmolive (India) Ltd.\",\"2021 COMPANIES/Mid-Cap/Colgate-Palmolive (India) Ltd.\",\"2021 COMPANIES/Large-Cap/Cipla Ltd.\",\"2021 COMPANIES/Small-Cap/Century Textiles & Industries Ltd.\",\"2021 COMPANIES/Large-Cap/Dish TV India Ltd.\",\"2021 COMPANIES/Large-Cap/Divi's Laboratories Ltd.\",\"2021 COMPANIES/Mid-Cap/Dixon Technologies (India) Ltd.\",\"2021 COMPANIES/Mid-Cap/Exide Industries Ltd.\",\"2021 COMPANIES/Small-Cap/Exide Industries Ltd.\",\"2021 COMPANIES/Large-Cap/Escorts Ltd.\",\"2021 COMPANIES/Mid-Cap/Escorts Ltd.\",\"2021 COMPANIES/Large-Cap/Godawari Power & Ispat Ltd.\",\"2021 COMPANIES/Large-Cap/Electrotherm (India) Ltd.\",\"2021 COMPANIES/Mid-Cap/Britannia Industries Ltd.\",\"2021 COMPANIES/Large-Cap/Electrosteel Castings Ltd.\",\"2021 COMPANIES/Small-Cap/CESC Ltd.\",\"2021 COMPANIES/Mid-Cap/CESC Ltd.\",\"2021 COMPANIES/Mid-Cap/Eicher Motors Ltd.\",\"2021 COMPANIES/Small-Cap/Eicher Motors Ltd.\",\"2021 COMPANIES/Small-Cap/CG Power and Industrial Solutions Ltd.\",\"2021 COMPANIES/Mid-Cap/CG Power and Industrial Solutions Ltd.\",\"2021 COMPANIES/Small-Cap/Edelweiss Financial Services Ltd.\",\"2021 COMPANIES/Mid-Cap/EPL Ltd.\",\"2021 COMPANIES/Large-Cap/Apollo Tyres Ltd.\",\"2021 COMPANIES/Small-Cap/Aster DM Healthcare Ltd.\",\"2021 COMPANIES/Mid-Cap/EID Parry (India) Ltd.\",\"2021 COMPANIES/Small-Cap/Canara Bank\",\"2021 COMPANIES/Large-Cap/Dr. Reddy's Laboratories Ltd.\",\"2021 COMPANIES/Mid-Cap/Dr. Reddy's Laboratories Ltd.\",\"2021 COMPANIES/Small-Cap/Dr. Reddy's Laboratories Ltd.\",\"2021 COMPANIES/Large-Cap/Finolex Cables Ltd.\",\"2021 COMPANIES/Mid-Cap/DCB Bank Ltd.\",\"2021 COMPANIES/Mid-Cap/Godfrey Phillips India Ltd.\",\"2021 COMPANIES/Large-Cap/Godfrey Phillips India Ltd.\",\"2021 COMPANIES/Small-Cap/Godrej Agrovet Ltd.\",\"2021 COMPANIES/Mid-Cap/Godrej Agrovet Ltd.\",\"2021 COMPANIES/Large-Cap/Godrej Agrovet Ltd.\",\"2021 COMPANIES/Small-Cap/Godrej Consumer Products Ltd.\",\"2021 COMPANIES/Mid-Cap/Godrej Consumer Products Ltd.\",\"2021 COMPANIES/Large-Cap/Godrej Consumer Products Ltd.\",\"2021 COMPANIES/Small-Cap/Godrej Industries Ltd.\",\"2021 COMPANIES/Mid-Cap/Godrej Industries Ltd.\",\"2021 COMPANIES/Large-Cap/Godrej Industries Ltd.\",\"2021 COMPANIES/Small-Cap/Gokul Agro Resources Ltd.\",\"2021 COMPANIES/Mid-Cap/Gokul Agro Resources Ltd.\",\"2021 COMPANIES/Large-Cap/Gokul Agro Resources Ltd.\",\"2021 COMPANIES/Small-Cap/Graphite India Ltd.\",\"2021 COMPANIES/Mid-Cap/Graphite India Ltd.\",\"2021 COMPANIES/Large-Cap/Graphite India Ltd.\",\"2021 COMPANIES/Small-Cap/Grasim Industries Ltd.\",\"2021 COMPANIES/Mid-Cap/Grasim Industries Ltd.\",\"2021 COMPANIES/Large-Cap/Grasim Industries Ltd.\",\"2021 COMPANIES/Small-Cap/Great Eastern Shipping Company Ltd.\",\"2021 COMPANIES/Mid-Cap/Great Eastern Shipping Company Ltd.\",\"2021 COMPANIES/Large-Cap/Great Eastern Shipping Company Ltd.\",\"2021 COMPANIES/Small-Cap/Gujarat Alkalies & Chemicals Ltd.\",\"2021 COMPANIES/Mid-Cap/Gujarat Alkalies & Chemicals Ltd.\",\"2021 COMPANIES/Large-Cap/Gujarat Alkalies & Chemicals Ltd.\",\"2021 COMPANIES/Small-Cap/Gujarat Ambuja Exports Ltd.\",\"2021 COMPANIES/Mid-Cap/Gujarat Ambuja Exports Ltd.\",\"2021 COMPANIES/Large-Cap/Gujarat Ambuja Exports Ltd.\",\"2021 COMPANIES/Small-Cap/Gujarat Gas Ltd.\",\"2021 COMPANIES/Mid-Cap/Gujarat Gas Ltd.\",\"2021 COMPANIES/Large-Cap/Gujarat Gas Ltd.\",\"2021 COMPANIES/Small-Cap/Gujarat Narmada Valley Fertilizers & Chemicals Ltd.\",\"2021 COMPANIES/Mid-Cap/Gujarat Narmada Valley Fertilizers & Chemicals Ltd.\",\"2021 COMPANIES/Large-Cap/Gujarat Narmada Valley Fertilizers & Chemicals Ltd.\",\"2021 COMPANIES/Small-Cap/Gujarat State Fertilizer & Chemicals Ltd.\",\"2021 COMPANIES/Mid-Cap/Gujarat State Fertilizer & Chemicals Ltd.\",\"2021 COMPANIES/Large-Cap/Gujarat State Fertilizer & Chemicals Ltd.\",\"2021 COMPANIES/Small-Cap/Gujarat State Petronet Ltd.\",\"2021 COMPANIES/Mid-Cap/Gujarat State Petronet Ltd.\",\"2021 COMPANIES/Large-Cap/Gujarat State Petronet Ltd.\",\"2021 COMPANIES/Small-Cap/HCL Technologies Ltd.\",\"2021 COMPANIES/Mid-Cap/HCL Technologies Ltd.\",\"2021 COMPANIES/Large-Cap/HCL Technologies Ltd.\",\"2021 COMPANIES/Small-Cap/HDFC Bank Ltd.\",\"2021 COMPANIES/Mid-Cap/HDFC Bank Ltd.\",\"2021 COMPANIES/Large-Cap/HDFC Bank Ltd.\",\"2021 COMPANIES/Small-Cap/HDFC Life Insurance Company Ltd.\",\"2021 COMPANIES/Mid-Cap/HDFC Life Insurance Company Ltd.\",\"2021 COMPANIES/Large-Cap/HDFC Life Insurance Company Ltd.\",\"2021 COMPANIES/Small-Cap/HFCL Ltd.\",\"2021 COMPANIES/Mid-Cap/HFCL Ltd.\",\"2021 COMPANIES/Large-Cap/HFCL Ltd.\",\"2021 COMPANIES/Small-Cap/Hatsun Agro Products Ltd.\",\"2021 COMPANIES/Mid-Cap/Hatsun Agro Products Ltd.\",\"2021 COMPANIES/Large-Cap/Hatsun Agro Products Ltd.\",\"2021 COMPANIES/Small-Cap/Havells India Ltd.\",\"2021 COMPANIES/Mid-Cap/Havells India Ltd.\",\"2021 COMPANIES/Large-Cap/Havells India Ltd.\",\"2021 COMPANIES/Small-Cap/Heritage Foods Ltd.\",\"2021 COMPANIES/Mid-Cap/Heritage Foods Ltd.\",\"2021 COMPANIES/Large-Cap/Heritage Foods Ltd.\",\"2021 COMPANIES/Small-Cap/Hero MotoCorp Ltd.\",\"2021 COMPANIES/Mid-Cap/Hero MotoCorp Ltd.\",\"2021 COMPANIES/Large-Cap/Hero MotoCorp Ltd.\",\"2021 COMPANIES/Small-Cap/Himatsingka Seide Ltd.\",\"2021 COMPANIES/Mid-Cap/Himatsingka Seide Ltd.\",\"2021 COMPANIES/Large-Cap/Himatsingka Seide Ltd.\",\"2021 COMPANIES/Small-Cap/Hindalco Industries Ltd.\",\"2021 COMPANIES/Mid-Cap/Hindalco Industries Ltd.\",\"2021 COMPANIES/Large-Cap/Hindalco Industries Ltd.\",\"2021 COMPANIES/Small-Cap/Hinduja Global Solutions Ltd.\",\"2021 COMPANIES/Mid-Cap/Hinduja Global Solutions Ltd.\",\"2021 COMPANIES/Large-Cap/Hinduja Global Solutions Ltd.\",\"2021 COMPANIES/Small-Cap/Hindustan Aeronautics Ltd.\",\"2021 COMPANIES/Mid-Cap/Hindustan Aeronautics Ltd.\",\"2021 COMPANIES/Large-Cap/Hindustan Aeronautics Ltd.\",\"2021 COMPANIES/Small-Cap/Hindustan Construction Company Ltd.\",\"2021 COMPANIES/Mid-Cap/Hindustan Construction Company Ltd.\",\"2021 COMPANIES/Large-Cap/Hindustan Construction Company Ltd.\",\"2021 COMPANIES/Small-Cap/Hindustan Petroleum Corporation Ltd.\",\"2021 COMPANIES/Mid-Cap/Hindustan Petroleum Corporation Ltd.\",\"2021 COMPANIES/Large-Cap/Hindustan Petroleum Corporation Ltd.\",\"2021 COMPANIES/Small-Cap/Hindustan Unilever Ltd.\",\"2021 COMPANIES/Mid-Cap/Hindustan Unilever Ltd.\",\"2021 COMPANIES/Large-Cap/Hindustan Unilever Ltd.\",\"2021 COMPANIES/Small-Cap/Hindustan Zinc Ltd.\",\"2021 COMPANIES/Mid-Cap/Hindustan Zinc Ltd.\",\"2021 COMPANIES/Large-Cap/Hindustan Zinc Ltd.\",\"2021 COMPANIES/Small-Cap/Honeywell Automation India Ltd.\",\"2021 COMPANIES/Mid-Cap/Honeywell Automation India Ltd.\",\"2021 COMPANIES/Large-Cap/Honeywell Automation India Ltd.\",\"2021 COMPANIES/Small-Cap/Housing Development Finance Corporation Ltd.\",\"2021 COMPANIES/Mid-Cap/Housing Development Finance Corporation Ltd.\",\"2021 COMPANIES/Large-Cap/Housing Development Finance Corporation Ltd.\",\"2021 COMPANIES/Small-Cap/Housing and Urban Development Corporation Ltd.\",\"2021 COMPANIES/Mid-Cap/Housing and Urban Development Corporation Ltd.\",\"2021 COMPANIES/Large-Cap/Housing and Urban Development Corporation Ltd.\",\"2021 COMPANIES/Small-Cap/Huhtamaki India Ltd.\",\"2021 COMPANIES/Mid-Cap/Huhtamaki India Ltd.\",\"2021 COMPANIES/Large-Cap/Huhtamaki India Ltd.\",\"2021 COMPANIES/Small-Cap/ICICI Bank Ltd.\",\"2021 COMPANIES/Mid-Cap/ICICI Bank Ltd.\",\"2021 COMPANIES/Large-Cap/ICICI Bank Ltd.\",\"2021 COMPANIES/Small-Cap/ICICI Lombard General Insurance Company Ltd.\",\"2021 COMPANIES/Mid-Cap/ICICI Lombard General Insurance Company Ltd.\",\"2021 COMPANIES/Large-Cap/ICICI Lombard General Insurance Company Ltd.\",\"2021 COMPANIES/Small-Cap/ICICI Prudential Life Insurance Company Ltd.\",\"2021 COMPANIES/Mid-Cap/ICICI Prudential Life Insurance Company Ltd.\",\"2021 COMPANIES/Large-Cap/ICICI Prudential Life Insurance Company Ltd.\",\"2021 COMPANIES/Small-Cap/IDBI Bank Ltd.\",\"2021 COMPANIES/Mid-Cap/IDBI Bank Ltd.\",\"2021 COMPANIES/Large-Cap/IDBI Bank Ltd.\",\"2021 COMPANIES/Small-Cap/IDFC First Bank Ltd.\",\"2021 COMPANIES/Mid-Cap/IDFC First Bank Ltd.\",\"2021 COMPANIES/Large-Cap/IDFC First Bank Ltd.\",\"2021 COMPANIES/Small-Cap/IFB Industries Ltd.\",\"2021 COMPANIES/Mid-Cap/IFB Industries Ltd.\",\"2021 COMPANIES/Large-Cap/IFB Industries Ltd.\",\"2021 COMPANIES/Small-Cap/IFCI Ltd.\",\"2021 COMPANIES/Mid-Cap/IFCI Ltd.\",\"2021 COMPANIES/Large-Cap/IFCI Ltd.\",\"2021 COMPANIES/Small-Cap/IIFL Finance Ltd.\",\"2021 COMPANIES/Mid-Cap/IIFL Finance Ltd.\",\"2021 COMPANIES/Large-Cap/IIFL Finance Ltd.\",\"2021 COMPANIES/Small-Cap/IRB Infrastructure Developers Ltd.\",\"2021 COMPANIES/Mid-Cap/IRB Infrastructure Developers Ltd.\",\"2021 COMPANIES/Large-Cap/IRB Infrastructure Developers Ltd.\",\"2021 COMPANIES/Small-Cap/ISGEC Heavy Engineering Ltd.\",\"2021 COMPANIES/Mid-Cap/ISGEC Heavy Engineering Ltd.\",\"2021 COMPANIES/Large-Cap/ISGEC Heavy Engineering Ltd.\",\"2021 COMPANIES/Small-Cap/ITC Ltd.\",\"2021 COMPANIES/Mid-Cap/ITC Ltd.\",\"2021 COMPANIES/Large-Cap/ITC Ltd.\",\"2021 COMPANIES/Small-Cap/ITD Cementation India Ltd.\",\"2021 COMPANIES/Mid-Cap/ITD Cementation India Ltd.\",\"2021 COMPANIES/Large-Cap/ITD Cementation India Ltd.\",\"2021 COMPANIES/Small-Cap/India Cements Ltd.\",\"2021 COMPANIES/Mid-Cap/India Cements Ltd.\",\"2021 COMPANIES/Large-Cap/India Cements Ltd.\",\"2021 COMPANIES/Small-Cap/India Glycols Ltd.\",\"2021 COMPANIES/Mid-Cap/India Glycols Ltd.\",\"2021 COMPANIES/Large-Cap/India Glycols Ltd.\",\"2021 COMPANIES/Small-Cap/Indiabulls Housing Finance Ltd.\",\"2021 COMPANIES/Mid-Cap/Indiabulls Housing Finance Ltd.\",\"2021 COMPANIES/Large-Cap/Indiabulls Housing Finance Ltd.\",\"2021 COMPANIES/Small-Cap/Indian Bank\",\"2021 COMPANIES/Mid-Cap/Indian Bank\",\"2021 COMPANIES/Large-Cap/Indian Bank\",\"2021 COMPANIES/Small-Cap/Indian Oil Corporation Ltd.\",\"2021 COMPANIES/Mid-Cap/Indian Oil Corporation Ltd.\",\"2021 COMPANIES/Large-Cap/Indian Oil Corporation Ltd.\",\"2021 COMPANIES/Small-Cap/Indian Overseas Bank\",\"2021 COMPANIES/Mid-Cap/Indian Overseas Bank\",\"2021 COMPANIES/Large-Cap/Indian Overseas Bank\",\"2021 COMPANIES/Small-Cap/Indraprastha Gas Ltd.\",\"2021 COMPANIES/Mid-Cap/Indraprastha Gas Ltd.\",\"2021 COMPANIES/Large-Cap/Indraprastha Gas Ltd.\",\"2021 COMPANIES/Small-Cap/Indus Towers Ltd.\",\"2021 COMPANIES/Mid-Cap/Indus Towers Ltd.\",\"2021 COMPANIES/Large-Cap/Indus Towers Ltd.\",\"2021 COMPANIES/Small-Cap/IndusInd Bank Ltd.\",\"2021 COMPANIES/Mid-Cap/IndusInd Bank Ltd.\",\"2021 COMPANIES/Large-Cap/IndusInd Bank Ltd.\",\"2021 COMPANIES/Small-Cap/Infosys Ltd.\",\"2021 COMPANIES/Mid-Cap/Infosys Ltd.\",\"2021 COMPANIES/Large-Cap/Infosys Ltd.\",\"2021 COMPANIES/Small-Cap/InterGlobe Aviation Ltd.\",\"2021 COMPANIES/Mid-Cap/InterGlobe Aviation Ltd.\",\"2021 COMPANIES/Large-Cap/InterGlobe Aviation Ltd.\",\"2021 COMPANIES/Small-Cap/Ipca Laboratories Ltd.\",\"2021 COMPANIES/Mid-Cap/Ipca Laboratories Ltd.\",\"2021 COMPANIES/Large-Cap/Ipca Laboratories Ltd.\",\"2021 COMPANIES/Small-Cap/J Kumar Infraprojects Ltd.\",\"2021 COMPANIES/Mid-Cap/J Kumar Infraprojects Ltd.\",\"2021 COMPANIES/Large-Cap/J Kumar Infraprojects Ltd.\",\"2021 COMPANIES/Small-Cap/JK Cement Ltd.\",\"2021 COMPANIES/Mid-Cap/JK Cement Ltd.\",\"2021 COMPANIES/Large-Cap/JK Cement Ltd.\",\"2021 COMPANIES/Small-Cap/JK Lakshmi Cement Ltd.\",\"2021 COMPANIES/Mid-Cap/JK Lakshmi Cement Ltd.\",\"2021 COMPANIES/Large-Cap/JK Lakshmi Cement Ltd.\",\"2021 COMPANIES/Small-Cap/JK Paper Ltd.\",\"2021 COMPANIES/Mid-Cap/JK Paper Ltd.\",\"2021 COMPANIES/Large-Cap/JK Paper Ltd.\",\"2021 COMPANIES/Small-Cap/JK Tyre & Industries Ltd.\",\"2021 COMPANIES/Mid-Cap/JK Tyre & Industries Ltd.\",\"2021 COMPANIES/Large-Cap/JK Tyre & Industries Ltd.\",\"2021 COMPANIES/Small-Cap/JM Financial Ltd.\",\"2021 COMPANIES/Mid-Cap/JM Financial Ltd.\",\"2021 COMPANIES/Large-Cap/JM Financial Ltd.\",\"2021 COMPANIES/Small-Cap/JMC Projects (India) Ltd.\",\"2021 COMPANIES/Mid-Cap/JMC Projects (India) Ltd.\",\"2021 COMPANIES/Large-Cap/JMC Projects (India) Ltd.\",\"2021 COMPANIES/Small-Cap/JSW Energy Ltd.\",\"2021 COMPANIES/Mid-Cap/JSW Energy Ltd.\",\"2021 COMPANIES/Large-Cap/JSW Energy Ltd.\",\"2021 COMPANIES/Small-Cap/JSW Steel Ltd.\",\"2021 COMPANIES/Mid-Cap/JSW Steel Ltd.\",\"2021 COMPANIES/Large-Cap/JSW Steel Ltd.\",\"2021 COMPANIES/Small-Cap/Jai Balaji Industries Ltd.\",\"2021 COMPANIES/Mid-Cap/Jai Balaji Industries Ltd.\",\"2021 COMPANIES/Large-Cap/Jai Balaji Industries Ltd.\",\"2021 COMPANIES/Small-Cap/Jain Irrigation Systems Ltd.\",\"2021 COMPANIES/Mid-Cap/Jain Irrigation Systems Ltd.\",\"2021 COMPANIES/Large-Cap/Jain Irrigation Systems Ltd.\",\"2021 COMPANIES/Small-Cap/Jaiprakash Associates Ltd.\",\"2021 COMPANIES/Mid-Cap/Jaiprakash Associates Ltd.\",\"2021 COMPANIES/Large-Cap/Jaiprakash Associates Ltd.\",\"2021 COMPANIES/Small-Cap/Jaiprakash Power Ventures Ltd.\",\"2021 COMPANIES/Mid-Cap/Jaiprakash Power Ventures Ltd.\",\"2021 COMPANIES/Large-Cap/Jaiprakash Power Ventures Ltd.\",\"2021 COMPANIES/Small-Cap/Jammu & Kashmir Bank Ltd.\",\"2021 COMPANIES/Mid-Cap/Jammu & Kashmir Bank Ltd.\",\"2021 COMPANIES/Large-Cap/Jammu & Kashmir Bank Ltd.\",\"2021 COMPANIES/Small-Cap/Jayaswal Neco Industries Ltd.\",\"2021 COMPANIES/Mid-Cap/Jayaswal Neco Industries Ltd.\",\"2021 COMPANIES/Large-Cap/Jayaswal Neco Industries Ltd.\",\"2021 COMPANIES/Small-Cap/Jindal Poly Films Ltd.\",\"2021 COMPANIES/Mid-Cap/Jindal Poly Films Ltd.\",\"2021 COMPANIES/Large-Cap/Jindal Poly Films Ltd.\",\"2021 COMPANIES/Small-Cap/Jindal Saw Ltd.\",\"2021 COMPANIES/Mid-Cap/Jindal Saw Ltd.\",\"2021 COMPANIES/Large-Cap/Jindal Saw Ltd.\",\"2021 COMPANIES/Small-Cap/Jindal Stainless (Hisar) Ltd.\",\"2021 COMPANIES/Mid-Cap/Jindal Stainless (Hisar) Ltd.\",\"2021 COMPANIES/Large-Cap/Jindal Stainless (Hisar) Ltd.\",\"2021 COMPANIES/Small-Cap/Jindal Stainless Ltd.\",\"2021 COMPANIES/Mid-Cap/Jindal Stainless Ltd.\",\"2021 COMPANIES/Large-Cap/Jindal Stainless Ltd.\",\"2021 COMPANIES/Small-Cap/Jindal Steel & Power Ltd.\",\"2021 COMPANIES/Mid-Cap/Jindal Steel & Power Ltd.\",\"2021 COMPANIES/Large-Cap/Jindal Steel & Power Ltd.\",\"2021 COMPANIES/Small-Cap/Jubilant Foodworks Ltd.\",\"2021 COMPANIES/Mid-Cap/Jubilant Foodworks Ltd.\",\"2021 COMPANIES/Large-Cap/Jubilant Foodworks Ltd.\",\"2021 COMPANIES/Small-Cap/Jubilant Pharmova Ltd.\",\"2021 COMPANIES/Mid-Cap/Jubilant Pharmova Ltd.\",\"2021 COMPANIES/Large-Cap/Jubilant Pharmova Ltd.\",\"2021 COMPANIES/Small-Cap/KEC International Ltd.\",\"2021 COMPANIES/Mid-Cap/KEC International Ltd.\",\"2021 COMPANIES/Large-Cap/KEC International Ltd.\",\"2021 COMPANIES/Small-Cap/KEI Industries Ltd.\",\"2021 COMPANIES/Mid-Cap/KEI Industries Ltd.\",\"2021 COMPANIES/Large-Cap/KEI Industries Ltd.\",\"2021 COMPANIES/Small-Cap/KNR Constructions Ltd.\",\"2021 COMPANIES/Mid-Cap/KNR Constructions Ltd.\",\"2021 COMPANIES/Large-Cap/KNR Constructions Ltd.\",\"2021 COMPANIES/Small-Cap/KPR Mill Ltd.\",\"2021 COMPANIES/Mid-Cap/KPR Mill Ltd.\",\"2021 COMPANIES/Large-Cap/KPR Mill Ltd.\",\"2021 COMPANIES/Small-Cap/KRBL Ltd.\",\"2021 COMPANIES/Mid-Cap/KRBL Ltd.\",\"2021 COMPANIES/Large-Cap/KRBL Ltd.\",\"2021 COMPANIES/Small-Cap/Kajaria Ceramics Ltd.\",\"2021 COMPANIES/Mid-Cap/Kajaria Ceramics Ltd.\",\"2021 COMPANIES/Large-Cap/Kajaria Ceramics Ltd.\",\"2021 COMPANIES/Small-Cap/Kalpataru Power Transmissions Ltd.\",\"2021 COMPANIES/Mid-Cap/Kalpataru Power Transmissions Ltd.\",\"2021 COMPANIES/Large-Cap/Kalpataru Power Transmissions Ltd.\",\"2021 COMPANIES/Small-Cap/Kama Holdings Ltd.\",\"2021 COMPANIES/Mid-Cap/Kama Holdings Ltd.\",\"2021 COMPANIES/Large-Cap/Kama Holdings Ltd.\",\"2021 COMPANIES/Small-Cap/Kansai Nerolac Paints Ltd.\",\"2021 COMPANIES/Mid-Cap/Kansai Nerolac Paints Ltd.\",\"2021 COMPANIES/Large-Cap/Kansai Nerolac Paints Ltd.\",\"2021 COMPANIES/Small-Cap/Karnataka Bank Ltd.\",\"2021 COMPANIES/Mid-Cap/Karnataka Bank Ltd.\",\"2021 COMPANIES/Large-Cap/Karnataka Bank Ltd.\",\"2021 COMPANIES/Small-Cap/Karur Vysya Bank Ltd.\",\"2021 COMPANIES/Mid-Cap/Karur Vysya Bank Ltd.\",\"2021 COMPANIES/Large-Cap/Karur Vysya Bank Ltd.\",\"2021 COMPANIES/Small-Cap/Kesoram Industries Ltd.\",\"2021 COMPANIES/Mid-Cap/Kesoram Industries Ltd.\",\"2021 COMPANIES/Large-Cap/Kesoram Industries Ltd.\",\"2021 COMPANIES/Small-Cap/Kirloskar Brothers Ltd.\",\"2021 COMPANIES/Mid-Cap/Kirloskar Brothers Ltd.\",\"2021 COMPANIES/Large-Cap/Kirloskar Brothers Ltd.\",\"2021 COMPANIES/Small-Cap/Kirloskar Oil Engines Ltd.\",\"2021 COMPANIES/Mid-Cap/Kirloskar Oil Engines Ltd.\",\"2021 COMPANIES/Large-Cap/Kirloskar Oil Engines Ltd.\",\"2021 COMPANIES/Small-Cap/Kotak Mahindra Bank Ltd.\",\"2021 COMPANIES/Mid-Cap/Kotak Mahindra Bank Ltd.\",\"2021 COMPANIES/Large-Cap/Kotak Mahindra Bank Ltd.\",\"2021 COMPANIES/Small-Cap/Kothari Products Ltd.\",\"2021 COMPANIES/Mid-Cap/Kothari Products Ltd.\",\"2021 COMPANIES/Large-Cap/Kothari Products Ltd.\",\"2021 COMPANIES/Small-Cap/L&T Finance Holdings Ltd.\",\"2021 COMPANIES/Mid-Cap/L&T Finance Holdings Ltd.\",\"2021 COMPANIES/Large-Cap/L&T Finance Holdings Ltd.\",\"2021 COMPANIES/Small-Cap/L&T Technology Services Ltd.\",\"2021 COMPANIES/Mid-Cap/L&T Technology Services Ltd.\",\"2021 COMPANIES/Large-Cap/L&T Technology Services Ltd.\",\"2021 COMPANIES/Small-Cap/LIC Housing Finance Ltd.\",\"2021 COMPANIES/Mid-Cap/LIC Housing Finance Ltd.\",\"2021 COMPANIES/Large-Cap/LIC Housing Finance Ltd.\",\"2021 COMPANIES/Small-Cap/LT Foods Ltd.\",\"2021 COMPANIES/Mid-Cap/LT Foods Ltd.\",\"2021 COMPANIES/Large-Cap/LT Foods Ltd.\",\"2021 COMPANIES/Small-Cap/Larsen & Toubro Infotech Ltd.\",\"2021 COMPANIES/Mid-Cap/Larsen & Toubro Infotech Ltd.\",\"2021 COMPANIES/Large-Cap/Larsen & Toubro Infotech Ltd.\",\"2021 COMPANIES/Small-Cap/Larsen & Toubro Ltd.\",\"2021 COMPANIES/Mid-Cap/Larsen & Toubro Ltd.\",\"2021 COMPANIES/Large-Cap/Larsen & Toubro Ltd.\",\"2021 COMPANIES/Small-Cap/Laurus Labs Ltd.\",\"2021 COMPANIES/Mid-Cap/Laurus Labs Ltd.\",\"2021 COMPANIES/Large-Cap/Laurus Labs Ltd.\",\"2021 COMPANIES/Small-Cap/Lupin Ltd.\",\"2021 COMPANIES/Mid-Cap/Lupin Ltd.\",\"2021 COMPANIES/Large-Cap/Lupin Ltd.\",\"2021 COMPANIES/Small-Cap/MMTC Ltd.\",\"2021 COMPANIES/Mid-Cap/MMTC Ltd.\",\"2021 COMPANIES/Large-Cap/MMTC Ltd.\",\"2021 COMPANIES/Small-Cap/MRF Ltd.\",\"2021 COMPANIES/Mid-Cap/MRF Ltd.\",\"2021 COMPANIES/Large-Cap/MRF Ltd.\",\"2021 COMPANIES/Small-Cap/Mahanagar Gas Ltd.\",\"2021 COMPANIES/Mid-Cap/Mahanagar Gas Ltd.\",\"2021 COMPANIES/Large-Cap/Mahanagar Gas Ltd.\",\"2021 COMPANIES/Small-Cap/Maharashtra Seamless Ltd.\",\"2021 COMPANIES/Mid-Cap/Maharashtra Seamless Ltd.\",\"2021 COMPANIES/Large-Cap/Maharashtra Seamless Ltd.\",\"2021 COMPANIES/Small-Cap/Mahindra & Mahindra Financial Services Ltd.\",\"2021 COMPANIES/Mid-Cap/Mahindra & Mahindra Financial Services Ltd.\",\"2021 COMPANIES/Large-Cap/Mahindra & Mahindra Financial Services Ltd.\",\"2021 COMPANIES/Small-Cap/Mahindra & Mahindra Ltd.\",\"2021 COMPANIES/Mid-Cap/Mahindra & Mahindra Ltd.\",\"2021 COMPANIES/Large-Cap/Mahindra & Mahindra Ltd.\",\"2021 COMPANIES/Small-Cap/Mahindra CIE Automotive Ltd.\",\"2021 COMPANIES/Mid-Cap/Mahindra CIE Automotive Ltd.\",\"2021 COMPANIES/Large-Cap/Mahindra CIE Automotive Ltd.\",\"2021 COMPANIES/Small-Cap/Mahindra Logistics Ltd.\",\"2021 COMPANIES/Mid-Cap/Mahindra Logistics Ltd.\",\"2021 COMPANIES/Large-Cap/Mahindra Logistics Ltd.\",\"2021 COMPANIES/Small-Cap/Manappuram Finance Ltd.\",\"2021 COMPANIES/Mid-Cap/Manappuram Finance Ltd.\",\"2021 COMPANIES/Large-Cap/Manappuram Finance Ltd.\",\"2021 COMPANIES/Small-Cap/Mangalore Chemicals & Fertilizers Ltd.\",\"2021 COMPANIES/Mid-Cap/Mangalore Chemicals & Fertilizers Ltd.\",\"2021 COMPANIES/Large-Cap/Mangalore Chemicals & Fertilizers Ltd.\",\"2021 COMPANIES/Small-Cap/Mangalore Refinery And Petrochemicals Ltd.\",\"2021 COMPANIES/Mid-Cap/Mangalore Refinery And Petrochemicals Ltd.\",\"2021 COMPANIES/Large-Cap/Mangalore Refinery And Petrochemicals Ltd.\",\"2021 COMPANIES/Small-Cap/Marico Ltd.\",\"2021 COMPANIES/Mid-Cap/Marico Ltd.\",\"2021 COMPANIES/Large-Cap/Marico Ltd.\",\"2021 COMPANIES/Small-Cap/Maruti Suzuki India Ltd.\",\"2021 COMPANIES/Mid-Cap/Maruti Suzuki India Ltd.\",\"2021 COMPANIES/Large-Cap/Maruti Suzuki India Ltd.\",\"2021 COMPANIES/Small-Cap/Max Financial Services Ltd.\",\"2021 COMPANIES/Mid-Cap/Max Financial Services Ltd.\",\"2021 COMPANIES/Large-Cap/Max Financial Services Ltd.\",\"2021 COMPANIES/Small-Cap/MindTree Ltd.\",\"2021 COMPANIES/Mid-Cap/MindTree Ltd.\",\"2021 COMPANIES/Large-Cap/MindTree Ltd.\",\"2021 COMPANIES/Small-Cap/Minda Corporation Ltd.\",\"2021 COMPANIES/Mid-Cap/Minda Corporation Ltd.\",\"2021 COMPANIES/Large-Cap/Minda Corporation Ltd.\",\"2021 COMPANIES/Small-Cap/Minda Industries Ltd.\",\"2021 COMPANIES/Mid-Cap/Minda Industries Ltd.\",\"2021 COMPANIES/Large-Cap/Minda Industries Ltd.\",\"2021 COMPANIES/Small-Cap/Motherson Sumi Systems Ltd.\",\"2021 COMPANIES/Mid-Cap/Motherson Sumi Systems Ltd.\",\"2021 COMPANIES/Large-Cap/Motherson Sumi Systems Ltd.\",\"2021 COMPANIES/Small-Cap/Motilal Oswal Financial Services Ltd.\",\"2021 COMPANIES/Mid-Cap/Motilal Oswal Financial Services Ltd.\",\"2021 COMPANIES/Large-Cap/Motilal Oswal Financial Services Ltd.\",\"2021 COMPANIES/Small-Cap/MphasiS Ltd.\",\"2021 COMPANIES/Mid-Cap/MphasiS Ltd.\",\"2021 COMPANIES/Large-Cap/MphasiS Ltd.\",\"2021 COMPANIES/Small-Cap/Mukand Ltd.\",\"2021 COMPANIES/Mid-Cap/Mukand Ltd.\",\"2021 COMPANIES/Large-Cap/Mukand Ltd.\",\"2021 COMPANIES/Small-Cap/Muthoot Finance Ltd.\",\"2021 COMPANIES/Mid-Cap/Muthoot Finance Ltd.\",\"2021 COMPANIES/Large-Cap/Muthoot Finance Ltd.\",\"2021 COMPANIES/Small-Cap/NBCC (India) Ltd.\",\"2021 COMPANIES/Mid-Cap/NBCC (India) Ltd.\",\"2021 COMPANIES/Large-Cap/NBCC (India) Ltd.\",\"2021 COMPANIES/Small-Cap/NCC Ltd.\",\"2021 COMPANIES/Mid-Cap/NCC Ltd.\",\"2021 COMPANIES/Large-Cap/NCC Ltd.\",\"2021 COMPANIES/Small-Cap/NHPC Ltd.\",\"2021 COMPANIES/Mid-Cap/NHPC Ltd.\",\"2021 COMPANIES/Large-Cap/NHPC Ltd.\",\"2021 COMPANIES/Small-Cap/NLC India Ltd.\",\"2021 COMPANIES/Mid-Cap/NLC India Ltd.\",\"2021 COMPANIES/Large-Cap/NLC India Ltd.\",\"2021 COMPANIES/Small-Cap/NMDC Ltd.\",\"2021 COMPANIES/Mid-Cap/NMDC Ltd.\",\"2021 COMPANIES/Large-Cap/NMDC Ltd.\",\"2021 COMPANIES/Small-Cap/NTPC Ltd.\",\"2021 COMPANIES/Mid-Cap/NTPC Ltd.\",\"2021 COMPANIES/Large-Cap/NTPC Ltd.\",\"2021 COMPANIES/Small-Cap/Narayana Hrudayalaya Ltd.\",\"2021 COMPANIES/Mid-Cap/Narayana Hrudayalaya Ltd.\",\"2021 COMPANIES/Large-Cap/Narayana Hrudayalaya Ltd.\",\"2021 COMPANIES/Small-Cap/National Aluminium Company Ltd.\",\"2021 COMPANIES/Mid-Cap/National Aluminium Company Ltd.\",\"2021 COMPANIES/Large-Cap/National Aluminium Company Ltd.\",\"2021 COMPANIES/Small-Cap/National Fertilizers Ltd.\",\"2021 COMPANIES/Mid-Cap/National Fertilizers Ltd.\",\"2021 COMPANIES/Large-Cap/National Fertilizers Ltd.\",\"2021 COMPANIES/Small-Cap/Nava Bharat Ventures Ltd.\",\"2021 COMPANIES/Mid-Cap/Nava Bharat Ventures Ltd.\",\"2021 COMPANIES/Large-Cap/Nava Bharat Ventures Ltd.\",\"2021 COMPANIES/Small-Cap/Nestle India Ltd.\",\"2021 COMPANIES/Mid-Cap/Nestle India Ltd.\",\"2021 COMPANIES/Large-Cap/Nestle India Ltd.\",\"2021 COMPANIES/Small-Cap/Nilkamal Ltd.\",\"2021 COMPANIES/Mid-Cap/Nilkamal Ltd.\",\"2021 COMPANIES/Large-Cap/Nilkamal Ltd.\",\"2021 COMPANIES/Small-Cap/Oil And Natural Gas Corporation Ltd.\",\"2021 COMPANIES/Mid-Cap/Oil And Natural Gas Corporation Ltd.\",\"2021 COMPANIES/Large-Cap/Oil And Natural Gas Corporation Ltd.\",\"2021 COMPANIES/Small-Cap/Oil India Ltd.\",\"2021 COMPANIES/Mid-Cap/Oil India Ltd.\",\"2021 COMPANIES/Large-Cap/Oil India Ltd.\",\"2021 COMPANIES/Small-Cap/Oracle Financial Services Software Ltd.\",\"2021 COMPANIES/Mid-Cap/Oracle Financial Services Software Ltd.\",\"2021 COMPANIES/Large-Cap/Oracle Financial Services Software Ltd.\",\"2021 COMPANIES/Small-Cap/Orient Cement Ltd.\",\"2021 COMPANIES/Mid-Cap/Orient Cement Ltd.\",\"2021 COMPANIES/Large-Cap/Orient Cement Ltd.\",\"2021 COMPANIES/Small-Cap/PC Jeweller Ltd.\",\"2021 COMPANIES/Mid-Cap/PC Jeweller Ltd.\",\"2021 COMPANIES/Large-Cap/PC Jeweller Ltd.\",\"2021 COMPANIES/Small-Cap/PDS Multinational Fashions Ltd.\",\"2021 COMPANIES/Mid-Cap/PDS Multinational Fashions Ltd.\",\"2021 COMPANIES/Large-Cap/PDS Multinational Fashions Ltd.\",\"2021 COMPANIES/Small-Cap/PI Industries Ltd.\",\"2021 COMPANIES/Mid-Cap/PI Industries Ltd.\",\"2021 COMPANIES/Large-Cap/PI Industries Ltd.\",\"2021 COMPANIES/Small-Cap/PNB Housing Finance Ltd.\",\"2021 COMPANIES/Mid-Cap/PNB Housing Finance Ltd.\",\"2021 COMPANIES/Large-Cap/PNB Housing Finance Ltd.\",\"2021 COMPANIES/Small-Cap/PNC Infratech Ltd.\",\"2021 COMPANIES/Mid-Cap/PNC Infratech Ltd.\",\"2021 COMPANIES/Large-Cap/PNC Infratech Ltd.\",\"2021 COMPANIES/Small-Cap/PTC India Ltd.\",\"2021 COMPANIES/Mid-Cap/PTC India Ltd.\",\"2021 COMPANIES/Large-Cap/PTC India Ltd.\",\"2021 COMPANIES/Small-Cap/Page Industries Ltd.\",\"2021 COMPANIES/Mid-Cap/Page Industries Ltd.\",\"2021 COMPANIES/Large-Cap/Page Industries Ltd.\",\"2021 COMPANIES/Small-Cap/Patel Engineering Ltd.\",\"2021 COMPANIES/Mid-Cap/Patel Engineering Ltd.\",\"2021 COMPANIES/Large-Cap/Patel Engineering Ltd.\",\"2021 COMPANIES/Small-Cap/Paul Merchants Ltd.\",\"2021 COMPANIES/Mid-Cap/Paul Merchants Ltd.\",\"2021 COMPANIES/Large-Cap/Paul Merchants Ltd.\",\"2021 COMPANIES/Small-Cap/Persistent Systems Ltd.\",\"2021 COMPANIES/Mid-Cap/Persistent Systems Ltd.\",\"2021 COMPANIES/Large-Cap/Persistent Systems Ltd.\",\"2021 COMPANIES/Small-Cap/Petronet LNG Ltd.\",\"2021 COMPANIES/Mid-Cap/Petronet LNG Ltd.\",\"2021 COMPANIES/Large-Cap/Petronet LNG Ltd.\",\"2021 COMPANIES/Small-Cap/Pfizer Ltd.\",\"2021 COMPANIES/Mid-Cap/Pfizer Ltd.\",\"2021 COMPANIES/Large-Cap/Pfizer Ltd.\",\"2021 COMPANIES/Small-Cap/Phillips Carbon Black Ltd.\",\"2021 COMPANIES/Mid-Cap/Phillips Carbon Black Ltd.\",\"2021 COMPANIES/Large-Cap/Phillips Carbon Black Ltd.\",\"2021 COMPANIES/Small-Cap/Pidilite Industries Ltd.\",\"2021 COMPANIES/Mid-Cap/Pidilite Industries Ltd.\",\"2021 COMPANIES/Large-Cap/Pidilite Industries Ltd.\",\"2021 COMPANIES/Small-Cap/Piramal Enterprises Ltd.\",\"2021 COMPANIES/Mid-Cap/Piramal Enterprises Ltd.\",\"2021 COMPANIES/Large-Cap/Piramal Enterprises Ltd.\",\"2021 COMPANIES/Small-Cap/Polyplex Corporation Ltd.\",\"2021 COMPANIES/Mid-Cap/Polyplex Corporation Ltd.\",\"2021 COMPANIES/Large-Cap/Polyplex Corporation Ltd.\",\"2021 COMPANIES/Small-Cap/Poonawalla Fincorp Ltd.\",\"2021 COMPANIES/Mid-Cap/Poonawalla Fincorp Ltd.\",\"2021 COMPANIES/Large-Cap/Poonawalla Fincorp Ltd.\",\"2021 COMPANIES/Small-Cap/Power Finance Corporation Ltd.\",\"2021 COMPANIES/Mid-Cap/Power Finance Corporation Ltd.\",\"2021 COMPANIES/Large-Cap/Power Finance Corporation Ltd.\",\"2021 COMPANIES/Small-Cap/Power Grid Corporation of India Ltd.\",\"2021 COMPANIES/Mid-Cap/Power Grid Corporation of India Ltd.\",\"2021 COMPANIES/Large-Cap/Power Grid Corporation of India Ltd.\",\"2021 COMPANIES/Small-Cap/Prakash Industries Ltd.\",\"2021 COMPANIES/Mid-Cap/Prakash Industries Ltd.\",\"2021 COMPANIES/Large-Cap/Prakash Industries Ltd.\",\"2021 COMPANIES/Small-Cap/Prestige Estates Projects Ltd.\",\"2021 COMPANIES/Mid-Cap/Prestige Estates Projects Ltd.\",\"2021 COMPANIES/Large-Cap/Prestige Estates Projects Ltd.\",\"2021 COMPANIES/Small-Cap/Prime Focus Ltd.\",\"2021 COMPANIES/Mid-Cap/Prime Focus Ltd.\",\"2021 COMPANIES/Large-Cap/Prime Focus Ltd.\",\"2021 COMPANIES/Small-Cap/Prism Johnson Ltd.\",\"2021 COMPANIES/Mid-Cap/Prism Johnson Ltd.\",\"2021 COMPANIES/Large-Cap/Prism Johnson Ltd.\",\"2021 COMPANIES/Small-Cap/Procter & Gamble Hygiene & Healthcare Ltd.\",\"2021 COMPANIES/Mid-Cap/Procter & Gamble Hygiene & Healthcare Ltd.\",\"2021 COMPANIES/Large-Cap/Procter & Gamble Hygiene & Healthcare Ltd.\",\"2021 COMPANIES/Small-Cap/Punjab & Sind Bank\",\"2021 COMPANIES/Mid-Cap/Punjab & Sind Bank\",\"2021 COMPANIES/Large-Cap/Punjab & Sind Bank\",\"2021 COMPANIES/Small-Cap/Punjab National Bank\",\"2021 COMPANIES/Mid-Cap/Punjab National Bank\",\"2021 COMPANIES/Large-Cap/Punjab National Bank\",\"2021 COMPANIES/Small-Cap/Quess Corp Ltd.\",\"2021 COMPANIES/Mid-Cap/Quess Corp Ltd.\",\"2021 COMPANIES/Large-Cap/Quess Corp Ltd.\",\"2021 COMPANIES/Small-Cap/RBL Bank Ltd.\",\"2021 COMPANIES/Mid-Cap/RBL Bank Ltd.\",\"2021 COMPANIES/Large-Cap/RBL Bank Ltd.\",\"2021 COMPANIES/Small-Cap/REC Ltd.\",\"2021 COMPANIES/Mid-Cap/REC Ltd.\",\"2021 COMPANIES/Large-Cap/REC Ltd.\",\"2021 COMPANIES/Small-Cap/RSWM Ltd.\",\"2021 COMPANIES/Mid-Cap/RSWM Ltd.\",\"2021 COMPANIES/Large-Cap/RSWM Ltd.\",\"2021 COMPANIES/Small-Cap/Rain Industries Ltd.\",\"2021 COMPANIES/Mid-Cap/Rain Industries Ltd.\",\"2021 COMPANIES/Large-Cap/Rain Industries Ltd.\",\"2021 COMPANIES/Small-Cap/Rajesh Exports Ltd.\",\"2021 COMPANIES/Mid-Cap/Rajesh Exports Ltd.\",\"2021 COMPANIES/Large-Cap/Rajesh Exports Ltd.\",\"2021 COMPANIES/Small-Cap/Rane Holdings Ltd.\",\"2021 COMPANIES/Mid-Cap/Rane Holdings Ltd.\",\"2021 COMPANIES/Large-Cap/Rane Holdings Ltd.\",\"2021 COMPANIES/Small-Cap/Rashtriya Chemicals & Fertilizers Ltd.\",\"2021 COMPANIES/Mid-Cap/Rashtriya Chemicals & Fertilizers Ltd.\",\"2021 COMPANIES/Large-Cap/Rashtriya Chemicals & Fertilizers Ltd.\",\"2021 COMPANIES/Small-Cap/Raymond Ltd.\",\"2021 COMPANIES/Mid-Cap/Raymond Ltd.\",\"2021 COMPANIES/Large-Cap/Raymond Ltd.\",\"2021 COMPANIES/Small-Cap/Redington (India) Ltd.\",\"2021 COMPANIES/Mid-Cap/Redington (India) Ltd.\",\"2021 COMPANIES/Large-Cap/Redington (India) Ltd.\",\"2021 COMPANIES/Small-Cap/Reliance Capital Ltd.\",\"2021 COMPANIES/Mid-Cap/Reliance Capital Ltd.\",\"2021 COMPANIES/Large-Cap/Reliance Capital Ltd.\",\"2021 COMPANIES/Small-Cap/Reliance Industries Ltd.\",\"2021 COMPANIES/Mid-Cap/Reliance Industries Ltd.\",\"2021 COMPANIES/Large-Cap/Reliance Industries Ltd.\",\"2021 COMPANIES/Small-Cap/Reliance Infrastructure Ltd.\",\"2021 COMPANIES/Mid-Cap/Reliance Infrastructure Ltd.\",\"2021 COMPANIES/Large-Cap/Reliance Infrastructure Ltd.\",\"2021 COMPANIES/Small-Cap/Reliance Power Ltd.\",\"2021 COMPANIES/Mid-Cap/Reliance Power Ltd.\",\"2021 COMPANIES/Large-Cap/Reliance Power Ltd.\",\"2021 COMPANIES/Small-Cap/Religare Enterprises Ltd.\",\"2021 COMPANIES/Mid-Cap/Religare Enterprises Ltd.\",\"2021 COMPANIES/Large-Cap/Religare Enterprises Ltd.\",\"2021 COMPANIES/Small-Cap/SBI Life Insurance Company Ltd.\",\"2021 COMPANIES/Mid-Cap/SBI Life Insurance Company Ltd.\",\"2021 COMPANIES/Large-Cap/SBI Life Insurance Company Ltd.\",\"2021 COMPANIES/Small-Cap/SIS Ltd.\",\"2021 COMPANIES/Mid-Cap/SIS Ltd.\",\"2021 COMPANIES/Large-Cap/SIS Ltd.\",\"2021 COMPANIES/Small-Cap/SJVN Ltd.\",\"2021 COMPANIES/Mid-Cap/SJVN Ltd.\",\"2021 COMPANIES/Large-Cap/SJVN Ltd.\",\"2021 COMPANIES/Small-Cap/SKF India Ltd.\",\"2021 COMPANIES/Mid-Cap/SKF India Ltd.\",\"2021 COMPANIES/Large-Cap/SKF India Ltd.\",\"2021 COMPANIES/Small-Cap/SREI Infrastructure Finance Ltd.\",\"2021 COMPANIES/Mid-Cap/SREI Infrastructure Finance Ltd.\",\"2021 COMPANIES/Large-Cap/SREI Infrastructure Finance Ltd.\",\"2021 COMPANIES/Small-Cap/SRF Ltd.\",\"2021 COMPANIES/Mid-Cap/SRF Ltd.\",\"2021 COMPANIES/Large-Cap/SRF Ltd.\",\"2021 COMPANIES/Small-Cap/Sadbhav Engineering Ltd.\",\"2021 COMPANIES/Mid-Cap/Sadbhav Engineering Ltd.\",\"2021 COMPANIES/Large-Cap/Sadbhav Engineering Ltd.\",\"2021 COMPANIES/Small-Cap/Sanofi India Ltd.\",\"2021 COMPANIES/Mid-Cap/Sanofi India Ltd.\",\"2021 COMPANIES/Large-Cap/Sanofi India Ltd.\",\"2021 COMPANIES/Small-Cap/Shankara Building Products Ltd.\",\"2021 COMPANIES/Mid-Cap/Shankara Building Products Ltd.\",\"2021 COMPANIES/Large-Cap/Shankara Building Products Ltd.\",\"2021 COMPANIES/Small-Cap/Shipping Corporation of India Ltd.\",\"2021 COMPANIES/Mid-Cap/Shipping Corporation of India Ltd.\",\"2021 COMPANIES/Large-Cap/Shipping Corporation of India Ltd.\",\"2021 COMPANIES/Small-Cap/Shree Cements Ltd.\",\"2021 COMPANIES/Mid-Cap/Shree Cements Ltd.\",\"2021 COMPANIES/Large-Cap/Shree Cements Ltd.\",\"2021 COMPANIES/Small-Cap/Shree Renuka Sugars Ltd.\",\"2021 COMPANIES/Mid-Cap/Shree Renuka Sugars Ltd.\",\"2021 COMPANIES/Large-Cap/Shree Renuka Sugars Ltd.\",\"2021 COMPANIES/Small-Cap/Shriram City Union Finance Ltd.\",\"2021 COMPANIES/Mid-Cap/Shriram City Union Finance Ltd.\",\"2021 COMPANIES/Large-Cap/Shriram City Union Finance Ltd.\",\"2021 COMPANIES/Small-Cap/Shriram Transport Finance Company Ltd.\",\"2021 COMPANIES/Mid-Cap/Shriram Transport Finance Company Ltd.\",\"2021 COMPANIES/Large-Cap/Shriram Transport Finance Company Ltd.\",\"2021 COMPANIES/Small-Cap/Siemens Ltd.\",\"2021 COMPANIES/Mid-Cap/Siemens Ltd.\",\"2021 COMPANIES/Large-Cap/Siemens Ltd.\",\"2021 COMPANIES/Small-Cap/Simplex Infrastructures Ltd.\",\"2021 COMPANIES/Mid-Cap/Simplex Infrastructures Ltd.\",\"2021 COMPANIES/Large-Cap/Simplex Infrastructures Ltd.\",\"2021 COMPANIES/Small-Cap/Sobha Ltd.\",\"2021 COMPANIES/Mid-Cap/Sobha Ltd.\",\"2021 COMPANIES/Large-Cap/Sobha Ltd.\",\"2021 COMPANIES/Small-Cap/Sonata Software Ltd.\",\"2021 COMPANIES/Mid-Cap/Sonata Software Ltd.\",\"2021 COMPANIES/Large-Cap/Sonata Software Ltd.\",\"2021 COMPANIES/Small-Cap/South Indian Bank Ltd.\",\"2021 COMPANIES/Mid-Cap/South Indian Bank Ltd.\",\"2021 COMPANIES/Large-Cap/South Indian Bank Ltd.\",\"2021 COMPANIES/Small-Cap/Spicejet Ltd.\",\"2021 COMPANIES/Mid-Cap/Spicejet Ltd.\",\"2021 COMPANIES/Large-Cap/Spicejet Ltd.\",\"2021 COMPANIES/Small-Cap/State Bank of India\",\"2021 COMPANIES/Mid-Cap/State Bank of India\",\"2021 COMPANIES/Large-Cap/State Bank of India\",\"2021 COMPANIES/Small-Cap/Steel Authority of India (SAIL) Ltd.\",\"2021 COMPANIES/Mid-Cap/Steel Authority of India (SAIL) Ltd.\",\"2021 COMPANIES/Large-Cap/Steel Authority of India (SAIL) Ltd.\",\"2021 COMPANIES/Small-Cap/Sterlite Technologies Ltd.\",\"2021 COMPANIES/Mid-Cap/Sterlite Technologies Ltd.\",\"2021 COMPANIES/Large-Cap/Sterlite Technologies Ltd.\",\"2021 COMPANIES/Small-Cap/Strides Pharma Science Ltd.\",\"2021 COMPANIES/Mid-Cap/Strides Pharma Science Ltd.\",\"2021 COMPANIES/Large-Cap/Strides Pharma Science Ltd.\",\"2021 COMPANIES/Small-Cap/Sun Pharmaceutical Industries Ltd.\",\"2021 COMPANIES/Mid-Cap/Sun Pharmaceutical Industries Ltd.\",\"2021 COMPANIES/Large-Cap/Sun Pharmaceutical Industries Ltd.\",\"2021 COMPANIES/Small-Cap/Sun TV Network Ltd.\",\"2021 COMPANIES/Mid-Cap/Sun TV Network Ltd.\",\"2021 COMPANIES/Large-Cap/Sun TV Network Ltd.\",\"2021 COMPANIES/Small-Cap/Sundaram Clayton Ltd.\",\"2021 COMPANIES/Mid-Cap/Sundaram Clayton Ltd.\",\"2021 COMPANIES/Large-Cap/Sundaram Clayton Ltd.\",\"2021 COMPANIES/Small-Cap/Sundaram Finance Ltd.\",\"2021 COMPANIES/Mid-Cap/Sundaram Finance Ltd.\",\"2021 COMPANIES/Large-Cap/Sundaram Finance Ltd.\",\"2021 COMPANIES/Small-Cap/Sundram Fasteners Ltd.\",\"2021 COMPANIES/Mid-Cap/Sundram Fasteners Ltd.\",\"2021 COMPANIES/Large-Cap/Sundram Fasteners Ltd.\",\"2021 COMPANIES/Small-Cap/Supreme Industries Ltd.\",\"2021 COMPANIES/Mid-Cap/Supreme Industries Ltd.\",\"2021 COMPANIES/Large-Cap/Supreme Industries Ltd.\",\"2021 COMPANIES/Small-Cap/Supreme Petrochem Ltd.\",\"2021 COMPANIES/Mid-Cap/Supreme Petrochem Ltd.\",\"2021 COMPANIES/Large-Cap/Supreme Petrochem Ltd.\",\"2021 COMPANIES/Small-Cap/Surya Roshni Ltd.\",\"2021 COMPANIES/Mid-Cap/Surya Roshni Ltd.\",\"2021 COMPANIES/Large-Cap/Surya Roshni Ltd.\",\"2021 COMPANIES/Small-Cap/Suzlon Energy Ltd.\",\"2021 COMPANIES/Mid-Cap/Suzlon Energy Ltd.\",\"2021 COMPANIES/Large-Cap/Suzlon Energy Ltd.\",\"2021 COMPANIES/Small-Cap/TVS Motor Company Ltd.\",\"2021 COMPANIES/Mid-Cap/TVS Motor Company Ltd.\",\"2021 COMPANIES/Large-Cap/TVS Motor Company Ltd.\",\"2021 COMPANIES/Small-Cap/Tamil Nadu Newsprint And Papers Ltd.\",\"2021 COMPANIES/Mid-Cap/Tamil Nadu Newsprint And Papers Ltd.\",\"2021 COMPANIES/Large-Cap/Tamil Nadu Newsprint And Papers Ltd.\",\"2021 COMPANIES/Small-Cap/Tata Chemicals Ltd.\",\"2021 COMPANIES/Mid-Cap/Tata Chemicals Ltd.\",\"2021 COMPANIES/Large-Cap/Tata Chemicals Ltd.\",\"2021 COMPANIES/Small-Cap/Tata Communications Ltd.\",\"2021 COMPANIES/Mid-Cap/Tata Communications Ltd.\",\"2021 COMPANIES/Large-Cap/Tata Communications Ltd.\",\"2021 COMPANIES/Small-Cap/Tata Consultancy Services Ltd.\",\"2021 COMPANIES/Mid-Cap/Tata Consultancy Services Ltd.\",\"2021 COMPANIES/Large-Cap/Tata Consultancy Services Ltd.\",\"2021 COMPANIES/Small-Cap/Tata Consumer Products Ltd.\",\"2021 COMPANIES/Mid-Cap/Tata Consumer Products Ltd.\",\"2021 COMPANIES/Large-Cap/Tata Consumer Products Ltd.\",\"2021 COMPANIES/Small-Cap/Tata Motors Ltd.\",\"2021 COMPANIES/Mid-Cap/Tata Motors Ltd.\",\"2021 COMPANIES/Large-Cap/Tata Motors Ltd.\",\"2021 COMPANIES/Small-Cap/Tata Power Company Ltd.\",\"2021 COMPANIES/Mid-Cap/Tata Power Company Ltd.\",\"2021 COMPANIES/Large-Cap/Tata Power Company Ltd.\",\"2021 COMPANIES/Small-Cap/Tata Steel BSL Ltd.\",\"2021 COMPANIES/Mid-Cap/Tata Steel BSL Ltd.\",\"2021 COMPANIES/Large-Cap/Tata Steel BSL Ltd.\",\"2021 COMPANIES/Small-Cap/Tata Steel Ltd.\",\"2021 COMPANIES/Mid-Cap/Tata Steel Ltd.\",\"2021 COMPANIES/Large-Cap/Tata Steel Ltd.\",\"2021 COMPANIES/Small-Cap/TeamLease Services Ltd.\",\"2021 COMPANIES/Mid-Cap/TeamLease Services Ltd.\",\"2021 COMPANIES/Large-Cap/TeamLease Services Ltd.\",\"2021 COMPANIES/Small-Cap/Tech Mahindra Ltd.\",\"2021 COMPANIES/Mid-Cap/Tech Mahindra Ltd.\",\"2021 COMPANIES/Large-Cap/Tech Mahindra Ltd.\",\"2021 COMPANIES/Small-Cap/The Fertilisers and Chemicals Travancore Ltd.\",\"2021 COMPANIES/Mid-Cap/The Fertilisers and Chemicals Travancore Ltd.\",\"2021 COMPANIES/Large-Cap/The Fertilisers and Chemicals Travancore Ltd.\",\"2021 COMPANIES/Small-Cap/The New India Assurance Company Ltd.\",\"2021 COMPANIES/Mid-Cap/The New India Assurance Company Ltd.\",\"2021 COMPANIES/Large-Cap/The New India Assurance Company Ltd.\",\"2021 COMPANIES/Small-Cap/The Ramco Cements Ltd.\",\"2021 COMPANIES/Mid-Cap/The Ramco Cements Ltd.\",\"2021 COMPANIES/Large-Cap/The Ramco Cements Ltd.\",\"2021 COMPANIES/Small-Cap/Thermax Ltd.\",\"2021 COMPANIES/Mid-Cap/Thermax Ltd.\",\"2021 COMPANIES/Large-Cap/Thermax Ltd.\",\"2021 COMPANIES/Small-Cap/Time Technoplast Ltd.\",\"2021 COMPANIES/Mid-Cap/Time Technoplast Ltd.\",\"2021 COMPANIES/Large-Cap/Time Technoplast Ltd.\",\"2021 COMPANIES/Small-Cap/Titan Company Ltd.\",\"2021 COMPANIES/Mid-Cap/Titan Company Ltd.\",\"2021 COMPANIES/Large-Cap/Titan Company Ltd.\",\"2021 COMPANIES/Small-Cap/Torrent Pharmaceuticals Ltd.\",\"2021 COMPANIES/Mid-Cap/Torrent Pharmaceuticals Ltd.\",\"2021 COMPANIES/Large-Cap/Torrent Pharmaceuticals Ltd.\",\"2021 COMPANIES/Small-Cap/Torrent Power Ltd.\",\"2021 COMPANIES/Mid-Cap/Torrent Power Ltd.\",\"2021 COMPANIES/Large-Cap/Torrent Power Ltd.\",\"2021 COMPANIES/Small-Cap/Transport Corporation of India Ltd.\",\"2021 COMPANIES/Mid-Cap/Transport Corporation of India Ltd.\",\"2021 COMPANIES/Large-Cap/Transport Corporation of India Ltd.\",\"2021 COMPANIES/Small-Cap/Trent Ltd.\",\"2021 COMPANIES/Mid-Cap/Trent Ltd.\",\"2021 COMPANIES/Large-Cap/Trent Ltd.\",\"2021 COMPANIES/Small-Cap/Trident Ltd.\",\"2021 COMPANIES/Mid-Cap/Trident Ltd.\",\"2021 COMPANIES/Large-Cap/Trident Ltd.\",\"2021 COMPANIES/Small-Cap/Triveni Engineering & Industries Ltd.\",\"2021 COMPANIES/Mid-Cap/Triveni Engineering & Industries Ltd.\",\"2021 COMPANIES/Large-Cap/Triveni Engineering & Industries Ltd.\",\"2021 COMPANIES/Small-Cap/Tube Investments of India Ltd.\",\"2021 COMPANIES/Mid-Cap/Tube Investments of India Ltd.\",\"2021 COMPANIES/Large-Cap/Tube Investments of India Ltd.\",\"2021 COMPANIES/Small-Cap/UCO Bank\",\"2021 COMPANIES/Mid-Cap/UCO Bank\",\"2021 COMPANIES/Large-Cap/UCO Bank\",\"2021 COMPANIES/Small-Cap/UPL Ltd.\",\"2021 COMPANIES/Mid-Cap/UPL Ltd.\",\"2021 COMPANIES/Large-Cap/UPL Ltd.\",\"2021 COMPANIES/Small-Cap/Uflex Ltd.\",\"2021 COMPANIES/Mid-Cap/Uflex Ltd.\",\"2021 COMPANIES/Large-Cap/Uflex Ltd.\",\"2021 COMPANIES/Small-Cap/UltraTech Cement Ltd.\",\"2021 COMPANIES/Mid-Cap/UltraTech Cement Ltd.\",\"2021 COMPANIES/Large-Cap/UltraTech Cement Ltd.\",\"2021 COMPANIES/Small-Cap/Union Bank of India\",\"2021 COMPANIES/Mid-Cap/Union Bank of India\",\"2021 COMPANIES/Large-Cap/Union Bank of India\",\"2021 COMPANIES/Small-Cap/United Breweries Ltd.\",\"2021 COMPANIES/Mid-Cap/United Breweries Ltd.\",\"2021 COMPANIES/Large-Cap/United Breweries Ltd.\",\"2021 COMPANIES/Small-Cap/United Spirits Ltd.\",\"2021 COMPANIES/Mid-Cap/United Spirits Ltd.\",\"2021 COMPANIES/Large-Cap/United Spirits Ltd.\",\"2021 COMPANIES/Small-Cap/Usha Martin Ltd.\",\"2021 COMPANIES/Mid-Cap/Usha Martin Ltd.\",\"2021 COMPANIES/Large-Cap/Usha Martin Ltd.\",\"2021 COMPANIES/Small-Cap/V-Guard Industries Ltd.\",\"2021 COMPANIES/Mid-Cap/V-Guard Industries Ltd.\",\"2021 COMPANIES/Large-Cap/V-Guard Industries Ltd.\",\"2021 COMPANIES/Small-Cap/Va Tech Wabag Ltd.\",\"2021 COMPANIES/Mid-Cap/Va Tech Wabag Ltd.\",\"2021 COMPANIES/Large-Cap/Va Tech Wabag Ltd.\",\"2021 COMPANIES/Small-Cap/Vardhman Textiles Ltd.\",\"2021 COMPANIES/Mid-Cap/Vardhman Textiles Ltd.\",\"2021 COMPANIES/Large-Cap/Vardhman Textiles Ltd.\",\"2021 COMPANIES/Small-Cap/Varun Beverages Ltd.\",\"2021 COMPANIES/Mid-Cap/Varun Beverages Ltd.\",\"2021 COMPANIES/Large-Cap/Varun Beverages Ltd.\",\"2021 COMPANIES/Small-Cap/Vedanta Ltd.\",\"2021 COMPANIES/Mid-Cap/Vedanta Ltd.\",\"2021 COMPANIES/Large-Cap/Vedanta Ltd.\",\"2021 COMPANIES/Small-Cap/Venky's (India) Ltd.\",\"2021 COMPANIES/Mid-Cap/Venky's (India) Ltd.\",\"2021 COMPANIES/Large-Cap/Venky's (India) Ltd.\",\"2021 COMPANIES/Small-Cap/Vodafone Idea Ltd.\",\"2021 COMPANIES/Mid-Cap/Vodafone Idea Ltd.\",\"2021 COMPANIES/Large-Cap/Vodafone Idea Ltd.\",\"2021 COMPANIES/Small-Cap/Voltas Ltd.\",\"2021 COMPANIES/Mid-Cap/Voltas Ltd.\",\"2021 COMPANIES/Large-Cap/Voltas Ltd.\",\"2021 COMPANIES/Small-Cap/Welspun Corp Ltd.\",\"2021 COMPANIES/Mid-Cap/Welspun Corp Ltd.\",\"2021 COMPANIES/Large-Cap/Welspun Corp Ltd.\",\"2021 COMPANIES/Small-Cap/Welspun India Ltd.\",\"2021 COMPANIES/Mid-Cap/Welspun India Ltd.\",\"2021 COMPANIES/Large-Cap/Welspun India Ltd.\",\"2021 COMPANIES/Small-Cap/Wheels India Ltd.\",\"2021 COMPANIES/Mid-Cap/Wheels India Ltd.\",\"2021 COMPANIES/Large-Cap/Wheels India Ltd.\",\"2021 COMPANIES/Small-Cap/Whirlpool of India Ltd.\",\"2021 COMPANIES/Mid-Cap/Whirlpool of India Ltd.\",\"2021 COMPANIES/Large-Cap/Whirlpool of India Ltd.\",\"2021 COMPANIES/Small-Cap/Wipro Ltd.\",\"2021 COMPANIES/Mid-Cap/Wipro Ltd.\",\"2021 COMPANIES/Large-Cap/Wipro Ltd.\",\"2021 COMPANIES/Small-Cap/Wockhardt Ltd.\",\"2021 COMPANIES/Mid-Cap/Wockhardt Ltd.\",\"2021 COMPANIES/Large-Cap/Wockhardt Ltd.\",\"2021 COMPANIES/Small-Cap/YES Bank Ltd.\",\"2021 COMPANIES/Mid-Cap/YES Bank Ltd.\",\"2021 COMPANIES/Large-Cap/YES Bank Ltd.\",\"2021 COMPANIES/Small-Cap/Zee Entertainment Enterprises Ltd.\",\"2021 COMPANIES/Mid-Cap/Zee Entertainment Enterprises Ltd.\",\"2021 COMPANIES/Large-Cap/Zee Entertainment Enterprises Ltd.\",\"2021 COMPANIES/Small-Cap/Zensar Technologies Ltd.\",\"2021 COMPANIES/Mid-Cap/Zensar Technologies Ltd.\",\"2021 COMPANIES/Large-Cap/Zensar Technologies Ltd.\",\"2021 COMPANIES/Small-Cap/Zuari Agro Chemicals Ltd.\",\"2021 COMPANIES/Mid-Cap/Zuari Agro Chemicals Ltd.\",\"2021 COMPANIES/Large-Cap/Zuari Agro Chemicals Ltd.\",\"2021 COMPANIES/Small-Cap\",\"2021 COMPANIES/Mid-Cap\",\"2021 COMPANIES/Large-Cap\",\"2021 COMPANIES\"],\"labels\":[\"3M India Ltd.\",\"Bank of Baroda\",\"Bank of India\",\"Bank of Maharashtra\",\"Bank of Maharashtra\",\"Bayer Cropscience Ltd.\",\"Berger Paints (India) Ltd.\",\"Berger Paints (India) Ltd.\",\"Bharat Dynamics Ltd.\",\"Bharat Dynamics Ltd.\",\"Bharat Heavy Electricals Ltd.\",\"Bharat Petroleum Corporation Ltd.\",\"Bharti Airtel Ltd.\",\"Biocon Ltd.\",\"Biocon Ltd.\",\"Birla Corporation Ltd.\",\"Birlasoft Ltd.\",\"Blue Dart Express Ltd.\",\"Blue Dart Express Ltd.\",\"Blue Star Ltd.\",\"Blue Star Ltd.\",\"Bombay Burmah Trading Corporation Ltd.\",\"Bank of Baroda\",\"Bosch Ltd.\",\"Bandhan Bank Ltd.\",\"Balrampur Chini Mills Ltd.\",\"Aurobindo Pharma Ltd.\",\"Aurobindo Pharma Ltd.\",\"Avanti Feeds Ltd.\",\"Avanti Feeds Ltd.\",\"Avenue Supermarts Ltd.\",\"Avenue Supermarts Ltd.\",\"Avenue Supermarts Ltd.\",\"Axis Bank Ltd.\",\"Axis Bank Ltd.\",\"BASF India Ltd.\",\"BASF India Ltd.\",\"BEML Ltd.\",\"Bajaj Auto Ltd.\",\"Bajaj Auto Ltd.\",\"Bajaj Electricals Ltd.\",\"Bajaj Finance Ltd.\",\"Bajaj Finserv Ltd.\",\"Bajaj Finserv Ltd.\",\"Bajaj Hindusthan Sugar Ltd.\",\"Bajaj Hindusthan Sugar Ltd.\",\"Bajaj Hindusthan Sugar Ltd.\",\"Bandhan Bank Ltd.\",\"Aurobindo Pharma Ltd.\",\"Bosch Ltd.\",\"Britannia Industries Ltd.\",\"Container Corporation of India Ltd.\",\"Coromandel International Ltd.\",\"Crompton Greaves Consumer Electricals Ltd.\",\"Crompton Greaves Consumer Electricals Ltd.\",\"Cummins India Ltd.\",\"Cummins India Ltd.\",\"Cyient Ltd.\",\"Cyient Ltd.\",\"Deepak Fertilisers & Petrochemicals Corporation Ltd.\",\"Dish TV India Ltd.\",\"EID Parry (India) Ltd.\",\"EID Parry (India) Ltd.\",\"EPL Ltd.\",\"Electrosteel Castings Ltd.\",\"Electrotherm (India) Ltd.\",\"Emami Ltd.\",\"Federal Bank Ltd.\",\"Finolex Cables Ltd.\",\"Forbes & Company Ltd.\",\"Future Lifestyle Fashions Ltd.\",\"Gayatri Projects Ltd.\",\"Container Corporation of India Ltd.\",\"Brightcom Group Ltd.\",\"Colgate-Palmolive (India) Ltd.\",\"Cochin Shipyard Ltd.\",\"Britannia Industries Ltd.\",\"CESC Ltd.\",\"CG Power and Industrial Solutions Ltd.\",\"Cadila Healthcare Ltd.\",\"Cadila Healthcare Ltd.\",\"Cadila Healthcare Ltd.\",\"Canara Bank\",\"Castrol India Ltd.\",\"Central Bank of India\",\"Central Bank of India\",\"Century Plyboards (India) Ltd.\",\"Century Textiles & Industries Ltd.\",\"Chambal Fertilisers & Chemicals Ltd.\",\"Chambal Fertilisers & Chemicals Ltd.\",\"Cholamandalam Financial Holdings Ltd.\",\"Cholamandalam Investment & Finance Company Ltd.\",\"Cholamandalam Investment & Finance Company Ltd.\",\"Cholamandalam Investment & Finance Company Ltd.\",\"Cipla Ltd.\",\"City Union Bank Ltd.\",\"Cochin Shipyard Ltd.\",\"Coforge Ltd.\",\"Au Small Finance Bank Ltd.\",\"Brightcom Group Ltd.\",\"Atul Ltd.\",\"Adani Transmission Ltd.\",\"Aditya Birla Capital Ltd.\",\"Aditya Birla Capital Ltd.\",\"Aditya Birla Capital Ltd.\",\"Aditya Birla Fashion and Retail Ltd.\",\"Aditya Birla Fashion and Retail Ltd.\",\"Aditya Birla Fashion and Retail Ltd.\",\"Aegis Logistics Ltd.\",\"Aegis Logistics Ltd.\",\"Akzo Nobel India Ltd.\",\"Akzo Nobel India Ltd.\",\"Akzo Nobel India Ltd.\",\"Alembic Pharmaceuticals Ltd.\",\"Alembic Pharmaceuticals Ltd.\",\"Alembic Pharmaceuticals Ltd.\",\"Alkem Laboratories Ltd.\",\"Alkem Laboratories Ltd.\",\"Alkem Laboratories Ltd.\",\"Allcargo Logistics Ltd.\",\"Allcargo Logistics Ltd.\",\"Allcargo Logistics Ltd.\",\"Alok Industries Ltd.\",\"Alok Industries Ltd.\",\"Alok Industries Ltd.\",\"Amara Raja Batteries Ltd.\",\"Amara Raja Batteries Ltd.\",\"Amber Enterprises India Ltd.\",\"Adani Transmission Ltd.\",\"Amber Enterprises India Ltd.\",\"Adani Transmission Ltd.\",\"Adani Power Ltd.\",\"3M India Ltd.\",\"3M India Ltd.\",\"ABB India Ltd.\",\"ABB India Ltd.\",\"ABB India Ltd.\",\"ACC Ltd.\",\"ACC Ltd.\",\"ACC Ltd.\",\"AIA Engineering Ltd.\",\"AIA Engineering Ltd.\",\"AIA Engineering Ltd.\",\"APL Apollo Tubes Ltd.\",\"APL Apollo Tubes Ltd.\",\"APL Apollo Tubes Ltd.\",\"Aarti Industries Ltd.\",\"Aarti Industries Ltd.\",\"Aarti Industries Ltd.\",\"Abbott India Ltd.\",\"Abbott India Ltd.\",\"Abbott India Ltd.\",\"Adani Enterprises Ltd.\",\"Adani Enterprises Ltd.\",\"Adani Enterprises Ltd.\",\"Adani Ports & Special Economic Zone Ltd.\",\"Adani Ports & Special Economic Zone Ltd.\",\"Adani Ports & Special Economic Zone Ltd.\",\"Au Small Finance Bank Ltd.\",\"Adani Power Ltd.\",\"Ambuja Cements Ltd.\",\"Adani Power Ltd.\",\"Ashok Leyland Ltd.\",\"Apollo Hospitals Enterprise Ltd.\",\"Apar Industries Ltd.\",\"Ambuja Cements Ltd.\",\"Astral Ltd.\",\"Astral Ltd.\",\"Apollo Hospitals Enterprise Ltd.\",\"Arvind Ltd.\",\"Arvind Ltd.\",\"Atul Ltd.\",\"Apar Industries Ltd.\",\"Ashoka Buildcon Ltd.\",\"Ambuja Cements Ltd.\",\"Apollo Tyres Ltd.\",\"Ashoka Buildcon Ltd.\",\"Atul Ltd.\",\"Arvind Ltd.\",\"Aster DM Healthcare Ltd.\",\"Ashok Leyland Ltd.\",\"Apollo Tyres Ltd.\",\"Ashoka Buildcon Ltd.\",\"Ashok Leyland Ltd.\",\"Asian Paints Ltd.\",\"Apollo Hospitals Enterprise Ltd.\",\"Dish TV India Ltd.\",\"Dhampur Sugar Mills Ltd.\",\"Divi's Laboratories Ltd.\",\"Axis Bank Ltd.\",\"Dilip Buildcon Ltd.\",\"Dhampur Sugar Mills Ltd.\",\"Dilip Buildcon Ltd.\",\"Dabur India Ltd.\",\"Dabur India Ltd.\",\"DCB Bank Ltd.\",\"DCM Shriram Ltd.\",\"Cochin Shipyard Ltd.\",\"Coforge Ltd.\",\"Coforge Ltd.\",\"Bajaj Electricals Ltd.\",\"Coromandel International Ltd.\",\"Coromandel International Ltd.\",\"Bajaj Auto Ltd.\",\"DLF Ltd.\",\"BEML Ltd.\",\"BEML Ltd.\",\"Cummins India Ltd.\",\"Cyient Ltd.\",\"BASF India Ltd.\",\"Divi's Laboratories Ltd.\",\"DCB Bank Ltd.\",\"DCM Shriram Ltd.\",\"Crompton Greaves Consumer Electricals Ltd.\",\"Dixon Technologies (India) Ltd.\",\"Bharat Electronics Ltd.\",\"Asian Paints Ltd.\",\"Force Motors Ltd.\",\"Force Motors Ltd.\",\"Force Motors Ltd.\",\"Fortis Healthcare Ltd.\",\"Fortis Healthcare Ltd.\",\"Future Lifestyle Fashions Ltd.\",\"GAIL (India) Ltd.\",\"Firstsource Solutions Ltd.\",\"GE T&D India Ltd.\",\"GHCL Ltd.\",\"Galaxy Surfactants Ltd.\",\"Au Small Finance Bank Ltd.\",\"Gayatri Projects Ltd.\",\"General Insurance Corporation of India\",\"General Insurance Corporation of India\",\"GlaxoSmithKline Pharmaceuticals Ltd.\",\"GHCL Ltd.\",\"Dixon Technologies (India) Ltd.\",\"Firstsource Solutions Ltd.\",\"Finolex Cables Ltd.\",\"EPL Ltd.\",\"Bajaj Electricals Ltd.\",\"Edelweiss Financial Services Ltd.\",\"Eicher Motors Ltd.\",\"Electrosteel Castings Ltd.\",\"Aster DM Healthcare Ltd.\",\"Avanti Feeds Ltd.\",\"Finolex Industries Ltd.\",\"Emami Ltd.\",\"Endurance Technologies Ltd.\",\"Endurance Technologies Ltd.\",\"Endurance Technologies Ltd.\",\"Escorts Ltd.\",\"Exide Industries Ltd.\",\"Astral Ltd.\",\"Federal Bank Ltd.\",\"Emami Ltd.\",\"Edelweiss Financial Services Ltd.\",\"Godfrey Phillips India Ltd.\",\"Coal India Ltd.\",\"Central Bank of India\",\"Bharat Dynamics Ltd.\",\"Ceat Ltd.\",\"Bharat Heavy Electricals Ltd.\",\"Castrol India Ltd.\",\"Aegis Logistics Ltd.\",\"Bayer Cropscience Ltd.\",\"Carborundum Universal Ltd.\",\"Carborundum Universal Ltd.\",\"Canara Bank\",\"Amber Enterprises India Ltd.\",\"Balrampur Chini Mills Ltd.\",\"Bandhan Bank Ltd.\",\"Bank of Baroda\",\"Amara Raja Batteries Ltd.\",\"Birla Corporation Ltd.\",\"Coal India Ltd.\",\"Bank of India\",\"Bayer Cropscience Ltd.\",\"Brightcom Group Ltd.\",\"Bosch Ltd.\",\"Bank of India\",\"Bank of Maharashtra\",\"Bombay Burmah Trading Corporation Ltd.\",\"Bombay Burmah Trading Corporation Ltd.\",\"Blue Star Ltd.\",\"Apar Industries Ltd.\",\"Bharat Forge Ltd.\",\"Balkrishna Industries Ltd.\",\"Carborundum Universal Ltd.\",\"Blue Dart Express Ltd.\",\"Asahi India Glass Ltd.\",\"Bajaj Finserv Ltd.\",\"Cholamandalam Financial Holdings Ltd.\",\"Bharat Forge Ltd.\",\"Asahi India Glass Ltd.\",\"Chennai Petroleum Corporation Ltd.\",\"Cholamandalam Financial Holdings Ltd.\",\"Bajaj Finance Ltd.\",\"Chambal Fertilisers & Chemicals Ltd.\",\"Century Textiles & Industries Ltd.\",\"Bharat Electronics Ltd.\",\"Coal India Ltd.\",\"Century Plyboards (India) Ltd.\",\"Balkrishna Industries Ltd.\",\"Century Plyboards (India) Ltd.\",\"City Union Bank Ltd.\",\"City Union Bank Ltd.\",\"Balkrishna Industries Ltd.\",\"Birlasoft Ltd.\",\"Finolex Industries Ltd.\",\"Forbes & Company Ltd.\",\"GlaxoSmithKline Pharmaceuticals Ltd.\",\"Forbes & Company Ltd.\",\"Birla Corporation Ltd.\",\"Glenmark Pharmaceuticals Ltd.\",\"Glenmark Pharmaceuticals Ltd.\",\"Glenmark Pharmaceuticals Ltd.\",\"Godawari Power & Ispat Ltd.\",\"Godawari Power & Ispat Ltd.\",\"Birlasoft Ltd.\",\"Finolex Industries Ltd.\",\"Firstsource Solutions Ltd.\",\"Bharat Electronics Ltd.\",\"Biocon Ltd.\",\"Gayatri Projects Ltd.\",\"Fortis Healthcare Ltd.\",\"Galaxy Surfactants Ltd.\",\"Galaxy Surfactants Ltd.\",\"GMR Infrastructure Ltd.\",\"GMR Infrastructure Ltd.\",\"GMR Infrastructure Ltd.\",\"GHCL Ltd.\",\"General Insurance Corporation of India\",\"Bharat Heavy Electricals Ltd.\",\"GE T&D India Ltd.\",\"Bharat Forge Ltd.\",\"GE T&D India Ltd.\",\"GlaxoSmithKline Pharmaceuticals Ltd.\",\"GAIL (India) Ltd.\",\"Bharat Petroleum Corporation Ltd.\",\"GAIL (India) Ltd.\",\"Future Retail Ltd.\",\"Future Retail Ltd.\",\"Future Retail Ltd.\",\"Bharat Petroleum Corporation Ltd.\",\"Bharti Airtel Ltd.\",\"Bharti Airtel Ltd.\",\"Berger Paints (India) Ltd.\",\"Future Lifestyle Fashions Ltd.\",\"Electrotherm (India) Ltd.\",\"Federal Bank Ltd.\",\"Dilip Buildcon Ltd.\",\"Ceat Ltd.\",\"Dhampur Sugar Mills Ltd.\",\"Deepak Fertilisers & Petrochemicals Corporation Ltd.\",\"Ceat Ltd.\",\"Deepak Fertilisers & Petrochemicals Corporation Ltd.\",\"Balrampur Chini Mills Ltd.\",\"Dabur India Ltd.\",\"DLF Ltd.\",\"DLF Ltd.\",\"Castrol India Ltd.\",\"DCM Shriram Ltd.\",\"Asian Paints Ltd.\",\"Chennai Petroleum Corporation Ltd.\",\"Chennai Petroleum Corporation Ltd.\",\"Asahi India Glass Ltd.\",\"Container Corporation of India Ltd.\",\"Bajaj Finance Ltd.\",\"Cipla Ltd.\",\"Colgate-Palmolive (India) Ltd.\",\"Colgate-Palmolive (India) Ltd.\",\"Cipla Ltd.\",\"Century Textiles & Industries Ltd.\",\"Dish TV India Ltd.\",\"Divi's Laboratories Ltd.\",\"Dixon Technologies (India) Ltd.\",\"Exide Industries Ltd.\",\"Exide Industries Ltd.\",\"Escorts Ltd.\",\"Escorts Ltd.\",\"Godawari Power & Ispat Ltd.\",\"Electrotherm (India) Ltd.\",\"Britannia Industries Ltd.\",\"Electrosteel Castings Ltd.\",\"CESC Ltd.\",\"CESC Ltd.\",\"Eicher Motors Ltd.\",\"Eicher Motors Ltd.\",\"CG Power and Industrial Solutions Ltd.\",\"CG Power and Industrial Solutions Ltd.\",\"Edelweiss Financial Services Ltd.\",\"EPL Ltd.\",\"Apollo Tyres Ltd.\",\"Aster DM Healthcare Ltd.\",\"EID Parry (India) Ltd.\",\"Canara Bank\",\"Dr. Reddy's Laboratories Ltd.\",\"Dr. Reddy's Laboratories Ltd.\",\"Dr. Reddy's Laboratories Ltd.\",\"Finolex Cables Ltd.\",\"DCB Bank Ltd.\",\"Godfrey Phillips India Ltd.\",\"Godfrey Phillips India Ltd.\",\"Godrej Agrovet Ltd.\",\"Godrej Agrovet Ltd.\",\"Godrej Agrovet Ltd.\",\"Godrej Consumer Products Ltd.\",\"Godrej Consumer Products Ltd.\",\"Godrej Consumer Products Ltd.\",\"Godrej Industries Ltd.\",\"Godrej Industries Ltd.\",\"Godrej Industries Ltd.\",\"Gokul Agro Resources Ltd.\",\"Gokul Agro Resources Ltd.\",\"Gokul Agro Resources Ltd.\",\"Graphite India Ltd.\",\"Graphite India Ltd.\",\"Graphite India Ltd.\",\"Grasim Industries Ltd.\",\"Grasim Industries Ltd.\",\"Grasim Industries Ltd.\",\"Great Eastern Shipping Company Ltd.\",\"Great Eastern Shipping Company Ltd.\",\"Great Eastern Shipping Company Ltd.\",\"Gujarat Alkalies & Chemicals Ltd.\",\"Gujarat Alkalies & Chemicals Ltd.\",\"Gujarat Alkalies & Chemicals Ltd.\",\"Gujarat Ambuja Exports Ltd.\",\"Gujarat Ambuja Exports Ltd.\",\"Gujarat Ambuja Exports Ltd.\",\"Gujarat Gas Ltd.\",\"Gujarat Gas Ltd.\",\"Gujarat Gas Ltd.\",\"Gujarat Narmada Valley Fertilizers & Chemicals Ltd.\",\"Gujarat Narmada Valley Fertilizers & Chemicals Ltd.\",\"Gujarat Narmada Valley Fertilizers & Chemicals Ltd.\",\"Gujarat State Fertilizer & Chemicals Ltd.\",\"Gujarat State Fertilizer & Chemicals Ltd.\",\"Gujarat State Fertilizer & Chemicals Ltd.\",\"Gujarat State Petronet Ltd.\",\"Gujarat State Petronet Ltd.\",\"Gujarat State Petronet Ltd.\",\"HCL Technologies Ltd.\",\"HCL Technologies Ltd.\",\"HCL Technologies Ltd.\",\"HDFC Bank Ltd.\",\"HDFC Bank Ltd.\",\"HDFC Bank Ltd.\",\"HDFC Life Insurance Company Ltd.\",\"HDFC Life Insurance Company Ltd.\",\"HDFC Life Insurance Company Ltd.\",\"HFCL Ltd.\",\"HFCL Ltd.\",\"HFCL Ltd.\",\"Hatsun Agro Products Ltd.\",\"Hatsun Agro Products Ltd.\",\"Hatsun Agro Products Ltd.\",\"Havells India Ltd.\",\"Havells India Ltd.\",\"Havells India Ltd.\",\"Heritage Foods Ltd.\",\"Heritage Foods Ltd.\",\"Heritage Foods Ltd.\",\"Hero MotoCorp Ltd.\",\"Hero MotoCorp Ltd.\",\"Hero MotoCorp Ltd.\",\"Himatsingka Seide Ltd.\",\"Himatsingka Seide Ltd.\",\"Himatsingka Seide Ltd.\",\"Hindalco Industries Ltd.\",\"Hindalco Industries Ltd.\",\"Hindalco Industries Ltd.\",\"Hinduja Global Solutions Ltd.\",\"Hinduja Global Solutions Ltd.\",\"Hinduja Global Solutions Ltd.\",\"Hindustan Aeronautics Ltd.\",\"Hindustan Aeronautics Ltd.\",\"Hindustan Aeronautics Ltd.\",\"Hindustan Construction Company Ltd.\",\"Hindustan Construction Company Ltd.\",\"Hindustan Construction Company Ltd.\",\"Hindustan Petroleum Corporation Ltd.\",\"Hindustan Petroleum Corporation Ltd.\",\"Hindustan Petroleum Corporation Ltd.\",\"Hindustan Unilever Ltd.\",\"Hindustan Unilever Ltd.\",\"Hindustan Unilever Ltd.\",\"Hindustan Zinc Ltd.\",\"Hindustan Zinc Ltd.\",\"Hindustan Zinc Ltd.\",\"Honeywell Automation India Ltd.\",\"Honeywell Automation India Ltd.\",\"Honeywell Automation India Ltd.\",\"Housing Development Finance Corporation Ltd.\",\"Housing Development Finance Corporation Ltd.\",\"Housing Development Finance Corporation Ltd.\",\"Housing and Urban Development Corporation Ltd.\",\"Housing and Urban Development Corporation Ltd.\",\"Housing and Urban Development Corporation Ltd.\",\"Huhtamaki India Ltd.\",\"Huhtamaki India Ltd.\",\"Huhtamaki India Ltd.\",\"ICICI Bank Ltd.\",\"ICICI Bank Ltd.\",\"ICICI Bank Ltd.\",\"ICICI Lombard General Insurance Company Ltd.\",\"ICICI Lombard General Insurance Company Ltd.\",\"ICICI Lombard General Insurance Company Ltd.\",\"ICICI Prudential Life Insurance Company Ltd.\",\"ICICI Prudential Life Insurance Company Ltd.\",\"ICICI Prudential Life Insurance Company Ltd.\",\"IDBI Bank Ltd.\",\"IDBI Bank Ltd.\",\"IDBI Bank Ltd.\",\"IDFC First Bank Ltd.\",\"IDFC First Bank Ltd.\",\"IDFC First Bank Ltd.\",\"IFB Industries Ltd.\",\"IFB Industries Ltd.\",\"IFB Industries Ltd.\",\"IFCI Ltd.\",\"IFCI Ltd.\",\"IFCI Ltd.\",\"IIFL Finance Ltd.\",\"IIFL Finance Ltd.\",\"IIFL Finance Ltd.\",\"IRB Infrastructure Developers Ltd.\",\"IRB Infrastructure Developers Ltd.\",\"IRB Infrastructure Developers Ltd.\",\"ISGEC Heavy Engineering Ltd.\",\"ISGEC Heavy Engineering Ltd.\",\"ISGEC Heavy Engineering Ltd.\",\"ITC Ltd.\",\"ITC Ltd.\",\"ITC Ltd.\",\"ITD Cementation India Ltd.\",\"ITD Cementation India Ltd.\",\"ITD Cementation India Ltd.\",\"India Cements Ltd.\",\"India Cements Ltd.\",\"India Cements Ltd.\",\"India Glycols Ltd.\",\"India Glycols Ltd.\",\"India Glycols Ltd.\",\"Indiabulls Housing Finance Ltd.\",\"Indiabulls Housing Finance Ltd.\",\"Indiabulls Housing Finance Ltd.\",\"Indian Bank\",\"Indian Bank\",\"Indian Bank\",\"Indian Oil Corporation Ltd.\",\"Indian Oil Corporation Ltd.\",\"Indian Oil Corporation Ltd.\",\"Indian Overseas Bank\",\"Indian Overseas Bank\",\"Indian Overseas Bank\",\"Indraprastha Gas Ltd.\",\"Indraprastha Gas Ltd.\",\"Indraprastha Gas Ltd.\",\"Indus Towers Ltd.\",\"Indus Towers Ltd.\",\"Indus Towers Ltd.\",\"IndusInd Bank Ltd.\",\"IndusInd Bank Ltd.\",\"IndusInd Bank Ltd.\",\"Infosys Ltd.\",\"Infosys Ltd.\",\"Infosys Ltd.\",\"InterGlobe Aviation Ltd.\",\"InterGlobe Aviation Ltd.\",\"InterGlobe Aviation Ltd.\",\"Ipca Laboratories Ltd.\",\"Ipca Laboratories Ltd.\",\"Ipca Laboratories Ltd.\",\"J Kumar Infraprojects Ltd.\",\"J Kumar Infraprojects Ltd.\",\"J Kumar Infraprojects Ltd.\",\"JK Cement Ltd.\",\"JK Cement Ltd.\",\"JK Cement Ltd.\",\"JK Lakshmi Cement Ltd.\",\"JK Lakshmi Cement Ltd.\",\"JK Lakshmi Cement Ltd.\",\"JK Paper Ltd.\",\"JK Paper Ltd.\",\"JK Paper Ltd.\",\"JK Tyre & Industries Ltd.\",\"JK Tyre & Industries Ltd.\",\"JK Tyre & Industries Ltd.\",\"JM Financial Ltd.\",\"JM Financial Ltd.\",\"JM Financial Ltd.\",\"JMC Projects (India) Ltd.\",\"JMC Projects (India) Ltd.\",\"JMC Projects (India) Ltd.\",\"JSW Energy Ltd.\",\"JSW Energy Ltd.\",\"JSW Energy Ltd.\",\"JSW Steel Ltd.\",\"JSW Steel Ltd.\",\"JSW Steel Ltd.\",\"Jai Balaji Industries Ltd.\",\"Jai Balaji Industries Ltd.\",\"Jai Balaji Industries Ltd.\",\"Jain Irrigation Systems Ltd.\",\"Jain Irrigation Systems Ltd.\",\"Jain Irrigation Systems Ltd.\",\"Jaiprakash Associates Ltd.\",\"Jaiprakash Associates Ltd.\",\"Jaiprakash Associates Ltd.\",\"Jaiprakash Power Ventures Ltd.\",\"Jaiprakash Power Ventures Ltd.\",\"Jaiprakash Power Ventures Ltd.\",\"Jammu & Kashmir Bank Ltd.\",\"Jammu & Kashmir Bank Ltd.\",\"Jammu & Kashmir Bank Ltd.\",\"Jayaswal Neco Industries Ltd.\",\"Jayaswal Neco Industries Ltd.\",\"Jayaswal Neco Industries Ltd.\",\"Jindal Poly Films Ltd.\",\"Jindal Poly Films Ltd.\",\"Jindal Poly Films Ltd.\",\"Jindal Saw Ltd.\",\"Jindal Saw Ltd.\",\"Jindal Saw Ltd.\",\"Jindal Stainless (Hisar) Ltd.\",\"Jindal Stainless (Hisar) Ltd.\",\"Jindal Stainless (Hisar) Ltd.\",\"Jindal Stainless Ltd.\",\"Jindal Stainless Ltd.\",\"Jindal Stainless Ltd.\",\"Jindal Steel & Power Ltd.\",\"Jindal Steel & Power Ltd.\",\"Jindal Steel & Power Ltd.\",\"Jubilant Foodworks Ltd.\",\"Jubilant Foodworks Ltd.\",\"Jubilant Foodworks Ltd.\",\"Jubilant Pharmova Ltd.\",\"Jubilant Pharmova Ltd.\",\"Jubilant Pharmova Ltd.\",\"KEC International Ltd.\",\"KEC International Ltd.\",\"KEC International Ltd.\",\"KEI Industries Ltd.\",\"KEI Industries Ltd.\",\"KEI Industries Ltd.\",\"KNR Constructions Ltd.\",\"KNR Constructions Ltd.\",\"KNR Constructions Ltd.\",\"KPR Mill Ltd.\",\"KPR Mill Ltd.\",\"KPR Mill Ltd.\",\"KRBL Ltd.\",\"KRBL Ltd.\",\"KRBL Ltd.\",\"Kajaria Ceramics Ltd.\",\"Kajaria Ceramics Ltd.\",\"Kajaria Ceramics Ltd.\",\"Kalpataru Power Transmissions Ltd.\",\"Kalpataru Power Transmissions Ltd.\",\"Kalpataru Power Transmissions Ltd.\",\"Kama Holdings Ltd.\",\"Kama Holdings Ltd.\",\"Kama Holdings Ltd.\",\"Kansai Nerolac Paints Ltd.\",\"Kansai Nerolac Paints Ltd.\",\"Kansai Nerolac Paints Ltd.\",\"Karnataka Bank Ltd.\",\"Karnataka Bank Ltd.\",\"Karnataka Bank Ltd.\",\"Karur Vysya Bank Ltd.\",\"Karur Vysya Bank Ltd.\",\"Karur Vysya Bank Ltd.\",\"Kesoram Industries Ltd.\",\"Kesoram Industries Ltd.\",\"Kesoram Industries Ltd.\",\"Kirloskar Brothers Ltd.\",\"Kirloskar Brothers Ltd.\",\"Kirloskar Brothers Ltd.\",\"Kirloskar Oil Engines Ltd.\",\"Kirloskar Oil Engines Ltd.\",\"Kirloskar Oil Engines Ltd.\",\"Kotak Mahindra Bank Ltd.\",\"Kotak Mahindra Bank Ltd.\",\"Kotak Mahindra Bank Ltd.\",\"Kothari Products Ltd.\",\"Kothari Products Ltd.\",\"Kothari Products Ltd.\",\"L&T Finance Holdings Ltd.\",\"L&T Finance Holdings Ltd.\",\"L&T Finance Holdings Ltd.\",\"L&T Technology Services Ltd.\",\"L&T Technology Services Ltd.\",\"L&T Technology Services Ltd.\",\"LIC Housing Finance Ltd.\",\"LIC Housing Finance Ltd.\",\"LIC Housing Finance Ltd.\",\"LT Foods Ltd.\",\"LT Foods Ltd.\",\"LT Foods Ltd.\",\"Larsen & Toubro Infotech Ltd.\",\"Larsen & Toubro Infotech Ltd.\",\"Larsen & Toubro Infotech Ltd.\",\"Larsen & Toubro Ltd.\",\"Larsen & Toubro Ltd.\",\"Larsen & Toubro Ltd.\",\"Laurus Labs Ltd.\",\"Laurus Labs Ltd.\",\"Laurus Labs Ltd.\",\"Lupin Ltd.\",\"Lupin Ltd.\",\"Lupin Ltd.\",\"MMTC Ltd.\",\"MMTC Ltd.\",\"MMTC Ltd.\",\"MRF Ltd.\",\"MRF Ltd.\",\"MRF Ltd.\",\"Mahanagar Gas Ltd.\",\"Mahanagar Gas Ltd.\",\"Mahanagar Gas Ltd.\",\"Maharashtra Seamless Ltd.\",\"Maharashtra Seamless Ltd.\",\"Maharashtra Seamless Ltd.\",\"Mahindra & Mahindra Financial Services Ltd.\",\"Mahindra & Mahindra Financial Services Ltd.\",\"Mahindra & Mahindra Financial Services Ltd.\",\"Mahindra & Mahindra Ltd.\",\"Mahindra & Mahindra Ltd.\",\"Mahindra & Mahindra Ltd.\",\"Mahindra CIE Automotive Ltd.\",\"Mahindra CIE Automotive Ltd.\",\"Mahindra CIE Automotive Ltd.\",\"Mahindra Logistics Ltd.\",\"Mahindra Logistics Ltd.\",\"Mahindra Logistics Ltd.\",\"Manappuram Finance Ltd.\",\"Manappuram Finance Ltd.\",\"Manappuram Finance Ltd.\",\"Mangalore Chemicals & Fertilizers Ltd.\",\"Mangalore Chemicals & Fertilizers Ltd.\",\"Mangalore Chemicals & Fertilizers Ltd.\",\"Mangalore Refinery And Petrochemicals Ltd.\",\"Mangalore Refinery And Petrochemicals Ltd.\",\"Mangalore Refinery And Petrochemicals Ltd.\",\"Marico Ltd.\",\"Marico Ltd.\",\"Marico Ltd.\",\"Maruti Suzuki India Ltd.\",\"Maruti Suzuki India Ltd.\",\"Maruti Suzuki India Ltd.\",\"Max Financial Services Ltd.\",\"Max Financial Services Ltd.\",\"Max Financial Services Ltd.\",\"MindTree Ltd.\",\"MindTree Ltd.\",\"MindTree Ltd.\",\"Minda Corporation Ltd.\",\"Minda Corporation Ltd.\",\"Minda Corporation Ltd.\",\"Minda Industries Ltd.\",\"Minda Industries Ltd.\",\"Minda Industries Ltd.\",\"Motherson Sumi Systems Ltd.\",\"Motherson Sumi Systems Ltd.\",\"Motherson Sumi Systems Ltd.\",\"Motilal Oswal Financial Services Ltd.\",\"Motilal Oswal Financial Services Ltd.\",\"Motilal Oswal Financial Services Ltd.\",\"MphasiS Ltd.\",\"MphasiS Ltd.\",\"MphasiS Ltd.\",\"Mukand Ltd.\",\"Mukand Ltd.\",\"Mukand Ltd.\",\"Muthoot Finance Ltd.\",\"Muthoot Finance Ltd.\",\"Muthoot Finance Ltd.\",\"NBCC (India) Ltd.\",\"NBCC (India) Ltd.\",\"NBCC (India) Ltd.\",\"NCC Ltd.\",\"NCC Ltd.\",\"NCC Ltd.\",\"NHPC Ltd.\",\"NHPC Ltd.\",\"NHPC Ltd.\",\"NLC India Ltd.\",\"NLC India Ltd.\",\"NLC India Ltd.\",\"NMDC Ltd.\",\"NMDC Ltd.\",\"NMDC Ltd.\",\"NTPC Ltd.\",\"NTPC Ltd.\",\"NTPC Ltd.\",\"Narayana Hrudayalaya Ltd.\",\"Narayana Hrudayalaya Ltd.\",\"Narayana Hrudayalaya Ltd.\",\"National Aluminium Company Ltd.\",\"National Aluminium Company Ltd.\",\"National Aluminium Company Ltd.\",\"National Fertilizers Ltd.\",\"National Fertilizers Ltd.\",\"National Fertilizers Ltd.\",\"Nava Bharat Ventures Ltd.\",\"Nava Bharat Ventures Ltd.\",\"Nava Bharat Ventures Ltd.\",\"Nestle India Ltd.\",\"Nestle India Ltd.\",\"Nestle India Ltd.\",\"Nilkamal Ltd.\",\"Nilkamal Ltd.\",\"Nilkamal Ltd.\",\"Oil And Natural Gas Corporation Ltd.\",\"Oil And Natural Gas Corporation Ltd.\",\"Oil And Natural Gas Corporation Ltd.\",\"Oil India Ltd.\",\"Oil India Ltd.\",\"Oil India Ltd.\",\"Oracle Financial Services Software Ltd.\",\"Oracle Financial Services Software Ltd.\",\"Oracle Financial Services Software Ltd.\",\"Orient Cement Ltd.\",\"Orient Cement Ltd.\",\"Orient Cement Ltd.\",\"PC Jeweller Ltd.\",\"PC Jeweller Ltd.\",\"PC Jeweller Ltd.\",\"PDS Multinational Fashions Ltd.\",\"PDS Multinational Fashions Ltd.\",\"PDS Multinational Fashions Ltd.\",\"PI Industries Ltd.\",\"PI Industries Ltd.\",\"PI Industries Ltd.\",\"PNB Housing Finance Ltd.\",\"PNB Housing Finance Ltd.\",\"PNB Housing Finance Ltd.\",\"PNC Infratech Ltd.\",\"PNC Infratech Ltd.\",\"PNC Infratech Ltd.\",\"PTC India Ltd.\",\"PTC India Ltd.\",\"PTC India Ltd.\",\"Page Industries Ltd.\",\"Page Industries Ltd.\",\"Page Industries Ltd.\",\"Patel Engineering Ltd.\",\"Patel Engineering Ltd.\",\"Patel Engineering Ltd.\",\"Paul Merchants Ltd.\",\"Paul Merchants Ltd.\",\"Paul Merchants Ltd.\",\"Persistent Systems Ltd.\",\"Persistent Systems Ltd.\",\"Persistent Systems Ltd.\",\"Petronet LNG Ltd.\",\"Petronet LNG Ltd.\",\"Petronet LNG Ltd.\",\"Pfizer Ltd.\",\"Pfizer Ltd.\",\"Pfizer Ltd.\",\"Phillips Carbon Black Ltd.\",\"Phillips Carbon Black Ltd.\",\"Phillips Carbon Black Ltd.\",\"Pidilite Industries Ltd.\",\"Pidilite Industries Ltd.\",\"Pidilite Industries Ltd.\",\"Piramal Enterprises Ltd.\",\"Piramal Enterprises Ltd.\",\"Piramal Enterprises Ltd.\",\"Polyplex Corporation Ltd.\",\"Polyplex Corporation Ltd.\",\"Polyplex Corporation Ltd.\",\"Poonawalla Fincorp Ltd.\",\"Poonawalla Fincorp Ltd.\",\"Poonawalla Fincorp Ltd.\",\"Power Finance Corporation Ltd.\",\"Power Finance Corporation Ltd.\",\"Power Finance Corporation Ltd.\",\"Power Grid Corporation of India Ltd.\",\"Power Grid Corporation of India Ltd.\",\"Power Grid Corporation of India Ltd.\",\"Prakash Industries Ltd.\",\"Prakash Industries Ltd.\",\"Prakash Industries Ltd.\",\"Prestige Estates Projects Ltd.\",\"Prestige Estates Projects Ltd.\",\"Prestige Estates Projects Ltd.\",\"Prime Focus Ltd.\",\"Prime Focus Ltd.\",\"Prime Focus Ltd.\",\"Prism Johnson Ltd.\",\"Prism Johnson Ltd.\",\"Prism Johnson Ltd.\",\"Procter & Gamble Hygiene & Healthcare Ltd.\",\"Procter & Gamble Hygiene & Healthcare Ltd.\",\"Procter & Gamble Hygiene & Healthcare Ltd.\",\"Punjab & Sind Bank\",\"Punjab & Sind Bank\",\"Punjab & Sind Bank\",\"Punjab National Bank\",\"Punjab National Bank\",\"Punjab National Bank\",\"Quess Corp Ltd.\",\"Quess Corp Ltd.\",\"Quess Corp Ltd.\",\"RBL Bank Ltd.\",\"RBL Bank Ltd.\",\"RBL Bank Ltd.\",\"REC Ltd.\",\"REC Ltd.\",\"REC Ltd.\",\"RSWM Ltd.\",\"RSWM Ltd.\",\"RSWM Ltd.\",\"Rain Industries Ltd.\",\"Rain Industries Ltd.\",\"Rain Industries Ltd.\",\"Rajesh Exports Ltd.\",\"Rajesh Exports Ltd.\",\"Rajesh Exports Ltd.\",\"Rane Holdings Ltd.\",\"Rane Holdings Ltd.\",\"Rane Holdings Ltd.\",\"Rashtriya Chemicals & Fertilizers Ltd.\",\"Rashtriya Chemicals & Fertilizers Ltd.\",\"Rashtriya Chemicals & Fertilizers Ltd.\",\"Raymond Ltd.\",\"Raymond Ltd.\",\"Raymond Ltd.\",\"Redington (India) Ltd.\",\"Redington (India) Ltd.\",\"Redington (India) Ltd.\",\"Reliance Capital Ltd.\",\"Reliance Capital Ltd.\",\"Reliance Capital Ltd.\",\"Reliance Industries Ltd.\",\"Reliance Industries Ltd.\",\"Reliance Industries Ltd.\",\"Reliance Infrastructure Ltd.\",\"Reliance Infrastructure Ltd.\",\"Reliance Infrastructure Ltd.\",\"Reliance Power Ltd.\",\"Reliance Power Ltd.\",\"Reliance Power Ltd.\",\"Religare Enterprises Ltd.\",\"Religare Enterprises Ltd.\",\"Religare Enterprises Ltd.\",\"SBI Life Insurance Company Ltd.\",\"SBI Life Insurance Company Ltd.\",\"SBI Life Insurance Company Ltd.\",\"SIS Ltd.\",\"SIS Ltd.\",\"SIS Ltd.\",\"SJVN Ltd.\",\"SJVN Ltd.\",\"SJVN Ltd.\",\"SKF India Ltd.\",\"SKF India Ltd.\",\"SKF India Ltd.\",\"SREI Infrastructure Finance Ltd.\",\"SREI Infrastructure Finance Ltd.\",\"SREI Infrastructure Finance Ltd.\",\"SRF Ltd.\",\"SRF Ltd.\",\"SRF Ltd.\",\"Sadbhav Engineering Ltd.\",\"Sadbhav Engineering Ltd.\",\"Sadbhav Engineering Ltd.\",\"Sanofi India Ltd.\",\"Sanofi India Ltd.\",\"Sanofi India Ltd.\",\"Shankara Building Products Ltd.\",\"Shankara Building Products Ltd.\",\"Shankara Building Products Ltd.\",\"Shipping Corporation of India Ltd.\",\"Shipping Corporation of India Ltd.\",\"Shipping Corporation of India Ltd.\",\"Shree Cements Ltd.\",\"Shree Cements Ltd.\",\"Shree Cements Ltd.\",\"Shree Renuka Sugars Ltd.\",\"Shree Renuka Sugars Ltd.\",\"Shree Renuka Sugars Ltd.\",\"Shriram City Union Finance Ltd.\",\"Shriram City Union Finance Ltd.\",\"Shriram City Union Finance Ltd.\",\"Shriram Transport Finance Company Ltd.\",\"Shriram Transport Finance Company Ltd.\",\"Shriram Transport Finance Company Ltd.\",\"Siemens Ltd.\",\"Siemens Ltd.\",\"Siemens Ltd.\",\"Simplex Infrastructures Ltd.\",\"Simplex Infrastructures Ltd.\",\"Simplex Infrastructures Ltd.\",\"Sobha Ltd.\",\"Sobha Ltd.\",\"Sobha Ltd.\",\"Sonata Software Ltd.\",\"Sonata Software Ltd.\",\"Sonata Software Ltd.\",\"South Indian Bank Ltd.\",\"South Indian Bank Ltd.\",\"South Indian Bank Ltd.\",\"Spicejet Ltd.\",\"Spicejet Ltd.\",\"Spicejet Ltd.\",\"State Bank of India\",\"State Bank of India\",\"State Bank of India\",\"Steel Authority of India (SAIL) Ltd.\",\"Steel Authority of India (SAIL) Ltd.\",\"Steel Authority of India (SAIL) Ltd.\",\"Sterlite Technologies Ltd.\",\"Sterlite Technologies Ltd.\",\"Sterlite Technologies Ltd.\",\"Strides Pharma Science Ltd.\",\"Strides Pharma Science Ltd.\",\"Strides Pharma Science Ltd.\",\"Sun Pharmaceutical Industries Ltd.\",\"Sun Pharmaceutical Industries Ltd.\",\"Sun Pharmaceutical Industries Ltd.\",\"Sun TV Network Ltd.\",\"Sun TV Network Ltd.\",\"Sun TV Network Ltd.\",\"Sundaram Clayton Ltd.\",\"Sundaram Clayton Ltd.\",\"Sundaram Clayton Ltd.\",\"Sundaram Finance Ltd.\",\"Sundaram Finance Ltd.\",\"Sundaram Finance Ltd.\",\"Sundram Fasteners Ltd.\",\"Sundram Fasteners Ltd.\",\"Sundram Fasteners Ltd.\",\"Supreme Industries Ltd.\",\"Supreme Industries Ltd.\",\"Supreme Industries Ltd.\",\"Supreme Petrochem Ltd.\",\"Supreme Petrochem Ltd.\",\"Supreme Petrochem Ltd.\",\"Surya Roshni Ltd.\",\"Surya Roshni Ltd.\",\"Surya Roshni Ltd.\",\"Suzlon Energy Ltd.\",\"Suzlon Energy Ltd.\",\"Suzlon Energy Ltd.\",\"TVS Motor Company Ltd.\",\"TVS Motor Company Ltd.\",\"TVS Motor Company Ltd.\",\"Tamil Nadu Newsprint And Papers Ltd.\",\"Tamil Nadu Newsprint And Papers Ltd.\",\"Tamil Nadu Newsprint And Papers Ltd.\",\"Tata Chemicals Ltd.\",\"Tata Chemicals Ltd.\",\"Tata Chemicals Ltd.\",\"Tata Communications Ltd.\",\"Tata Communications Ltd.\",\"Tata Communications Ltd.\",\"Tata Consultancy Services Ltd.\",\"Tata Consultancy Services Ltd.\",\"Tata Consultancy Services Ltd.\",\"Tata Consumer Products Ltd.\",\"Tata Consumer Products Ltd.\",\"Tata Consumer Products Ltd.\",\"Tata Motors Ltd.\",\"Tata Motors Ltd.\",\"Tata Motors Ltd.\",\"Tata Power Company Ltd.\",\"Tata Power Company Ltd.\",\"Tata Power Company Ltd.\",\"Tata Steel BSL Ltd.\",\"Tata Steel BSL Ltd.\",\"Tata Steel BSL Ltd.\",\"Tata Steel Ltd.\",\"Tata Steel Ltd.\",\"Tata Steel Ltd.\",\"TeamLease Services Ltd.\",\"TeamLease Services Ltd.\",\"TeamLease Services Ltd.\",\"Tech Mahindra Ltd.\",\"Tech Mahindra Ltd.\",\"Tech Mahindra Ltd.\",\"The Fertilisers and Chemicals Travancore Ltd.\",\"The Fertilisers and Chemicals Travancore Ltd.\",\"The Fertilisers and Chemicals Travancore Ltd.\",\"The New India Assurance Company Ltd.\",\"The New India Assurance Company Ltd.\",\"The New India Assurance Company Ltd.\",\"The Ramco Cements Ltd.\",\"The Ramco Cements Ltd.\",\"The Ramco Cements Ltd.\",\"Thermax Ltd.\",\"Thermax Ltd.\",\"Thermax Ltd.\",\"Time Technoplast Ltd.\",\"Time Technoplast Ltd.\",\"Time Technoplast Ltd.\",\"Titan Company Ltd.\",\"Titan Company Ltd.\",\"Titan Company Ltd.\",\"Torrent Pharmaceuticals Ltd.\",\"Torrent Pharmaceuticals Ltd.\",\"Torrent Pharmaceuticals Ltd.\",\"Torrent Power Ltd.\",\"Torrent Power Ltd.\",\"Torrent Power Ltd.\",\"Transport Corporation of India Ltd.\",\"Transport Corporation of India Ltd.\",\"Transport Corporation of India Ltd.\",\"Trent Ltd.\",\"Trent Ltd.\",\"Trent Ltd.\",\"Trident Ltd.\",\"Trident Ltd.\",\"Trident Ltd.\",\"Triveni Engineering & Industries Ltd.\",\"Triveni Engineering & Industries Ltd.\",\"Triveni Engineering & Industries Ltd.\",\"Tube Investments of India Ltd.\",\"Tube Investments of India Ltd.\",\"Tube Investments of India Ltd.\",\"UCO Bank\",\"UCO Bank\",\"UCO Bank\",\"UPL Ltd.\",\"UPL Ltd.\",\"UPL Ltd.\",\"Uflex Ltd.\",\"Uflex Ltd.\",\"Uflex Ltd.\",\"UltraTech Cement Ltd.\",\"UltraTech Cement Ltd.\",\"UltraTech Cement Ltd.\",\"Union Bank of India\",\"Union Bank of India\",\"Union Bank of India\",\"United Breweries Ltd.\",\"United Breweries Ltd.\",\"United Breweries Ltd.\",\"United Spirits Ltd.\",\"United Spirits Ltd.\",\"United Spirits Ltd.\",\"Usha Martin Ltd.\",\"Usha Martin Ltd.\",\"Usha Martin Ltd.\",\"V-Guard Industries Ltd.\",\"V-Guard Industries Ltd.\",\"V-Guard Industries Ltd.\",\"Va Tech Wabag Ltd.\",\"Va Tech Wabag Ltd.\",\"Va Tech Wabag Ltd.\",\"Vardhman Textiles Ltd.\",\"Vardhman Textiles Ltd.\",\"Vardhman Textiles Ltd.\",\"Varun Beverages Ltd.\",\"Varun Beverages Ltd.\",\"Varun Beverages Ltd.\",\"Vedanta Ltd.\",\"Vedanta Ltd.\",\"Vedanta Ltd.\",\"Venky's (India) Ltd.\",\"Venky's (India) Ltd.\",\"Venky's (India) Ltd.\",\"Vodafone Idea Ltd.\",\"Vodafone Idea Ltd.\",\"Vodafone Idea Ltd.\",\"Voltas Ltd.\",\"Voltas Ltd.\",\"Voltas Ltd.\",\"Welspun Corp Ltd.\",\"Welspun Corp Ltd.\",\"Welspun Corp Ltd.\",\"Welspun India Ltd.\",\"Welspun India Ltd.\",\"Welspun India Ltd.\",\"Wheels India Ltd.\",\"Wheels India Ltd.\",\"Wheels India Ltd.\",\"Whirlpool of India Ltd.\",\"Whirlpool of India Ltd.\",\"Whirlpool of India Ltd.\",\"Wipro Ltd.\",\"Wipro Ltd.\",\"Wipro Ltd.\",\"Wockhardt Ltd.\",\"Wockhardt Ltd.\",\"Wockhardt Ltd.\",\"YES Bank Ltd.\",\"YES Bank Ltd.\",\"YES Bank Ltd.\",\"Zee Entertainment Enterprises Ltd.\",\"Zee Entertainment Enterprises Ltd.\",\"Zee Entertainment Enterprises Ltd.\",\"Zensar Technologies Ltd.\",\"Zensar Technologies Ltd.\",\"Zensar Technologies Ltd.\",\"Zuari Agro Chemicals Ltd.\",\"Zuari Agro Chemicals Ltd.\",\"Zuari Agro Chemicals Ltd.\",\"Small-Cap\",\"Mid-Cap\",\"Large-Cap\",\"2021 COMPANIES\"],\"marker\":{\"colors\":[\"#636efa\",\"#EF553B\",\"#636efa\",\"#00cc96\",\"#636efa\",\"#636efa\",\"#636efa\",\"#636efa\",\"#00cc96\",\"#636efa\",\"#636efa\",\"#636efa\",\"#EF553B\",\"#636efa\",\"#EF553B\",\"#00cc96\",\"#636efa\",\"#00cc96\",\"#636efa\",\"#00cc96\",\"#636efa\",\"#636efa\",\"#636efa\",\"#636efa\",\"#636efa\",\"#636efa\",\"#636efa\",\"#EF553B\",\"#636efa\",\"#00cc96\",\"#636efa\",\"#636efa\",\"#EF553B\",\"#636efa\",\"#636efa\",\"#00cc96\",\"#636efa\",\"#636efa\",\"#636efa\",\"#EF553B\",\"#00cc96\",\"#636efa\",\"#636efa\",\"#EF553B\",\"#ab63fa\",\"#636efa\",\"#636efa\",\"#636efa\",\"#636efa\",\"#636efa\",\"#636efa\",\"#636efa\",\"#EF553B\",\"#636efa\",\"#EF553B\",\"#636efa\",\"#636efa\",\"#636efa\",\"#636efa\",\"#636efa\",\"#636efa\",\"#636efa\",\"#636efa\",\"#636efa\",\"#636efa\",\"#636efa\",\"#636efa\",\"#636efa\",\"#00cc96\",\"#636efa\",\"#ab63fa\",\"#ab63fa\",\"#636efa\",\"#636efa\",\"#636efa\",\"#636efa\",\"#EF553B\",\"#636efa\",\"#EF553B\",\"#636efa\",\"#636efa\",\"#EF553B\",\"#636efa\",\"#00cc96\",\"#00cc96\",\"#636efa\",\"#00cc96\",\"#00cc96\",\"#00cc96\",\"#636efa\",\"#636efa\",\"#636efa\",\"#636efa\",\"#EF553B\",\"#636efa\",\"#636efa\",\"#ab63fa\",\"#636efa\",\"#636efa\",\"#00cc96\",\"#EF553B\",\"#EF553B\",\"#636efa\",\"#636efa\",\"#EF553B\",\"#636efa\",\"#636efa\",\"#EF553B\",\"#00cc96\",\"#636efa\",\"#636efa\",\"#00cc96\",\"#636efa\",\"#636efa\",\"#00cc96\",\"#636efa\",\"#636efa\",\"#636efa\",\"#EF553B\",\"#636efa\",\"#00cc96\",\"#636efa\",\"#636efa\",\"#00cc96\",\"#636efa\",\"#636efa\",\"#636efa\",\"#636efa\",\"#636efa\",\"#636efa\",\"#636efa\",\"#636efa\",\"#636efa\",\"#EF553B\",\"#636efa\",\"#636efa\",\"#EF553B\",\"#636efa\",\"#636efa\",\"#EF553B\",\"#636efa\",\"#00cc96\",\"#636efa\",\"#636efa\",\"#636efa\",\"#EF553B\",\"#636efa\",\"#636efa\",\"#EF553B\",\"#636efa\",\"#636efa\",\"#EF553B\",\"#636efa\",\"#636efa\",\"#EF553B\",\"#636efa\",\"#636efa\",\"#EF553B\",\"#636efa\",\"#EF553B\",\"#636efa\",\"#636efa\",\"#636efa\",\"#636efa\",\"#636efa\",\"#636efa\",\"#636efa\",\"#EF553B\",\"#EF553B\",\"#636efa\",\"#636efa\",\"#636efa\",\"#ab63fa\",\"#636efa\",\"#EF553B\",\"#636efa\",\"#636efa\",\"#636efa\",\"#ab63fa\",\"#00cc96\",\"#636efa\",\"#00cc96\",\"#ab63fa\",\"#EF553B\",\"#636efa\",\"#636efa\",\"#ab63fa\",\"#636efa\",\"#636efa\",\"#EF553B\",\"#636efa\",\"#ab63fa\",\"#00cc96\",\"#636efa\",\"#EF553B\",\"#ab63fa\",\"#00cc96\",\"#636efa\",\"#636efa\",\"#EF553B\",\"#636efa\",\"#636efa\",\"#636efa\",\"#636efa\",\"#636efa\",\"#636efa\",\"#00cc96\",\"#EF553B\",\"#00cc96\",\"#636efa\",\"#636efa\",\"#636efa\",\"#636efa\",\"#636efa\",\"#636efa\",\"#636efa\",\"#EF553B\",\"#ab63fa\",\"#636efa\",\"#636efa\",\"#636efa\",\"#EF553B\",\"#636efa\",\"#636efa\",\"#636efa\",\"#ab63fa\",\"#636efa\",\"#636efa\",\"#EF553B\",\"#636efa\",\"#636efa\",\"#EF553B\",\"#EF553B\",\"#ab63fa\",\"#EF553B\",\"#636efa\",\"#636efa\",\"#636efa\",\"#636efa\",\"#636efa\",\"#EF553B\",\"#ab63fa\",\"#636efa\",\"#636efa\",\"#00cc96\",\"#636efa\",\"#636efa\",\"#636efa\",\"#EF553B\",\"#636efa\",\"#636efa\",\"#636efa\",\"#636efa\",\"#EF553B\",\"#00cc96\",\"#636efa\",\"#636efa\",\"#636efa\",\"#636efa\",\"#636efa\",\"#636efa\",\"#636efa\",\"#636efa\",\"#636efa\",\"#00cc96\",\"#636efa\",\"#EF553B\",\"#00cc96\",\"#00cc96\",\"#EF553B\",\"#636efa\",\"#00cc96\",\"#636efa\",\"#EF553B\",\"#636efa\",\"#EF553B\",\"#636efa\",\"#EF553B\",\"#EF553B\",\"#636efa\",\"#00cc96\",\"#636efa\",\"#636efa\",\"#636efa\",\"#EF553B\",\"#EF553B\",\"#636efa\",\"#636efa\",\"#00cc96\",\"#636efa\",\"#00cc96\",\"#636efa\",\"#636efa\",\"#636efa\",\"#636efa\",\"#636efa\",\"#636efa\",\"#636efa\",\"#EF553B\",\"#636efa\",\"#636efa\",\"#636efa\",\"#636efa\",\"#00cc96\",\"#636efa\",\"#636efa\",\"#00cc96\",\"#636efa\",\"#636efa\",\"#636efa\",\"#00cc96\",\"#636efa\",\"#636efa\",\"#00cc96\",\"#636efa\",\"#ab63fa\",\"#636efa\",\"#636efa\",\"#636efa\",\"#00cc96\",\"#636efa\",\"#636efa\",\"#636efa\",\"#636efa\",\"#636efa\",\"#00cc96\",\"#EF553B\",\"#636efa\",\"#636efa\",\"#636efa\",\"#636efa\",\"#EF553B\",\"#636efa\",\"#636efa\",\"#636efa\",\"#636efa\",\"#EF553B\",\"#636efa\",\"#636efa\",\"#636efa\",\"#636efa\",\"#ab63fa\",\"#EF553B\",\"#636efa\",\"#636efa\",\"#EF553B\",\"#636efa\",\"#ab63fa\",\"#EF553B\",\"#636efa\",\"#ab63fa\",\"#636efa\",\"#636efa\",\"#636efa\",\"#ab63fa\",\"#636efa\",\"#636efa\",\"#EF553B\",\"#636efa\",\"#636efa\",\"#636efa\",\"#636efa\",\"#ab63fa\",\"#636efa\",\"#636efa\",\"#EF553B\",\"#EF553B\",\"#636efa\",\"#EF553B\",\"#636efa\",\"#EF553B\",\"#636efa\",\"#636efa\",\"#EF553B\",\"#636efa\",\"#00cc96\",\"#636efa\",\"#EF553B\",\"#636efa\",\"#636efa\",\"#636efa\",\"#636efa\",\"#636efa\",\"#636efa\",\"#00cc96\",\"#636efa\",\"#636efa\",\"#636efa\",\"#636efa\",\"#636efa\",\"#00cc96\",\"#636efa\",\"#636efa\",\"#00cc96\",\"#636efa\",\"#EF553B\",\"#636efa\",\"#636efa\",\"#636efa\",\"#636efa\",\"#00cc96\",\"#636efa\",\"#636efa\",\"#00cc96\",\"#636efa\",\"#636efa\",\"#636efa\",\"#EF553B\",\"#636efa\",\"#636efa\",\"#EF553B\",\"#ab63fa\",\"#636efa\",\"#636efa\",\"#636efa\",\"#00cc96\",\"#636efa\",\"#636efa\",\"#636efa\",\"#EF553B\",\"#ab63fa\",\"#636efa\",\"#636efa\",\"#636efa\",\"#00cc96\",\"#636efa\",\"#ab63fa\",\"#636efa\",\"#636efa\",\"#636efa\",\"#636efa\",\"#EF553B\",\"#636efa\",\"#00cc96\",\"#636efa\",\"#ab63fa\",\"#636efa\",\"#636efa\",\"#636efa\",\"#00cc96\",\"#636efa\",\"#636efa\",\"#636efa\",\"#EF553B\",\"#636efa\",\"#636efa\",\"#EF553B\",\"#636efa\",\"#636efa\",\"#EF553B\",\"#636efa\",\"#00cc96\",\"#636efa\",\"#636efa\",\"#636efa\",\"#EF553B\",\"#636efa\",\"#636efa\",\"#EF553B\",\"#ab63fa\",\"#636efa\",\"#636efa\",\"#636efa\",\"#636efa\",\"#EF553B\",\"#ab63fa\",\"#636efa\",\"#636efa\",\"#636efa\",\"#636efa\",\"#EF553B\",\"#636efa\",\"#00cc96\",\"#636efa\",\"#636efa\",\"#636efa\",\"#EF553B\",\"#ab63fa\",\"#636efa\",\"#636efa\",\"#636efa\",\"#636efa\",\"#EF553B\",\"#636efa\",\"#636efa\",\"#EF553B\",\"#636efa\",\"#636efa\",\"#EF553B\",\"#636efa\",\"#636efa\",\"#EF553B\",\"#636efa\",\"#636efa\",\"#EF553B\",\"#636efa\",\"#00cc96\",\"#636efa\",\"#ab63fa\",\"#636efa\",\"#636efa\",\"#636efa\",\"#636efa\",\"#EF553B\",\"#636efa\",\"#636efa\",\"#EF553B\",\"#636efa\",\"#636efa\",\"#EF553B\",\"#636efa\",\"#636efa\",\"#EF553B\",\"#636efa\",\"#636efa\",\"#EF553B\",\"#636efa\",\"#00cc96\",\"#636efa\",\"#ab63fa\",\"#636efa\",\"#636efa\",\"#636efa\",\"#00cc96\",\"#636efa\",\"#636efa\",\"#00cc96\",\"#636efa\",\"#ab63fa\",\"#636efa\",\"#636efa\",\"#636efa\",\"#636efa\",\"#EF553B\",\"#ab63fa\",\"#636efa\",\"#636efa\",\"#636efa\",\"#00cc96\",\"#636efa\",\"#ab63fa\",\"#636efa\",\"#636efa\",\"#636efa\",\"#00cc96\",\"#636efa\",\"#636efa\",\"#636efa\",\"#EF553B\",\"#636efa\",\"#636efa\",\"#EF553B\",\"#636efa\",\"#636efa\",\"#EF553B\",\"#636efa\",\"#636efa\",\"#EF553B\",\"#636efa\",\"#636efa\",\"#EF553B\",\"#636efa\",\"#636efa\",\"#EF553B\",\"#636efa\",\"#636efa\",\"#EF553B\",\"#636efa\",\"#636efa\",\"#EF553B\",\"#636efa\",\"#636efa\",\"#EF553B\",\"#ab63fa\",\"#636efa\",\"#636efa\",\"#636efa\",\"#636efa\",\"#EF553B\",\"#636efa\",\"#00cc96\",\"#636efa\",\"#ab63fa\",\"#636efa\",\"#636efa\",\"#ab63fa\",\"#636efa\",\"#636efa\",\"#636efa\",\"#00cc96\",\"#636efa\",\"#ab63fa\",\"#636efa\",\"#636efa\",\"#636efa\",\"#636efa\",\"#EF553B\",\"#636efa\",\"#636efa\",\"#EF553B\",\"#ab63fa\",\"#636efa\",\"#636efa\",\"#ab63fa\",\"#636efa\",\"#636efa\",\"#ab63fa\",\"#636efa\",\"#636efa\",\"#ab63fa\",\"#636efa\",\"#636efa\",\"#ab63fa\",\"#636efa\",\"#636efa\",\"#ab63fa\",\"#636efa\",\"#636efa\",\"#ab63fa\",\"#636efa\",\"#636efa\",\"#ab63fa\",\"#636efa\",\"#636efa\",\"#636efa\",\"#00cc96\",\"#636efa\",\"#636efa\",\"#00cc96\",\"#636efa\",\"#636efa\",\"#636efa\",\"#EF553B\",\"#636efa\",\"#636efa\",\"#EF553B\",\"#636efa\",\"#00cc96\",\"#636efa\",\"#636efa\",\"#00cc96\",\"#636efa\",\"#636efa\",\"#00cc96\",\"#636efa\",\"#636efa\",\"#00cc96\",\"#636efa\",\"#636efa\",\"#00cc96\",\"#636efa\",\"#636efa\",\"#00cc96\",\"#636efa\",\"#636efa\",\"#00cc96\",\"#636efa\",\"#636efa\",\"#00cc96\",\"#636efa\",\"#636efa\",\"#00cc96\",\"#636efa\",\"#636efa\",\"#636efa\",\"#EF553B\",\"#ab63fa\",\"#636efa\",\"#636efa\",\"#ab63fa\",\"#636efa\",\"#636efa\",\"#ab63fa\",\"#636efa\",\"#636efa\",\"#ab63fa\",\"#636efa\",\"#636efa\",\"#ab63fa\",\"#636efa\",\"#636efa\",\"#636efa\",\"#636efa\",\"#EF553B\",\"#ab63fa\",\"#636efa\",\"#636efa\",\"#636efa\",\"#636efa\",\"#EF553B\",\"#636efa\",\"#636efa\",\"#EF553B\",\"#636efa\",\"#636efa\",\"#EF553B\",\"#ab63fa\",\"#636efa\",\"#636efa\",\"#636efa\",\"#636efa\",\"#EF553B\",\"#636efa\",\"#636efa\",\"#EF553B\",\"#636efa\",\"#636efa\",\"#EF553B\",\"#636efa\",\"#636efa\",\"#EF553B\",\"#636efa\",\"#00cc96\",\"#636efa\",\"#636efa\",\"#636efa\",\"#EF553B\",\"#636efa\",\"#00cc96\",\"#636efa\",\"#ab63fa\",\"#636efa\",\"#636efa\",\"#636efa\",\"#636efa\",\"#EF553B\",\"#636efa\",\"#636efa\",\"#EF553B\",\"#636efa\",\"#00cc96\",\"#636efa\",\"#636efa\",\"#00cc96\",\"#636efa\",\"#636efa\",\"#00cc96\",\"#636efa\",\"#ab63fa\",\"#636efa\",\"#636efa\",\"#636efa\",\"#00cc96\",\"#636efa\",\"#636efa\",\"#636efa\",\"#EF553B\",\"#636efa\",\"#636efa\",\"#EF553B\",\"#636efa\",\"#636efa\",\"#EF553B\",\"#636efa\",\"#636efa\",\"#EF553B\",\"#ab63fa\",\"#636efa\",\"#636efa\",\"#636efa\",\"#636efa\",\"#EF553B\",\"#636efa\",\"#636efa\",\"#EF553B\",\"#636efa\",\"#00cc96\",\"#636efa\",\"#636efa\",\"#636efa\",\"#EF553B\",\"#ab63fa\",\"#636efa\",\"#636efa\",\"#636efa\",\"#636efa\",\"#EF553B\",\"#636efa\",\"#00cc96\",\"#636efa\",\"#ab63fa\",\"#636efa\",\"#636efa\",\"#636efa\",\"#636efa\",\"#EF553B\",\"#636efa\",\"#00cc96\",\"#636efa\",\"#636efa\",\"#636efa\",\"#EF553B\",\"#636efa\",\"#636efa\",\"#EF553B\",\"#636efa\",\"#00cc96\",\"#636efa\",\"#636efa\",\"#00cc96\",\"#636efa\",\"#ab63fa\",\"#636efa\",\"#636efa\",\"#ab63fa\",\"#636efa\",\"#636efa\",\"#636efa\",\"#636efa\",\"#EF553B\",\"#ab63fa\",\"#636efa\",\"#636efa\",\"#636efa\",\"#636efa\",\"#EF553B\",\"#636efa\",\"#636efa\",\"#EF553B\",\"#636efa\",\"#636efa\",\"#EF553B\",\"#ab63fa\",\"#636efa\",\"#636efa\",\"#ab63fa\",\"#636efa\",\"#636efa\",\"#ab63fa\",\"#636efa\",\"#636efa\",\"#636efa\",\"#636efa\",\"#EF553B\",\"#636efa\",\"#00cc96\",\"#636efa\",\"#636efa\",\"#00cc96\",\"#636efa\",\"#ab63fa\",\"#636efa\",\"#636efa\",\"#636efa\",\"#636efa\",\"#EF553B\",\"#ab63fa\",\"#636efa\",\"#636efa\",\"#ab63fa\",\"#636efa\",\"#636efa\",\"#636efa\",\"#636efa\",\"#EF553B\",\"#636efa\",\"#636efa\",\"#EF553B\",\"#636efa\",\"#636efa\",\"#EF553B\",\"#ab63fa\",\"#636efa\",\"#636efa\",\"#636efa\",\"#636efa\",\"#EF553B\",\"#636efa\",\"#636efa\",\"#EF553B\",\"#636efa\",\"#00cc96\",\"#636efa\",\"#636efa\",\"#00cc96\",\"#636efa\",\"#636efa\",\"#636efa\",\"#EF553B\",\"#636efa\",\"#636efa\",\"#EF553B\",\"#ab63fa\",\"#636efa\",\"#636efa\",\"#636efa\",\"#00cc96\",\"#636efa\",\"#ab63fa\",\"#636efa\",\"#636efa\",\"#636efa\",\"#00cc96\",\"#636efa\",\"#636efa\",\"#636efa\",\"#EF553B\",\"#636efa\",\"#00cc96\",\"#636efa\",\"#636efa\",\"#636efa\",\"#EF553B\",\"#636efa\",\"#00cc96\",\"#636efa\",\"#636efa\",\"#00cc96\",\"#636efa\",\"#636efa\",\"#636efa\",\"#EF553B\",\"#ab63fa\",\"#636efa\",\"#636efa\",\"#636efa\",\"#00cc96\",\"#636efa\",\"#636efa\",\"#636efa\",\"#EF553B\",\"#ab63fa\",\"#636efa\",\"#636efa\",\"#ab63fa\",\"#636efa\",\"#636efa\",\"#ab63fa\",\"#636efa\",\"#636efa\",\"#636efa\",\"#00cc96\",\"#636efa\",\"#ab63fa\",\"#636efa\",\"#636efa\",\"#636efa\",\"#636efa\",\"#EF553B\",\"#ab63fa\",\"#636efa\",\"#636efa\",\"#ab63fa\",\"#636efa\",\"#636efa\",\"#636efa\",\"#00cc96\",\"#636efa\",\"#636efa\",\"#636efa\",\"#EF553B\",\"#636efa\",\"#00cc96\",\"#636efa\",\"#636efa\",\"#00cc96\",\"#636efa\",\"#636efa\",\"#00cc96\",\"#636efa\",\"#ab63fa\",\"#636efa\",\"#636efa\",\"#636efa\",\"#636efa\",\"#EF553B\",\"#ab63fa\",\"#636efa\",\"#636efa\",\"#636efa\",\"#00cc96\",\"#636efa\",\"#ab63fa\",\"#636efa\",\"#636efa\",\"#636efa\",\"#00cc96\",\"#636efa\",\"#636efa\",\"#636efa\",\"#EF553B\",\"#636efa\",\"#00cc96\",\"#636efa\",\"#636efa\",\"#00cc96\",\"#636efa\",\"#636efa\",\"#636efa\",\"#EF553B\",\"#636efa\",\"#636efa\",\"#EF553B\",\"#ab63fa\",\"#636efa\",\"#636efa\",\"#636efa\",\"#00cc96\",\"#636efa\",\"#636efa\",\"#00cc96\",\"#636efa\",\"#ab63fa\",\"#636efa\",\"#636efa\",\"#ab63fa\",\"#636efa\",\"#636efa\",\"#636efa\",\"#636efa\",\"#EF553B\",\"#636efa\",\"#636efa\",\"#EF553B\",\"#636efa\",\"#00cc96\",\"#636efa\",\"#ab63fa\",\"#636efa\",\"#636efa\",\"#636efa\",\"#636efa\",\"#EF553B\",\"#636efa\",\"#636efa\",\"#EF553B\",\"#636efa\",\"#00cc96\",\"#636efa\",\"#636efa\",\"#636efa\",\"#EF553B\",\"#636efa\",\"#00cc96\",\"#636efa\",\"#636efa\",\"#636efa\",\"#EF553B\",\"#636efa\",\"#00cc96\",\"#636efa\",\"#ab63fa\",\"#636efa\",\"#636efa\",\"#636efa\",\"#00cc96\",\"#636efa\",\"#636efa\",\"#636efa\",\"#EF553B\",\"#ab63fa\",\"#636efa\",\"#636efa\",\"#636efa\",\"#636efa\",\"#EF553B\",\"#636efa\",\"#636efa\",\"#EF553B\",\"#636efa\",\"#636efa\",\"#EF553B\",\"#636efa\",\"#636efa\",\"#EF553B\",\"#636efa\",\"#636efa\",\"#EF553B\",\"#636efa\",\"#636efa\",\"#EF553B\",\"#636efa\",\"#00cc96\",\"#636efa\",\"#636efa\",\"#636efa\",\"#EF553B\",\"#636efa\",\"#00cc96\",\"#636efa\",\"#636efa\",\"#636efa\",\"#EF553B\",\"#636efa\",\"#00cc96\",\"#636efa\",\"#636efa\",\"#636efa\",\"#EF553B\",\"#636efa\",\"#636efa\",\"#EF553B\",\"#636efa\",\"#00cc96\",\"#636efa\",\"#ab63fa\",\"#636efa\",\"#636efa\",\"#636efa\",\"#636efa\",\"#EF553B\",\"#636efa\",\"#636efa\",\"#EF553B\",\"#636efa\",\"#636efa\",\"#EF553B\",\"#636efa\",\"#00cc96\",\"#636efa\",\"#636efa\",\"#636efa\",\"#EF553B\",\"#636efa\",\"#636efa\",\"#EF553B\",\"#ab63fa\",\"#636efa\",\"#636efa\",\"#636efa\",\"#636efa\",\"#EF553B\",\"#636efa\",\"#00cc96\",\"#636efa\",\"#636efa\",\"#636efa\",\"#EF553B\",\"#ab63fa\",\"#636efa\",\"#636efa\",\"#636efa\",\"#636efa\",\"#EF553B\",\"#636efa\",\"#636efa\",\"#EF553B\",\"#636efa\",\"#636efa\",\"#EF553B\",\"#636efa\",\"#636efa\",\"#EF553B\",\"#ab63fa\",\"#636efa\",\"#636efa\",\"#636efa\",\"#00cc96\",\"#636efa\",\"#ab63fa\",\"#636efa\",\"#636efa\",\"#636efa\",\"#00cc96\",\"#636efa\",\"#636efa\",\"#636efa\",\"#EF553B\",\"#636efa\",\"#636efa\",\"#EF553B\",\"#ab63fa\",\"#636efa\",\"#636efa\",\"#636efa\",\"#636efa\",\"#EF553B\",\"#636efa\",\"#636efa\",\"#EF553B\",\"#ab63fa\",\"#636efa\",\"#636efa\",\"#636efa\",\"#00cc96\",\"#636efa\",\"#ab63fa\",\"#636efa\",\"#636efa\",\"#636efa\",\"#636efa\",\"#EF553B\",\"#636efa\",\"#636efa\",\"#EF553B\",\"#ab63fa\",\"#636efa\",\"#636efa\",\"#636efa\",\"#636efa\",\"#EF553B\",\"#636efa\",\"#636efa\",\"#EF553B\",\"#636efa\",\"#00cc96\",\"#636efa\",\"#ab63fa\",\"#636efa\",\"#636efa\",\"#ab63fa\",\"#00cc96\",\"#EF553B\",\"#FFA15A\"]},\"name\":\"\",\"parents\":[\"2021 COMPANIES/Small-Cap\",\"2021 COMPANIES/Large-Cap\",\"2021 COMPANIES/Mid-Cap\",\"2021 COMPANIES/Mid-Cap\",\"2021 COMPANIES/Large-Cap\",\"2021 COMPANIES/Small-Cap\",\"2021 COMPANIES/Small-Cap\",\"2021 COMPANIES/Mid-Cap\",\"2021 COMPANIES/Mid-Cap\",\"2021 COMPANIES/Large-Cap\",\"2021 COMPANIES/Small-Cap\",\"2021 COMPANIES/Small-Cap\",\"2021 COMPANIES/Large-Cap\",\"2021 COMPANIES/Small-Cap\",\"2021 COMPANIES/Large-Cap\",\"2021 COMPANIES/Mid-Cap\",\"2021 COMPANIES/Small-Cap\",\"2021 COMPANIES/Mid-Cap\",\"2021 COMPANIES/Large-Cap\",\"2021 COMPANIES/Mid-Cap\",\"2021 COMPANIES/Large-Cap\",\"2021 COMPANIES/Large-Cap\",\"2021 COMPANIES/Mid-Cap\",\"2021 COMPANIES/Small-Cap\",\"2021 COMPANIES/Mid-Cap\",\"2021 COMPANIES/Large-Cap\",\"2021 COMPANIES/Mid-Cap\",\"2021 COMPANIES/Large-Cap\",\"2021 COMPANIES/Small-Cap\",\"2021 COMPANIES/Mid-Cap\",\"2021 COMPANIES/Small-Cap\",\"2021 COMPANIES/Mid-Cap\",\"2021 COMPANIES/Large-Cap\",\"2021 COMPANIES/Small-Cap\",\"2021 COMPANIES/Mid-Cap\",\"2021 COMPANIES/Mid-Cap\",\"2021 COMPANIES/Large-Cap\",\"2021 COMPANIES/Small-Cap\",\"2021 COMPANIES/Mid-Cap\",\"2021 COMPANIES/Large-Cap\",\"2021 COMPANIES/Mid-Cap\",\"2021 COMPANIES/Small-Cap\",\"2021 COMPANIES/Small-Cap\",\"2021 COMPANIES/Large-Cap\",\"2021 COMPANIES/Small-Cap\",\"2021 COMPANIES/Mid-Cap\",\"2021 COMPANIES/Large-Cap\",\"2021 COMPANIES/Small-Cap\",\"2021 COMPANIES/Small-Cap\",\"2021 COMPANIES/Mid-Cap\",\"2021 COMPANIES/Small-Cap\",\"2021 COMPANIES/Mid-Cap\",\"2021 COMPANIES/Large-Cap\",\"2021 COMPANIES/Small-Cap\",\"2021 COMPANIES/Large-Cap\",\"2021 COMPANIES/Small-Cap\",\"2021 COMPANIES/Mid-Cap\",\"2021 COMPANIES/Small-Cap\",\"2021 COMPANIES/Large-Cap\",\"2021 COMPANIES/Mid-Cap\",\"2021 COMPANIES/Mid-Cap\",\"2021 COMPANIES/Small-Cap\",\"2021 COMPANIES/Large-Cap\",\"2021 COMPANIES/Small-Cap\",\"2021 COMPANIES/Mid-Cap\",\"2021 COMPANIES/Mid-Cap\",\"2021 COMPANIES/Mid-Cap\",\"2021 COMPANIES/Small-Cap\",\"2021 COMPANIES/Mid-Cap\",\"2021 COMPANIES/Small-Cap\",\"2021 COMPANIES/Small-Cap\",\"2021 COMPANIES/Small-Cap\",\"2021 COMPANIES/Small-Cap\",\"2021 COMPANIES/Large-Cap\",\"2021 COMPANIES/Small-Cap\",\"2021 COMPANIES/Mid-Cap\",\"2021 COMPANIES/Large-Cap\",\"2021 COMPANIES/Large-Cap\",\"2021 COMPANIES/Large-Cap\",\"2021 COMPANIES/Small-Cap\",\"2021 COMPANIES/Mid-Cap\",\"2021 COMPANIES/Large-Cap\",\"2021 COMPANIES/Mid-Cap\",\"2021 COMPANIES/Mid-Cap\",\"2021 COMPANIES/Mid-Cap\",\"2021 COMPANIES/Large-Cap\",\"2021 COMPANIES/Mid-Cap\",\"2021 COMPANIES/Mid-Cap\",\"2021 COMPANIES/Mid-Cap\",\"2021 COMPANIES/Large-Cap\",\"2021 COMPANIES/Small-Cap\",\"2021 COMPANIES/Small-Cap\",\"2021 COMPANIES/Mid-Cap\",\"2021 COMPANIES/Large-Cap\",\"2021 COMPANIES/Small-Cap\",\"2021 COMPANIES/Small-Cap\",\"2021 COMPANIES/Small-Cap\",\"2021 COMPANIES/Mid-Cap\",\"2021 COMPANIES/Mid-Cap\",\"2021 COMPANIES/Mid-Cap\",\"2021 COMPANIES/Large-Cap\",\"2021 COMPANIES/Large-Cap\",\"2021 COMPANIES/Small-Cap\",\"2021 COMPANIES/Mid-Cap\",\"2021 COMPANIES/Large-Cap\",\"2021 COMPANIES/Small-Cap\",\"2021 COMPANIES/Mid-Cap\",\"2021 COMPANIES/Large-Cap\",\"2021 COMPANIES/Mid-Cap\",\"2021 COMPANIES/Large-Cap\",\"2021 COMPANIES/Small-Cap\",\"2021 COMPANIES/Mid-Cap\",\"2021 COMPANIES/Large-Cap\",\"2021 COMPANIES/Small-Cap\",\"2021 COMPANIES/Mid-Cap\",\"2021 COMPANIES/Large-Cap\",\"2021 COMPANIES/Small-Cap\",\"2021 COMPANIES/Mid-Cap\",\"2021 COMPANIES/Large-Cap\",\"2021 COMPANIES/Small-Cap\",\"2021 COMPANIES/Mid-Cap\",\"2021 COMPANIES/Large-Cap\",\"2021 COMPANIES/Small-Cap\",\"2021 COMPANIES/Mid-Cap\",\"2021 COMPANIES/Large-Cap\",\"2021 COMPANIES/Small-Cap\",\"2021 COMPANIES/Large-Cap\",\"2021 COMPANIES/Small-Cap\",\"2021 COMPANIES/Mid-Cap\",\"2021 COMPANIES/Large-Cap\",\"2021 COMPANIES/Small-Cap\",\"2021 COMPANIES/Mid-Cap\",\"2021 COMPANIES/Mid-Cap\",\"2021 COMPANIES/Large-Cap\",\"2021 COMPANIES/Small-Cap\",\"2021 COMPANIES/Mid-Cap\",\"2021 COMPANIES/Large-Cap\",\"2021 COMPANIES/Small-Cap\",\"2021 COMPANIES/Mid-Cap\",\"2021 COMPANIES/Large-Cap\",\"2021 COMPANIES/Small-Cap\",\"2021 COMPANIES/Mid-Cap\",\"2021 COMPANIES/Large-Cap\",\"2021 COMPANIES/Small-Cap\",\"2021 COMPANIES/Mid-Cap\",\"2021 COMPANIES/Large-Cap\",\"2021 COMPANIES/Small-Cap\",\"2021 COMPANIES/Mid-Cap\",\"2021 COMPANIES/Large-Cap\",\"2021 COMPANIES/Small-Cap\",\"2021 COMPANIES/Mid-Cap\",\"2021 COMPANIES/Large-Cap\",\"2021 COMPANIES/Small-Cap\",\"2021 COMPANIES/Mid-Cap\",\"2021 COMPANIES/Large-Cap\",\"2021 COMPANIES/Small-Cap\",\"2021 COMPANIES/Mid-Cap\",\"2021 COMPANIES/Large-Cap\",\"2021 COMPANIES/Small-Cap\",\"2021 COMPANIES/Large-Cap\",\"2021 COMPANIES/Small-Cap\",\"2021 COMPANIES/Small-Cap\",\"2021 COMPANIES/Small-Cap\",\"2021 COMPANIES/Small-Cap\",\"2021 COMPANIES/Large-Cap\",\"2021 COMPANIES/Mid-Cap\",\"2021 COMPANIES/Small-Cap\",\"2021 COMPANIES/Large-Cap\",\"2021 COMPANIES/Large-Cap\",\"2021 COMPANIES/Mid-Cap\",\"2021 COMPANIES/Large-Cap\",\"2021 COMPANIES/Small-Cap\",\"2021 COMPANIES/Small-Cap\",\"2021 COMPANIES/Large-Cap\",\"2021 COMPANIES/Large-Cap\",\"2021 COMPANIES/Small-Cap\",\"2021 COMPANIES/Mid-Cap\",\"2021 COMPANIES/Mid-Cap\",\"2021 COMPANIES/Small-Cap\",\"2021 COMPANIES/Mid-Cap\",\"2021 COMPANIES/Mid-Cap\",\"2021 COMPANIES/Mid-Cap\",\"2021 COMPANIES/Small-Cap\",\"2021 COMPANIES/Large-Cap\",\"2021 COMPANIES/Mid-Cap\",\"2021 COMPANIES/Mid-Cap\",\"2021 COMPANIES/Small-Cap\",\"2021 COMPANIES/Large-Cap\",\"2021 COMPANIES/Small-Cap\",\"2021 COMPANIES/Large-Cap\",\"2021 COMPANIES/Large-Cap\",\"2021 COMPANIES/Small-Cap\",\"2021 COMPANIES/Mid-Cap\",\"2021 COMPANIES/Mid-Cap\",\"2021 COMPANIES/Large-Cap\",\"2021 COMPANIES/Small-Cap\",\"2021 COMPANIES/Mid-Cap\",\"2021 COMPANIES/Large-Cap\",\"2021 COMPANIES/Small-Cap\",\"2021 COMPANIES/Large-Cap\",\"2021 COMPANIES/Small-Cap\",\"2021 COMPANIES/Small-Cap\",\"2021 COMPANIES/Mid-Cap\",\"2021 COMPANIES/Small-Cap\",\"2021 COMPANIES/Mid-Cap\",\"2021 COMPANIES/Large-Cap\",\"2021 COMPANIES/Mid-Cap\",\"2021 COMPANIES/Large-Cap\",\"2021 COMPANIES/Mid-Cap\",\"2021 COMPANIES/Small-Cap\",\"2021 COMPANIES/Mid-Cap\",\"2021 COMPANIES/Large-Cap\",\"2021 COMPANIES/Small-Cap\",\"2021 COMPANIES/Mid-Cap\",\"2021 COMPANIES/Small-Cap\",\"2021 COMPANIES/Small-Cap\",\"2021 COMPANIES/Large-Cap\",\"2021 COMPANIES/Small-Cap\",\"2021 COMPANIES/Mid-Cap\",\"2021 COMPANIES/Large-Cap\",\"2021 COMPANIES/Small-Cap\",\"2021 COMPANIES/Large-Cap\",\"2021 COMPANIES/Large-Cap\",\"2021 COMPANIES/Mid-Cap\",\"2021 COMPANIES/Large-Cap\",\"2021 COMPANIES/Small-Cap\",\"2021 COMPANIES/Mid-Cap\",\"2021 COMPANIES/Small-Cap\",\"2021 COMPANIES/Large-Cap\",\"2021 COMPANIES/Mid-Cap\",\"2021 COMPANIES/Mid-Cap\",\"2021 COMPANIES/Large-Cap\",\"2021 COMPANIES/Large-Cap\",\"2021 COMPANIES/Small-Cap\",\"2021 COMPANIES/Large-Cap\",\"2021 COMPANIES/Small-Cap\",\"2021 COMPANIES/Small-Cap\",\"2021 COMPANIES/Large-Cap\",\"2021 COMPANIES/Large-Cap\",\"2021 COMPANIES/Large-Cap\",\"2021 COMPANIES/Large-Cap\",\"2021 COMPANIES/Small-Cap\",\"2021 COMPANIES/Large-Cap\",\"2021 COMPANIES/Large-Cap\",\"2021 COMPANIES/Mid-Cap\",\"2021 COMPANIES/Small-Cap\",\"2021 COMPANIES/Small-Cap\",\"2021 COMPANIES/Mid-Cap\",\"2021 COMPANIES/Large-Cap\",\"2021 COMPANIES/Small-Cap\",\"2021 COMPANIES/Large-Cap\",\"2021 COMPANIES/Mid-Cap\",\"2021 COMPANIES/Mid-Cap\",\"2021 COMPANIES/Large-Cap\",\"2021 COMPANIES/Mid-Cap\",\"2021 COMPANIES/Small-Cap\",\"2021 COMPANIES/Mid-Cap\",\"2021 COMPANIES/Small-Cap\",\"2021 COMPANIES/Small-Cap\",\"2021 COMPANIES/Mid-Cap\",\"2021 COMPANIES/Mid-Cap\",\"2021 COMPANIES/Large-Cap\",\"2021 COMPANIES/Small-Cap\",\"2021 COMPANIES/Mid-Cap\",\"2021 COMPANIES/Mid-Cap\",\"2021 COMPANIES/Small-Cap\",\"2021 COMPANIES/Large-Cap\",\"2021 COMPANIES/Mid-Cap\",\"2021 COMPANIES/Mid-Cap\",\"2021 COMPANIES/Large-Cap\",\"2021 COMPANIES/Small-Cap\",\"2021 COMPANIES/Mid-Cap\",\"2021 COMPANIES/Small-Cap\",\"2021 COMPANIES/Large-Cap\",\"2021 COMPANIES/Small-Cap\",\"2021 COMPANIES/Large-Cap\",\"2021 COMPANIES/Small-Cap\",\"2021 COMPANIES/Large-Cap\",\"2021 COMPANIES/Large-Cap\",\"2021 COMPANIES/Small-Cap\",\"2021 COMPANIES/Mid-Cap\",\"2021 COMPANIES/Small-Cap\",\"2021 COMPANIES/Small-Cap\",\"2021 COMPANIES/Mid-Cap\",\"2021 COMPANIES/Large-Cap\",\"2021 COMPANIES/Large-Cap\",\"2021 COMPANIES/Large-Cap\",\"2021 COMPANIES/Small-Cap\",\"2021 COMPANIES/Mid-Cap\",\"2021 COMPANIES/Mid-Cap\",\"2021 COMPANIES/Mid-Cap\",\"2021 COMPANIES/Mid-Cap\",\"2021 COMPANIES/Small-Cap\",\"2021 COMPANIES/Mid-Cap\",\"2021 COMPANIES/Large-Cap\",\"2021 COMPANIES/Mid-Cap\",\"2021 COMPANIES/Small-Cap\",\"2021 COMPANIES/Large-Cap\",\"2021 COMPANIES/Large-Cap\",\"2021 COMPANIES/Small-Cap\",\"2021 COMPANIES/Small-Cap\",\"2021 COMPANIES/Mid-Cap\",\"2021 COMPANIES/Large-Cap\",\"2021 COMPANIES/Mid-Cap\",\"2021 COMPANIES/Large-Cap\",\"2021 COMPANIES/Small-Cap\",\"2021 COMPANIES/Mid-Cap\",\"2021 COMPANIES/Small-Cap\",\"2021 COMPANIES/Large-Cap\",\"2021 COMPANIES/Mid-Cap\",\"2021 COMPANIES/Mid-Cap\",\"2021 COMPANIES/Large-Cap\",\"2021 COMPANIES/Small-Cap\",\"2021 COMPANIES/Mid-Cap\",\"2021 COMPANIES/Large-Cap\",\"2021 COMPANIES/Small-Cap\",\"2021 COMPANIES/Mid-Cap\",\"2021 COMPANIES/Large-Cap\",\"2021 COMPANIES/Large-Cap\",\"2021 COMPANIES/Mid-Cap\",\"2021 COMPANIES/Mid-Cap\",\"2021 COMPANIES/Mid-Cap\",\"2021 COMPANIES/Large-Cap\",\"2021 COMPANIES/Mid-Cap\",\"2021 COMPANIES/Large-Cap\",\"2021 COMPANIES/Mid-Cap\",\"2021 COMPANIES/Large-Cap\",\"2021 COMPANIES/Mid-Cap\",\"2021 COMPANIES/Small-Cap\",\"2021 COMPANIES/Large-Cap\",\"2021 COMPANIES/Small-Cap\",\"2021 COMPANIES/Large-Cap\",\"2021 COMPANIES/Large-Cap\",\"2021 COMPANIES/Small-Cap\",\"2021 COMPANIES/Mid-Cap\",\"2021 COMPANIES/Small-Cap\",\"2021 COMPANIES/Large-Cap\",\"2021 COMPANIES/Mid-Cap\",\"2021 COMPANIES/Small-Cap\",\"2021 COMPANIES/Large-Cap\",\"2021 COMPANIES/Mid-Cap\",\"2021 COMPANIES/Small-Cap\",\"2021 COMPANIES/Large-Cap\",\"2021 COMPANIES/Small-Cap\",\"2021 COMPANIES/Mid-Cap\",\"2021 COMPANIES/Large-Cap\",\"2021 COMPANIES/Mid-Cap\",\"2021 COMPANIES/Small-Cap\",\"2021 COMPANIES/Large-Cap\",\"2021 COMPANIES/Small-Cap\",\"2021 COMPANIES/Small-Cap\",\"2021 COMPANIES/Mid-Cap\",\"2021 COMPANIES/Large-Cap\",\"2021 COMPANIES/Large-Cap\",\"2021 COMPANIES/Small-Cap\",\"2021 COMPANIES/Small-Cap\",\"2021 COMPANIES/Small-Cap\",\"2021 COMPANIES/Large-Cap\",\"2021 COMPANIES/Small-Cap\",\"2021 COMPANIES/Small-Cap\",\"2021 COMPANIES/Large-Cap\",\"2021 COMPANIES/Small-Cap\",\"2021 COMPANIES/Small-Cap\",\"2021 COMPANIES/Large-Cap\",\"2021 COMPANIES/Large-Cap\",\"2021 COMPANIES/Large-Cap\",\"2021 COMPANIES/Large-Cap\",\"2021 COMPANIES/Mid-Cap\",\"2021 COMPANIES/Large-Cap\",\"2021 COMPANIES/Mid-Cap\",\"2021 COMPANIES/Large-Cap\",\"2021 COMPANIES/Small-Cap\",\"2021 COMPANIES/Large-Cap\",\"2021 COMPANIES/Large-Cap\",\"2021 COMPANIES/Mid-Cap\",\"2021 COMPANIES/Mid-Cap\",\"2021 COMPANIES/Small-Cap\",\"2021 COMPANIES/Large-Cap\",\"2021 COMPANIES/Mid-Cap\",\"2021 COMPANIES/Large-Cap\",\"2021 COMPANIES/Large-Cap\",\"2021 COMPANIES/Mid-Cap\",\"2021 COMPANIES/Large-Cap\",\"2021 COMPANIES/Small-Cap\",\"2021 COMPANIES/Mid-Cap\",\"2021 COMPANIES/Mid-Cap\",\"2021 COMPANIES/Small-Cap\",\"2021 COMPANIES/Small-Cap\",\"2021 COMPANIES/Mid-Cap\",\"2021 COMPANIES/Small-Cap\",\"2021 COMPANIES/Mid-Cap\",\"2021 COMPANIES/Large-Cap\",\"2021 COMPANIES/Small-Cap\",\"2021 COMPANIES/Mid-Cap\",\"2021 COMPANIES/Small-Cap\",\"2021 COMPANIES/Large-Cap\",\"2021 COMPANIES/Mid-Cap\",\"2021 COMPANIES/Small-Cap\",\"2021 COMPANIES/Large-Cap\",\"2021 COMPANIES/Mid-Cap\",\"2021 COMPANIES/Mid-Cap\",\"2021 COMPANIES/Large-Cap\",\"2021 COMPANIES/Small-Cap\",\"2021 COMPANIES/Mid-Cap\",\"2021 COMPANIES/Large-Cap\",\"2021 COMPANIES/Small-Cap\",\"2021 COMPANIES/Mid-Cap\",\"2021 COMPANIES/Large-Cap\",\"2021 COMPANIES/Small-Cap\",\"2021 COMPANIES/Mid-Cap\",\"2021 COMPANIES/Large-Cap\",\"2021 COMPANIES/Small-Cap\",\"2021 COMPANIES/Mid-Cap\",\"2021 COMPANIES/Large-Cap\",\"2021 COMPANIES/Small-Cap\",\"2021 COMPANIES/Mid-Cap\",\"2021 COMPANIES/Large-Cap\",\"2021 COMPANIES/Small-Cap\",\"2021 COMPANIES/Mid-Cap\",\"2021 COMPANIES/Large-Cap\",\"2021 COMPANIES/Small-Cap\",\"2021 COMPANIES/Mid-Cap\",\"2021 COMPANIES/Large-Cap\",\"2021 COMPANIES/Small-Cap\",\"2021 COMPANIES/Mid-Cap\",\"2021 COMPANIES/Large-Cap\",\"2021 COMPANIES/Small-Cap\",\"2021 COMPANIES/Mid-Cap\",\"2021 COMPANIES/Large-Cap\",\"2021 COMPANIES/Small-Cap\",\"2021 COMPANIES/Mid-Cap\",\"2021 COMPANIES/Large-Cap\",\"2021 COMPANIES/Small-Cap\",\"2021 COMPANIES/Mid-Cap\",\"2021 COMPANIES/Large-Cap\",\"2021 COMPANIES/Small-Cap\",\"2021 COMPANIES/Mid-Cap\",\"2021 COMPANIES/Large-Cap\",\"2021 COMPANIES/Small-Cap\",\"2021 COMPANIES/Mid-Cap\",\"2021 COMPANIES/Large-Cap\",\"2021 COMPANIES/Small-Cap\",\"2021 COMPANIES/Mid-Cap\",\"2021 COMPANIES/Large-Cap\",\"2021 COMPANIES/Small-Cap\",\"2021 COMPANIES/Mid-Cap\",\"2021 COMPANIES/Large-Cap\",\"2021 COMPANIES/Small-Cap\",\"2021 COMPANIES/Mid-Cap\",\"2021 COMPANIES/Large-Cap\",\"2021 COMPANIES/Small-Cap\",\"2021 COMPANIES/Mid-Cap\",\"2021 COMPANIES/Large-Cap\",\"2021 COMPANIES/Small-Cap\",\"2021 COMPANIES/Mid-Cap\",\"2021 COMPANIES/Large-Cap\",\"2021 COMPANIES/Small-Cap\",\"2021 COMPANIES/Mid-Cap\",\"2021 COMPANIES/Large-Cap\",\"2021 COMPANIES/Small-Cap\",\"2021 COMPANIES/Mid-Cap\",\"2021 COMPANIES/Large-Cap\",\"2021 COMPANIES/Small-Cap\",\"2021 COMPANIES/Mid-Cap\",\"2021 COMPANIES/Large-Cap\",\"2021 COMPANIES/Small-Cap\",\"2021 COMPANIES/Mid-Cap\",\"2021 COMPANIES/Large-Cap\",\"2021 COMPANIES/Small-Cap\",\"2021 COMPANIES/Mid-Cap\",\"2021 COMPANIES/Large-Cap\",\"2021 COMPANIES/Small-Cap\",\"2021 COMPANIES/Mid-Cap\",\"2021 COMPANIES/Large-Cap\",\"2021 COMPANIES/Small-Cap\",\"2021 COMPANIES/Mid-Cap\",\"2021 COMPANIES/Large-Cap\",\"2021 COMPANIES/Small-Cap\",\"2021 COMPANIES/Mid-Cap\",\"2021 COMPANIES/Large-Cap\",\"2021 COMPANIES/Small-Cap\",\"2021 COMPANIES/Mid-Cap\",\"2021 COMPANIES/Large-Cap\",\"2021 COMPANIES/Small-Cap\",\"2021 COMPANIES/Mid-Cap\",\"2021 COMPANIES/Large-Cap\",\"2021 COMPANIES/Small-Cap\",\"2021 COMPANIES/Mid-Cap\",\"2021 COMPANIES/Large-Cap\",\"2021 COMPANIES/Small-Cap\",\"2021 COMPANIES/Mid-Cap\",\"2021 COMPANIES/Large-Cap\",\"2021 COMPANIES/Small-Cap\",\"2021 COMPANIES/Mid-Cap\",\"2021 COMPANIES/Large-Cap\",\"2021 COMPANIES/Small-Cap\",\"2021 COMPANIES/Mid-Cap\",\"2021 COMPANIES/Large-Cap\",\"2021 COMPANIES/Small-Cap\",\"2021 COMPANIES/Mid-Cap\",\"2021 COMPANIES/Large-Cap\",\"2021 COMPANIES/Small-Cap\",\"2021 COMPANIES/Mid-Cap\",\"2021 COMPANIES/Large-Cap\",\"2021 COMPANIES/Small-Cap\",\"2021 COMPANIES/Mid-Cap\",\"2021 COMPANIES/Large-Cap\",\"2021 COMPANIES/Small-Cap\",\"2021 COMPANIES/Mid-Cap\",\"2021 COMPANIES/Large-Cap\",\"2021 COMPANIES/Small-Cap\",\"2021 COMPANIES/Mid-Cap\",\"2021 COMPANIES/Large-Cap\",\"2021 COMPANIES/Small-Cap\",\"2021 COMPANIES/Mid-Cap\",\"2021 COMPANIES/Large-Cap\",\"2021 COMPANIES/Small-Cap\",\"2021 COMPANIES/Mid-Cap\",\"2021 COMPANIES/Large-Cap\",\"2021 COMPANIES/Small-Cap\",\"2021 COMPANIES/Mid-Cap\",\"2021 COMPANIES/Large-Cap\",\"2021 COMPANIES/Small-Cap\",\"2021 COMPANIES/Mid-Cap\",\"2021 COMPANIES/Large-Cap\",\"2021 COMPANIES/Small-Cap\",\"2021 COMPANIES/Mid-Cap\",\"2021 COMPANIES/Large-Cap\",\"2021 COMPANIES/Small-Cap\",\"2021 COMPANIES/Mid-Cap\",\"2021 COMPANIES/Large-Cap\",\"2021 COMPANIES/Small-Cap\",\"2021 COMPANIES/Mid-Cap\",\"2021 COMPANIES/Large-Cap\",\"2021 COMPANIES/Small-Cap\",\"2021 COMPANIES/Mid-Cap\",\"2021 COMPANIES/Large-Cap\",\"2021 COMPANIES/Small-Cap\",\"2021 COMPANIES/Mid-Cap\",\"2021 COMPANIES/Large-Cap\",\"2021 COMPANIES/Small-Cap\",\"2021 COMPANIES/Mid-Cap\",\"2021 COMPANIES/Large-Cap\",\"2021 COMPANIES/Small-Cap\",\"2021 COMPANIES/Mid-Cap\",\"2021 COMPANIES/Large-Cap\",\"2021 COMPANIES/Small-Cap\",\"2021 COMPANIES/Mid-Cap\",\"2021 COMPANIES/Large-Cap\",\"2021 COMPANIES/Small-Cap\",\"2021 COMPANIES/Mid-Cap\",\"2021 COMPANIES/Large-Cap\",\"2021 COMPANIES/Small-Cap\",\"2021 COMPANIES/Mid-Cap\",\"2021 COMPANIES/Large-Cap\",\"2021 COMPANIES/Small-Cap\",\"2021 COMPANIES/Mid-Cap\",\"2021 COMPANIES/Large-Cap\",\"2021 COMPANIES/Small-Cap\",\"2021 COMPANIES/Mid-Cap\",\"2021 COMPANIES/Large-Cap\",\"2021 COMPANIES/Small-Cap\",\"2021 COMPANIES/Mid-Cap\",\"2021 COMPANIES/Large-Cap\",\"2021 COMPANIES/Small-Cap\",\"2021 COMPANIES/Mid-Cap\",\"2021 COMPANIES/Large-Cap\",\"2021 COMPANIES/Small-Cap\",\"2021 COMPANIES/Mid-Cap\",\"2021 COMPANIES/Large-Cap\",\"2021 COMPANIES/Small-Cap\",\"2021 COMPANIES/Mid-Cap\",\"2021 COMPANIES/Large-Cap\",\"2021 COMPANIES/Small-Cap\",\"2021 COMPANIES/Mid-Cap\",\"2021 COMPANIES/Large-Cap\",\"2021 COMPANIES/Small-Cap\",\"2021 COMPANIES/Mid-Cap\",\"2021 COMPANIES/Large-Cap\",\"2021 COMPANIES/Small-Cap\",\"2021 COMPANIES/Mid-Cap\",\"2021 COMPANIES/Large-Cap\",\"2021 COMPANIES/Small-Cap\",\"2021 COMPANIES/Mid-Cap\",\"2021 COMPANIES/Large-Cap\",\"2021 COMPANIES/Small-Cap\",\"2021 COMPANIES/Mid-Cap\",\"2021 COMPANIES/Large-Cap\",\"2021 COMPANIES/Small-Cap\",\"2021 COMPANIES/Mid-Cap\",\"2021 COMPANIES/Large-Cap\",\"2021 COMPANIES/Small-Cap\",\"2021 COMPANIES/Mid-Cap\",\"2021 COMPANIES/Large-Cap\",\"2021 COMPANIES/Small-Cap\",\"2021 COMPANIES/Mid-Cap\",\"2021 COMPANIES/Large-Cap\",\"2021 COMPANIES/Small-Cap\",\"2021 COMPANIES/Mid-Cap\",\"2021 COMPANIES/Large-Cap\",\"2021 COMPANIES/Small-Cap\",\"2021 COMPANIES/Mid-Cap\",\"2021 COMPANIES/Large-Cap\",\"2021 COMPANIES/Small-Cap\",\"2021 COMPANIES/Mid-Cap\",\"2021 COMPANIES/Large-Cap\",\"2021 COMPANIES/Small-Cap\",\"2021 COMPANIES/Mid-Cap\",\"2021 COMPANIES/Large-Cap\",\"2021 COMPANIES/Small-Cap\",\"2021 COMPANIES/Mid-Cap\",\"2021 COMPANIES/Large-Cap\",\"2021 COMPANIES/Small-Cap\",\"2021 COMPANIES/Mid-Cap\",\"2021 COMPANIES/Large-Cap\",\"2021 COMPANIES/Small-Cap\",\"2021 COMPANIES/Mid-Cap\",\"2021 COMPANIES/Large-Cap\",\"2021 COMPANIES/Small-Cap\",\"2021 COMPANIES/Mid-Cap\",\"2021 COMPANIES/Large-Cap\",\"2021 COMPANIES/Small-Cap\",\"2021 COMPANIES/Mid-Cap\",\"2021 COMPANIES/Large-Cap\",\"2021 COMPANIES/Small-Cap\",\"2021 COMPANIES/Mid-Cap\",\"2021 COMPANIES/Large-Cap\",\"2021 COMPANIES/Small-Cap\",\"2021 COMPANIES/Mid-Cap\",\"2021 COMPANIES/Large-Cap\",\"2021 COMPANIES/Small-Cap\",\"2021 COMPANIES/Mid-Cap\",\"2021 COMPANIES/Large-Cap\",\"2021 COMPANIES/Small-Cap\",\"2021 COMPANIES/Mid-Cap\",\"2021 COMPANIES/Large-Cap\",\"2021 COMPANIES/Small-Cap\",\"2021 COMPANIES/Mid-Cap\",\"2021 COMPANIES/Large-Cap\",\"2021 COMPANIES/Small-Cap\",\"2021 COMPANIES/Mid-Cap\",\"2021 COMPANIES/Large-Cap\",\"2021 COMPANIES/Small-Cap\",\"2021 COMPANIES/Mid-Cap\",\"2021 COMPANIES/Large-Cap\",\"2021 COMPANIES/Small-Cap\",\"2021 COMPANIES/Mid-Cap\",\"2021 COMPANIES/Large-Cap\",\"2021 COMPANIES/Small-Cap\",\"2021 COMPANIES/Mid-Cap\",\"2021 COMPANIES/Large-Cap\",\"2021 COMPANIES/Small-Cap\",\"2021 COMPANIES/Mid-Cap\",\"2021 COMPANIES/Large-Cap\",\"2021 COMPANIES/Small-Cap\",\"2021 COMPANIES/Mid-Cap\",\"2021 COMPANIES/Large-Cap\",\"2021 COMPANIES/Small-Cap\",\"2021 COMPANIES/Mid-Cap\",\"2021 COMPANIES/Large-Cap\",\"2021 COMPANIES/Small-Cap\",\"2021 COMPANIES/Mid-Cap\",\"2021 COMPANIES/Large-Cap\",\"2021 COMPANIES/Small-Cap\",\"2021 COMPANIES/Mid-Cap\",\"2021 COMPANIES/Large-Cap\",\"2021 COMPANIES/Small-Cap\",\"2021 COMPANIES/Mid-Cap\",\"2021 COMPANIES/Large-Cap\",\"2021 COMPANIES/Small-Cap\",\"2021 COMPANIES/Mid-Cap\",\"2021 COMPANIES/Large-Cap\",\"2021 COMPANIES/Small-Cap\",\"2021 COMPANIES/Mid-Cap\",\"2021 COMPANIES/Large-Cap\",\"2021 COMPANIES/Small-Cap\",\"2021 COMPANIES/Mid-Cap\",\"2021 COMPANIES/Large-Cap\",\"2021 COMPANIES/Small-Cap\",\"2021 COMPANIES/Mid-Cap\",\"2021 COMPANIES/Large-Cap\",\"2021 COMPANIES/Small-Cap\",\"2021 COMPANIES/Mid-Cap\",\"2021 COMPANIES/Large-Cap\",\"2021 COMPANIES/Small-Cap\",\"2021 COMPANIES/Mid-Cap\",\"2021 COMPANIES/Large-Cap\",\"2021 COMPANIES/Small-Cap\",\"2021 COMPANIES/Mid-Cap\",\"2021 COMPANIES/Large-Cap\",\"2021 COMPANIES/Small-Cap\",\"2021 COMPANIES/Mid-Cap\",\"2021 COMPANIES/Large-Cap\",\"2021 COMPANIES/Small-Cap\",\"2021 COMPANIES/Mid-Cap\",\"2021 COMPANIES/Large-Cap\",\"2021 COMPANIES/Small-Cap\",\"2021 COMPANIES/Mid-Cap\",\"2021 COMPANIES/Large-Cap\",\"2021 COMPANIES/Small-Cap\",\"2021 COMPANIES/Mid-Cap\",\"2021 COMPANIES/Large-Cap\",\"2021 COMPANIES/Small-Cap\",\"2021 COMPANIES/Mid-Cap\",\"2021 COMPANIES/Large-Cap\",\"2021 COMPANIES/Small-Cap\",\"2021 COMPANIES/Mid-Cap\",\"2021 COMPANIES/Large-Cap\",\"2021 COMPANIES/Small-Cap\",\"2021 COMPANIES/Mid-Cap\",\"2021 COMPANIES/Large-Cap\",\"2021 COMPANIES/Small-Cap\",\"2021 COMPANIES/Mid-Cap\",\"2021 COMPANIES/Large-Cap\",\"2021 COMPANIES/Small-Cap\",\"2021 COMPANIES/Mid-Cap\",\"2021 COMPANIES/Large-Cap\",\"2021 COMPANIES/Small-Cap\",\"2021 COMPANIES/Mid-Cap\",\"2021 COMPANIES/Large-Cap\",\"2021 COMPANIES/Small-Cap\",\"2021 COMPANIES/Mid-Cap\",\"2021 COMPANIES/Large-Cap\",\"2021 COMPANIES/Small-Cap\",\"2021 COMPANIES/Mid-Cap\",\"2021 COMPANIES/Large-Cap\",\"2021 COMPANIES/Small-Cap\",\"2021 COMPANIES/Mid-Cap\",\"2021 COMPANIES/Large-Cap\",\"2021 COMPANIES/Small-Cap\",\"2021 COMPANIES/Mid-Cap\",\"2021 COMPANIES/Large-Cap\",\"2021 COMPANIES/Small-Cap\",\"2021 COMPANIES/Mid-Cap\",\"2021 COMPANIES/Large-Cap\",\"2021 COMPANIES/Small-Cap\",\"2021 COMPANIES/Mid-Cap\",\"2021 COMPANIES/Large-Cap\",\"2021 COMPANIES/Small-Cap\",\"2021 COMPANIES/Mid-Cap\",\"2021 COMPANIES/Large-Cap\",\"2021 COMPANIES/Small-Cap\",\"2021 COMPANIES/Mid-Cap\",\"2021 COMPANIES/Large-Cap\",\"2021 COMPANIES/Small-Cap\",\"2021 COMPANIES/Mid-Cap\",\"2021 COMPANIES/Large-Cap\",\"2021 COMPANIES/Small-Cap\",\"2021 COMPANIES/Mid-Cap\",\"2021 COMPANIES/Large-Cap\",\"2021 COMPANIES/Small-Cap\",\"2021 COMPANIES/Mid-Cap\",\"2021 COMPANIES/Large-Cap\",\"2021 COMPANIES/Small-Cap\",\"2021 COMPANIES/Mid-Cap\",\"2021 COMPANIES/Large-Cap\",\"2021 COMPANIES/Small-Cap\",\"2021 COMPANIES/Mid-Cap\",\"2021 COMPANIES/Large-Cap\",\"2021 COMPANIES/Small-Cap\",\"2021 COMPANIES/Mid-Cap\",\"2021 COMPANIES/Large-Cap\",\"2021 COMPANIES/Small-Cap\",\"2021 COMPANIES/Mid-Cap\",\"2021 COMPANIES/Large-Cap\",\"2021 COMPANIES/Small-Cap\",\"2021 COMPANIES/Mid-Cap\",\"2021 COMPANIES/Large-Cap\",\"2021 COMPANIES/Small-Cap\",\"2021 COMPANIES/Mid-Cap\",\"2021 COMPANIES/Large-Cap\",\"2021 COMPANIES/Small-Cap\",\"2021 COMPANIES/Mid-Cap\",\"2021 COMPANIES/Large-Cap\",\"2021 COMPANIES/Small-Cap\",\"2021 COMPANIES/Mid-Cap\",\"2021 COMPANIES/Large-Cap\",\"2021 COMPANIES/Small-Cap\",\"2021 COMPANIES/Mid-Cap\",\"2021 COMPANIES/Large-Cap\",\"2021 COMPANIES/Small-Cap\",\"2021 COMPANIES/Mid-Cap\",\"2021 COMPANIES/Large-Cap\",\"2021 COMPANIES/Small-Cap\",\"2021 COMPANIES/Mid-Cap\",\"2021 COMPANIES/Large-Cap\",\"2021 COMPANIES/Small-Cap\",\"2021 COMPANIES/Mid-Cap\",\"2021 COMPANIES/Large-Cap\",\"2021 COMPANIES/Small-Cap\",\"2021 COMPANIES/Mid-Cap\",\"2021 COMPANIES/Large-Cap\",\"2021 COMPANIES/Small-Cap\",\"2021 COMPANIES/Mid-Cap\",\"2021 COMPANIES/Large-Cap\",\"2021 COMPANIES/Small-Cap\",\"2021 COMPANIES/Mid-Cap\",\"2021 COMPANIES/Large-Cap\",\"2021 COMPANIES/Small-Cap\",\"2021 COMPANIES/Mid-Cap\",\"2021 COMPANIES/Large-Cap\",\"2021 COMPANIES/Small-Cap\",\"2021 COMPANIES/Mid-Cap\",\"2021 COMPANIES/Large-Cap\",\"2021 COMPANIES/Small-Cap\",\"2021 COMPANIES/Mid-Cap\",\"2021 COMPANIES/Large-Cap\",\"2021 COMPANIES/Small-Cap\",\"2021 COMPANIES/Mid-Cap\",\"2021 COMPANIES/Large-Cap\",\"2021 COMPANIES/Small-Cap\",\"2021 COMPANIES/Mid-Cap\",\"2021 COMPANIES/Large-Cap\",\"2021 COMPANIES/Small-Cap\",\"2021 COMPANIES/Mid-Cap\",\"2021 COMPANIES/Large-Cap\",\"2021 COMPANIES/Small-Cap\",\"2021 COMPANIES/Mid-Cap\",\"2021 COMPANIES/Large-Cap\",\"2021 COMPANIES/Small-Cap\",\"2021 COMPANIES/Mid-Cap\",\"2021 COMPANIES/Large-Cap\",\"2021 COMPANIES/Small-Cap\",\"2021 COMPANIES/Mid-Cap\",\"2021 COMPANIES/Large-Cap\",\"2021 COMPANIES/Small-Cap\",\"2021 COMPANIES/Mid-Cap\",\"2021 COMPANIES/Large-Cap\",\"2021 COMPANIES/Small-Cap\",\"2021 COMPANIES/Mid-Cap\",\"2021 COMPANIES/Large-Cap\",\"2021 COMPANIES/Small-Cap\",\"2021 COMPANIES/Mid-Cap\",\"2021 COMPANIES/Large-Cap\",\"2021 COMPANIES/Small-Cap\",\"2021 COMPANIES/Mid-Cap\",\"2021 COMPANIES/Large-Cap\",\"2021 COMPANIES/Small-Cap\",\"2021 COMPANIES/Mid-Cap\",\"2021 COMPANIES/Large-Cap\",\"2021 COMPANIES/Small-Cap\",\"2021 COMPANIES/Mid-Cap\",\"2021 COMPANIES/Large-Cap\",\"2021 COMPANIES/Small-Cap\",\"2021 COMPANIES/Mid-Cap\",\"2021 COMPANIES/Large-Cap\",\"2021 COMPANIES/Small-Cap\",\"2021 COMPANIES/Mid-Cap\",\"2021 COMPANIES/Large-Cap\",\"2021 COMPANIES/Small-Cap\",\"2021 COMPANIES/Mid-Cap\",\"2021 COMPANIES/Large-Cap\",\"2021 COMPANIES/Small-Cap\",\"2021 COMPANIES/Mid-Cap\",\"2021 COMPANIES/Large-Cap\",\"2021 COMPANIES/Small-Cap\",\"2021 COMPANIES/Mid-Cap\",\"2021 COMPANIES/Large-Cap\",\"2021 COMPANIES/Small-Cap\",\"2021 COMPANIES/Mid-Cap\",\"2021 COMPANIES/Large-Cap\",\"2021 COMPANIES/Small-Cap\",\"2021 COMPANIES/Mid-Cap\",\"2021 COMPANIES/Large-Cap\",\"2021 COMPANIES/Small-Cap\",\"2021 COMPANIES/Mid-Cap\",\"2021 COMPANIES/Large-Cap\",\"2021 COMPANIES/Small-Cap\",\"2021 COMPANIES/Mid-Cap\",\"2021 COMPANIES/Large-Cap\",\"2021 COMPANIES/Small-Cap\",\"2021 COMPANIES/Mid-Cap\",\"2021 COMPANIES/Large-Cap\",\"2021 COMPANIES/Small-Cap\",\"2021 COMPANIES/Mid-Cap\",\"2021 COMPANIES/Large-Cap\",\"2021 COMPANIES/Small-Cap\",\"2021 COMPANIES/Mid-Cap\",\"2021 COMPANIES/Large-Cap\",\"2021 COMPANIES/Small-Cap\",\"2021 COMPANIES/Mid-Cap\",\"2021 COMPANIES/Large-Cap\",\"2021 COMPANIES/Small-Cap\",\"2021 COMPANIES/Mid-Cap\",\"2021 COMPANIES/Large-Cap\",\"2021 COMPANIES/Small-Cap\",\"2021 COMPANIES/Mid-Cap\",\"2021 COMPANIES/Large-Cap\",\"2021 COMPANIES/Small-Cap\",\"2021 COMPANIES/Mid-Cap\",\"2021 COMPANIES/Large-Cap\",\"2021 COMPANIES/Small-Cap\",\"2021 COMPANIES/Mid-Cap\",\"2021 COMPANIES/Large-Cap\",\"2021 COMPANIES/Small-Cap\",\"2021 COMPANIES/Mid-Cap\",\"2021 COMPANIES/Large-Cap\",\"2021 COMPANIES/Small-Cap\",\"2021 COMPANIES/Mid-Cap\",\"2021 COMPANIES/Large-Cap\",\"2021 COMPANIES/Small-Cap\",\"2021 COMPANIES/Mid-Cap\",\"2021 COMPANIES/Large-Cap\",\"2021 COMPANIES/Small-Cap\",\"2021 COMPANIES/Mid-Cap\",\"2021 COMPANIES/Large-Cap\",\"2021 COMPANIES/Small-Cap\",\"2021 COMPANIES/Mid-Cap\",\"2021 COMPANIES/Large-Cap\",\"2021 COMPANIES/Small-Cap\",\"2021 COMPANIES/Mid-Cap\",\"2021 COMPANIES/Large-Cap\",\"2021 COMPANIES/Small-Cap\",\"2021 COMPANIES/Mid-Cap\",\"2021 COMPANIES/Large-Cap\",\"2021 COMPANIES/Small-Cap\",\"2021 COMPANIES/Mid-Cap\",\"2021 COMPANIES/Large-Cap\",\"2021 COMPANIES/Small-Cap\",\"2021 COMPANIES/Mid-Cap\",\"2021 COMPANIES/Large-Cap\",\"2021 COMPANIES/Small-Cap\",\"2021 COMPANIES/Mid-Cap\",\"2021 COMPANIES/Large-Cap\",\"2021 COMPANIES/Small-Cap\",\"2021 COMPANIES/Mid-Cap\",\"2021 COMPANIES/Large-Cap\",\"2021 COMPANIES/Small-Cap\",\"2021 COMPANIES/Mid-Cap\",\"2021 COMPANIES/Large-Cap\",\"2021 COMPANIES/Small-Cap\",\"2021 COMPANIES/Mid-Cap\",\"2021 COMPANIES/Large-Cap\",\"2021 COMPANIES/Small-Cap\",\"2021 COMPANIES/Mid-Cap\",\"2021 COMPANIES/Large-Cap\",\"2021 COMPANIES/Small-Cap\",\"2021 COMPANIES/Mid-Cap\",\"2021 COMPANIES/Large-Cap\",\"2021 COMPANIES/Small-Cap\",\"2021 COMPANIES/Mid-Cap\",\"2021 COMPANIES/Large-Cap\",\"2021 COMPANIES/Small-Cap\",\"2021 COMPANIES/Mid-Cap\",\"2021 COMPANIES/Large-Cap\",\"2021 COMPANIES/Small-Cap\",\"2021 COMPANIES/Mid-Cap\",\"2021 COMPANIES/Large-Cap\",\"2021 COMPANIES/Small-Cap\",\"2021 COMPANIES/Mid-Cap\",\"2021 COMPANIES/Large-Cap\",\"2021 COMPANIES/Small-Cap\",\"2021 COMPANIES/Mid-Cap\",\"2021 COMPANIES/Large-Cap\",\"2021 COMPANIES/Small-Cap\",\"2021 COMPANIES/Mid-Cap\",\"2021 COMPANIES/Large-Cap\",\"2021 COMPANIES/Small-Cap\",\"2021 COMPANIES/Mid-Cap\",\"2021 COMPANIES/Large-Cap\",\"2021 COMPANIES/Small-Cap\",\"2021 COMPANIES/Mid-Cap\",\"2021 COMPANIES/Large-Cap\",\"2021 COMPANIES/Small-Cap\",\"2021 COMPANIES/Mid-Cap\",\"2021 COMPANIES/Large-Cap\",\"2021 COMPANIES/Small-Cap\",\"2021 COMPANIES/Mid-Cap\",\"2021 COMPANIES/Large-Cap\",\"2021 COMPANIES/Small-Cap\",\"2021 COMPANIES/Mid-Cap\",\"2021 COMPANIES/Large-Cap\",\"2021 COMPANIES/Small-Cap\",\"2021 COMPANIES/Mid-Cap\",\"2021 COMPANIES/Large-Cap\",\"2021 COMPANIES/Small-Cap\",\"2021 COMPANIES/Mid-Cap\",\"2021 COMPANIES/Large-Cap\",\"2021 COMPANIES/Small-Cap\",\"2021 COMPANIES/Mid-Cap\",\"2021 COMPANIES/Large-Cap\",\"2021 COMPANIES/Small-Cap\",\"2021 COMPANIES/Mid-Cap\",\"2021 COMPANIES/Large-Cap\",\"2021 COMPANIES/Small-Cap\",\"2021 COMPANIES/Mid-Cap\",\"2021 COMPANIES/Large-Cap\",\"2021 COMPANIES/Small-Cap\",\"2021 COMPANIES/Mid-Cap\",\"2021 COMPANIES/Large-Cap\",\"2021 COMPANIES/Small-Cap\",\"2021 COMPANIES/Mid-Cap\",\"2021 COMPANIES/Large-Cap\",\"2021 COMPANIES/Small-Cap\",\"2021 COMPANIES/Mid-Cap\",\"2021 COMPANIES/Large-Cap\",\"2021 COMPANIES/Small-Cap\",\"2021 COMPANIES/Mid-Cap\",\"2021 COMPANIES/Large-Cap\",\"2021 COMPANIES/Small-Cap\",\"2021 COMPANIES/Mid-Cap\",\"2021 COMPANIES/Large-Cap\",\"2021 COMPANIES/Small-Cap\",\"2021 COMPANIES/Mid-Cap\",\"2021 COMPANIES/Large-Cap\",\"2021 COMPANIES/Small-Cap\",\"2021 COMPANIES/Mid-Cap\",\"2021 COMPANIES/Large-Cap\",\"2021 COMPANIES/Small-Cap\",\"2021 COMPANIES/Mid-Cap\",\"2021 COMPANIES/Large-Cap\",\"2021 COMPANIES/Small-Cap\",\"2021 COMPANIES/Mid-Cap\",\"2021 COMPANIES/Large-Cap\",\"2021 COMPANIES/Small-Cap\",\"2021 COMPANIES/Mid-Cap\",\"2021 COMPANIES/Large-Cap\",\"2021 COMPANIES/Small-Cap\",\"2021 COMPANIES/Mid-Cap\",\"2021 COMPANIES/Large-Cap\",\"2021 COMPANIES/Small-Cap\",\"2021 COMPANIES/Mid-Cap\",\"2021 COMPANIES/Large-Cap\",\"2021 COMPANIES/Small-Cap\",\"2021 COMPANIES/Mid-Cap\",\"2021 COMPANIES/Large-Cap\",\"2021 COMPANIES/Small-Cap\",\"2021 COMPANIES/Mid-Cap\",\"2021 COMPANIES/Large-Cap\",\"2021 COMPANIES/Small-Cap\",\"2021 COMPANIES/Mid-Cap\",\"2021 COMPANIES/Large-Cap\",\"2021 COMPANIES/Small-Cap\",\"2021 COMPANIES/Mid-Cap\",\"2021 COMPANIES/Large-Cap\",\"2021 COMPANIES/Small-Cap\",\"2021 COMPANIES/Mid-Cap\",\"2021 COMPANIES/Large-Cap\",\"2021 COMPANIES/Small-Cap\",\"2021 COMPANIES/Mid-Cap\",\"2021 COMPANIES/Large-Cap\",\"2021 COMPANIES/Small-Cap\",\"2021 COMPANIES/Mid-Cap\",\"2021 COMPANIES/Large-Cap\",\"2021 COMPANIES/Small-Cap\",\"2021 COMPANIES/Mid-Cap\",\"2021 COMPANIES/Large-Cap\",\"2021 COMPANIES/Small-Cap\",\"2021 COMPANIES/Mid-Cap\",\"2021 COMPANIES/Large-Cap\",\"2021 COMPANIES/Small-Cap\",\"2021 COMPANIES/Mid-Cap\",\"2021 COMPANIES/Large-Cap\",\"2021 COMPANIES/Small-Cap\",\"2021 COMPANIES/Mid-Cap\",\"2021 COMPANIES/Large-Cap\",\"2021 COMPANIES/Small-Cap\",\"2021 COMPANIES/Mid-Cap\",\"2021 COMPANIES/Large-Cap\",\"2021 COMPANIES/Small-Cap\",\"2021 COMPANIES/Mid-Cap\",\"2021 COMPANIES/Large-Cap\",\"2021 COMPANIES/Small-Cap\",\"2021 COMPANIES/Mid-Cap\",\"2021 COMPANIES/Large-Cap\",\"2021 COMPANIES/Small-Cap\",\"2021 COMPANIES/Mid-Cap\",\"2021 COMPANIES/Large-Cap\",\"2021 COMPANIES/Small-Cap\",\"2021 COMPANIES/Mid-Cap\",\"2021 COMPANIES/Large-Cap\",\"2021 COMPANIES/Small-Cap\",\"2021 COMPANIES/Mid-Cap\",\"2021 COMPANIES/Large-Cap\",\"2021 COMPANIES/Small-Cap\",\"2021 COMPANIES/Mid-Cap\",\"2021 COMPANIES/Large-Cap\",\"2021 COMPANIES/Small-Cap\",\"2021 COMPANIES/Mid-Cap\",\"2021 COMPANIES/Large-Cap\",\"2021 COMPANIES/Small-Cap\",\"2021 COMPANIES/Mid-Cap\",\"2021 COMPANIES/Large-Cap\",\"2021 COMPANIES/Small-Cap\",\"2021 COMPANIES/Mid-Cap\",\"2021 COMPANIES/Large-Cap\",\"2021 COMPANIES/Small-Cap\",\"2021 COMPANIES/Mid-Cap\",\"2021 COMPANIES/Large-Cap\",\"2021 COMPANIES/Small-Cap\",\"2021 COMPANIES/Mid-Cap\",\"2021 COMPANIES/Large-Cap\",\"2021 COMPANIES/Small-Cap\",\"2021 COMPANIES/Mid-Cap\",\"2021 COMPANIES/Large-Cap\",\"2021 COMPANIES/Small-Cap\",\"2021 COMPANIES/Mid-Cap\",\"2021 COMPANIES/Large-Cap\",\"2021 COMPANIES/Small-Cap\",\"2021 COMPANIES/Mid-Cap\",\"2021 COMPANIES/Large-Cap\",\"2021 COMPANIES/Small-Cap\",\"2021 COMPANIES/Mid-Cap\",\"2021 COMPANIES/Large-Cap\",\"2021 COMPANIES/Small-Cap\",\"2021 COMPANIES/Mid-Cap\",\"2021 COMPANIES/Large-Cap\",\"2021 COMPANIES/Small-Cap\",\"2021 COMPANIES/Mid-Cap\",\"2021 COMPANIES/Large-Cap\",\"2021 COMPANIES/Small-Cap\",\"2021 COMPANIES/Mid-Cap\",\"2021 COMPANIES/Large-Cap\",\"2021 COMPANIES/Small-Cap\",\"2021 COMPANIES/Mid-Cap\",\"2021 COMPANIES/Large-Cap\",\"2021 COMPANIES/Small-Cap\",\"2021 COMPANIES/Mid-Cap\",\"2021 COMPANIES/Large-Cap\",\"2021 COMPANIES/Small-Cap\",\"2021 COMPANIES/Mid-Cap\",\"2021 COMPANIES/Large-Cap\",\"2021 COMPANIES/Small-Cap\",\"2021 COMPANIES/Mid-Cap\",\"2021 COMPANIES/Large-Cap\",\"2021 COMPANIES/Small-Cap\",\"2021 COMPANIES/Mid-Cap\",\"2021 COMPANIES/Large-Cap\",\"2021 COMPANIES/Small-Cap\",\"2021 COMPANIES/Mid-Cap\",\"2021 COMPANIES/Large-Cap\",\"2021 COMPANIES/Small-Cap\",\"2021 COMPANIES/Mid-Cap\",\"2021 COMPANIES/Large-Cap\",\"2021 COMPANIES/Small-Cap\",\"2021 COMPANIES/Mid-Cap\",\"2021 COMPANIES/Large-Cap\",\"2021 COMPANIES/Small-Cap\",\"2021 COMPANIES/Mid-Cap\",\"2021 COMPANIES/Large-Cap\",\"2021 COMPANIES/Small-Cap\",\"2021 COMPANIES/Mid-Cap\",\"2021 COMPANIES/Large-Cap\",\"2021 COMPANIES/Small-Cap\",\"2021 COMPANIES/Mid-Cap\",\"2021 COMPANIES/Large-Cap\",\"2021 COMPANIES/Small-Cap\",\"2021 COMPANIES/Mid-Cap\",\"2021 COMPANIES/Large-Cap\",\"2021 COMPANIES/Small-Cap\",\"2021 COMPANIES/Mid-Cap\",\"2021 COMPANIES/Large-Cap\",\"2021 COMPANIES/Small-Cap\",\"2021 COMPANIES/Mid-Cap\",\"2021 COMPANIES/Large-Cap\",\"2021 COMPANIES/Small-Cap\",\"2021 COMPANIES/Mid-Cap\",\"2021 COMPANIES/Large-Cap\",\"2021 COMPANIES/Small-Cap\",\"2021 COMPANIES/Mid-Cap\",\"2021 COMPANIES/Large-Cap\",\"2021 COMPANIES/Small-Cap\",\"2021 COMPANIES/Mid-Cap\",\"2021 COMPANIES/Large-Cap\",\"2021 COMPANIES/Small-Cap\",\"2021 COMPANIES/Mid-Cap\",\"2021 COMPANIES/Large-Cap\",\"2021 COMPANIES/Small-Cap\",\"2021 COMPANIES/Mid-Cap\",\"2021 COMPANIES/Large-Cap\",\"2021 COMPANIES/Small-Cap\",\"2021 COMPANIES/Mid-Cap\",\"2021 COMPANIES/Large-Cap\",\"2021 COMPANIES/Small-Cap\",\"2021 COMPANIES/Mid-Cap\",\"2021 COMPANIES/Large-Cap\",\"2021 COMPANIES/Small-Cap\",\"2021 COMPANIES/Mid-Cap\",\"2021 COMPANIES/Large-Cap\",\"2021 COMPANIES/Small-Cap\",\"2021 COMPANIES/Mid-Cap\",\"2021 COMPANIES/Large-Cap\",\"2021 COMPANIES/Small-Cap\",\"2021 COMPANIES/Mid-Cap\",\"2021 COMPANIES/Large-Cap\",\"2021 COMPANIES/Small-Cap\",\"2021 COMPANIES/Mid-Cap\",\"2021 COMPANIES/Large-Cap\",\"2021 COMPANIES/Small-Cap\",\"2021 COMPANIES/Mid-Cap\",\"2021 COMPANIES/Large-Cap\",\"2021 COMPANIES/Small-Cap\",\"2021 COMPANIES/Mid-Cap\",\"2021 COMPANIES/Large-Cap\",\"2021 COMPANIES/Small-Cap\",\"2021 COMPANIES/Mid-Cap\",\"2021 COMPANIES/Large-Cap\",\"2021 COMPANIES/Small-Cap\",\"2021 COMPANIES/Mid-Cap\",\"2021 COMPANIES/Large-Cap\",\"2021 COMPANIES\",\"2021 COMPANIES\",\"2021 COMPANIES\",\"\"],\"values\":[0.0,50187.0,0.0,13757.0,0.0,0.0,0.0,0.0,7612.0,0.0,0.0,0.0,429197.0,0.0,42835.0,11212.0,0.0,16311.0,0.0,9775.0,0.0,0.0,0.0,0.0,0.0,0.0,0.0,39489.0,0.0,7506.0,0.0,0.0,314354.0,0.0,0.0,12749.0,0.0,0.0,0.0,103544.0,12486.0,0.0,0.0,281424.0,1739.0,0.0,0.0,0.0,0.0,0.0,0.0,0.0,22752.0,0.0,28822.0,0.0,0.0,0.0,0.0,0.0,0.0,0.0,0.0,0.0,0.0,0.0,0.0,0.0,8204.0,0.0,1095.0,684.0,0.0,0.0,0.0,0.0,87551.0,0.0,21014.0,0.0,0.0,49154.0,0.0,13312.0,18881.0,0.0,14344.0,9341.0,15090.0,0.0,0.0,0.0,0.0,50076.0,0.0,0.0,4735.0,0.0,0.0,10609.0,25857.0,207152.0,0.0,0.0,25574.0,0.0,0.0,26436.0,7397.0,0.0,0.0,9689.0,0.0,0.0,15339.0,0.0,0.0,0.0,42225.0,0.0,8617.0,0.0,0.0,11119.0,0.0,0.0,0.0,0.0,0.0,0.0,0.0,0.0,0.0,29351.0,0.0,0.0,44780.0,0.0,0.0,45795.0,0.0,17788.0,0.0,0.0,0.0,22328.0,0.0,0.0,34467.0,0.0,0.0,42011.0,0.0,0.0,180828.0,0.0,0.0,148552.0,0.0,40395.0,0.0,0.0,0.0,0.0,0.0,0.0,0.0,45098.0,72467.0,0.0,0.0,0.0,2633.0,0.0,80415.0,0.0,0.0,0.0,3411.0,9858.0,0.0,14201.0,2911.0,41124.0,0.0,0.0,3172.0,0.0,0.0,219560.0,0.0,1994.0,8365.0,0.0,106827.0,3022.0,15682.0,0.0,0.0,32575.0,0.0,0.0,0.0,0.0,0.0,0.0,6810.0,25093.0,12190.0,0.0,0.0,0.0,0.0,0.0,0.0,0.0,302574.0,1976.0,0.0,0.0,0.0,20354.0,0.0,0.0,0.0,3177.0,0.0,0.0,37664.0,0.0,0.0,24889.0,27857.0,3850.0,31595.0,0.0,0.0,0.0,0.0,0.0,71076.0,1479.0,0.0,0.0,13555.0,0.0,0.0,0.0,25055.0,0.0,0.0,0.0,0.0,24019.0,7256.0,0.0,0.0,0.0,0.0,0.0,0.0,0.0,0.0,0.0,16980.0,0.0,40140.0,11220.0,6669.0,48538.0,0.0,11424.0,0.0,99783.0,0.0,21289.0,0.0,52136.0,24666.0,0.0,7573.0,0.0,0.0,0.0,35798.0,45487.0,0.0,0.0,11392.0,0.0,13109.0,0.0,0.0,0.0,0.0,0.0,0.0,0.0,51171.0,0.0,0.0,0.0,0.0,11840.0,0.0,0.0,12398.0,0.0,0.0,0.0,6930.0,0.0,0.0,14562.0,0.0,4194.0,0.0,0.0,0.0,12640.0,0.0,0.0,0.0,0.0,0.0,10519.0,24366.0,0.0,0.0,0.0,0.0,22771.0,0.0,0.0,0.0,0.0,64068.0,0.0,0.0,0.0,0.0,2702.0,88892.0,0.0,0.0,74808.0,0.0,153.0,20250.0,0.0,4977.0,0.0,0.0,0.0,4632.0,0.0,0.0,102508.0,0.0,0.0,0.0,0.0,1720.0,0.0,0.0,40161.0,444022.0,0.0,40824.0,0.0,74025.0,0.0,0.0,130306.0,0.0,14958.0,0.0,22488.0,0.0,0.0,0.0,0.0,0.0,0.0,11863.0,0.0,0.0,0.0,0.0,0.0,6641.0,0.0,0.0,8564.0,0.0,78901.0,0.0,0.0,0.0,0.0,6378.0,0.0,0.0,11292.0,0.0,0.0,0.0,95804.0,0.0,0.0,20458.0,884.0,0.0,0.0,0.0,9569.0,0.0,0.0,0.0,117671.0,4788.0,0.0,0.0,0.0,5009.0,0.0,3895.0,0.0,0.0,0.0,0.0,44807.0,0.0,6870.0,0.0,4957.0,0.0,0.0,0.0,17734.0,0.0,0.0,0.0,312572.0,0.0,0.0,857288.0,0.0,0.0,141092.0,0.0,9570.0,0.0,0.0,0.0,28952.0,0.0,0.0,84463.0,2261.0,0.0,0.0,0.0,0.0,52961.0,2339.0,0.0,0.0,0.0,0.0,101494.0,0.0,5924.0,0.0,0.0,0.0,45478.0,1493.0,0.0,0.0,0.0,0.0,45998.0,0.0,0.0,561821.0,0.0,0.0,136791.0,0.0,0.0,36582.0,0.0,0.0,523505.0,0.0,8436.0,0.0,1800.0,0.0,0.0,0.0,0.0,530898.0,0.0,0.0,73517.0,0.0,0.0,90465.0,0.0,0.0,53216.0,0.0,0.0,30791.0,0.0,5054.0,0.0,2522.0,0.0,0.0,0.0,12617.0,0.0,0.0,7814.0,0.0,4569.0,0.0,0.0,0.0,0.0,282962.0,1325.0,0.0,0.0,0.0,6293.0,0.0,2784.0,0.0,0.0,0.0,10489.0,0.0,0.0,0.0,20238.0,0.0,0.0,122384.0,0.0,0.0,40073.0,0.0,0.0,34262.0,0.0,0.0,77881.0,0.0,0.0,80291.0,0.0,0.0,729615.0,0.0,0.0,83073.0,0.0,0.0,26791.0,1308.0,0.0,0.0,0.0,0.0,26855.0,0.0,7500.0,0.0,3737.0,0.0,0.0,3442.0,0.0,0.0,0.0,7634.0,0.0,1702.0,0.0,0.0,0.0,0.0,51866.0,0.0,0.0,160603.0,554.0,0.0,0.0,2134.0,0.0,0.0,2240.0,0.0,0.0,3153.0,0.0,0.0,3948.0,0.0,0.0,1784.0,0.0,0.0,4373.0,0.0,0.0,3434.0,0.0,0.0,0.0,7670.0,0.0,0.0,8834.0,0.0,0.0,0.0,39911.0,0.0,0.0,50367.0,0.0,9661.0,0.0,0.0,11904.0,0.0,0.0,9191.0,0.0,0.0,7990.0,0.0,0.0,17498.0,0.0,0.0,6150.0,0.0,0.0,18720.0,0.0,0.0,6093.0,0.0,0.0,6592.0,0.0,0.0,0.0,31747.0,2218.0,0.0,0.0,4237.0,0.0,0.0,1530.0,0.0,0.0,2938.0,0.0,0.0,2803.0,0.0,0.0,0.0,0.0,405164.0,283.0,0.0,0.0,0.0,0.0,20344.0,0.0,0.0,55168.0,0.0,0.0,22641.0,2173.0,0.0,0.0,0.0,0.0,121190.0,0.0,0.0,264394.0,0.0,0.0,26433.0,0.0,0.0,41696.0,0.0,6190.0,0.0,0.0,0.0,32812.0,0.0,9687.0,0.0,3401.0,0.0,0.0,0.0,0.0,22512.0,0.0,0.0,111131.0,0.0,10245.0,0.0,0.0,5116.0,0.0,0.0,16339.0,0.0,815.0,0.0,0.0,0.0,8356.0,0.0,0.0,0.0,71268.0,0.0,0.0,230905.0,0.0,0.0,33243.0,0.0,0.0,78238.0,4054.0,0.0,0.0,0.0,0.0,24642.0,0.0,0.0,73329.0,0.0,13741.0,0.0,0.0,0.0,61579.0,1868.0,0.0,0.0,0.0,0.0,62880.0,0.0,8056.0,0.0,4668.0,0.0,0.0,0.0,0.0,31893.0,0.0,8990.0,0.0,0.0,0.0,41306.0,0.0,0.0,130589.0,0.0,11496.0,0.0,0.0,17899.0,0.0,2620.0,0.0,0.0,1680.0,0.0,0.0,0.0,0.0,184103.0,3531.0,0.0,0.0,0.0,0.0,191776.0,0.0,0.0,23202.0,0.0,0.0,37591.0,3433.0,0.0,0.0,1186.0,0.0,0.0,3774.0,0.0,0.0,0.0,0.0,43330.0,0.0,8086.0,0.0,0.0,8178.0,0.0,3545.0,0.0,0.0,0.0,0.0,44216.0,1126.0,0.0,0.0,167.0,0.0,0.0,0.0,0.0,31475.0,0.0,0.0,34378.0,0.0,0.0,23330.0,4227.0,0.0,0.0,0.0,0.0,119677.0,0.0,0.0,62754.0,0.0,5433.0,0.0,0.0,14176.0,0.0,0.0,0.0,34613.0,0.0,0.0,133846.0,1186.0,0.0,0.0,0.0,18697.0,0.0,2242.0,0.0,0.0,0.0,6436.0,0.0,0.0,0.0,48160.0,0.0,7034.0,0.0,0.0,0.0,45051.0,0.0,13338.0,0.0,0.0,12067.0,0.0,0.0,0.0,28175.0,1057.0,0.0,0.0,0.0,7047.0,0.0,0.0,0.0,20169.0,863.0,0.0,0.0,4240.0,0.0,0.0,3579.0,0.0,0.0,0.0,11423.0,0.0,470.0,0.0,0.0,0.0,0.0,1573893.0,2204.0,0.0,0.0,4686.0,0.0,0.0,0.0,5306.0,0.0,0.0,0.0,116722.0,0.0,7056.0,0.0,0.0,11353.0,0.0,0.0,18585.0,0.0,253.0,0.0,0.0,0.0,0.0,63183.0,771.0,0.0,0.0,0.0,18753.0,0.0,1290.0,0.0,0.0,0.0,6388.0,0.0,0.0,0.0,100890.0,0.0,5751.0,0.0,0.0,13929.0,0.0,0.0,0.0,42270.0,0.0,0.0,81546.0,231.0,0.0,0.0,0.0,8251.0,0.0,0.0,8961.0,0.0,1918.0,0.0,0.0,4503.0,0.0,0.0,0.0,0.0,448717.0,0.0,0.0,47367.0,0.0,11027.0,0.0,4616.0,0.0,0.0,0.0,0.0,189503.0,0.0,0.0,21977.0,0.0,8932.0,0.0,0.0,0.0,26843.0,0.0,17510.0,0.0,0.0,0.0,28875.0,0.0,6199.0,0.0,3401.0,0.0,0.0,0.0,6213.0,0.0,0.0,0.0,33896.0,916.0,0.0,0.0,0.0,0.0,23216.0,0.0,0.0,35909.0,0.0,0.0,1292238.0,0.0,0.0,75641.0,0.0,0.0,164157.0,0.0,0.0,74877.0,0.0,9584.0,0.0,0.0,0.0,149144.0,0.0,7456.0,0.0,0.0,0.0,150200.0,0.0,7516.0,0.0,0.0,0.0,25264.0,0.0,0.0,24342.0,0.0,18657.0,0.0,1709.0,0.0,0.0,0.0,0.0,217072.0,0.0,0.0,48422.0,0.0,0.0,25608.0,0.0,5521.0,0.0,0.0,0.0,39163.0,0.0,0.0,22789.0,4979.0,0.0,0.0,0.0,0.0,32188.0,0.0,16551.0,0.0,0.0,0.0,56322.0,3766.0,0.0,0.0,0.0,0.0,225360.0,0.0,0.0,32647.0,0.0,0.0,43526.0,0.0,0.0,68601.0,2757.0,0.0,0.0,0.0,10779.0,0.0,2138.0,0.0,0.0,0.0,11616.0,0.0,0.0,0.0,40184.0,0.0,0.0,122544.0,3761.0,0.0,0.0,0.0,0.0,29867.0,0.0,0.0,40453.0,3820.0,0.0,0.0,0.0,13942.0,0.0,1684.0,0.0,0.0,0.0,0.0,27976.0,0.0,0.0,355277.0,4909.0,0.0,0.0,0.0,0.0,32233.0,0.0,0.0,30709.0,0.0,10394.0,0.0,465.0,0.0,0.0,244373.0,1271083.0,20468147.0,21983603.0],\"type\":\"treemap\"}],                        {\"template\":{\"data\":{\"bar\":[{\"error_x\":{\"color\":\"#2a3f5f\"},\"error_y\":{\"color\":\"#2a3f5f\"},\"marker\":{\"line\":{\"color\":\"#E5ECF6\",\"width\":0.5},\"pattern\":{\"fillmode\":\"overlay\",\"size\":10,\"solidity\":0.2}},\"type\":\"bar\"}],\"barpolar\":[{\"marker\":{\"line\":{\"color\":\"#E5ECF6\",\"width\":0.5},\"pattern\":{\"fillmode\":\"overlay\",\"size\":10,\"solidity\":0.2}},\"type\":\"barpolar\"}],\"carpet\":[{\"aaxis\":{\"endlinecolor\":\"#2a3f5f\",\"gridcolor\":\"white\",\"linecolor\":\"white\",\"minorgridcolor\":\"white\",\"startlinecolor\":\"#2a3f5f\"},\"baxis\":{\"endlinecolor\":\"#2a3f5f\",\"gridcolor\":\"white\",\"linecolor\":\"white\",\"minorgridcolor\":\"white\",\"startlinecolor\":\"#2a3f5f\"},\"type\":\"carpet\"}],\"choropleth\":[{\"colorbar\":{\"outlinewidth\":0,\"ticks\":\"\"},\"type\":\"choropleth\"}],\"contour\":[{\"colorbar\":{\"outlinewidth\":0,\"ticks\":\"\"},\"colorscale\":[[0.0,\"#0d0887\"],[0.1111111111111111,\"#46039f\"],[0.2222222222222222,\"#7201a8\"],[0.3333333333333333,\"#9c179e\"],[0.4444444444444444,\"#bd3786\"],[0.5555555555555556,\"#d8576b\"],[0.6666666666666666,\"#ed7953\"],[0.7777777777777778,\"#fb9f3a\"],[0.8888888888888888,\"#fdca26\"],[1.0,\"#f0f921\"]],\"type\":\"contour\"}],\"contourcarpet\":[{\"colorbar\":{\"outlinewidth\":0,\"ticks\":\"\"},\"type\":\"contourcarpet\"}],\"heatmap\":[{\"colorbar\":{\"outlinewidth\":0,\"ticks\":\"\"},\"colorscale\":[[0.0,\"#0d0887\"],[0.1111111111111111,\"#46039f\"],[0.2222222222222222,\"#7201a8\"],[0.3333333333333333,\"#9c179e\"],[0.4444444444444444,\"#bd3786\"],[0.5555555555555556,\"#d8576b\"],[0.6666666666666666,\"#ed7953\"],[0.7777777777777778,\"#fb9f3a\"],[0.8888888888888888,\"#fdca26\"],[1.0,\"#f0f921\"]],\"type\":\"heatmap\"}],\"heatmapgl\":[{\"colorbar\":{\"outlinewidth\":0,\"ticks\":\"\"},\"colorscale\":[[0.0,\"#0d0887\"],[0.1111111111111111,\"#46039f\"],[0.2222222222222222,\"#7201a8\"],[0.3333333333333333,\"#9c179e\"],[0.4444444444444444,\"#bd3786\"],[0.5555555555555556,\"#d8576b\"],[0.6666666666666666,\"#ed7953\"],[0.7777777777777778,\"#fb9f3a\"],[0.8888888888888888,\"#fdca26\"],[1.0,\"#f0f921\"]],\"type\":\"heatmapgl\"}],\"histogram\":[{\"marker\":{\"pattern\":{\"fillmode\":\"overlay\",\"size\":10,\"solidity\":0.2}},\"type\":\"histogram\"}],\"histogram2d\":[{\"colorbar\":{\"outlinewidth\":0,\"ticks\":\"\"},\"colorscale\":[[0.0,\"#0d0887\"],[0.1111111111111111,\"#46039f\"],[0.2222222222222222,\"#7201a8\"],[0.3333333333333333,\"#9c179e\"],[0.4444444444444444,\"#bd3786\"],[0.5555555555555556,\"#d8576b\"],[0.6666666666666666,\"#ed7953\"],[0.7777777777777778,\"#fb9f3a\"],[0.8888888888888888,\"#fdca26\"],[1.0,\"#f0f921\"]],\"type\":\"histogram2d\"}],\"histogram2dcontour\":[{\"colorbar\":{\"outlinewidth\":0,\"ticks\":\"\"},\"colorscale\":[[0.0,\"#0d0887\"],[0.1111111111111111,\"#46039f\"],[0.2222222222222222,\"#7201a8\"],[0.3333333333333333,\"#9c179e\"],[0.4444444444444444,\"#bd3786\"],[0.5555555555555556,\"#d8576b\"],[0.6666666666666666,\"#ed7953\"],[0.7777777777777778,\"#fb9f3a\"],[0.8888888888888888,\"#fdca26\"],[1.0,\"#f0f921\"]],\"type\":\"histogram2dcontour\"}],\"mesh3d\":[{\"colorbar\":{\"outlinewidth\":0,\"ticks\":\"\"},\"type\":\"mesh3d\"}],\"parcoords\":[{\"line\":{\"colorbar\":{\"outlinewidth\":0,\"ticks\":\"\"}},\"type\":\"parcoords\"}],\"pie\":[{\"automargin\":true,\"type\":\"pie\"}],\"scatter\":[{\"marker\":{\"colorbar\":{\"outlinewidth\":0,\"ticks\":\"\"}},\"type\":\"scatter\"}],\"scatter3d\":[{\"line\":{\"colorbar\":{\"outlinewidth\":0,\"ticks\":\"\"}},\"marker\":{\"colorbar\":{\"outlinewidth\":0,\"ticks\":\"\"}},\"type\":\"scatter3d\"}],\"scattercarpet\":[{\"marker\":{\"colorbar\":{\"outlinewidth\":0,\"ticks\":\"\"}},\"type\":\"scattercarpet\"}],\"scattergeo\":[{\"marker\":{\"colorbar\":{\"outlinewidth\":0,\"ticks\":\"\"}},\"type\":\"scattergeo\"}],\"scattergl\":[{\"marker\":{\"colorbar\":{\"outlinewidth\":0,\"ticks\":\"\"}},\"type\":\"scattergl\"}],\"scattermapbox\":[{\"marker\":{\"colorbar\":{\"outlinewidth\":0,\"ticks\":\"\"}},\"type\":\"scattermapbox\"}],\"scatterpolar\":[{\"marker\":{\"colorbar\":{\"outlinewidth\":0,\"ticks\":\"\"}},\"type\":\"scatterpolar\"}],\"scatterpolargl\":[{\"marker\":{\"colorbar\":{\"outlinewidth\":0,\"ticks\":\"\"}},\"type\":\"scatterpolargl\"}],\"scatterternary\":[{\"marker\":{\"colorbar\":{\"outlinewidth\":0,\"ticks\":\"\"}},\"type\":\"scatterternary\"}],\"surface\":[{\"colorbar\":{\"outlinewidth\":0,\"ticks\":\"\"},\"colorscale\":[[0.0,\"#0d0887\"],[0.1111111111111111,\"#46039f\"],[0.2222222222222222,\"#7201a8\"],[0.3333333333333333,\"#9c179e\"],[0.4444444444444444,\"#bd3786\"],[0.5555555555555556,\"#d8576b\"],[0.6666666666666666,\"#ed7953\"],[0.7777777777777778,\"#fb9f3a\"],[0.8888888888888888,\"#fdca26\"],[1.0,\"#f0f921\"]],\"type\":\"surface\"}],\"table\":[{\"cells\":{\"fill\":{\"color\":\"#EBF0F8\"},\"line\":{\"color\":\"white\"}},\"header\":{\"fill\":{\"color\":\"#C8D4E3\"},\"line\":{\"color\":\"white\"}},\"type\":\"table\"}]},\"layout\":{\"annotationdefaults\":{\"arrowcolor\":\"#2a3f5f\",\"arrowhead\":0,\"arrowwidth\":1},\"autotypenumbers\":\"strict\",\"coloraxis\":{\"colorbar\":{\"outlinewidth\":0,\"ticks\":\"\"}},\"colorscale\":{\"diverging\":[[0,\"#8e0152\"],[0.1,\"#c51b7d\"],[0.2,\"#de77ae\"],[0.3,\"#f1b6da\"],[0.4,\"#fde0ef\"],[0.5,\"#f7f7f7\"],[0.6,\"#e6f5d0\"],[0.7,\"#b8e186\"],[0.8,\"#7fbc41\"],[0.9,\"#4d9221\"],[1,\"#276419\"]],\"sequential\":[[0.0,\"#0d0887\"],[0.1111111111111111,\"#46039f\"],[0.2222222222222222,\"#7201a8\"],[0.3333333333333333,\"#9c179e\"],[0.4444444444444444,\"#bd3786\"],[0.5555555555555556,\"#d8576b\"],[0.6666666666666666,\"#ed7953\"],[0.7777777777777778,\"#fb9f3a\"],[0.8888888888888888,\"#fdca26\"],[1.0,\"#f0f921\"]],\"sequentialminus\":[[0.0,\"#0d0887\"],[0.1111111111111111,\"#46039f\"],[0.2222222222222222,\"#7201a8\"],[0.3333333333333333,\"#9c179e\"],[0.4444444444444444,\"#bd3786\"],[0.5555555555555556,\"#d8576b\"],[0.6666666666666666,\"#ed7953\"],[0.7777777777777778,\"#fb9f3a\"],[0.8888888888888888,\"#fdca26\"],[1.0,\"#f0f921\"]]},\"colorway\":[\"#636efa\",\"#EF553B\",\"#00cc96\",\"#ab63fa\",\"#FFA15A\",\"#19d3f3\",\"#FF6692\",\"#B6E880\",\"#FF97FF\",\"#FECB52\"],\"font\":{\"color\":\"#2a3f5f\"},\"geo\":{\"bgcolor\":\"white\",\"lakecolor\":\"white\",\"landcolor\":\"#E5ECF6\",\"showlakes\":true,\"showland\":true,\"subunitcolor\":\"white\"},\"hoverlabel\":{\"align\":\"left\"},\"hovermode\":\"closest\",\"mapbox\":{\"style\":\"light\"},\"paper_bgcolor\":\"white\",\"plot_bgcolor\":\"#E5ECF6\",\"polar\":{\"angularaxis\":{\"gridcolor\":\"white\",\"linecolor\":\"white\",\"ticks\":\"\"},\"bgcolor\":\"#E5ECF6\",\"radialaxis\":{\"gridcolor\":\"white\",\"linecolor\":\"white\",\"ticks\":\"\"}},\"scene\":{\"xaxis\":{\"backgroundcolor\":\"#E5ECF6\",\"gridcolor\":\"white\",\"gridwidth\":2,\"linecolor\":\"white\",\"showbackground\":true,\"ticks\":\"\",\"zerolinecolor\":\"white\"},\"yaxis\":{\"backgroundcolor\":\"#E5ECF6\",\"gridcolor\":\"white\",\"gridwidth\":2,\"linecolor\":\"white\",\"showbackground\":true,\"ticks\":\"\",\"zerolinecolor\":\"white\"},\"zaxis\":{\"backgroundcolor\":\"#E5ECF6\",\"gridcolor\":\"white\",\"gridwidth\":2,\"linecolor\":\"white\",\"showbackground\":true,\"ticks\":\"\",\"zerolinecolor\":\"white\"}},\"shapedefaults\":{\"line\":{\"color\":\"#2a3f5f\"}},\"ternary\":{\"aaxis\":{\"gridcolor\":\"white\",\"linecolor\":\"white\",\"ticks\":\"\"},\"baxis\":{\"gridcolor\":\"white\",\"linecolor\":\"white\",\"ticks\":\"\"},\"bgcolor\":\"#E5ECF6\",\"caxis\":{\"gridcolor\":\"white\",\"linecolor\":\"white\",\"ticks\":\"\"}},\"title\":{\"x\":0.05},\"xaxis\":{\"automargin\":true,\"gridcolor\":\"white\",\"linecolor\":\"white\",\"ticks\":\"\",\"title\":{\"standoff\":15},\"zerolinecolor\":\"white\",\"zerolinewidth\":2},\"yaxis\":{\"automargin\":true,\"gridcolor\":\"white\",\"linecolor\":\"white\",\"ticks\":\"\",\"title\":{\"standoff\":15},\"zerolinecolor\":\"white\",\"zerolinewidth\":2}}},\"legend\":{\"tracegroupgap\":0},\"margin\":{\"t\":10,\"l\":10,\"r\":10,\"b\":10}},                        {\"responsive\": true}                    ).then(function(){\n",
       "                            \n",
       "var gd = document.getElementById('52f29d38-bf1c-49f0-90e4-bec20adf6b69');\n",
       "var x = new MutationObserver(function (mutations, observer) {{\n",
       "        var display = window.getComputedStyle(gd).display;\n",
       "        if (!display || display === 'none') {{\n",
       "            console.log([gd, 'removed!']);\n",
       "            Plotly.purge(gd);\n",
       "            observer.disconnect();\n",
       "        }}\n",
       "}});\n",
       "\n",
       "// Listen for the removal of the full notebook cells\n",
       "var notebookContainer = gd.closest('#notebook-container');\n",
       "if (notebookContainer) {{\n",
       "    x.observe(notebookContainer, {childList: true});\n",
       "}}\n",
       "\n",
       "// Listen for the clearing of the current output cell\n",
       "var outputEl = gd.closest('.output');\n",
       "if (outputEl) {{\n",
       "    x.observe(outputEl, {childList: true});\n",
       "}}\n",
       "\n",
       "                        })                };                });            </script>        </div>"
      ]
     },
     "metadata": {},
     "output_type": "display_data"
    }
   ],
   "source": [
    "import plotly.express as px\n",
    "df = reports[\"ET_REPORT_2021\"]\n",
    "fig = px.treemap(df, path=[px.Constant(\"2021 COMPANIES\"), '2021 COMPANY TYPE','COMPANY NAME'], \n",
    "                 values='2021 MARKET CAP(₹ Cr)', color='2021 COMPANY TYPE', \n",
    "                  hover_name = reports[\"ET_REPORT_2021\"][\"2021 MARKET CAP(₹ Cr)_%CHANGE\"])\n",
    "fig.update_layout(margin = dict(t=10, l=10, r=10, b=10))\n",
    "fig.show()"
   ]
  },
  {
   "cell_type": "code",
   "execution_count": null,
   "metadata": {},
   "outputs": [
    {
     "data": {
      "application/vnd.plotly.v1+json": {
       "config": {
        "plotlyServerURL": "https://plot.ly"
       },
       "data": [
        {
         "hovertemplate": "<b>%{hovertext}</b><br><br>2019 COMPANY TYPE=%{y}<br>2019 MARKET CAP(₹ Cr)=%{marker.size}<extra></extra>",
         "hovertext": [
          "Reliance Industries Ltd.",
          "State Bank of India",
          "Indian Oil Corporation Ltd.",
          "Oil And Natural Gas Corporation Ltd.",
          "Rajesh Exports Ltd.",
          "Tata Motors Ltd.",
          "Bharat Petroleum Corporation Ltd.",
          "Hindustan Petroleum Corporation Ltd.",
          "Tata Consultancy Services Ltd.",
          "ICICI Bank Ltd.",
          "Tata Steel Ltd.",
          "HDFC Bank Ltd.",
          "Larsen & Toubro Ltd.",
          "Housing Development Finance Corporation Ltd.",
          "Hindalco Industries Ltd.",
          "NTPC Ltd.",
          "Bharti Airtel Ltd.",
          "Infosys Ltd.",
          "Punjab National Bank",
          "Coal India Ltd.",
          "Vedanta Ltd.",
          "Bank of Baroda",
          "ICICI Prudential Life Insurance Company Ltd.",
          "SBI Life Insurance Company Ltd.",
          "Axis Bank Ltd.",
          "JSW Steel Ltd.",
          "Grasim Industries Ltd.",
          "Mahindra & Mahindra Ltd.",
          "HCL Technologies Ltd.",
          "Maruti Suzuki India Ltd.",
          "HDFC Life Insurance Company Ltd.",
          "Power Finance Corporation Ltd.",
          "Wipro Ltd.",
          "Bajaj Finserv Ltd.",
          "GAIL (India) Ltd.",
          "Motherson Sumi Systems Ltd.",
          "Kotak Mahindra Bank Ltd.",
          "ITC Ltd.",
          "General Insurance Corporation of India",
          "Bank of India",
          "Hindustan Unilever Ltd.",
          "UltraTech Cement Ltd.",
          "Power Grid Corporation of India Ltd.",
          "Adani Enterprises Ltd.",
          "UPL Ltd.",
          "Tech Mahindra Ltd.",
          "REC Ltd.",
          "IndusInd Bank Ltd.",
          "Sun Pharmaceutical Industries Ltd.",
          "The New India Assurance Company Ltd.",
          "Hero MotoCorp Ltd.",
          "Bajaj Auto Ltd.",
          "Aurobindo Pharma Ltd.",
          "Adani Power Ltd.",
          "Bajaj Finance Ltd.",
          "Petronet LNG Ltd.",
          "Ambuja Cements Ltd.",
          "IDBI Bank Ltd.",
          "Hindustan Zinc Ltd.",
          "Avenue Supermarts Ltd.",
          "Hindustan Aeronautics Ltd.",
          "Asian Paints Ltd.",
          "Titan Company Ltd.",
          "Ashok Leyland Ltd.",
          "LIC Housing Finance Ltd.",
          "Aditya Birla Capital Ltd.",
          "TVS Motor Company Ltd.",
          "Cipla Ltd.",
          "Dr. Reddy's Laboratories Ltd.",
          "IDFC First Bank Ltd.",
          "Shriram Transport Finance Company Ltd.",
          "MRF Ltd.",
          "NMDC Ltd.",
          "InterGlobe Aviation Ltd.",
          "Lupin Ltd.",
          "Adani Ports & Special Economic Zone Ltd.",
          "Indus Towers Ltd.",
          "Cadila Healthcare Ltd.",
          "Bandhan Bank Ltd.",
          "L&T Finance Holdings Ltd.",
          "Bharat Electronics Ltd.",
          "ACC Ltd.",
          "Shree Cements Ltd.",
          "Piramal Enterprises Ltd.",
          "Nestle India Ltd.",
          "Britannia Industries Ltd.",
          "ICICI Lombard General Insurance Company Ltd.",
          "Larsen & Toubro Infotech Ltd.",
          "Mahindra & Mahindra Financial Services Ltd.",
          "Muthoot Finance Ltd.",
          "Godrej Consumer Products Ltd.",
          "NHPC Ltd.",
          "Adani Transmission Ltd.",
          "Havells India Ltd.",
          "Siemens Ltd.",
          "Bosch Ltd.",
          "Dabur India Ltd.",
          "Cholamandalam Investment & Finance Company Ltd.",
          "Eicher Motors Ltd.",
          "Alkem Laboratories Ltd.",
          "Marico Ltd.",
          "United Spirits Ltd.",
          "Torrent Pharmaceuticals Ltd.",
          "Zee Entertainment Enterprises Ltd.",
          "Voltas Ltd.",
          "Varun Beverages Ltd.",
          "Whirlpool of India Ltd.",
          "Pidilite Industries Ltd.",
          "Biocon Ltd.",
          "Divi's Laboratories Ltd.",
          "Berger Paints (India) Ltd.",
          "Container Corporation of India Ltd.",
          "Bharat Forge Ltd.",
          "Au Small Finance Bank Ltd.",
          "ABB India Ltd.",
          "DLF Ltd.",
          "Kansai Nerolac Paints Ltd.",
          "Indraprastha Gas Ltd.",
          "Oracle Financial Services Software Ltd.",
          "Colgate-Palmolive (India) Ltd.",
          "Abbott India Ltd.",
          "United Breweries Ltd.",
          "Procter & Gamble Hygiene & Healthcare Ltd.",
          "Jubilant Foodworks Ltd.",
          "GlaxoSmithKline Pharmaceuticals Ltd.",
          "Honeywell Automation India Ltd.",
          "Page Industries Ltd.",
          "3M India Ltd."
         ],
         "legendgroup": "Large-Cap",
         "marker": {
          "color": "#636efa",
          "size": [
           949280,
           290140,
           125768,
           172135,
           20200,
           48588,
           111550,
           45237,
           799565,
           318508,
           45758,
           691980,
           195557,
           386084,
           44147,
           116721,
           207156,
           300107,
           29309,
           126223,
           55138,
           39026,
           73315,
           97023,
           207918,
           60545,
           51164,
           70212,
           154495,
           218163,
           117667,
           30178,
           150850,
           142966,
           57452,
           41390,
           305362,
           311546,
           47025,
           23430,
           451807,
           118658,
           101447,
           22678,
           42810,
           73731,
           27476,
           99094,
           104709,
           25249,
           50973,
           92776,
           25922,
           24808,
           244755,
           41521,
           40011,
           34522,
           89331,
           118206,
           26206,
           167782,
           104761,
           23364,
           21730,
           21060,
           21701,
           37803,
           47169,
           20611,
           25709,
           26962,
           31762,
           55842,
           34487,
           76616,
           42691,
           25012,
           86375,
           20106,
           26688,
           28213,
           70464,
           35260,
           139150,
           75697,
           61087,
           29091,
           20938,
           27695,
           73870,
           23661,
           30530,
           42358,
           56416,
           46092,
           82478,
           24436,
           60032,
           24460,
           46677,
           45108,
           30383,
           29264,
           23099,
           20699,
           27955,
           67715,
           31464,
           46093,
           47662,
           34786,
           21068,
           22577,
           30764,
           51257,
           28802,
           28652,
           26126,
           41745,
           25953,
           32812,
           36799,
           21114,
           27779,
           24627,
           25872,
           25230
          ],
          "sizemode": "area",
          "sizeref": 94.928,
          "symbol": "circle"
         },
         "mode": "markers",
         "name": "Large-Cap",
         "orientation": "h",
         "showlegend": true,
         "type": "scatter",
         "x": [
          949280,
          290140,
          125768,
          172135,
          20200,
          48588,
          111550,
          45237,
          799565,
          318508,
          45758,
          691980,
          195557,
          386084,
          44147,
          116721,
          207156,
          300107,
          29309,
          126223,
          55138,
          39026,
          73315,
          97023,
          207918,
          60545,
          51164,
          70212,
          154495,
          218163,
          117667,
          30178,
          150850,
          142966,
          57452,
          41390,
          305362,
          311546,
          47025,
          23430,
          451807,
          118658,
          101447,
          22678,
          42810,
          73731,
          27476,
          99094,
          104709,
          25249,
          50973,
          92776,
          25922,
          24808,
          244755,
          41521,
          40011,
          34522,
          89331,
          118206,
          26206,
          167782,
          104761,
          23364,
          21730,
          21060,
          21701,
          37803,
          47169,
          20611,
          25709,
          26962,
          31762,
          55842,
          34487,
          76616,
          42691,
          25012,
          86375,
          20106,
          26688,
          28213,
          70464,
          35260,
          139150,
          75697,
          61087,
          29091,
          20938,
          27695,
          73870,
          23661,
          30530,
          42358,
          56416,
          46092,
          82478,
          24436,
          60032,
          24460,
          46677,
          45108,
          30383,
          29264,
          23099,
          20699,
          27955,
          67715,
          31464,
          46093,
          47662,
          34786,
          21068,
          22577,
          30764,
          51257,
          28802,
          28652,
          26126,
          41745,
          25953,
          32812,
          36799,
          21114,
          27779,
          24627,
          25872,
          25230
         ],
         "xaxis": "x",
         "y": [
          "Large-Cap",
          "Large-Cap",
          "Large-Cap",
          "Large-Cap",
          "Large-Cap",
          "Large-Cap",
          "Large-Cap",
          "Large-Cap",
          "Large-Cap",
          "Large-Cap",
          "Large-Cap",
          "Large-Cap",
          "Large-Cap",
          "Large-Cap",
          "Large-Cap",
          "Large-Cap",
          "Large-Cap",
          "Large-Cap",
          "Large-Cap",
          "Large-Cap",
          "Large-Cap",
          "Large-Cap",
          "Large-Cap",
          "Large-Cap",
          "Large-Cap",
          "Large-Cap",
          "Large-Cap",
          "Large-Cap",
          "Large-Cap",
          "Large-Cap",
          "Large-Cap",
          "Large-Cap",
          "Large-Cap",
          "Large-Cap",
          "Large-Cap",
          "Large-Cap",
          "Large-Cap",
          "Large-Cap",
          "Large-Cap",
          "Large-Cap",
          "Large-Cap",
          "Large-Cap",
          "Large-Cap",
          "Large-Cap",
          "Large-Cap",
          "Large-Cap",
          "Large-Cap",
          "Large-Cap",
          "Large-Cap",
          "Large-Cap",
          "Large-Cap",
          "Large-Cap",
          "Large-Cap",
          "Large-Cap",
          "Large-Cap",
          "Large-Cap",
          "Large-Cap",
          "Large-Cap",
          "Large-Cap",
          "Large-Cap",
          "Large-Cap",
          "Large-Cap",
          "Large-Cap",
          "Large-Cap",
          "Large-Cap",
          "Large-Cap",
          "Large-Cap",
          "Large-Cap",
          "Large-Cap",
          "Large-Cap",
          "Large-Cap",
          "Large-Cap",
          "Large-Cap",
          "Large-Cap",
          "Large-Cap",
          "Large-Cap",
          "Large-Cap",
          "Large-Cap",
          "Large-Cap",
          "Large-Cap",
          "Large-Cap",
          "Large-Cap",
          "Large-Cap",
          "Large-Cap",
          "Large-Cap",
          "Large-Cap",
          "Large-Cap",
          "Large-Cap",
          "Large-Cap",
          "Large-Cap",
          "Large-Cap",
          "Large-Cap",
          "Large-Cap",
          "Large-Cap",
          "Large-Cap",
          "Large-Cap",
          "Large-Cap",
          "Large-Cap",
          "Large-Cap",
          "Large-Cap",
          "Large-Cap",
          "Large-Cap",
          "Large-Cap",
          "Large-Cap",
          "Large-Cap",
          "Large-Cap",
          "Large-Cap",
          "Large-Cap",
          "Large-Cap",
          "Large-Cap",
          "Large-Cap",
          "Large-Cap",
          "Large-Cap",
          "Large-Cap",
          "Large-Cap",
          "Large-Cap",
          "Large-Cap",
          "Large-Cap",
          "Large-Cap",
          "Large-Cap",
          "Large-Cap",
          "Large-Cap",
          "Large-Cap",
          "Large-Cap",
          "Large-Cap",
          "Large-Cap",
          "Large-Cap",
          "Large-Cap"
         ],
         "yaxis": "y"
        },
        {
         "hovertemplate": "<b>%{hovertext}</b><br><br>2019 COMPANY TYPE=%{y}<br>2019 MARKET CAP(₹ Cr)=%{marker.size}<extra></extra>",
         "hovertext": [
          "Canara Bank",
          "Union Bank of India",
          "Steel Authority of India (SAIL) Ltd.",
          "Jindal Steel & Power Ltd.",
          "Indian Bank",
          "Vodafone Idea Ltd.",
          "Tata Power Company Ltd.",
          "Mangalore Refinery And Petrochemicals Ltd.",
          "Max Financial Services Ltd.",
          "Central Bank of India",
          "YES Bank Ltd.",
          "Indian Overseas Bank",
          "Oil India Ltd.",
          "UCO Bank",
          "Bharat Heavy Electricals Ltd.",
          "Apollo Tyres Ltd.",
          "Tata Communications Ltd.",
          "Federal Bank Ltd.",
          "Exide Industries Ltd.",
          "Bank of Maharashtra",
          "Coromandel International Ltd.",
          "Cholamandalam Financial Holdings Ltd.",
          "Bombay Burmah Trading Corporation Ltd.",
          "Kalpataru Power Transmissions Ltd.",
          "Chambal Fertilisers & Chemicals Ltd.",
          "KEC International Ltd.",
          "NLC India Ltd.",
          "Torrent Power Ltd.",
          "CESC Ltd.",
          "Tata Consumer Products Ltd.",
          "Gujarat State Petronet Ltd.",
          "Glenmark Pharmaceuticals Ltd.",
          "Quess Corp Ltd.",
          "Edelweiss Financial Services Ltd.",
          "Tata Chemicals Ltd.",
          "Apollo Hospitals Enterprise Ltd.",
          "RBL Bank Ltd.",
          "Godrej Industries Ltd.",
          "Dilip Buildcon Ltd.",
          "Indiabulls Housing Finance Ltd.",
          "Gujarat Gas Ltd.",
          "MphasiS Ltd.",
          "SIS Ltd.",
          "National Aluminium Company Ltd.",
          "Prestige Estates Projects Ltd.",
          "DCM Shriram Ltd.",
          "Aster DM Healthcare Ltd.",
          "SRF Ltd.",
          "MindTree Ltd.",
          "PNB Housing Finance Ltd.",
          "Welspun India Ltd.",
          "Housing and Urban Development Corporation Ltd.",
          "Amara Raja Batteries Ltd.",
          "JSW Energy Ltd.",
          "Escorts Ltd.",
          "NBCC (India) Ltd.",
          "GMR Infrastructure Ltd.",
          "JK Cement Ltd.",
          "Endurance Technologies Ltd.",
          "Future Retail Ltd.",
          "Supreme Industries Ltd.",
          "Minda Industries Ltd.",
          "Jubilant Pharmova Ltd.",
          "Manappuram Finance Ltd.",
          "Vardhman Textiles Ltd.",
          "Godrej Agrovet Ltd.",
          "Tube Investments of India Ltd.",
          "Shriram City Union Finance Ltd.",
          "Mahindra CIE Automotive Ltd.",
          "Spicejet Ltd.",
          "Balkrishna Industries Ltd.",
          "L&T Technology Services Ltd.",
          "Hatsun Agro Products Ltd.",
          "Ipca Laboratories Ltd.",
          "Alembic Pharmaceuticals Ltd.",
          "Aditya Birla Fashion and Retail Ltd.",
          "The Ramco Cements Ltd.",
          "Sundaram Finance Ltd.",
          "Thermax Ltd.",
          "Sterlite Technologies Ltd.",
          "Crompton Greaves Consumer Electricals Ltd.",
          "City Union Bank Ltd.",
          "Cummins India Ltd.",
          "PI Industries Ltd.",
          "Coforge Ltd.",
          "Aarti Industries Ltd.",
          "Bayer Cropscience Ltd.",
          "Blue Star Ltd.",
          "Fortis Healthcare Ltd.",
          "Avanti Feeds Ltd.",
          "DCB Bank Ltd.",
          "Aegis Logistics Ltd.",
          "Atul Ltd.",
          "Sundram Fasteners Ltd.",
          "SJVN Ltd.",
          "Motilal Oswal Financial Services Ltd.",
          "Finolex Industries Ltd.",
          "Sun TV Network Ltd.",
          "Blue Dart Express Ltd.",
          "JM Financial Ltd.",
          "Astral Ltd.",
          "Finolex Cables Ltd.",
          "Castrol India Ltd.",
          "AIA Engineering Ltd.",
          "Cochin Shipyard Ltd.",
          "Sanofi India Ltd.",
          "Emami Ltd.",
          "Kajaria Ceramics Ltd.",
          "Galaxy Surfactants Ltd.",
          "Trent Ltd.",
          "V-Guard Industries Ltd.",
          "SKF India Ltd.",
          "Carborundum Universal Ltd.",
          "Godfrey Phillips India Ltd.",
          "Narayana Hrudayalaya Ltd.",
          "Akzo Nobel India Ltd.",
          "Future Lifestyle Fashions Ltd.",
          "Pfizer Ltd.",
          "Graphite India Ltd.",
          "Mahanagar Gas Ltd.",
          "Bharat Dynamics Ltd."
         ],
         "legendgroup": "Mid-Cap",
         "marker": {
          "color": "#EF553B",
          "size": [
           16129,
           18142,
           15922,
           14789,
           6069,
           14637,
           15377,
           8561,
           12916,
           8934,
           17121,
           9623,
           17462,
           11549,
           19171,
           9734,
           10603,
           17192,
           16213,
           7097,
           13806,
           8976,
           8034,
           6952,
           6636,
           7084,
           7660,
           13810,
           10114,
           19097,
           12255,
           9127,
           7774,
           10895,
           16440,
           19897,
           14389,
           14573,
           5647,
           10153,
           13662,
           16642,
           6768,
           8541,
           11251,
           5376,
           7441,
           17985,
           11572,
           9307,
           5470,
           8347,
           12343,
           11962,
           8015,
           6839,
           12808,
           8936,
           15363,
           17355,
           14491,
           9147,
           8295,
           13846,
           5124,
           9324,
           8409,
           8789,
           5619,
           6621,
           16617,
           15202,
           9540,
           13818,
           10635,
           16458,
           18730,
           17996,
           12632,
           5123,
           15986,
           15716,
           15463,
           19632,
           9501,
           14449,
           15579,
           7678,
           11047,
           6961,
           5594,
           6030,
           12230,
           9810,
           9667,
           10646,
           7207,
           19712,
           5173,
           7481,
           16415,
           5615,
           14637,
           15683,
           5315,
           15532,
           14508,
           11803,
           5391,
           18304,
           10072,
           10643,
           5934,
           6211,
           5949,
           9119,
           8105,
           18471,
           5995,
           9984,
           6147
          ],
          "sizemode": "area",
          "sizeref": 94.928,
          "symbol": "circle"
         },
         "mode": "markers",
         "name": "Mid-Cap",
         "orientation": "h",
         "showlegend": true,
         "type": "scatter",
         "x": [
          16129,
          18142,
          15922,
          14789,
          6069,
          14637,
          15377,
          8561,
          12916,
          8934,
          17121,
          9623,
          17462,
          11549,
          19171,
          9734,
          10603,
          17192,
          16213,
          7097,
          13806,
          8976,
          8034,
          6952,
          6636,
          7084,
          7660,
          13810,
          10114,
          19097,
          12255,
          9127,
          7774,
          10895,
          16440,
          19897,
          14389,
          14573,
          5647,
          10153,
          13662,
          16642,
          6768,
          8541,
          11251,
          5376,
          7441,
          17985,
          11572,
          9307,
          5470,
          8347,
          12343,
          11962,
          8015,
          6839,
          12808,
          8936,
          15363,
          17355,
          14491,
          9147,
          8295,
          13846,
          5124,
          9324,
          8409,
          8789,
          5619,
          6621,
          16617,
          15202,
          9540,
          13818,
          10635,
          16458,
          18730,
          17996,
          12632,
          5123,
          15986,
          15716,
          15463,
          19632,
          9501,
          14449,
          15579,
          7678,
          11047,
          6961,
          5594,
          6030,
          12230,
          9810,
          9667,
          10646,
          7207,
          19712,
          5173,
          7481,
          16415,
          5615,
          14637,
          15683,
          5315,
          15532,
          14508,
          11803,
          5391,
          18304,
          10072,
          10643,
          5934,
          6211,
          5949,
          9119,
          8105,
          18471,
          5995,
          9984,
          6147
         ],
         "xaxis": "x",
         "y": [
          "Mid-Cap",
          "Mid-Cap",
          "Mid-Cap",
          "Mid-Cap",
          "Mid-Cap",
          "Mid-Cap",
          "Mid-Cap",
          "Mid-Cap",
          "Mid-Cap",
          "Mid-Cap",
          "Mid-Cap",
          "Mid-Cap",
          "Mid-Cap",
          "Mid-Cap",
          "Mid-Cap",
          "Mid-Cap",
          "Mid-Cap",
          "Mid-Cap",
          "Mid-Cap",
          "Mid-Cap",
          "Mid-Cap",
          "Mid-Cap",
          "Mid-Cap",
          "Mid-Cap",
          "Mid-Cap",
          "Mid-Cap",
          "Mid-Cap",
          "Mid-Cap",
          "Mid-Cap",
          "Mid-Cap",
          "Mid-Cap",
          "Mid-Cap",
          "Mid-Cap",
          "Mid-Cap",
          "Mid-Cap",
          "Mid-Cap",
          "Mid-Cap",
          "Mid-Cap",
          "Mid-Cap",
          "Mid-Cap",
          "Mid-Cap",
          "Mid-Cap",
          "Mid-Cap",
          "Mid-Cap",
          "Mid-Cap",
          "Mid-Cap",
          "Mid-Cap",
          "Mid-Cap",
          "Mid-Cap",
          "Mid-Cap",
          "Mid-Cap",
          "Mid-Cap",
          "Mid-Cap",
          "Mid-Cap",
          "Mid-Cap",
          "Mid-Cap",
          "Mid-Cap",
          "Mid-Cap",
          "Mid-Cap",
          "Mid-Cap",
          "Mid-Cap",
          "Mid-Cap",
          "Mid-Cap",
          "Mid-Cap",
          "Mid-Cap",
          "Mid-Cap",
          "Mid-Cap",
          "Mid-Cap",
          "Mid-Cap",
          "Mid-Cap",
          "Mid-Cap",
          "Mid-Cap",
          "Mid-Cap",
          "Mid-Cap",
          "Mid-Cap",
          "Mid-Cap",
          "Mid-Cap",
          "Mid-Cap",
          "Mid-Cap",
          "Mid-Cap",
          "Mid-Cap",
          "Mid-Cap",
          "Mid-Cap",
          "Mid-Cap",
          "Mid-Cap",
          "Mid-Cap",
          "Mid-Cap",
          "Mid-Cap",
          "Mid-Cap",
          "Mid-Cap",
          "Mid-Cap",
          "Mid-Cap",
          "Mid-Cap",
          "Mid-Cap",
          "Mid-Cap",
          "Mid-Cap",
          "Mid-Cap",
          "Mid-Cap",
          "Mid-Cap",
          "Mid-Cap",
          "Mid-Cap",
          "Mid-Cap",
          "Mid-Cap",
          "Mid-Cap",
          "Mid-Cap",
          "Mid-Cap",
          "Mid-Cap",
          "Mid-Cap",
          "Mid-Cap",
          "Mid-Cap",
          "Mid-Cap",
          "Mid-Cap",
          "Mid-Cap",
          "Mid-Cap",
          "Mid-Cap",
          "Mid-Cap",
          "Mid-Cap",
          "Mid-Cap",
          "Mid-Cap",
          "Mid-Cap",
          "Mid-Cap"
         ],
         "yaxis": "y"
        },
        {
         "hovertemplate": "<b>%{hovertext}</b><br><br>2019 COMPANY TYPE=%{y}<br>2019 MARKET CAP(₹ Cr)=%{marker.size}<extra></extra>",
         "hovertext": [
          "Redington (India) Ltd.",
          "MMTC Ltd.",
          "Chennai Petroleum Corporation Ltd.",
          "Tata Steel BSL Ltd.",
          "Sundaram Clayton Ltd.",
          "Reliance Infrastructure Ltd.",
          "Reliance Capital Ltd.",
          "EID Parry (India) Ltd.",
          "PTC India Ltd.",
          "Jindal Stainless Ltd.",
          "National Fertilizers Ltd.",
          "Rain Industries Ltd.",
          "Jindal Saw Ltd.",
          "Allcargo Logistics Ltd.",
          "BASF India Ltd.",
          "Jindal Stainless (Hisar) Ltd.",
          "JK Tyre & Industries Ltd.",
          "Uflex Ltd.",
          "Alok Industries Ltd.",
          "Jammu & Kashmir Bank Ltd.",
          "APL Apollo Tubes Ltd.",
          "Kama Holdings Ltd.",
          "South Indian Bank Ltd.",
          "Rashtriya Chemicals & Fertilizers Ltd.",
          "Reliance Power Ltd.",
          "Gokul Agro Resources Ltd.",
          "Hindustan Construction Company Ltd.",
          "NCC Ltd.",
          "Punjab & Sind Bank",
          "Gujarat State Fertilizer & Chemicals Ltd.",
          "Karnataka Bank Ltd.",
          "Ceat Ltd.",
          "Birla Corporation Ltd.",
          "Welspun Corp Ltd.",
          "Bajaj Hindusthan Sugar Ltd.",
          "Jaiprakash Associates Ltd.",
          "Karur Vysya Bank Ltd.",
          "Dixon Technologies (India) Ltd.",
          "Apar Industries Ltd.",
          "PDS Multinational Fashions Ltd.",
          "Jain Irrigation Systems Ltd.",
          "IIFL Finance Ltd.",
          "Shree Renuka Sugars Ltd.",
          "PNC Infratech Ltd.",
          "Deepak Fertilisers & Petrochemicals Corporation Ltd.",
          "Hinduja Global Solutions Ltd.",
          "Prism Johnson Ltd.",
          "Surya Roshni Ltd.",
          "IRB Infrastructure Developers Ltd.",
          "ISGEC Heavy Engineering Ltd.",
          "Gujarat Narmada Valley Fertilizers & Chemicals Ltd.",
          "Ashoka Buildcon Ltd.",
          "Arvind Ltd.",
          "Firstsource Solutions Ltd.",
          "Polyplex Corporation Ltd.",
          "TeamLease Services Ltd.",
          "Balrampur Chini Mills Ltd.",
          "Laurus Labs Ltd.",
          "JK Lakshmi Cement Ltd.",
          "Gujarat Ambuja Exports Ltd.",
          "Triveni Engineering & Industries Ltd.",
          "LT Foods Ltd.",
          "Bajaj Electricals Ltd.",
          "India Cements Ltd.",
          "Trident Ltd.",
          "HFCL Ltd.",
          "Persistent Systems Ltd.",
          "Cyient Ltd.",
          "Sonata Software Ltd.",
          "Jindal Poly Films Ltd.",
          "KEI Industries Ltd.",
          "Suzlon Energy Ltd.",
          "Dhampur Sugar Mills Ltd.",
          "Godawari Power & Ispat Ltd.",
          "KRBL Ltd.",
          "Gayatri Projects Ltd.",
          "Shipping Corporation of India Ltd.",
          "JMC Projects (India) Ltd.",
          "Wockhardt Ltd.",
          "Zensar Technologies Ltd.",
          "Jayaswal Neco Industries Ltd.",
          "Raymond Ltd.",
          "BEML Ltd.",
          "Jaiprakash Power Ventures Ltd.",
          "Birlasoft Ltd.",
          "KPR Mill Ltd.",
          "Great Eastern Shipping Company Ltd.",
          "Electrosteel Castings Ltd.",
          "IFB Industries Ltd.",
          "GE T&D India Ltd.",
          "Strides Pharma Science Ltd.",
          "SREI Infrastructure Finance Ltd.",
          "Mukand Ltd.",
          "Prakash Industries Ltd.",
          "The Fertilisers and Chemicals Travancore Ltd.",
          "Kirloskar Oil Engines Ltd.",
          "Mahindra Logistics Ltd.",
          "Dish TV India Ltd.",
          "Tamil Nadu Newsprint And Papers Ltd.",
          "Supreme Petrochem Ltd.",
          "Kothari Products Ltd.",
          "Venky's (India) Ltd.",
          "JK Paper Ltd.",
          "EPL Ltd.",
          "CG Power and Industrial Solutions Ltd.",
          "Amber Enterprises India Ltd.",
          "KNR Constructions Ltd.",
          "Paul Merchants Ltd.",
          "Time Technoplast Ltd.",
          "Kesoram Industries Ltd.",
          "Forbes & Company Ltd.",
          "GHCL Ltd.",
          "Brightcom Group Ltd.",
          "PC Jeweller Ltd.",
          "Va Tech Wabag Ltd.",
          "Transport Corporation of India Ltd.",
          "Nava Bharat Ventures Ltd.",
          "Jai Balaji Industries Ltd.",
          "ITD Cementation India Ltd.",
          "Kirloskar Brothers Ltd.",
          "Century Textiles & Industries Ltd.",
          "Phillips Carbon Black Ltd.",
          "Sadbhav Engineering Ltd.",
          "Prime Focus Ltd.",
          "J Kumar Infraprojects Ltd.",
          "Orient Cement Ltd.",
          "Zuari Agro Chemicals Ltd.",
          "Religare Enterprises Ltd.",
          "Electrotherm (India) Ltd.",
          "Gujarat Alkalies & Chemicals Ltd.",
          "Heritage Foods Ltd.",
          "Huhtamaki India Ltd.",
          "Asahi India Glass Ltd.",
          "Wheels India Ltd.",
          "Minda Corporation Ltd.",
          "Maharashtra Seamless Ltd.",
          "RSWM Ltd.",
          "Poonawalla Fincorp Ltd.",
          "India Glycols Ltd.",
          "Himatsingka Seide Ltd.",
          "Simplex Infrastructures Ltd.",
          "Sobha Ltd.",
          "Mangalore Chemicals & Fertilizers Ltd.",
          "Patel Engineering Ltd.",
          "Century Plyboards (India) Ltd.",
          "Usha Martin Ltd.",
          "Nilkamal Ltd.",
          "IFCI Ltd.",
          "Rane Holdings Ltd.",
          "Shankara Building Products Ltd.",
          "Force Motors Ltd."
         ],
         "legendgroup": "Small-Cap",
         "marker": {
          "color": "#00cc96",
          "size": [
           4475,
           2782,
           2119,
           2802,
           4362,
           948,
           501,
           3179,
           1682,
           1825,
           1320,
           3458,
           2627,
           2406,
           4224,
           1678,
           1729,
           1456,
           328,
           1798,
           3671,
           3282,
           2001,
           2795,
           1103,
           175,
           1427,
           3491,
           1192,
           2945,
           2154,
           3903,
           4926,
           3652,
           774,
           524,
           4667,
           3520,
           1865,
           825,
           643,
           4556,
           1678,
           4699,
           892,
           1255,
           3576,
           945,
           2666,
           2852,
           3086,
           2687,
           1270,
           2973,
           1560,
           4462,
           3297,
           3776,
           3460,
           1627,
           1587,
           755,
           3440,
           2534,
           3241,
           2220,
           4939,
           4372,
           3224,
           985,
           4282,
           1364,
           1257,
           532,
           4817,
           1676,
           2824,
           1792,
           3071,
           4244,
           233,
           4292,
           4067,
           658,
           1863,
           4788,
           4558,
           529,
           2864,
           4467,
           3522,
           460,
           455,
           836,
           2548,
           2377,
           2786,
           2705,
           1277,
           1630,
           180,
           2474,
           2066,
           4278,
           937,
           3128,
           3378,
           118,
           1334,
           754,
           2370,
           2039,
           172,
           1280,
           953,
           2140,
           1185,
           201,
           1030,
           1135,
           4766,
           2146,
           2143,
           1842,
           1204,
           1569,
           396,
           1147,
           174,
           3081,
           1531,
           1855,
           4881,
           1505,
           2145,
           2520,
           242,
           1229,
           689,
           1350,
           287,
           3877,
           341,
           608,
           3783,
           939,
           1922,
           1292,
           1156,
           753,
           1397
          ],
          "sizemode": "area",
          "sizeref": 94.928,
          "symbol": "circle"
         },
         "mode": "markers",
         "name": "Small-Cap",
         "orientation": "h",
         "showlegend": true,
         "type": "scatter",
         "x": [
          4475,
          2782,
          2119,
          2802,
          4362,
          948,
          501,
          3179,
          1682,
          1825,
          1320,
          3458,
          2627,
          2406,
          4224,
          1678,
          1729,
          1456,
          328,
          1798,
          3671,
          3282,
          2001,
          2795,
          1103,
          175,
          1427,
          3491,
          1192,
          2945,
          2154,
          3903,
          4926,
          3652,
          774,
          524,
          4667,
          3520,
          1865,
          825,
          643,
          4556,
          1678,
          4699,
          892,
          1255,
          3576,
          945,
          2666,
          2852,
          3086,
          2687,
          1270,
          2973,
          1560,
          4462,
          3297,
          3776,
          3460,
          1627,
          1587,
          755,
          3440,
          2534,
          3241,
          2220,
          4939,
          4372,
          3224,
          985,
          4282,
          1364,
          1257,
          532,
          4817,
          1676,
          2824,
          1792,
          3071,
          4244,
          233,
          4292,
          4067,
          658,
          1863,
          4788,
          4558,
          529,
          2864,
          4467,
          3522,
          460,
          455,
          836,
          2548,
          2377,
          2786,
          2705,
          1277,
          1630,
          180,
          2474,
          2066,
          4278,
          937,
          3128,
          3378,
          118,
          1334,
          754,
          2370,
          2039,
          172,
          1280,
          953,
          2140,
          1185,
          201,
          1030,
          1135,
          4766,
          2146,
          2143,
          1842,
          1204,
          1569,
          396,
          1147,
          174,
          3081,
          1531,
          1855,
          4881,
          1505,
          2145,
          2520,
          242,
          1229,
          689,
          1350,
          287,
          3877,
          341,
          608,
          3783,
          939,
          1922,
          1292,
          1156,
          753,
          1397
         ],
         "xaxis": "x",
         "y": [
          "Small-Cap",
          "Small-Cap",
          "Small-Cap",
          "Small-Cap",
          "Small-Cap",
          "Small-Cap",
          "Small-Cap",
          "Small-Cap",
          "Small-Cap",
          "Small-Cap",
          "Small-Cap",
          "Small-Cap",
          "Small-Cap",
          "Small-Cap",
          "Small-Cap",
          "Small-Cap",
          "Small-Cap",
          "Small-Cap",
          "Small-Cap",
          "Small-Cap",
          "Small-Cap",
          "Small-Cap",
          "Small-Cap",
          "Small-Cap",
          "Small-Cap",
          "Small-Cap",
          "Small-Cap",
          "Small-Cap",
          "Small-Cap",
          "Small-Cap",
          "Small-Cap",
          "Small-Cap",
          "Small-Cap",
          "Small-Cap",
          "Small-Cap",
          "Small-Cap",
          "Small-Cap",
          "Small-Cap",
          "Small-Cap",
          "Small-Cap",
          "Small-Cap",
          "Small-Cap",
          "Small-Cap",
          "Small-Cap",
          "Small-Cap",
          "Small-Cap",
          "Small-Cap",
          "Small-Cap",
          "Small-Cap",
          "Small-Cap",
          "Small-Cap",
          "Small-Cap",
          "Small-Cap",
          "Small-Cap",
          "Small-Cap",
          "Small-Cap",
          "Small-Cap",
          "Small-Cap",
          "Small-Cap",
          "Small-Cap",
          "Small-Cap",
          "Small-Cap",
          "Small-Cap",
          "Small-Cap",
          "Small-Cap",
          "Small-Cap",
          "Small-Cap",
          "Small-Cap",
          "Small-Cap",
          "Small-Cap",
          "Small-Cap",
          "Small-Cap",
          "Small-Cap",
          "Small-Cap",
          "Small-Cap",
          "Small-Cap",
          "Small-Cap",
          "Small-Cap",
          "Small-Cap",
          "Small-Cap",
          "Small-Cap",
          "Small-Cap",
          "Small-Cap",
          "Small-Cap",
          "Small-Cap",
          "Small-Cap",
          "Small-Cap",
          "Small-Cap",
          "Small-Cap",
          "Small-Cap",
          "Small-Cap",
          "Small-Cap",
          "Small-Cap",
          "Small-Cap",
          "Small-Cap",
          "Small-Cap",
          "Small-Cap",
          "Small-Cap",
          "Small-Cap",
          "Small-Cap",
          "Small-Cap",
          "Small-Cap",
          "Small-Cap",
          "Small-Cap",
          "Small-Cap",
          "Small-Cap",
          "Small-Cap",
          "Small-Cap",
          "Small-Cap",
          "Small-Cap",
          "Small-Cap",
          "Small-Cap",
          "Small-Cap",
          "Small-Cap",
          "Small-Cap",
          "Small-Cap",
          "Small-Cap",
          "Small-Cap",
          "Small-Cap",
          "Small-Cap",
          "Small-Cap",
          "Small-Cap",
          "Small-Cap",
          "Small-Cap",
          "Small-Cap",
          "Small-Cap",
          "Small-Cap",
          "Small-Cap",
          "Small-Cap",
          "Small-Cap",
          "Small-Cap",
          "Small-Cap",
          "Small-Cap",
          "Small-Cap",
          "Small-Cap",
          "Small-Cap",
          "Small-Cap",
          "Small-Cap",
          "Small-Cap",
          "Small-Cap",
          "Small-Cap",
          "Small-Cap",
          "Small-Cap",
          "Small-Cap",
          "Small-Cap",
          "Small-Cap",
          "Small-Cap",
          "Small-Cap",
          "Small-Cap",
          "Small-Cap",
          "Small-Cap"
         ],
         "yaxis": "y"
        }
       ],
       "layout": {
        "legend": {
         "itemsizing": "constant",
         "title": {
          "text": "2019 COMPANY TYPE"
         },
         "tracegroupgap": 0
        },
        "margin": {
         "t": 60
        },
        "template": {
         "data": {
          "bar": [
           {
            "error_x": {
             "color": "#2a3f5f"
            },
            "error_y": {
             "color": "#2a3f5f"
            },
            "marker": {
             "line": {
              "color": "#E5ECF6",
              "width": 0.5
             },
             "pattern": {
              "fillmode": "overlay",
              "size": 10,
              "solidity": 0.2
             }
            },
            "type": "bar"
           }
          ],
          "barpolar": [
           {
            "marker": {
             "line": {
              "color": "#E5ECF6",
              "width": 0.5
             },
             "pattern": {
              "fillmode": "overlay",
              "size": 10,
              "solidity": 0.2
             }
            },
            "type": "barpolar"
           }
          ],
          "carpet": [
           {
            "aaxis": {
             "endlinecolor": "#2a3f5f",
             "gridcolor": "white",
             "linecolor": "white",
             "minorgridcolor": "white",
             "startlinecolor": "#2a3f5f"
            },
            "baxis": {
             "endlinecolor": "#2a3f5f",
             "gridcolor": "white",
             "linecolor": "white",
             "minorgridcolor": "white",
             "startlinecolor": "#2a3f5f"
            },
            "type": "carpet"
           }
          ],
          "choropleth": [
           {
            "colorbar": {
             "outlinewidth": 0,
             "ticks": ""
            },
            "type": "choropleth"
           }
          ],
          "contour": [
           {
            "colorbar": {
             "outlinewidth": 0,
             "ticks": ""
            },
            "colorscale": [
             [
              0,
              "#0d0887"
             ],
             [
              0.1111111111111111,
              "#46039f"
             ],
             [
              0.2222222222222222,
              "#7201a8"
             ],
             [
              0.3333333333333333,
              "#9c179e"
             ],
             [
              0.4444444444444444,
              "#bd3786"
             ],
             [
              0.5555555555555556,
              "#d8576b"
             ],
             [
              0.6666666666666666,
              "#ed7953"
             ],
             [
              0.7777777777777778,
              "#fb9f3a"
             ],
             [
              0.8888888888888888,
              "#fdca26"
             ],
             [
              1,
              "#f0f921"
             ]
            ],
            "type": "contour"
           }
          ],
          "contourcarpet": [
           {
            "colorbar": {
             "outlinewidth": 0,
             "ticks": ""
            },
            "type": "contourcarpet"
           }
          ],
          "heatmap": [
           {
            "colorbar": {
             "outlinewidth": 0,
             "ticks": ""
            },
            "colorscale": [
             [
              0,
              "#0d0887"
             ],
             [
              0.1111111111111111,
              "#46039f"
             ],
             [
              0.2222222222222222,
              "#7201a8"
             ],
             [
              0.3333333333333333,
              "#9c179e"
             ],
             [
              0.4444444444444444,
              "#bd3786"
             ],
             [
              0.5555555555555556,
              "#d8576b"
             ],
             [
              0.6666666666666666,
              "#ed7953"
             ],
             [
              0.7777777777777778,
              "#fb9f3a"
             ],
             [
              0.8888888888888888,
              "#fdca26"
             ],
             [
              1,
              "#f0f921"
             ]
            ],
            "type": "heatmap"
           }
          ],
          "heatmapgl": [
           {
            "colorbar": {
             "outlinewidth": 0,
             "ticks": ""
            },
            "colorscale": [
             [
              0,
              "#0d0887"
             ],
             [
              0.1111111111111111,
              "#46039f"
             ],
             [
              0.2222222222222222,
              "#7201a8"
             ],
             [
              0.3333333333333333,
              "#9c179e"
             ],
             [
              0.4444444444444444,
              "#bd3786"
             ],
             [
              0.5555555555555556,
              "#d8576b"
             ],
             [
              0.6666666666666666,
              "#ed7953"
             ],
             [
              0.7777777777777778,
              "#fb9f3a"
             ],
             [
              0.8888888888888888,
              "#fdca26"
             ],
             [
              1,
              "#f0f921"
             ]
            ],
            "type": "heatmapgl"
           }
          ],
          "histogram": [
           {
            "marker": {
             "pattern": {
              "fillmode": "overlay",
              "size": 10,
              "solidity": 0.2
             }
            },
            "type": "histogram"
           }
          ],
          "histogram2d": [
           {
            "colorbar": {
             "outlinewidth": 0,
             "ticks": ""
            },
            "colorscale": [
             [
              0,
              "#0d0887"
             ],
             [
              0.1111111111111111,
              "#46039f"
             ],
             [
              0.2222222222222222,
              "#7201a8"
             ],
             [
              0.3333333333333333,
              "#9c179e"
             ],
             [
              0.4444444444444444,
              "#bd3786"
             ],
             [
              0.5555555555555556,
              "#d8576b"
             ],
             [
              0.6666666666666666,
              "#ed7953"
             ],
             [
              0.7777777777777778,
              "#fb9f3a"
             ],
             [
              0.8888888888888888,
              "#fdca26"
             ],
             [
              1,
              "#f0f921"
             ]
            ],
            "type": "histogram2d"
           }
          ],
          "histogram2dcontour": [
           {
            "colorbar": {
             "outlinewidth": 0,
             "ticks": ""
            },
            "colorscale": [
             [
              0,
              "#0d0887"
             ],
             [
              0.1111111111111111,
              "#46039f"
             ],
             [
              0.2222222222222222,
              "#7201a8"
             ],
             [
              0.3333333333333333,
              "#9c179e"
             ],
             [
              0.4444444444444444,
              "#bd3786"
             ],
             [
              0.5555555555555556,
              "#d8576b"
             ],
             [
              0.6666666666666666,
              "#ed7953"
             ],
             [
              0.7777777777777778,
              "#fb9f3a"
             ],
             [
              0.8888888888888888,
              "#fdca26"
             ],
             [
              1,
              "#f0f921"
             ]
            ],
            "type": "histogram2dcontour"
           }
          ],
          "mesh3d": [
           {
            "colorbar": {
             "outlinewidth": 0,
             "ticks": ""
            },
            "type": "mesh3d"
           }
          ],
          "parcoords": [
           {
            "line": {
             "colorbar": {
              "outlinewidth": 0,
              "ticks": ""
             }
            },
            "type": "parcoords"
           }
          ],
          "pie": [
           {
            "automargin": true,
            "type": "pie"
           }
          ],
          "scatter": [
           {
            "marker": {
             "colorbar": {
              "outlinewidth": 0,
              "ticks": ""
             }
            },
            "type": "scatter"
           }
          ],
          "scatter3d": [
           {
            "line": {
             "colorbar": {
              "outlinewidth": 0,
              "ticks": ""
             }
            },
            "marker": {
             "colorbar": {
              "outlinewidth": 0,
              "ticks": ""
             }
            },
            "type": "scatter3d"
           }
          ],
          "scattercarpet": [
           {
            "marker": {
             "colorbar": {
              "outlinewidth": 0,
              "ticks": ""
             }
            },
            "type": "scattercarpet"
           }
          ],
          "scattergeo": [
           {
            "marker": {
             "colorbar": {
              "outlinewidth": 0,
              "ticks": ""
             }
            },
            "type": "scattergeo"
           }
          ],
          "scattergl": [
           {
            "marker": {
             "colorbar": {
              "outlinewidth": 0,
              "ticks": ""
             }
            },
            "type": "scattergl"
           }
          ],
          "scattermapbox": [
           {
            "marker": {
             "colorbar": {
              "outlinewidth": 0,
              "ticks": ""
             }
            },
            "type": "scattermapbox"
           }
          ],
          "scatterpolar": [
           {
            "marker": {
             "colorbar": {
              "outlinewidth": 0,
              "ticks": ""
             }
            },
            "type": "scatterpolar"
           }
          ],
          "scatterpolargl": [
           {
            "marker": {
             "colorbar": {
              "outlinewidth": 0,
              "ticks": ""
             }
            },
            "type": "scatterpolargl"
           }
          ],
          "scatterternary": [
           {
            "marker": {
             "colorbar": {
              "outlinewidth": 0,
              "ticks": ""
             }
            },
            "type": "scatterternary"
           }
          ],
          "surface": [
           {
            "colorbar": {
             "outlinewidth": 0,
             "ticks": ""
            },
            "colorscale": [
             [
              0,
              "#0d0887"
             ],
             [
              0.1111111111111111,
              "#46039f"
             ],
             [
              0.2222222222222222,
              "#7201a8"
             ],
             [
              0.3333333333333333,
              "#9c179e"
             ],
             [
              0.4444444444444444,
              "#bd3786"
             ],
             [
              0.5555555555555556,
              "#d8576b"
             ],
             [
              0.6666666666666666,
              "#ed7953"
             ],
             [
              0.7777777777777778,
              "#fb9f3a"
             ],
             [
              0.8888888888888888,
              "#fdca26"
             ],
             [
              1,
              "#f0f921"
             ]
            ],
            "type": "surface"
           }
          ],
          "table": [
           {
            "cells": {
             "fill": {
              "color": "#EBF0F8"
             },
             "line": {
              "color": "white"
             }
            },
            "header": {
             "fill": {
              "color": "#C8D4E3"
             },
             "line": {
              "color": "white"
             }
            },
            "type": "table"
           }
          ]
         },
         "layout": {
          "annotationdefaults": {
           "arrowcolor": "#2a3f5f",
           "arrowhead": 0,
           "arrowwidth": 1
          },
          "autotypenumbers": "strict",
          "coloraxis": {
           "colorbar": {
            "outlinewidth": 0,
            "ticks": ""
           }
          },
          "colorscale": {
           "diverging": [
            [
             0,
             "#8e0152"
            ],
            [
             0.1,
             "#c51b7d"
            ],
            [
             0.2,
             "#de77ae"
            ],
            [
             0.3,
             "#f1b6da"
            ],
            [
             0.4,
             "#fde0ef"
            ],
            [
             0.5,
             "#f7f7f7"
            ],
            [
             0.6,
             "#e6f5d0"
            ],
            [
             0.7,
             "#b8e186"
            ],
            [
             0.8,
             "#7fbc41"
            ],
            [
             0.9,
             "#4d9221"
            ],
            [
             1,
             "#276419"
            ]
           ],
           "sequential": [
            [
             0,
             "#0d0887"
            ],
            [
             0.1111111111111111,
             "#46039f"
            ],
            [
             0.2222222222222222,
             "#7201a8"
            ],
            [
             0.3333333333333333,
             "#9c179e"
            ],
            [
             0.4444444444444444,
             "#bd3786"
            ],
            [
             0.5555555555555556,
             "#d8576b"
            ],
            [
             0.6666666666666666,
             "#ed7953"
            ],
            [
             0.7777777777777778,
             "#fb9f3a"
            ],
            [
             0.8888888888888888,
             "#fdca26"
            ],
            [
             1,
             "#f0f921"
            ]
           ],
           "sequentialminus": [
            [
             0,
             "#0d0887"
            ],
            [
             0.1111111111111111,
             "#46039f"
            ],
            [
             0.2222222222222222,
             "#7201a8"
            ],
            [
             0.3333333333333333,
             "#9c179e"
            ],
            [
             0.4444444444444444,
             "#bd3786"
            ],
            [
             0.5555555555555556,
             "#d8576b"
            ],
            [
             0.6666666666666666,
             "#ed7953"
            ],
            [
             0.7777777777777778,
             "#fb9f3a"
            ],
            [
             0.8888888888888888,
             "#fdca26"
            ],
            [
             1,
             "#f0f921"
            ]
           ]
          },
          "colorway": [
           "#636efa",
           "#EF553B",
           "#00cc96",
           "#ab63fa",
           "#FFA15A",
           "#19d3f3",
           "#FF6692",
           "#B6E880",
           "#FF97FF",
           "#FECB52"
          ],
          "font": {
           "color": "#2a3f5f"
          },
          "geo": {
           "bgcolor": "white",
           "lakecolor": "white",
           "landcolor": "#E5ECF6",
           "showlakes": true,
           "showland": true,
           "subunitcolor": "white"
          },
          "hoverlabel": {
           "align": "left"
          },
          "hovermode": "closest",
          "mapbox": {
           "style": "light"
          },
          "paper_bgcolor": "white",
          "plot_bgcolor": "#E5ECF6",
          "polar": {
           "angularaxis": {
            "gridcolor": "white",
            "linecolor": "white",
            "ticks": ""
           },
           "bgcolor": "#E5ECF6",
           "radialaxis": {
            "gridcolor": "white",
            "linecolor": "white",
            "ticks": ""
           }
          },
          "scene": {
           "xaxis": {
            "backgroundcolor": "#E5ECF6",
            "gridcolor": "white",
            "gridwidth": 2,
            "linecolor": "white",
            "showbackground": true,
            "ticks": "",
            "zerolinecolor": "white"
           },
           "yaxis": {
            "backgroundcolor": "#E5ECF6",
            "gridcolor": "white",
            "gridwidth": 2,
            "linecolor": "white",
            "showbackground": true,
            "ticks": "",
            "zerolinecolor": "white"
           },
           "zaxis": {
            "backgroundcolor": "#E5ECF6",
            "gridcolor": "white",
            "gridwidth": 2,
            "linecolor": "white",
            "showbackground": true,
            "ticks": "",
            "zerolinecolor": "white"
           }
          },
          "shapedefaults": {
           "line": {
            "color": "#2a3f5f"
           }
          },
          "ternary": {
           "aaxis": {
            "gridcolor": "white",
            "linecolor": "white",
            "ticks": ""
           },
           "baxis": {
            "gridcolor": "white",
            "linecolor": "white",
            "ticks": ""
           },
           "bgcolor": "#E5ECF6",
           "caxis": {
            "gridcolor": "white",
            "linecolor": "white",
            "ticks": ""
           }
          },
          "title": {
           "x": 0.05
          },
          "xaxis": {
           "automargin": true,
           "gridcolor": "white",
           "linecolor": "white",
           "ticks": "",
           "title": {
            "standoff": 15
           },
           "zerolinecolor": "white",
           "zerolinewidth": 2
          },
          "yaxis": {
           "automargin": true,
           "gridcolor": "white",
           "linecolor": "white",
           "ticks": "",
           "title": {
            "standoff": 15
           },
           "zerolinecolor": "white",
           "zerolinewidth": 2
          }
         }
        },
        "xaxis": {
         "anchor": "y",
         "domain": [
          0,
          1
         ],
         "title": {
          "text": "2019 MARKET CAP(₹ Cr)"
         }
        },
        "yaxis": {
         "anchor": "x",
         "categoryarray": [
          "Small-Cap",
          "Mid-Cap",
          "Large-Cap"
         ],
         "categoryorder": "array",
         "domain": [
          0,
          1
         ],
         "title": {
          "text": "2019 COMPANY TYPE"
         }
        }
       }
      },
      "text/html": [
       "<div>                            <div id=\"49fdcf6a-acb3-4e0c-bd72-f01d6cffcb03\" class=\"plotly-graph-div\" style=\"height:525px; width:100%;\"></div>            <script type=\"text/javascript\">                require([\"plotly\"], function(Plotly) {                    window.PLOTLYENV=window.PLOTLYENV || {};                                    if (document.getElementById(\"49fdcf6a-acb3-4e0c-bd72-f01d6cffcb03\")) {                    Plotly.newPlot(                        \"49fdcf6a-acb3-4e0c-bd72-f01d6cffcb03\",                        [{\"hovertemplate\":\"<b>%{hovertext}</b><br><br>2019 COMPANY TYPE=%{y}<br>2019 MARKET CAP(\\u20b9 Cr)=%{marker.size}<extra></extra>\",\"hovertext\":[\"Reliance Industries Ltd.\",\"State Bank of India\",\"Indian Oil Corporation Ltd.\",\"Oil And Natural Gas Corporation Ltd.\",\"Rajesh Exports Ltd.\",\"Tata Motors Ltd.\",\"Bharat Petroleum Corporation Ltd.\",\"Hindustan Petroleum Corporation Ltd.\",\"Tata Consultancy Services Ltd.\",\"ICICI Bank Ltd.\",\"Tata Steel Ltd.\",\"HDFC Bank Ltd.\",\"Larsen & Toubro Ltd.\",\"Housing Development Finance Corporation Ltd.\",\"Hindalco Industries Ltd.\",\"NTPC Ltd.\",\"Bharti Airtel Ltd.\",\"Infosys Ltd.\",\"Punjab National Bank\",\"Coal India Ltd.\",\"Vedanta Ltd.\",\"Bank of Baroda\",\"ICICI Prudential Life Insurance Company Ltd.\",\"SBI Life Insurance Company Ltd.\",\"Axis Bank Ltd.\",\"JSW Steel Ltd.\",\"Grasim Industries Ltd.\",\"Mahindra & Mahindra Ltd.\",\"HCL Technologies Ltd.\",\"Maruti Suzuki India Ltd.\",\"HDFC Life Insurance Company Ltd.\",\"Power Finance Corporation Ltd.\",\"Wipro Ltd.\",\"Bajaj Finserv Ltd.\",\"GAIL (India) Ltd.\",\"Motherson Sumi Systems Ltd.\",\"Kotak Mahindra Bank Ltd.\",\"ITC Ltd.\",\"General Insurance Corporation of India\",\"Bank of India\",\"Hindustan Unilever Ltd.\",\"UltraTech Cement Ltd.\",\"Power Grid Corporation of India Ltd.\",\"Adani Enterprises Ltd.\",\"UPL Ltd.\",\"Tech Mahindra Ltd.\",\"REC Ltd.\",\"IndusInd Bank Ltd.\",\"Sun Pharmaceutical Industries Ltd.\",\"The New India Assurance Company Ltd.\",\"Hero MotoCorp Ltd.\",\"Bajaj Auto Ltd.\",\"Aurobindo Pharma Ltd.\",\"Adani Power Ltd.\",\"Bajaj Finance Ltd.\",\"Petronet LNG Ltd.\",\"Ambuja Cements Ltd.\",\"IDBI Bank Ltd.\",\"Hindustan Zinc Ltd.\",\"Avenue Supermarts Ltd.\",\"Hindustan Aeronautics Ltd.\",\"Asian Paints Ltd.\",\"Titan Company Ltd.\",\"Ashok Leyland Ltd.\",\"LIC Housing Finance Ltd.\",\"Aditya Birla Capital Ltd.\",\"TVS Motor Company Ltd.\",\"Cipla Ltd.\",\"Dr. Reddy's Laboratories Ltd.\",\"IDFC First Bank Ltd.\",\"Shriram Transport Finance Company Ltd.\",\"MRF Ltd.\",\"NMDC Ltd.\",\"InterGlobe Aviation Ltd.\",\"Lupin Ltd.\",\"Adani Ports & Special Economic Zone Ltd.\",\"Indus Towers Ltd.\",\"Cadila Healthcare Ltd.\",\"Bandhan Bank Ltd.\",\"L&T Finance Holdings Ltd.\",\"Bharat Electronics Ltd.\",\"ACC Ltd.\",\"Shree Cements Ltd.\",\"Piramal Enterprises Ltd.\",\"Nestle India Ltd.\",\"Britannia Industries Ltd.\",\"ICICI Lombard General Insurance Company Ltd.\",\"Larsen & Toubro Infotech Ltd.\",\"Mahindra & Mahindra Financial Services Ltd.\",\"Muthoot Finance Ltd.\",\"Godrej Consumer Products Ltd.\",\"NHPC Ltd.\",\"Adani Transmission Ltd.\",\"Havells India Ltd.\",\"Siemens Ltd.\",\"Bosch Ltd.\",\"Dabur India Ltd.\",\"Cholamandalam Investment & Finance Company Ltd.\",\"Eicher Motors Ltd.\",\"Alkem Laboratories Ltd.\",\"Marico Ltd.\",\"United Spirits Ltd.\",\"Torrent Pharmaceuticals Ltd.\",\"Zee Entertainment Enterprises Ltd.\",\"Voltas Ltd.\",\"Varun Beverages Ltd.\",\"Whirlpool of India Ltd.\",\"Pidilite Industries Ltd.\",\"Biocon Ltd.\",\"Divi's Laboratories Ltd.\",\"Berger Paints (India) Ltd.\",\"Container Corporation of India Ltd.\",\"Bharat Forge Ltd.\",\"Au Small Finance Bank Ltd.\",\"ABB India Ltd.\",\"DLF Ltd.\",\"Kansai Nerolac Paints Ltd.\",\"Indraprastha Gas Ltd.\",\"Oracle Financial Services Software Ltd.\",\"Colgate-Palmolive (India) Ltd.\",\"Abbott India Ltd.\",\"United Breweries Ltd.\",\"Procter & Gamble Hygiene & Healthcare Ltd.\",\"Jubilant Foodworks Ltd.\",\"GlaxoSmithKline Pharmaceuticals Ltd.\",\"Honeywell Automation India Ltd.\",\"Page Industries Ltd.\",\"3M India Ltd.\"],\"legendgroup\":\"Large-Cap\",\"marker\":{\"color\":\"#636efa\",\"size\":[949280.0,290140.0,125768.0,172135.0,20200.0,48588.0,111550.0,45237.0,799565.0,318508.0,45758.0,691980.0,195557.0,386084.0,44147.0,116721.0,207156.0,300107.0,29309.0,126223.0,55138.0,39026.0,73315.0,97023.0,207918.0,60545.0,51164.0,70212.0,154495.0,218163.0,117667.0,30178.0,150850.0,142966.0,57452.0,41390.0,305362.0,311546.0,47025.0,23430.0,451807.0,118658.0,101447.0,22678.0,42810.0,73731.0,27476.0,99094.0,104709.0,25249.0,50973.0,92776.0,25922.0,24808.0,244755.0,41521.0,40011.0,34522.0,89331.0,118206.0,26206.0,167782.0,104761.0,23364.0,21730.0,21060.0,21701.0,37803.0,47169.0,20611.0,25709.0,26962.0,31762.0,55842.0,34487.0,76616.0,42691.0,25012.0,86375.0,20106.0,26688.0,28213.0,70464.0,35260.0,139150.0,75697.0,61087.0,29091.0,20938.0,27695.0,73870.0,23661.0,30530.0,42358.0,56416.0,46092.0,82478.0,24436.0,60032.0,24460.0,46677.0,45108.0,30383.0,29264.0,23099.0,20699.0,27955.0,67715.0,31464.0,46093.0,47662.0,34786.0,21068.0,22577.0,30764.0,51257.0,28802.0,28652.0,26126.0,41745.0,25953.0,32812.0,36799.0,21114.0,27779.0,24627.0,25872.0,25230.0],\"sizemode\":\"area\",\"sizeref\":94.928,\"symbol\":\"circle\"},\"mode\":\"markers\",\"name\":\"Large-Cap\",\"orientation\":\"h\",\"showlegend\":true,\"x\":[949280.0,290140.0,125768.0,172135.0,20200.0,48588.0,111550.0,45237.0,799565.0,318508.0,45758.0,691980.0,195557.0,386084.0,44147.0,116721.0,207156.0,300107.0,29309.0,126223.0,55138.0,39026.0,73315.0,97023.0,207918.0,60545.0,51164.0,70212.0,154495.0,218163.0,117667.0,30178.0,150850.0,142966.0,57452.0,41390.0,305362.0,311546.0,47025.0,23430.0,451807.0,118658.0,101447.0,22678.0,42810.0,73731.0,27476.0,99094.0,104709.0,25249.0,50973.0,92776.0,25922.0,24808.0,244755.0,41521.0,40011.0,34522.0,89331.0,118206.0,26206.0,167782.0,104761.0,23364.0,21730.0,21060.0,21701.0,37803.0,47169.0,20611.0,25709.0,26962.0,31762.0,55842.0,34487.0,76616.0,42691.0,25012.0,86375.0,20106.0,26688.0,28213.0,70464.0,35260.0,139150.0,75697.0,61087.0,29091.0,20938.0,27695.0,73870.0,23661.0,30530.0,42358.0,56416.0,46092.0,82478.0,24436.0,60032.0,24460.0,46677.0,45108.0,30383.0,29264.0,23099.0,20699.0,27955.0,67715.0,31464.0,46093.0,47662.0,34786.0,21068.0,22577.0,30764.0,51257.0,28802.0,28652.0,26126.0,41745.0,25953.0,32812.0,36799.0,21114.0,27779.0,24627.0,25872.0,25230.0],\"xaxis\":\"x\",\"y\":[\"Large-Cap\",\"Large-Cap\",\"Large-Cap\",\"Large-Cap\",\"Large-Cap\",\"Large-Cap\",\"Large-Cap\",\"Large-Cap\",\"Large-Cap\",\"Large-Cap\",\"Large-Cap\",\"Large-Cap\",\"Large-Cap\",\"Large-Cap\",\"Large-Cap\",\"Large-Cap\",\"Large-Cap\",\"Large-Cap\",\"Large-Cap\",\"Large-Cap\",\"Large-Cap\",\"Large-Cap\",\"Large-Cap\",\"Large-Cap\",\"Large-Cap\",\"Large-Cap\",\"Large-Cap\",\"Large-Cap\",\"Large-Cap\",\"Large-Cap\",\"Large-Cap\",\"Large-Cap\",\"Large-Cap\",\"Large-Cap\",\"Large-Cap\",\"Large-Cap\",\"Large-Cap\",\"Large-Cap\",\"Large-Cap\",\"Large-Cap\",\"Large-Cap\",\"Large-Cap\",\"Large-Cap\",\"Large-Cap\",\"Large-Cap\",\"Large-Cap\",\"Large-Cap\",\"Large-Cap\",\"Large-Cap\",\"Large-Cap\",\"Large-Cap\",\"Large-Cap\",\"Large-Cap\",\"Large-Cap\",\"Large-Cap\",\"Large-Cap\",\"Large-Cap\",\"Large-Cap\",\"Large-Cap\",\"Large-Cap\",\"Large-Cap\",\"Large-Cap\",\"Large-Cap\",\"Large-Cap\",\"Large-Cap\",\"Large-Cap\",\"Large-Cap\",\"Large-Cap\",\"Large-Cap\",\"Large-Cap\",\"Large-Cap\",\"Large-Cap\",\"Large-Cap\",\"Large-Cap\",\"Large-Cap\",\"Large-Cap\",\"Large-Cap\",\"Large-Cap\",\"Large-Cap\",\"Large-Cap\",\"Large-Cap\",\"Large-Cap\",\"Large-Cap\",\"Large-Cap\",\"Large-Cap\",\"Large-Cap\",\"Large-Cap\",\"Large-Cap\",\"Large-Cap\",\"Large-Cap\",\"Large-Cap\",\"Large-Cap\",\"Large-Cap\",\"Large-Cap\",\"Large-Cap\",\"Large-Cap\",\"Large-Cap\",\"Large-Cap\",\"Large-Cap\",\"Large-Cap\",\"Large-Cap\",\"Large-Cap\",\"Large-Cap\",\"Large-Cap\",\"Large-Cap\",\"Large-Cap\",\"Large-Cap\",\"Large-Cap\",\"Large-Cap\",\"Large-Cap\",\"Large-Cap\",\"Large-Cap\",\"Large-Cap\",\"Large-Cap\",\"Large-Cap\",\"Large-Cap\",\"Large-Cap\",\"Large-Cap\",\"Large-Cap\",\"Large-Cap\",\"Large-Cap\",\"Large-Cap\",\"Large-Cap\",\"Large-Cap\",\"Large-Cap\",\"Large-Cap\",\"Large-Cap\",\"Large-Cap\"],\"yaxis\":\"y\",\"type\":\"scatter\"},{\"hovertemplate\":\"<b>%{hovertext}</b><br><br>2019 COMPANY TYPE=%{y}<br>2019 MARKET CAP(\\u20b9 Cr)=%{marker.size}<extra></extra>\",\"hovertext\":[\"Canara Bank\",\"Union Bank of India\",\"Steel Authority of India (SAIL) Ltd.\",\"Jindal Steel & Power Ltd.\",\"Indian Bank\",\"Vodafone Idea Ltd.\",\"Tata Power Company Ltd.\",\"Mangalore Refinery And Petrochemicals Ltd.\",\"Max Financial Services Ltd.\",\"Central Bank of India\",\"YES Bank Ltd.\",\"Indian Overseas Bank\",\"Oil India Ltd.\",\"UCO Bank\",\"Bharat Heavy Electricals Ltd.\",\"Apollo Tyres Ltd.\",\"Tata Communications Ltd.\",\"Federal Bank Ltd.\",\"Exide Industries Ltd.\",\"Bank of Maharashtra\",\"Coromandel International Ltd.\",\"Cholamandalam Financial Holdings Ltd.\",\"Bombay Burmah Trading Corporation Ltd.\",\"Kalpataru Power Transmissions Ltd.\",\"Chambal Fertilisers & Chemicals Ltd.\",\"KEC International Ltd.\",\"NLC India Ltd.\",\"Torrent Power Ltd.\",\"CESC Ltd.\",\"Tata Consumer Products Ltd.\",\"Gujarat State Petronet Ltd.\",\"Glenmark Pharmaceuticals Ltd.\",\"Quess Corp Ltd.\",\"Edelweiss Financial Services Ltd.\",\"Tata Chemicals Ltd.\",\"Apollo Hospitals Enterprise Ltd.\",\"RBL Bank Ltd.\",\"Godrej Industries Ltd.\",\"Dilip Buildcon Ltd.\",\"Indiabulls Housing Finance Ltd.\",\"Gujarat Gas Ltd.\",\"MphasiS Ltd.\",\"SIS Ltd.\",\"National Aluminium Company Ltd.\",\"Prestige Estates Projects Ltd.\",\"DCM Shriram Ltd.\",\"Aster DM Healthcare Ltd.\",\"SRF Ltd.\",\"MindTree Ltd.\",\"PNB Housing Finance Ltd.\",\"Welspun India Ltd.\",\"Housing and Urban Development Corporation Ltd.\",\"Amara Raja Batteries Ltd.\",\"JSW Energy Ltd.\",\"Escorts Ltd.\",\"NBCC (India) Ltd.\",\"GMR Infrastructure Ltd.\",\"JK Cement Ltd.\",\"Endurance Technologies Ltd.\",\"Future Retail Ltd.\",\"Supreme Industries Ltd.\",\"Minda Industries Ltd.\",\"Jubilant Pharmova Ltd.\",\"Manappuram Finance Ltd.\",\"Vardhman Textiles Ltd.\",\"Godrej Agrovet Ltd.\",\"Tube Investments of India Ltd.\",\"Shriram City Union Finance Ltd.\",\"Mahindra CIE Automotive Ltd.\",\"Spicejet Ltd.\",\"Balkrishna Industries Ltd.\",\"L&T Technology Services Ltd.\",\"Hatsun Agro Products Ltd.\",\"Ipca Laboratories Ltd.\",\"Alembic Pharmaceuticals Ltd.\",\"Aditya Birla Fashion and Retail Ltd.\",\"The Ramco Cements Ltd.\",\"Sundaram Finance Ltd.\",\"Thermax Ltd.\",\"Sterlite Technologies Ltd.\",\"Crompton Greaves Consumer Electricals Ltd.\",\"City Union Bank Ltd.\",\"Cummins India Ltd.\",\"PI Industries Ltd.\",\"Coforge Ltd.\",\"Aarti Industries Ltd.\",\"Bayer Cropscience Ltd.\",\"Blue Star Ltd.\",\"Fortis Healthcare Ltd.\",\"Avanti Feeds Ltd.\",\"DCB Bank Ltd.\",\"Aegis Logistics Ltd.\",\"Atul Ltd.\",\"Sundram Fasteners Ltd.\",\"SJVN Ltd.\",\"Motilal Oswal Financial Services Ltd.\",\"Finolex Industries Ltd.\",\"Sun TV Network Ltd.\",\"Blue Dart Express Ltd.\",\"JM Financial Ltd.\",\"Astral Ltd.\",\"Finolex Cables Ltd.\",\"Castrol India Ltd.\",\"AIA Engineering Ltd.\",\"Cochin Shipyard Ltd.\",\"Sanofi India Ltd.\",\"Emami Ltd.\",\"Kajaria Ceramics Ltd.\",\"Galaxy Surfactants Ltd.\",\"Trent Ltd.\",\"V-Guard Industries Ltd.\",\"SKF India Ltd.\",\"Carborundum Universal Ltd.\",\"Godfrey Phillips India Ltd.\",\"Narayana Hrudayalaya Ltd.\",\"Akzo Nobel India Ltd.\",\"Future Lifestyle Fashions Ltd.\",\"Pfizer Ltd.\",\"Graphite India Ltd.\",\"Mahanagar Gas Ltd.\",\"Bharat Dynamics Ltd.\"],\"legendgroup\":\"Mid-Cap\",\"marker\":{\"color\":\"#EF553B\",\"size\":[16129.0,18142.0,15922.0,14789.0,6069.0,14637.0,15377.0,8561.0,12916.0,8934.0,17121.0,9623.0,17462.0,11549.0,19171.0,9734.0,10603.0,17192.0,16213.0,7097.0,13806.0,8976.0,8034.0,6952.0,6636.0,7084.0,7660.0,13810.0,10114.0,19097.0,12255.0,9127.0,7774.0,10895.0,16440.0,19897.0,14389.0,14573.0,5647.0,10153.0,13662.0,16642.0,6768.0,8541.0,11251.0,5376.0,7441.0,17985.0,11572.0,9307.0,5470.0,8347.0,12343.0,11962.0,8015.0,6839.0,12808.0,8936.0,15363.0,17355.0,14491.0,9147.0,8295.0,13846.0,5124.0,9324.0,8409.0,8789.0,5619.0,6621.0,16617.0,15202.0,9540.0,13818.0,10635.0,16458.0,18730.0,17996.0,12632.0,5123.0,15986.0,15716.0,15463.0,19632.0,9501.0,14449.0,15579.0,7678.0,11047.0,6961.0,5594.0,6030.0,12230.0,9810.0,9667.0,10646.0,7207.0,19712.0,5173.0,7481.0,16415.0,5615.0,14637.0,15683.0,5315.0,15532.0,14508.0,11803.0,5391.0,18304.0,10072.0,10643.0,5934.0,6211.0,5949.0,9119.0,8105.0,18471.0,5995.0,9984.0,6147.0],\"sizemode\":\"area\",\"sizeref\":94.928,\"symbol\":\"circle\"},\"mode\":\"markers\",\"name\":\"Mid-Cap\",\"orientation\":\"h\",\"showlegend\":true,\"x\":[16129.0,18142.0,15922.0,14789.0,6069.0,14637.0,15377.0,8561.0,12916.0,8934.0,17121.0,9623.0,17462.0,11549.0,19171.0,9734.0,10603.0,17192.0,16213.0,7097.0,13806.0,8976.0,8034.0,6952.0,6636.0,7084.0,7660.0,13810.0,10114.0,19097.0,12255.0,9127.0,7774.0,10895.0,16440.0,19897.0,14389.0,14573.0,5647.0,10153.0,13662.0,16642.0,6768.0,8541.0,11251.0,5376.0,7441.0,17985.0,11572.0,9307.0,5470.0,8347.0,12343.0,11962.0,8015.0,6839.0,12808.0,8936.0,15363.0,17355.0,14491.0,9147.0,8295.0,13846.0,5124.0,9324.0,8409.0,8789.0,5619.0,6621.0,16617.0,15202.0,9540.0,13818.0,10635.0,16458.0,18730.0,17996.0,12632.0,5123.0,15986.0,15716.0,15463.0,19632.0,9501.0,14449.0,15579.0,7678.0,11047.0,6961.0,5594.0,6030.0,12230.0,9810.0,9667.0,10646.0,7207.0,19712.0,5173.0,7481.0,16415.0,5615.0,14637.0,15683.0,5315.0,15532.0,14508.0,11803.0,5391.0,18304.0,10072.0,10643.0,5934.0,6211.0,5949.0,9119.0,8105.0,18471.0,5995.0,9984.0,6147.0],\"xaxis\":\"x\",\"y\":[\"Mid-Cap\",\"Mid-Cap\",\"Mid-Cap\",\"Mid-Cap\",\"Mid-Cap\",\"Mid-Cap\",\"Mid-Cap\",\"Mid-Cap\",\"Mid-Cap\",\"Mid-Cap\",\"Mid-Cap\",\"Mid-Cap\",\"Mid-Cap\",\"Mid-Cap\",\"Mid-Cap\",\"Mid-Cap\",\"Mid-Cap\",\"Mid-Cap\",\"Mid-Cap\",\"Mid-Cap\",\"Mid-Cap\",\"Mid-Cap\",\"Mid-Cap\",\"Mid-Cap\",\"Mid-Cap\",\"Mid-Cap\",\"Mid-Cap\",\"Mid-Cap\",\"Mid-Cap\",\"Mid-Cap\",\"Mid-Cap\",\"Mid-Cap\",\"Mid-Cap\",\"Mid-Cap\",\"Mid-Cap\",\"Mid-Cap\",\"Mid-Cap\",\"Mid-Cap\",\"Mid-Cap\",\"Mid-Cap\",\"Mid-Cap\",\"Mid-Cap\",\"Mid-Cap\",\"Mid-Cap\",\"Mid-Cap\",\"Mid-Cap\",\"Mid-Cap\",\"Mid-Cap\",\"Mid-Cap\",\"Mid-Cap\",\"Mid-Cap\",\"Mid-Cap\",\"Mid-Cap\",\"Mid-Cap\",\"Mid-Cap\",\"Mid-Cap\",\"Mid-Cap\",\"Mid-Cap\",\"Mid-Cap\",\"Mid-Cap\",\"Mid-Cap\",\"Mid-Cap\",\"Mid-Cap\",\"Mid-Cap\",\"Mid-Cap\",\"Mid-Cap\",\"Mid-Cap\",\"Mid-Cap\",\"Mid-Cap\",\"Mid-Cap\",\"Mid-Cap\",\"Mid-Cap\",\"Mid-Cap\",\"Mid-Cap\",\"Mid-Cap\",\"Mid-Cap\",\"Mid-Cap\",\"Mid-Cap\",\"Mid-Cap\",\"Mid-Cap\",\"Mid-Cap\",\"Mid-Cap\",\"Mid-Cap\",\"Mid-Cap\",\"Mid-Cap\",\"Mid-Cap\",\"Mid-Cap\",\"Mid-Cap\",\"Mid-Cap\",\"Mid-Cap\",\"Mid-Cap\",\"Mid-Cap\",\"Mid-Cap\",\"Mid-Cap\",\"Mid-Cap\",\"Mid-Cap\",\"Mid-Cap\",\"Mid-Cap\",\"Mid-Cap\",\"Mid-Cap\",\"Mid-Cap\",\"Mid-Cap\",\"Mid-Cap\",\"Mid-Cap\",\"Mid-Cap\",\"Mid-Cap\",\"Mid-Cap\",\"Mid-Cap\",\"Mid-Cap\",\"Mid-Cap\",\"Mid-Cap\",\"Mid-Cap\",\"Mid-Cap\",\"Mid-Cap\",\"Mid-Cap\",\"Mid-Cap\",\"Mid-Cap\",\"Mid-Cap\",\"Mid-Cap\",\"Mid-Cap\",\"Mid-Cap\"],\"yaxis\":\"y\",\"type\":\"scatter\"},{\"hovertemplate\":\"<b>%{hovertext}</b><br><br>2019 COMPANY TYPE=%{y}<br>2019 MARKET CAP(\\u20b9 Cr)=%{marker.size}<extra></extra>\",\"hovertext\":[\"Redington (India) Ltd.\",\"MMTC Ltd.\",\"Chennai Petroleum Corporation Ltd.\",\"Tata Steel BSL Ltd.\",\"Sundaram Clayton Ltd.\",\"Reliance Infrastructure Ltd.\",\"Reliance Capital Ltd.\",\"EID Parry (India) Ltd.\",\"PTC India Ltd.\",\"Jindal Stainless Ltd.\",\"National Fertilizers Ltd.\",\"Rain Industries Ltd.\",\"Jindal Saw Ltd.\",\"Allcargo Logistics Ltd.\",\"BASF India Ltd.\",\"Jindal Stainless (Hisar) Ltd.\",\"JK Tyre & Industries Ltd.\",\"Uflex Ltd.\",\"Alok Industries Ltd.\",\"Jammu & Kashmir Bank Ltd.\",\"APL Apollo Tubes Ltd.\",\"Kama Holdings Ltd.\",\"South Indian Bank Ltd.\",\"Rashtriya Chemicals & Fertilizers Ltd.\",\"Reliance Power Ltd.\",\"Gokul Agro Resources Ltd.\",\"Hindustan Construction Company Ltd.\",\"NCC Ltd.\",\"Punjab & Sind Bank\",\"Gujarat State Fertilizer & Chemicals Ltd.\",\"Karnataka Bank Ltd.\",\"Ceat Ltd.\",\"Birla Corporation Ltd.\",\"Welspun Corp Ltd.\",\"Bajaj Hindusthan Sugar Ltd.\",\"Jaiprakash Associates Ltd.\",\"Karur Vysya Bank Ltd.\",\"Dixon Technologies (India) Ltd.\",\"Apar Industries Ltd.\",\"PDS Multinational Fashions Ltd.\",\"Jain Irrigation Systems Ltd.\",\"IIFL Finance Ltd.\",\"Shree Renuka Sugars Ltd.\",\"PNC Infratech Ltd.\",\"Deepak Fertilisers & Petrochemicals Corporation Ltd.\",\"Hinduja Global Solutions Ltd.\",\"Prism Johnson Ltd.\",\"Surya Roshni Ltd.\",\"IRB Infrastructure Developers Ltd.\",\"ISGEC Heavy Engineering Ltd.\",\"Gujarat Narmada Valley Fertilizers & Chemicals Ltd.\",\"Ashoka Buildcon Ltd.\",\"Arvind Ltd.\",\"Firstsource Solutions Ltd.\",\"Polyplex Corporation Ltd.\",\"TeamLease Services Ltd.\",\"Balrampur Chini Mills Ltd.\",\"Laurus Labs Ltd.\",\"JK Lakshmi Cement Ltd.\",\"Gujarat Ambuja Exports Ltd.\",\"Triveni Engineering & Industries Ltd.\",\"LT Foods Ltd.\",\"Bajaj Electricals Ltd.\",\"India Cements Ltd.\",\"Trident Ltd.\",\"HFCL Ltd.\",\"Persistent Systems Ltd.\",\"Cyient Ltd.\",\"Sonata Software Ltd.\",\"Jindal Poly Films Ltd.\",\"KEI Industries Ltd.\",\"Suzlon Energy Ltd.\",\"Dhampur Sugar Mills Ltd.\",\"Godawari Power & Ispat Ltd.\",\"KRBL Ltd.\",\"Gayatri Projects Ltd.\",\"Shipping Corporation of India Ltd.\",\"JMC Projects (India) Ltd.\",\"Wockhardt Ltd.\",\"Zensar Technologies Ltd.\",\"Jayaswal Neco Industries Ltd.\",\"Raymond Ltd.\",\"BEML Ltd.\",\"Jaiprakash Power Ventures Ltd.\",\"Birlasoft Ltd.\",\"KPR Mill Ltd.\",\"Great Eastern Shipping Company Ltd.\",\"Electrosteel Castings Ltd.\",\"IFB Industries Ltd.\",\"GE T&D India Ltd.\",\"Strides Pharma Science Ltd.\",\"SREI Infrastructure Finance Ltd.\",\"Mukand Ltd.\",\"Prakash Industries Ltd.\",\"The Fertilisers and Chemicals Travancore Ltd.\",\"Kirloskar Oil Engines Ltd.\",\"Mahindra Logistics Ltd.\",\"Dish TV India Ltd.\",\"Tamil Nadu Newsprint And Papers Ltd.\",\"Supreme Petrochem Ltd.\",\"Kothari Products Ltd.\",\"Venky's (India) Ltd.\",\"JK Paper Ltd.\",\"EPL Ltd.\",\"CG Power and Industrial Solutions Ltd.\",\"Amber Enterprises India Ltd.\",\"KNR Constructions Ltd.\",\"Paul Merchants Ltd.\",\"Time Technoplast Ltd.\",\"Kesoram Industries Ltd.\",\"Forbes & Company Ltd.\",\"GHCL Ltd.\",\"Brightcom Group Ltd.\",\"PC Jeweller Ltd.\",\"Va Tech Wabag Ltd.\",\"Transport Corporation of India Ltd.\",\"Nava Bharat Ventures Ltd.\",\"Jai Balaji Industries Ltd.\",\"ITD Cementation India Ltd.\",\"Kirloskar Brothers Ltd.\",\"Century Textiles & Industries Ltd.\",\"Phillips Carbon Black Ltd.\",\"Sadbhav Engineering Ltd.\",\"Prime Focus Ltd.\",\"J Kumar Infraprojects Ltd.\",\"Orient Cement Ltd.\",\"Zuari Agro Chemicals Ltd.\",\"Religare Enterprises Ltd.\",\"Electrotherm (India) Ltd.\",\"Gujarat Alkalies & Chemicals Ltd.\",\"Heritage Foods Ltd.\",\"Huhtamaki India Ltd.\",\"Asahi India Glass Ltd.\",\"Wheels India Ltd.\",\"Minda Corporation Ltd.\",\"Maharashtra Seamless Ltd.\",\"RSWM Ltd.\",\"Poonawalla Fincorp Ltd.\",\"India Glycols Ltd.\",\"Himatsingka Seide Ltd.\",\"Simplex Infrastructures Ltd.\",\"Sobha Ltd.\",\"Mangalore Chemicals & Fertilizers Ltd.\",\"Patel Engineering Ltd.\",\"Century Plyboards (India) Ltd.\",\"Usha Martin Ltd.\",\"Nilkamal Ltd.\",\"IFCI Ltd.\",\"Rane Holdings Ltd.\",\"Shankara Building Products Ltd.\",\"Force Motors Ltd.\"],\"legendgroup\":\"Small-Cap\",\"marker\":{\"color\":\"#00cc96\",\"size\":[4475.0,2782.0,2119.0,2802.0,4362.0,948.0,501.0,3179.0,1682.0,1825.0,1320.0,3458.0,2627.0,2406.0,4224.0,1678.0,1729.0,1456.0,328.0,1798.0,3671.0,3282.0,2001.0,2795.0,1103.0,175.0,1427.0,3491.0,1192.0,2945.0,2154.0,3903.0,4926.0,3652.0,774.0,524.0,4667.0,3520.0,1865.0,825.0,643.0,4556.0,1678.0,4699.0,892.0,1255.0,3576.0,945.0,2666.0,2852.0,3086.0,2687.0,1270.0,2973.0,1560.0,4462.0,3297.0,3776.0,3460.0,1627.0,1587.0,755.0,3440.0,2534.0,3241.0,2220.0,4939.0,4372.0,3224.0,985.0,4282.0,1364.0,1257.0,532.0,4817.0,1676.0,2824.0,1792.0,3071.0,4244.0,233.0,4292.0,4067.0,658.0,1863.0,4788.0,4558.0,529.0,2864.0,4467.0,3522.0,460.0,455.0,836.0,2548.0,2377.0,2786.0,2705.0,1277.0,1630.0,180.0,2474.0,2066.0,4278.0,937.0,3128.0,3378.0,118.0,1334.0,754.0,2370.0,2039.0,172.0,1280.0,953.0,2140.0,1185.0,201.0,1030.0,1135.0,4766.0,2146.0,2143.0,1842.0,1204.0,1569.0,396.0,1147.0,174.0,3081.0,1531.0,1855.0,4881.0,1505.0,2145.0,2520.0,242.0,1229.0,689.0,1350.0,287.0,3877.0,341.0,608.0,3783.0,939.0,1922.0,1292.0,1156.0,753.0,1397.0],\"sizemode\":\"area\",\"sizeref\":94.928,\"symbol\":\"circle\"},\"mode\":\"markers\",\"name\":\"Small-Cap\",\"orientation\":\"h\",\"showlegend\":true,\"x\":[4475.0,2782.0,2119.0,2802.0,4362.0,948.0,501.0,3179.0,1682.0,1825.0,1320.0,3458.0,2627.0,2406.0,4224.0,1678.0,1729.0,1456.0,328.0,1798.0,3671.0,3282.0,2001.0,2795.0,1103.0,175.0,1427.0,3491.0,1192.0,2945.0,2154.0,3903.0,4926.0,3652.0,774.0,524.0,4667.0,3520.0,1865.0,825.0,643.0,4556.0,1678.0,4699.0,892.0,1255.0,3576.0,945.0,2666.0,2852.0,3086.0,2687.0,1270.0,2973.0,1560.0,4462.0,3297.0,3776.0,3460.0,1627.0,1587.0,755.0,3440.0,2534.0,3241.0,2220.0,4939.0,4372.0,3224.0,985.0,4282.0,1364.0,1257.0,532.0,4817.0,1676.0,2824.0,1792.0,3071.0,4244.0,233.0,4292.0,4067.0,658.0,1863.0,4788.0,4558.0,529.0,2864.0,4467.0,3522.0,460.0,455.0,836.0,2548.0,2377.0,2786.0,2705.0,1277.0,1630.0,180.0,2474.0,2066.0,4278.0,937.0,3128.0,3378.0,118.0,1334.0,754.0,2370.0,2039.0,172.0,1280.0,953.0,2140.0,1185.0,201.0,1030.0,1135.0,4766.0,2146.0,2143.0,1842.0,1204.0,1569.0,396.0,1147.0,174.0,3081.0,1531.0,1855.0,4881.0,1505.0,2145.0,2520.0,242.0,1229.0,689.0,1350.0,287.0,3877.0,341.0,608.0,3783.0,939.0,1922.0,1292.0,1156.0,753.0,1397.0],\"xaxis\":\"x\",\"y\":[\"Small-Cap\",\"Small-Cap\",\"Small-Cap\",\"Small-Cap\",\"Small-Cap\",\"Small-Cap\",\"Small-Cap\",\"Small-Cap\",\"Small-Cap\",\"Small-Cap\",\"Small-Cap\",\"Small-Cap\",\"Small-Cap\",\"Small-Cap\",\"Small-Cap\",\"Small-Cap\",\"Small-Cap\",\"Small-Cap\",\"Small-Cap\",\"Small-Cap\",\"Small-Cap\",\"Small-Cap\",\"Small-Cap\",\"Small-Cap\",\"Small-Cap\",\"Small-Cap\",\"Small-Cap\",\"Small-Cap\",\"Small-Cap\",\"Small-Cap\",\"Small-Cap\",\"Small-Cap\",\"Small-Cap\",\"Small-Cap\",\"Small-Cap\",\"Small-Cap\",\"Small-Cap\",\"Small-Cap\",\"Small-Cap\",\"Small-Cap\",\"Small-Cap\",\"Small-Cap\",\"Small-Cap\",\"Small-Cap\",\"Small-Cap\",\"Small-Cap\",\"Small-Cap\",\"Small-Cap\",\"Small-Cap\",\"Small-Cap\",\"Small-Cap\",\"Small-Cap\",\"Small-Cap\",\"Small-Cap\",\"Small-Cap\",\"Small-Cap\",\"Small-Cap\",\"Small-Cap\",\"Small-Cap\",\"Small-Cap\",\"Small-Cap\",\"Small-Cap\",\"Small-Cap\",\"Small-Cap\",\"Small-Cap\",\"Small-Cap\",\"Small-Cap\",\"Small-Cap\",\"Small-Cap\",\"Small-Cap\",\"Small-Cap\",\"Small-Cap\",\"Small-Cap\",\"Small-Cap\",\"Small-Cap\",\"Small-Cap\",\"Small-Cap\",\"Small-Cap\",\"Small-Cap\",\"Small-Cap\",\"Small-Cap\",\"Small-Cap\",\"Small-Cap\",\"Small-Cap\",\"Small-Cap\",\"Small-Cap\",\"Small-Cap\",\"Small-Cap\",\"Small-Cap\",\"Small-Cap\",\"Small-Cap\",\"Small-Cap\",\"Small-Cap\",\"Small-Cap\",\"Small-Cap\",\"Small-Cap\",\"Small-Cap\",\"Small-Cap\",\"Small-Cap\",\"Small-Cap\",\"Small-Cap\",\"Small-Cap\",\"Small-Cap\",\"Small-Cap\",\"Small-Cap\",\"Small-Cap\",\"Small-Cap\",\"Small-Cap\",\"Small-Cap\",\"Small-Cap\",\"Small-Cap\",\"Small-Cap\",\"Small-Cap\",\"Small-Cap\",\"Small-Cap\",\"Small-Cap\",\"Small-Cap\",\"Small-Cap\",\"Small-Cap\",\"Small-Cap\",\"Small-Cap\",\"Small-Cap\",\"Small-Cap\",\"Small-Cap\",\"Small-Cap\",\"Small-Cap\",\"Small-Cap\",\"Small-Cap\",\"Small-Cap\",\"Small-Cap\",\"Small-Cap\",\"Small-Cap\",\"Small-Cap\",\"Small-Cap\",\"Small-Cap\",\"Small-Cap\",\"Small-Cap\",\"Small-Cap\",\"Small-Cap\",\"Small-Cap\",\"Small-Cap\",\"Small-Cap\",\"Small-Cap\",\"Small-Cap\",\"Small-Cap\",\"Small-Cap\",\"Small-Cap\",\"Small-Cap\",\"Small-Cap\",\"Small-Cap\",\"Small-Cap\"],\"yaxis\":\"y\",\"type\":\"scatter\"}],                        {\"template\":{\"data\":{\"bar\":[{\"error_x\":{\"color\":\"#2a3f5f\"},\"error_y\":{\"color\":\"#2a3f5f\"},\"marker\":{\"line\":{\"color\":\"#E5ECF6\",\"width\":0.5},\"pattern\":{\"fillmode\":\"overlay\",\"size\":10,\"solidity\":0.2}},\"type\":\"bar\"}],\"barpolar\":[{\"marker\":{\"line\":{\"color\":\"#E5ECF6\",\"width\":0.5},\"pattern\":{\"fillmode\":\"overlay\",\"size\":10,\"solidity\":0.2}},\"type\":\"barpolar\"}],\"carpet\":[{\"aaxis\":{\"endlinecolor\":\"#2a3f5f\",\"gridcolor\":\"white\",\"linecolor\":\"white\",\"minorgridcolor\":\"white\",\"startlinecolor\":\"#2a3f5f\"},\"baxis\":{\"endlinecolor\":\"#2a3f5f\",\"gridcolor\":\"white\",\"linecolor\":\"white\",\"minorgridcolor\":\"white\",\"startlinecolor\":\"#2a3f5f\"},\"type\":\"carpet\"}],\"choropleth\":[{\"colorbar\":{\"outlinewidth\":0,\"ticks\":\"\"},\"type\":\"choropleth\"}],\"contour\":[{\"colorbar\":{\"outlinewidth\":0,\"ticks\":\"\"},\"colorscale\":[[0.0,\"#0d0887\"],[0.1111111111111111,\"#46039f\"],[0.2222222222222222,\"#7201a8\"],[0.3333333333333333,\"#9c179e\"],[0.4444444444444444,\"#bd3786\"],[0.5555555555555556,\"#d8576b\"],[0.6666666666666666,\"#ed7953\"],[0.7777777777777778,\"#fb9f3a\"],[0.8888888888888888,\"#fdca26\"],[1.0,\"#f0f921\"]],\"type\":\"contour\"}],\"contourcarpet\":[{\"colorbar\":{\"outlinewidth\":0,\"ticks\":\"\"},\"type\":\"contourcarpet\"}],\"heatmap\":[{\"colorbar\":{\"outlinewidth\":0,\"ticks\":\"\"},\"colorscale\":[[0.0,\"#0d0887\"],[0.1111111111111111,\"#46039f\"],[0.2222222222222222,\"#7201a8\"],[0.3333333333333333,\"#9c179e\"],[0.4444444444444444,\"#bd3786\"],[0.5555555555555556,\"#d8576b\"],[0.6666666666666666,\"#ed7953\"],[0.7777777777777778,\"#fb9f3a\"],[0.8888888888888888,\"#fdca26\"],[1.0,\"#f0f921\"]],\"type\":\"heatmap\"}],\"heatmapgl\":[{\"colorbar\":{\"outlinewidth\":0,\"ticks\":\"\"},\"colorscale\":[[0.0,\"#0d0887\"],[0.1111111111111111,\"#46039f\"],[0.2222222222222222,\"#7201a8\"],[0.3333333333333333,\"#9c179e\"],[0.4444444444444444,\"#bd3786\"],[0.5555555555555556,\"#d8576b\"],[0.6666666666666666,\"#ed7953\"],[0.7777777777777778,\"#fb9f3a\"],[0.8888888888888888,\"#fdca26\"],[1.0,\"#f0f921\"]],\"type\":\"heatmapgl\"}],\"histogram\":[{\"marker\":{\"pattern\":{\"fillmode\":\"overlay\",\"size\":10,\"solidity\":0.2}},\"type\":\"histogram\"}],\"histogram2d\":[{\"colorbar\":{\"outlinewidth\":0,\"ticks\":\"\"},\"colorscale\":[[0.0,\"#0d0887\"],[0.1111111111111111,\"#46039f\"],[0.2222222222222222,\"#7201a8\"],[0.3333333333333333,\"#9c179e\"],[0.4444444444444444,\"#bd3786\"],[0.5555555555555556,\"#d8576b\"],[0.6666666666666666,\"#ed7953\"],[0.7777777777777778,\"#fb9f3a\"],[0.8888888888888888,\"#fdca26\"],[1.0,\"#f0f921\"]],\"type\":\"histogram2d\"}],\"histogram2dcontour\":[{\"colorbar\":{\"outlinewidth\":0,\"ticks\":\"\"},\"colorscale\":[[0.0,\"#0d0887\"],[0.1111111111111111,\"#46039f\"],[0.2222222222222222,\"#7201a8\"],[0.3333333333333333,\"#9c179e\"],[0.4444444444444444,\"#bd3786\"],[0.5555555555555556,\"#d8576b\"],[0.6666666666666666,\"#ed7953\"],[0.7777777777777778,\"#fb9f3a\"],[0.8888888888888888,\"#fdca26\"],[1.0,\"#f0f921\"]],\"type\":\"histogram2dcontour\"}],\"mesh3d\":[{\"colorbar\":{\"outlinewidth\":0,\"ticks\":\"\"},\"type\":\"mesh3d\"}],\"parcoords\":[{\"line\":{\"colorbar\":{\"outlinewidth\":0,\"ticks\":\"\"}},\"type\":\"parcoords\"}],\"pie\":[{\"automargin\":true,\"type\":\"pie\"}],\"scatter\":[{\"marker\":{\"colorbar\":{\"outlinewidth\":0,\"ticks\":\"\"}},\"type\":\"scatter\"}],\"scatter3d\":[{\"line\":{\"colorbar\":{\"outlinewidth\":0,\"ticks\":\"\"}},\"marker\":{\"colorbar\":{\"outlinewidth\":0,\"ticks\":\"\"}},\"type\":\"scatter3d\"}],\"scattercarpet\":[{\"marker\":{\"colorbar\":{\"outlinewidth\":0,\"ticks\":\"\"}},\"type\":\"scattercarpet\"}],\"scattergeo\":[{\"marker\":{\"colorbar\":{\"outlinewidth\":0,\"ticks\":\"\"}},\"type\":\"scattergeo\"}],\"scattergl\":[{\"marker\":{\"colorbar\":{\"outlinewidth\":0,\"ticks\":\"\"}},\"type\":\"scattergl\"}],\"scattermapbox\":[{\"marker\":{\"colorbar\":{\"outlinewidth\":0,\"ticks\":\"\"}},\"type\":\"scattermapbox\"}],\"scatterpolar\":[{\"marker\":{\"colorbar\":{\"outlinewidth\":0,\"ticks\":\"\"}},\"type\":\"scatterpolar\"}],\"scatterpolargl\":[{\"marker\":{\"colorbar\":{\"outlinewidth\":0,\"ticks\":\"\"}},\"type\":\"scatterpolargl\"}],\"scatterternary\":[{\"marker\":{\"colorbar\":{\"outlinewidth\":0,\"ticks\":\"\"}},\"type\":\"scatterternary\"}],\"surface\":[{\"colorbar\":{\"outlinewidth\":0,\"ticks\":\"\"},\"colorscale\":[[0.0,\"#0d0887\"],[0.1111111111111111,\"#46039f\"],[0.2222222222222222,\"#7201a8\"],[0.3333333333333333,\"#9c179e\"],[0.4444444444444444,\"#bd3786\"],[0.5555555555555556,\"#d8576b\"],[0.6666666666666666,\"#ed7953\"],[0.7777777777777778,\"#fb9f3a\"],[0.8888888888888888,\"#fdca26\"],[1.0,\"#f0f921\"]],\"type\":\"surface\"}],\"table\":[{\"cells\":{\"fill\":{\"color\":\"#EBF0F8\"},\"line\":{\"color\":\"white\"}},\"header\":{\"fill\":{\"color\":\"#C8D4E3\"},\"line\":{\"color\":\"white\"}},\"type\":\"table\"}]},\"layout\":{\"annotationdefaults\":{\"arrowcolor\":\"#2a3f5f\",\"arrowhead\":0,\"arrowwidth\":1},\"autotypenumbers\":\"strict\",\"coloraxis\":{\"colorbar\":{\"outlinewidth\":0,\"ticks\":\"\"}},\"colorscale\":{\"diverging\":[[0,\"#8e0152\"],[0.1,\"#c51b7d\"],[0.2,\"#de77ae\"],[0.3,\"#f1b6da\"],[0.4,\"#fde0ef\"],[0.5,\"#f7f7f7\"],[0.6,\"#e6f5d0\"],[0.7,\"#b8e186\"],[0.8,\"#7fbc41\"],[0.9,\"#4d9221\"],[1,\"#276419\"]],\"sequential\":[[0.0,\"#0d0887\"],[0.1111111111111111,\"#46039f\"],[0.2222222222222222,\"#7201a8\"],[0.3333333333333333,\"#9c179e\"],[0.4444444444444444,\"#bd3786\"],[0.5555555555555556,\"#d8576b\"],[0.6666666666666666,\"#ed7953\"],[0.7777777777777778,\"#fb9f3a\"],[0.8888888888888888,\"#fdca26\"],[1.0,\"#f0f921\"]],\"sequentialminus\":[[0.0,\"#0d0887\"],[0.1111111111111111,\"#46039f\"],[0.2222222222222222,\"#7201a8\"],[0.3333333333333333,\"#9c179e\"],[0.4444444444444444,\"#bd3786\"],[0.5555555555555556,\"#d8576b\"],[0.6666666666666666,\"#ed7953\"],[0.7777777777777778,\"#fb9f3a\"],[0.8888888888888888,\"#fdca26\"],[1.0,\"#f0f921\"]]},\"colorway\":[\"#636efa\",\"#EF553B\",\"#00cc96\",\"#ab63fa\",\"#FFA15A\",\"#19d3f3\",\"#FF6692\",\"#B6E880\",\"#FF97FF\",\"#FECB52\"],\"font\":{\"color\":\"#2a3f5f\"},\"geo\":{\"bgcolor\":\"white\",\"lakecolor\":\"white\",\"landcolor\":\"#E5ECF6\",\"showlakes\":true,\"showland\":true,\"subunitcolor\":\"white\"},\"hoverlabel\":{\"align\":\"left\"},\"hovermode\":\"closest\",\"mapbox\":{\"style\":\"light\"},\"paper_bgcolor\":\"white\",\"plot_bgcolor\":\"#E5ECF6\",\"polar\":{\"angularaxis\":{\"gridcolor\":\"white\",\"linecolor\":\"white\",\"ticks\":\"\"},\"bgcolor\":\"#E5ECF6\",\"radialaxis\":{\"gridcolor\":\"white\",\"linecolor\":\"white\",\"ticks\":\"\"}},\"scene\":{\"xaxis\":{\"backgroundcolor\":\"#E5ECF6\",\"gridcolor\":\"white\",\"gridwidth\":2,\"linecolor\":\"white\",\"showbackground\":true,\"ticks\":\"\",\"zerolinecolor\":\"white\"},\"yaxis\":{\"backgroundcolor\":\"#E5ECF6\",\"gridcolor\":\"white\",\"gridwidth\":2,\"linecolor\":\"white\",\"showbackground\":true,\"ticks\":\"\",\"zerolinecolor\":\"white\"},\"zaxis\":{\"backgroundcolor\":\"#E5ECF6\",\"gridcolor\":\"white\",\"gridwidth\":2,\"linecolor\":\"white\",\"showbackground\":true,\"ticks\":\"\",\"zerolinecolor\":\"white\"}},\"shapedefaults\":{\"line\":{\"color\":\"#2a3f5f\"}},\"ternary\":{\"aaxis\":{\"gridcolor\":\"white\",\"linecolor\":\"white\",\"ticks\":\"\"},\"baxis\":{\"gridcolor\":\"white\",\"linecolor\":\"white\",\"ticks\":\"\"},\"bgcolor\":\"#E5ECF6\",\"caxis\":{\"gridcolor\":\"white\",\"linecolor\":\"white\",\"ticks\":\"\"}},\"title\":{\"x\":0.05},\"xaxis\":{\"automargin\":true,\"gridcolor\":\"white\",\"linecolor\":\"white\",\"ticks\":\"\",\"title\":{\"standoff\":15},\"zerolinecolor\":\"white\",\"zerolinewidth\":2},\"yaxis\":{\"automargin\":true,\"gridcolor\":\"white\",\"linecolor\":\"white\",\"ticks\":\"\",\"title\":{\"standoff\":15},\"zerolinecolor\":\"white\",\"zerolinewidth\":2}}},\"xaxis\":{\"anchor\":\"y\",\"domain\":[0.0,1.0],\"title\":{\"text\":\"2019 MARKET CAP(\\u20b9 Cr)\"}},\"yaxis\":{\"anchor\":\"x\",\"domain\":[0.0,1.0],\"title\":{\"text\":\"2019 COMPANY TYPE\"},\"categoryorder\":\"array\",\"categoryarray\":[\"Small-Cap\",\"Mid-Cap\",\"Large-Cap\"]},\"legend\":{\"title\":{\"text\":\"2019 COMPANY TYPE\"},\"tracegroupgap\":0,\"itemsizing\":\"constant\"},\"margin\":{\"t\":60}},                        {\"responsive\": true}                    ).then(function(){\n",
       "                            \n",
       "var gd = document.getElementById('49fdcf6a-acb3-4e0c-bd72-f01d6cffcb03');\n",
       "var x = new MutationObserver(function (mutations, observer) {{\n",
       "        var display = window.getComputedStyle(gd).display;\n",
       "        if (!display || display === 'none') {{\n",
       "            console.log([gd, 'removed!']);\n",
       "            Plotly.purge(gd);\n",
       "            observer.disconnect();\n",
       "        }}\n",
       "}});\n",
       "\n",
       "// Listen for the removal of the full notebook cells\n",
       "var notebookContainer = gd.closest('#notebook-container');\n",
       "if (notebookContainer) {{\n",
       "    x.observe(notebookContainer, {childList: true});\n",
       "}}\n",
       "\n",
       "// Listen for the clearing of the current output cell\n",
       "var outputEl = gd.closest('.output');\n",
       "if (outputEl) {{\n",
       "    x.observe(outputEl, {childList: true});\n",
       "}}\n",
       "\n",
       "                        })                };                });            </script>        </div>"
      ]
     },
     "metadata": {},
     "output_type": "display_data"
    }
   ],
   "source": [
    "import plotly.express as px\n",
    "fig = px.scatter(reports[\"ET_REPORT_2019\"],x = reports[\"ET_REPORT_2019\"][\"2019 MARKET CAP(₹ Cr)\"], y = reports[\"ET_REPORT_2019\"][\"2019 COMPANY TYPE\"],\n",
    "hover_name = reports[\"ET_REPORT_2019\"][\"COMPANY NAME\"],color =reports[\"ET_REPORT_2019\"][\"2019 COMPANY TYPE\"] ,size = reports[\"ET_REPORT_2019\"][\"2019 MARKET CAP(₹ Cr)\"], size_max = 100)\n",
    "fig.show()"
   ]
  }
 ],
 "metadata": {
  "kernelspec": {
   "display_name": "Python 3.9.12 ('base')",
   "language": "python",
   "name": "python3"
  },
  "language_info": {
   "codemirror_mode": {
    "name": "ipython",
    "version": 3
   },
   "file_extension": ".py",
   "mimetype": "text/x-python",
   "name": "python",
   "nbconvert_exporter": "python",
   "pygments_lexer": "ipython3",
   "version": "3.9.12"
  },
  "orig_nbformat": 4,
  "vscode": {
   "interpreter": {
    "hash": "4195ac55b1039ea2cba7172c0e5d96a7cf0ce118c8fecb7e1bc9c7c887f2d96f"
   }
  }
 },
 "nbformat": 4,
 "nbformat_minor": 2
}
