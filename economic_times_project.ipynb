{
 "cells": [
  {
   "attachments": {},
   "cell_type": "markdown",
   "metadata": {},
   "source": [
    "# **<font face = \"Times New Roman\" color = \"orange\">Objectives of the Project</font>**"
   ]
  },
  {
   "attachments": {},
   "cell_type": "markdown",
   "metadata": {},
   "source": [
    "**1. Comparing the economic and financial status of the Companies pre-covid and post-covid**\n",
    "\n",
    "**2. Pulling out key figures from the data set**\n",
    "\n",
    "**3. Segregating companies based on the market capitalisation**\n",
    "\n",
    "**4. Comparing the top 10 companies overall by visual representation**"
   ]
  },
  {
   "cell_type": "code",
   "execution_count": 324,
   "metadata": {},
   "outputs": [],
   "source": [
    "import pandas as pd \n",
    "import numpy as np\n",
    "import matplotlib.pyplot as plt\n",
    "import warnings\n",
    "warnings.filterwarnings(\"ignore\")\n",
    "%matplotlib inline\n",
    "\n"
   ]
  },
  {
   "attachments": {},
   "cell_type": "markdown",
   "metadata": {},
   "source": [
    "<font color = \"orange\" size = 5 face = \"Times New Roman\">Reading the data and parsing it.</font>\n",
    "\n",
    "> **[Source of the Data](https://www.kaggle.com/datasets/ramjasmaurya/et-top-500-indian-companies-since-2009?resource=download)**"
   ]
  },
  {
   "cell_type": "code",
   "execution_count": 325,
   "metadata": {},
   "outputs": [
    {
     "data": {
      "text/html": [
       "<div>\n",
       "<style scoped>\n",
       "    .dataframe tbody tr th:only-of-type {\n",
       "        vertical-align: middle;\n",
       "    }\n",
       "\n",
       "    .dataframe tbody tr th {\n",
       "        vertical-align: top;\n",
       "    }\n",
       "\n",
       "    .dataframe thead th {\n",
       "        text-align: right;\n",
       "    }\n",
       "</style>\n",
       "<table border=\"1\" class=\"dataframe\">\n",
       "  <thead>\n",
       "    <tr style=\"text-align: right;\">\n",
       "      <th></th>\n",
       "      <th>RANK</th>\n",
       "      <th>PREVIOUS YEAR RANK</th>\n",
       "      <th>COMPANY NAME</th>\n",
       "      <th>REVENUE(₹ Cr)</th>\n",
       "      <th>REVENUE CHANGE</th>\n",
       "      <th>PAT IN CRORES</th>\n",
       "      <th>PAT CHANGE</th>\n",
       "      <th>MARKET CAP(₹ Cr)</th>\n",
       "      <th>YEAR</th>\n",
       "    </tr>\n",
       "  </thead>\n",
       "  <tbody>\n",
       "    <tr>\n",
       "      <th>0</th>\n",
       "      <td>1</td>\n",
       "      <td>1</td>\n",
       "      <td>Reliance Industries Ltd.</td>\n",
       "      <td>505153</td>\n",
       "      <td>-17.30</td>\n",
       "      <td>53739</td>\n",
       "      <td>34.75</td>\n",
       "      <td>1573893.0</td>\n",
       "      <td>2021</td>\n",
       "    </tr>\n",
       "    <tr>\n",
       "      <th>1</th>\n",
       "      <td>2</td>\n",
       "      <td>4</td>\n",
       "      <td>State Bank of India</td>\n",
       "      <td>385337</td>\n",
       "      <td>NaN</td>\n",
       "      <td>24279</td>\n",
       "      <td>4.71</td>\n",
       "      <td>448717.0</td>\n",
       "      <td>2021</td>\n",
       "    </tr>\n",
       "    <tr>\n",
       "      <th>2</th>\n",
       "      <td>3</td>\n",
       "      <td>2</td>\n",
       "      <td>Indian Oil Corporation Ltd.</td>\n",
       "      <td>368645</td>\n",
       "      <td>-24.44</td>\n",
       "      <td>21762</td>\n",
       "      <td>NaN</td>\n",
       "      <td>122384.0</td>\n",
       "      <td>2021</td>\n",
       "    </tr>\n",
       "    <tr>\n",
       "      <th>3</th>\n",
       "      <td>4</td>\n",
       "      <td>3</td>\n",
       "      <td>Oil And Natural Gas Corporation Ltd.</td>\n",
       "      <td>315262</td>\n",
       "      <td>-22.50</td>\n",
       "      <td>21343</td>\n",
       "      <td>86.30</td>\n",
       "      <td>191776.0</td>\n",
       "      <td>2021</td>\n",
       "    </tr>\n",
       "    <tr>\n",
       "      <th>4</th>\n",
       "      <td>5</td>\n",
       "      <td>8</td>\n",
       "      <td>Rajesh Exports Ltd.</td>\n",
       "      <td>258315</td>\n",
       "      <td>-29.88</td>\n",
       "      <td>845</td>\n",
       "      <td>32.06</td>\n",
       "      <td>20169.0</td>\n",
       "      <td>2021</td>\n",
       "    </tr>\n",
       "    <tr>\n",
       "      <th>...</th>\n",
       "      <td>...</td>\n",
       "      <td>...</td>\n",
       "      <td>...</td>\n",
       "      <td>...</td>\n",
       "      <td>...</td>\n",
       "      <td>...</td>\n",
       "      <td>...</td>\n",
       "      <td>...</td>\n",
       "      <td>...</td>\n",
       "    </tr>\n",
       "    <tr>\n",
       "      <th>6495</th>\n",
       "      <td>496</td>\n",
       "      <td>N.A.</td>\n",
       "      <td>Texmaco Infrastructure &amp; Holdings Ltd.</td>\n",
       "      <td>814</td>\n",
       "      <td>16.41</td>\n",
       "      <td>75</td>\n",
       "      <td>NaN</td>\n",
       "      <td>1577.0</td>\n",
       "      <td>2009</td>\n",
       "    </tr>\n",
       "    <tr>\n",
       "      <th>6496</th>\n",
       "      <td>497</td>\n",
       "      <td>N.A.</td>\n",
       "      <td>Procter &amp; Gamble Hygiene &amp; Healthcare Ltd.</td>\n",
       "      <td>811</td>\n",
       "      <td>26.22</td>\n",
       "      <td>178</td>\n",
       "      <td>NaN</td>\n",
       "      <td>4174.0</td>\n",
       "      <td>2009</td>\n",
       "    </tr>\n",
       "    <tr>\n",
       "      <th>6497</th>\n",
       "      <td>498</td>\n",
       "      <td>N.A.</td>\n",
       "      <td>Alfa Laval (India) Ltd.</td>\n",
       "      <td>810</td>\n",
       "      <td>16.74</td>\n",
       "      <td>90</td>\n",
       "      <td>-1.44</td>\n",
       "      <td>1827.0</td>\n",
       "      <td>2009</td>\n",
       "    </tr>\n",
       "    <tr>\n",
       "      <th>6498</th>\n",
       "      <td>499</td>\n",
       "      <td>N.A.</td>\n",
       "      <td>Pratibha Industries Ltd.</td>\n",
       "      <td>810</td>\n",
       "      <td>43.49</td>\n",
       "      <td>44</td>\n",
       "      <td>NaN</td>\n",
       "      <td>353.0</td>\n",
       "      <td>2009</td>\n",
       "    </tr>\n",
       "    <tr>\n",
       "      <th>6499</th>\n",
       "      <td>500</td>\n",
       "      <td>N.A.</td>\n",
       "      <td>Heidelberg Cement India Ltd.</td>\n",
       "      <td>805</td>\n",
       "      <td>35.50</td>\n",
       "      <td>125</td>\n",
       "      <td>NaN</td>\n",
       "      <td>1002.0</td>\n",
       "      <td>2009</td>\n",
       "    </tr>\n",
       "  </tbody>\n",
       "</table>\n",
       "<p>6500 rows × 9 columns</p>\n",
       "</div>"
      ],
      "text/plain": [
       "      RANK PREVIOUS YEAR RANK                                COMPANY NAME  \\\n",
       "0        1                  1                    Reliance Industries Ltd.   \n",
       "1        2                  4                         State Bank of India   \n",
       "2        3                  2                 Indian Oil Corporation Ltd.   \n",
       "3        4                  3        Oil And Natural Gas Corporation Ltd.   \n",
       "4        5                  8                         Rajesh Exports Ltd.   \n",
       "...    ...                ...                                         ...   \n",
       "6495   496               N.A.      Texmaco Infrastructure & Holdings Ltd.   \n",
       "6496   497               N.A.  Procter & Gamble Hygiene & Healthcare Ltd.   \n",
       "6497   498               N.A.                     Alfa Laval (India) Ltd.   \n",
       "6498   499               N.A.                    Pratibha Industries Ltd.   \n",
       "6499   500               N.A.                Heidelberg Cement India Ltd.   \n",
       "\n",
       "      REVENUE(₹ Cr)  REVENUE CHANGE  PAT IN CRORES  PAT CHANGE  \\\n",
       "0            505153          -17.30          53739       34.75   \n",
       "1            385337             NaN          24279        4.71   \n",
       "2            368645          -24.44          21762         NaN   \n",
       "3            315262          -22.50          21343       86.30   \n",
       "4            258315          -29.88            845       32.06   \n",
       "...             ...             ...            ...         ...   \n",
       "6495            814           16.41             75         NaN   \n",
       "6496            811           26.22            178         NaN   \n",
       "6497            810           16.74             90       -1.44   \n",
       "6498            810           43.49             44         NaN   \n",
       "6499            805           35.50            125         NaN   \n",
       "\n",
       "      MARKET CAP(₹ Cr)  YEAR  \n",
       "0            1573893.0  2021  \n",
       "1             448717.0  2021  \n",
       "2             122384.0  2021  \n",
       "3             191776.0  2021  \n",
       "4              20169.0  2021  \n",
       "...                ...   ...  \n",
       "6495            1577.0  2009  \n",
       "6496            4174.0  2009  \n",
       "6497            1827.0  2009  \n",
       "6498             353.0  2009  \n",
       "6499            1002.0  2009  \n",
       "\n",
       "[6500 rows x 9 columns]"
      ]
     },
     "execution_count": 325,
     "metadata": {},
     "output_type": "execute_result"
    }
   ],
   "source": [
    "economic_times = pd.read_csv(\"C:/Users/leste/OneDrive/Desktop/Python files/mypythonprogrammes/Mydatafiles/Economic times Top 500 companies since 2009 - 2009-2021 - Copy.csv\",header= None ,thousands= \",\", names =  [\"RANK\",\"PREVIOUS YEAR RANK\",\"COMPANY NAME\",\"REVENUE(₹ Cr)\",\"REVENUE CHANGE\",\"PAT IN CRORES\",\"PAT CHANGE\",\"MARKET CAP(₹ Cr)\", \"YEAR\"], skiprows= 1)\n",
    "economic_times"
   ]
  },
  {
   "cell_type": "code",
   "execution_count": 326,
   "metadata": {},
   "outputs": [],
   "source": [
    "economic_times = economic_times[economic_times[\"YEAR\"] > 2017]"
   ]
  },
  {
   "attachments": {},
   "cell_type": "markdown",
   "metadata": {},
   "source": [
    "<font size = \"5\"  face = \"Times New Roman\">**Statistical description of the data**</font>"
   ]
  },
  {
   "cell_type": "code",
   "execution_count": 327,
   "metadata": {},
   "outputs": [
    {
     "data": {
      "text/html": [
       "<div>\n",
       "<style scoped>\n",
       "    .dataframe tbody tr th:only-of-type {\n",
       "        vertical-align: middle;\n",
       "    }\n",
       "\n",
       "    .dataframe tbody tr th {\n",
       "        vertical-align: top;\n",
       "    }\n",
       "\n",
       "    .dataframe thead th {\n",
       "        text-align: right;\n",
       "    }\n",
       "</style>\n",
       "<table border=\"1\" class=\"dataframe\">\n",
       "  <thead>\n",
       "    <tr style=\"text-align: right;\">\n",
       "      <th></th>\n",
       "      <th>RANK</th>\n",
       "      <th>REVENUE(₹ Cr)</th>\n",
       "      <th>REVENUE CHANGE</th>\n",
       "      <th>PAT IN CRORES</th>\n",
       "      <th>PAT CHANGE</th>\n",
       "      <th>MARKET CAP(₹ Cr)</th>\n",
       "      <th>YEAR</th>\n",
       "    </tr>\n",
       "  </thead>\n",
       "  <tbody>\n",
       "    <tr>\n",
       "      <th>count</th>\n",
       "      <td>2000.000000</td>\n",
       "      <td>2000.000000</td>\n",
       "      <td>1521.000000</td>\n",
       "      <td>2000.000000</td>\n",
       "      <td>1157.000000</td>\n",
       "      <td>2.000000e+03</td>\n",
       "      <td>2000.000000</td>\n",
       "    </tr>\n",
       "    <tr>\n",
       "      <th>mean</th>\n",
       "      <td>250.500000</td>\n",
       "      <td>18594.475500</td>\n",
       "      <td>32.296252</td>\n",
       "      <td>954.345000</td>\n",
       "      <td>72.192982</td>\n",
       "      <td>3.269156e+04</td>\n",
       "      <td>2019.500000</td>\n",
       "    </tr>\n",
       "    <tr>\n",
       "      <th>std</th>\n",
       "      <td>144.373376</td>\n",
       "      <td>48583.402204</td>\n",
       "      <td>369.963131</td>\n",
       "      <td>4626.374386</td>\n",
       "      <td>540.477432</td>\n",
       "      <td>9.388895e+04</td>\n",
       "      <td>1.118314</td>\n",
       "    </tr>\n",
       "    <tr>\n",
       "      <th>min</th>\n",
       "      <td>1.000000</td>\n",
       "      <td>1994.000000</td>\n",
       "      <td>-97.630000</td>\n",
       "      <td>-73878.000000</td>\n",
       "      <td>-115.600000</td>\n",
       "      <td>1.020000e+02</td>\n",
       "      <td>2018.000000</td>\n",
       "    </tr>\n",
       "    <tr>\n",
       "      <th>25%</th>\n",
       "      <td>125.750000</td>\n",
       "      <td>3102.500000</td>\n",
       "      <td>2.710000</td>\n",
       "      <td>92.750000</td>\n",
       "      <td>0.130000</td>\n",
       "      <td>2.496500e+03</td>\n",
       "      <td>2018.750000</td>\n",
       "    </tr>\n",
       "    <tr>\n",
       "      <th>50%</th>\n",
       "      <td>250.500000</td>\n",
       "      <td>5562.000000</td>\n",
       "      <td>11.220000</td>\n",
       "      <td>335.000000</td>\n",
       "      <td>12.200000</td>\n",
       "      <td>8.034000e+03</td>\n",
       "      <td>2019.500000</td>\n",
       "    </tr>\n",
       "    <tr>\n",
       "      <th>75%</th>\n",
       "      <td>375.250000</td>\n",
       "      <td>12348.750000</td>\n",
       "      <td>21.600000</td>\n",
       "      <td>919.750000</td>\n",
       "      <td>33.710000</td>\n",
       "      <td>2.534150e+04</td>\n",
       "      <td>2020.250000</td>\n",
       "    </tr>\n",
       "    <tr>\n",
       "      <th>max</th>\n",
       "      <td>500.000000</td>\n",
       "      <td>610806.000000</td>\n",
       "      <td>13513.110000</td>\n",
       "      <td>53739.000000</td>\n",
       "      <td>13644.840000</td>\n",
       "      <td>1.573893e+06</td>\n",
       "      <td>2021.000000</td>\n",
       "    </tr>\n",
       "  </tbody>\n",
       "</table>\n",
       "</div>"
      ],
      "text/plain": [
       "              RANK  REVENUE(₹ Cr)  REVENUE CHANGE  PAT IN CRORES  \\\n",
       "count  2000.000000    2000.000000     1521.000000    2000.000000   \n",
       "mean    250.500000   18594.475500       32.296252     954.345000   \n",
       "std     144.373376   48583.402204      369.963131    4626.374386   \n",
       "min       1.000000    1994.000000      -97.630000  -73878.000000   \n",
       "25%     125.750000    3102.500000        2.710000      92.750000   \n",
       "50%     250.500000    5562.000000       11.220000     335.000000   \n",
       "75%     375.250000   12348.750000       21.600000     919.750000   \n",
       "max     500.000000  610806.000000    13513.110000   53739.000000   \n",
       "\n",
       "         PAT CHANGE  MARKET CAP(₹ Cr)         YEAR  \n",
       "count   1157.000000      2.000000e+03  2000.000000  \n",
       "mean      72.192982      3.269156e+04  2019.500000  \n",
       "std      540.477432      9.388895e+04     1.118314  \n",
       "min     -115.600000      1.020000e+02  2018.000000  \n",
       "25%        0.130000      2.496500e+03  2018.750000  \n",
       "50%       12.200000      8.034000e+03  2019.500000  \n",
       "75%       33.710000      2.534150e+04  2020.250000  \n",
       "max    13644.840000      1.573893e+06  2021.000000  "
      ]
     },
     "execution_count": 327,
     "metadata": {},
     "output_type": "execute_result"
    }
   ],
   "source": [
    "economic_times.describe()"
   ]
  },
  {
   "cell_type": "code",
   "execution_count": 328,
   "metadata": {},
   "outputs": [
    {
     "data": {
      "text/html": [
       "<div>\n",
       "<style scoped>\n",
       "    .dataframe tbody tr th:only-of-type {\n",
       "        vertical-align: middle;\n",
       "    }\n",
       "\n",
       "    .dataframe tbody tr th {\n",
       "        vertical-align: top;\n",
       "    }\n",
       "\n",
       "    .dataframe thead th {\n",
       "        text-align: right;\n",
       "    }\n",
       "</style>\n",
       "<table border=\"1\" class=\"dataframe\">\n",
       "  <thead>\n",
       "    <tr style=\"text-align: right;\">\n",
       "      <th></th>\n",
       "      <th>RANK</th>\n",
       "      <th>PREVIOUS YEAR RANK</th>\n",
       "      <th>COMPANY NAME</th>\n",
       "      <th>REVENUE(₹ Cr)</th>\n",
       "      <th>REVENUE CHANGE</th>\n",
       "      <th>PAT IN CRORES</th>\n",
       "      <th>PAT CHANGE</th>\n",
       "      <th>MARKET CAP(₹ Cr)</th>\n",
       "      <th>YEAR</th>\n",
       "    </tr>\n",
       "  </thead>\n",
       "  <tbody>\n",
       "    <tr>\n",
       "      <th>0</th>\n",
       "      <td>1</td>\n",
       "      <td>1</td>\n",
       "      <td>Reliance Industries Ltd.</td>\n",
       "      <td>505153</td>\n",
       "      <td>-17.30</td>\n",
       "      <td>53739</td>\n",
       "      <td>34.75</td>\n",
       "      <td>1573893.0</td>\n",
       "      <td>2021</td>\n",
       "    </tr>\n",
       "    <tr>\n",
       "      <th>1</th>\n",
       "      <td>2</td>\n",
       "      <td>4</td>\n",
       "      <td>State Bank of India</td>\n",
       "      <td>385337</td>\n",
       "      <td>NaN</td>\n",
       "      <td>24279</td>\n",
       "      <td>4.71</td>\n",
       "      <td>448717.0</td>\n",
       "      <td>2021</td>\n",
       "    </tr>\n",
       "    <tr>\n",
       "      <th>2</th>\n",
       "      <td>3</td>\n",
       "      <td>2</td>\n",
       "      <td>Indian Oil Corporation Ltd.</td>\n",
       "      <td>368645</td>\n",
       "      <td>-24.44</td>\n",
       "      <td>21762</td>\n",
       "      <td>NaN</td>\n",
       "      <td>122384.0</td>\n",
       "      <td>2021</td>\n",
       "    </tr>\n",
       "    <tr>\n",
       "      <th>3</th>\n",
       "      <td>4</td>\n",
       "      <td>3</td>\n",
       "      <td>Oil And Natural Gas Corporation Ltd.</td>\n",
       "      <td>315262</td>\n",
       "      <td>-22.50</td>\n",
       "      <td>21343</td>\n",
       "      <td>86.30</td>\n",
       "      <td>191776.0</td>\n",
       "      <td>2021</td>\n",
       "    </tr>\n",
       "    <tr>\n",
       "      <th>4</th>\n",
       "      <td>5</td>\n",
       "      <td>8</td>\n",
       "      <td>Rajesh Exports Ltd.</td>\n",
       "      <td>258315</td>\n",
       "      <td>-29.88</td>\n",
       "      <td>845</td>\n",
       "      <td>32.06</td>\n",
       "      <td>20169.0</td>\n",
       "      <td>2021</td>\n",
       "    </tr>\n",
       "  </tbody>\n",
       "</table>\n",
       "</div>"
      ],
      "text/plain": [
       "   RANK PREVIOUS YEAR RANK                          COMPANY NAME  \\\n",
       "0     1                  1              Reliance Industries Ltd.   \n",
       "1     2                  4                   State Bank of India   \n",
       "2     3                  2           Indian Oil Corporation Ltd.   \n",
       "3     4                  3  Oil And Natural Gas Corporation Ltd.   \n",
       "4     5                  8                   Rajesh Exports Ltd.   \n",
       "\n",
       "   REVENUE(₹ Cr)  REVENUE CHANGE  PAT IN CRORES  PAT CHANGE  MARKET CAP(₹ Cr)  \\\n",
       "0         505153          -17.30          53739       34.75         1573893.0   \n",
       "1         385337             NaN          24279        4.71          448717.0   \n",
       "2         368645          -24.44          21762         NaN          122384.0   \n",
       "3         315262          -22.50          21343       86.30          191776.0   \n",
       "4         258315          -29.88            845       32.06           20169.0   \n",
       "\n",
       "   YEAR  \n",
       "0  2021  \n",
       "1  2021  \n",
       "2  2021  \n",
       "3  2021  \n",
       "4  2021  "
      ]
     },
     "execution_count": 328,
     "metadata": {},
     "output_type": "execute_result"
    }
   ],
   "source": [
    "economic_times.head(5)"
   ]
  },
  {
   "attachments": {},
   "cell_type": "markdown",
   "metadata": {},
   "source": [
    "<font size = \"5\"  face = \"Times New Roman\">**Info on the data**</font>"
   ]
  },
  {
   "cell_type": "code",
   "execution_count": 329,
   "metadata": {},
   "outputs": [
    {
     "name": "stdout",
     "output_type": "stream",
     "text": [
      "<class 'pandas.core.frame.DataFrame'>\n",
      "Int64Index: 2000 entries, 0 to 1999\n",
      "Data columns (total 9 columns):\n",
      " #   Column              Non-Null Count  Dtype  \n",
      "---  ------              --------------  -----  \n",
      " 0   RANK                2000 non-null   int64  \n",
      " 1   PREVIOUS YEAR RANK  2000 non-null   object \n",
      " 2   COMPANY NAME        2000 non-null   object \n",
      " 3   REVENUE(₹ Cr)       2000 non-null   int64  \n",
      " 4   REVENUE CHANGE      1521 non-null   float64\n",
      " 5   PAT IN CRORES       2000 non-null   int64  \n",
      " 6   PAT CHANGE          1157 non-null   float64\n",
      " 7   MARKET CAP(₹ Cr)    2000 non-null   float64\n",
      " 8   YEAR                2000 non-null   int64  \n",
      "dtypes: float64(3), int64(4), object(2)\n",
      "memory usage: 156.2+ KB\n"
     ]
    }
   ],
   "source": [
    "economic_times.info()"
   ]
  },
  {
   "attachments": {},
   "cell_type": "markdown",
   "metadata": {},
   "source": [
    "<font size = \"5\" face = \"Times New Roman\">**Revealing any missing values in the dataset**</font>"
   ]
  },
  {
   "cell_type": "code",
   "execution_count": 330,
   "metadata": {},
   "outputs": [
    {
     "data": {
      "text/plain": [
       "RANK                    0\n",
       "PREVIOUS YEAR RANK      0\n",
       "COMPANY NAME            0\n",
       "REVENUE(₹ Cr)           0\n",
       "REVENUE CHANGE        479\n",
       "PAT IN CRORES           0\n",
       "PAT CHANGE            843\n",
       "MARKET CAP(₹ Cr)        0\n",
       "YEAR                    0\n",
       "dtype: int64"
      ]
     },
     "execution_count": 330,
     "metadata": {},
     "output_type": "execute_result"
    }
   ],
   "source": [
    "economic_times.isnull().sum()"
   ]
  },
  {
   "attachments": {},
   "cell_type": "markdown",
   "metadata": {},
   "source": [
    "<font size = \"5\"  face = \"Times New Roman\">**Dropping columns which have missing values**</font>"
   ]
  },
  {
   "cell_type": "code",
   "execution_count": 331,
   "metadata": {},
   "outputs": [],
   "source": [
    "economic_times.drop([\"REVENUE CHANGE\", \"PAT CHANGE\",\"PREVIOUS YEAR RANK\"], axis= 1, inplace= True)"
   ]
  },
  {
   "attachments": {},
   "cell_type": "markdown",
   "metadata": {},
   "source": [
    "<font size = \"5\"  face = \"Times New Roman\">**Sorting Data in terms of rank**</font>"
   ]
  },
  {
   "cell_type": "code",
   "execution_count": 332,
   "metadata": {},
   "outputs": [],
   "source": [
    "economic_times = economic_times.sort_values(by= \"RANK\")"
   ]
  },
  {
   "attachments": {},
   "cell_type": "markdown",
   "metadata": {},
   "source": [
    "<font size = \"5\"  face = \"Times New Roman\">**Segregation by Marketing Capitalisation**</font>"
   ]
  },
  {
   "cell_type": "code",
   "execution_count": 333,
   "metadata": {},
   "outputs": [
    {
     "data": {
      "text/html": [
       "<div>\n",
       "<style scoped>\n",
       "    .dataframe tbody tr th:only-of-type {\n",
       "        vertical-align: middle;\n",
       "    }\n",
       "\n",
       "    .dataframe tbody tr th {\n",
       "        vertical-align: top;\n",
       "    }\n",
       "\n",
       "    .dataframe thead th {\n",
       "        text-align: right;\n",
       "    }\n",
       "</style>\n",
       "<table border=\"1\" class=\"dataframe\">\n",
       "  <thead>\n",
       "    <tr style=\"text-align: right;\">\n",
       "      <th></th>\n",
       "      <th>RANK</th>\n",
       "      <th>COMPANY NAME</th>\n",
       "      <th>REVENUE(₹ Cr)</th>\n",
       "      <th>PAT IN CRORES</th>\n",
       "      <th>MARKET CAP(₹ Cr)</th>\n",
       "      <th>YEAR</th>\n",
       "    </tr>\n",
       "  </thead>\n",
       "  <tbody>\n",
       "    <tr>\n",
       "      <th>0</th>\n",
       "      <td>1</td>\n",
       "      <td>Reliance Industries Ltd.</td>\n",
       "      <td>505153</td>\n",
       "      <td>53739</td>\n",
       "      <td>1573893.0</td>\n",
       "      <td>2021</td>\n",
       "    </tr>\n",
       "    <tr>\n",
       "      <th>1500</th>\n",
       "      <td>1</td>\n",
       "      <td>Indian Oil Corporation Ltd.</td>\n",
       "      <td>424321</td>\n",
       "      <td>22189</td>\n",
       "      <td>130903.0</td>\n",
       "      <td>2018</td>\n",
       "    </tr>\n",
       "    <tr>\n",
       "      <th>1000</th>\n",
       "      <td>1</td>\n",
       "      <td>Reliance Industries Ltd.</td>\n",
       "      <td>575873</td>\n",
       "      <td>39588</td>\n",
       "      <td>949280.0</td>\n",
       "      <td>2019</td>\n",
       "    </tr>\n",
       "    <tr>\n",
       "      <th>500</th>\n",
       "      <td>1</td>\n",
       "      <td>Reliance Industries Ltd.</td>\n",
       "      <td>610806</td>\n",
       "      <td>39354</td>\n",
       "      <td>1246740.0</td>\n",
       "      <td>2020</td>\n",
       "    </tr>\n",
       "    <tr>\n",
       "      <th>1001</th>\n",
       "      <td>2</td>\n",
       "      <td>Indian Oil Corporation Ltd.</td>\n",
       "      <td>532247</td>\n",
       "      <td>17376</td>\n",
       "      <td>125768.0</td>\n",
       "      <td>2019</td>\n",
       "    </tr>\n",
       "    <tr>\n",
       "      <th>...</th>\n",
       "      <td>...</td>\n",
       "      <td>...</td>\n",
       "      <td>...</td>\n",
       "      <td>...</td>\n",
       "      <td>...</td>\n",
       "      <td>...</td>\n",
       "    </tr>\n",
       "    <tr>\n",
       "      <th>498</th>\n",
       "      <td>499</td>\n",
       "      <td>Ahluwalia Contracts (India) Ltd.</td>\n",
       "      <td>2004</td>\n",
       "      <td>77</td>\n",
       "      <td>2771.0</td>\n",
       "      <td>2021</td>\n",
       "    </tr>\n",
       "    <tr>\n",
       "      <th>999</th>\n",
       "      <td>500</td>\n",
       "      <td>VRL Logistics Ltd.</td>\n",
       "      <td>2128</td>\n",
       "      <td>90</td>\n",
       "      <td>1502.0</td>\n",
       "      <td>2020</td>\n",
       "    </tr>\n",
       "    <tr>\n",
       "      <th>499</th>\n",
       "      <td>500</td>\n",
       "      <td>JBM Auto Ltd.</td>\n",
       "      <td>1994</td>\n",
       "      <td>49</td>\n",
       "      <td>3758.0</td>\n",
       "      <td>2021</td>\n",
       "    </tr>\n",
       "    <tr>\n",
       "      <th>1499</th>\n",
       "      <td>500</td>\n",
       "      <td>Pennar Industries Ltd.</td>\n",
       "      <td>2159</td>\n",
       "      <td>66</td>\n",
       "      <td>433.0</td>\n",
       "      <td>2019</td>\n",
       "    </tr>\n",
       "    <tr>\n",
       "      <th>1999</th>\n",
       "      <td>500</td>\n",
       "      <td>Pfizer Ltd.</td>\n",
       "      <td>2055</td>\n",
       "      <td>360</td>\n",
       "      <td>12860.0</td>\n",
       "      <td>2018</td>\n",
       "    </tr>\n",
       "  </tbody>\n",
       "</table>\n",
       "<p>2000 rows × 6 columns</p>\n",
       "</div>"
      ],
      "text/plain": [
       "      RANK                      COMPANY NAME  REVENUE(₹ Cr)  PAT IN CRORES  \\\n",
       "0        1          Reliance Industries Ltd.         505153          53739   \n",
       "1500     1       Indian Oil Corporation Ltd.         424321          22189   \n",
       "1000     1          Reliance Industries Ltd.         575873          39588   \n",
       "500      1          Reliance Industries Ltd.         610806          39354   \n",
       "1001     2       Indian Oil Corporation Ltd.         532247          17376   \n",
       "...    ...                               ...            ...            ...   \n",
       "498    499  Ahluwalia Contracts (India) Ltd.           2004             77   \n",
       "999    500                VRL Logistics Ltd.           2128             90   \n",
       "499    500                     JBM Auto Ltd.           1994             49   \n",
       "1499   500            Pennar Industries Ltd.           2159             66   \n",
       "1999   500                       Pfizer Ltd.           2055            360   \n",
       "\n",
       "      MARKET CAP(₹ Cr)  YEAR  \n",
       "0            1573893.0  2021  \n",
       "1500          130903.0  2018  \n",
       "1000          949280.0  2019  \n",
       "500          1246740.0  2020  \n",
       "1001          125768.0  2019  \n",
       "...                ...   ...  \n",
       "498             2771.0  2021  \n",
       "999             1502.0  2020  \n",
       "499             3758.0  2021  \n",
       "1499             433.0  2019  \n",
       "1999           12860.0  2018  \n",
       "\n",
       "[2000 rows x 6 columns]"
      ]
     },
     "execution_count": 333,
     "metadata": {},
     "output_type": "execute_result"
    }
   ],
   "source": [
    "economic_times"
   ]
  },
  {
   "cell_type": "code",
   "execution_count": 334,
   "metadata": {},
   "outputs": [],
   "source": [
    "economic_times[\"COMPANY TYPE\"] = pd.cut(economic_times[\"MARKET CAP(₹ Cr)\"],bins = [0,5000,20000,2000000], labels=[\"Small-Cap\",\"Mid-Cap\",\"Large-Cap\"])"
   ]
  },
  {
   "attachments": {},
   "cell_type": "markdown",
   "metadata": {},
   "source": [
    "### <font size = \"5\" face = \"Times New Roman\">**Filtering the data in terms of the years**</font>\n",
    "\n",
    "> <u>**Filtering the data only for 4 years (2018 -2021)**</u>\n",
    "\n",
    "> **The reason for only taking 4 years to compare the companies pre-covid and post covid**"
   ]
  },
  {
   "cell_type": "code",
   "execution_count": 335,
   "metadata": {},
   "outputs": [],
   "source": [
    "\n",
    "df_dict = {}\n",
    "year_objects = economic_times[\"YEAR\"].unique()\n",
    "def filtering_by_year(years,dfs):\n",
    "    '''\n",
    "    Segregating the data by years and resetting the  index\n",
    "    \n",
    "\n",
    "    Returns : Dictionary\n",
    "        keys : Dataframe objects\n",
    "        Values : Dataframe\n",
    " \n",
    "    Parameters\n",
    "    ----------\n",
    "\n",
    "    years : int or array\n",
    "    Advisable to take unique values for years by passing\n",
    "    DataFrame[column_name].unique()\n",
    "\n",
    "    dfs : DataFrame obeject\n",
    "    The DataFrame name on which the operation should be performed\n",
    "    ----------\n",
    "    \n",
    "    '''\n",
    "    \n",
    "    \n",
    "\n",
    "    for i in dfs[years].unique():\n",
    "\n",
    "            df = dfs.loc[dfs[\"YEAR\"] == i].reset_index().drop(\"index\", axis = 1)\n",
    "            df_dict.update({f\"economic_times_{i}\" : df})\n",
    "            \n",
    "         \n",
    "        \n",
    "filtering_by_year(\"YEAR\", economic_times)\n",
    "        "
   ]
  },
  {
   "cell_type": "code",
   "execution_count": 336,
   "metadata": {},
   "outputs": [],
   "source": [
    "def renaming_columns(years = list):\n",
    "    \"\"\"\n",
    "    Renaming columns for easier identification.\n",
    "    looping throug years, renaming columns by year\n",
    "    \n",
    "    Returns : no return value\n",
    "    Updates the data frame \n",
    "\n",
    "    Parameter\n",
    "    ---------\n",
    "    years : list or array\n",
    "\n",
    "    ---------\n",
    "\n",
    "    \"\"\"\n",
    "    for i in years:\n",
    "        if i > 2017:\n",
    "            df_dict[f\"economic_times_{i}\"] = df_dict[f\"economic_times_{i}\"].rename(columns = {\n",
    "                \"RANK\" : f\"RANK {i}\",\n",
    "                \"REVENUE(₹ Cr)\" : f\"{i} REVENUE(₹ Cr)\",\n",
    "                \"PAT IN CRORES\" : f\"{i} PAT IN CRORES\",\n",
    "                \"MARKET CAP(₹ Cr)\" : f\"{i} MARKET CAP(₹ Cr)\",\n",
    "                \"COMPANY TYPE\" : f\"{i} COMPANY TYPE\",\n",
    "                \"YEAR\"  : f\"YEAR {i}\"\n",
    "          \n",
    "            })\n",
    "renaming_columns(year_objects)"
   ]
  },
  {
   "cell_type": "code",
   "execution_count": 337,
   "metadata": {},
   "outputs": [],
   "source": [
    "df_2021_2020 = df_dict[\"economic_times_2021\"].merge(df_dict[\"economic_times_2020\"], on = \"COMPANY NAME\", how = \"inner\")\n",
    "df_2019_2018 = df_dict[\"economic_times_2019\"].merge(df_dict[\"economic_times_2018\"], on = \"COMPANY NAME\", how = \"inner\")\n",
    "df_merged = df_2021_2020.merge(df_2019_2018, on = \"COMPANY NAME\", how= \"inner\")\n",
    "\n",
    "reports = {}\n",
    "reports.update({\"Merged_reports\" : df_merged})"
   ]
  },
  {
   "attachments": {},
   "cell_type": "markdown",
   "metadata": {},
   "source": [
    "### <font size = \"5\"  face = \"Times New Roman\">**Details after merging the dataset**</font>\n",
    "\n",
    "<u>**Only 400 companies have been consistent in making it to ranking system for 4 years with all records available**</u>\n",
    "\n",
    "<u>**More than 200 companies  have been inconsistent with their performance in some years which effected their ranking and which is why  their records haven't been entered in the dataset**</u>\n",
    "\n",
    "<u>The following datasets will have companies who have made it to the ET 500 list since 2019</u>"
   ]
  },
  {
   "cell_type": "code",
   "execution_count": 338,
   "metadata": {},
   "outputs": [
    {
     "name": "stdout",
     "output_type": "stream",
     "text": [
      "The new column entered : 2021 REVENUE(₹ Cr)_%CHANGE\n",
      "The new column entered : 2021 PAT IN CRORES_%CHANGE\n",
      "The new column entered : 2019 REVENUE(₹ Cr)_%CHANGE\n",
      "The new column entered : 2019 PAT IN CRORES_%CHANGE\n",
      "The new column entered : 2020 REVENUE(₹ Cr)_%CHANGE\n",
      "The new column entered : 2020 PAT IN CRORES_%CHANGE\n"
     ]
    }
   ],
   "source": [
    "def percentage_change(df,columns_list,dict_key = str):\n",
    "    \"\"\"\n",
    "    Returns a new column which has the percentage change of column values specified by the user\n",
    "\n",
    "    returns : DataFrame column\n",
    "\n",
    "    Parameters\n",
    "    -----------\n",
    "    df : DataFrame object \n",
    "\n",
    "    columns_list : list object\n",
    "\n",
    "    dict_key : Dictionary key name\n",
    "\n",
    "    \"\"\"\n",
    "    column_names = df.select_dtypes(include=[\"int64\",\"float64\"])[columns_list].columns\n",
    "    for year in year_objects:\n",
    "        for column in column_names:\n",
    "            if year >= 2019:\n",
    "                print(f\"The new column entered : {year} {column}_%CHANGE\")\n",
    "                reports[dict_key][f\"{year} {column}_%CHANGE\"] = (reports[dict_key][f\"{year} {column}\"] - reports[dict_key][f\"{year-1} {column}\"])/reports[dict_key][f\"{year-1} {column}\"]*100\n",
    "            \n",
    "\n",
    "percentage_change(economic_times,[\"REVENUE(₹ Cr)\",\"PAT IN CRORES\"],dict_key= \"Merged_reports\")         \n",
    "        "
   ]
  },
  {
   "cell_type": "code",
   "execution_count": 339,
   "metadata": {},
   "outputs": [
    {
     "name": "stdout",
     "output_type": "stream",
     "text": [
      "Report is created for the year 2021\n",
      "Report is created for the year 2020\n",
      "Report is created for the year 2019\n"
     ]
    }
   ],
   "source": [
    "reporting_years = [2021,2020,2019]\n",
    "def creating_reports(year_objects,dict_key):\n",
    "    \n",
    "    '''\n",
    "    Segregates the merged report into respective years by Dataframe columns\n",
    "    The user can give his input based on the given years in the list\n",
    "     \n",
    "    returns : Dictionary\n",
    "        dictionary key  = Dataframe object\n",
    "        dictionary values = Dataframe \n",
    "\n",
    "    Parameters\n",
    "    ----------\n",
    "    year_objects : list or array\n",
    "\n",
    "    dict_key : str\n",
    "\n",
    "    ----------\n",
    "\n",
    "    '''\n",
    "    global yearly_reports_list\n",
    "    yearly_reports_list = []\n",
    "    columns_list = list(reports[dict_key].columns)\n",
    "    try:  \n",
    "        year_name = int(input(\"Give the year in which you want to create the report\"))\n",
    "    \n",
    "        if year_name not in reporting_years:\n",
    "            sys.exit(\"Invalid\")\n",
    "        for columns in columns_list:\n",
    "            if \"COMPANY NAME\" in columns:\n",
    "                yearly_reports_list.append(columns)\n",
    "            if f\"{year_name}\" in columns:\n",
    "                yearly_reports_list.append(columns)\n",
    "            if f\"YEAR {year_name}\" in yearly_reports_list:\n",
    "                yearly_reports_list.remove(columns)\n",
    "\n",
    "        \n",
    "        df = reports[dict_key][yearly_reports_list]\n",
    "        reports.update({f\"ET_REPORT_{year_name}\" : df}) \n",
    "\n",
    "        print(f\"Report is created for the year {year_name}\")\n",
    "    \n",
    "    except ValueError:\n",
    "        print(\"No input entered\")\n",
    "          \n",
    "           \n",
    "               \n",
    "    \n",
    "    \n",
    "\n",
    "creating_reports(reporting_years,\"Merged_reports\")\n",
    "for i in range(2):\n",
    "    creating_reports(reporting_years,\"Merged_reports\")\n"
   ]
  },
  {
   "cell_type": "code",
   "execution_count": 340,
   "metadata": {},
   "outputs": [
    {
     "data": {
      "text/html": [
       "<div>\n",
       "<style scoped>\n",
       "    .dataframe tbody tr th:only-of-type {\n",
       "        vertical-align: middle;\n",
       "    }\n",
       "\n",
       "    .dataframe tbody tr th {\n",
       "        vertical-align: top;\n",
       "    }\n",
       "\n",
       "    .dataframe thead th {\n",
       "        text-align: right;\n",
       "    }\n",
       "</style>\n",
       "<table border=\"1\" class=\"dataframe\">\n",
       "  <thead>\n",
       "    <tr style=\"text-align: right;\">\n",
       "      <th></th>\n",
       "      <th>COMPANY NAME</th>\n",
       "      <th>RANK 2019</th>\n",
       "      <th>2019 REVENUE(₹ Cr)</th>\n",
       "      <th>2019 PAT IN CRORES</th>\n",
       "      <th>2019 MARKET CAP(₹ Cr)</th>\n",
       "      <th>2019 COMPANY TYPE</th>\n",
       "      <th>2019 REVENUE(₹ Cr)_%CHANGE</th>\n",
       "      <th>2019 PAT IN CRORES_%CHANGE</th>\n",
       "    </tr>\n",
       "  </thead>\n",
       "  <tbody>\n",
       "    <tr>\n",
       "      <th>0</th>\n",
       "      <td>Reliance Industries Ltd.</td>\n",
       "      <td>1</td>\n",
       "      <td>575873</td>\n",
       "      <td>39588</td>\n",
       "      <td>949280.0</td>\n",
       "      <td>Large-Cap</td>\n",
       "      <td>40.355842</td>\n",
       "      <td>9.738046</td>\n",
       "    </tr>\n",
       "    <tr>\n",
       "      <th>1</th>\n",
       "      <td>State Bank of India</td>\n",
       "      <td>4</td>\n",
       "      <td>330687</td>\n",
       "      <td>2299</td>\n",
       "      <td>290140.0</td>\n",
       "      <td>Large-Cap</td>\n",
       "      <td>7.881851</td>\n",
       "      <td>-150.460931</td>\n",
       "    </tr>\n",
       "    <tr>\n",
       "      <th>2</th>\n",
       "      <td>Indian Oil Corporation Ltd.</td>\n",
       "      <td>2</td>\n",
       "      <td>532247</td>\n",
       "      <td>17376</td>\n",
       "      <td>125768.0</td>\n",
       "      <td>Large-Cap</td>\n",
       "      <td>25.434989</td>\n",
       "      <td>-21.690928</td>\n",
       "    </tr>\n",
       "    <tr>\n",
       "      <th>3</th>\n",
       "      <td>Oil And Natural Gas Corporation Ltd.</td>\n",
       "      <td>3</td>\n",
       "      <td>432962</td>\n",
       "      <td>30494</td>\n",
       "      <td>172135.0</td>\n",
       "      <td>Large-Cap</td>\n",
       "      <td>29.962809</td>\n",
       "      <td>37.950690</td>\n",
       "    </tr>\n",
       "    <tr>\n",
       "      <th>4</th>\n",
       "      <td>Rajesh Exports Ltd.</td>\n",
       "      <td>8</td>\n",
       "      <td>175830</td>\n",
       "      <td>1292</td>\n",
       "      <td>20200.0</td>\n",
       "      <td>Large-Cap</td>\n",
       "      <td>-6.347871</td>\n",
       "      <td>2.134387</td>\n",
       "    </tr>\n",
       "  </tbody>\n",
       "</table>\n",
       "</div>"
      ],
      "text/plain": [
       "                           COMPANY NAME  RANK 2019  2019 REVENUE(₹ Cr)  \\\n",
       "0              Reliance Industries Ltd.          1              575873   \n",
       "1                   State Bank of India          4              330687   \n",
       "2           Indian Oil Corporation Ltd.          2              532247   \n",
       "3  Oil And Natural Gas Corporation Ltd.          3              432962   \n",
       "4                   Rajesh Exports Ltd.          8              175830   \n",
       "\n",
       "   2019 PAT IN CRORES  2019 MARKET CAP(₹ Cr) 2019 COMPANY TYPE  \\\n",
       "0               39588               949280.0         Large-Cap   \n",
       "1                2299               290140.0         Large-Cap   \n",
       "2               17376               125768.0         Large-Cap   \n",
       "3               30494               172135.0         Large-Cap   \n",
       "4                1292                20200.0         Large-Cap   \n",
       "\n",
       "   2019 REVENUE(₹ Cr)_%CHANGE  2019 PAT IN CRORES_%CHANGE  \n",
       "0                   40.355842                    9.738046  \n",
       "1                    7.881851                 -150.460931  \n",
       "2                   25.434989                  -21.690928  \n",
       "3                   29.962809                   37.950690  \n",
       "4                   -6.347871                    2.134387  "
      ]
     },
     "execution_count": 340,
     "metadata": {},
     "output_type": "execute_result"
    }
   ],
   "source": [
    "reports[\"ET_REPORT_2019\"].head(5)\n",
    "\n"
   ]
  },
  {
   "cell_type": "code",
   "execution_count": 341,
   "metadata": {},
   "outputs": [
    {
     "data": {
      "text/html": [
       "<div>\n",
       "<style scoped>\n",
       "    .dataframe tbody tr th:only-of-type {\n",
       "        vertical-align: middle;\n",
       "    }\n",
       "\n",
       "    .dataframe tbody tr th {\n",
       "        vertical-align: top;\n",
       "    }\n",
       "\n",
       "    .dataframe thead th {\n",
       "        text-align: right;\n",
       "    }\n",
       "</style>\n",
       "<table border=\"1\" class=\"dataframe\">\n",
       "  <thead>\n",
       "    <tr style=\"text-align: right;\">\n",
       "      <th></th>\n",
       "      <th>COMPANY NAME</th>\n",
       "      <th>RANK 2020</th>\n",
       "      <th>2020 REVENUE(₹ Cr)</th>\n",
       "      <th>2020 PAT IN CRORES</th>\n",
       "      <th>2020 MARKET CAP(₹ Cr)</th>\n",
       "      <th>2020 COMPANY TYPE</th>\n",
       "      <th>2020 REVENUE(₹ Cr)_%CHANGE</th>\n",
       "      <th>2020 PAT IN CRORES_%CHANGE</th>\n",
       "    </tr>\n",
       "  </thead>\n",
       "  <tbody>\n",
       "    <tr>\n",
       "      <th>0</th>\n",
       "      <td>Reliance Industries Ltd.</td>\n",
       "      <td>1</td>\n",
       "      <td>610806</td>\n",
       "      <td>39354</td>\n",
       "      <td>1246740.0</td>\n",
       "      <td>Large-Cap</td>\n",
       "      <td>6.066094</td>\n",
       "      <td>-0.591088</td>\n",
       "    </tr>\n",
       "    <tr>\n",
       "      <th>1</th>\n",
       "      <td>State Bank of India</td>\n",
       "      <td>4</td>\n",
       "      <td>368010</td>\n",
       "      <td>19767</td>\n",
       "      <td>205587.0</td>\n",
       "      <td>Large-Cap</td>\n",
       "      <td>11.286504</td>\n",
       "      <td>759.808612</td>\n",
       "    </tr>\n",
       "    <tr>\n",
       "      <th>2</th>\n",
       "      <td>Indian Oil Corporation Ltd.</td>\n",
       "      <td>2</td>\n",
       "      <td>488518</td>\n",
       "      <td>-893</td>\n",
       "      <td>78565.0</td>\n",
       "      <td>Large-Cap</td>\n",
       "      <td>-8.215922</td>\n",
       "      <td>-105.139273</td>\n",
       "    </tr>\n",
       "    <tr>\n",
       "      <th>3</th>\n",
       "      <td>Oil And Natural Gas Corporation Ltd.</td>\n",
       "      <td>3</td>\n",
       "      <td>406388</td>\n",
       "      <td>10907</td>\n",
       "      <td>90615.0</td>\n",
       "      <td>Large-Cap</td>\n",
       "      <td>-6.137721</td>\n",
       "      <td>-64.232308</td>\n",
       "    </tr>\n",
       "    <tr>\n",
       "      <th>4</th>\n",
       "      <td>Rajesh Exports Ltd.</td>\n",
       "      <td>8</td>\n",
       "      <td>195607</td>\n",
       "      <td>1205</td>\n",
       "      <td>13368.0</td>\n",
       "      <td>Mid-Cap</td>\n",
       "      <td>11.247796</td>\n",
       "      <td>-6.733746</td>\n",
       "    </tr>\n",
       "  </tbody>\n",
       "</table>\n",
       "</div>"
      ],
      "text/plain": [
       "                           COMPANY NAME  RANK 2020  2020 REVENUE(₹ Cr)  \\\n",
       "0              Reliance Industries Ltd.          1              610806   \n",
       "1                   State Bank of India          4              368010   \n",
       "2           Indian Oil Corporation Ltd.          2              488518   \n",
       "3  Oil And Natural Gas Corporation Ltd.          3              406388   \n",
       "4                   Rajesh Exports Ltd.          8              195607   \n",
       "\n",
       "   2020 PAT IN CRORES  2020 MARKET CAP(₹ Cr) 2020 COMPANY TYPE  \\\n",
       "0               39354              1246740.0         Large-Cap   \n",
       "1               19767               205587.0         Large-Cap   \n",
       "2                -893                78565.0         Large-Cap   \n",
       "3               10907                90615.0         Large-Cap   \n",
       "4                1205                13368.0           Mid-Cap   \n",
       "\n",
       "   2020 REVENUE(₹ Cr)_%CHANGE  2020 PAT IN CRORES_%CHANGE  \n",
       "0                    6.066094                   -0.591088  \n",
       "1                   11.286504                  759.808612  \n",
       "2                   -8.215922                 -105.139273  \n",
       "3                   -6.137721                  -64.232308  \n",
       "4                   11.247796                   -6.733746  "
      ]
     },
     "execution_count": 341,
     "metadata": {},
     "output_type": "execute_result"
    }
   ],
   "source": [
    "reports[\"ET_REPORT_2020\"].head(5)"
   ]
  },
  {
   "cell_type": "code",
   "execution_count": 342,
   "metadata": {},
   "outputs": [
    {
     "data": {
      "text/html": [
       "<div>\n",
       "<style scoped>\n",
       "    .dataframe tbody tr th:only-of-type {\n",
       "        vertical-align: middle;\n",
       "    }\n",
       "\n",
       "    .dataframe tbody tr th {\n",
       "        vertical-align: top;\n",
       "    }\n",
       "\n",
       "    .dataframe thead th {\n",
       "        text-align: right;\n",
       "    }\n",
       "</style>\n",
       "<table border=\"1\" class=\"dataframe\">\n",
       "  <thead>\n",
       "    <tr style=\"text-align: right;\">\n",
       "      <th></th>\n",
       "      <th>RANK 2021</th>\n",
       "      <th>COMPANY NAME</th>\n",
       "      <th>2021 REVENUE(₹ Cr)</th>\n",
       "      <th>2021 PAT IN CRORES</th>\n",
       "      <th>2021 MARKET CAP(₹ Cr)</th>\n",
       "      <th>2021 COMPANY TYPE</th>\n",
       "      <th>2021 REVENUE(₹ Cr)_%CHANGE</th>\n",
       "      <th>2021 PAT IN CRORES_%CHANGE</th>\n",
       "    </tr>\n",
       "  </thead>\n",
       "  <tbody>\n",
       "    <tr>\n",
       "      <th>0</th>\n",
       "      <td>1</td>\n",
       "      <td>Reliance Industries Ltd.</td>\n",
       "      <td>505153</td>\n",
       "      <td>53739</td>\n",
       "      <td>1573893.0</td>\n",
       "      <td>Large-Cap</td>\n",
       "      <td>-17.297309</td>\n",
       "      <td>36.552828</td>\n",
       "    </tr>\n",
       "    <tr>\n",
       "      <th>1</th>\n",
       "      <td>2</td>\n",
       "      <td>State Bank of India</td>\n",
       "      <td>385337</td>\n",
       "      <td>24279</td>\n",
       "      <td>448717.0</td>\n",
       "      <td>Large-Cap</td>\n",
       "      <td>4.708296</td>\n",
       "      <td>22.825922</td>\n",
       "    </tr>\n",
       "    <tr>\n",
       "      <th>2</th>\n",
       "      <td>3</td>\n",
       "      <td>Indian Oil Corporation Ltd.</td>\n",
       "      <td>368645</td>\n",
       "      <td>21762</td>\n",
       "      <td>122384.0</td>\n",
       "      <td>Large-Cap</td>\n",
       "      <td>-24.538093</td>\n",
       "      <td>-2536.954087</td>\n",
       "    </tr>\n",
       "    <tr>\n",
       "      <th>3</th>\n",
       "      <td>4</td>\n",
       "      <td>Oil And Natural Gas Corporation Ltd.</td>\n",
       "      <td>315262</td>\n",
       "      <td>21343</td>\n",
       "      <td>191776.0</td>\n",
       "      <td>Large-Cap</td>\n",
       "      <td>-22.423398</td>\n",
       "      <td>95.681672</td>\n",
       "    </tr>\n",
       "    <tr>\n",
       "      <th>4</th>\n",
       "      <td>5</td>\n",
       "      <td>Rajesh Exports Ltd.</td>\n",
       "      <td>258315</td>\n",
       "      <td>845</td>\n",
       "      <td>20169.0</td>\n",
       "      <td>Large-Cap</td>\n",
       "      <td>32.058157</td>\n",
       "      <td>-29.875519</td>\n",
       "    </tr>\n",
       "  </tbody>\n",
       "</table>\n",
       "</div>"
      ],
      "text/plain": [
       "   RANK 2021                          COMPANY NAME  2021 REVENUE(₹ Cr)  \\\n",
       "0          1              Reliance Industries Ltd.              505153   \n",
       "1          2                   State Bank of India              385337   \n",
       "2          3           Indian Oil Corporation Ltd.              368645   \n",
       "3          4  Oil And Natural Gas Corporation Ltd.              315262   \n",
       "4          5                   Rajesh Exports Ltd.              258315   \n",
       "\n",
       "   2021 PAT IN CRORES  2021 MARKET CAP(₹ Cr) 2021 COMPANY TYPE  \\\n",
       "0               53739              1573893.0         Large-Cap   \n",
       "1               24279               448717.0         Large-Cap   \n",
       "2               21762               122384.0         Large-Cap   \n",
       "3               21343               191776.0         Large-Cap   \n",
       "4                 845                20169.0         Large-Cap   \n",
       "\n",
       "   2021 REVENUE(₹ Cr)_%CHANGE  2021 PAT IN CRORES_%CHANGE  \n",
       "0                  -17.297309                   36.552828  \n",
       "1                    4.708296                   22.825922  \n",
       "2                  -24.538093                -2536.954087  \n",
       "3                  -22.423398                   95.681672  \n",
       "4                   32.058157                  -29.875519  "
      ]
     },
     "execution_count": 342,
     "metadata": {},
     "output_type": "execute_result"
    }
   ],
   "source": [
    "reports[\"ET_REPORT_2021\"].head(5)"
   ]
  },
  {
   "attachments": {},
   "cell_type": "markdown",
   "metadata": {},
   "source": [
    "### <font size = \"5\"  face = \"Times New Roman\">**Categorising companies based growth percentages in Revenue and Profit after tax**</font>\n",
    "\n",
    "> If Revenue and PAT % change is in the range of `negative infinity` to `0` then <font color = \"orange\"><b>NEGATIVE</b></font>\n",
    "\n",
    "> If Revenue and PAT % change is in the range of `0` to `15` then <font color = \"orange\"><b>LOW</b></font>\n",
    "\n",
    "> If Revenue and PAT % change is in the range of `15` to `50` then <font color = \"orange\"><b>MODERATE</b></font>\n",
    "\n",
    "> If Revenue and PAT % change is in the range of `50` to `100` then <font color = \"orange\"><b>HIGH</b></font>\n",
    "\n",
    "> If Revenue and PAT % change is in the range of `100` to `positive infinity` then <font color = \"orange\"><b>EXCELLENT</b></font>"
   ]
  },
  {
   "cell_type": "code",
   "execution_count": 343,
   "metadata": {},
   "outputs": [],
   "source": [
    "import math\n",
    "def pct_change_category():\n",
    "    for year in year_objects:\n",
    "        if year >= 2019:\n",
    "            reports[f\"ET_REPORT_{year}\"][f\"{year}_PAT% CATEGORY\"] = pd.cut(reports[f\"ET_REPORT_{year}\"][f\"{year} PAT IN CRORES_%CHANGE\"], bins=(-math.inf,0,15,50,100,math.inf),labels=[\"NEGATIVE\",\"LOW\",\"MODERATE\",\"HIGH\",\"EXCELLENT\"])\n",
    "            reports[f\"ET_REPORT_{year}\"][f\"{year}_REVENUE% CATEGORY\"] = pd.cut(reports[f\"ET_REPORT_{year}\"][f\"{year} REVENUE(₹ Cr)_%CHANGE\"], bins=(-math.inf,0,15,50,100,math.inf),labels=[\"NEGATIVE\",\"LOW\",\"MODERATE\",\"HIGH\",\"EXCELLENT\"])\n",
    "        \n",
    "\n",
    "pct_change_category()\n",
    "\n",
    "        "
   ]
  },
  {
   "attachments": {},
   "cell_type": "markdown",
   "metadata": {},
   "source": [
    "### <font size = \"5\"  face = \"Times New Roman\">**Rearranging columns**</font>"
   ]
  },
  {
   "cell_type": "code",
   "execution_count": 344,
   "metadata": {},
   "outputs": [],
   "source": [
    "\n",
    "for year in year_objects:\n",
    "    if year > 2018:\n",
    "       newcols =[f'RANK {year}', f'COMPANY NAME', f'{year} REVENUE(₹ Cr)', f'{year} REVENUE(₹ Cr)_%CHANGE',f\"{year}_REVENUE% CATEGORY\", f'{year} PAT IN CRORES',\n",
    "       f'{year} PAT IN CRORES_%CHANGE',f\"{year}_PAT% CATEGORY\",f'{year} MARKET CAP(₹ Cr)', f'{year} COMPANY TYPE',]\n",
    "       reports[f\"ET_REPORT_{year}\"] = reports[f\"ET_REPORT_{year}\"].reindex(columns=newcols)"
   ]
  },
  {
   "attachments": {},
   "cell_type": "markdown",
   "metadata": {},
   "source": [
    "<font size = \"5\"  face = \"Times New Roman\">**Count of Companies by Growth percentages in Revenue and Profit after tax for 2019**</font>"
   ]
  },
  {
   "cell_type": "code",
   "execution_count": 345,
   "metadata": {},
   "outputs": [
    {
     "data": {
      "image/png": "[encoded data removed]",
      "text/plain": [
       "<Figure size 1440x576 with 1 Axes>"
      ]
     },
     "metadata": {
      "needs_background": "light"
     },
     "output_type": "display_data"
    }
   ],
   "source": [
    "pd.DataFrame(reports[\"ET_REPORT_2019\"][[\"2019_REVENUE% CATEGORY\",\"2019_PAT% CATEGORY\"]]).value_counts().plot(kind = \"barh\", figsize = (20,8), color = \"r\")\n",
    "plt.ylabel(\"(2019_REVENUE% CATEGORY , 2019_PAT% CATEGORY)\")\n",
    "for i,v in enumerate(reports[\"ET_REPORT_2019\"][[\"2019_REVENUE% CATEGORY\",\"2019_PAT% CATEGORY\"]].value_counts()):\n",
    "    plt.text(v,i,str(v))\n"
   ]
  },
  {
   "cell_type": "code",
   "execution_count": 346,
   "metadata": {},
   "outputs": [
    {
     "data": {
      "text/html": [
       "<div>\n",
       "<style scoped>\n",
       "    .dataframe tbody tr th:only-of-type {\n",
       "        vertical-align: middle;\n",
       "    }\n",
       "\n",
       "    .dataframe tbody tr th {\n",
       "        vertical-align: top;\n",
       "    }\n",
       "\n",
       "    .dataframe thead th {\n",
       "        text-align: right;\n",
       "    }\n",
       "</style>\n",
       "<table border=\"1\" class=\"dataframe\">\n",
       "  <thead>\n",
       "    <tr style=\"text-align: right;\">\n",
       "      <th></th>\n",
       "      <th>RANK 2019</th>\n",
       "      <th>COMPANY NAME</th>\n",
       "      <th>2019 REVENUE(₹ Cr)</th>\n",
       "      <th>2019 REVENUE(₹ Cr)_%CHANGE</th>\n",
       "      <th>2019_REVENUE% CATEGORY</th>\n",
       "      <th>2019 PAT IN CRORES</th>\n",
       "      <th>2019 PAT IN CRORES_%CHANGE</th>\n",
       "      <th>2019_PAT% CATEGORY</th>\n",
       "      <th>2019 MARKET CAP(₹ Cr)</th>\n",
       "      <th>2019 COMPANY TYPE</th>\n",
       "    </tr>\n",
       "  </thead>\n",
       "  <tbody>\n",
       "    <tr>\n",
       "      <th>385</th>\n",
       "      <td>187</td>\n",
       "      <td>Graphite India Ltd.</td>\n",
       "      <td>8067</td>\n",
       "      <td>141.093843</td>\n",
       "      <td>EXCELLENT</td>\n",
       "      <td>3395</td>\n",
       "      <td>228.972868</td>\n",
       "      <td>EXCELLENT</td>\n",
       "      <td>5995.0</td>\n",
       "      <td>Mid-Cap</td>\n",
       "    </tr>\n",
       "  </tbody>\n",
       "</table>\n",
       "</div>"
      ],
      "text/plain": [
       "     RANK 2019         COMPANY NAME  2019 REVENUE(₹ Cr)  \\\n",
       "385        187  Graphite India Ltd.                8067   \n",
       "\n",
       "     2019 REVENUE(₹ Cr)_%CHANGE 2019_REVENUE% CATEGORY  2019 PAT IN CRORES  \\\n",
       "385                  141.093843              EXCELLENT                3395   \n",
       "\n",
       "     2019 PAT IN CRORES_%CHANGE 2019_PAT% CATEGORY  2019 MARKET CAP(₹ Cr)  \\\n",
       "385                  228.972868          EXCELLENT                 5995.0   \n",
       "\n",
       "    2019 COMPANY TYPE  \n",
       "385           Mid-Cap  "
      ]
     },
     "execution_count": 346,
     "metadata": {},
     "output_type": "execute_result"
    }
   ],
   "source": [
    "reports[\"ET_REPORT_2019\"][(reports[\"ET_REPORT_2019\"][\"2019_REVENUE% CATEGORY\"] == \"EXCELLENT\") & (reports[\"ET_REPORT_2019\"][\"2019_PAT% CATEGORY\"] == \"EXCELLENT\")]"
   ]
  },
  {
   "attachments": {},
   "cell_type": "markdown",
   "metadata": {},
   "source": [
    "<font size = \"5\"  face = \"Times New Roman\">**Count of Companies by Growth percentages in Revenue and Profit after tax for 2020**</font>"
   ]
  },
  {
   "cell_type": "code",
   "execution_count": 347,
   "metadata": {},
   "outputs": [
    {
     "data": {
      "image/png": "[encoded data removed]",
      "text/plain": [
       "<Figure size 1440x576 with 1 Axes>"
      ]
     },
     "metadata": {
      "needs_background": "light"
     },
     "output_type": "display_data"
    }
   ],
   "source": [
    "pd.DataFrame(reports[\"ET_REPORT_2020\"][[\"2020_REVENUE% CATEGORY\",\"2020_PAT% CATEGORY\"]]).value_counts().plot(kind = \"barh\" ,figsize = (20,8), color = \"b\")\n",
    "plt.ylabel(\"(2020_REVENUE% CATEGORY , 2020_PAT% CATEGORY)\")\n",
    "for i,v in enumerate(reports[\"ET_REPORT_2020\"][[\"2020_REVENUE% CATEGORY\",\"2020_PAT% CATEGORY\"]].value_counts()):\n",
    "    plt.text(v,i,str(v))"
   ]
  },
  {
   "attachments": {},
   "cell_type": "markdown",
   "metadata": {},
   "source": [
    "<font size = \"5\"  face = \"Times New Roman\">**Count of Companies by  Growth percentages in Revenue and Profit after tax for 2021**</font>"
   ]
  },
  {
   "cell_type": "code",
   "execution_count": 348,
   "metadata": {},
   "outputs": [
    {
     "data": {
      "image/png": "[encoded data removed]",
      "text/plain": [
       "<Figure size 1440x576 with 1 Axes>"
      ]
     },
     "metadata": {
      "needs_background": "light"
     },
     "output_type": "display_data"
    }
   ],
   "source": [
    "pd.DataFrame(reports[\"ET_REPORT_2021\"][[\"2021_REVENUE% CATEGORY\",\"2021_PAT% CATEGORY\"]]).value_counts().plot(kind = \"barh\", figsize = (20,8), color = \"g\")\n",
    "plt.ylabel(\"(2021_REVENUE% CATEGORY , 2021_PAT% CATEGORY)\")\n",
    "for i,v in enumerate(reports[\"ET_REPORT_2021\"][[\"2021_REVENUE% CATEGORY\",\"2021_PAT% CATEGORY\"]].value_counts()):\n",
    "    plt.text(v,i,str(v))"
   ]
  },
  {
   "cell_type": "code",
   "execution_count": 349,
   "metadata": {},
   "outputs": [
    {
     "data": {
      "text/html": [
       "<div>\n",
       "<style scoped>\n",
       "    .dataframe tbody tr th:only-of-type {\n",
       "        vertical-align: middle;\n",
       "    }\n",
       "\n",
       "    .dataframe tbody tr th {\n",
       "        vertical-align: top;\n",
       "    }\n",
       "\n",
       "    .dataframe thead th {\n",
       "        text-align: right;\n",
       "    }\n",
       "</style>\n",
       "<table border=\"1\" class=\"dataframe\">\n",
       "  <thead>\n",
       "    <tr style=\"text-align: right;\">\n",
       "      <th></th>\n",
       "      <th>RANK 2021</th>\n",
       "      <th>COMPANY NAME</th>\n",
       "      <th>2021 REVENUE(₹ Cr)</th>\n",
       "      <th>2021 REVENUE(₹ Cr)_%CHANGE</th>\n",
       "      <th>2021_REVENUE% CATEGORY</th>\n",
       "      <th>2021 PAT IN CRORES</th>\n",
       "      <th>2021 PAT IN CRORES_%CHANGE</th>\n",
       "      <th>2021_PAT% CATEGORY</th>\n",
       "      <th>2021 MARKET CAP(₹ Cr)</th>\n",
       "      <th>2021 COMPANY TYPE</th>\n",
       "    </tr>\n",
       "  </thead>\n",
       "  <tbody>\n",
       "    <tr>\n",
       "      <th>175</th>\n",
       "      <td>185</td>\n",
       "      <td>Hindustan Construction Company Ltd.</td>\n",
       "      <td>8400</td>\n",
       "      <td>109.633142</td>\n",
       "      <td>EXCELLENT</td>\n",
       "      <td>-610</td>\n",
       "      <td>263.095238</td>\n",
       "      <td>EXCELLENT</td>\n",
       "      <td>1493.0</td>\n",
       "      <td>Small-Cap</td>\n",
       "    </tr>\n",
       "  </tbody>\n",
       "</table>\n",
       "</div>"
      ],
      "text/plain": [
       "     RANK 2021                         COMPANY NAME  2021 REVENUE(₹ Cr)  \\\n",
       "175        185  Hindustan Construction Company Ltd.                8400   \n",
       "\n",
       "     2021 REVENUE(₹ Cr)_%CHANGE 2021_REVENUE% CATEGORY  2021 PAT IN CRORES  \\\n",
       "175                  109.633142              EXCELLENT                -610   \n",
       "\n",
       "     2021 PAT IN CRORES_%CHANGE 2021_PAT% CATEGORY  2021 MARKET CAP(₹ Cr)  \\\n",
       "175                  263.095238          EXCELLENT                 1493.0   \n",
       "\n",
       "    2021 COMPANY TYPE  \n",
       "175         Small-Cap  "
      ]
     },
     "execution_count": 349,
     "metadata": {},
     "output_type": "execute_result"
    }
   ],
   "source": [
    "reports[\"ET_REPORT_2021\"][(reports[\"ET_REPORT_2021\"][\"2021_REVENUE% CATEGORY\"] == \"EXCELLENT\") & (reports[\"ET_REPORT_2021\"][\"2021_PAT% CATEGORY\"] == \"EXCELLENT\")]"
   ]
  },
  {
   "attachments": {},
   "cell_type": "markdown",
   "metadata": {},
   "source": [
    "\n",
    "<font color = \"orange\" size = 4>KEY HIGHLIGHTS</font>\n",
    "\n",
    "1.  <b>`Graphite India Ltd.` has achieved Excellent growth in 2019</b>\n",
    "\n",
    "2.  <b>There are no commpanes that have achieved Excellent growth in 2020</b>\n",
    "\n",
    "3.  <b>`Hindustan Construction Company Ltd.` has achieved Excellent growth in 2021</b>\n",
    "\n"
   ]
  },
  {
   "attachments": {},
   "cell_type": "markdown",
   "metadata": {},
   "source": [
    "***"
   ]
  },
  {
   "attachments": {},
   "cell_type": "markdown",
   "metadata": {},
   "source": [
    "### <font size = \"5\"  face = \"Times New Roman\">**Categorising companies based on their performance from 2019**</font>\n",
    "\n",
    "> Loss in the previous year and profit in the current year will be labeled as <font color = \"orange\"><b>LP</b></font>\n",
    "\n",
    "> Profit in the current year and loss in the previous year <font color = \"orange\"><b>PL</b></font>\n",
    "\n",
    "> Loss in both the years <font color = \"orange\"><b>LL</b></font>"
   ]
  },
  {
   "cell_type": "code",
   "execution_count": 350,
   "metadata": {},
   "outputs": [],
   "source": [
    "Merged_reports = reports[\"Merged_reports\"] "
   ]
  },
  {
   "cell_type": "code",
   "execution_count": 351,
   "metadata": {},
   "outputs": [],
   "source": [
    "def PL_status_2021(row):  \n",
    "    if row[\"2021 PAT IN CRORES\"] >  row[\"2020 PAT IN CRORES\"]:\n",
    "        return \"LP\" \n",
    "    elif row[\"2020 PAT IN CRORES\"] >  row[\"2021 PAT IN CRORES\"]:\n",
    "        return \"PL\" \n",
    "    elif row[\"2021 PAT IN CRORES\"] < row[\"2020 PAT IN CRORES\"] < row[\"2019 PAT IN CRORES\"]:\n",
    "        return \"LL\" "
   ]
  },
  {
   "cell_type": "code",
   "execution_count": 352,
   "metadata": {},
   "outputs": [],
   "source": [
    "Merged_reports[\"P/L_STATUS_2021\"] =  Merged_reports.apply(lambda row : PL_status_2021(row), axis = 1) "
   ]
  },
  {
   "attachments": {},
   "cell_type": "markdown",
   "metadata": {},
   "source": [
    "<font size = \"5\"  face = \"Times New Roman\">**Profit & Loss Status for the year 2021**</font>"
   ]
  },
  {
   "cell_type": "code",
   "execution_count": 353,
   "metadata": {},
   "outputs": [
    {
     "data": {
      "text/plain": [
       "LP    260\n",
       "PL    139\n",
       "Name: P/L_STATUS_2021, dtype: int64"
      ]
     },
     "execution_count": 353,
     "metadata": {},
     "output_type": "execute_result"
    }
   ],
   "source": [
    "Merged_reports[\"P/L_STATUS_2021\"].value_counts()"
   ]
  },
  {
   "cell_type": "code",
   "execution_count": 354,
   "metadata": {},
   "outputs": [
    {
     "data": {
      "text/plain": [
       "Text(0, 0.5, '2021 P/L STATUS')"
      ]
     },
     "execution_count": 354,
     "metadata": {},
     "output_type": "execute_result"
    },
    {
     "data": {
      "image/png": "[encoded data removed]",
      "text/plain": [
       "<Figure size 720x360 with 1 Axes>"
      ]
     },
     "metadata": {},
     "output_type": "display_data"
    }
   ],
   "source": [
    "Merged_reports[\"P/L_STATUS_2021\"].value_counts()\n",
    "Merged_reports[\"P/L_STATUS_2021\"].value_counts().plot(kind = \"pie\" ,textprops = dict(color =\"r\"), legend = True, shadow = True, figsize = (10,5))\n",
    "plt.ylabel(\"2021 P/L STATUS\", size = 10, c = 'r')\n"
   ]
  },
  {
   "attachments": {},
   "cell_type": "markdown",
   "metadata": {},
   "source": [
    "> <font color = \"orange\" size = 4 > There are no Companies that have incurred losses in 2019 and 2020</font>"
   ]
  },
  {
   "attachments": {},
   "cell_type": "markdown",
   "metadata": {},
   "source": [
    "****"
   ]
  },
  {
   "attachments": {},
   "cell_type": "markdown",
   "metadata": {},
   "source": [
    "<font size = \"5\" face = \"Times New Roman\">**Top 10 Companies with Highest Average Revenue from 2019-2021**</font>"
   ]
  },
  {
   "cell_type": "code",
   "execution_count": 355,
   "metadata": {},
   "outputs": [
    {
     "name": "stdout",
     "output_type": "stream",
     "text": [
      "                                      AVERAGE REVENUE(₹ Cr)  \\\n",
      "COMPANY NAME                                                  \n",
      "Reliance Industries Ltd.                             563944   \n",
      "Indian Oil Corporation Ltd.                          463136   \n",
      "Oil And Natural Gas Corporation Ltd.                 384870   \n",
      "State Bank of India                                  361344   \n",
      "Bharat Petroleum Corporation Ltd.                    275594   \n",
      "Tata Motors Ltd.                                     274571   \n",
      "Hindustan Petroleum Corporation Ltd.                 261539   \n",
      "Rajesh Exports Ltd.                                  209917   \n",
      "Tata Consultancy Services Ltd.                       159875   \n",
      "Tata Steel Ltd.                                      153155   \n",
      "\n",
      "                                      AVERAGE PAT IN CRORES  \n",
      "COMPANY NAME                                                 \n",
      "Reliance Industries Ltd.                       44227.000000  \n",
      "Indian Oil Corporation Ltd.                    12748.333333  \n",
      "Oil And Natural Gas Corporation Ltd.           20914.666667  \n",
      "State Bank of India                            15448.333333  \n",
      "Bharat Petroleum Corporation Ltd.               9392.000000  \n",
      "Tata Motors Ltd.                              -17970.666667  \n",
      "Hindustan Petroleum Corporation Ltd.            6663.333333  \n",
      "Rajesh Exports Ltd.                             1114.000000  \n",
      "Tata Consultancy Services Ltd.                 32124.666667  \n",
      "Tata Steel Ltd.                                 6654.333333  \n"
     ]
    },
    {
     "data": {
      "image/png": "[encoded data removed]",
      "text/plain": [
       "<Figure size 1440x576 with 1 Axes>"
      ]
     },
     "metadata": {
      "needs_background": "light"
     },
     "output_type": "display_data"
    }
   ],
   "source": [
    "ET_aggregate = economic_times[economic_times[\"YEAR\"] > 2018]\n",
    "ET_top_10_revenue = ET_aggregate.pivot_table(index= [\"COMPANY NAME\"],aggfunc= np.mean, margins= True)[[\"REVENUE(₹ Cr)\",\"PAT IN CRORES\"]].nlargest(10,[\"REVENUE(₹ Cr)\"])\n",
    "\n",
    "ET_top_10_revenue[\"REVENUE(₹ Cr)\"] = ET_top_10_revenue[\"REVENUE(₹ Cr)\"].astype(\"int\")\n",
    "\n",
    "ET_top_10_revenue = ET_top_10_revenue.rename(columns={\n",
    "         \"REVENUE(₹ Cr)\" : \"AVERAGE REVENUE(₹ Cr)\",\n",
    "         \"PAT IN CRORES\"  : \"AVERAGE PAT IN CRORES\"\n",
    "})\n",
    "\n",
    "print(ET_top_10_revenue)\n",
    "\n",
    "ET_top_10_revenue.plot(kind= \"bar\", figsize = (20,8))\n",
    "for i,v in enumerate(ET_top_10_revenue[\"AVERAGE REVENUE(₹ Cr)\"]):\n",
    "    plt.text(i,v, str(v), ha = \"center\")"
   ]
  },
  {
   "attachments": {},
   "cell_type": "markdown",
   "metadata": {},
   "source": [
    "<font size = \"5\"  face = \"Times New Roman\">**Top 10 Companies with Highest Average PAT from 2019-2021**</font>"
   ]
  },
  {
   "cell_type": "code",
   "execution_count": 356,
   "metadata": {},
   "outputs": [
    {
     "name": "stdout",
     "output_type": "stream",
     "text": [
      "                                              AVERAGE REVENUE(₹ Cr)  \\\n",
      "COMPANY NAME                                                          \n",
      "Reliance Industries Ltd.                              563944.000000   \n",
      "Tata Consultancy Services Ltd.                        159875.333333   \n",
      "HDFC Bank Ltd.                                        142353.333333   \n",
      "Oil And Natural Gas Corporation Ltd.                  384870.666667   \n",
      "Housing Development Finance Corporation Ltd.          119039.333333   \n",
      "Infosys Ltd.                                           93941.333333   \n",
      "Coal India Ltd.                                       116376.666667   \n",
      "State Bank of India                                   361344.666667   \n",
      "ITC Ltd.                                               51484.333333   \n",
      "NTPC Ltd.                                             111402.666667   \n",
      "\n",
      "                                              AVERAGE PAT IN CRORES  \n",
      "COMPANY NAME                                                         \n",
      "Reliance Industries Ltd.                                      44227  \n",
      "Tata Consultancy Services Ltd.                                32124  \n",
      "HDFC Bank Ltd.                                                27147  \n",
      "Oil And Natural Gas Corporation Ltd.                          20914  \n",
      "Housing Development Finance Corporation Ltd.                  19384  \n",
      "Infosys Ltd.                                                  17140  \n",
      "Coal India Ltd.                                               15625  \n",
      "State Bank of India                                           15448  \n",
      "ITC Ltd.                                                      13760  \n",
      "NTPC Ltd.                                                     13069  \n"
     ]
    },
    {
     "data": {
      "image/png": "[encoded data removed]",
      "text/plain": [
       "<Figure size 1440x576 with 1 Axes>"
      ]
     },
     "metadata": {
      "needs_background": "light"
     },
     "output_type": "display_data"
    }
   ],
   "source": [
    "ET_top_10_PAT = ET_aggregate.pivot_table(index= [\"COMPANY NAME\"],aggfunc= np.mean, margins= True)[[\"REVENUE(₹ Cr)\",\"PAT IN CRORES\"]].nlargest(10,[\"PAT IN CRORES\"])\n",
    "\n",
    "ET_top_10_PAT[\"PAT IN CRORES\"] = ET_top_10_PAT[\"PAT IN CRORES\"].astype(\"int\")\n",
    "\n",
    "ET_top_10_PAT = ET_top_10_PAT.rename(columns={\n",
    "         \"REVENUE(₹ Cr)\" : \"AVERAGE REVENUE(₹ Cr)\",\n",
    "         \"PAT IN CRORES\"  : \"AVERAGE PAT IN CRORES\"\n",
    "})\n",
    "\n",
    "print(ET_top_10_PAT)\n",
    "\n",
    "ET_top_10_PAT.plot(kind= \"bar\", figsize = (20,8))\n",
    "for i,v in enumerate(ET_top_10_PAT[\"AVERAGE PAT IN CRORES\"]):\n",
    "    plt.text(i,v, str(v))"
   ]
  },
  {
   "attachments": {},
   "cell_type": "markdown",
   "metadata": {},
   "source": [
    "<font color = \"orange\" size = 4 >COMPANIES WHICH HAVE APPEARED IN THE TOP 10 HIGHEST AVERAGE REVENUE AND PAT</font>\n",
    "\n",
    "1. <b>Reliance Industries Ltd.</b>\n",
    "\n",
    "2. <b>Tata Consultancy Services Ltd.</b>\n",
    "\n",
    "3. <b>Oil And Natural Gas Corporation Ltd.</b>\n",
    "\t\n",
    "4. <b>State Bank of India</b>\n",
    "\n"
   ]
  },
  {
   "cell_type": "markdown",
   "metadata": {},
   "source": [
    "***"
   ]
  },
  {
   "attachments": {},
   "cell_type": "markdown",
   "metadata": {},
   "source": [
    "<font size = \"5\"  face = \"Times New Roman\">**Number of Companies by Company Type**</font>"
   ]
  },
  {
   "cell_type": "code",
   "execution_count": 357,
   "metadata": {},
   "outputs": [
    {
     "data": {
      "image/png": "[encoded data removed]",
      "text/plain": [
       "<Figure size 1440x720 with 3 Axes>"
      ]
     },
     "metadata": {},
     "output_type": "display_data"
    }
   ],
   "source": [
    "fig,ax = plt.subplots(1,3, figsize = (20,10), facecolor = \"w\")\n",
    "font1 = {\"family\" : \"Times New Roman\", \"color\" : \"k\"}\n",
    "fig.suptitle(\"GRAPHICAL REPRESENTATION OF COMPANY TYPE FOR EACH YEAR\",fontdict = font1, fontsize = 25)\n",
    "\n",
    "ax1 = plt.subplot2grid(shape = (18,4),loc = (0,0),colspan= 4, rowspan= 3)\n",
    "ax2 = plt.subplot2grid(shape = (18,4),loc = (6,0),colspan= 4, rowspan= 3)\n",
    "ax3 = plt.subplot2grid(shape = (18,4),loc = (12,0),colspan= 4, rowspan= 3)\n",
    "\n",
    "ax1.barh(reports[\"ET_REPORT_2019\"][\"2019 COMPANY TYPE\"].unique(),reports[\"ET_REPORT_2019\"][\"2019 COMPANY TYPE\"].value_counts(), color = \"r\")\n",
    "ax1.set_xlabel(\"NO. OF COMPANIES\", fontsize = 10, c = \"brown\")\n",
    "ax1.set_ylabel(\"COMPANY TYPE\",fontsize = 10, c = \"brown\")\n",
    "ax1.set_yticks(reports[\"ET_REPORT_2019\"][\"2019 COMPANY TYPE\"].unique())\n",
    "ax1.set_yticklabels(reports[\"ET_REPORT_2019\"][\"2019 COMPANY TYPE\"].unique(), c= \"k\")\n",
    "ax1.set_title(\"2019\",fontsize = 20, c = \"y\")\n",
    "\n",
    "for i, v in enumerate(reports[\"ET_REPORT_2019\"][\"2019 COMPANY TYPE\"].value_counts()):\n",
    "    ax1.text(v, i, str(f\"{v}\"),\n",
    "            color = 'brown', fontweight = 'bold', fontsize = 10, ha = \"left\")\n",
    "\n",
    "ax2.barh(reports[\"ET_REPORT_2020\"][\"2020 COMPANY TYPE\"].unique(),reports[\"ET_REPORT_2020\"][\"2020 COMPANY TYPE\"].value_counts(), color = \"b\")\n",
    "ax2.set_xlabel(\"NO. OF COMPANIES\", fontsize = 10, c = \"brown\")\n",
    "ax2.set_ylabel(\"COMPANY TYPE\",fontsize = 10, c = \"brown\")\n",
    "ax2.set_yticks(reports[\"ET_REPORT_2020\"][\"2020 COMPANY TYPE\"].unique())\n",
    "ax2.set_yticklabels(reports[\"ET_REPORT_2020\"][\"2020 COMPANY TYPE\"].unique(), c = \"k\")\n",
    "\n",
    "ax2.set_title(\"2020\",fontsize = 20, c = \"y\")\n",
    "\n",
    "for i, v in enumerate(reports[\"ET_REPORT_2020\"][\"2020 COMPANY TYPE\"].value_counts()):\n",
    "    ax2.text(v, i, str(f\"{v}\"),\n",
    "            color = 'brown', fontweight = 'bold', fontsize = 10, ha = \"left\")\n",
    "\n",
    "ax3.barh(reports[\"ET_REPORT_2021\"][\"2021 COMPANY TYPE\"].unique(),reports[\"ET_REPORT_2021\"][\"2021 COMPANY TYPE\"].value_counts(), color = \"g\")\n",
    "ax3.set_xlabel(\"NO. OF COMPANIES\", fontsize = 10, c = \"brown\")\n",
    "ax3.set_ylabel(\"COMPANY TYPE\",fontsize = 10, c = \"brown\")\n",
    "ax3.set_yticks(reports[\"ET_REPORT_2021\"][\"2021 COMPANY TYPE\"].unique())\n",
    "ax3.set_yticklabels(reports[\"ET_REPORT_2021\"][\"2021 COMPANY TYPE\"].unique(), c = \"k\")\n",
    "ax3.set_title(\"2021\",fontsize = 20, c = \"y\")\n",
    "\n",
    "for i, v in enumerate(reports[\"ET_REPORT_2021\"][\"2021 COMPANY TYPE\"].value_counts()):\n",
    "    ax3.text(v, i, str(f\"{v}\"),\n",
    "            color = 'brown', fontweight = 'bold', fontsize = 10, ha = \"left\")"
   ]
  },
  {
   "attachments": {},
   "cell_type": "markdown",
   "metadata": {},
   "source": [
    "\n",
    "<font color = \"orange\" size = 4>KEY HIGHLIGHTS</font>\n",
    "\n",
    "1.  <b>Number of Large-Cap companies in 2020 fell by 3.42%</b>\n",
    "\n",
    "2.  <b>Number of Large-Cap companies increased by 27.39% in 2021</b>\n"
   ]
  },
  {
   "attachments": {},
   "cell_type": "markdown",
   "metadata": {},
   "source": [
    "***"
   ]
  },
  {
   "attachments": {},
   "cell_type": "markdown",
   "metadata": {},
   "source": [
    "<font size = \"5\"  face = \"Times New Roman\">**Top 10 Companies by Market Capitalisation**</font>"
   ]
  },
  {
   "cell_type": "code",
   "execution_count": 358,
   "metadata": {},
   "outputs": [
    {
     "data": {
      "image/png": "[encoded data removed]",
      "text/plain": [
       "<Figure size 1440x360 with 1 Axes>"
      ]
     },
     "metadata": {
      "needs_background": "light"
     },
     "output_type": "display_data"
    }
   ],
   "source": [
    "reports[\"ET_REPORT_2019\"].nlargest(10,\"2019 MARKET CAP(₹ Cr)\")[[\"COMPANY NAME\", \"2019 MARKET CAP(₹ Cr)\"]].set_index(\"COMPANY NAME\").plot(kind=\"barh\",figsize = (20,5), color = \"r\")\n",
    "for i,v in enumerate(reports[\"ET_REPORT_2019\"].nlargest(10,\"2019 MARKET CAP(₹ Cr)\")[\"2019 MARKET CAP(₹ Cr)\"]):\n",
    "    plt.text(v,i,str(v), ha =\"left\")"
   ]
  },
  {
   "cell_type": "code",
   "execution_count": 359,
   "metadata": {},
   "outputs": [
    {
     "data": {
      "image/png": "[encoded data removed]",
      "text/plain": [
       "<Figure size 1440x360 with 1 Axes>"
      ]
     },
     "metadata": {
      "needs_background": "light"
     },
     "output_type": "display_data"
    }
   ],
   "source": [
    "reports[\"ET_REPORT_2020\"].nlargest(10,\"2020 MARKET CAP(₹ Cr)\")[[\"COMPANY NAME\", \"2020 MARKET CAP(₹ Cr)\"]].set_index(\"COMPANY NAME\").plot(kind=\"barh\",figsize = (20,5), color= \"b\")\n",
    "for i,v in enumerate(reports[\"ET_REPORT_2020\"].nlargest(10,\"2020 MARKET CAP(₹ Cr)\")[\"2020 MARKET CAP(₹ Cr)\"]):\n",
    "    plt.text(v,i,str(v), ha =\"left\")"
   ]
  },
  {
   "cell_type": "code",
   "execution_count": 360,
   "metadata": {},
   "outputs": [
    {
     "data": {
      "image/png": "[encoded data removed]",
      "text/plain": [
       "<Figure size 1440x360 with 1 Axes>"
      ]
     },
     "metadata": {
      "needs_background": "light"
     },
     "output_type": "display_data"
    }
   ],
   "source": [
    "reports[\"ET_REPORT_2021\"].nlargest(10,\"2021 MARKET CAP(₹ Cr)\")[[\"COMPANY NAME\", \"2021 MARKET CAP(₹ Cr)\"]].set_index(\"COMPANY NAME\").plot(kind=\"barh\",figsize = (20,5), color= \"g\")\n",
    "for i,v in enumerate(reports[\"ET_REPORT_2021\"].nlargest(10,\"2021 MARKET CAP(₹ Cr)\")[\"2021 MARKET CAP(₹ Cr)\"]):\n",
    "    plt.text(v,i,str(v), ha =\"left\")"
   ]
  },
  {
   "attachments": {},
   "cell_type": "markdown",
   "metadata": {},
   "source": [
    "\n",
    "<font color = \"orange\" size = 4>KEY HIGHLIGHTS</font>\n",
    "\n",
    "1.  <b>Reliance,Tata Consultancy Services and HDFC Bank held their respective positions for all  3 years</b>\n",
    "\n",
    "2.  <b>State bank of India  didn't make the top 10 list in 2020</b>\n",
    "\n",
    "3.  <b>Hindustan Unilever maintained its position in 2019 and 2020 but fell in 2021</b>\n",
    "\n",
    "4.  <b>Other companies who stayed in the top 10 list for all 3 years despite their shift in positions</b>\n",
    "    \n",
    "       4.1  <b>Infosys Ltd.</b>\n",
    "\n",
    "       4.2  <b>ICICI Bank Ltd.</b>\n",
    "\n",
    "       4.3  <b>Housing Development Finance Corporation Ltd. </b>"
   ]
  },
  {
   "cell_type": "markdown",
   "metadata": {},
   "source": [
    "***"
   ]
  },
  {
   "attachments": {},
   "cell_type": "markdown",
   "metadata": {},
   "source": [
    "<font size = \"5\"  face = \"Times New Roman\">**Modifying and Saving files to upload to Tableau public for an interactive dashboard**</font>"
   ]
  },
  {
   "cell_type": "code",
   "execution_count": 361,
   "metadata": {},
   "outputs": [],
   "source": [
    "\n",
    "for year in year_objects:\n",
    "    if year > 2018:\n",
    "        reports[f\"ET_REPORT_{year}\"].columns = ['RANK ', 'COMPANY NAME', 'REVENUE(₹ Cr)', 'REVENUE(₹ Cr)_%CHANGE',\"REVENUE% CATEGORY\", 'PAT IN CRORES',\n",
    "       'PAT IN CRORES_%CHANGE',\"PAT% CATEGORY\",'MARKET CAP(₹ Cr)', 'COMPANY TYPE']"
   ]
  },
  {
   "cell_type": "code",
   "execution_count": 362,
   "metadata": {},
   "outputs": [],
   "source": [
    "for year in year_objects:\n",
    "    if year > 2018:\n",
    "        reports[f\"ET_REPORT_{year}\"][\"YEAR\"] = year"
   ]
  },
  {
   "cell_type": "code",
   "execution_count": 365,
   "metadata": {},
   "outputs": [
    {
     "data": {
      "text/html": [
       "<div>\n",
       "<style scoped>\n",
       "    .dataframe tbody tr th:only-of-type {\n",
       "        vertical-align: middle;\n",
       "    }\n",
       "\n",
       "    .dataframe tbody tr th {\n",
       "        vertical-align: top;\n",
       "    }\n",
       "\n",
       "    .dataframe thead th {\n",
       "        text-align: right;\n",
       "    }\n",
       "</style>\n",
       "<table border=\"1\" class=\"dataframe\">\n",
       "  <thead>\n",
       "    <tr style=\"text-align: right;\">\n",
       "      <th></th>\n",
       "      <th>RANK</th>\n",
       "      <th>COMPANY NAME</th>\n",
       "      <th>REVENUE(₹ Cr)</th>\n",
       "      <th>REVENUE(₹ Cr)_%CHANGE</th>\n",
       "      <th>REVENUE% CATEGORY</th>\n",
       "      <th>PAT IN CRORES</th>\n",
       "      <th>PAT IN CRORES_%CHANGE</th>\n",
       "      <th>PAT% CATEGORY</th>\n",
       "      <th>MARKET CAP(₹ Cr)</th>\n",
       "      <th>COMPANY TYPE</th>\n",
       "      <th>YEAR</th>\n",
       "    </tr>\n",
       "  </thead>\n",
       "  <tbody>\n",
       "    <tr>\n",
       "      <th>0</th>\n",
       "      <td>1</td>\n",
       "      <td>Reliance Industries Ltd.</td>\n",
       "      <td>575873</td>\n",
       "      <td>40.355842</td>\n",
       "      <td>MODERATE</td>\n",
       "      <td>39588</td>\n",
       "      <td>9.738046</td>\n",
       "      <td>LOW</td>\n",
       "      <td>949280.0</td>\n",
       "      <td>Large-Cap</td>\n",
       "      <td>2019</td>\n",
       "    </tr>\n",
       "    <tr>\n",
       "      <th>1</th>\n",
       "      <td>4</td>\n",
       "      <td>State Bank of India</td>\n",
       "      <td>330687</td>\n",
       "      <td>7.881851</td>\n",
       "      <td>LOW</td>\n",
       "      <td>2299</td>\n",
       "      <td>-150.460931</td>\n",
       "      <td>NEGATIVE</td>\n",
       "      <td>290140.0</td>\n",
       "      <td>Large-Cap</td>\n",
       "      <td>2019</td>\n",
       "    </tr>\n",
       "    <tr>\n",
       "      <th>2</th>\n",
       "      <td>2</td>\n",
       "      <td>Indian Oil Corporation Ltd.</td>\n",
       "      <td>532247</td>\n",
       "      <td>25.434989</td>\n",
       "      <td>MODERATE</td>\n",
       "      <td>17376</td>\n",
       "      <td>-21.690928</td>\n",
       "      <td>NEGATIVE</td>\n",
       "      <td>125768.0</td>\n",
       "      <td>Large-Cap</td>\n",
       "      <td>2019</td>\n",
       "    </tr>\n",
       "    <tr>\n",
       "      <th>3</th>\n",
       "      <td>3</td>\n",
       "      <td>Oil And Natural Gas Corporation Ltd.</td>\n",
       "      <td>432962</td>\n",
       "      <td>29.962809</td>\n",
       "      <td>MODERATE</td>\n",
       "      <td>30494</td>\n",
       "      <td>37.950690</td>\n",
       "      <td>MODERATE</td>\n",
       "      <td>172135.0</td>\n",
       "      <td>Large-Cap</td>\n",
       "      <td>2019</td>\n",
       "    </tr>\n",
       "    <tr>\n",
       "      <th>4</th>\n",
       "      <td>8</td>\n",
       "      <td>Rajesh Exports Ltd.</td>\n",
       "      <td>175830</td>\n",
       "      <td>-6.347871</td>\n",
       "      <td>NEGATIVE</td>\n",
       "      <td>1292</td>\n",
       "      <td>2.134387</td>\n",
       "      <td>LOW</td>\n",
       "      <td>20200.0</td>\n",
       "      <td>Large-Cap</td>\n",
       "      <td>2019</td>\n",
       "    </tr>\n",
       "    <tr>\n",
       "      <th>...</th>\n",
       "      <td>...</td>\n",
       "      <td>...</td>\n",
       "      <td>...</td>\n",
       "      <td>...</td>\n",
       "      <td>...</td>\n",
       "      <td>...</td>\n",
       "      <td>...</td>\n",
       "      <td>...</td>\n",
       "      <td>...</td>\n",
       "      <td>...</td>\n",
       "      <td>...</td>\n",
       "    </tr>\n",
       "    <tr>\n",
       "      <th>1195</th>\n",
       "      <td>482</td>\n",
       "      <td>IFCI Ltd.</td>\n",
       "      <td>2096</td>\n",
       "      <td>-7.420495</td>\n",
       "      <td>NEGATIVE</td>\n",
       "      <td>-1911</td>\n",
       "      <td>589.891697</td>\n",
       "      <td>EXCELLENT</td>\n",
       "      <td>2522.0</td>\n",
       "      <td>Small-Cap</td>\n",
       "      <td>2021</td>\n",
       "    </tr>\n",
       "    <tr>\n",
       "      <th>1196</th>\n",
       "      <td>486</td>\n",
       "      <td>Rane Holdings Ltd.</td>\n",
       "      <td>2080</td>\n",
       "      <td>-6.893465</td>\n",
       "      <td>NEGATIVE</td>\n",
       "      <td>-60</td>\n",
       "      <td>2900.000000</td>\n",
       "      <td>EXCELLENT</td>\n",
       "      <td>863.0</td>\n",
       "      <td>Small-Cap</td>\n",
       "      <td>2021</td>\n",
       "    </tr>\n",
       "    <tr>\n",
       "      <th>1197</th>\n",
       "      <td>491</td>\n",
       "      <td>Shankara Building Products Ltd.</td>\n",
       "      <td>2044</td>\n",
       "      <td>-22.692890</td>\n",
       "      <td>NEGATIVE</td>\n",
       "      <td>13</td>\n",
       "      <td>-66.666667</td>\n",
       "      <td>NEGATIVE</td>\n",
       "      <td>1290.0</td>\n",
       "      <td>Small-Cap</td>\n",
       "      <td>2021</td>\n",
       "    </tr>\n",
       "    <tr>\n",
       "      <th>1198</th>\n",
       "      <td>495</td>\n",
       "      <td>Force Motors Ltd.</td>\n",
       "      <td>2013</td>\n",
       "      <td>-35.542747</td>\n",
       "      <td>NEGATIVE</td>\n",
       "      <td>-123</td>\n",
       "      <td>-346.000000</td>\n",
       "      <td>NEGATIVE</td>\n",
       "      <td>1976.0</td>\n",
       "      <td>Small-Cap</td>\n",
       "      <td>2021</td>\n",
       "    </tr>\n",
       "    <tr>\n",
       "      <th>1199</th>\n",
       "      <td>497</td>\n",
       "      <td>Bharat Dynamics Ltd.</td>\n",
       "      <td>2008</td>\n",
       "      <td>-37.464964</td>\n",
       "      <td>NEGATIVE</td>\n",
       "      <td>257</td>\n",
       "      <td>-51.872659</td>\n",
       "      <td>NEGATIVE</td>\n",
       "      <td>7612.0</td>\n",
       "      <td>Mid-Cap</td>\n",
       "      <td>2021</td>\n",
       "    </tr>\n",
       "  </tbody>\n",
       "</table>\n",
       "<p>1200 rows × 11 columns</p>\n",
       "</div>"
      ],
      "text/plain": [
       "      RANK                           COMPANY NAME  REVENUE(₹ Cr)  \\\n",
       "0         1              Reliance Industries Ltd.         575873   \n",
       "1         4                   State Bank of India         330687   \n",
       "2         2           Indian Oil Corporation Ltd.         532247   \n",
       "3         3  Oil And Natural Gas Corporation Ltd.         432962   \n",
       "4         8                   Rajesh Exports Ltd.         175830   \n",
       "...     ...                                   ...            ...   \n",
       "1195    482                             IFCI Ltd.           2096   \n",
       "1196    486                    Rane Holdings Ltd.           2080   \n",
       "1197    491       Shankara Building Products Ltd.           2044   \n",
       "1198    495                     Force Motors Ltd.           2013   \n",
       "1199    497                  Bharat Dynamics Ltd.           2008   \n",
       "\n",
       "      REVENUE(₹ Cr)_%CHANGE REVENUE% CATEGORY  PAT IN CRORES  \\\n",
       "0                 40.355842          MODERATE          39588   \n",
       "1                  7.881851               LOW           2299   \n",
       "2                 25.434989          MODERATE          17376   \n",
       "3                 29.962809          MODERATE          30494   \n",
       "4                 -6.347871          NEGATIVE           1292   \n",
       "...                     ...               ...            ...   \n",
       "1195              -7.420495          NEGATIVE          -1911   \n",
       "1196              -6.893465          NEGATIVE            -60   \n",
       "1197             -22.692890          NEGATIVE             13   \n",
       "1198             -35.542747          NEGATIVE           -123   \n",
       "1199             -37.464964          NEGATIVE            257   \n",
       "\n",
       "      PAT IN CRORES_%CHANGE PAT% CATEGORY  MARKET CAP(₹ Cr) COMPANY TYPE  YEAR  \n",
       "0                  9.738046           LOW          949280.0    Large-Cap  2019  \n",
       "1               -150.460931      NEGATIVE          290140.0    Large-Cap  2019  \n",
       "2                -21.690928      NEGATIVE          125768.0    Large-Cap  2019  \n",
       "3                 37.950690      MODERATE          172135.0    Large-Cap  2019  \n",
       "4                  2.134387           LOW           20200.0    Large-Cap  2019  \n",
       "...                     ...           ...               ...          ...   ...  \n",
       "1195             589.891697     EXCELLENT            2522.0    Small-Cap  2021  \n",
       "1196            2900.000000     EXCELLENT             863.0    Small-Cap  2021  \n",
       "1197             -66.666667      NEGATIVE            1290.0    Small-Cap  2021  \n",
       "1198            -346.000000      NEGATIVE            1976.0    Small-Cap  2021  \n",
       "1199             -51.872659      NEGATIVE            7612.0      Mid-Cap  2021  \n",
       "\n",
       "[1200 rows x 11 columns]"
      ]
     },
     "execution_count": 365,
     "metadata": {},
     "output_type": "execute_result"
    }
   ],
   "source": [
    "Final_report = pd.concat([reports[\"ET_REPORT_2019\"],reports[\"ET_REPORT_2020\"],reports[\"ET_REPORT_2021\"]]).reset_index().drop(\"index\", axis = 1)\n",
    "Final_report"
   ]
  },
  {
   "cell_type": "code",
   "execution_count": 364,
   "metadata": {},
   "outputs": [],
   "source": [
    "from pathlib import Path\n",
    "output_file = 'Final report.xlsx'\n",
    "output_dir = Path('C:/Users/leste/OneDrive/Desktop/Python files/mypythonprogrammes/Mydatafiles')\n",
    "\n",
    "output_dir.mkdir(parents=True, exist_ok=True)\n",
    "Final_report.to_excel(output_dir / output_file, sheet_name = \"Final Report\" )\n",
    "     "
   ]
  },
  {
   "attachments": {},
   "cell_type": "markdown",
   "metadata": {},
   "source": [
    "[Interactive dashboard](https://public.tableau.com/shared/BYY37WRM4?:display_count=n&:origin=viz_share_link)"
   ]
  }
 ],
 "metadata": {
  "kernelspec": {
   "display_name": "Python 3.9.12 ('base')",
   "language": "python",
   "name": "python3"
  },
  "language_info": {
   "codemirror_mode": {
    "name": "ipython",
    "version": 3
   },
   "file_extension": ".py",
   "mimetype": "text/x-python",
   "name": "python",
   "nbconvert_exporter": "python",
   "pygments_lexer": "ipython3",
   "version": "3.9.15"
  },
  "orig_nbformat": 4,
  "vscode": {
   "interpreter": {
    "hash": "4195ac55b1039ea2cba7172c0e5d96a7cf0ce118c8fecb7e1bc9c7c887f2d96f"
   }
  }
 },
 "nbformat": 4,
 "nbformat_minor": 2
}
